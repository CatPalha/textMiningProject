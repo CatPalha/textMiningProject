{
 "cells": [
  {
   "cell_type": "code",
   "execution_count": 1,
   "metadata": {},
   "outputs": [],
   "source": [
    "from pathlib import Path\n",
    "import pandas as pd\n",
    "import re\n",
    "import nltk\n",
    "from nltk.corpus import stopwords\n",
    "from nltk.stem.wordnet import WordNetLemmatizer\n",
    "from nltk.stem import SnowballStemmer\n",
    "from bs4 import BeautifulSoup\n",
    "from unidecode import unidecode\n",
    "from tqdm import tqdm_notebook as tqdm"
   ]
  },
  {
   "cell_type": "code",
   "execution_count": 2,
   "metadata": {},
   "outputs": [],
   "source": [
    "def load_corpus(filename):\n",
    "    corpus = Path(filename).read_text(encoding=\"utf8\")\n",
    "    return corpus"
   ]
  },
  {
   "cell_type": "code",
   "execution_count": 3,
   "metadata": {},
   "outputs": [],
   "source": [
    "def load_corpora(filelist,author):\n",
    "    files = []\n",
    "    for file in filelist:\n",
    "        location = \"Corpora/train/\"+file\n",
    "        corpus = load_corpus(location)\n",
    "        files.append(corpus)\n",
    "    df = pd.DataFrame(files, columns=['Text'])\n",
    "    df['Author'] = pd.Series([author for x in range(len(df.index))], index=df.index)\n",
    "    return df"
   ]
  },
  {
   "cell_type": "code",
   "execution_count": 4,
   "metadata": {},
   "outputs": [],
   "source": [
    "train_set_almada = [\n",
    "    'AlmadaNegreiros/pg22615.txt',\n",
    "    'AlmadaNegreiros/pg22730.txt',\n",
    "    'AlmadaNegreiros/pg22801.txt',\n",
    "    'AlmadaNegreiros/pg22802.txt',\n",
    "    'AlmadaNegreiros/pg22969.txt',\n",
    "    'AlmadaNegreiros/pg23133.txt',\n",
    "    'AlmadaNegreiros/pg23620.txt',\n",
    "    'AlmadaNegreiros/pg23879.txt',\n",
    "    'AlmadaNegreiros/pg23961.txt'\n",
    "]"
   ]
  },
  {
   "cell_type": "code",
   "execution_count": 5,
   "metadata": {},
   "outputs": [
    {
     "data": {
      "text/plain": [
       "(9, 2)"
      ]
     },
     "execution_count": 5,
     "metadata": {},
     "output_type": "execute_result"
    }
   ],
   "source": [
    "corpora_almada = load_corpora(train_set_almada, 'Almada Negreiros')\n",
    "corpora_almada.shape"
   ]
  },
  {
   "cell_type": "code",
   "execution_count": 6,
   "metadata": {
    "scrolled": true
   },
   "outputs": [
    {
     "data": {
      "text/plain": [
       "(20, 2)"
      ]
     },
     "execution_count": 6,
     "metadata": {},
     "output_type": "execute_result"
    }
   ],
   "source": [
    "train_set_camilo = [\n",
    "    'CamiloCasteloBranco/24691-0.txt',\n",
    "    'CamiloCasteloBranco/34756-0.txt',\n",
    "    'CamiloCasteloBranco/pg16425.txt',\n",
    "    'CamiloCasteloBranco/pg17927.txt',\n",
    "    'CamiloCasteloBranco/pg19375.txt',\n",
    "    'CamiloCasteloBranco/pg21406.txt',\n",
    "    'CamiloCasteloBranco/pg23203.txt',\n",
    "    'CamiloCasteloBranco/pg23345.txt',\n",
    "    'CamiloCasteloBranco/pg23346.txt',\n",
    "    'CamiloCasteloBranco/pg24339.txt',\n",
    "    'CamiloCasteloBranco/pg25844.txt',\n",
    "    'CamiloCasteloBranco/pg26017.txt',\n",
    "    'CamiloCasteloBranco/pg26103.txt',\n",
    "    'CamiloCasteloBranco/pg26110.txt',\n",
    "    'CamiloCasteloBranco/pg26988.txt',\n",
    "    'CamiloCasteloBranco/pg27364.txt',\n",
    "    'CamiloCasteloBranco/pg27541.txt',\n",
    "    'CamiloCasteloBranco/pg28310.txt',\n",
    "    'CamiloCasteloBranco/pg31694.txt',\n",
    "    'CamiloCasteloBranco/pg33788.txt',\n",
    "]\n",
    "\n",
    "corpora_camilo = load_corpora(train_set_camilo, 'Camilo Castelo Branco')\n",
    "corpora_camilo.shape"
   ]
  },
  {
   "cell_type": "code",
   "execution_count": 7,
   "metadata": {},
   "outputs": [
    {
     "data": {
      "text/plain": [
       "(5, 2)"
      ]
     },
     "execution_count": 7,
     "metadata": {},
     "output_type": "execute_result"
    }
   ],
   "source": [
    "train_set_eca = [\n",
    "    'EcaDeQueiros/pg18220.txt',\n",
    "    'EcaDeQueiros/pg25641.txt',\n",
    "    'EcaDeQueiros/pg27637.txt',\n",
    "    'EcaDeQueiros/pg31347.txt',\n",
    "    'EcaDeQueiros/pg40409.txt'\n",
    "]\n",
    "\n",
    "corpora_eca = load_corpora(train_set_eca, 'Eca de Queiros')\n",
    "corpora_eca.shape"
   ]
  },
  {
   "cell_type": "code",
   "execution_count": 8,
   "metadata": {},
   "outputs": [
    {
     "data": {
      "text/plain": [
       "(8, 2)"
      ]
     },
     "execution_count": 8,
     "metadata": {},
     "output_type": "execute_result"
    }
   ],
   "source": [
    "train_set_rodrigues_santos = [\n",
    "    'JoseRodriguesSantos/A Filha Do Capitao - Jose Rodrigues dos Santos.txt',\n",
    "    'JoseRodriguesSantos/A Formula De Deus - Jose Rodrigues dos Santos.txt',\n",
    "    'JoseRodriguesSantos/A Mao do Diabo - Jose Rodrigues dos Santos.txt',\n",
    "    'JoseRodriguesSantos/A Vida Num Sopro - Jose Rodrigues dos Santos.txt',\n",
    "    'JoseRodriguesSantos/Furia Divina - Jose Rodrigues dos Santos.txt',\n",
    "    'JoseRodriguesSantos/O Anjo Branco - Jose Rodrigues dos Santos.txt',\n",
    "    'JoseRodriguesSantos/O Setimo Selo - Jose Rodrigues dos Santos.txt',\n",
    "    'JoseRodriguesSantos/O ultimo Segredo - Jose Rodrigues dos Santos.txt'\n",
    "]\n",
    "\n",
    "corpora_rodrigues_santos = load_corpora(train_set_rodrigues_santos, 'Jose Rodrigues dos Santos')\n",
    "corpora_rodrigues_santos.shape"
   ]
  },
  {
   "cell_type": "code",
   "execution_count": 9,
   "metadata": {},
   "outputs": [
    {
     "data": {
      "text/plain": [
       "(12, 2)"
      ]
     },
     "execution_count": 9,
     "metadata": {},
     "output_type": "execute_result"
    }
   ],
   "source": [
    "train_set_saramago = [\n",
    "    'JoseSaramago/A Caverna - Jose Saramago.txt',\n",
    "    'JoseSaramago/As Intermitencias da Morte - Jose Saramago.txt',\n",
    "    'JoseSaramago/Caim - Jose Saramago.txt',\n",
    "    'JoseSaramago/Claraboia - Jose Saramago.txt',\n",
    "    'JoseSaramago/Ensaio Sobre a Cegueira - Jose Saramago.txt',\n",
    "    'JoseSaramago/Historia Do Cerco De Lisboa - Jose Saramago.txt',\n",
    "    'JoseSaramago/Memorial Do Convento - Jose Saramago.txt',\n",
    "    'JoseSaramago/O Ano Da Morte De Ricardo Reis - Jose Saramago.txt',\n",
    "    'JoseSaramago/O Conto Da Ilha Desconhecida - Jose Saramago.txt',\n",
    "    'JoseSaramago/O Homem Duplicado - Jose Saramago.txt',\n",
    "    'JoseSaramago/Terra Do Pecado - Jose Saramago.txt',\n",
    "    'JoseSaramago/Viagem Do Elefante - Jose Saramago.txt'\n",
    "]\n",
    "\n",
    "corpora_saramago = load_corpora(train_set_saramago, 'Jose Saramago')\n",
    "corpora_saramago.shape"
   ]
  },
  {
   "cell_type": "code",
   "execution_count": 10,
   "metadata": {},
   "outputs": [
    {
     "data": {
      "text/plain": [
       "(9, 2)"
      ]
     },
     "execution_count": 10,
     "metadata": {},
     "output_type": "execute_result"
    }
   ],
   "source": [
    "train_set_luisa = [\n",
    "    'LuisaMarquesSilva/ABelaHistoria.txt',\n",
    "    'LuisaMarquesSilva/acabouSe.txt',\n",
    "    'LuisaMarquesSilva/Botão.txt',\n",
    "    'LuisaMarquesSilva/controlz.txt',\n",
    "    'LuisaMarquesSilva/emedo.txt',\n",
    "    'LuisaMarquesSilva/Lisboa2050.txt',\n",
    "    'LuisaMarquesSilva/passeioInferno.txt',\n",
    "    'LuisaMarquesSilva/rapsodiasemdo.txt',\n",
    "    'LuisaMarquesSilva/UltimaHistoria.txt'\n",
    "]\n",
    "\n",
    "corpora_luisa = load_corpora(train_set_luisa, 'Luisa Marques Silva')\n",
    "corpora_luisa.shape"
   ]
  },
  {
   "cell_type": "code",
   "execution_count": 11,
   "metadata": {
    "scrolled": true
   },
   "outputs": [
    {
     "data": {
      "text/plain": [
       "(63, 2)"
      ]
     },
     "execution_count": 11,
     "metadata": {},
     "output_type": "execute_result"
    }
   ],
   "source": [
    "corpora = pd.concat([corpora_almada, corpora_camilo, corpora_eca, corpora_rodrigues_santos, corpora_saramago, corpora_luisa]).reset_index(drop = True)\n",
    "corpora.shape"
   ]
  },
  {
   "cell_type": "code",
   "execution_count": 12,
   "metadata": {},
   "outputs": [],
   "source": [
    "def preprocessing(dataframe):\n",
    "    processed_corpus = []\n",
    "    \n",
    "    stop_words_pt = set(stopwords.words(\"portuguese\", \"english\"))\n",
    "    \n",
    "    for i in tqdm(range(len(dataframe))):\n",
    "        text = dataframe['Text'][i]\n",
    "        \n",
    "        #Remove accents\n",
    "        text = unidecode(text)\n",
    "        \n",
    "        #Remove specific punctuations\n",
    "        #rep = {'\\n':' ','#':'','+':'','-':' ','_':'','<':'','>':'','=':'','*':'','\\\\':'','|':'','~':'','[':'',']':'',\n",
    "               #\"'\":' ','\"':'','  ':' '}\n",
    "        #remove punctuation \n",
    "        text = re.sub('[^a-zA-Z]', ' ', text) \n",
    "\n",
    "        #for i,j in rep.items():\n",
    "            #text = text.replace(i,j)\n",
    "        \n",
    "        #Convert to lowercase\n",
    "        text = text.lower()\n",
    "\n",
    "        #remove tags\n",
    "        text = BeautifulSoup(text).get_text()\n",
    "        \n",
    "        # Convert to list from string\n",
    "        text = text.split()\n",
    "\n",
    "        #Lemmatisation\n",
    "        lem = WordNetLemmatizer()\n",
    "        text = [lem.lemmatize(word) for word in text if not word in stop_words_pt]\n",
    "        #print(text)\n",
    "        #text_2 = [lem.lemmatize(word) for word in text if not word in stop_words_pt] \n",
    "        text = \" \".join(text)\n",
    "        \n",
    "        #text_2 = [lem.lemmatize(word) for word in text if not word in stop_words_pt]\n",
    "        #text = \" \".join(text_2)\n",
    "        #print(text)\n",
    "        processed_corpus.append(text)\n",
    "    return processed_corpus"
   ]
  },
  {
   "cell_type": "code",
   "execution_count": 13,
   "metadata": {
    "scrolled": true
   },
   "outputs": [
    {
     "data": {
      "application/vnd.jupyter.widget-view+json": {
       "model_id": "d1551a3fac3c40a987694b1dce2b6e07",
       "version_major": 2,
       "version_minor": 0
      },
      "text/plain": [
       "HBox(children=(IntProgress(value=0, max=63), HTML(value='')))"
      ]
     },
     "metadata": {},
     "output_type": "display_data"
    },
    {
     "name": "stdout",
     "output_type": "stream",
     "text": [
      "\n"
     ]
    }
   ],
   "source": [
    "cleaned_corpora = preprocessing(corpora)"
   ]
  },
  {
   "cell_type": "code",
   "execution_count": 14,
   "metadata": {
    "scrolled": true
   },
   "outputs": [
    {
     "data": {
      "text/html": [
       "<div>\n",
       "<style scoped>\n",
       "    .dataframe tbody tr th:only-of-type {\n",
       "        vertical-align: middle;\n",
       "    }\n",
       "\n",
       "    .dataframe tbody tr th {\n",
       "        vertical-align: top;\n",
       "    }\n",
       "\n",
       "    .dataframe thead th {\n",
       "        text-align: right;\n",
       "    }\n",
       "</style>\n",
       "<table border=\"1\" class=\"dataframe\">\n",
       "  <thead>\n",
       "    <tr style=\"text-align: right;\">\n",
       "      <th></th>\n",
       "      <th>Text</th>\n",
       "      <th>Author</th>\n",
       "      <th>Clean Text</th>\n",
       "    </tr>\n",
       "  </thead>\n",
       "  <tbody>\n",
       "    <tr>\n",
       "      <th>0</th>\n",
       "      <td>Title: A Scena do Odio\\n\\nAuthor: José de Alma...</td>\n",
       "      <td>Almada Negreiros</td>\n",
       "      <td>title scena odio author jose almada negreiros ...</td>\n",
       "    </tr>\n",
       "    <tr>\n",
       "      <th>1</th>\n",
       "      <td>Title: O Jardim da Pierrette\\n\\nAuthor: José d...</td>\n",
       "      <td>Almada Negreiros</td>\n",
       "      <td>title jardim pierrette author jose almada negr...</td>\n",
       "    </tr>\n",
       "    <tr>\n",
       "      <th>2</th>\n",
       "      <td>\\n\\nTitle: A Invenção do Dia Claro\\n\\nAuthor: ...</td>\n",
       "      <td>Almada Negreiros</td>\n",
       "      <td>title invencao dia claro author jose almada ne...</td>\n",
       "    </tr>\n",
       "    <tr>\n",
       "      <th>3</th>\n",
       "      <td>\\nTitle: Litoral\\n       A Amadeo de Souza Car...</td>\n",
       "      <td>Almada Negreiros</td>\n",
       "      <td>title litoral amadeo souza cardozo author jose...</td>\n",
       "    </tr>\n",
       "    <tr>\n",
       "      <th>4</th>\n",
       "      <td>\\n\\n\\nEXPOSIÇÃO\\n\\n+amadeo\\nde souza\\ncardoso+...</td>\n",
       "      <td>Almada Negreiros</td>\n",
       "      <td>exposicao amadeo souza cardoso liga naval lisb...</td>\n",
       "    </tr>\n",
       "    <tr>\n",
       "      <th>5</th>\n",
       "      <td>\\n\\n*JOSÉ DE ALMADA-NEGREIROS*\\n\\n\\n*K4\\n\\no q...</td>\n",
       "      <td>Almada Negreiros</td>\n",
       "      <td>jose almada negreiros k quadrado azul acaba ap...</td>\n",
       "    </tr>\n",
       "    <tr>\n",
       "      <th>6</th>\n",
       "      <td>\\n\\n*\"ORPHEU\"*\\n\\nREVISTA TRIMESTRAL DE LITERA...</td>\n",
       "      <td>Almada Negreiros</td>\n",
       "      <td>orpheu revista trimestral literatura portugal ...</td>\n",
       "    </tr>\n",
       "    <tr>\n",
       "      <th>7</th>\n",
       "      <td>\\n\\n+a ENGOMADEIRA+\\n\\nNOVELA VULGAR LISBOETA\\...</td>\n",
       "      <td>Almada Negreiros</td>\n",
       "      <td>engomadeira novela vulgar lisboeta engomadeira...</td>\n",
       "    </tr>\n",
       "    <tr>\n",
       "      <th>8</th>\n",
       "      <td>\\n+MANIFESTO+\\n\\n+ANTI-DANTAS+\\n\\nE\\n\\nPOR EXT...</td>\n",
       "      <td>Almada Negreiros</td>\n",
       "      <td>manifesto anti dantas extenso jose almada negr...</td>\n",
       "    </tr>\n",
       "    <tr>\n",
       "      <th>9</th>\n",
       "      <td>O vinho do Porto\\n\\nPROCESSO D'UMA BESTIALIDAD...</td>\n",
       "      <td>Camilo Castelo Branco</td>\n",
       "      <td>vinho porto processo d bestialidade ingleza ex...</td>\n",
       "    </tr>\n",
       "    <tr>\n",
       "      <th>10</th>\n",
       "      <td>\\nLIVRO DE CONSOLAÇÃO\\n\\nROMANCE\\n\\nPOR\\n\\nCAM...</td>\n",
       "      <td>Camilo Castelo Branco</td>\n",
       "      <td>livro consolacao romance camillo castello bran...</td>\n",
       "    </tr>\n",
       "    <tr>\n",
       "      <th>11</th>\n",
       "      <td>AMOR DE PERDIÇÃO\\n\\n\\n(MEMORIAS D'UMA FAMILIA)...</td>\n",
       "      <td>Camilo Castelo Branco</td>\n",
       "      <td>amor perdicao memorias d familia romance camil...</td>\n",
       "    </tr>\n",
       "    <tr>\n",
       "      <th>12</th>\n",
       "      <td>A QUEDA D'UM ANJO\\n\\nROMANCE\\n\\nPOR\\n\\nCAMILLO...</td>\n",
       "      <td>Camilo Castelo Branco</td>\n",
       "      <td>queda d anjo romance camillo castello branco l...</td>\n",
       "    </tr>\n",
       "    <tr>\n",
       "      <th>13</th>\n",
       "      <td>\\n\\nA SENHORA RATTAZZI\\n\\nPOR\\n\\nCAMILLO CASTE...</td>\n",
       "      <td>Camilo Castelo Branco</td>\n",
       "      <td>senhora rattazzi camillo castello branco nova ...</td>\n",
       "    </tr>\n",
       "    <tr>\n",
       "      <th>14</th>\n",
       "      <td>\\nOBRAS DE CAMILLO CASTELLO BRANCO\\n\\n_Novella...</td>\n",
       "      <td>Camilo Castelo Branco</td>\n",
       "      <td>obras camillo castello branco novella minho vo...</td>\n",
       "    </tr>\n",
       "    <tr>\n",
       "      <th>15</th>\n",
       "      <td>SCENAS CONTEMPORANEAS\\n\\nPOR\\n\\nCAMILLO CASTEL...</td>\n",
       "      <td>Camilo Castelo Branco</td>\n",
       "      <td>scenas contemporaneas camillo castello branco ...</td>\n",
       "    </tr>\n",
       "    <tr>\n",
       "      <th>16</th>\n",
       "      <td>A GRATIDÃO.\\n\\nROMANCE.\\n\\n\\nI.\\n\\nEstavamos n...</td>\n",
       "      <td>Camilo Castelo Branco</td>\n",
       "      <td>gratidao romance i estavamos ultimos dia dezem...</td>\n",
       "    </tr>\n",
       "    <tr>\n",
       "      <th>17</th>\n",
       "      <td>O ARREPENDIMENTO.\\n\\nROMANCE\\n\\n\\nEm tempos da...</td>\n",
       "      <td>Camilo Castelo Branco</td>\n",
       "      <td>arrependimento romance tempo mocidade costumav...</td>\n",
       "    </tr>\n",
       "    <tr>\n",
       "      <th>18</th>\n",
       "      <td>SUICIDA\\n\\n\\nPORTO Typographia de A. J. da Sil...</td>\n",
       "      <td>Camilo Castelo Branco</td>\n",
       "      <td>suicida porto typographia j silva teixeira can...</td>\n",
       "    </tr>\n",
       "    <tr>\n",
       "      <th>19</th>\n",
       "      <td>VOLTAREIS Ó CHRISTO?\\n\\n\\n\\n\\nPorto Imprensa P...</td>\n",
       "      <td>Camilo Castelo Branco</td>\n",
       "      <td>voltareis christo porto imprensa portugueza bo...</td>\n",
       "    </tr>\n",
       "    <tr>\n",
       "      <th>20</th>\n",
       "      <td>\\nROMANCES NACIONAES\\n\\n\\nO REGICIDA\\n\\nRomanc...</td>\n",
       "      <td>Camilo Castelo Branco</td>\n",
       "      <td>romance nacionaes regicida romance historico c...</td>\n",
       "    </tr>\n",
       "    <tr>\n",
       "      <th>21</th>\n",
       "      <td>ANNOS DE PROSA\\n\\nRomance\\n\\npor\\n\\nCAMILLO CA...</td>\n",
       "      <td>Camilo Castelo Branco</td>\n",
       "      <td>annos prosa romance camillo castello branco gr...</td>\n",
       "    </tr>\n",
       "    <tr>\n",
       "      <th>22</th>\n",
       "      <td>OBRAS\\n\\nDE\\n\\nCAMILLO CASTELLO BRANCO\\n\\nEDIÇ...</td>\n",
       "      <td>Camilo Castelo Branco</td>\n",
       "      <td>obras camillo castello branco edicao popular x...</td>\n",
       "    </tr>\n",
       "    <tr>\n",
       "      <th>23</th>\n",
       "      <td>AMOR DE SALVAÇÃO\\n\\nPOR\\n\\nCAMILLO CASTELLO-BR...</td>\n",
       "      <td>Camilo Castelo Branco</td>\n",
       "      <td>amor salvacao camillo castello branco heavy pr...</td>\n",
       "    </tr>\n",
       "    <tr>\n",
       "      <th>24</th>\n",
       "      <td>A FILHA DO ARCEDIAGO\\n\\nFILHA DO ARCEDIAGO\\n\\n...</td>\n",
       "      <td>Camilo Castelo Branco</td>\n",
       "      <td>filha arcediago filha arcediago camillo castel...</td>\n",
       "    </tr>\n",
       "    <tr>\n",
       "      <th>25</th>\n",
       "      <td>Obras\\n\\nde\\n\\nCamillo Castello Branco\\n\\nEdiç...</td>\n",
       "      <td>Camilo Castelo Branco</td>\n",
       "      <td>obras camillo castello branco edicao popular x...</td>\n",
       "    </tr>\n",
       "    <tr>\n",
       "      <th>26</th>\n",
       "      <td>\\nSCENAS DA FOZ\\n\\nPOR\\n\\nCAMILLO CASTELLO BRA...</td>\n",
       "      <td>Camilo Castelo Branco</td>\n",
       "      <td>scenas foz camillo castello branco solemnia ve...</td>\n",
       "    </tr>\n",
       "    <tr>\n",
       "      <th>27</th>\n",
       "      <td>\\nOBRAS\\n\\nDE\\n\\nCAMILLO CASTELLO BRANCO\\n\\nED...</td>\n",
       "      <td>Camilo Castelo Branco</td>\n",
       "      <td>obras camillo castello branco edicao popular l...</td>\n",
       "    </tr>\n",
       "    <tr>\n",
       "      <th>28</th>\n",
       "      <td>\\nESTRELLAS PROPICIAS.\\n\\n\\n\\n\\nOBRAS DE CAMIL...</td>\n",
       "      <td>Camilo Castelo Branco</td>\n",
       "      <td>estrellas propicias obras camillo castello bra...</td>\n",
       "    </tr>\n",
       "    <tr>\n",
       "      <th>29</th>\n",
       "      <td>\\nA CIDADE E AS SERRAS\\n\\n\\n\\n\\nA CIDADE E AS ...</td>\n",
       "      <td>Eca de Queiros</td>\n",
       "      <td>cidade serra cidade serra i amigo jacintho nas...</td>\n",
       "    </tr>\n",
       "    <tr>\n",
       "      <th>...</th>\n",
       "      <td>...</td>\n",
       "      <td>...</td>\n",
       "      <td>...</td>\n",
       "    </tr>\n",
       "    <tr>\n",
       "      <th>33</th>\n",
       "      <td>\\nEÇA DE QUEIROZ\\n\\nOS MAIAS\\n\\nEPISODIOS DA V...</td>\n",
       "      <td>Eca de Queiros</td>\n",
       "      <td>eca queiroz maia episodios vida romantica volu...</td>\n",
       "    </tr>\n",
       "    <tr>\n",
       "      <th>34</th>\n",
       "      <td>José Rodrigues dos Santos\\n\\nA Filha do Capitã...</td>\n",
       "      <td>Jose Rodrigues dos Santos</td>\n",
       "      <td>jose rodrigues santos filha capitao jose rodri...</td>\n",
       "    </tr>\n",
       "    <tr>\n",
       "      <th>35</th>\n",
       "      <td>José Rodrigues dos Santos A FÓRMULA DE DEUS\\n\\...</td>\n",
       "      <td>Jose Rodrigues dos Santos</td>\n",
       "      <td>jose rodrigues santos formula deus editora rec...</td>\n",
       "    </tr>\n",
       "    <tr>\n",
       "      <th>36</th>\n",
       "      <td>A MÃO DO D I A B O r o m a n c e\\n\\n\\n\\nNós so...</td>\n",
       "      <td>Jose Rodrigues dos Santos</td>\n",
       "      <td>mao d i b r m n c proprio diabo fazemos deste ...</td>\n",
       "    </tr>\n",
       "    <tr>\n",
       "      <th>37</th>\n",
       "      <td>I\\nO sol jorrava por todas as janelas em casca...</td>\n",
       "      <td>Jose Rodrigues dos Santos</td>\n",
       "      <td>i sol jorrava toda janelas cascatas luz tepida...</td>\n",
       "    </tr>\n",
       "    <tr>\n",
       "      <th>38</th>\n",
       "      <td>Prólogo\\n\\nAs luzes dos faróis rasgaram a noit...</td>\n",
       "      <td>Jose Rodrigues dos Santos</td>\n",
       "      <td>prologo luzes farois rasgaram noite glacial pr...</td>\n",
       "    </tr>\n",
       "    <tr>\n",
       "      <th>39</th>\n",
       "      <td>JOSÉ RODRIGUES DOS SANTOS\\n\\nO ANJO BRANCO\\n\\n...</td>\n",
       "      <td>Jose Rodrigues dos Santos</td>\n",
       "      <td>jose rodrigues santos anjo branco parte parais...</td>\n",
       "    </tr>\n",
       "    <tr>\n",
       "      <th>40</th>\n",
       "      <td>O SÉTIMO SELO romance\\n\\n\\n © José Rodrigues d...</td>\n",
       "      <td>Jose Rodrigues dos Santos</td>\n",
       "      <td>setimo selo romance c jose rodrigues santos gr...</td>\n",
       "    </tr>\n",
       "    <tr>\n",
       "      <th>41</th>\n",
       "      <td>OBRAS DO AUTOR\\n\\nENSAIO Comunicação, Difusão ...</td>\n",
       "      <td>Jose Rodrigues dos Santos</td>\n",
       "      <td>obras autor ensaio comunicacao difusao cultura...</td>\n",
       "    </tr>\n",
       "    <tr>\n",
       "      <th>42</th>\n",
       "      <td>José Saramago\\n\\nA caverna\\n\\n\\nRomance Novemb...</td>\n",
       "      <td>Jose Saramago</td>\n",
       "      <td>jose saramago caverna romance novembro editori...</td>\n",
       "    </tr>\n",
       "    <tr>\n",
       "      <th>43</th>\n",
       "      <td>José Saramago As intermitências da morte\\nComp...</td>\n",
       "      <td>Jose Saramago</td>\n",
       "      <td>jose saramago intermitencias morte companhia l...</td>\n",
       "    </tr>\n",
       "    <tr>\n",
       "      <th>44</th>\n",
       "      <td>JOSÉ SARAMAGO\\n\\nCAIM\\n\\nCAMINHO\\n\\nBadana da ...</td>\n",
       "      <td>Jose Saramago</td>\n",
       "      <td>jose saramago caim caminho badana capa jose sa...</td>\n",
       "    </tr>\n",
       "    <tr>\n",
       "      <th>45</th>\n",
       "      <td>José Saramago\\n\\n(Prêmio Nobel de Literatura)\\...</td>\n",
       "      <td>Jose Saramago</td>\n",
       "      <td>jose saramago premio nobel literatura claraboi...</td>\n",
       "    </tr>\n",
       "    <tr>\n",
       "      <th>46</th>\n",
       "      <td>Livro dos Conselhos\\n\\n\\n\\nO disco amarelo ilu...</td>\n",
       "      <td>Jose Saramago</td>\n",
       "      <td>livro conselhos disco amarelo iluminou doi aut...</td>\n",
       "    </tr>\n",
       "    <tr>\n",
       "      <th>47</th>\n",
       "      <td>José Saramago\\n\\nHistória do cerco de Lisboa h...</td>\n",
       "      <td>Jose Saramago</td>\n",
       "      <td>jose saramago historia cerco lisboa http group...</td>\n",
       "    </tr>\n",
       "    <tr>\n",
       "      <th>48</th>\n",
       "      <td>MEMORIAL DO CONVENTO José Saramago JOSÉ SARAMA...</td>\n",
       "      <td>Jose Saramago</td>\n",
       "      <td>memorial convento jose saramago jose saramago ...</td>\n",
       "    </tr>\n",
       "    <tr>\n",
       "      <th>49</th>\n",
       "      <td>José Saramago\\n\\nO ano da morte de Ricardo Rei...</td>\n",
       "      <td>Jose Saramago</td>\n",
       "      <td>jose saramago ano morte ricardo real aqui mar ...</td>\n",
       "    </tr>\n",
       "    <tr>\n",
       "      <th>50</th>\n",
       "      <td>José Saramago\\n\\nO conto da ilha desconhecida\\...</td>\n",
       "      <td>Jose Saramago</td>\n",
       "      <td>jose saramago conto ilha desconhecida homem ba...</td>\n",
       "    </tr>\n",
       "    <tr>\n",
       "      <th>51</th>\n",
       "      <td>O HOMEM DUPLICADO\\n\\nJosé Saramago\\n\\n***\\n\\nO...</td>\n",
       "      <td>Jose Saramago</td>\n",
       "      <td>homem duplicado jose saramago homem acabou ent...</td>\n",
       "    </tr>\n",
       "    <tr>\n",
       "      <th>52</th>\n",
       "      <td>José Saramago\\n\\nTerra do Pecado\\n\\nAviso\\nO a...</td>\n",
       "      <td>Jose Saramago</td>\n",
       "      <td>jose saramago terra pecado aviso autor rapaz v...</td>\n",
       "    </tr>\n",
       "    <tr>\n",
       "      <th>53</th>\n",
       "      <td>\\n a viagem do elefante obras do autor publica...</td>\n",
       "      <td>Jose Saramago</td>\n",
       "      <td>viagem elefante obras autor publicadas companh...</td>\n",
       "    </tr>\n",
       "    <tr>\n",
       "      <th>54</th>\n",
       "      <td>A BELA HISTÓRIA DE DINIS E BEATRIZ OU REQUIEM ...</td>\n",
       "      <td>Luisa Marques Silva</td>\n",
       "      <td>bela historia dinis beatriz requiem borbulha d...</td>\n",
       "    </tr>\n",
       "    <tr>\n",
       "      <th>55</th>\n",
       "      <td>\\n\\n\\nAcabou-se!\\nLuísa Marques da Silva\\n\\nTí...</td>\n",
       "      <td>Luisa Marques Silva</td>\n",
       "      <td>acabou luisa marque silva titulo acabou autora...</td>\n",
       "    </tr>\n",
       "    <tr>\n",
       "      <th>56</th>\n",
       "      <td>O terrível caso do botão assassino\\nLuísa Marq...</td>\n",
       "      <td>Luisa Marques Silva</td>\n",
       "      <td>terrivel caso botao assassino luisa marque sil...</td>\n",
       "    </tr>\n",
       "    <tr>\n",
       "      <th>57</th>\n",
       "      <td>CONTROL Z\\nChegou a hora de vos contar. Chegou...</td>\n",
       "      <td>Luisa Marques Silva</td>\n",
       "      <td>control z chegou hora contar chegou hora expli...</td>\n",
       "    </tr>\n",
       "    <tr>\n",
       "      <th>58</th>\n",
       "      <td>Título\\ne-medo\\n\\nAutora (inspiradíssima)\\nLuí...</td>\n",
       "      <td>Luisa Marques Silva</td>\n",
       "      <td>titulo medo autora inspiradissima luisa marque...</td>\n",
       "    </tr>\n",
       "    <tr>\n",
       "      <th>59</th>\n",
       "      <td>LISBOA 2050\\nLisboa, ano de 2050. Um Agosto tã...</td>\n",
       "      <td>Luisa Marques Silva</td>\n",
       "      <td>lisboa lisboa ano agosto tao gelado ha vinte a...</td>\n",
       "    </tr>\n",
       "    <tr>\n",
       "      <th>60</th>\n",
       "      <td>Título\\nUm passeio pelo inferno\\n\\nAutora\\nLuí...</td>\n",
       "      <td>Luisa Marques Silva</td>\n",
       "      <td>titulo passeio inferno autora luisa marque sil...</td>\n",
       "    </tr>\n",
       "    <tr>\n",
       "      <th>61</th>\n",
       "      <td>Título\\nRapsódia sem dó (maior)\\n\\nAutora\\nLuí...</td>\n",
       "      <td>Luisa Marques Silva</td>\n",
       "      <td>titulo rapsodia maior autora luisa marque silv...</td>\n",
       "    </tr>\n",
       "    <tr>\n",
       "      <th>62</th>\n",
       "      <td>Título\\nA última história\\n\\nAutora (próximo N...</td>\n",
       "      <td>Luisa Marques Silva</td>\n",
       "      <td>titulo ultima historia autora proximo nobel lu...</td>\n",
       "    </tr>\n",
       "  </tbody>\n",
       "</table>\n",
       "<p>63 rows × 3 columns</p>\n",
       "</div>"
      ],
      "text/plain": [
       "                                                 Text  \\\n",
       "0   Title: A Scena do Odio\\n\\nAuthor: José de Alma...   \n",
       "1   Title: O Jardim da Pierrette\\n\\nAuthor: José d...   \n",
       "2   \\n\\nTitle: A Invenção do Dia Claro\\n\\nAuthor: ...   \n",
       "3   \\nTitle: Litoral\\n       A Amadeo de Souza Car...   \n",
       "4   \\n\\n\\nEXPOSIÇÃO\\n\\n+amadeo\\nde souza\\ncardoso+...   \n",
       "5   \\n\\n*JOSÉ DE ALMADA-NEGREIROS*\\n\\n\\n*K4\\n\\no q...   \n",
       "6   \\n\\n*\"ORPHEU\"*\\n\\nREVISTA TRIMESTRAL DE LITERA...   \n",
       "7   \\n\\n+a ENGOMADEIRA+\\n\\nNOVELA VULGAR LISBOETA\\...   \n",
       "8   \\n+MANIFESTO+\\n\\n+ANTI-DANTAS+\\n\\nE\\n\\nPOR EXT...   \n",
       "9   O vinho do Porto\\n\\nPROCESSO D'UMA BESTIALIDAD...   \n",
       "10  \\nLIVRO DE CONSOLAÇÃO\\n\\nROMANCE\\n\\nPOR\\n\\nCAM...   \n",
       "11  AMOR DE PERDIÇÃO\\n\\n\\n(MEMORIAS D'UMA FAMILIA)...   \n",
       "12  A QUEDA D'UM ANJO\\n\\nROMANCE\\n\\nPOR\\n\\nCAMILLO...   \n",
       "13  \\n\\nA SENHORA RATTAZZI\\n\\nPOR\\n\\nCAMILLO CASTE...   \n",
       "14  \\nOBRAS DE CAMILLO CASTELLO BRANCO\\n\\n_Novella...   \n",
       "15  SCENAS CONTEMPORANEAS\\n\\nPOR\\n\\nCAMILLO CASTEL...   \n",
       "16  A GRATIDÃO.\\n\\nROMANCE.\\n\\n\\nI.\\n\\nEstavamos n...   \n",
       "17  O ARREPENDIMENTO.\\n\\nROMANCE\\n\\n\\nEm tempos da...   \n",
       "18  SUICIDA\\n\\n\\nPORTO Typographia de A. J. da Sil...   \n",
       "19  VOLTAREIS Ó CHRISTO?\\n\\n\\n\\n\\nPorto Imprensa P...   \n",
       "20  \\nROMANCES NACIONAES\\n\\n\\nO REGICIDA\\n\\nRomanc...   \n",
       "21  ANNOS DE PROSA\\n\\nRomance\\n\\npor\\n\\nCAMILLO CA...   \n",
       "22  OBRAS\\n\\nDE\\n\\nCAMILLO CASTELLO BRANCO\\n\\nEDIÇ...   \n",
       "23  AMOR DE SALVAÇÃO\\n\\nPOR\\n\\nCAMILLO CASTELLO-BR...   \n",
       "24  A FILHA DO ARCEDIAGO\\n\\nFILHA DO ARCEDIAGO\\n\\n...   \n",
       "25  Obras\\n\\nde\\n\\nCamillo Castello Branco\\n\\nEdiç...   \n",
       "26  \\nSCENAS DA FOZ\\n\\nPOR\\n\\nCAMILLO CASTELLO BRA...   \n",
       "27  \\nOBRAS\\n\\nDE\\n\\nCAMILLO CASTELLO BRANCO\\n\\nED...   \n",
       "28  \\nESTRELLAS PROPICIAS.\\n\\n\\n\\n\\nOBRAS DE CAMIL...   \n",
       "29  \\nA CIDADE E AS SERRAS\\n\\n\\n\\n\\nA CIDADE E AS ...   \n",
       "..                                                ...   \n",
       "33  \\nEÇA DE QUEIROZ\\n\\nOS MAIAS\\n\\nEPISODIOS DA V...   \n",
       "34  José Rodrigues dos Santos\\n\\nA Filha do Capitã...   \n",
       "35  José Rodrigues dos Santos A FÓRMULA DE DEUS\\n\\...   \n",
       "36  A MÃO DO D I A B O r o m a n c e\\n\\n\\n\\nNós so...   \n",
       "37  I\\nO sol jorrava por todas as janelas em casca...   \n",
       "38  Prólogo\\n\\nAs luzes dos faróis rasgaram a noit...   \n",
       "39  JOSÉ RODRIGUES DOS SANTOS\\n\\nO ANJO BRANCO\\n\\n...   \n",
       "40  O SÉTIMO SELO romance\\n\\n\\n © José Rodrigues d...   \n",
       "41  OBRAS DO AUTOR\\n\\nENSAIO Comunicação, Difusão ...   \n",
       "42  José Saramago\\n\\nA caverna\\n\\n\\nRomance Novemb...   \n",
       "43  José Saramago As intermitências da morte\\nComp...   \n",
       "44  JOSÉ SARAMAGO\\n\\nCAIM\\n\\nCAMINHO\\n\\nBadana da ...   \n",
       "45  José Saramago\\n\\n(Prêmio Nobel de Literatura)\\...   \n",
       "46  Livro dos Conselhos\\n\\n\\n\\nO disco amarelo ilu...   \n",
       "47  José Saramago\\n\\nHistória do cerco de Lisboa h...   \n",
       "48  MEMORIAL DO CONVENTO José Saramago JOSÉ SARAMA...   \n",
       "49  José Saramago\\n\\nO ano da morte de Ricardo Rei...   \n",
       "50  José Saramago\\n\\nO conto da ilha desconhecida\\...   \n",
       "51  O HOMEM DUPLICADO\\n\\nJosé Saramago\\n\\n***\\n\\nO...   \n",
       "52  José Saramago\\n\\nTerra do Pecado\\n\\nAviso\\nO a...   \n",
       "53  \\n a viagem do elefante obras do autor publica...   \n",
       "54  A BELA HISTÓRIA DE DINIS E BEATRIZ OU REQUIEM ...   \n",
       "55  \\n\\n\\nAcabou-se!\\nLuísa Marques da Silva\\n\\nTí...   \n",
       "56  O terrível caso do botão assassino\\nLuísa Marq...   \n",
       "57  CONTROL Z\\nChegou a hora de vos contar. Chegou...   \n",
       "58  Título\\ne-medo\\n\\nAutora (inspiradíssima)\\nLuí...   \n",
       "59  LISBOA 2050\\nLisboa, ano de 2050. Um Agosto tã...   \n",
       "60  Título\\nUm passeio pelo inferno\\n\\nAutora\\nLuí...   \n",
       "61  Título\\nRapsódia sem dó (maior)\\n\\nAutora\\nLuí...   \n",
       "62  Título\\nA última história\\n\\nAutora (próximo N...   \n",
       "\n",
       "                       Author  \\\n",
       "0            Almada Negreiros   \n",
       "1            Almada Negreiros   \n",
       "2            Almada Negreiros   \n",
       "3            Almada Negreiros   \n",
       "4            Almada Negreiros   \n",
       "5            Almada Negreiros   \n",
       "6            Almada Negreiros   \n",
       "7            Almada Negreiros   \n",
       "8            Almada Negreiros   \n",
       "9       Camilo Castelo Branco   \n",
       "10      Camilo Castelo Branco   \n",
       "11      Camilo Castelo Branco   \n",
       "12      Camilo Castelo Branco   \n",
       "13      Camilo Castelo Branco   \n",
       "14      Camilo Castelo Branco   \n",
       "15      Camilo Castelo Branco   \n",
       "16      Camilo Castelo Branco   \n",
       "17      Camilo Castelo Branco   \n",
       "18      Camilo Castelo Branco   \n",
       "19      Camilo Castelo Branco   \n",
       "20      Camilo Castelo Branco   \n",
       "21      Camilo Castelo Branco   \n",
       "22      Camilo Castelo Branco   \n",
       "23      Camilo Castelo Branco   \n",
       "24      Camilo Castelo Branco   \n",
       "25      Camilo Castelo Branco   \n",
       "26      Camilo Castelo Branco   \n",
       "27      Camilo Castelo Branco   \n",
       "28      Camilo Castelo Branco   \n",
       "29             Eca de Queiros   \n",
       "..                        ...   \n",
       "33             Eca de Queiros   \n",
       "34  Jose Rodrigues dos Santos   \n",
       "35  Jose Rodrigues dos Santos   \n",
       "36  Jose Rodrigues dos Santos   \n",
       "37  Jose Rodrigues dos Santos   \n",
       "38  Jose Rodrigues dos Santos   \n",
       "39  Jose Rodrigues dos Santos   \n",
       "40  Jose Rodrigues dos Santos   \n",
       "41  Jose Rodrigues dos Santos   \n",
       "42              Jose Saramago   \n",
       "43              Jose Saramago   \n",
       "44              Jose Saramago   \n",
       "45              Jose Saramago   \n",
       "46              Jose Saramago   \n",
       "47              Jose Saramago   \n",
       "48              Jose Saramago   \n",
       "49              Jose Saramago   \n",
       "50              Jose Saramago   \n",
       "51              Jose Saramago   \n",
       "52              Jose Saramago   \n",
       "53              Jose Saramago   \n",
       "54        Luisa Marques Silva   \n",
       "55        Luisa Marques Silva   \n",
       "56        Luisa Marques Silva   \n",
       "57        Luisa Marques Silva   \n",
       "58        Luisa Marques Silva   \n",
       "59        Luisa Marques Silva   \n",
       "60        Luisa Marques Silva   \n",
       "61        Luisa Marques Silva   \n",
       "62        Luisa Marques Silva   \n",
       "\n",
       "                                           Clean Text  \n",
       "0   title scena odio author jose almada negreiros ...  \n",
       "1   title jardim pierrette author jose almada negr...  \n",
       "2   title invencao dia claro author jose almada ne...  \n",
       "3   title litoral amadeo souza cardozo author jose...  \n",
       "4   exposicao amadeo souza cardoso liga naval lisb...  \n",
       "5   jose almada negreiros k quadrado azul acaba ap...  \n",
       "6   orpheu revista trimestral literatura portugal ...  \n",
       "7   engomadeira novela vulgar lisboeta engomadeira...  \n",
       "8   manifesto anti dantas extenso jose almada negr...  \n",
       "9   vinho porto processo d bestialidade ingleza ex...  \n",
       "10  livro consolacao romance camillo castello bran...  \n",
       "11  amor perdicao memorias d familia romance camil...  \n",
       "12  queda d anjo romance camillo castello branco l...  \n",
       "13  senhora rattazzi camillo castello branco nova ...  \n",
       "14  obras camillo castello branco novella minho vo...  \n",
       "15  scenas contemporaneas camillo castello branco ...  \n",
       "16  gratidao romance i estavamos ultimos dia dezem...  \n",
       "17  arrependimento romance tempo mocidade costumav...  \n",
       "18  suicida porto typographia j silva teixeira can...  \n",
       "19  voltareis christo porto imprensa portugueza bo...  \n",
       "20  romance nacionaes regicida romance historico c...  \n",
       "21  annos prosa romance camillo castello branco gr...  \n",
       "22  obras camillo castello branco edicao popular x...  \n",
       "23  amor salvacao camillo castello branco heavy pr...  \n",
       "24  filha arcediago filha arcediago camillo castel...  \n",
       "25  obras camillo castello branco edicao popular x...  \n",
       "26  scenas foz camillo castello branco solemnia ve...  \n",
       "27  obras camillo castello branco edicao popular l...  \n",
       "28  estrellas propicias obras camillo castello bra...  \n",
       "29  cidade serra cidade serra i amigo jacintho nas...  \n",
       "..                                                ...  \n",
       "33  eca queiroz maia episodios vida romantica volu...  \n",
       "34  jose rodrigues santos filha capitao jose rodri...  \n",
       "35  jose rodrigues santos formula deus editora rec...  \n",
       "36  mao d i b r m n c proprio diabo fazemos deste ...  \n",
       "37  i sol jorrava toda janelas cascatas luz tepida...  \n",
       "38  prologo luzes farois rasgaram noite glacial pr...  \n",
       "39  jose rodrigues santos anjo branco parte parais...  \n",
       "40  setimo selo romance c jose rodrigues santos gr...  \n",
       "41  obras autor ensaio comunicacao difusao cultura...  \n",
       "42  jose saramago caverna romance novembro editori...  \n",
       "43  jose saramago intermitencias morte companhia l...  \n",
       "44  jose saramago caim caminho badana capa jose sa...  \n",
       "45  jose saramago premio nobel literatura claraboi...  \n",
       "46  livro conselhos disco amarelo iluminou doi aut...  \n",
       "47  jose saramago historia cerco lisboa http group...  \n",
       "48  memorial convento jose saramago jose saramago ...  \n",
       "49  jose saramago ano morte ricardo real aqui mar ...  \n",
       "50  jose saramago conto ilha desconhecida homem ba...  \n",
       "51  homem duplicado jose saramago homem acabou ent...  \n",
       "52  jose saramago terra pecado aviso autor rapaz v...  \n",
       "53  viagem elefante obras autor publicadas companh...  \n",
       "54  bela historia dinis beatriz requiem borbulha d...  \n",
       "55  acabou luisa marque silva titulo acabou autora...  \n",
       "56  terrivel caso botao assassino luisa marque sil...  \n",
       "57  control z chegou hora contar chegou hora expli...  \n",
       "58  titulo medo autora inspiradissima luisa marque...  \n",
       "59  lisboa lisboa ano agosto tao gelado ha vinte a...  \n",
       "60  titulo passeio inferno autora luisa marque sil...  \n",
       "61  titulo rapsodia maior autora luisa marque silv...  \n",
       "62  titulo ultima historia autora proximo nobel lu...  \n",
       "\n",
       "[63 rows x 3 columns]"
      ]
     },
     "execution_count": 14,
     "metadata": {},
     "output_type": "execute_result"
    }
   ],
   "source": [
    "corpora['Clean Text'] = pd.Series(cleaned_corpora, index = corpora.index)\n",
    "corpora"
   ]
  },
  {
   "cell_type": "code",
   "execution_count": 15,
   "metadata": {},
   "outputs": [
    {
     "data": {
      "text/html": [
       "<div>\n",
       "<style scoped>\n",
       "    .dataframe tbody tr th:only-of-type {\n",
       "        vertical-align: middle;\n",
       "    }\n",
       "\n",
       "    .dataframe tbody tr th {\n",
       "        vertical-align: top;\n",
       "    }\n",
       "\n",
       "    .dataframe thead th {\n",
       "        text-align: right;\n",
       "    }\n",
       "</style>\n",
       "<table border=\"1\" class=\"dataframe\">\n",
       "  <thead>\n",
       "    <tr style=\"text-align: right;\">\n",
       "      <th></th>\n",
       "      <th>Text</th>\n",
       "      <th>Author</th>\n",
       "      <th>Clean Text</th>\n",
       "      <th>word_count_text</th>\n",
       "      <th>word_count_clean</th>\n",
       "    </tr>\n",
       "  </thead>\n",
       "  <tbody>\n",
       "    <tr>\n",
       "      <th>0</th>\n",
       "      <td>Title: A Scena do Odio\\n\\nAuthor: José de Alma...</td>\n",
       "      <td>Almada Negreiros</td>\n",
       "      <td>title scena odio author jose almada negreiros ...</td>\n",
       "      <td>1456</td>\n",
       "      <td>1139</td>\n",
       "    </tr>\n",
       "    <tr>\n",
       "      <th>1</th>\n",
       "      <td>Title: O Jardim da Pierrette\\n\\nAuthor: José d...</td>\n",
       "      <td>Almada Negreiros</td>\n",
       "      <td>title jardim pierrette author jose almada negr...</td>\n",
       "      <td>280</td>\n",
       "      <td>203</td>\n",
       "    </tr>\n",
       "    <tr>\n",
       "      <th>2</th>\n",
       "      <td>\\n\\nTitle: A Invenção do Dia Claro\\n\\nAuthor: ...</td>\n",
       "      <td>Almada Negreiros</td>\n",
       "      <td>title invencao dia claro author jose almada ne...</td>\n",
       "      <td>6212</td>\n",
       "      <td>3439</td>\n",
       "    </tr>\n",
       "    <tr>\n",
       "      <th>3</th>\n",
       "      <td>\\nTitle: Litoral\\n       A Amadeo de Souza Car...</td>\n",
       "      <td>Almada Negreiros</td>\n",
       "      <td>title litoral amadeo souza cardozo author jose...</td>\n",
       "      <td>1225</td>\n",
       "      <td>476</td>\n",
       "    </tr>\n",
       "    <tr>\n",
       "      <th>4</th>\n",
       "      <td>\\n\\n\\nEXPOSIÇÃO\\n\\n+amadeo\\nde souza\\ncardoso+...</td>\n",
       "      <td>Almada Negreiros</td>\n",
       "      <td>exposicao amadeo souza cardoso liga naval lisb...</td>\n",
       "      <td>521</td>\n",
       "      <td>354</td>\n",
       "    </tr>\n",
       "  </tbody>\n",
       "</table>\n",
       "</div>"
      ],
      "text/plain": [
       "                                                Text            Author  \\\n",
       "0  Title: A Scena do Odio\\n\\nAuthor: José de Alma...  Almada Negreiros   \n",
       "1  Title: O Jardim da Pierrette\\n\\nAuthor: José d...  Almada Negreiros   \n",
       "2  \\n\\nTitle: A Invenção do Dia Claro\\n\\nAuthor: ...  Almada Negreiros   \n",
       "3  \\nTitle: Litoral\\n       A Amadeo de Souza Car...  Almada Negreiros   \n",
       "4  \\n\\n\\nEXPOSIÇÃO\\n\\n+amadeo\\nde souza\\ncardoso+...  Almada Negreiros   \n",
       "\n",
       "                                          Clean Text  word_count_text  \\\n",
       "0  title scena odio author jose almada negreiros ...             1456   \n",
       "1  title jardim pierrette author jose almada negr...              280   \n",
       "2  title invencao dia claro author jose almada ne...             6212   \n",
       "3  title litoral amadeo souza cardozo author jose...             1225   \n",
       "4  exposicao amadeo souza cardoso liga naval lisb...              521   \n",
       "\n",
       "   word_count_clean  \n",
       "0              1139  \n",
       "1               203  \n",
       "2              3439  \n",
       "3               476  \n",
       "4               354  "
      ]
     },
     "execution_count": 15,
     "metadata": {},
     "output_type": "execute_result"
    }
   ],
   "source": [
    "word_count = corpora['Clean Text'].apply(lambda x: len(str(x).split(\" \")))\n",
    "word_count_2 = corpora['Text'].apply(lambda x: len(str(x).split(\" \")))\n",
    "corpora['word_count_text'] = word_count_2\n",
    "corpora['word_count_clean'] = word_count\n",
    "corpora.head()"
   ]
  },
  {
   "cell_type": "code",
   "execution_count": 16,
   "metadata": {},
   "outputs": [
    {
     "data": {
      "text/html": [
       "<div>\n",
       "<style scoped>\n",
       "    .dataframe tbody tr th:only-of-type {\n",
       "        vertical-align: middle;\n",
       "    }\n",
       "\n",
       "    .dataframe tbody tr th {\n",
       "        vertical-align: top;\n",
       "    }\n",
       "\n",
       "    .dataframe thead th {\n",
       "        text-align: right;\n",
       "    }\n",
       "</style>\n",
       "<table border=\"1\" class=\"dataframe\">\n",
       "  <thead>\n",
       "    <tr style=\"text-align: right;\">\n",
       "      <th></th>\n",
       "      <th>word_count_text</th>\n",
       "      <th>word_count_clean</th>\n",
       "    </tr>\n",
       "    <tr>\n",
       "      <th>Author</th>\n",
       "      <th></th>\n",
       "      <th></th>\n",
       "    </tr>\n",
       "  </thead>\n",
       "  <tbody>\n",
       "    <tr>\n",
       "      <th>Almada Negreiros</th>\n",
       "      <td>43610</td>\n",
       "      <td>27887</td>\n",
       "    </tr>\n",
       "    <tr>\n",
       "      <th>Camilo Castelo Branco</th>\n",
       "      <td>749872</td>\n",
       "      <td>454886</td>\n",
       "    </tr>\n",
       "    <tr>\n",
       "      <th>Eca de Queiros</th>\n",
       "      <td>438367</td>\n",
       "      <td>272083</td>\n",
       "    </tr>\n",
       "    <tr>\n",
       "      <th>Jose Rodrigues dos Santos</th>\n",
       "      <td>1131971</td>\n",
       "      <td>668358</td>\n",
       "    </tr>\n",
       "    <tr>\n",
       "      <th>Jose Saramago</th>\n",
       "      <td>1006571</td>\n",
       "      <td>583250</td>\n",
       "    </tr>\n",
       "    <tr>\n",
       "      <th>Luisa Marques Silva</th>\n",
       "      <td>41214</td>\n",
       "      <td>24114</td>\n",
       "    </tr>\n",
       "  </tbody>\n",
       "</table>\n",
       "</div>"
      ],
      "text/plain": [
       "                           word_count_text  word_count_clean\n",
       "Author                                                      \n",
       "Almada Negreiros                     43610             27887\n",
       "Camilo Castelo Branco               749872            454886\n",
       "Eca de Queiros                      438367            272083\n",
       "Jose Rodrigues dos Santos          1131971            668358\n",
       "Jose Saramago                      1006571            583250\n",
       "Luisa Marques Silva                  41214             24114"
      ]
     },
     "execution_count": 16,
     "metadata": {},
     "output_type": "execute_result"
    }
   ],
   "source": [
    "corpora.groupby(['Author']).sum()"
   ]
  },
  {
   "cell_type": "code",
   "execution_count": 17,
   "metadata": {},
   "outputs": [
    {
     "data": {
      "text/plain": [
       "count        63.000000\n",
       "mean      32231.396825\n",
       "std       31577.716825\n",
       "min         203.000000\n",
       "25%        3599.500000\n",
       "50%       28211.000000\n",
       "75%       45676.500000\n",
       "max      131684.000000\n",
       "Name: word_count_clean, dtype: float64"
      ]
     },
     "execution_count": 17,
     "metadata": {},
     "output_type": "execute_result"
    }
   ],
   "source": [
    "corpora.word_count_clean.describe()"
   ]
  },
  {
   "cell_type": "code",
   "execution_count": 18,
   "metadata": {},
   "outputs": [],
   "source": [
    "all_words = ' '.join(corpora['Clean Text']).split()"
   ]
  },
  {
   "cell_type": "code",
   "execution_count": 19,
   "metadata": {},
   "outputs": [],
   "source": [
    "# Count all words\n",
    "freq = pd.Series(all_words).value_counts()"
   ]
  },
  {
   "cell_type": "code",
   "execution_count": 20,
   "metadata": {},
   "outputs": [
    {
     "data": {
      "text/plain": [
       "nao       52050\n",
       "d         12481\n",
       "ja         9952\n",
       "disse      7494\n",
       "la         7176\n",
       "ser        7060\n",
       "ainda      6639\n",
       "ha         5941\n",
       "bem        5716\n",
       "dia        5661\n",
       "onde       5642\n",
       "mao        5556\n",
       "so         5418\n",
       "ate        5225\n",
       "sobre      5090\n",
       "porque     5011\n",
       "assim      4912\n",
       "olhos      4908\n",
       "n          4875\n",
       "toda       4868\n",
       "tempo      4857\n",
       "aqui       4824\n",
       "tudo       4785\n",
       "agora      4730\n",
       "homem      4713\n",
       "dtype: int64"
      ]
     },
     "execution_count": 20,
     "metadata": {},
     "output_type": "execute_result"
    }
   ],
   "source": [
    "freq[:25]"
   ]
  },
  {
   "cell_type": "code",
   "execution_count": 21,
   "metadata": {},
   "outputs": [
    {
     "name": "stderr",
     "output_type": "stream",
     "text": [
      "[nltk_data] Downloading package stopwords to\n",
      "[nltk_data]     C:\\Users\\Mafalda\\AppData\\Roaming\\nltk_data...\n",
      "[nltk_data]   Package stopwords is already up-to-date!\n"
     ]
    },
    {
     "data": {
      "text/plain": [
       "True"
      ]
     },
     "execution_count": 21,
     "metadata": {},
     "output_type": "execute_result"
    }
   ],
   "source": [
    "import nltk\n",
    "nltk.download('stopwords')"
   ]
  },
  {
   "cell_type": "markdown",
   "metadata": {},
   "source": [
    "From the top 30 most frequent words count the number of stopwords. What's the percentage?"
   ]
  },
  {
   "cell_type": "code",
   "execution_count": 22,
   "metadata": {},
   "outputs": [
    {
     "data": {
      "text/plain": [
       "5"
      ]
     },
     "execution_count": 22,
     "metadata": {},
     "output_type": "execute_result"
    }
   ],
   "source": [
    "from nltk.corpus import stopwords\n",
    "stopwords = set(stopwords.words(\"portuguese\"))\n",
    "stop_words = []\n",
    "\n",
    "for word in stopwords:\n",
    "    word = unidecode(word)\n",
    "    stop_words.append(word)\n",
    "\n",
    "count = 0\n",
    "for word in freq.index[:30]:\n",
    "    if word in stop_words:\n",
    "        count += 1\n",
    "count"
   ]
  },
  {
   "cell_type": "code",
   "execution_count": 23,
   "metadata": {},
   "outputs": [
    {
     "data": {
      "text/plain": [
       "2"
      ]
     },
     "execution_count": 23,
     "metadata": {},
     "output_type": "execute_result"
    }
   ],
   "source": [
    "from nltk.corpus import stopwords\n",
    "stopwords = set(stopwords.words(\"english\"))\n",
    "count = 0\n",
    "for word in freq.index[:30]:\n",
    "    if word in stopwords:\n",
    "        count += 1\n",
    "count"
   ]
  },
  {
   "cell_type": "code",
   "execution_count": 24,
   "metadata": {},
   "outputs": [],
   "source": [
    "from sklearn.feature_extraction.text import CountVectorizer\n",
    "cv = CountVectorizer(\n",
    "    max_df=0.8,\n",
    "    stop_words=stop_words, \n",
    "    max_features=10000, \n",
    "    ngram_range=(1,3) # all inclusive from {1,2,3}, if only bigrams use (2,2)\n",
    ")"
   ]
  },
  {
   "cell_type": "code",
   "execution_count": 25,
   "metadata": {
    "scrolled": true
   },
   "outputs": [],
   "source": [
    "X = cv.fit_transform(cleaned_corpora)"
   ]
  },
  {
   "cell_type": "code",
   "execution_count": 26,
   "metadata": {},
   "outputs": [
    {
     "data": {
      "text/plain": [
       "['scena',\n",
       " 'odio',\n",
       " 'author',\n",
       " 'almada',\n",
       " 'portuguese',\n",
       " 'alvaro',\n",
       " 'campos',\n",
       " 'poema',\n",
       " 'escripto',\n",
       " 'noites']"
      ]
     },
     "execution_count": 26,
     "metadata": {},
     "output_type": "execute_result"
    }
   ],
   "source": [
    "list(cv.vocabulary_.keys())[:10]"
   ]
  },
  {
   "cell_type": "code",
   "execution_count": 27,
   "metadata": {},
   "outputs": [],
   "source": [
    "def get_top_n_grams(corpus, top_k, n):\n",
    "    \"\"\"\n",
    "    Function that receives a list of documents (corpus) and extracts\n",
    "        the top k most frequent n-grams for that corpus.\n",
    "        \n",
    "    :param corpus: list of texts\n",
    "    :param top_k: int with the number of n-grams that we want to extract\n",
    "    :param n: n gram type to be considered \n",
    "             (if n=1 extracts unigrams, if n=2 extracts bigrams, ...)\n",
    "             \n",
    "    :return: Returns a sorted dataframe in which the first column \n",
    "        contains the extracted ngrams and the second column contains\n",
    "        the respective counts\n",
    "    \"\"\"\n",
    "    vec = CountVectorizer(ngram_range=(n, n), max_features=2000).fit(corpus)\n",
    "    \n",
    "    bag_of_words = vec.transform(corpus)\n",
    "    \n",
    "    sum_words = bag_of_words.sum(axis=0) \n",
    "    \n",
    "    words_freq = []\n",
    "    for word, idx in vec.vocabulary_.items():\n",
    "        words_freq.append((word, sum_words[0, idx]))\n",
    "        \n",
    "    words_freq = sorted(words_freq, key=lambda x: x[1], reverse=True)\n",
    "    top_df = pd.DataFrame(words_freq[:top_k])\n",
    "    top_df.columns = [\"Ngram\", \"Freq\"]\n",
    "    return top_df"
   ]
  },
  {
   "cell_type": "code",
   "execution_count": 28,
   "metadata": {},
   "outputs": [],
   "source": [
    "top_df = get_top_n_grams(cleaned_corpora, top_k=20, n=1)"
   ]
  },
  {
   "cell_type": "code",
   "execution_count": 29,
   "metadata": {},
   "outputs": [
    {
     "data": {
      "text/html": [
       "<div>\n",
       "<style scoped>\n",
       "    .dataframe tbody tr th:only-of-type {\n",
       "        vertical-align: middle;\n",
       "    }\n",
       "\n",
       "    .dataframe tbody tr th {\n",
       "        vertical-align: top;\n",
       "    }\n",
       "\n",
       "    .dataframe thead th {\n",
       "        text-align: right;\n",
       "    }\n",
       "</style>\n",
       "<table border=\"1\" class=\"dataframe\">\n",
       "  <thead>\n",
       "    <tr style=\"text-align: right;\">\n",
       "      <th></th>\n",
       "      <th>Ngram</th>\n",
       "      <th>Freq</th>\n",
       "    </tr>\n",
       "  </thead>\n",
       "  <tbody>\n",
       "    <tr>\n",
       "      <th>0</th>\n",
       "      <td>nao</td>\n",
       "      <td>52050</td>\n",
       "    </tr>\n",
       "    <tr>\n",
       "      <th>1</th>\n",
       "      <td>ja</td>\n",
       "      <td>9952</td>\n",
       "    </tr>\n",
       "    <tr>\n",
       "      <th>2</th>\n",
       "      <td>disse</td>\n",
       "      <td>7494</td>\n",
       "    </tr>\n",
       "    <tr>\n",
       "      <th>3</th>\n",
       "      <td>la</td>\n",
       "      <td>7176</td>\n",
       "    </tr>\n",
       "    <tr>\n",
       "      <th>4</th>\n",
       "      <td>ser</td>\n",
       "      <td>7060</td>\n",
       "    </tr>\n",
       "    <tr>\n",
       "      <th>5</th>\n",
       "      <td>ainda</td>\n",
       "      <td>6639</td>\n",
       "    </tr>\n",
       "    <tr>\n",
       "      <th>6</th>\n",
       "      <td>ha</td>\n",
       "      <td>5941</td>\n",
       "    </tr>\n",
       "    <tr>\n",
       "      <th>7</th>\n",
       "      <td>bem</td>\n",
       "      <td>5716</td>\n",
       "    </tr>\n",
       "    <tr>\n",
       "      <th>8</th>\n",
       "      <td>dia</td>\n",
       "      <td>5661</td>\n",
       "    </tr>\n",
       "    <tr>\n",
       "      <th>9</th>\n",
       "      <td>onde</td>\n",
       "      <td>5642</td>\n",
       "    </tr>\n",
       "  </tbody>\n",
       "</table>\n",
       "</div>"
      ],
      "text/plain": [
       "   Ngram   Freq\n",
       "0    nao  52050\n",
       "1     ja   9952\n",
       "2  disse   7494\n",
       "3     la   7176\n",
       "4    ser   7060\n",
       "5  ainda   6639\n",
       "6     ha   5941\n",
       "7    bem   5716\n",
       "8    dia   5661\n",
       "9   onde   5642"
      ]
     },
     "execution_count": 29,
     "metadata": {},
     "output_type": "execute_result"
    }
   ],
   "source": [
    "top_df.head(10)"
   ]
  },
  {
   "cell_type": "code",
   "execution_count": 30,
   "metadata": {},
   "outputs": [],
   "source": [
    "import numpy as np\n",
    "import matplotlib.pyplot as plt\n",
    "def plot_frequencies(top_df):\n",
    "    \"\"\"\n",
    "    Function that receives a dataframe from the \"get_top_n_grams\" function\n",
    "    and plots the frequencies in a bar plot.\n",
    "    \"\"\"\n",
    "    x_labels = top_df[\"Ngram\"][:30]\n",
    "    y_pos = np.arange(len(x_labels))\n",
    "    values = top_df[\"Freq\"][:30]\n",
    "    plt.bar(y_pos, values, align='center', alpha=0.5)\n",
    "    plt.xticks(y_pos, x_labels)\n",
    "    plt.ylabel('Frequencies')\n",
    "    plt.title('Words')\n",
    "    plt.xticks(rotation=90)\n",
    "    plt.show()"
   ]
  },
  {
   "cell_type": "code",
   "execution_count": 31,
   "metadata": {},
   "outputs": [
    {
     "data": {
      "image/png": "[encoded data removed]",
      "text/plain": [
       "<Figure size 432x288 with 1 Axes>"
      ]
     },
     "metadata": {
      "needs_background": "light"
     },
     "output_type": "display_data"
    }
   ],
   "source": [
    "plot_frequencies(top_df)"
   ]
  },
  {
   "cell_type": "code",
   "execution_count": 32,
   "metadata": {},
   "outputs": [
    {
     "data": {
      "text/plain": [
       "TfidfTransformer(norm='l2', smooth_idf=True, sublinear_tf=False, use_idf=True)"
      ]
     },
     "execution_count": 32,
     "metadata": {},
     "output_type": "execute_result"
    }
   ],
   "source": [
    "from sklearn.feature_extraction.text import TfidfTransformer\n",
    "tfidf_vectorizer = TfidfTransformer()\n",
    "tfidf_vectorizer.fit(X)"
   ]
  },
  {
   "cell_type": "code",
   "execution_count": 33,
   "metadata": {},
   "outputs": [],
   "source": [
    "# get feature names\n",
    "feature_names = cv.get_feature_names()\n",
    " \n",
    "# fetch document for which keywords needs to be extracted\n",
    "doc = cleaned_corpora[10]\n",
    " \n",
    "#generate tf-idf for the given document\n",
    "tf_idf_vector = tfidf_vectorizer.transform(cv.transform([doc]))"
   ]
  },
  {
   "cell_type": "code",
   "execution_count": 34,
   "metadata": {},
   "outputs": [
    {
     "data": {
      "text/plain": [
       "array([[0.      , 0.      , 0.001876, ..., 0.      , 0.      , 0.      ]])"
      ]
     },
     "execution_count": 34,
     "metadata": {},
     "output_type": "execute_result"
    }
   ],
   "source": [
    "tf_idf_vector.toarray()"
   ]
  },
  {
   "cell_type": "code",
   "execution_count": 35,
   "metadata": {},
   "outputs": [],
   "source": [
    "def extract_feature_scores(feature_names, document_vector):\n",
    "    \"\"\"\n",
    "    Function that creates a dictionary with the TF-IDF score for each feature.\n",
    "    :param feature_names: list with all the feature words.\n",
    "    :param document_vector: vector containing the extracted features for a specific document\n",
    "    \n",
    "    :return: returns a sorted dictionary \"feature\":\"score\".\n",
    "    \"\"\"\n",
    "    feature2score = {}\n",
    "    for i in range(len(feature_names)):\n",
    "        feature2score[feature_names[i]] = document_vector[0][i]    \n",
    "    return sorted(feature2score.items(), key=lambda kv: kv[1], reverse=True)"
   ]
  },
  {
   "cell_type": "code",
   "execution_count": 36,
   "metadata": {},
   "outputs": [
    {
     "data": {
      "text/plain": [
       "[('venceslau', 0.6069201384643949),\n",
       " ('julia', 0.40976503689400834),\n",
       " ('eduardo', 0.29025123699140865),\n",
       " ('elle', 0.19082193013927964),\n",
       " ('taveira', 0.18105505057347132),\n",
       " ('commendador', 0.1696980948404514),\n",
       " ('anna', 0.15197905648445792),\n",
       " ('venceslau taveira', 0.14802930206448653),\n",
       " ('snr', 0.14632827569568585),\n",
       " ('vaz', 0.1359735524644437)]"
      ]
     },
     "execution_count": 36,
     "metadata": {},
     "output_type": "execute_result"
    }
   ],
   "source": [
    "extract_feature_scores(feature_names, tf_idf_vector.toarray())[:10]"
   ]
  },
  {
   "cell_type": "code",
   "execution_count": 37,
   "metadata": {},
   "outputs": [],
   "source": [
    "doc = cleaned_corpora[10]"
   ]
  },
  {
   "cell_type": "code",
   "execution_count": 38,
   "metadata": {},
   "outputs": [
    {
     "data": {
      "text/plain": [
       "<1x10000 sparse matrix of type '<class 'numpy.float64'>'\n",
       "\twith 4206 stored elements in Compressed Sparse Row format>"
      ]
     },
     "execution_count": 38,
     "metadata": {},
     "output_type": "execute_result"
    }
   ],
   "source": [
    "tf_idf_vector = tfidf_vectorizer.transform(cv.transform([doc]))\n",
    "tf_idf_vector"
   ]
  },
  {
   "cell_type": "code",
   "execution_count": null,
   "metadata": {},
   "outputs": [],
   "source": []
  }
 ],
 "metadata": {
  "kernelspec": {
   "display_name": "Python 3",
   "language": "python",
   "name": "python3"
  },
  "language_info": {
   "codemirror_mode": {
    "name": "ipython",
    "version": 3
   },
   "file_extension": ".py",
   "mimetype": "text/x-python",
   "name": "python",
   "nbconvert_exporter": "python",
   "pygments_lexer": "ipython3",
   "version": "3.7.3"
  }
 },
 "nbformat": 4,
 "nbformat_minor": 4
}
