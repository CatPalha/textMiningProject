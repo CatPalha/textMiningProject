{
 "cells": [
  {
   "cell_type": "code",
   "execution_count": 1,
   "metadata": {},
   "outputs": [],
   "source": [
    "from pathlib import Path\n",
    "import pandas as pd\n",
    "import re\n",
    "import nltk\n",
    "from nltk.corpus import stopwords\n",
    "from nltk.stem.wordnet import WordNetLemmatizer\n",
    "from nltk.stem import SnowballStemmer\n",
    "from bs4 import BeautifulSoup\n",
    "from unidecode import unidecode\n",
    "from tqdm import tqdm_notebook as tqdm"
   ]
  },
  {
   "cell_type": "code",
   "execution_count": 2,
   "metadata": {},
   "outputs": [],
   "source": [
    "def load_corpus(filename):\n",
    "    corpus = Path(filename).read_text(encoding=\"utf8\")\n",
    "    return corpus"
   ]
  },
  {
   "cell_type": "code",
   "execution_count": 3,
   "metadata": {},
   "outputs": [],
   "source": [
    "def load_corpora(filelist,author):\n",
    "    files = []\n",
    "    for file in filelist:\n",
    "        location = \"Corpora/train/\"+file\n",
    "        corpus = load_corpus(location)\n",
    "        files.append(corpus)\n",
    "    df = pd.DataFrame(files, columns=['Text'])\n",
    "    df['Author'] = pd.Series([author for x in range(len(df.index))], index=df.index)\n",
    "    return df"
   ]
  },
  {
   "cell_type": "code",
   "execution_count": 4,
   "metadata": {},
   "outputs": [],
   "source": [
    "train_set_almada = [\n",
    "    'AlmadaNegreiros/pg22615.txt',\n",
    "    'AlmadaNegreiros/pg22730.txt',\n",
    "    'AlmadaNegreiros/pg22801.txt',\n",
    "    'AlmadaNegreiros/pg22802.txt',\n",
    "    'AlmadaNegreiros/pg22969.txt',\n",
    "    'AlmadaNegreiros/pg23133.txt',\n",
    "    'AlmadaNegreiros/pg23620.txt',\n",
    "    'AlmadaNegreiros/pg23879.txt',\n",
    "    'AlmadaNegreiros/pg23961.txt'\n",
    "]"
   ]
  },
  {
   "cell_type": "code",
   "execution_count": 5,
   "metadata": {},
   "outputs": [
    {
     "data": {
      "text/plain": [
       "(9, 2)"
      ]
     },
     "execution_count": 5,
     "metadata": {},
     "output_type": "execute_result"
    }
   ],
   "source": [
    "corpora_almada = load_corpora(train_set_almada, 'Almada Negreiros')\n",
    "corpora_almada.shape"
   ]
  },
  {
   "cell_type": "code",
   "execution_count": 6,
   "metadata": {
    "scrolled": true
   },
   "outputs": [
    {
     "data": {
      "text/plain": [
       "(20, 2)"
      ]
     },
     "execution_count": 6,
     "metadata": {},
     "output_type": "execute_result"
    }
   ],
   "source": [
    "train_set_camilo = [\n",
    "    'CamiloCasteloBranco/24691-0.txt',\n",
    "    'CamiloCasteloBranco/34756-0.txt',\n",
    "    'CamiloCasteloBranco/pg16425.txt',\n",
    "    'CamiloCasteloBranco/pg17927.txt',\n",
    "    'CamiloCasteloBranco/pg19375.txt',\n",
    "    'CamiloCasteloBranco/pg21406.txt',\n",
    "    'CamiloCasteloBranco/pg23203.txt',\n",
    "    'CamiloCasteloBranco/pg23345.txt',\n",
    "    'CamiloCasteloBranco/pg23346.txt',\n",
    "    'CamiloCasteloBranco/pg24339.txt',\n",
    "    'CamiloCasteloBranco/pg25844.txt',\n",
    "    'CamiloCasteloBranco/pg26017.txt',\n",
    "    'CamiloCasteloBranco/pg26103.txt',\n",
    "    'CamiloCasteloBranco/pg26110.txt',\n",
    "    'CamiloCasteloBranco/pg26988.txt',\n",
    "    'CamiloCasteloBranco/pg27364.txt',\n",
    "    'CamiloCasteloBranco/pg27541.txt',\n",
    "    'CamiloCasteloBranco/pg28310.txt',\n",
    "    'CamiloCasteloBranco/pg31694.txt',\n",
    "    'CamiloCasteloBranco/pg33788.txt',\n",
    "]\n",
    "\n",
    "corpora_camilo = load_corpora(train_set_camilo, 'Camilo Castelo Branco')\n",
    "corpora_camilo.shape"
   ]
  },
  {
   "cell_type": "code",
   "execution_count": 7,
   "metadata": {},
   "outputs": [
    {
     "data": {
      "text/plain": [
       "(5, 2)"
      ]
     },
     "execution_count": 7,
     "metadata": {},
     "output_type": "execute_result"
    }
   ],
   "source": [
    "train_set_eca = [\n",
    "    'EcaDeQueiros/pg18220.txt',\n",
    "    'EcaDeQueiros/pg25641.txt',\n",
    "    'EcaDeQueiros/pg27637.txt',\n",
    "    'EcaDeQueiros/pg31347.txt',\n",
    "    'EcaDeQueiros/pg40409.txt'\n",
    "]\n",
    "\n",
    "corpora_eca = load_corpora(train_set_eca, 'Eca de Queiros')\n",
    "corpora_eca.shape"
   ]
  },
  {
   "cell_type": "code",
   "execution_count": 8,
   "metadata": {},
   "outputs": [
    {
     "data": {
      "text/plain": [
       "(8, 2)"
      ]
     },
     "execution_count": 8,
     "metadata": {},
     "output_type": "execute_result"
    }
   ],
   "source": [
    "train_set_rodrigues_santos = [\n",
    "    'JoseRodriguesSantos/A Filha Do Capitao - Jose Rodrigues dos Santos.txt',\n",
    "    'JoseRodriguesSantos/A Formula De Deus - Jose Rodrigues dos Santos.txt',\n",
    "    'JoseRodriguesSantos/A Mao do Diabo - Jose Rodrigues dos Santos.txt',\n",
    "    'JoseRodriguesSantos/A Vida Num Sopro - Jose Rodrigues dos Santos.txt',\n",
    "    'JoseRodriguesSantos/Furia Divina - Jose Rodrigues dos Santos.txt',\n",
    "    'JoseRodriguesSantos/O Anjo Branco - Jose Rodrigues dos Santos.txt',\n",
    "    'JoseRodriguesSantos/O Setimo Selo - Jose Rodrigues dos Santos.txt',\n",
    "    'JoseRodriguesSantos/O ultimo Segredo - Jose Rodrigues dos Santos.txt'\n",
    "]\n",
    "\n",
    "corpora_rodrigues_santos = load_corpora(train_set_rodrigues_santos, 'Jose Rodrigues dos Santos')\n",
    "corpora_rodrigues_santos.shape"
   ]
  },
  {
   "cell_type": "code",
   "execution_count": 9,
   "metadata": {},
   "outputs": [
    {
     "data": {
      "text/plain": [
       "(12, 2)"
      ]
     },
     "execution_count": 9,
     "metadata": {},
     "output_type": "execute_result"
    }
   ],
   "source": [
    "train_set_saramago = [\n",
    "    'JoseSaramago/A Caverna - Jose Saramago.txt',\n",
    "    'JoseSaramago/As Intermitencias da Morte - Jose Saramago.txt',\n",
    "    'JoseSaramago/Caim - Jose Saramago.txt',\n",
    "    'JoseSaramago/Claraboia - Jose Saramago.txt',\n",
    "    'JoseSaramago/Ensaio Sobre a Cegueira - Jose Saramago.txt',\n",
    "    'JoseSaramago/Historia Do Cerco De Lisboa - Jose Saramago.txt',\n",
    "    'JoseSaramago/Memorial Do Convento - Jose Saramago.txt',\n",
    "    'JoseSaramago/O Ano Da Morte De Ricardo Reis - Jose Saramago.txt',\n",
    "    'JoseSaramago/O Conto Da Ilha Desconhecida - Jose Saramago.txt',\n",
    "    'JoseSaramago/O Homem Duplicado - Jose Saramago.txt',\n",
    "    'JoseSaramago/Terra Do Pecado - Jose Saramago.txt',\n",
    "    'JoseSaramago/Viagem Do Elefante - Jose Saramago.txt'\n",
    "]\n",
    "\n",
    "corpora_saramago = load_corpora(train_set_saramago, 'Jose Saramago')\n",
    "corpora_saramago.shape"
   ]
  },
  {
   "cell_type": "code",
   "execution_count": 10,
   "metadata": {},
   "outputs": [
    {
     "data": {
      "text/plain": [
       "(9, 2)"
      ]
     },
     "execution_count": 10,
     "metadata": {},
     "output_type": "execute_result"
    }
   ],
   "source": [
    "train_set_luisa = [\n",
    "    'LuisaMarquesSilva/ABelaHistoria.txt',\n",
    "    'LuisaMarquesSilva/acabouSe.txt',\n",
    "    'LuisaMarquesSilva/Botão.txt',\n",
    "    'LuisaMarquesSilva/controlz.txt',\n",
    "    'LuisaMarquesSilva/emedo.txt',\n",
    "    'LuisaMarquesSilva/Lisboa2050.txt',\n",
    "    'LuisaMarquesSilva/passeioInferno.txt',\n",
    "    'LuisaMarquesSilva/rapsodiasemdo.txt',\n",
    "    'LuisaMarquesSilva/UltimaHistoria.txt'\n",
    "]\n",
    "\n",
    "corpora_luisa = load_corpora(train_set_luisa, 'Luisa Marques Silva')\n",
    "corpora_luisa.shape"
   ]
  },
  {
   "cell_type": "code",
   "execution_count": 11,
   "metadata": {
    "scrolled": true
   },
   "outputs": [
    {
     "data": {
      "text/plain": [
       "(63, 2)"
      ]
     },
     "execution_count": 11,
     "metadata": {},
     "output_type": "execute_result"
    }
   ],
   "source": [
    "corpora = pd.concat([corpora_almada, corpora_camilo, corpora_eca, corpora_rodrigues_santos, corpora_saramago, corpora_luisa]).reset_index(drop = True)\n",
    "corpora.shape"
   ]
  },
  {
   "cell_type": "code",
   "execution_count": 12,
   "metadata": {
    "scrolled": true
   },
   "outputs": [
    {
     "data": {
      "text/plain": [
       "\"\\nfrom unidecode import unidecode\\n\\ncorpora['Text'] = corpora['Text'].apply(lambda text: unidecode(text))\\n\\ncorpora\\n\""
      ]
     },
     "execution_count": 12,
     "metadata": {},
     "output_type": "execute_result"
    }
   ],
   "source": [
    "\"\"\"\n",
    "from unidecode import unidecode\n",
    "\n",
    "corpora['Text'] = corpora['Text'].apply(lambda text: unidecode(text))\n",
    "\n",
    "corpora\n",
    "\"\"\""
   ]
  },
  {
   "cell_type": "code",
   "execution_count": 13,
   "metadata": {},
   "outputs": [
    {
     "data": {
      "text/plain": [
       "\"\\nchar = ''\\n\\nfor text in corpora['Text']:\\n    characters = list(set(text))\\n    for c in characters:\\n        char += c\\n    #print(list(set(text)))\\n    \\nprint(list(set(char)))\\n\""
      ]
     },
     "execution_count": 13,
     "metadata": {},
     "output_type": "execute_result"
    }
   ],
   "source": [
    "\"\"\"\n",
    "char = ''\n",
    "\n",
    "for text in corpora['Text']:\n",
    "    characters = list(set(text))\n",
    "    for c in characters:\n",
    "        char += c\n",
    "    #print(list(set(text)))\n",
    "    \n",
    "print(list(set(char)))\n",
    "\"\"\""
   ]
  },
  {
   "cell_type": "code",
   "execution_count": 14,
   "metadata": {
    "scrolled": true
   },
   "outputs": [
    {
     "data": {
      "text/plain": [
       "'\\nrep = {\\'\\n\\':\\' \\',\\n       \\'#\\':\\'\\',\\n       \\'+\\':\\'\\',\\n       \\'-\\':\\' \\',\\n       \\'_\\':\\'\\',\\n       \\'<\\':\\'\\',\\n       \\'>\\':\\'\\',\\n       \\'=\\':\\'\\',\\n       \\'*\\':\\'\\',\\n       \\'\\\\\\':\\'\\',\\n       \\'|\\':\\'\\',\\n       \\'~\\':\\'\\',\\n       \\'[\\':\\'\\',\\n       \\']\\':\\'\\',\\n       \"\\'\":\\' \\',\\n       \\'\"\\':\\'\\',\\n       \\'  \\':\\' \\'\\n      }\\n\\nfor i,j in rep.items():\\n    corpora[\\'Text\\'] = corpora[\\'Text\\'].apply(lambda text: text.replace(i,j))\\n\\n#print(corpora.loc[0,\\'Text\\'])\\n\\ncorpora\\n'"
      ]
     },
     "execution_count": 14,
     "metadata": {},
     "output_type": "execute_result"
    }
   ],
   "source": [
    "\"\"\"\n",
    "rep = {'\\n':' ',\n",
    "       '#':'',\n",
    "       '+':'',\n",
    "       '-':' ',\n",
    "       '_':'',\n",
    "       '<':'',\n",
    "       '>':'',\n",
    "       '=':'',\n",
    "       '*':'',\n",
    "       '\\\\':'',\n",
    "       '|':'',\n",
    "       '~':'',\n",
    "       '[':'',\n",
    "       ']':'',\n",
    "       \"'\":' ',\n",
    "       '\"':'',\n",
    "       '  ':' '\n",
    "      }\n",
    "\n",
    "for i,j in rep.items():\n",
    "    corpora['Text'] = corpora['Text'].apply(lambda text: text.replace(i,j))\n",
    "\n",
    "#print(corpora.loc[0,'Text'])\n",
    "\n",
    "corpora\n",
    "\"\"\""
   ]
  },
  {
   "cell_type": "code",
   "execution_count": 15,
   "metadata": {
    "scrolled": true
   },
   "outputs": [],
   "source": [
    "#print(corpora['Text'][0])"
   ]
  },
  {
   "cell_type": "code",
   "execution_count": 16,
   "metadata": {},
   "outputs": [],
   "source": [
    "def preprocessing(dataframe):\n",
    "    processed_corpus = []\n",
    "    \n",
    "    stop_words_pt = set(stopwords.words(\"portuguese\", \"english\"))\n",
    "    \n",
    "    for i in tqdm(range(len(dataframe))):\n",
    "        text = dataframe['Text'][i]\n",
    "        \n",
    "        #Remove accents\n",
    "        text = unidecode(text)\n",
    "        \n",
    "        #Remove specific punctuations\n",
    "        #rep = {'\\n':' ','#':'','+':'','-':' ','_':'','<':'','>':'','=':'','*':'','\\\\':'','|':'','~':'','[':'',']':'',\n",
    "               #\"'\":' ','\"':'','  ':' '}\n",
    "        #remove punctuation \n",
    "        text = re.sub('[^a-zA-Z]', ' ', text) \n",
    "\n",
    "        #for i,j in rep.items():\n",
    "            #text = text.replace(i,j)\n",
    "        \n",
    "        #Convert to lowercase\n",
    "        text = text.lower()\n",
    "\n",
    "        #remove tags\n",
    "        text = BeautifulSoup(text).get_text()\n",
    "        \n",
    "        # Convert to list from string\n",
    "        text = text.split()\n",
    "\n",
    "        #Lemmatisation\n",
    "        lem = WordNetLemmatizer()\n",
    "        text = [lem.lemmatize(word) for word in text if not word in stop_words_pt]\n",
    "        #print(text)\n",
    "        #text_2 = [lem.lemmatize(word) for word in text if not word in stop_words_pt] \n",
    "        text = \" \".join(text)\n",
    "        \n",
    "        #text_2 = [lem.lemmatize(word) for word in text if not word in stop_words_pt]\n",
    "        #text = \" \".join(text_2)\n",
    "        #print(text)\n",
    "        processed_corpus.append(text)\n",
    "    return processed_corpus"
   ]
  },
  {
   "cell_type": "code",
   "execution_count": 17,
   "metadata": {
    "scrolled": true
   },
   "outputs": [
    {
     "data": {
      "application/vnd.jupyter.widget-view+json": {
       "model_id": "086be7477a0c4ab4ac3979f0201fdd73",
       "version_major": 2,
       "version_minor": 0
      },
      "text/plain": [
       "HBox(children=(IntProgress(value=0, max=63), HTML(value='')))"
      ]
     },
     "metadata": {},
     "output_type": "display_data"
    },
    {
     "name": "stdout",
     "output_type": "stream",
     "text": [
      "\n"
     ]
    }
   ],
   "source": [
    "cleaned_corpora = preprocessing(corpora)"
   ]
  },
  {
   "cell_type": "code",
   "execution_count": 18,
   "metadata": {
    "scrolled": true
   },
   "outputs": [
    {
     "data": {
      "text/html": [
       "<div>\n",
       "<style scoped>\n",
       "    .dataframe tbody tr th:only-of-type {\n",
       "        vertical-align: middle;\n",
       "    }\n",
       "\n",
       "    .dataframe tbody tr th {\n",
       "        vertical-align: top;\n",
       "    }\n",
       "\n",
       "    .dataframe thead th {\n",
       "        text-align: right;\n",
       "    }\n",
       "</style>\n",
       "<table border=\"1\" class=\"dataframe\">\n",
       "  <thead>\n",
       "    <tr style=\"text-align: right;\">\n",
       "      <th></th>\n",
       "      <th>Text</th>\n",
       "      <th>Author</th>\n",
       "      <th>Clean Text</th>\n",
       "    </tr>\n",
       "  </thead>\n",
       "  <tbody>\n",
       "    <tr>\n",
       "      <td>0</td>\n",
       "      <td>Title: A Scena do Odio\\n\\nAuthor: José de Alma...</td>\n",
       "      <td>Almada Negreiros</td>\n",
       "      <td>title scena odio author jose almada negreiros ...</td>\n",
       "    </tr>\n",
       "    <tr>\n",
       "      <td>1</td>\n",
       "      <td>Title: O Jardim da Pierrette\\n\\nAuthor: José d...</td>\n",
       "      <td>Almada Negreiros</td>\n",
       "      <td>title jardim pierrette author jose almada negr...</td>\n",
       "    </tr>\n",
       "    <tr>\n",
       "      <td>2</td>\n",
       "      <td>\\n\\nTitle: A Invenção do Dia Claro\\n\\nAuthor: ...</td>\n",
       "      <td>Almada Negreiros</td>\n",
       "      <td>title invencao dia claro author jose almada ne...</td>\n",
       "    </tr>\n",
       "    <tr>\n",
       "      <td>3</td>\n",
       "      <td>\\nTitle: Litoral\\n       A Amadeo de Souza Car...</td>\n",
       "      <td>Almada Negreiros</td>\n",
       "      <td>title litoral amadeo souza cardozo author jose...</td>\n",
       "    </tr>\n",
       "    <tr>\n",
       "      <td>4</td>\n",
       "      <td>\\n\\n\\nEXPOSIÇÃO\\n\\n+amadeo\\nde souza\\ncardoso+...</td>\n",
       "      <td>Almada Negreiros</td>\n",
       "      <td>exposicao amadeo souza cardoso liga naval lisb...</td>\n",
       "    </tr>\n",
       "    <tr>\n",
       "      <td>...</td>\n",
       "      <td>...</td>\n",
       "      <td>...</td>\n",
       "      <td>...</td>\n",
       "    </tr>\n",
       "    <tr>\n",
       "      <td>58</td>\n",
       "      <td>Título\\ne-medo\\n\\nAutora (inspiradíssima)\\nLuí...</td>\n",
       "      <td>Luisa Marques Silva</td>\n",
       "      <td>titulo medo autora inspiradissima luisa marque...</td>\n",
       "    </tr>\n",
       "    <tr>\n",
       "      <td>59</td>\n",
       "      <td>LISBOA 2050\\nLisboa, ano de 2050. Um Agosto tã...</td>\n",
       "      <td>Luisa Marques Silva</td>\n",
       "      <td>lisboa lisboa ano agosto tao gelado ha vinte a...</td>\n",
       "    </tr>\n",
       "    <tr>\n",
       "      <td>60</td>\n",
       "      <td>Título\\nUm passeio pelo inferno\\n\\nAutora\\nLuí...</td>\n",
       "      <td>Luisa Marques Silva</td>\n",
       "      <td>titulo passeio inferno autora luisa marque sil...</td>\n",
       "    </tr>\n",
       "    <tr>\n",
       "      <td>61</td>\n",
       "      <td>Título\\nRapsódia sem dó (maior)\\n\\nAutora\\nLuí...</td>\n",
       "      <td>Luisa Marques Silva</td>\n",
       "      <td>titulo rapsodia maior autora luisa marque silv...</td>\n",
       "    </tr>\n",
       "    <tr>\n",
       "      <td>62</td>\n",
       "      <td>Título\\nA última história\\n\\nAutora (próximo N...</td>\n",
       "      <td>Luisa Marques Silva</td>\n",
       "      <td>titulo ultima historia autora proximo nobel lu...</td>\n",
       "    </tr>\n",
       "  </tbody>\n",
       "</table>\n",
       "<p>63 rows × 3 columns</p>\n",
       "</div>"
      ],
      "text/plain": [
       "                                                 Text               Author  \\\n",
       "0   Title: A Scena do Odio\\n\\nAuthor: José de Alma...     Almada Negreiros   \n",
       "1   Title: O Jardim da Pierrette\\n\\nAuthor: José d...     Almada Negreiros   \n",
       "2   \\n\\nTitle: A Invenção do Dia Claro\\n\\nAuthor: ...     Almada Negreiros   \n",
       "3   \\nTitle: Litoral\\n       A Amadeo de Souza Car...     Almada Negreiros   \n",
       "4   \\n\\n\\nEXPOSIÇÃO\\n\\n+amadeo\\nde souza\\ncardoso+...     Almada Negreiros   \n",
       "..                                                ...                  ...   \n",
       "58  Título\\ne-medo\\n\\nAutora (inspiradíssima)\\nLuí...  Luisa Marques Silva   \n",
       "59  LISBOA 2050\\nLisboa, ano de 2050. Um Agosto tã...  Luisa Marques Silva   \n",
       "60  Título\\nUm passeio pelo inferno\\n\\nAutora\\nLuí...  Luisa Marques Silva   \n",
       "61  Título\\nRapsódia sem dó (maior)\\n\\nAutora\\nLuí...  Luisa Marques Silva   \n",
       "62  Título\\nA última história\\n\\nAutora (próximo N...  Luisa Marques Silva   \n",
       "\n",
       "                                           Clean Text  \n",
       "0   title scena odio author jose almada negreiros ...  \n",
       "1   title jardim pierrette author jose almada negr...  \n",
       "2   title invencao dia claro author jose almada ne...  \n",
       "3   title litoral amadeo souza cardozo author jose...  \n",
       "4   exposicao amadeo souza cardoso liga naval lisb...  \n",
       "..                                                ...  \n",
       "58  titulo medo autora inspiradissima luisa marque...  \n",
       "59  lisboa lisboa ano agosto tao gelado ha vinte a...  \n",
       "60  titulo passeio inferno autora luisa marque sil...  \n",
       "61  titulo rapsodia maior autora luisa marque silv...  \n",
       "62  titulo ultima historia autora proximo nobel lu...  \n",
       "\n",
       "[63 rows x 3 columns]"
      ]
     },
     "execution_count": 18,
     "metadata": {},
     "output_type": "execute_result"
    }
   ],
   "source": [
    "corpora['Clean Text'] = pd.Series(cleaned_corpora, index = corpora.index)\n",
    "corpora"
   ]
  },
  {
   "cell_type": "code",
   "execution_count": 19,
   "metadata": {},
   "outputs": [
    {
     "data": {
      "text/html": [
       "<div>\n",
       "<style scoped>\n",
       "    .dataframe tbody tr th:only-of-type {\n",
       "        vertical-align: middle;\n",
       "    }\n",
       "\n",
       "    .dataframe tbody tr th {\n",
       "        vertical-align: top;\n",
       "    }\n",
       "\n",
       "    .dataframe thead th {\n",
       "        text-align: right;\n",
       "    }\n",
       "</style>\n",
       "<table border=\"1\" class=\"dataframe\">\n",
       "  <thead>\n",
       "    <tr style=\"text-align: right;\">\n",
       "      <th></th>\n",
       "      <th>Text</th>\n",
       "      <th>Author</th>\n",
       "      <th>Clean Text</th>\n",
       "      <th>word_count_text</th>\n",
       "      <th>word_count_clean</th>\n",
       "    </tr>\n",
       "  </thead>\n",
       "  <tbody>\n",
       "    <tr>\n",
       "      <td>0</td>\n",
       "      <td>Title: A Scena do Odio\\n\\nAuthor: José de Alma...</td>\n",
       "      <td>Almada Negreiros</td>\n",
       "      <td>title scena odio author jose almada negreiros ...</td>\n",
       "      <td>1456</td>\n",
       "      <td>1139</td>\n",
       "    </tr>\n",
       "    <tr>\n",
       "      <td>1</td>\n",
       "      <td>Title: O Jardim da Pierrette\\n\\nAuthor: José d...</td>\n",
       "      <td>Almada Negreiros</td>\n",
       "      <td>title jardim pierrette author jose almada negr...</td>\n",
       "      <td>280</td>\n",
       "      <td>203</td>\n",
       "    </tr>\n",
       "    <tr>\n",
       "      <td>2</td>\n",
       "      <td>\\n\\nTitle: A Invenção do Dia Claro\\n\\nAuthor: ...</td>\n",
       "      <td>Almada Negreiros</td>\n",
       "      <td>title invencao dia claro author jose almada ne...</td>\n",
       "      <td>6212</td>\n",
       "      <td>3439</td>\n",
       "    </tr>\n",
       "    <tr>\n",
       "      <td>3</td>\n",
       "      <td>\\nTitle: Litoral\\n       A Amadeo de Souza Car...</td>\n",
       "      <td>Almada Negreiros</td>\n",
       "      <td>title litoral amadeo souza cardozo author jose...</td>\n",
       "      <td>1225</td>\n",
       "      <td>476</td>\n",
       "    </tr>\n",
       "    <tr>\n",
       "      <td>4</td>\n",
       "      <td>\\n\\n\\nEXPOSIÇÃO\\n\\n+amadeo\\nde souza\\ncardoso+...</td>\n",
       "      <td>Almada Negreiros</td>\n",
       "      <td>exposicao amadeo souza cardoso liga naval lisb...</td>\n",
       "      <td>521</td>\n",
       "      <td>354</td>\n",
       "    </tr>\n",
       "  </tbody>\n",
       "</table>\n",
       "</div>"
      ],
      "text/plain": [
       "                                                Text            Author  \\\n",
       "0  Title: A Scena do Odio\\n\\nAuthor: José de Alma...  Almada Negreiros   \n",
       "1  Title: O Jardim da Pierrette\\n\\nAuthor: José d...  Almada Negreiros   \n",
       "2  \\n\\nTitle: A Invenção do Dia Claro\\n\\nAuthor: ...  Almada Negreiros   \n",
       "3  \\nTitle: Litoral\\n       A Amadeo de Souza Car...  Almada Negreiros   \n",
       "4  \\n\\n\\nEXPOSIÇÃO\\n\\n+amadeo\\nde souza\\ncardoso+...  Almada Negreiros   \n",
       "\n",
       "                                          Clean Text  word_count_text  \\\n",
       "0  title scena odio author jose almada negreiros ...             1456   \n",
       "1  title jardim pierrette author jose almada negr...              280   \n",
       "2  title invencao dia claro author jose almada ne...             6212   \n",
       "3  title litoral amadeo souza cardozo author jose...             1225   \n",
       "4  exposicao amadeo souza cardoso liga naval lisb...              521   \n",
       "\n",
       "   word_count_clean  \n",
       "0              1139  \n",
       "1               203  \n",
       "2              3439  \n",
       "3               476  \n",
       "4               354  "
      ]
     },
     "execution_count": 19,
     "metadata": {},
     "output_type": "execute_result"
    }
   ],
   "source": [
    "word_count = corpora['Clean Text'].apply(lambda x: len(str(x).split(\" \")))\n",
    "word_count_2 = corpora['Text'].apply(lambda x: len(str(x).split(\" \")))\n",
    "corpora['word_count_text'] = word_count_2\n",
    "corpora['word_count_clean'] = word_count\n",
    "corpora.head()"
   ]
  },
  {
   "cell_type": "code",
   "execution_count": 20,
   "metadata": {},
   "outputs": [
    {
     "data": {
      "text/html": [
       "<div>\n",
       "<style scoped>\n",
       "    .dataframe tbody tr th:only-of-type {\n",
       "        vertical-align: middle;\n",
       "    }\n",
       "\n",
       "    .dataframe tbody tr th {\n",
       "        vertical-align: top;\n",
       "    }\n",
       "\n",
       "    .dataframe thead th {\n",
       "        text-align: right;\n",
       "    }\n",
       "</style>\n",
       "<table border=\"1\" class=\"dataframe\">\n",
       "  <thead>\n",
       "    <tr style=\"text-align: right;\">\n",
       "      <th></th>\n",
       "      <th>word_count_text</th>\n",
       "      <th>word_count_clean</th>\n",
       "    </tr>\n",
       "    <tr>\n",
       "      <th>Author</th>\n",
       "      <th></th>\n",
       "      <th></th>\n",
       "    </tr>\n",
       "  </thead>\n",
       "  <tbody>\n",
       "    <tr>\n",
       "      <td>Almada Negreiros</td>\n",
       "      <td>43610</td>\n",
       "      <td>27887</td>\n",
       "    </tr>\n",
       "    <tr>\n",
       "      <td>Camilo Castelo Branco</td>\n",
       "      <td>749872</td>\n",
       "      <td>454886</td>\n",
       "    </tr>\n",
       "    <tr>\n",
       "      <td>Eca de Queiros</td>\n",
       "      <td>438367</td>\n",
       "      <td>272083</td>\n",
       "    </tr>\n",
       "    <tr>\n",
       "      <td>Jose Rodrigues dos Santos</td>\n",
       "      <td>1131971</td>\n",
       "      <td>668358</td>\n",
       "    </tr>\n",
       "    <tr>\n",
       "      <td>Jose Saramago</td>\n",
       "      <td>1006571</td>\n",
       "      <td>583250</td>\n",
       "    </tr>\n",
       "    <tr>\n",
       "      <td>Luisa Marques Silva</td>\n",
       "      <td>41214</td>\n",
       "      <td>24114</td>\n",
       "    </tr>\n",
       "  </tbody>\n",
       "</table>\n",
       "</div>"
      ],
      "text/plain": [
       "                           word_count_text  word_count_clean\n",
       "Author                                                      \n",
       "Almada Negreiros                     43610             27887\n",
       "Camilo Castelo Branco               749872            454886\n",
       "Eca de Queiros                      438367            272083\n",
       "Jose Rodrigues dos Santos          1131971            668358\n",
       "Jose Saramago                      1006571            583250\n",
       "Luisa Marques Silva                  41214             24114"
      ]
     },
     "execution_count": 20,
     "metadata": {},
     "output_type": "execute_result"
    }
   ],
   "source": [
    "corpora.groupby(['Author']).sum()"
   ]
  },
  {
   "cell_type": "code",
   "execution_count": 21,
   "metadata": {},
   "outputs": [
    {
     "data": {
      "text/plain": [
       "count        63.000000\n",
       "mean      32231.396825\n",
       "std       31577.716825\n",
       "min         203.000000\n",
       "25%        3599.500000\n",
       "50%       28211.000000\n",
       "75%       45676.500000\n",
       "max      131684.000000\n",
       "Name: word_count_clean, dtype: float64"
      ]
     },
     "execution_count": 21,
     "metadata": {},
     "output_type": "execute_result"
    }
   ],
   "source": [
    "corpora.word_count_clean.describe()"
   ]
  },
  {
   "cell_type": "code",
   "execution_count": 22,
   "metadata": {},
   "outputs": [],
   "source": [
    "all_words = ' '.join(corpora['Clean Text']).split()"
   ]
  },
  {
   "cell_type": "code",
   "execution_count": 23,
   "metadata": {},
   "outputs": [],
   "source": [
    "# Count all words\n",
    "freq = pd.Series(all_words).value_counts()"
   ]
  },
  {
   "cell_type": "code",
   "execution_count": 24,
   "metadata": {},
   "outputs": [
    {
     "data": {
      "text/plain": [
       "nao       52050\n",
       "d         12481\n",
       "ja         9952\n",
       "disse      7494\n",
       "la         7176\n",
       "ser        7060\n",
       "ainda      6639\n",
       "ha         5941\n",
       "bem        5716\n",
       "dia        5661\n",
       "onde       5642\n",
       "mao        5556\n",
       "so         5418\n",
       "ate        5225\n",
       "sobre      5090\n",
       "porque     5011\n",
       "assim      4912\n",
       "olhos      4908\n",
       "n          4875\n",
       "toda       4868\n",
       "tempo      4857\n",
       "aqui       4824\n",
       "tudo       4785\n",
       "agora      4730\n",
       "homem      4713\n",
       "dtype: int64"
      ]
     },
     "execution_count": 24,
     "metadata": {},
     "output_type": "execute_result"
    }
   ],
   "source": [
    "freq[:25]"
   ]
  },
  {
   "cell_type": "code",
   "execution_count": 25,
   "metadata": {},
   "outputs": [
    {
     "name": "stderr",
     "output_type": "stream",
     "text": [
      "[nltk_data] Downloading package stopwords to\n",
      "[nltk_data]     C:\\Users\\Maren\\AppData\\Roaming\\nltk_data...\n",
      "[nltk_data]   Package stopwords is already up-to-date!\n"
     ]
    },
    {
     "data": {
      "text/plain": [
       "True"
      ]
     },
     "execution_count": 25,
     "metadata": {},
     "output_type": "execute_result"
    }
   ],
   "source": [
    "import nltk\n",
    "nltk.download('stopwords')"
   ]
  },
  {
   "cell_type": "markdown",
   "metadata": {},
   "source": [
    "From the top 30 most frequent words count the number of stopwords. What's the percentage?"
   ]
  },
  {
   "cell_type": "code",
   "execution_count": 26,
   "metadata": {},
   "outputs": [
    {
     "data": {
      "text/plain": [
       "0"
      ]
     },
     "execution_count": 26,
     "metadata": {},
     "output_type": "execute_result"
    }
   ],
   "source": [
    "from nltk.corpus import stopwords\n",
    "stopwords = set(stopwords.words(\"portuguese\"))\n",
    "count = 0\n",
    "for word in freq.index[:30]:\n",
    "    if word in stopwords:\n",
    "        count += 1\n",
    "count"
   ]
  },
  {
   "cell_type": "code",
   "execution_count": 28,
   "metadata": {},
   "outputs": [
    {
     "data": {
      "text/plain": [
       "2"
      ]
     },
     "execution_count": 28,
     "metadata": {},
     "output_type": "execute_result"
    }
   ],
   "source": [
    "from nltk.corpus import stopwords\n",
    "stopwords = set(stopwords.words(\"english\"))\n",
    "count = 0\n",
    "for word in freq.index[:30]:\n",
    "    if word in stopwords:\n",
    "        count += 1\n",
    "count"
   ]
  },
  {
   "cell_type": "code",
   "execution_count": 29,
   "metadata": {},
   "outputs": [],
   "source": [
    "from sklearn.feature_extraction.text import CountVectorizer\n",
    "cv = CountVectorizer(\n",
    "    max_df=0.8,\n",
    "    stop_words=\"portuguese\", \n",
    "    max_features=10000, \n",
    "    ngram_range=(1,3) # all inclusive from {1,2,3}, if only bigrams use (2,2)\n",
    ")"
   ]
  },
  {
   "cell_type": "code",
   "execution_count": 30,
   "metadata": {
    "scrolled": true
   },
   "outputs": [],
   "source": [
    "X = cv.fit_transform(cleaned_corpora)"
   ]
  },
  {
   "cell_type": "code",
   "execution_count": 32,
   "metadata": {},
   "outputs": [
    {
     "data": {
      "text/plain": [
       "['scena',\n",
       " 'odio',\n",
       " 'author',\n",
       " 'almada',\n",
       " 'portuguese',\n",
       " 'alvaro',\n",
       " 'campos',\n",
       " 'poema',\n",
       " 'escripto',\n",
       " 'noites']"
      ]
     },
     "execution_count": 32,
     "metadata": {},
     "output_type": "execute_result"
    }
   ],
   "source": [
    "list(cv.vocabulary_.keys())[:10]"
   ]
  },
  {
   "cell_type": "code",
   "execution_count": 33,
   "metadata": {},
   "outputs": [],
   "source": [
    "def get_top_n_grams(corpus, top_k, n):\n",
    "    \"\"\"\n",
    "    Function that receives a list of documents (corpus) and extracts\n",
    "        the top k most frequent n-grams for that corpus.\n",
    "        \n",
    "    :param corpus: list of texts\n",
    "    :param top_k: int with the number of n-grams that we want to extract\n",
    "    :param n: n gram type to be considered \n",
    "             (if n=1 extracts unigrams, if n=2 extracts bigrams, ...)\n",
    "             \n",
    "    :return: Returns a sorted dataframe in which the first column \n",
    "        contains the extracted ngrams and the second column contains\n",
    "        the respective counts\n",
    "    \"\"\"\n",
    "    vec = CountVectorizer(ngram_range=(n, n), max_features=2000).fit(corpus)\n",
    "    \n",
    "    bag_of_words = vec.transform(corpus)\n",
    "    \n",
    "    sum_words = bag_of_words.sum(axis=0) \n",
    "    \n",
    "    words_freq = []\n",
    "    for word, idx in vec.vocabulary_.items():\n",
    "        words_freq.append((word, sum_words[0, idx]))\n",
    "        \n",
    "    words_freq = sorted(words_freq, key=lambda x: x[1], reverse=True)\n",
    "    top_df = pd.DataFrame(words_freq[:top_k])\n",
    "    top_df.columns = [\"Ngram\", \"Freq\"]\n",
    "    return top_df"
   ]
  },
  {
   "cell_type": "code",
   "execution_count": 34,
   "metadata": {},
   "outputs": [],
   "source": [
    "top_df = get_top_n_grams(cleaned_corpora, top_k=20, n=1)"
   ]
  },
  {
   "cell_type": "code",
   "execution_count": 35,
   "metadata": {},
   "outputs": [
    {
     "data": {
      "text/html": [
       "<div>\n",
       "<style scoped>\n",
       "    .dataframe tbody tr th:only-of-type {\n",
       "        vertical-align: middle;\n",
       "    }\n",
       "\n",
       "    .dataframe tbody tr th {\n",
       "        vertical-align: top;\n",
       "    }\n",
       "\n",
       "    .dataframe thead th {\n",
       "        text-align: right;\n",
       "    }\n",
       "</style>\n",
       "<table border=\"1\" class=\"dataframe\">\n",
       "  <thead>\n",
       "    <tr style=\"text-align: right;\">\n",
       "      <th></th>\n",
       "      <th>Ngram</th>\n",
       "      <th>Freq</th>\n",
       "    </tr>\n",
       "  </thead>\n",
       "  <tbody>\n",
       "    <tr>\n",
       "      <td>0</td>\n",
       "      <td>nao</td>\n",
       "      <td>52050</td>\n",
       "    </tr>\n",
       "    <tr>\n",
       "      <td>1</td>\n",
       "      <td>ja</td>\n",
       "      <td>9952</td>\n",
       "    </tr>\n",
       "    <tr>\n",
       "      <td>2</td>\n",
       "      <td>disse</td>\n",
       "      <td>7494</td>\n",
       "    </tr>\n",
       "    <tr>\n",
       "      <td>3</td>\n",
       "      <td>la</td>\n",
       "      <td>7176</td>\n",
       "    </tr>\n",
       "    <tr>\n",
       "      <td>4</td>\n",
       "      <td>ser</td>\n",
       "      <td>7060</td>\n",
       "    </tr>\n",
       "    <tr>\n",
       "      <td>5</td>\n",
       "      <td>ainda</td>\n",
       "      <td>6639</td>\n",
       "    </tr>\n",
       "    <tr>\n",
       "      <td>6</td>\n",
       "      <td>ha</td>\n",
       "      <td>5941</td>\n",
       "    </tr>\n",
       "    <tr>\n",
       "      <td>7</td>\n",
       "      <td>bem</td>\n",
       "      <td>5716</td>\n",
       "    </tr>\n",
       "    <tr>\n",
       "      <td>8</td>\n",
       "      <td>dia</td>\n",
       "      <td>5661</td>\n",
       "    </tr>\n",
       "    <tr>\n",
       "      <td>9</td>\n",
       "      <td>onde</td>\n",
       "      <td>5642</td>\n",
       "    </tr>\n",
       "  </tbody>\n",
       "</table>\n",
       "</div>"
      ],
      "text/plain": [
       "   Ngram   Freq\n",
       "0    nao  52050\n",
       "1     ja   9952\n",
       "2  disse   7494\n",
       "3     la   7176\n",
       "4    ser   7060\n",
       "5  ainda   6639\n",
       "6     ha   5941\n",
       "7    bem   5716\n",
       "8    dia   5661\n",
       "9   onde   5642"
      ]
     },
     "execution_count": 35,
     "metadata": {},
     "output_type": "execute_result"
    }
   ],
   "source": [
    "top_df.head(10)"
   ]
  },
  {
   "cell_type": "code",
   "execution_count": 36,
   "metadata": {},
   "outputs": [],
   "source": [
    "import numpy as np\n",
    "import matplotlib.pyplot as plt\n",
    "def plot_frequencies(top_df):\n",
    "    \"\"\"\n",
    "    Function that receives a dataframe from the \"get_top_n_grams\" function\n",
    "    and plots the frequencies in a bar plot.\n",
    "    \"\"\"\n",
    "    x_labels = top_df[\"Ngram\"][:30]\n",
    "    y_pos = np.arange(len(x_labels))\n",
    "    values = top_df[\"Freq\"][:30]\n",
    "    plt.bar(y_pos, values, align='center', alpha=0.5)\n",
    "    plt.xticks(y_pos, x_labels)\n",
    "    plt.ylabel('Frequencies')\n",
    "    plt.title('Words')\n",
    "    plt.xticks(rotation=90)\n",
    "    plt.show()"
   ]
  },
  {
   "cell_type": "code",
   "execution_count": 37,
   "metadata": {},
   "outputs": [
    {
     "data": {
      "image/png": "[encoded data removed]",
      "text/plain": [
       "<Figure size 432x288 with 1 Axes>"
      ]
     },
     "metadata": {
      "needs_background": "light"
     },
     "output_type": "display_data"
    }
   ],
   "source": [
    "plot_frequencies(top_df)"
   ]
  },
  {
   "cell_type": "code",
   "execution_count": 38,
   "metadata": {},
   "outputs": [
    {
     "data": {
      "text/plain": [
       "TfidfTransformer(norm='l2', smooth_idf=True, sublinear_tf=False, use_idf=True)"
      ]
     },
     "execution_count": 38,
     "metadata": {},
     "output_type": "execute_result"
    }
   ],
   "source": [
    "from sklearn.feature_extraction.text import TfidfTransformer\n",
    "tfidf_vectorizer = TfidfTransformer()\n",
    "tfidf_vectorizer.fit(X)"
   ]
  },
  {
   "cell_type": "code",
   "execution_count": 41,
   "metadata": {},
   "outputs": [],
   "source": [
    "# get feature names\n",
    "feature_names = cv.get_feature_names()\n",
    " \n",
    "# fetch document for which keywords needs to be extracted\n",
    "doc = cleaned_corpora[10]\n",
    " \n",
    "#generate tf-idf for the given document\n",
    "tf_idf_vector = tfidf_vectorizer.transform(cv.transform([doc]))"
   ]
  },
  {
   "cell_type": "code",
   "execution_count": 42,
   "metadata": {},
   "outputs": [
    {
     "data": {
      "text/plain": [
       "array([[0.        , 0.        , 0.00187421, ..., 0.        , 0.        ,\n",
       "        0.        ]])"
      ]
     },
     "execution_count": 42,
     "metadata": {},
     "output_type": "execute_result"
    }
   ],
   "source": [
    "tf_idf_vector.toarray()"
   ]
  },
  {
   "cell_type": "code",
   "execution_count": 43,
   "metadata": {},
   "outputs": [],
   "source": [
    "def extract_feature_scores(feature_names, document_vector):\n",
    "    \"\"\"\n",
    "    Function that creates a dictionary with the TF-IDF score for each feature.\n",
    "    :param feature_names: list with all the feature words.\n",
    "    :param document_vector: vector containing the extracted features for a specific document\n",
    "    \n",
    "    :return: returns a sorted dictionary \"feature\":\"score\".\n",
    "    \"\"\"\n",
    "    feature2score = {}\n",
    "    for i in range(len(feature_names)):\n",
    "        feature2score[feature_names[i]] = document_vector[0][i]    \n",
    "    return sorted(feature2score.items(), key=lambda kv: kv[1], reverse=True)"
   ]
  },
  {
   "cell_type": "code",
   "execution_count": 44,
   "metadata": {},
   "outputs": [
    {
     "data": {
      "text/plain": [
       "[('venceslau', 0.6063394397651788),\n",
       " ('julia', 0.40937297538734846),\n",
       " ('eduardo', 0.2899735257983129),\n",
       " ('elle', 0.1906393524991734),\n",
       " ('taveira', 0.18088181784367507),\n",
       " ('commendador', 0.16953572839932024),\n",
       " ('anna', 0.1518336435465516),\n",
       " ('venceslau taveira', 0.14788766823540944),\n",
       " ('snr', 0.1461882694016617),\n",
       " ('vaz', 0.1358434535271376)]"
      ]
     },
     "execution_count": 44,
     "metadata": {},
     "output_type": "execute_result"
    }
   ],
   "source": [
    "extract_feature_scores(feature_names, tf_idf_vector.toarray())[:10]"
   ]
  },
  {
   "cell_type": "code",
   "execution_count": 46,
   "metadata": {},
   "outputs": [],
   "source": [
    "doc = cleaned_corpora[10]"
   ]
  },
  {
   "cell_type": "code",
   "execution_count": 47,
   "metadata": {},
   "outputs": [
    {
     "data": {
      "text/plain": [
       "<1x10000 sparse matrix of type '<class 'numpy.float64'>'\n",
       "\twith 4331 stored elements in Compressed Sparse Row format>"
      ]
     },
     "execution_count": 47,
     "metadata": {},
     "output_type": "execute_result"
    }
   ],
   "source": [
    "tf_idf_vector = tfidf_vectorizer.transform(cv.transform([doc]))\n",
    "tf_idf_vector"
   ]
  },
  {
   "cell_type": "code",
   "execution_count": null,
   "metadata": {},
   "outputs": [],
   "source": []
  }
 ],
 "metadata": {
  "kernelspec": {
   "display_name": "Python 3",
   "language": "python",
   "name": "python3"
  },
  "language_info": {
   "codemirror_mode": {
    "name": "ipython",
    "version": 3
   },
   "file_extension": ".py",
   "mimetype": "text/x-python",
   "name": "python",
   "nbconvert_exporter": "python",
   "pygments_lexer": "ipython3",
   "version": "3.7.4"
  }
 },
 "nbformat": 4,
 "nbformat_minor": 4
}
