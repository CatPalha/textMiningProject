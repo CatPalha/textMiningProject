{
 "cells": [
  {
   "cell_type": "markdown",
   "metadata": {},
   "source": [
    "# Text Mining"
   ]
  },
  {
   "cell_type": "markdown",
   "metadata": {},
   "source": [
    "## Load necessary packages"
   ]
  },
  {
   "cell_type": "code",
   "execution_count": 1,
   "metadata": {},
   "outputs": [],
   "source": [
    "from pathlib import Path\n",
    "import pandas as pd\n",
    "import re\n",
    "import nltk\n",
    "from nltk.corpus import stopwords\n",
    "from nltk.stem.wordnet import WordNetLemmatizer\n",
    "from nltk.stem import SnowballStemmer\n",
    "from bs4 import BeautifulSoup\n",
    "from unidecode import unidecode\n",
    "from tqdm import tqdm_notebook as tqdm\n",
    "from sklearn.model_selection import KFold\n",
    "from sklearn.model_selection import StratifiedKFold\n",
    "import string\n",
    "import collections as ct\n",
    "from sklearn.feature_extraction.text import CountVectorizer\n",
    "from sklearn.feature_extraction.text import TfidfVectorizer\n",
    "import numpy as np\n",
    "import matplotlib.pyplot as plt\n",
    "from nltk.stem import RSLPStemmer\n",
    "from sklearn.naive_bayes import MultinomialNB\n",
    "from sklearn.model_selection import GridSearchCV\n",
    "from sklearn.preprocessing import LabelEncoder\n",
    "from sklearn.metrics import accuracy_score\n",
    "from sklearn.neighbors import KNeighborsClassifier\n",
    "from sklearn.svm import SVC\n",
    "from sklearn.tree import DecisionTreeClassifier\n",
    "from sklearn.linear_model import LogisticRegression\n",
    "import gensim\n",
    "from sklearn.neural_network import MLPClassifier\n",
    "from sklearn.metrics import confusion_matrix\n",
    "from math import ceil"
   ]
  },
  {
   "cell_type": "code",
   "execution_count": 2,
   "metadata": {},
   "outputs": [
    {
     "name": "stderr",
     "output_type": "stream",
     "text": [
      "[nltk_data] Downloading package rslp to\n",
      "[nltk_data]     C:\\Users\\Mafalda\\AppData\\Roaming\\nltk_data...\n",
      "[nltk_data]   Package rslp is already up-to-date!\n"
     ]
    },
    {
     "data": {
      "text/plain": [
       "True"
      ]
     },
     "execution_count": 2,
     "metadata": {},
     "output_type": "execute_result"
    }
   ],
   "source": [
    "import nltk\n",
    "nltk.download('rslp')"
   ]
  },
  {
   "cell_type": "markdown",
   "metadata": {},
   "source": [
    "## Load corpora"
   ]
  },
  {
   "cell_type": "code",
   "execution_count": 3,
   "metadata": {},
   "outputs": [],
   "source": [
    "def load_corpus(filename):\n",
    "    corpus = Path(filename).read_text(encoding=\"utf8\")\n",
    "    return corpus"
   ]
  },
  {
   "cell_type": "code",
   "execution_count": 4,
   "metadata": {},
   "outputs": [],
   "source": [
    "def load_corpora(filelist,author):\n",
    "    files = []\n",
    "    for file in filelist:\n",
    "        location = \"Corpora/train/\"+file\n",
    "        corpus = load_corpus(location)\n",
    "        files.append(corpus)\n",
    "    df = pd.DataFrame(files, columns=['Text'])\n",
    "    df['Author'] = pd.Series([author for x in range(len(df.index))], index=df.index)\n",
    "    return df"
   ]
  },
  {
   "cell_type": "code",
   "execution_count": 5,
   "metadata": {},
   "outputs": [],
   "source": [
    "almada = [\n",
    "    'AlmadaNegreiros/pg22615.txt',\n",
    "    'AlmadaNegreiros/pg22730.txt',\n",
    "    'AlmadaNegreiros/pg22801.txt',\n",
    "    'AlmadaNegreiros/pg22802.txt',\n",
    "    'AlmadaNegreiros/pg22969.txt',\n",
    "    'AlmadaNegreiros/pg23133.txt',\n",
    "    'AlmadaNegreiros/pg23620.txt',\n",
    "    'AlmadaNegreiros/pg23879.txt',\n",
    "    'AlmadaNegreiros/pg23961.txt'\n",
    "]\n",
    "\n",
    "corpora_almada = load_corpora(almada, 'Almada Negreiros')"
   ]
  },
  {
   "cell_type": "code",
   "execution_count": 6,
   "metadata": {},
   "outputs": [],
   "source": [
    "camilo = [\n",
    "    'CamiloCasteloBranco/24691-0.txt',\n",
    "    'CamiloCasteloBranco/34756-0.txt',\n",
    "    'CamiloCasteloBranco/pg16425.txt',\n",
    "    'CamiloCasteloBranco/pg17927.txt',\n",
    "    'CamiloCasteloBranco/pg19375.txt',\n",
    "    'CamiloCasteloBranco/pg21406.txt',\n",
    "    'CamiloCasteloBranco/pg23203.txt',\n",
    "    'CamiloCasteloBranco/pg23345.txt',\n",
    "    'CamiloCasteloBranco/pg23346.txt',\n",
    "    'CamiloCasteloBranco/pg24339.txt',\n",
    "    'CamiloCasteloBranco/pg25844.txt',\n",
    "    'CamiloCasteloBranco/pg26017.txt',\n",
    "    'CamiloCasteloBranco/pg26103.txt',\n",
    "    'CamiloCasteloBranco/pg26110.txt',\n",
    "    'CamiloCasteloBranco/pg26988.txt',\n",
    "    'CamiloCasteloBranco/pg27364.txt',\n",
    "    'CamiloCasteloBranco/pg27541.txt',\n",
    "    'CamiloCasteloBranco/pg28310.txt',\n",
    "    'CamiloCasteloBranco/pg31694.txt',\n",
    "    'CamiloCasteloBranco/pg33788.txt',\n",
    "]\n",
    "\n",
    "corpora_camilo = load_corpora(camilo, 'Camilo Castelo Branco')"
   ]
  },
  {
   "cell_type": "code",
   "execution_count": 7,
   "metadata": {},
   "outputs": [],
   "source": [
    "eca = [\n",
    "    'EcaDeQueiros/pg18220.txt',\n",
    "    'EcaDeQueiros/pg25641.txt',\n",
    "    'EcaDeQueiros/pg27637.txt',\n",
    "    'EcaDeQueiros/pg31347.txt',\n",
    "    'EcaDeQueiros/pg40409.txt'\n",
    "]\n",
    "\n",
    "corpora_eca = load_corpora(eca, 'Eca de Queiros')"
   ]
  },
  {
   "cell_type": "code",
   "execution_count": 8,
   "metadata": {},
   "outputs": [],
   "source": [
    "rodrigues_santos = [\n",
    "    'JoseRodriguesSantos/A Filha Do Capitao - Jose Rodrigues dos Santos.txt',\n",
    "    'JoseRodriguesSantos/A Formula De Deus - Jose Rodrigues dos Santos.txt',\n",
    "    'JoseRodriguesSantos/A Mao do Diabo - Jose Rodrigues dos Santos.txt',\n",
    "    'JoseRodriguesSantos/A Vida Num Sopro - Jose Rodrigues dos Santos.txt',\n",
    "    'JoseRodriguesSantos/Furia Divina - Jose Rodrigues dos Santos.txt',\n",
    "    'JoseRodriguesSantos/O Anjo Branco - Jose Rodrigues dos Santos.txt',\n",
    "    'JoseRodriguesSantos/O Setimo Selo - Jose Rodrigues dos Santos.txt',\n",
    "    'JoseRodriguesSantos/O ultimo Segredo - Jose Rodrigues dos Santos.txt'\n",
    "]\n",
    "\n",
    "corpora_rodrigues_santos = load_corpora(rodrigues_santos, 'Jose Rodrigues dos Santos')"
   ]
  },
  {
   "cell_type": "code",
   "execution_count": 9,
   "metadata": {},
   "outputs": [],
   "source": [
    "saramago = [\n",
    "    'JoseSaramago/A Caverna - Jose Saramago.txt',\n",
    "    'JoseSaramago/As Intermitencias da Morte - Jose Saramago.txt',\n",
    "    'JoseSaramago/Caim - Jose Saramago.txt',\n",
    "    'JoseSaramago/Claraboia - Jose Saramago.txt',\n",
    "    'JoseSaramago/Ensaio Sobre a Cegueira - Jose Saramago.txt',\n",
    "    'JoseSaramago/Historia Do Cerco De Lisboa - Jose Saramago.txt',\n",
    "    'JoseSaramago/Memorial Do Convento - Jose Saramago.txt',\n",
    "    'JoseSaramago/O Ano Da Morte De Ricardo Reis - Jose Saramago.txt',\n",
    "    'JoseSaramago/O Conto Da Ilha Desconhecida - Jose Saramago.txt',\n",
    "    'JoseSaramago/O Homem Duplicado - Jose Saramago.txt',\n",
    "    'JoseSaramago/Terra Do Pecado - Jose Saramago.txt',\n",
    "    'JoseSaramago/Viagem Do Elefante - Jose Saramago.txt'\n",
    "]\n",
    "\n",
    "corpora_saramago = load_corpora(saramago, 'Jose Saramago')"
   ]
  },
  {
   "cell_type": "code",
   "execution_count": 10,
   "metadata": {},
   "outputs": [],
   "source": [
    "luisa = [\n",
    "    'LuisaMarquesSilva/ABelaHistoria.txt',\n",
    "    'LuisaMarquesSilva/acabouSe.txt',\n",
    "    'LuisaMarquesSilva/Botão.txt',\n",
    "    'LuisaMarquesSilva/controlz.txt',\n",
    "    'LuisaMarquesSilva/emedo.txt',\n",
    "    'LuisaMarquesSilva/Lisboa2050.txt',\n",
    "    'LuisaMarquesSilva/passeioInferno.txt',\n",
    "    'LuisaMarquesSilva/rapsodiasemdo.txt',\n",
    "    'LuisaMarquesSilva/UltimaHistoria.txt'\n",
    "]\n",
    "\n",
    "corpora_luisa = load_corpora(luisa, 'Luisa Marques Silva')"
   ]
  },
  {
   "cell_type": "code",
   "execution_count": 11,
   "metadata": {},
   "outputs": [
    {
     "data": {
      "text/plain": [
       "(63, 2)"
      ]
     },
     "execution_count": 11,
     "metadata": {},
     "output_type": "execute_result"
    }
   ],
   "source": [
    "corpora = pd.concat([corpora_almada, corpora_camilo, corpora_eca, corpora_rodrigues_santos, corpora_saramago, corpora_luisa]).reset_index(drop = True)\n",
    "corpora.shape"
   ]
  },
  {
   "cell_type": "markdown",
   "metadata": {},
   "source": [
    "## Preprocessing"
   ]
  },
  {
   "cell_type": "code",
   "execution_count": 12,
   "metadata": {},
   "outputs": [],
   "source": [
    "def preprocessing(dataframe,stemmer):\n",
    "    processed_corpus = []\n",
    "    \n",
    "    stop_words_pt = set(stopwords.words(\"portuguese\", \"english\"))\n",
    "    \n",
    "    for i in tqdm(range(len(dataframe))):\n",
    "        text = dataframe['Text'][i]\n",
    "        \n",
    "        #Remove accents\n",
    "        text = unidecode(text)\n",
    "        \n",
    "        #remove punctuation\n",
    "        text = re.sub('[^a-zA-Z]', ' ', text)\n",
    "        \n",
    "        #Convert to lowercase\n",
    "        text = text.lower()\n",
    "\n",
    "        #remove tags\n",
    "        text = BeautifulSoup(text).get_text()\n",
    "        \n",
    "        #Convert to list from string\n",
    "        text = text.split()\n",
    "\n",
    "        #Stemming\n",
    "        if stemmer == 'snowball':\n",
    "            stemmer_pt = SnowballStemmer('portuguese')\n",
    "        elif stemmer == 'rslp':\n",
    "            stemmer_pt = RSLPStemmer()\n",
    "            \n",
    "        text = [stemmer_pt.stem(word) for word in text if not word in stop_words_pt]\n",
    "        \n",
    "        text = \" \".join(text)\n",
    "\n",
    "        processed_corpus.append(text)\n",
    "    return processed_corpus"
   ]
  },
  {
   "cell_type": "code",
   "execution_count": 13,
   "metadata": {},
   "outputs": [
    {
     "data": {
      "application/vnd.jupyter.widget-view+json": {
       "model_id": "f9e543e35885479c8d2d4899de02812b",
       "version_major": 2,
       "version_minor": 0
      },
      "text/plain": [
       "HBox(children=(IntProgress(value=0, max=63), HTML(value='')))"
      ]
     },
     "metadata": {},
     "output_type": "display_data"
    },
    {
     "name": "stdout",
     "output_type": "stream",
     "text": [
      "\n"
     ]
    }
   ],
   "source": [
    "cleaned_corpora = preprocessing(corpora,'snowball')"
   ]
  },
  {
   "cell_type": "code",
   "execution_count": 14,
   "metadata": {},
   "outputs": [],
   "source": [
    "corpora['Clean Text'] = pd.Series(cleaned_corpora, index = corpora.index)"
   ]
  },
  {
   "cell_type": "code",
   "execution_count": 15,
   "metadata": {},
   "outputs": [
    {
     "data": {
      "application/vnd.jupyter.widget-view+json": {
       "model_id": "0c80313c3c474558a9dc35e35b9a462b",
       "version_major": 2,
       "version_minor": 0
      },
      "text/plain": [
       "HBox(children=(IntProgress(value=0, max=63), HTML(value='')))"
      ]
     },
     "metadata": {},
     "output_type": "display_data"
    },
    {
     "name": "stdout",
     "output_type": "stream",
     "text": [
      "\n"
     ]
    }
   ],
   "source": [
    "corpora['Word List'] = corpora['Clean Text']\n",
    "\n",
    "for i in tqdm(range(len(corpora))):\n",
    "    mystr = corpora['Clean Text'][i]\n",
    "    wordList = re.sub(\"[^\\w]\", \" \",  mystr).split()\n",
    "    \n",
    "    corpora['Word List'][i] = wordList"
   ]
  },
  {
   "cell_type": "code",
   "execution_count": 16,
   "metadata": {
    "scrolled": true
   },
   "outputs": [
    {
     "data": {
      "text/html": [
       "<div>\n",
       "<style scoped>\n",
       "    .dataframe tbody tr th:only-of-type {\n",
       "        vertical-align: middle;\n",
       "    }\n",
       "\n",
       "    .dataframe tbody tr th {\n",
       "        vertical-align: top;\n",
       "    }\n",
       "\n",
       "    .dataframe thead th {\n",
       "        text-align: right;\n",
       "    }\n",
       "</style>\n",
       "<table border=\"1\" class=\"dataframe\">\n",
       "  <thead>\n",
       "    <tr style=\"text-align: right;\">\n",
       "      <th></th>\n",
       "      <th>Text</th>\n",
       "      <th>Author</th>\n",
       "      <th>Clean Text</th>\n",
       "      <th>Word List</th>\n",
       "    </tr>\n",
       "  </thead>\n",
       "  <tbody>\n",
       "    <tr>\n",
       "      <th>0</th>\n",
       "      <td>Title: A Scena do Odio\\n\\nAuthor: José de Alma...</td>\n",
       "      <td>Almada Negreiros</td>\n",
       "      <td>titl scen odi author jos almad negreir releas ...</td>\n",
       "      <td>[titl, scen, odi, author, jos, almad, negreir,...</td>\n",
       "    </tr>\n",
       "    <tr>\n",
       "      <th>1</th>\n",
       "      <td>Title: O Jardim da Pierrette\\n\\nAuthor: José d...</td>\n",
       "      <td>Almada Negreiros</td>\n",
       "      <td>titl jardim pierrett author jos almad negreir ...</td>\n",
       "      <td>[titl, jardim, pierrett, author, jos, almad, n...</td>\n",
       "    </tr>\n",
       "    <tr>\n",
       "      <th>2</th>\n",
       "      <td>\\n\\nTitle: A Invenção do Dia Claro\\n\\nAuthor: ...</td>\n",
       "      <td>Almada Negreiros</td>\n",
       "      <td>titl invenca dia clar author jos almad negreir...</td>\n",
       "      <td>[titl, invenca, dia, clar, author, jos, almad,...</td>\n",
       "    </tr>\n",
       "    <tr>\n",
       "      <th>3</th>\n",
       "      <td>\\nTitle: Litoral\\n       A Amadeo de Souza Car...</td>\n",
       "      <td>Almada Negreiros</td>\n",
       "      <td>titl litoral amad souz cardoz author jos almad...</td>\n",
       "      <td>[titl, litoral, amad, souz, cardoz, author, jo...</td>\n",
       "    </tr>\n",
       "    <tr>\n",
       "      <th>4</th>\n",
       "      <td>\\n\\n\\nEXPOSIÇÃO\\n\\n+amadeo\\nde souza\\ncardoso+...</td>\n",
       "      <td>Almada Negreiros</td>\n",
       "      <td>exposica amad souz cardos lig naval lisbo port...</td>\n",
       "      <td>[exposica, amad, souz, cardos, lig, naval, lis...</td>\n",
       "    </tr>\n",
       "    <tr>\n",
       "      <th>5</th>\n",
       "      <td>\\n\\n*JOSÉ DE ALMADA-NEGREIROS*\\n\\n\\n*K4\\n\\no q...</td>\n",
       "      <td>Almada Negreiros</td>\n",
       "      <td>jos almad negreir k quadr azul acab aparec poe...</td>\n",
       "      <td>[jos, almad, negreir, k, quadr, azul, acab, ap...</td>\n",
       "    </tr>\n",
       "    <tr>\n",
       "      <th>6</th>\n",
       "      <td>\\n\\n*\"ORPHEU\"*\\n\\nREVISTA TRIMESTRAL DE LITERA...</td>\n",
       "      <td>Almada Negreiros</td>\n",
       "      <td>orpheu revist trimestral literatur portugal br...</td>\n",
       "      <td>[orpheu, revist, trimestral, literatur, portug...</td>\n",
       "    </tr>\n",
       "    <tr>\n",
       "      <th>7</th>\n",
       "      <td>\\n\\n+a ENGOMADEIRA+\\n\\nNOVELA VULGAR LISBOETA\\...</td>\n",
       "      <td>Almada Negreiros</td>\n",
       "      <td>engomadeir novel vulg lisboet engomadeir jos a...</td>\n",
       "      <td>[engomadeir, novel, vulg, lisboet, engomadeir,...</td>\n",
       "    </tr>\n",
       "    <tr>\n",
       "      <th>8</th>\n",
       "      <td>\\n+MANIFESTO+\\n\\n+ANTI-DANTAS+\\n\\nE\\n\\nPOR EXT...</td>\n",
       "      <td>Almada Negreiros</td>\n",
       "      <td>manifest anti dant extens jos almad negreir po...</td>\n",
       "      <td>[manifest, anti, dant, extens, jos, almad, neg...</td>\n",
       "    </tr>\n",
       "    <tr>\n",
       "      <th>9</th>\n",
       "      <td>O vinho do Porto\\n\\nPROCESSO D'UMA BESTIALIDAD...</td>\n",
       "      <td>Camilo Castelo Branco</td>\n",
       "      <td>vinh port process d bestial inglez exposica th...</td>\n",
       "      <td>[vinh, port, process, d, bestial, inglez, expo...</td>\n",
       "    </tr>\n",
       "    <tr>\n",
       "      <th>10</th>\n",
       "      <td>\\nLIVRO DE CONSOLAÇÃO\\n\\nROMANCE\\n\\nPOR\\n\\nCAM...</td>\n",
       "      <td>Camilo Castelo Branco</td>\n",
       "      <td>livr consolaca romanc camill castell branc nao...</td>\n",
       "      <td>[livr, consolaca, romanc, camill, castell, bra...</td>\n",
       "    </tr>\n",
       "    <tr>\n",
       "      <th>11</th>\n",
       "      <td>AMOR DE PERDIÇÃO\\n\\n\\n(MEMORIAS D'UMA FAMILIA)...</td>\n",
       "      <td>Camilo Castelo Branco</td>\n",
       "      <td>amor perdica memor d famil romanc camill caste...</td>\n",
       "      <td>[amor, perdica, memor, d, famil, romanc, camil...</td>\n",
       "    </tr>\n",
       "    <tr>\n",
       "      <th>12</th>\n",
       "      <td>A QUEDA D'UM ANJO\\n\\nROMANCE\\n\\nPOR\\n\\nCAMILLO...</td>\n",
       "      <td>Camilo Castelo Branco</td>\n",
       "      <td>qued d anjo romanc camill castell branc lisbo ...</td>\n",
       "      <td>[qued, d, anjo, romanc, camill, castell, branc...</td>\n",
       "    </tr>\n",
       "    <tr>\n",
       "      <th>13</th>\n",
       "      <td>\\n\\nA SENHORA RATTAZZI\\n\\nPOR\\n\\nCAMILLO CASTE...</td>\n",
       "      <td>Camilo Castelo Branco</td>\n",
       "      <td>senhor rattazz camill castell branc nov edica ...</td>\n",
       "      <td>[senhor, rattazz, camill, castell, branc, nov,...</td>\n",
       "    </tr>\n",
       "    <tr>\n",
       "      <th>14</th>\n",
       "      <td>\\nOBRAS DE CAMILLO CASTELLO BRANCO\\n\\n_Novella...</td>\n",
       "      <td>Camilo Castelo Branco</td>\n",
       "      <td>obras camill castell branc novell minh volum i...</td>\n",
       "      <td>[obras, camill, castell, branc, novell, minh, ...</td>\n",
       "    </tr>\n",
       "    <tr>\n",
       "      <th>15</th>\n",
       "      <td>SCENAS CONTEMPORANEAS\\n\\nPOR\\n\\nCAMILLO CASTEL...</td>\n",
       "      <td>Camilo Castelo Branco</td>\n",
       "      <td>scen contemporan camill castell branc edica po...</td>\n",
       "      <td>[scen, contemporan, camill, castell, branc, ed...</td>\n",
       "    </tr>\n",
       "    <tr>\n",
       "      <th>16</th>\n",
       "      <td>A GRATIDÃO.\\n\\nROMANCE.\\n\\n\\nI.\\n\\nEstavamos n...</td>\n",
       "      <td>Camilo Castelo Branco</td>\n",
       "      <td>gratida romanc i estav ultim dias dezembr cam ...</td>\n",
       "      <td>[gratida, romanc, i, estav, ultim, dias, dezem...</td>\n",
       "    </tr>\n",
       "    <tr>\n",
       "      <th>17</th>\n",
       "      <td>O ARREPENDIMENTO.\\n\\nROMANCE\\n\\n\\nEm tempos da...</td>\n",
       "      <td>Camilo Castelo Branco</td>\n",
       "      <td>arrepend romanc temp mocidad costum visit miud...</td>\n",
       "      <td>[arrepend, romanc, temp, mocidad, costum, visi...</td>\n",
       "    </tr>\n",
       "    <tr>\n",
       "      <th>18</th>\n",
       "      <td>SUICIDA\\n\\n\\nPORTO Typographia de A. J. da Sil...</td>\n",
       "      <td>Camilo Castelo Branco</td>\n",
       "      <td>suic port typograph j silv teixeir cancell vel...</td>\n",
       "      <td>[suic, port, typograph, j, silv, teixeir, canc...</td>\n",
       "    </tr>\n",
       "    <tr>\n",
       "      <th>19</th>\n",
       "      <td>VOLTAREIS Ó CHRISTO?\\n\\n\\n\\n\\nPorto Imprensa P...</td>\n",
       "      <td>Camilo Castelo Branco</td>\n",
       "      <td>volt christ port imprens portugu bom jardim vo...</td>\n",
       "      <td>[volt, christ, port, imprens, portugu, bom, ja...</td>\n",
       "    </tr>\n",
       "    <tr>\n",
       "      <th>20</th>\n",
       "      <td>\\nROMANCES NACIONAES\\n\\n\\nO REGICIDA\\n\\nRomanc...</td>\n",
       "      <td>Camilo Castelo Branco</td>\n",
       "      <td>romanc naciona regic romanc histor camill cast...</td>\n",
       "      <td>[romanc, naciona, regic, romanc, histor, camil...</td>\n",
       "    </tr>\n",
       "    <tr>\n",
       "      <th>21</th>\n",
       "      <td>ANNOS DE PROSA\\n\\nRomance\\n\\npor\\n\\nCAMILLO CA...</td>\n",
       "      <td>Camilo Castelo Branco</td>\n",
       "      <td>annos pros romanc camill castell branc gratida...</td>\n",
       "      <td>[annos, pros, romanc, camill, castell, branc, ...</td>\n",
       "    </tr>\n",
       "    <tr>\n",
       "      <th>22</th>\n",
       "      <td>OBRAS\\n\\nDE\\n\\nCAMILLO CASTELLO BRANCO\\n\\nEDIÇ...</td>\n",
       "      <td>Camilo Castelo Branco</td>\n",
       "      <td>obras camill castell branc edica popul xxii ol...</td>\n",
       "      <td>[obras, camill, castell, branc, edica, popul, ...</td>\n",
       "    </tr>\n",
       "    <tr>\n",
       "      <th>23</th>\n",
       "      <td>AMOR DE SALVAÇÃO\\n\\nPOR\\n\\nCAMILLO CASTELLO-BR...</td>\n",
       "      <td>Camilo Castelo Branco</td>\n",
       "      <td>amor salvaca camill castell branc heavy pric m...</td>\n",
       "      <td>[amor, salvaca, camill, castell, branc, heavy,...</td>\n",
       "    </tr>\n",
       "    <tr>\n",
       "      <th>24</th>\n",
       "      <td>A FILHA DO ARCEDIAGO\\n\\nFILHA DO ARCEDIAGO\\n\\n...</td>\n",
       "      <td>Camilo Castelo Branco</td>\n",
       "      <td>filh arcediag filh arcediag camill castell bra...</td>\n",
       "      <td>[filh, arcediag, filh, arcediag, camill, caste...</td>\n",
       "    </tr>\n",
       "    <tr>\n",
       "      <th>25</th>\n",
       "      <td>Obras\\n\\nde\\n\\nCamillo Castello Branco\\n\\nEdiç...</td>\n",
       "      <td>Camilo Castelo Branco</td>\n",
       "      <td>obras camill castell branc edica popul xxi agu...</td>\n",
       "      <td>[obras, camill, castell, branc, edica, popul, ...</td>\n",
       "    </tr>\n",
       "    <tr>\n",
       "      <th>26</th>\n",
       "      <td>\\nSCENAS DA FOZ\\n\\nPOR\\n\\nCAMILLO CASTELLO BRA...</td>\n",
       "      <td>Camilo Castelo Branco</td>\n",
       "      <td>scen foz camill castell branc solemn verb ulti...</td>\n",
       "      <td>[scen, foz, camill, castell, branc, solemn, ve...</td>\n",
       "    </tr>\n",
       "    <tr>\n",
       "      <th>27</th>\n",
       "      <td>\\nOBRAS\\n\\nDE\\n\\nCAMILLO CASTELLO BRANCO\\n\\nED...</td>\n",
       "      <td>Camilo Castelo Branco</td>\n",
       "      <td>obras camill castell branc edica popul l estre...</td>\n",
       "      <td>[obras, camill, castell, branc, edica, popul, ...</td>\n",
       "    </tr>\n",
       "    <tr>\n",
       "      <th>28</th>\n",
       "      <td>\\nESTRELLAS PROPICIAS.\\n\\n\\n\\n\\nOBRAS DE CAMIL...</td>\n",
       "      <td>Camilo Castelo Branco</td>\n",
       "      <td>estrell propic obras camill castell branc enco...</td>\n",
       "      <td>[estrell, propic, obras, camill, castell, bran...</td>\n",
       "    </tr>\n",
       "    <tr>\n",
       "      <th>29</th>\n",
       "      <td>\\nA CIDADE E AS SERRAS\\n\\n\\n\\n\\nA CIDADE E AS ...</td>\n",
       "      <td>Eca de Queiros</td>\n",
       "      <td>cidad serr cidad serr i amig jacinth nasc n pa...</td>\n",
       "      <td>[cidad, serr, cidad, serr, i, amig, jacinth, n...</td>\n",
       "    </tr>\n",
       "    <tr>\n",
       "      <th>...</th>\n",
       "      <td>...</td>\n",
       "      <td>...</td>\n",
       "      <td>...</td>\n",
       "      <td>...</td>\n",
       "    </tr>\n",
       "    <tr>\n",
       "      <th>33</th>\n",
       "      <td>\\nEÇA DE QUEIROZ\\n\\nOS MAIAS\\n\\nEPISODIOS DA V...</td>\n",
       "      <td>Eca de Queiros</td>\n",
       "      <td>eca queiroz mai episodi vid romant volum i por...</td>\n",
       "      <td>[eca, queiroz, mai, episodi, vid, romant, volu...</td>\n",
       "    </tr>\n",
       "    <tr>\n",
       "      <th>34</th>\n",
       "      <td>José Rodrigues dos Santos\\n\\nA Filha do Capitã...</td>\n",
       "      <td>Jose Rodrigues dos Santos</td>\n",
       "      <td>jos rodrigu sant filh capita jos rodrigu sant ...</td>\n",
       "      <td>[jos, rodrigu, sant, filh, capita, jos, rodrig...</td>\n",
       "    </tr>\n",
       "    <tr>\n",
       "      <th>35</th>\n",
       "      <td>José Rodrigues dos Santos A FÓRMULA DE DEUS\\n\\...</td>\n",
       "      <td>Jose Rodrigues dos Santos</td>\n",
       "      <td>jos rodrigu sant formul deus editor record rio...</td>\n",
       "      <td>[jos, rodrigu, sant, formul, deus, editor, rec...</td>\n",
       "    </tr>\n",
       "    <tr>\n",
       "      <th>36</th>\n",
       "      <td>A MÃO DO D I A B O r o m a n c e\\n\\n\\n\\nNós so...</td>\n",
       "      <td>Jose Rodrigues dos Santos</td>\n",
       "      <td>mao d i b r m n c propri diab faz dest mund in...</td>\n",
       "      <td>[mao, d, i, b, r, m, n, c, propri, diab, faz, ...</td>\n",
       "    </tr>\n",
       "    <tr>\n",
       "      <th>37</th>\n",
       "      <td>I\\nO sol jorrava por todas as janelas em casca...</td>\n",
       "      <td>Jose Rodrigues dos Santos</td>\n",
       "      <td>i sol jorr tod janel cascat luz tep difus alun...</td>\n",
       "      <td>[i, sol, jorr, tod, janel, cascat, luz, tep, d...</td>\n",
       "    </tr>\n",
       "    <tr>\n",
       "      <th>38</th>\n",
       "      <td>Prólogo\\n\\nAs luzes dos faróis rasgaram a noit...</td>\n",
       "      <td>Jose Rodrigues dos Santos</td>\n",
       "      <td>prolog luz faro rasg noit glacial prenunc frag...</td>\n",
       "      <td>[prolog, luz, faro, rasg, noit, glacial, prenu...</td>\n",
       "    </tr>\n",
       "    <tr>\n",
       "      <th>39</th>\n",
       "      <td>JOSÉ RODRIGUES DOS SANTOS\\n\\nO ANJO BRANCO\\n\\n...</td>\n",
       "      <td>Jose Rodrigues dos Santos</td>\n",
       "      <td>jos rodrigu sant anjo branc part parais ha tal...</td>\n",
       "      <td>[jos, rodrigu, sant, anjo, branc, part, parais...</td>\n",
       "    </tr>\n",
       "    <tr>\n",
       "      <th>40</th>\n",
       "      <td>O SÉTIMO SELO romance\\n\\n\\n © José Rodrigues d...</td>\n",
       "      <td>Jose Rodrigues dos Santos</td>\n",
       "      <td>setim sel romanc c jos rodrigu sant gradiv pub...</td>\n",
       "      <td>[setim, sel, romanc, c, jos, rodrigu, sant, gr...</td>\n",
       "    </tr>\n",
       "    <tr>\n",
       "      <th>41</th>\n",
       "      <td>OBRAS DO AUTOR\\n\\nENSAIO Comunicação, Difusão ...</td>\n",
       "      <td>Jose Rodrigues dos Santos</td>\n",
       "      <td>obras autor ensai comunicaca difusa cultural p...</td>\n",
       "      <td>[obras, autor, ensai, comunicaca, difusa, cult...</td>\n",
       "    </tr>\n",
       "    <tr>\n",
       "      <th>42</th>\n",
       "      <td>José Saramago\\n\\nA caverna\\n\\n\\nRomance Novemb...</td>\n",
       "      <td>Jose Saramago</td>\n",
       "      <td>jos saramag cavern romanc novembr editorial ca...</td>\n",
       "      <td>[jos, saramag, cavern, romanc, novembr, editor...</td>\n",
       "    </tr>\n",
       "    <tr>\n",
       "      <th>43</th>\n",
       "      <td>José Saramago As intermitências da morte\\nComp...</td>\n",
       "      <td>Jose Saramago</td>\n",
       "      <td>jos saramag intermitenc mort companh letr copy...</td>\n",
       "      <td>[jos, saramag, intermitenc, mort, companh, let...</td>\n",
       "    </tr>\n",
       "    <tr>\n",
       "      <th>44</th>\n",
       "      <td>JOSÉ SARAMAGO\\n\\nCAIM\\n\\nCAMINHO\\n\\nBadana da ...</td>\n",
       "      <td>Jose Saramago</td>\n",
       "      <td>jos saramag caim caminh badan cap jos saramag ...</td>\n",
       "      <td>[jos, saramag, caim, caminh, badan, cap, jos, ...</td>\n",
       "    </tr>\n",
       "    <tr>\n",
       "      <th>45</th>\n",
       "      <td>José Saramago\\n\\n(Prêmio Nobel de Literatura)\\...</td>\n",
       "      <td>Jose Saramago</td>\n",
       "      <td>jos saramag premi nobel literatur clarabo i ve...</td>\n",
       "      <td>[jos, saramag, premi, nobel, literatur, clarab...</td>\n",
       "    </tr>\n",
       "    <tr>\n",
       "      <th>46</th>\n",
       "      <td>Livro dos Conselhos\\n\\n\\n\\nO disco amarelo ilu...</td>\n",
       "      <td>Jose Saramago</td>\n",
       "      <td>livr conselh disc amarel ilumin dois automov f...</td>\n",
       "      <td>[livr, conselh, disc, amarel, ilumin, dois, au...</td>\n",
       "    </tr>\n",
       "    <tr>\n",
       "      <th>47</th>\n",
       "      <td>José Saramago\\n\\nHistória do cerco de Lisboa h...</td>\n",
       "      <td>Jose Saramago</td>\n",
       "      <td>jos saramag histor cerc lisbo http groups goog...</td>\n",
       "      <td>[jos, saramag, histor, cerc, lisbo, http, grou...</td>\n",
       "    </tr>\n",
       "    <tr>\n",
       "      <th>48</th>\n",
       "      <td>MEMORIAL DO CONVENTO José Saramago JOSÉ SARAMA...</td>\n",
       "      <td>Jose Saramago</td>\n",
       "      <td>memorial convent jos saramag jos saramag nasc ...</td>\n",
       "      <td>[memorial, convent, jos, saramag, jos, saramag...</td>\n",
       "    </tr>\n",
       "    <tr>\n",
       "      <th>49</th>\n",
       "      <td>José Saramago\\n\\nO ano da morte de Ricardo Rei...</td>\n",
       "      <td>Jose Saramago</td>\n",
       "      <td>jos saramag ano mort ricard reis aqu mar acab ...</td>\n",
       "      <td>[jos, saramag, ano, mort, ricard, reis, aqu, m...</td>\n",
       "    </tr>\n",
       "    <tr>\n",
       "      <th>50</th>\n",
       "      <td>José Saramago\\n\\nO conto da ilha desconhecida\\...</td>\n",
       "      <td>Jose Saramago</td>\n",
       "      <td>jos saramag cont ilha desconhec hom bat port r...</td>\n",
       "      <td>[jos, saramag, cont, ilha, desconhec, hom, bat...</td>\n",
       "    </tr>\n",
       "    <tr>\n",
       "      <th>51</th>\n",
       "      <td>O HOMEM DUPLICADO\\n\\nJosé Saramago\\n\\n***\\n\\nO...</td>\n",
       "      <td>Jose Saramago</td>\n",
       "      <td>hom duplic jos saramag hom acab entrar loj alu...</td>\n",
       "      <td>[hom, duplic, jos, saramag, hom, acab, entrar,...</td>\n",
       "    </tr>\n",
       "    <tr>\n",
       "      <th>52</th>\n",
       "      <td>José Saramago\\n\\nTerra do Pecado\\n\\nAviso\\nO a...</td>\n",
       "      <td>Jose Saramago</td>\n",
       "      <td>jos saramag terr pec avis autor rapaz vint qua...</td>\n",
       "      <td>[jos, saramag, terr, pec, avis, autor, rapaz, ...</td>\n",
       "    </tr>\n",
       "    <tr>\n",
       "      <th>53</th>\n",
       "      <td>\\n a viagem do elefante obras do autor publica...</td>\n",
       "      <td>Jose Saramago</td>\n",
       "      <td>viag elef obras autor public companh letr ano ...</td>\n",
       "      <td>[viag, elef, obras, autor, public, companh, le...</td>\n",
       "    </tr>\n",
       "    <tr>\n",
       "      <th>54</th>\n",
       "      <td>A BELA HISTÓRIA DE DINIS E BEATRIZ OU REQUIEM ...</td>\n",
       "      <td>Luisa Marques Silva</td>\n",
       "      <td>bel histor din beatriz requi borbulh din menin...</td>\n",
       "      <td>[bel, histor, din, beatriz, requi, borbulh, di...</td>\n",
       "    </tr>\n",
       "    <tr>\n",
       "      <th>55</th>\n",
       "      <td>\\n\\n\\nAcabou-se!\\nLuísa Marques da Silva\\n\\nTí...</td>\n",
       "      <td>Luisa Marques Silva</td>\n",
       "      <td>acab luis marqu silv titul acab autor magnif g...</td>\n",
       "      <td>[acab, luis, marqu, silv, titul, acab, autor, ...</td>\n",
       "    </tr>\n",
       "    <tr>\n",
       "      <th>56</th>\n",
       "      <td>O terrível caso do botão assassino\\nLuísa Marq...</td>\n",
       "      <td>Luisa Marques Silva</td>\n",
       "      <td>terrivel cas bota assassin luis marqu silv tit...</td>\n",
       "      <td>[terrivel, cas, bota, assassin, luis, marqu, s...</td>\n",
       "    </tr>\n",
       "    <tr>\n",
       "      <th>57</th>\n",
       "      <td>CONTROL Z\\nChegou a hora de vos contar. Chegou...</td>\n",
       "      <td>Luisa Marques Silva</td>\n",
       "      <td>control z cheg hor cont cheg hor explic raza e...</td>\n",
       "      <td>[control, z, cheg, hor, cont, cheg, hor, expli...</td>\n",
       "    </tr>\n",
       "    <tr>\n",
       "      <th>58</th>\n",
       "      <td>Título\\ne-medo\\n\\nAutora (inspiradíssima)\\nLuí...</td>\n",
       "      <td>Luisa Marques Silva</td>\n",
       "      <td>titul med autor inspiradissim luis marqu silv ...</td>\n",
       "      <td>[titul, med, autor, inspiradissim, luis, marqu...</td>\n",
       "    </tr>\n",
       "    <tr>\n",
       "      <th>59</th>\n",
       "      <td>LISBOA 2050\\nLisboa, ano de 2050. Um Agosto tã...</td>\n",
       "      <td>Luisa Marques Silva</td>\n",
       "      <td>lisbo lisbo ano agost tao gel ha vint anos atr...</td>\n",
       "      <td>[lisbo, lisbo, ano, agost, tao, gel, ha, vint,...</td>\n",
       "    </tr>\n",
       "    <tr>\n",
       "      <th>60</th>\n",
       "      <td>Título\\nUm passeio pelo inferno\\n\\nAutora\\nLuí...</td>\n",
       "      <td>Luisa Marques Silva</td>\n",
       "      <td>titul passei infern autor luis marqu silv tod ...</td>\n",
       "      <td>[titul, passei, infern, autor, luis, marqu, si...</td>\n",
       "    </tr>\n",
       "    <tr>\n",
       "      <th>61</th>\n",
       "      <td>Título\\nRapsódia sem dó (maior)\\n\\nAutora\\nLuí...</td>\n",
       "      <td>Luisa Marques Silva</td>\n",
       "      <td>titul rapsod maior autor luis marqu silv tod d...</td>\n",
       "      <td>[titul, rapsod, maior, autor, luis, marqu, sil...</td>\n",
       "    </tr>\n",
       "    <tr>\n",
       "      <th>62</th>\n",
       "      <td>Título\\nA última história\\n\\nAutora (próximo N...</td>\n",
       "      <td>Luisa Marques Silva</td>\n",
       "      <td>titul ultim histor autor proxim nobel luis mar...</td>\n",
       "      <td>[titul, ultim, histor, autor, proxim, nobel, l...</td>\n",
       "    </tr>\n",
       "  </tbody>\n",
       "</table>\n",
       "<p>63 rows × 4 columns</p>\n",
       "</div>"
      ],
      "text/plain": [
       "                                                 Text  \\\n",
       "0   Title: A Scena do Odio\\n\\nAuthor: José de Alma...   \n",
       "1   Title: O Jardim da Pierrette\\n\\nAuthor: José d...   \n",
       "2   \\n\\nTitle: A Invenção do Dia Claro\\n\\nAuthor: ...   \n",
       "3   \\nTitle: Litoral\\n       A Amadeo de Souza Car...   \n",
       "4   \\n\\n\\nEXPOSIÇÃO\\n\\n+amadeo\\nde souza\\ncardoso+...   \n",
       "5   \\n\\n*JOSÉ DE ALMADA-NEGREIROS*\\n\\n\\n*K4\\n\\no q...   \n",
       "6   \\n\\n*\"ORPHEU\"*\\n\\nREVISTA TRIMESTRAL DE LITERA...   \n",
       "7   \\n\\n+a ENGOMADEIRA+\\n\\nNOVELA VULGAR LISBOETA\\...   \n",
       "8   \\n+MANIFESTO+\\n\\n+ANTI-DANTAS+\\n\\nE\\n\\nPOR EXT...   \n",
       "9   O vinho do Porto\\n\\nPROCESSO D'UMA BESTIALIDAD...   \n",
       "10  \\nLIVRO DE CONSOLAÇÃO\\n\\nROMANCE\\n\\nPOR\\n\\nCAM...   \n",
       "11  AMOR DE PERDIÇÃO\\n\\n\\n(MEMORIAS D'UMA FAMILIA)...   \n",
       "12  A QUEDA D'UM ANJO\\n\\nROMANCE\\n\\nPOR\\n\\nCAMILLO...   \n",
       "13  \\n\\nA SENHORA RATTAZZI\\n\\nPOR\\n\\nCAMILLO CASTE...   \n",
       "14  \\nOBRAS DE CAMILLO CASTELLO BRANCO\\n\\n_Novella...   \n",
       "15  SCENAS CONTEMPORANEAS\\n\\nPOR\\n\\nCAMILLO CASTEL...   \n",
       "16  A GRATIDÃO.\\n\\nROMANCE.\\n\\n\\nI.\\n\\nEstavamos n...   \n",
       "17  O ARREPENDIMENTO.\\n\\nROMANCE\\n\\n\\nEm tempos da...   \n",
       "18  SUICIDA\\n\\n\\nPORTO Typographia de A. J. da Sil...   \n",
       "19  VOLTAREIS Ó CHRISTO?\\n\\n\\n\\n\\nPorto Imprensa P...   \n",
       "20  \\nROMANCES NACIONAES\\n\\n\\nO REGICIDA\\n\\nRomanc...   \n",
       "21  ANNOS DE PROSA\\n\\nRomance\\n\\npor\\n\\nCAMILLO CA...   \n",
       "22  OBRAS\\n\\nDE\\n\\nCAMILLO CASTELLO BRANCO\\n\\nEDIÇ...   \n",
       "23  AMOR DE SALVAÇÃO\\n\\nPOR\\n\\nCAMILLO CASTELLO-BR...   \n",
       "24  A FILHA DO ARCEDIAGO\\n\\nFILHA DO ARCEDIAGO\\n\\n...   \n",
       "25  Obras\\n\\nde\\n\\nCamillo Castello Branco\\n\\nEdiç...   \n",
       "26  \\nSCENAS DA FOZ\\n\\nPOR\\n\\nCAMILLO CASTELLO BRA...   \n",
       "27  \\nOBRAS\\n\\nDE\\n\\nCAMILLO CASTELLO BRANCO\\n\\nED...   \n",
       "28  \\nESTRELLAS PROPICIAS.\\n\\n\\n\\n\\nOBRAS DE CAMIL...   \n",
       "29  \\nA CIDADE E AS SERRAS\\n\\n\\n\\n\\nA CIDADE E AS ...   \n",
       "..                                                ...   \n",
       "33  \\nEÇA DE QUEIROZ\\n\\nOS MAIAS\\n\\nEPISODIOS DA V...   \n",
       "34  José Rodrigues dos Santos\\n\\nA Filha do Capitã...   \n",
       "35  José Rodrigues dos Santos A FÓRMULA DE DEUS\\n\\...   \n",
       "36  A MÃO DO D I A B O r o m a n c e\\n\\n\\n\\nNós so...   \n",
       "37  I\\nO sol jorrava por todas as janelas em casca...   \n",
       "38  Prólogo\\n\\nAs luzes dos faróis rasgaram a noit...   \n",
       "39  JOSÉ RODRIGUES DOS SANTOS\\n\\nO ANJO BRANCO\\n\\n...   \n",
       "40  O SÉTIMO SELO romance\\n\\n\\n © José Rodrigues d...   \n",
       "41  OBRAS DO AUTOR\\n\\nENSAIO Comunicação, Difusão ...   \n",
       "42  José Saramago\\n\\nA caverna\\n\\n\\nRomance Novemb...   \n",
       "43  José Saramago As intermitências da morte\\nComp...   \n",
       "44  JOSÉ SARAMAGO\\n\\nCAIM\\n\\nCAMINHO\\n\\nBadana da ...   \n",
       "45  José Saramago\\n\\n(Prêmio Nobel de Literatura)\\...   \n",
       "46  Livro dos Conselhos\\n\\n\\n\\nO disco amarelo ilu...   \n",
       "47  José Saramago\\n\\nHistória do cerco de Lisboa h...   \n",
       "48  MEMORIAL DO CONVENTO José Saramago JOSÉ SARAMA...   \n",
       "49  José Saramago\\n\\nO ano da morte de Ricardo Rei...   \n",
       "50  José Saramago\\n\\nO conto da ilha desconhecida\\...   \n",
       "51  O HOMEM DUPLICADO\\n\\nJosé Saramago\\n\\n***\\n\\nO...   \n",
       "52  José Saramago\\n\\nTerra do Pecado\\n\\nAviso\\nO a...   \n",
       "53  \\n a viagem do elefante obras do autor publica...   \n",
       "54  A BELA HISTÓRIA DE DINIS E BEATRIZ OU REQUIEM ...   \n",
       "55  \\n\\n\\nAcabou-se!\\nLuísa Marques da Silva\\n\\nTí...   \n",
       "56  O terrível caso do botão assassino\\nLuísa Marq...   \n",
       "57  CONTROL Z\\nChegou a hora de vos contar. Chegou...   \n",
       "58  Título\\ne-medo\\n\\nAutora (inspiradíssima)\\nLuí...   \n",
       "59  LISBOA 2050\\nLisboa, ano de 2050. Um Agosto tã...   \n",
       "60  Título\\nUm passeio pelo inferno\\n\\nAutora\\nLuí...   \n",
       "61  Título\\nRapsódia sem dó (maior)\\n\\nAutora\\nLuí...   \n",
       "62  Título\\nA última história\\n\\nAutora (próximo N...   \n",
       "\n",
       "                       Author  \\\n",
       "0            Almada Negreiros   \n",
       "1            Almada Negreiros   \n",
       "2            Almada Negreiros   \n",
       "3            Almada Negreiros   \n",
       "4            Almada Negreiros   \n",
       "5            Almada Negreiros   \n",
       "6            Almada Negreiros   \n",
       "7            Almada Negreiros   \n",
       "8            Almada Negreiros   \n",
       "9       Camilo Castelo Branco   \n",
       "10      Camilo Castelo Branco   \n",
       "11      Camilo Castelo Branco   \n",
       "12      Camilo Castelo Branco   \n",
       "13      Camilo Castelo Branco   \n",
       "14      Camilo Castelo Branco   \n",
       "15      Camilo Castelo Branco   \n",
       "16      Camilo Castelo Branco   \n",
       "17      Camilo Castelo Branco   \n",
       "18      Camilo Castelo Branco   \n",
       "19      Camilo Castelo Branco   \n",
       "20      Camilo Castelo Branco   \n",
       "21      Camilo Castelo Branco   \n",
       "22      Camilo Castelo Branco   \n",
       "23      Camilo Castelo Branco   \n",
       "24      Camilo Castelo Branco   \n",
       "25      Camilo Castelo Branco   \n",
       "26      Camilo Castelo Branco   \n",
       "27      Camilo Castelo Branco   \n",
       "28      Camilo Castelo Branco   \n",
       "29             Eca de Queiros   \n",
       "..                        ...   \n",
       "33             Eca de Queiros   \n",
       "34  Jose Rodrigues dos Santos   \n",
       "35  Jose Rodrigues dos Santos   \n",
       "36  Jose Rodrigues dos Santos   \n",
       "37  Jose Rodrigues dos Santos   \n",
       "38  Jose Rodrigues dos Santos   \n",
       "39  Jose Rodrigues dos Santos   \n",
       "40  Jose Rodrigues dos Santos   \n",
       "41  Jose Rodrigues dos Santos   \n",
       "42              Jose Saramago   \n",
       "43              Jose Saramago   \n",
       "44              Jose Saramago   \n",
       "45              Jose Saramago   \n",
       "46              Jose Saramago   \n",
       "47              Jose Saramago   \n",
       "48              Jose Saramago   \n",
       "49              Jose Saramago   \n",
       "50              Jose Saramago   \n",
       "51              Jose Saramago   \n",
       "52              Jose Saramago   \n",
       "53              Jose Saramago   \n",
       "54        Luisa Marques Silva   \n",
       "55        Luisa Marques Silva   \n",
       "56        Luisa Marques Silva   \n",
       "57        Luisa Marques Silva   \n",
       "58        Luisa Marques Silva   \n",
       "59        Luisa Marques Silva   \n",
       "60        Luisa Marques Silva   \n",
       "61        Luisa Marques Silva   \n",
       "62        Luisa Marques Silva   \n",
       "\n",
       "                                           Clean Text  \\\n",
       "0   titl scen odi author jos almad negreir releas ...   \n",
       "1   titl jardim pierrett author jos almad negreir ...   \n",
       "2   titl invenca dia clar author jos almad negreir...   \n",
       "3   titl litoral amad souz cardoz author jos almad...   \n",
       "4   exposica amad souz cardos lig naval lisbo port...   \n",
       "5   jos almad negreir k quadr azul acab aparec poe...   \n",
       "6   orpheu revist trimestral literatur portugal br...   \n",
       "7   engomadeir novel vulg lisboet engomadeir jos a...   \n",
       "8   manifest anti dant extens jos almad negreir po...   \n",
       "9   vinh port process d bestial inglez exposica th...   \n",
       "10  livr consolaca romanc camill castell branc nao...   \n",
       "11  amor perdica memor d famil romanc camill caste...   \n",
       "12  qued d anjo romanc camill castell branc lisbo ...   \n",
       "13  senhor rattazz camill castell branc nov edica ...   \n",
       "14  obras camill castell branc novell minh volum i...   \n",
       "15  scen contemporan camill castell branc edica po...   \n",
       "16  gratida romanc i estav ultim dias dezembr cam ...   \n",
       "17  arrepend romanc temp mocidad costum visit miud...   \n",
       "18  suic port typograph j silv teixeir cancell vel...   \n",
       "19  volt christ port imprens portugu bom jardim vo...   \n",
       "20  romanc naciona regic romanc histor camill cast...   \n",
       "21  annos pros romanc camill castell branc gratida...   \n",
       "22  obras camill castell branc edica popul xxii ol...   \n",
       "23  amor salvaca camill castell branc heavy pric m...   \n",
       "24  filh arcediag filh arcediag camill castell bra...   \n",
       "25  obras camill castell branc edica popul xxi agu...   \n",
       "26  scen foz camill castell branc solemn verb ulti...   \n",
       "27  obras camill castell branc edica popul l estre...   \n",
       "28  estrell propic obras camill castell branc enco...   \n",
       "29  cidad serr cidad serr i amig jacinth nasc n pa...   \n",
       "..                                                ...   \n",
       "33  eca queiroz mai episodi vid romant volum i por...   \n",
       "34  jos rodrigu sant filh capita jos rodrigu sant ...   \n",
       "35  jos rodrigu sant formul deus editor record rio...   \n",
       "36  mao d i b r m n c propri diab faz dest mund in...   \n",
       "37  i sol jorr tod janel cascat luz tep difus alun...   \n",
       "38  prolog luz faro rasg noit glacial prenunc frag...   \n",
       "39  jos rodrigu sant anjo branc part parais ha tal...   \n",
       "40  setim sel romanc c jos rodrigu sant gradiv pub...   \n",
       "41  obras autor ensai comunicaca difusa cultural p...   \n",
       "42  jos saramag cavern romanc novembr editorial ca...   \n",
       "43  jos saramag intermitenc mort companh letr copy...   \n",
       "44  jos saramag caim caminh badan cap jos saramag ...   \n",
       "45  jos saramag premi nobel literatur clarabo i ve...   \n",
       "46  livr conselh disc amarel ilumin dois automov f...   \n",
       "47  jos saramag histor cerc lisbo http groups goog...   \n",
       "48  memorial convent jos saramag jos saramag nasc ...   \n",
       "49  jos saramag ano mort ricard reis aqu mar acab ...   \n",
       "50  jos saramag cont ilha desconhec hom bat port r...   \n",
       "51  hom duplic jos saramag hom acab entrar loj alu...   \n",
       "52  jos saramag terr pec avis autor rapaz vint qua...   \n",
       "53  viag elef obras autor public companh letr ano ...   \n",
       "54  bel histor din beatriz requi borbulh din menin...   \n",
       "55  acab luis marqu silv titul acab autor magnif g...   \n",
       "56  terrivel cas bota assassin luis marqu silv tit...   \n",
       "57  control z cheg hor cont cheg hor explic raza e...   \n",
       "58  titul med autor inspiradissim luis marqu silv ...   \n",
       "59  lisbo lisbo ano agost tao gel ha vint anos atr...   \n",
       "60  titul passei infern autor luis marqu silv tod ...   \n",
       "61  titul rapsod maior autor luis marqu silv tod d...   \n",
       "62  titul ultim histor autor proxim nobel luis mar...   \n",
       "\n",
       "                                            Word List  \n",
       "0   [titl, scen, odi, author, jos, almad, negreir,...  \n",
       "1   [titl, jardim, pierrett, author, jos, almad, n...  \n",
       "2   [titl, invenca, dia, clar, author, jos, almad,...  \n",
       "3   [titl, litoral, amad, souz, cardoz, author, jo...  \n",
       "4   [exposica, amad, souz, cardos, lig, naval, lis...  \n",
       "5   [jos, almad, negreir, k, quadr, azul, acab, ap...  \n",
       "6   [orpheu, revist, trimestral, literatur, portug...  \n",
       "7   [engomadeir, novel, vulg, lisboet, engomadeir,...  \n",
       "8   [manifest, anti, dant, extens, jos, almad, neg...  \n",
       "9   [vinh, port, process, d, bestial, inglez, expo...  \n",
       "10  [livr, consolaca, romanc, camill, castell, bra...  \n",
       "11  [amor, perdica, memor, d, famil, romanc, camil...  \n",
       "12  [qued, d, anjo, romanc, camill, castell, branc...  \n",
       "13  [senhor, rattazz, camill, castell, branc, nov,...  \n",
       "14  [obras, camill, castell, branc, novell, minh, ...  \n",
       "15  [scen, contemporan, camill, castell, branc, ed...  \n",
       "16  [gratida, romanc, i, estav, ultim, dias, dezem...  \n",
       "17  [arrepend, romanc, temp, mocidad, costum, visi...  \n",
       "18  [suic, port, typograph, j, silv, teixeir, canc...  \n",
       "19  [volt, christ, port, imprens, portugu, bom, ja...  \n",
       "20  [romanc, naciona, regic, romanc, histor, camil...  \n",
       "21  [annos, pros, romanc, camill, castell, branc, ...  \n",
       "22  [obras, camill, castell, branc, edica, popul, ...  \n",
       "23  [amor, salvaca, camill, castell, branc, heavy,...  \n",
       "24  [filh, arcediag, filh, arcediag, camill, caste...  \n",
       "25  [obras, camill, castell, branc, edica, popul, ...  \n",
       "26  [scen, foz, camill, castell, branc, solemn, ve...  \n",
       "27  [obras, camill, castell, branc, edica, popul, ...  \n",
       "28  [estrell, propic, obras, camill, castell, bran...  \n",
       "29  [cidad, serr, cidad, serr, i, amig, jacinth, n...  \n",
       "..                                                ...  \n",
       "33  [eca, queiroz, mai, episodi, vid, romant, volu...  \n",
       "34  [jos, rodrigu, sant, filh, capita, jos, rodrig...  \n",
       "35  [jos, rodrigu, sant, formul, deus, editor, rec...  \n",
       "36  [mao, d, i, b, r, m, n, c, propri, diab, faz, ...  \n",
       "37  [i, sol, jorr, tod, janel, cascat, luz, tep, d...  \n",
       "38  [prolog, luz, faro, rasg, noit, glacial, prenu...  \n",
       "39  [jos, rodrigu, sant, anjo, branc, part, parais...  \n",
       "40  [setim, sel, romanc, c, jos, rodrigu, sant, gr...  \n",
       "41  [obras, autor, ensai, comunicaca, difusa, cult...  \n",
       "42  [jos, saramag, cavern, romanc, novembr, editor...  \n",
       "43  [jos, saramag, intermitenc, mort, companh, let...  \n",
       "44  [jos, saramag, caim, caminh, badan, cap, jos, ...  \n",
       "45  [jos, saramag, premi, nobel, literatur, clarab...  \n",
       "46  [livr, conselh, disc, amarel, ilumin, dois, au...  \n",
       "47  [jos, saramag, histor, cerc, lisbo, http, grou...  \n",
       "48  [memorial, convent, jos, saramag, jos, saramag...  \n",
       "49  [jos, saramag, ano, mort, ricard, reis, aqu, m...  \n",
       "50  [jos, saramag, cont, ilha, desconhec, hom, bat...  \n",
       "51  [hom, duplic, jos, saramag, hom, acab, entrar,...  \n",
       "52  [jos, saramag, terr, pec, avis, autor, rapaz, ...  \n",
       "53  [viag, elef, obras, autor, public, companh, le...  \n",
       "54  [bel, histor, din, beatriz, requi, borbulh, di...  \n",
       "55  [acab, luis, marqu, silv, titul, acab, autor, ...  \n",
       "56  [terrivel, cas, bota, assassin, luis, marqu, s...  \n",
       "57  [control, z, cheg, hor, cont, cheg, hor, expli...  \n",
       "58  [titul, med, autor, inspiradissim, luis, marqu...  \n",
       "59  [lisbo, lisbo, ano, agost, tao, gel, ha, vint,...  \n",
       "60  [titul, passei, infern, autor, luis, marqu, si...  \n",
       "61  [titul, rapsod, maior, autor, luis, marqu, sil...  \n",
       "62  [titul, ultim, histor, autor, proxim, nobel, l...  \n",
       "\n",
       "[63 rows x 4 columns]"
      ]
     },
     "execution_count": 16,
     "metadata": {},
     "output_type": "execute_result"
    }
   ],
   "source": [
    "corpora"
   ]
  },
  {
   "cell_type": "code",
   "execution_count": 17,
   "metadata": {},
   "outputs": [
    {
     "data": {
      "application/vnd.jupyter.widget-view+json": {
       "model_id": "3074a01b642048f993fdf7aacb4f5882",
       "version_major": 2,
       "version_minor": 0
      },
      "text/plain": [
       "HBox(children=(IntProgress(value=0, max=63), HTML(value='')))"
      ]
     },
     "metadata": {},
     "output_type": "display_data"
    },
    {
     "name": "stdout",
     "output_type": "stream",
     "text": [
      "\n"
     ]
    },
    {
     "data": {
      "text/html": [
       "<div>\n",
       "<style scoped>\n",
       "    .dataframe tbody tr th:only-of-type {\n",
       "        vertical-align: middle;\n",
       "    }\n",
       "\n",
       "    .dataframe tbody tr th {\n",
       "        vertical-align: top;\n",
       "    }\n",
       "\n",
       "    .dataframe thead th {\n",
       "        text-align: right;\n",
       "    }\n",
       "</style>\n",
       "<table border=\"1\" class=\"dataframe\">\n",
       "  <thead>\n",
       "    <tr style=\"text-align: right;\">\n",
       "      <th></th>\n",
       "      <th>OG Index</th>\n",
       "      <th>500 Word List</th>\n",
       "      <th>500 Clean Text</th>\n",
       "    </tr>\n",
       "  </thead>\n",
       "  <tbody>\n",
       "    <tr>\n",
       "      <th>0</th>\n",
       "      <td>0</td>\n",
       "      <td>[titl, scen, odi, author, jos, almad, negreir,...</td>\n",
       "      <td>titl scen odi author jos almad negreir releas ...</td>\n",
       "    </tr>\n",
       "    <tr>\n",
       "      <th>1</th>\n",
       "      <td>0</td>\n",
       "      <td>[cabeleir, prat, estilhac, herald, vitra, desp...</td>\n",
       "      <td>cabeleir prat estilhac herald vitra despeg len...</td>\n",
       "    </tr>\n",
       "    <tr>\n",
       "      <th>2</th>\n",
       "      <td>0</td>\n",
       "      <td>[cabec, ve, so, olhos, vir, cheir, cheir, terr...</td>\n",
       "      <td>cabec ve so olhos vir cheir cheir terr com ter...</td>\n",
       "    </tr>\n",
       "    <tr>\n",
       "      <th>3</th>\n",
       "      <td>1</td>\n",
       "      <td>[titl, jardim, pierrett, author, jos, almad, n...</td>\n",
       "      <td>titl jardim pierrett author jos almad negreir ...</td>\n",
       "    </tr>\n",
       "    <tr>\n",
       "      <th>4</th>\n",
       "      <td>2</td>\n",
       "      <td>[titl, invenca, dia, clar, author, jos, almad,...</td>\n",
       "      <td>titl invenca dia clar author jos almad negreir...</td>\n",
       "    </tr>\n",
       "    <tr>\n",
       "      <th>5</th>\n",
       "      <td>2</td>\n",
       "      <td>[i, part, andaim, vesp, conferenc, improvis, s...</td>\n",
       "      <td>i part andaim vesp conferenc improvis senhor s...</td>\n",
       "    </tr>\n",
       "    <tr>\n",
       "      <th>6</th>\n",
       "      <td>2</td>\n",
       "      <td>[palavr, tod, gost, coll, algum, d, pacienc, p...</td>\n",
       "      <td>palavr tod gost coll algum d pacienc palavr sa...</td>\n",
       "    </tr>\n",
       "    <tr>\n",
       "      <th>7</th>\n",
       "      <td>2</td>\n",
       "      <td>[ouv, cruz, encruzilh, cad, parec, reconhec, a...</td>\n",
       "      <td>ouv cruz encruzilh cad parec reconhec aquell m...</td>\n",
       "    </tr>\n",
       "    <tr>\n",
       "      <th>8</th>\n",
       "      <td>2</td>\n",
       "      <td>[exist, nao, tao, devag, quadr, azul, par, dia...</td>\n",
       "      <td>exist nao tao devag quadr azul par dia vez ir ...</td>\n",
       "    </tr>\n",
       "    <tr>\n",
       "      <th>9</th>\n",
       "      <td>2</td>\n",
       "      <td>[quer, advinh, taes, palavr, outr, vez, anjo, ...</td>\n",
       "      <td>quer advinh taes palavr outr vez anjo guard pe...</td>\n",
       "    </tr>\n",
       "    <tr>\n",
       "      <th>10</th>\n",
       "      <td>2</td>\n",
       "      <td>[papel, chei, linh, umas, n, direcca, outr, n,...</td>\n",
       "      <td>papel chei linh umas n direcca outr n outr uma...</td>\n",
       "    </tr>\n",
       "    <tr>\n",
       "      <th>11</th>\n",
       "      <td>3</td>\n",
       "      <td>[titl, litoral, amad, souz, cardoz, author, jo...</td>\n",
       "      <td>titl litoral amad souz cardoz author jos almad...</td>\n",
       "    </tr>\n",
       "    <tr>\n",
       "      <th>12</th>\n",
       "      <td>4</td>\n",
       "      <td>[exposica, amad, souz, cardos, lig, naval, lis...</td>\n",
       "      <td>exposica amad souz cardos lig naval lisbo port...</td>\n",
       "    </tr>\n",
       "    <tr>\n",
       "      <th>13</th>\n",
       "      <td>5</td>\n",
       "      <td>[jos, almad, negreir, k, quadr, azul, acab, ap...</td>\n",
       "      <td>jos almad negreir k quadr azul acab aparec poe...</td>\n",
       "    </tr>\n",
       "    <tr>\n",
       "      <th>14</th>\n",
       "      <td>5</td>\n",
       "      <td>[feit, hom, aind, infam, deus, ter, nasc, port...</td>\n",
       "      <td>feit hom aind infam deus ter nasc portuguez ja...</td>\n",
       "    </tr>\n",
       "    <tr>\n",
       "      <th>15</th>\n",
       "      <td>5</td>\n",
       "      <td>[nenhum, fac, quadr, azul, reproduz, nit, golp...</td>\n",
       "      <td>nenhum fac quadr azul reproduz nit golp radium...</td>\n",
       "    </tr>\n",
       "    <tr>\n",
       "      <th>16</th>\n",
       "      <td>5</td>\n",
       "      <td>[illumin, perpendicular, direcca, energ, pra, ...</td>\n",
       "      <td>illumin perpendicular direcca energ pra la vid...</td>\n",
       "    </tr>\n",
       "    <tr>\n",
       "      <th>17</th>\n",
       "      <td>5</td>\n",
       "      <td>[desesper, d, agu, outr, vez, diagona, divid, ...</td>\n",
       "      <td>desesper d agu outr vez diagona divid quadr ra...</td>\n",
       "    </tr>\n",
       "    <tr>\n",
       "      <th>18</th>\n",
       "      <td>5</td>\n",
       "      <td>[tod, ate, instant, pens, mim, quer, noca, exa...</td>\n",
       "      <td>tod ate instant pens mim quer noca exact inten...</td>\n",
       "    </tr>\n",
       "    <tr>\n",
       "      <th>19</th>\n",
       "      <td>5</td>\n",
       "      <td>[maci, loir, habit, lingu, direca, gest, atitu...</td>\n",
       "      <td>maci loir habit lingu direca gest atitud tud d...</td>\n",
       "    </tr>\n",
       "    <tr>\n",
       "      <th>20</th>\n",
       "      <td>5</td>\n",
       "      <td>[bast, so, pra, human, tod, so, instant, imanc...</td>\n",
       "      <td>bast so pra human tod so instant imancip unani...</td>\n",
       "    </tr>\n",
       "    <tr>\n",
       "      <th>21</th>\n",
       "      <td>6</td>\n",
       "      <td>[orpheu, revist, trimestral, literatur, portug...</td>\n",
       "      <td>orpheu revist trimestral literatur portugal br...</td>\n",
       "    </tr>\n",
       "    <tr>\n",
       "      <th>22</th>\n",
       "      <td>6</td>\n",
       "      <td>[elevaca, unidad, discreca, onde, depend, harm...</td>\n",
       "      <td>elevaca unidad discreca onde depend harmon est...</td>\n",
       "    </tr>\n",
       "    <tr>\n",
       "      <th>23</th>\n",
       "      <td>6</td>\n",
       "      <td>[olha, la, vai, vals, vest, casac, salo, vic, ...</td>\n",
       "      <td>olha la vai vals vest casac salo vic rei sub m...</td>\n",
       "    </tr>\n",
       "    <tr>\n",
       "      <th>24</th>\n",
       "      <td>6</td>\n",
       "      <td>[castel, rub, opal, tanj, poent, harp, silenc,...</td>\n",
       "      <td>castel rub opal tanj poent harp silenc agon al...</td>\n",
       "    </tr>\n",
       "    <tr>\n",
       "      <th>25</th>\n",
       "      <td>6</td>\n",
       "      <td>[primeir, sent, frent, janell, cost, contr, to...</td>\n",
       "      <td>primeir sent frent janell cost contr toch cim ...</td>\n",
       "    </tr>\n",
       "    <tr>\n",
       "      <th>26</th>\n",
       "      <td>6</td>\n",
       "      <td>[porqu, nao, corr, long, pert, ha, algum, raza...</td>\n",
       "      <td>porqu nao corr long pert ha algum raza qualqu ...</td>\n",
       "    </tr>\n",
       "    <tr>\n",
       "      <th>27</th>\n",
       "      <td>6</td>\n",
       "      <td>[sempr, tard, nao, cant, paus, primeir, brev, ...</td>\n",
       "      <td>sempr tard nao cant paus primeir brev ser dia ...</td>\n",
       "    </tr>\n",
       "    <tr>\n",
       "      <th>28</th>\n",
       "      <td>6</td>\n",
       "      <td>[irma, conta, sempr, nao, par, cont, rep, dias...</td>\n",
       "      <td>irma conta sempr nao par cont rep dias rai dia...</td>\n",
       "    </tr>\n",
       "    <tr>\n",
       "      <th>29</th>\n",
       "      <td>6</td>\n",
       "      <td>[pens, nao, tent, segu, nest, aventur, interio...</td>\n",
       "      <td>pens nao tent segu nest aventur interior sab f...</td>\n",
       "    </tr>\n",
       "    <tr>\n",
       "      <th>...</th>\n",
       "      <td>...</td>\n",
       "      <td>...</td>\n",
       "      <td>...</td>\n",
       "    </tr>\n",
       "    <tr>\n",
       "      <th>4062</th>\n",
       "      <td>58</td>\n",
       "      <td>[trabalh, temp, traz, boas, recordaco, vou, co...</td>\n",
       "      <td>trabalh temp traz boas recordaco vou continu p...</td>\n",
       "    </tr>\n",
       "    <tr>\n",
       "      <th>4063</th>\n",
       "      <td>58</td>\n",
       "      <td>[enfim, ines, dev, estar, quas, acord, outr, v...</td>\n",
       "      <td>enfim ines dev estar quas acord outr vez leono...</td>\n",
       "    </tr>\n",
       "    <tr>\n",
       "      <th>4064</th>\n",
       "      <td>58</td>\n",
       "      <td>[nao, rep, sent, cim, telemovel, quer, marqu, ...</td>\n",
       "      <td>nao rep sent cim telemovel quer marqu numer pr...</td>\n",
       "    </tr>\n",
       "    <tr>\n",
       "      <th>4065</th>\n",
       "      <td>58</td>\n",
       "      <td>[assunt, re, calm, calm, tud, explicaca, facil...</td>\n",
       "      <td>assunt re calm calm tud explicaca facil diz ex...</td>\n",
       "    </tr>\n",
       "    <tr>\n",
       "      <th>4066</th>\n",
       "      <td>58</td>\n",
       "      <td>[terrivel, precis, escrev, decid, segu, consel...</td>\n",
       "      <td>terrivel precis escrev decid segu conselh ir c...</td>\n",
       "    </tr>\n",
       "    <tr>\n",
       "      <th>4067</th>\n",
       "      <td>58</td>\n",
       "      <td>[desculp, sint, sozinh, tud, quant, mal, estar...</td>\n",
       "      <td>desculp sint sozinh tud quant mal estar ines p...</td>\n",
       "    </tr>\n",
       "    <tr>\n",
       "      <th>4068</th>\n",
       "      <td>58</td>\n",
       "      <td>[terror, possivel, gost, film, terror, agor, o...</td>\n",
       "      <td>terror possivel gost film terror agor odei ago...</td>\n",
       "    </tr>\n",
       "    <tr>\n",
       "      <th>4069</th>\n",
       "      <td>58</td>\n",
       "      <td>[mort, joa, naquel, acident, carr, fez, sim, c...</td>\n",
       "      <td>mort joa naquel acident carr fez sim cabec arr...</td>\n",
       "    </tr>\n",
       "    <tr>\n",
       "      <th>4070</th>\n",
       "      <td>58</td>\n",
       "      <td>[nao, quer, receb, cham, horrivel, odei, quer,...</td>\n",
       "      <td>nao quer receb cham horrivel odei quer sair da...</td>\n",
       "    </tr>\n",
       "    <tr>\n",
       "      <th>4071</th>\n",
       "      <td>58</td>\n",
       "      <td>[cabel, apos, part, talvez, nao, normal, ritm,...</td>\n",
       "      <td>cabel apos part talvez nao normal ritm carec d...</td>\n",
       "    </tr>\n",
       "    <tr>\n",
       "      <th>4072</th>\n",
       "      <td>59</td>\n",
       "      <td>[lisbo, lisbo, ano, agost, tao, gel, ha, vint,...</td>\n",
       "      <td>lisbo lisbo ano agost tao gel ha vint anos atr...</td>\n",
       "    </tr>\n",
       "    <tr>\n",
       "      <th>4073</th>\n",
       "      <td>59</td>\n",
       "      <td>[leu, olhos, cansac, embor, palavr, sorr, part...</td>\n",
       "      <td>leu olhos cansac embor palavr sorr part alfred...</td>\n",
       "    </tr>\n",
       "    <tr>\n",
       "      <th>4074</th>\n",
       "      <td>59</td>\n",
       "      <td>[lad, janel, ped, sum, lima, instal, jornal, a...</td>\n",
       "      <td>lad janel ped sum lima instal jornal agend ele...</td>\n",
       "    </tr>\n",
       "    <tr>\n",
       "      <th>4075</th>\n",
       "      <td>59</td>\n",
       "      <td>[jaim, nunc, sai, lisbo, estiv, quas, apanh, n...</td>\n",
       "      <td>jaim nunc sai lisbo estiv quas apanh naquel di...</td>\n",
       "    </tr>\n",
       "    <tr>\n",
       "      <th>4076</th>\n",
       "      <td>60</td>\n",
       "      <td>[titul, passei, infern, autor, luis, marqu, si...</td>\n",
       "      <td>titul passei infern autor luis marqu silv tod ...</td>\n",
       "    </tr>\n",
       "    <tr>\n",
       "      <th>4077</th>\n",
       "      <td>60</td>\n",
       "      <td>[furador, carnivor, trinc, escrupul, estremec,...</td>\n",
       "      <td>furador carnivor trinc escrupul estremec dor t...</td>\n",
       "    </tr>\n",
       "    <tr>\n",
       "      <th>4078</th>\n",
       "      <td>61</td>\n",
       "      <td>[titul, rapsod, maior, autor, luis, marqu, sil...</td>\n",
       "      <td>titul rapsod maior autor luis marqu silv tod d...</td>\n",
       "    </tr>\n",
       "    <tr>\n",
       "      <th>4079</th>\n",
       "      <td>61</td>\n",
       "      <td>[nao, primeir, vez, dep, alienigen, primeir, v...</td>\n",
       "      <td>nao primeir vez dep alienigen primeir vez dep ...</td>\n",
       "    </tr>\n",
       "    <tr>\n",
       "      <th>4080</th>\n",
       "      <td>61</td>\n",
       "      <td>[marnix, mulh, agath, lev, cas, onde, estav, s...</td>\n",
       "      <td>marnix mulh agath lev cas onde estav seguranc ...</td>\n",
       "    </tr>\n",
       "    <tr>\n",
       "      <th>4081</th>\n",
       "      <td>61</td>\n",
       "      <td>[curios, repugn, insect, vir, cost, prepar, pa...</td>\n",
       "      <td>curios repugn insect vir cost prepar part repa...</td>\n",
       "    </tr>\n",
       "    <tr>\n",
       "      <th>4082</th>\n",
       "      <td>61</td>\n",
       "      <td>[pequen, batalh, vei, confirm, lo, trabalh, eq...</td>\n",
       "      <td>pequen batalh vei confirm lo trabalh equip cri...</td>\n",
       "    </tr>\n",
       "    <tr>\n",
       "      <th>4083</th>\n",
       "      <td>61</td>\n",
       "      <td>[rest, ate, porreir, ando, tent, ensin, lo, le...</td>\n",
       "      <td>rest ate porreir ando tent ensin lo ler comec ...</td>\n",
       "    </tr>\n",
       "    <tr>\n",
       "      <th>4084</th>\n",
       "      <td>62</td>\n",
       "      <td>[titul, ultim, histor, autor, proxim, nobel, l...</td>\n",
       "      <td>titul ultim histor autor proxim nobel luis mar...</td>\n",
       "    </tr>\n",
       "    <tr>\n",
       "      <th>4085</th>\n",
       "      <td>62</td>\n",
       "      <td>[com, barrig, soou, rug, tao, alto, assust, ga...</td>\n",
       "      <td>com barrig soou rug tao alto assust gat malaqu...</td>\n",
       "    </tr>\n",
       "    <tr>\n",
       "      <th>4086</th>\n",
       "      <td>62</td>\n",
       "      <td>[bem, vind, plac, perfeit, sifil, muit, put, t...</td>\n",
       "      <td>bem vind plac perfeit sifil muit put tailand o...</td>\n",
       "    </tr>\n",
       "    <tr>\n",
       "      <th>4087</th>\n",
       "      <td>62</td>\n",
       "      <td>[fabiol, serv, ingenu, contraband, patins, lin...</td>\n",
       "      <td>fabiol serv ingenu contraband patins linh espa...</td>\n",
       "    </tr>\n",
       "    <tr>\n",
       "      <th>4088</th>\n",
       "      <td>62</td>\n",
       "      <td>[alem, diss, catol, pratic, prep, fech, port, ...</td>\n",
       "      <td>alem diss catol pratic prep fech port esper ac...</td>\n",
       "    </tr>\n",
       "    <tr>\n",
       "      <th>4089</th>\n",
       "      <td>62</td>\n",
       "      <td>[porteir, mulh, senhor, mar, carm, desaparec, ...</td>\n",
       "      <td>porteir mulh senhor mar carm desaparec facil s...</td>\n",
       "    </tr>\n",
       "    <tr>\n",
       "      <th>4090</th>\n",
       "      <td>62</td>\n",
       "      <td>[bol, noz, pisc, olho, diss, sotaqu, brasileir...</td>\n",
       "      <td>bol noz pisc olho diss sotaqu brasileir relax ...</td>\n",
       "    </tr>\n",
       "    <tr>\n",
       "      <th>4091</th>\n",
       "      <td>62</td>\n",
       "      <td>[desesper, quer, livr, imediat, tao, atroz, si...</td>\n",
       "      <td>desesper quer livr imediat tao atroz situaca l...</td>\n",
       "    </tr>\n",
       "  </tbody>\n",
       "</table>\n",
       "<p>4092 rows × 3 columns</p>\n",
       "</div>"
      ],
      "text/plain": [
       "     OG Index                                      500 Word List  \\\n",
       "0           0  [titl, scen, odi, author, jos, almad, negreir,...   \n",
       "1           0  [cabeleir, prat, estilhac, herald, vitra, desp...   \n",
       "2           0  [cabec, ve, so, olhos, vir, cheir, cheir, terr...   \n",
       "3           1  [titl, jardim, pierrett, author, jos, almad, n...   \n",
       "4           2  [titl, invenca, dia, clar, author, jos, almad,...   \n",
       "5           2  [i, part, andaim, vesp, conferenc, improvis, s...   \n",
       "6           2  [palavr, tod, gost, coll, algum, d, pacienc, p...   \n",
       "7           2  [ouv, cruz, encruzilh, cad, parec, reconhec, a...   \n",
       "8           2  [exist, nao, tao, devag, quadr, azul, par, dia...   \n",
       "9           2  [quer, advinh, taes, palavr, outr, vez, anjo, ...   \n",
       "10          2  [papel, chei, linh, umas, n, direcca, outr, n,...   \n",
       "11          3  [titl, litoral, amad, souz, cardoz, author, jo...   \n",
       "12          4  [exposica, amad, souz, cardos, lig, naval, lis...   \n",
       "13          5  [jos, almad, negreir, k, quadr, azul, acab, ap...   \n",
       "14          5  [feit, hom, aind, infam, deus, ter, nasc, port...   \n",
       "15          5  [nenhum, fac, quadr, azul, reproduz, nit, golp...   \n",
       "16          5  [illumin, perpendicular, direcca, energ, pra, ...   \n",
       "17          5  [desesper, d, agu, outr, vez, diagona, divid, ...   \n",
       "18          5  [tod, ate, instant, pens, mim, quer, noca, exa...   \n",
       "19          5  [maci, loir, habit, lingu, direca, gest, atitu...   \n",
       "20          5  [bast, so, pra, human, tod, so, instant, imanc...   \n",
       "21          6  [orpheu, revist, trimestral, literatur, portug...   \n",
       "22          6  [elevaca, unidad, discreca, onde, depend, harm...   \n",
       "23          6  [olha, la, vai, vals, vest, casac, salo, vic, ...   \n",
       "24          6  [castel, rub, opal, tanj, poent, harp, silenc,...   \n",
       "25          6  [primeir, sent, frent, janell, cost, contr, to...   \n",
       "26          6  [porqu, nao, corr, long, pert, ha, algum, raza...   \n",
       "27          6  [sempr, tard, nao, cant, paus, primeir, brev, ...   \n",
       "28          6  [irma, conta, sempr, nao, par, cont, rep, dias...   \n",
       "29          6  [pens, nao, tent, segu, nest, aventur, interio...   \n",
       "...       ...                                                ...   \n",
       "4062       58  [trabalh, temp, traz, boas, recordaco, vou, co...   \n",
       "4063       58  [enfim, ines, dev, estar, quas, acord, outr, v...   \n",
       "4064       58  [nao, rep, sent, cim, telemovel, quer, marqu, ...   \n",
       "4065       58  [assunt, re, calm, calm, tud, explicaca, facil...   \n",
       "4066       58  [terrivel, precis, escrev, decid, segu, consel...   \n",
       "4067       58  [desculp, sint, sozinh, tud, quant, mal, estar...   \n",
       "4068       58  [terror, possivel, gost, film, terror, agor, o...   \n",
       "4069       58  [mort, joa, naquel, acident, carr, fez, sim, c...   \n",
       "4070       58  [nao, quer, receb, cham, horrivel, odei, quer,...   \n",
       "4071       58  [cabel, apos, part, talvez, nao, normal, ritm,...   \n",
       "4072       59  [lisbo, lisbo, ano, agost, tao, gel, ha, vint,...   \n",
       "4073       59  [leu, olhos, cansac, embor, palavr, sorr, part...   \n",
       "4074       59  [lad, janel, ped, sum, lima, instal, jornal, a...   \n",
       "4075       59  [jaim, nunc, sai, lisbo, estiv, quas, apanh, n...   \n",
       "4076       60  [titul, passei, infern, autor, luis, marqu, si...   \n",
       "4077       60  [furador, carnivor, trinc, escrupul, estremec,...   \n",
       "4078       61  [titul, rapsod, maior, autor, luis, marqu, sil...   \n",
       "4079       61  [nao, primeir, vez, dep, alienigen, primeir, v...   \n",
       "4080       61  [marnix, mulh, agath, lev, cas, onde, estav, s...   \n",
       "4081       61  [curios, repugn, insect, vir, cost, prepar, pa...   \n",
       "4082       61  [pequen, batalh, vei, confirm, lo, trabalh, eq...   \n",
       "4083       61  [rest, ate, porreir, ando, tent, ensin, lo, le...   \n",
       "4084       62  [titul, ultim, histor, autor, proxim, nobel, l...   \n",
       "4085       62  [com, barrig, soou, rug, tao, alto, assust, ga...   \n",
       "4086       62  [bem, vind, plac, perfeit, sifil, muit, put, t...   \n",
       "4087       62  [fabiol, serv, ingenu, contraband, patins, lin...   \n",
       "4088       62  [alem, diss, catol, pratic, prep, fech, port, ...   \n",
       "4089       62  [porteir, mulh, senhor, mar, carm, desaparec, ...   \n",
       "4090       62  [bol, noz, pisc, olho, diss, sotaqu, brasileir...   \n",
       "4091       62  [desesper, quer, livr, imediat, tao, atroz, si...   \n",
       "\n",
       "                                         500 Clean Text  \n",
       "0     titl scen odi author jos almad negreir releas ...  \n",
       "1     cabeleir prat estilhac herald vitra despeg len...  \n",
       "2     cabec ve so olhos vir cheir cheir terr com ter...  \n",
       "3     titl jardim pierrett author jos almad negreir ...  \n",
       "4     titl invenca dia clar author jos almad negreir...  \n",
       "5     i part andaim vesp conferenc improvis senhor s...  \n",
       "6     palavr tod gost coll algum d pacienc palavr sa...  \n",
       "7     ouv cruz encruzilh cad parec reconhec aquell m...  \n",
       "8     exist nao tao devag quadr azul par dia vez ir ...  \n",
       "9     quer advinh taes palavr outr vez anjo guard pe...  \n",
       "10    papel chei linh umas n direcca outr n outr uma...  \n",
       "11    titl litoral amad souz cardoz author jos almad...  \n",
       "12    exposica amad souz cardos lig naval lisbo port...  \n",
       "13    jos almad negreir k quadr azul acab aparec poe...  \n",
       "14    feit hom aind infam deus ter nasc portuguez ja...  \n",
       "15    nenhum fac quadr azul reproduz nit golp radium...  \n",
       "16    illumin perpendicular direcca energ pra la vid...  \n",
       "17    desesper d agu outr vez diagona divid quadr ra...  \n",
       "18    tod ate instant pens mim quer noca exact inten...  \n",
       "19    maci loir habit lingu direca gest atitud tud d...  \n",
       "20    bast so pra human tod so instant imancip unani...  \n",
       "21    orpheu revist trimestral literatur portugal br...  \n",
       "22    elevaca unidad discreca onde depend harmon est...  \n",
       "23    olha la vai vals vest casac salo vic rei sub m...  \n",
       "24    castel rub opal tanj poent harp silenc agon al...  \n",
       "25    primeir sent frent janell cost contr toch cim ...  \n",
       "26    porqu nao corr long pert ha algum raza qualqu ...  \n",
       "27    sempr tard nao cant paus primeir brev ser dia ...  \n",
       "28    irma conta sempr nao par cont rep dias rai dia...  \n",
       "29    pens nao tent segu nest aventur interior sab f...  \n",
       "...                                                 ...  \n",
       "4062  trabalh temp traz boas recordaco vou continu p...  \n",
       "4063  enfim ines dev estar quas acord outr vez leono...  \n",
       "4064  nao rep sent cim telemovel quer marqu numer pr...  \n",
       "4065  assunt re calm calm tud explicaca facil diz ex...  \n",
       "4066  terrivel precis escrev decid segu conselh ir c...  \n",
       "4067  desculp sint sozinh tud quant mal estar ines p...  \n",
       "4068  terror possivel gost film terror agor odei ago...  \n",
       "4069  mort joa naquel acident carr fez sim cabec arr...  \n",
       "4070  nao quer receb cham horrivel odei quer sair da...  \n",
       "4071  cabel apos part talvez nao normal ritm carec d...  \n",
       "4072  lisbo lisbo ano agost tao gel ha vint anos atr...  \n",
       "4073  leu olhos cansac embor palavr sorr part alfred...  \n",
       "4074  lad janel ped sum lima instal jornal agend ele...  \n",
       "4075  jaim nunc sai lisbo estiv quas apanh naquel di...  \n",
       "4076  titul passei infern autor luis marqu silv tod ...  \n",
       "4077  furador carnivor trinc escrupul estremec dor t...  \n",
       "4078  titul rapsod maior autor luis marqu silv tod d...  \n",
       "4079  nao primeir vez dep alienigen primeir vez dep ...  \n",
       "4080  marnix mulh agath lev cas onde estav seguranc ...  \n",
       "4081  curios repugn insect vir cost prepar part repa...  \n",
       "4082  pequen batalh vei confirm lo trabalh equip cri...  \n",
       "4083  rest ate porreir ando tent ensin lo ler comec ...  \n",
       "4084  titul ultim histor autor proxim nobel luis mar...  \n",
       "4085  com barrig soou rug tao alto assust gat malaqu...  \n",
       "4086  bem vind plac perfeit sifil muit put tailand o...  \n",
       "4087  fabiol serv ingenu contraband patins linh espa...  \n",
       "4088  alem diss catol pratic prep fech port esper ac...  \n",
       "4089  porteir mulh senhor mar carm desaparec facil s...  \n",
       "4090  bol noz pisc olho diss sotaqu brasileir relax ...  \n",
       "4091  desesper quer livr imediat tao atroz situaca l...  \n",
       "\n",
       "[4092 rows x 3 columns]"
      ]
     },
     "execution_count": 17,
     "metadata": {},
     "output_type": "execute_result"
    }
   ],
   "source": [
    "corpora_500 = pd.DataFrame(columns=['OG Index','500 Word List','500 Clean Text'])\n",
    "\n",
    "for i in tqdm(range(len(corpora))):\n",
    "    text = corpora['Word List'][i]\n",
    "    list_500 = [text[i:i+500] for i in range(0, len(text), 500)]\n",
    "    text_500 = [\" \".join(list) for list in list_500]\n",
    "    \n",
    "    d_500 = pd.DataFrame({'OG Index':[i]*ceil(len(text)/500),'500 Word List':list_500,'500 Clean Text':text_500})\n",
    "    corpora_500 = corpora_500.append(d_500,ignore_index=True)\n",
    "    \n",
    "corpora_500"
   ]
  },
  {
   "cell_type": "code",
   "execution_count": 18,
   "metadata": {
    "scrolled": true
   },
   "outputs": [
    {
     "data": {
      "text/html": [
       "<div>\n",
       "<style scoped>\n",
       "    .dataframe tbody tr th:only-of-type {\n",
       "        vertical-align: middle;\n",
       "    }\n",
       "\n",
       "    .dataframe tbody tr th {\n",
       "        vertical-align: top;\n",
       "    }\n",
       "\n",
       "    .dataframe thead th {\n",
       "        text-align: right;\n",
       "    }\n",
       "</style>\n",
       "<table border=\"1\" class=\"dataframe\">\n",
       "  <thead>\n",
       "    <tr style=\"text-align: right;\">\n",
       "      <th></th>\n",
       "      <th>Text</th>\n",
       "      <th>Author</th>\n",
       "      <th>Clean Text</th>\n",
       "      <th>Word List</th>\n",
       "      <th>OG Index</th>\n",
       "      <th>500 Word List</th>\n",
       "      <th>500 Clean Text</th>\n",
       "    </tr>\n",
       "  </thead>\n",
       "  <tbody>\n",
       "    <tr>\n",
       "      <th>0</th>\n",
       "      <td>Title: A Scena do Odio\\n\\nAuthor: José de Alma...</td>\n",
       "      <td>Almada Negreiros</td>\n",
       "      <td>titl scen odi author jos almad negreir releas ...</td>\n",
       "      <td>[titl, scen, odi, author, jos, almad, negreir,...</td>\n",
       "      <td>0</td>\n",
       "      <td>[titl, scen, odi, author, jos, almad, negreir,...</td>\n",
       "      <td>titl scen odi author jos almad negreir releas ...</td>\n",
       "    </tr>\n",
       "    <tr>\n",
       "      <th>1</th>\n",
       "      <td>Title: A Scena do Odio\\n\\nAuthor: José de Alma...</td>\n",
       "      <td>Almada Negreiros</td>\n",
       "      <td>titl scen odi author jos almad negreir releas ...</td>\n",
       "      <td>[titl, scen, odi, author, jos, almad, negreir,...</td>\n",
       "      <td>0</td>\n",
       "      <td>[cabeleir, prat, estilhac, herald, vitra, desp...</td>\n",
       "      <td>cabeleir prat estilhac herald vitra despeg len...</td>\n",
       "    </tr>\n",
       "    <tr>\n",
       "      <th>2</th>\n",
       "      <td>Title: A Scena do Odio\\n\\nAuthor: José de Alma...</td>\n",
       "      <td>Almada Negreiros</td>\n",
       "      <td>titl scen odi author jos almad negreir releas ...</td>\n",
       "      <td>[titl, scen, odi, author, jos, almad, negreir,...</td>\n",
       "      <td>0</td>\n",
       "      <td>[cabec, ve, so, olhos, vir, cheir, cheir, terr...</td>\n",
       "      <td>cabec ve so olhos vir cheir cheir terr com ter...</td>\n",
       "    </tr>\n",
       "    <tr>\n",
       "      <th>3</th>\n",
       "      <td>Title: O Jardim da Pierrette\\n\\nAuthor: José d...</td>\n",
       "      <td>Almada Negreiros</td>\n",
       "      <td>titl jardim pierrett author jos almad negreir ...</td>\n",
       "      <td>[titl, jardim, pierrett, author, jos, almad, n...</td>\n",
       "      <td>1</td>\n",
       "      <td>[titl, jardim, pierrett, author, jos, almad, n...</td>\n",
       "      <td>titl jardim pierrett author jos almad negreir ...</td>\n",
       "    </tr>\n",
       "    <tr>\n",
       "      <th>4</th>\n",
       "      <td>\\n\\nTitle: A Invenção do Dia Claro\\n\\nAuthor: ...</td>\n",
       "      <td>Almada Negreiros</td>\n",
       "      <td>titl invenca dia clar author jos almad negreir...</td>\n",
       "      <td>[titl, invenca, dia, clar, author, jos, almad,...</td>\n",
       "      <td>2</td>\n",
       "      <td>[titl, invenca, dia, clar, author, jos, almad,...</td>\n",
       "      <td>titl invenca dia clar author jos almad negreir...</td>\n",
       "    </tr>\n",
       "    <tr>\n",
       "      <th>5</th>\n",
       "      <td>\\n\\nTitle: A Invenção do Dia Claro\\n\\nAuthor: ...</td>\n",
       "      <td>Almada Negreiros</td>\n",
       "      <td>titl invenca dia clar author jos almad negreir...</td>\n",
       "      <td>[titl, invenca, dia, clar, author, jos, almad,...</td>\n",
       "      <td>2</td>\n",
       "      <td>[i, part, andaim, vesp, conferenc, improvis, s...</td>\n",
       "      <td>i part andaim vesp conferenc improvis senhor s...</td>\n",
       "    </tr>\n",
       "    <tr>\n",
       "      <th>6</th>\n",
       "      <td>\\n\\nTitle: A Invenção do Dia Claro\\n\\nAuthor: ...</td>\n",
       "      <td>Almada Negreiros</td>\n",
       "      <td>titl invenca dia clar author jos almad negreir...</td>\n",
       "      <td>[titl, invenca, dia, clar, author, jos, almad,...</td>\n",
       "      <td>2</td>\n",
       "      <td>[palavr, tod, gost, coll, algum, d, pacienc, p...</td>\n",
       "      <td>palavr tod gost coll algum d pacienc palavr sa...</td>\n",
       "    </tr>\n",
       "    <tr>\n",
       "      <th>7</th>\n",
       "      <td>\\n\\nTitle: A Invenção do Dia Claro\\n\\nAuthor: ...</td>\n",
       "      <td>Almada Negreiros</td>\n",
       "      <td>titl invenca dia clar author jos almad negreir...</td>\n",
       "      <td>[titl, invenca, dia, clar, author, jos, almad,...</td>\n",
       "      <td>2</td>\n",
       "      <td>[ouv, cruz, encruzilh, cad, parec, reconhec, a...</td>\n",
       "      <td>ouv cruz encruzilh cad parec reconhec aquell m...</td>\n",
       "    </tr>\n",
       "    <tr>\n",
       "      <th>8</th>\n",
       "      <td>\\n\\nTitle: A Invenção do Dia Claro\\n\\nAuthor: ...</td>\n",
       "      <td>Almada Negreiros</td>\n",
       "      <td>titl invenca dia clar author jos almad negreir...</td>\n",
       "      <td>[titl, invenca, dia, clar, author, jos, almad,...</td>\n",
       "      <td>2</td>\n",
       "      <td>[exist, nao, tao, devag, quadr, azul, par, dia...</td>\n",
       "      <td>exist nao tao devag quadr azul par dia vez ir ...</td>\n",
       "    </tr>\n",
       "    <tr>\n",
       "      <th>9</th>\n",
       "      <td>\\n\\nTitle: A Invenção do Dia Claro\\n\\nAuthor: ...</td>\n",
       "      <td>Almada Negreiros</td>\n",
       "      <td>titl invenca dia clar author jos almad negreir...</td>\n",
       "      <td>[titl, invenca, dia, clar, author, jos, almad,...</td>\n",
       "      <td>2</td>\n",
       "      <td>[quer, advinh, taes, palavr, outr, vez, anjo, ...</td>\n",
       "      <td>quer advinh taes palavr outr vez anjo guard pe...</td>\n",
       "    </tr>\n",
       "    <tr>\n",
       "      <th>10</th>\n",
       "      <td>\\n\\nTitle: A Invenção do Dia Claro\\n\\nAuthor: ...</td>\n",
       "      <td>Almada Negreiros</td>\n",
       "      <td>titl invenca dia clar author jos almad negreir...</td>\n",
       "      <td>[titl, invenca, dia, clar, author, jos, almad,...</td>\n",
       "      <td>2</td>\n",
       "      <td>[papel, chei, linh, umas, n, direcca, outr, n,...</td>\n",
       "      <td>papel chei linh umas n direcca outr n outr uma...</td>\n",
       "    </tr>\n",
       "    <tr>\n",
       "      <th>11</th>\n",
       "      <td>\\nTitle: Litoral\\n       A Amadeo de Souza Car...</td>\n",
       "      <td>Almada Negreiros</td>\n",
       "      <td>titl litoral amad souz cardoz author jos almad...</td>\n",
       "      <td>[titl, litoral, amad, souz, cardoz, author, jo...</td>\n",
       "      <td>3</td>\n",
       "      <td>[titl, litoral, amad, souz, cardoz, author, jo...</td>\n",
       "      <td>titl litoral amad souz cardoz author jos almad...</td>\n",
       "    </tr>\n",
       "    <tr>\n",
       "      <th>12</th>\n",
       "      <td>\\n\\n\\nEXPOSIÇÃO\\n\\n+amadeo\\nde souza\\ncardoso+...</td>\n",
       "      <td>Almada Negreiros</td>\n",
       "      <td>exposica amad souz cardos lig naval lisbo port...</td>\n",
       "      <td>[exposica, amad, souz, cardos, lig, naval, lis...</td>\n",
       "      <td>4</td>\n",
       "      <td>[exposica, amad, souz, cardos, lig, naval, lis...</td>\n",
       "      <td>exposica amad souz cardos lig naval lisbo port...</td>\n",
       "    </tr>\n",
       "    <tr>\n",
       "      <th>13</th>\n",
       "      <td>\\n\\n*JOSÉ DE ALMADA-NEGREIROS*\\n\\n\\n*K4\\n\\no q...</td>\n",
       "      <td>Almada Negreiros</td>\n",
       "      <td>jos almad negreir k quadr azul acab aparec poe...</td>\n",
       "      <td>[jos, almad, negreir, k, quadr, azul, acab, ap...</td>\n",
       "      <td>5</td>\n",
       "      <td>[jos, almad, negreir, k, quadr, azul, acab, ap...</td>\n",
       "      <td>jos almad negreir k quadr azul acab aparec poe...</td>\n",
       "    </tr>\n",
       "    <tr>\n",
       "      <th>14</th>\n",
       "      <td>\\n\\n*JOSÉ DE ALMADA-NEGREIROS*\\n\\n\\n*K4\\n\\no q...</td>\n",
       "      <td>Almada Negreiros</td>\n",
       "      <td>jos almad negreir k quadr azul acab aparec poe...</td>\n",
       "      <td>[jos, almad, negreir, k, quadr, azul, acab, ap...</td>\n",
       "      <td>5</td>\n",
       "      <td>[feit, hom, aind, infam, deus, ter, nasc, port...</td>\n",
       "      <td>feit hom aind infam deus ter nasc portuguez ja...</td>\n",
       "    </tr>\n",
       "    <tr>\n",
       "      <th>15</th>\n",
       "      <td>\\n\\n*JOSÉ DE ALMADA-NEGREIROS*\\n\\n\\n*K4\\n\\no q...</td>\n",
       "      <td>Almada Negreiros</td>\n",
       "      <td>jos almad negreir k quadr azul acab aparec poe...</td>\n",
       "      <td>[jos, almad, negreir, k, quadr, azul, acab, ap...</td>\n",
       "      <td>5</td>\n",
       "      <td>[nenhum, fac, quadr, azul, reproduz, nit, golp...</td>\n",
       "      <td>nenhum fac quadr azul reproduz nit golp radium...</td>\n",
       "    </tr>\n",
       "    <tr>\n",
       "      <th>16</th>\n",
       "      <td>\\n\\n*JOSÉ DE ALMADA-NEGREIROS*\\n\\n\\n*K4\\n\\no q...</td>\n",
       "      <td>Almada Negreiros</td>\n",
       "      <td>jos almad negreir k quadr azul acab aparec poe...</td>\n",
       "      <td>[jos, almad, negreir, k, quadr, azul, acab, ap...</td>\n",
       "      <td>5</td>\n",
       "      <td>[illumin, perpendicular, direcca, energ, pra, ...</td>\n",
       "      <td>illumin perpendicular direcca energ pra la vid...</td>\n",
       "    </tr>\n",
       "    <tr>\n",
       "      <th>17</th>\n",
       "      <td>\\n\\n*JOSÉ DE ALMADA-NEGREIROS*\\n\\n\\n*K4\\n\\no q...</td>\n",
       "      <td>Almada Negreiros</td>\n",
       "      <td>jos almad negreir k quadr azul acab aparec poe...</td>\n",
       "      <td>[jos, almad, negreir, k, quadr, azul, acab, ap...</td>\n",
       "      <td>5</td>\n",
       "      <td>[desesper, d, agu, outr, vez, diagona, divid, ...</td>\n",
       "      <td>desesper d agu outr vez diagona divid quadr ra...</td>\n",
       "    </tr>\n",
       "    <tr>\n",
       "      <th>18</th>\n",
       "      <td>\\n\\n*JOSÉ DE ALMADA-NEGREIROS*\\n\\n\\n*K4\\n\\no q...</td>\n",
       "      <td>Almada Negreiros</td>\n",
       "      <td>jos almad negreir k quadr azul acab aparec poe...</td>\n",
       "      <td>[jos, almad, negreir, k, quadr, azul, acab, ap...</td>\n",
       "      <td>5</td>\n",
       "      <td>[tod, ate, instant, pens, mim, quer, noca, exa...</td>\n",
       "      <td>tod ate instant pens mim quer noca exact inten...</td>\n",
       "    </tr>\n",
       "    <tr>\n",
       "      <th>19</th>\n",
       "      <td>\\n\\n*JOSÉ DE ALMADA-NEGREIROS*\\n\\n\\n*K4\\n\\no q...</td>\n",
       "      <td>Almada Negreiros</td>\n",
       "      <td>jos almad negreir k quadr azul acab aparec poe...</td>\n",
       "      <td>[jos, almad, negreir, k, quadr, azul, acab, ap...</td>\n",
       "      <td>5</td>\n",
       "      <td>[maci, loir, habit, lingu, direca, gest, atitu...</td>\n",
       "      <td>maci loir habit lingu direca gest atitud tud d...</td>\n",
       "    </tr>\n",
       "    <tr>\n",
       "      <th>20</th>\n",
       "      <td>\\n\\n*JOSÉ DE ALMADA-NEGREIROS*\\n\\n\\n*K4\\n\\no q...</td>\n",
       "      <td>Almada Negreiros</td>\n",
       "      <td>jos almad negreir k quadr azul acab aparec poe...</td>\n",
       "      <td>[jos, almad, negreir, k, quadr, azul, acab, ap...</td>\n",
       "      <td>5</td>\n",
       "      <td>[bast, so, pra, human, tod, so, instant, imanc...</td>\n",
       "      <td>bast so pra human tod so instant imancip unani...</td>\n",
       "    </tr>\n",
       "    <tr>\n",
       "      <th>21</th>\n",
       "      <td>\\n\\n*\"ORPHEU\"*\\n\\nREVISTA TRIMESTRAL DE LITERA...</td>\n",
       "      <td>Almada Negreiros</td>\n",
       "      <td>orpheu revist trimestral literatur portugal br...</td>\n",
       "      <td>[orpheu, revist, trimestral, literatur, portug...</td>\n",
       "      <td>6</td>\n",
       "      <td>[orpheu, revist, trimestral, literatur, portug...</td>\n",
       "      <td>orpheu revist trimestral literatur portugal br...</td>\n",
       "    </tr>\n",
       "    <tr>\n",
       "      <th>22</th>\n",
       "      <td>\\n\\n*\"ORPHEU\"*\\n\\nREVISTA TRIMESTRAL DE LITERA...</td>\n",
       "      <td>Almada Negreiros</td>\n",
       "      <td>orpheu revist trimestral literatur portugal br...</td>\n",
       "      <td>[orpheu, revist, trimestral, literatur, portug...</td>\n",
       "      <td>6</td>\n",
       "      <td>[elevaca, unidad, discreca, onde, depend, harm...</td>\n",
       "      <td>elevaca unidad discreca onde depend harmon est...</td>\n",
       "    </tr>\n",
       "    <tr>\n",
       "      <th>23</th>\n",
       "      <td>\\n\\n*\"ORPHEU\"*\\n\\nREVISTA TRIMESTRAL DE LITERA...</td>\n",
       "      <td>Almada Negreiros</td>\n",
       "      <td>orpheu revist trimestral literatur portugal br...</td>\n",
       "      <td>[orpheu, revist, trimestral, literatur, portug...</td>\n",
       "      <td>6</td>\n",
       "      <td>[olha, la, vai, vals, vest, casac, salo, vic, ...</td>\n",
       "      <td>olha la vai vals vest casac salo vic rei sub m...</td>\n",
       "    </tr>\n",
       "    <tr>\n",
       "      <th>24</th>\n",
       "      <td>\\n\\n*\"ORPHEU\"*\\n\\nREVISTA TRIMESTRAL DE LITERA...</td>\n",
       "      <td>Almada Negreiros</td>\n",
       "      <td>orpheu revist trimestral literatur portugal br...</td>\n",
       "      <td>[orpheu, revist, trimestral, literatur, portug...</td>\n",
       "      <td>6</td>\n",
       "      <td>[castel, rub, opal, tanj, poent, harp, silenc,...</td>\n",
       "      <td>castel rub opal tanj poent harp silenc agon al...</td>\n",
       "    </tr>\n",
       "    <tr>\n",
       "      <th>25</th>\n",
       "      <td>\\n\\n*\"ORPHEU\"*\\n\\nREVISTA TRIMESTRAL DE LITERA...</td>\n",
       "      <td>Almada Negreiros</td>\n",
       "      <td>orpheu revist trimestral literatur portugal br...</td>\n",
       "      <td>[orpheu, revist, trimestral, literatur, portug...</td>\n",
       "      <td>6</td>\n",
       "      <td>[primeir, sent, frent, janell, cost, contr, to...</td>\n",
       "      <td>primeir sent frent janell cost contr toch cim ...</td>\n",
       "    </tr>\n",
       "    <tr>\n",
       "      <th>26</th>\n",
       "      <td>\\n\\n*\"ORPHEU\"*\\n\\nREVISTA TRIMESTRAL DE LITERA...</td>\n",
       "      <td>Almada Negreiros</td>\n",
       "      <td>orpheu revist trimestral literatur portugal br...</td>\n",
       "      <td>[orpheu, revist, trimestral, literatur, portug...</td>\n",
       "      <td>6</td>\n",
       "      <td>[porqu, nao, corr, long, pert, ha, algum, raza...</td>\n",
       "      <td>porqu nao corr long pert ha algum raza qualqu ...</td>\n",
       "    </tr>\n",
       "    <tr>\n",
       "      <th>27</th>\n",
       "      <td>\\n\\n*\"ORPHEU\"*\\n\\nREVISTA TRIMESTRAL DE LITERA...</td>\n",
       "      <td>Almada Negreiros</td>\n",
       "      <td>orpheu revist trimestral literatur portugal br...</td>\n",
       "      <td>[orpheu, revist, trimestral, literatur, portug...</td>\n",
       "      <td>6</td>\n",
       "      <td>[sempr, tard, nao, cant, paus, primeir, brev, ...</td>\n",
       "      <td>sempr tard nao cant paus primeir brev ser dia ...</td>\n",
       "    </tr>\n",
       "    <tr>\n",
       "      <th>28</th>\n",
       "      <td>\\n\\n*\"ORPHEU\"*\\n\\nREVISTA TRIMESTRAL DE LITERA...</td>\n",
       "      <td>Almada Negreiros</td>\n",
       "      <td>orpheu revist trimestral literatur portugal br...</td>\n",
       "      <td>[orpheu, revist, trimestral, literatur, portug...</td>\n",
       "      <td>6</td>\n",
       "      <td>[irma, conta, sempr, nao, par, cont, rep, dias...</td>\n",
       "      <td>irma conta sempr nao par cont rep dias rai dia...</td>\n",
       "    </tr>\n",
       "    <tr>\n",
       "      <th>29</th>\n",
       "      <td>\\n\\n*\"ORPHEU\"*\\n\\nREVISTA TRIMESTRAL DE LITERA...</td>\n",
       "      <td>Almada Negreiros</td>\n",
       "      <td>orpheu revist trimestral literatur portugal br...</td>\n",
       "      <td>[orpheu, revist, trimestral, literatur, portug...</td>\n",
       "      <td>6</td>\n",
       "      <td>[pens, nao, tent, segu, nest, aventur, interio...</td>\n",
       "      <td>pens nao tent segu nest aventur interior sab f...</td>\n",
       "    </tr>\n",
       "    <tr>\n",
       "      <th>...</th>\n",
       "      <td>...</td>\n",
       "      <td>...</td>\n",
       "      <td>...</td>\n",
       "      <td>...</td>\n",
       "      <td>...</td>\n",
       "      <td>...</td>\n",
       "      <td>...</td>\n",
       "    </tr>\n",
       "    <tr>\n",
       "      <th>4062</th>\n",
       "      <td>Título\\ne-medo\\n\\nAutora (inspiradíssima)\\nLuí...</td>\n",
       "      <td>Luisa Marques Silva</td>\n",
       "      <td>titul med autor inspiradissim luis marqu silv ...</td>\n",
       "      <td>[titul, med, autor, inspiradissim, luis, marqu...</td>\n",
       "      <td>58</td>\n",
       "      <td>[trabalh, temp, traz, boas, recordaco, vou, co...</td>\n",
       "      <td>trabalh temp traz boas recordaco vou continu p...</td>\n",
       "    </tr>\n",
       "    <tr>\n",
       "      <th>4063</th>\n",
       "      <td>Título\\ne-medo\\n\\nAutora (inspiradíssima)\\nLuí...</td>\n",
       "      <td>Luisa Marques Silva</td>\n",
       "      <td>titul med autor inspiradissim luis marqu silv ...</td>\n",
       "      <td>[titul, med, autor, inspiradissim, luis, marqu...</td>\n",
       "      <td>58</td>\n",
       "      <td>[enfim, ines, dev, estar, quas, acord, outr, v...</td>\n",
       "      <td>enfim ines dev estar quas acord outr vez leono...</td>\n",
       "    </tr>\n",
       "    <tr>\n",
       "      <th>4064</th>\n",
       "      <td>Título\\ne-medo\\n\\nAutora (inspiradíssima)\\nLuí...</td>\n",
       "      <td>Luisa Marques Silva</td>\n",
       "      <td>titul med autor inspiradissim luis marqu silv ...</td>\n",
       "      <td>[titul, med, autor, inspiradissim, luis, marqu...</td>\n",
       "      <td>58</td>\n",
       "      <td>[nao, rep, sent, cim, telemovel, quer, marqu, ...</td>\n",
       "      <td>nao rep sent cim telemovel quer marqu numer pr...</td>\n",
       "    </tr>\n",
       "    <tr>\n",
       "      <th>4065</th>\n",
       "      <td>Título\\ne-medo\\n\\nAutora (inspiradíssima)\\nLuí...</td>\n",
       "      <td>Luisa Marques Silva</td>\n",
       "      <td>titul med autor inspiradissim luis marqu silv ...</td>\n",
       "      <td>[titul, med, autor, inspiradissim, luis, marqu...</td>\n",
       "      <td>58</td>\n",
       "      <td>[assunt, re, calm, calm, tud, explicaca, facil...</td>\n",
       "      <td>assunt re calm calm tud explicaca facil diz ex...</td>\n",
       "    </tr>\n",
       "    <tr>\n",
       "      <th>4066</th>\n",
       "      <td>Título\\ne-medo\\n\\nAutora (inspiradíssima)\\nLuí...</td>\n",
       "      <td>Luisa Marques Silva</td>\n",
       "      <td>titul med autor inspiradissim luis marqu silv ...</td>\n",
       "      <td>[titul, med, autor, inspiradissim, luis, marqu...</td>\n",
       "      <td>58</td>\n",
       "      <td>[terrivel, precis, escrev, decid, segu, consel...</td>\n",
       "      <td>terrivel precis escrev decid segu conselh ir c...</td>\n",
       "    </tr>\n",
       "    <tr>\n",
       "      <th>4067</th>\n",
       "      <td>Título\\ne-medo\\n\\nAutora (inspiradíssima)\\nLuí...</td>\n",
       "      <td>Luisa Marques Silva</td>\n",
       "      <td>titul med autor inspiradissim luis marqu silv ...</td>\n",
       "      <td>[titul, med, autor, inspiradissim, luis, marqu...</td>\n",
       "      <td>58</td>\n",
       "      <td>[desculp, sint, sozinh, tud, quant, mal, estar...</td>\n",
       "      <td>desculp sint sozinh tud quant mal estar ines p...</td>\n",
       "    </tr>\n",
       "    <tr>\n",
       "      <th>4068</th>\n",
       "      <td>Título\\ne-medo\\n\\nAutora (inspiradíssima)\\nLuí...</td>\n",
       "      <td>Luisa Marques Silva</td>\n",
       "      <td>titul med autor inspiradissim luis marqu silv ...</td>\n",
       "      <td>[titul, med, autor, inspiradissim, luis, marqu...</td>\n",
       "      <td>58</td>\n",
       "      <td>[terror, possivel, gost, film, terror, agor, o...</td>\n",
       "      <td>terror possivel gost film terror agor odei ago...</td>\n",
       "    </tr>\n",
       "    <tr>\n",
       "      <th>4069</th>\n",
       "      <td>Título\\ne-medo\\n\\nAutora (inspiradíssima)\\nLuí...</td>\n",
       "      <td>Luisa Marques Silva</td>\n",
       "      <td>titul med autor inspiradissim luis marqu silv ...</td>\n",
       "      <td>[titul, med, autor, inspiradissim, luis, marqu...</td>\n",
       "      <td>58</td>\n",
       "      <td>[mort, joa, naquel, acident, carr, fez, sim, c...</td>\n",
       "      <td>mort joa naquel acident carr fez sim cabec arr...</td>\n",
       "    </tr>\n",
       "    <tr>\n",
       "      <th>4070</th>\n",
       "      <td>Título\\ne-medo\\n\\nAutora (inspiradíssima)\\nLuí...</td>\n",
       "      <td>Luisa Marques Silva</td>\n",
       "      <td>titul med autor inspiradissim luis marqu silv ...</td>\n",
       "      <td>[titul, med, autor, inspiradissim, luis, marqu...</td>\n",
       "      <td>58</td>\n",
       "      <td>[nao, quer, receb, cham, horrivel, odei, quer,...</td>\n",
       "      <td>nao quer receb cham horrivel odei quer sair da...</td>\n",
       "    </tr>\n",
       "    <tr>\n",
       "      <th>4071</th>\n",
       "      <td>Título\\ne-medo\\n\\nAutora (inspiradíssima)\\nLuí...</td>\n",
       "      <td>Luisa Marques Silva</td>\n",
       "      <td>titul med autor inspiradissim luis marqu silv ...</td>\n",
       "      <td>[titul, med, autor, inspiradissim, luis, marqu...</td>\n",
       "      <td>58</td>\n",
       "      <td>[cabel, apos, part, talvez, nao, normal, ritm,...</td>\n",
       "      <td>cabel apos part talvez nao normal ritm carec d...</td>\n",
       "    </tr>\n",
       "    <tr>\n",
       "      <th>4072</th>\n",
       "      <td>LISBOA 2050\\nLisboa, ano de 2050. Um Agosto tã...</td>\n",
       "      <td>Luisa Marques Silva</td>\n",
       "      <td>lisbo lisbo ano agost tao gel ha vint anos atr...</td>\n",
       "      <td>[lisbo, lisbo, ano, agost, tao, gel, ha, vint,...</td>\n",
       "      <td>59</td>\n",
       "      <td>[lisbo, lisbo, ano, agost, tao, gel, ha, vint,...</td>\n",
       "      <td>lisbo lisbo ano agost tao gel ha vint anos atr...</td>\n",
       "    </tr>\n",
       "    <tr>\n",
       "      <th>4073</th>\n",
       "      <td>LISBOA 2050\\nLisboa, ano de 2050. Um Agosto tã...</td>\n",
       "      <td>Luisa Marques Silva</td>\n",
       "      <td>lisbo lisbo ano agost tao gel ha vint anos atr...</td>\n",
       "      <td>[lisbo, lisbo, ano, agost, tao, gel, ha, vint,...</td>\n",
       "      <td>59</td>\n",
       "      <td>[leu, olhos, cansac, embor, palavr, sorr, part...</td>\n",
       "      <td>leu olhos cansac embor palavr sorr part alfred...</td>\n",
       "    </tr>\n",
       "    <tr>\n",
       "      <th>4074</th>\n",
       "      <td>LISBOA 2050\\nLisboa, ano de 2050. Um Agosto tã...</td>\n",
       "      <td>Luisa Marques Silva</td>\n",
       "      <td>lisbo lisbo ano agost tao gel ha vint anos atr...</td>\n",
       "      <td>[lisbo, lisbo, ano, agost, tao, gel, ha, vint,...</td>\n",
       "      <td>59</td>\n",
       "      <td>[lad, janel, ped, sum, lima, instal, jornal, a...</td>\n",
       "      <td>lad janel ped sum lima instal jornal agend ele...</td>\n",
       "    </tr>\n",
       "    <tr>\n",
       "      <th>4075</th>\n",
       "      <td>LISBOA 2050\\nLisboa, ano de 2050. Um Agosto tã...</td>\n",
       "      <td>Luisa Marques Silva</td>\n",
       "      <td>lisbo lisbo ano agost tao gel ha vint anos atr...</td>\n",
       "      <td>[lisbo, lisbo, ano, agost, tao, gel, ha, vint,...</td>\n",
       "      <td>59</td>\n",
       "      <td>[jaim, nunc, sai, lisbo, estiv, quas, apanh, n...</td>\n",
       "      <td>jaim nunc sai lisbo estiv quas apanh naquel di...</td>\n",
       "    </tr>\n",
       "    <tr>\n",
       "      <th>4076</th>\n",
       "      <td>Título\\nUm passeio pelo inferno\\n\\nAutora\\nLuí...</td>\n",
       "      <td>Luisa Marques Silva</td>\n",
       "      <td>titul passei infern autor luis marqu silv tod ...</td>\n",
       "      <td>[titul, passei, infern, autor, luis, marqu, si...</td>\n",
       "      <td>60</td>\n",
       "      <td>[titul, passei, infern, autor, luis, marqu, si...</td>\n",
       "      <td>titul passei infern autor luis marqu silv tod ...</td>\n",
       "    </tr>\n",
       "    <tr>\n",
       "      <th>4077</th>\n",
       "      <td>Título\\nUm passeio pelo inferno\\n\\nAutora\\nLuí...</td>\n",
       "      <td>Luisa Marques Silva</td>\n",
       "      <td>titul passei infern autor luis marqu silv tod ...</td>\n",
       "      <td>[titul, passei, infern, autor, luis, marqu, si...</td>\n",
       "      <td>60</td>\n",
       "      <td>[furador, carnivor, trinc, escrupul, estremec,...</td>\n",
       "      <td>furador carnivor trinc escrupul estremec dor t...</td>\n",
       "    </tr>\n",
       "    <tr>\n",
       "      <th>4078</th>\n",
       "      <td>Título\\nRapsódia sem dó (maior)\\n\\nAutora\\nLuí...</td>\n",
       "      <td>Luisa Marques Silva</td>\n",
       "      <td>titul rapsod maior autor luis marqu silv tod d...</td>\n",
       "      <td>[titul, rapsod, maior, autor, luis, marqu, sil...</td>\n",
       "      <td>61</td>\n",
       "      <td>[titul, rapsod, maior, autor, luis, marqu, sil...</td>\n",
       "      <td>titul rapsod maior autor luis marqu silv tod d...</td>\n",
       "    </tr>\n",
       "    <tr>\n",
       "      <th>4079</th>\n",
       "      <td>Título\\nRapsódia sem dó (maior)\\n\\nAutora\\nLuí...</td>\n",
       "      <td>Luisa Marques Silva</td>\n",
       "      <td>titul rapsod maior autor luis marqu silv tod d...</td>\n",
       "      <td>[titul, rapsod, maior, autor, luis, marqu, sil...</td>\n",
       "      <td>61</td>\n",
       "      <td>[nao, primeir, vez, dep, alienigen, primeir, v...</td>\n",
       "      <td>nao primeir vez dep alienigen primeir vez dep ...</td>\n",
       "    </tr>\n",
       "    <tr>\n",
       "      <th>4080</th>\n",
       "      <td>Título\\nRapsódia sem dó (maior)\\n\\nAutora\\nLuí...</td>\n",
       "      <td>Luisa Marques Silva</td>\n",
       "      <td>titul rapsod maior autor luis marqu silv tod d...</td>\n",
       "      <td>[titul, rapsod, maior, autor, luis, marqu, sil...</td>\n",
       "      <td>61</td>\n",
       "      <td>[marnix, mulh, agath, lev, cas, onde, estav, s...</td>\n",
       "      <td>marnix mulh agath lev cas onde estav seguranc ...</td>\n",
       "    </tr>\n",
       "    <tr>\n",
       "      <th>4081</th>\n",
       "      <td>Título\\nRapsódia sem dó (maior)\\n\\nAutora\\nLuí...</td>\n",
       "      <td>Luisa Marques Silva</td>\n",
       "      <td>titul rapsod maior autor luis marqu silv tod d...</td>\n",
       "      <td>[titul, rapsod, maior, autor, luis, marqu, sil...</td>\n",
       "      <td>61</td>\n",
       "      <td>[curios, repugn, insect, vir, cost, prepar, pa...</td>\n",
       "      <td>curios repugn insect vir cost prepar part repa...</td>\n",
       "    </tr>\n",
       "    <tr>\n",
       "      <th>4082</th>\n",
       "      <td>Título\\nRapsódia sem dó (maior)\\n\\nAutora\\nLuí...</td>\n",
       "      <td>Luisa Marques Silva</td>\n",
       "      <td>titul rapsod maior autor luis marqu silv tod d...</td>\n",
       "      <td>[titul, rapsod, maior, autor, luis, marqu, sil...</td>\n",
       "      <td>61</td>\n",
       "      <td>[pequen, batalh, vei, confirm, lo, trabalh, eq...</td>\n",
       "      <td>pequen batalh vei confirm lo trabalh equip cri...</td>\n",
       "    </tr>\n",
       "    <tr>\n",
       "      <th>4083</th>\n",
       "      <td>Título\\nRapsódia sem dó (maior)\\n\\nAutora\\nLuí...</td>\n",
       "      <td>Luisa Marques Silva</td>\n",
       "      <td>titul rapsod maior autor luis marqu silv tod d...</td>\n",
       "      <td>[titul, rapsod, maior, autor, luis, marqu, sil...</td>\n",
       "      <td>61</td>\n",
       "      <td>[rest, ate, porreir, ando, tent, ensin, lo, le...</td>\n",
       "      <td>rest ate porreir ando tent ensin lo ler comec ...</td>\n",
       "    </tr>\n",
       "    <tr>\n",
       "      <th>4084</th>\n",
       "      <td>Título\\nA última história\\n\\nAutora (próximo N...</td>\n",
       "      <td>Luisa Marques Silva</td>\n",
       "      <td>titul ultim histor autor proxim nobel luis mar...</td>\n",
       "      <td>[titul, ultim, histor, autor, proxim, nobel, l...</td>\n",
       "      <td>62</td>\n",
       "      <td>[titul, ultim, histor, autor, proxim, nobel, l...</td>\n",
       "      <td>titul ultim histor autor proxim nobel luis mar...</td>\n",
       "    </tr>\n",
       "    <tr>\n",
       "      <th>4085</th>\n",
       "      <td>Título\\nA última história\\n\\nAutora (próximo N...</td>\n",
       "      <td>Luisa Marques Silva</td>\n",
       "      <td>titul ultim histor autor proxim nobel luis mar...</td>\n",
       "      <td>[titul, ultim, histor, autor, proxim, nobel, l...</td>\n",
       "      <td>62</td>\n",
       "      <td>[com, barrig, soou, rug, tao, alto, assust, ga...</td>\n",
       "      <td>com barrig soou rug tao alto assust gat malaqu...</td>\n",
       "    </tr>\n",
       "    <tr>\n",
       "      <th>4086</th>\n",
       "      <td>Título\\nA última história\\n\\nAutora (próximo N...</td>\n",
       "      <td>Luisa Marques Silva</td>\n",
       "      <td>titul ultim histor autor proxim nobel luis mar...</td>\n",
       "      <td>[titul, ultim, histor, autor, proxim, nobel, l...</td>\n",
       "      <td>62</td>\n",
       "      <td>[bem, vind, plac, perfeit, sifil, muit, put, t...</td>\n",
       "      <td>bem vind plac perfeit sifil muit put tailand o...</td>\n",
       "    </tr>\n",
       "    <tr>\n",
       "      <th>4087</th>\n",
       "      <td>Título\\nA última história\\n\\nAutora (próximo N...</td>\n",
       "      <td>Luisa Marques Silva</td>\n",
       "      <td>titul ultim histor autor proxim nobel luis mar...</td>\n",
       "      <td>[titul, ultim, histor, autor, proxim, nobel, l...</td>\n",
       "      <td>62</td>\n",
       "      <td>[fabiol, serv, ingenu, contraband, patins, lin...</td>\n",
       "      <td>fabiol serv ingenu contraband patins linh espa...</td>\n",
       "    </tr>\n",
       "    <tr>\n",
       "      <th>4088</th>\n",
       "      <td>Título\\nA última história\\n\\nAutora (próximo N...</td>\n",
       "      <td>Luisa Marques Silva</td>\n",
       "      <td>titul ultim histor autor proxim nobel luis mar...</td>\n",
       "      <td>[titul, ultim, histor, autor, proxim, nobel, l...</td>\n",
       "      <td>62</td>\n",
       "      <td>[alem, diss, catol, pratic, prep, fech, port, ...</td>\n",
       "      <td>alem diss catol pratic prep fech port esper ac...</td>\n",
       "    </tr>\n",
       "    <tr>\n",
       "      <th>4089</th>\n",
       "      <td>Título\\nA última história\\n\\nAutora (próximo N...</td>\n",
       "      <td>Luisa Marques Silva</td>\n",
       "      <td>titul ultim histor autor proxim nobel luis mar...</td>\n",
       "      <td>[titul, ultim, histor, autor, proxim, nobel, l...</td>\n",
       "      <td>62</td>\n",
       "      <td>[porteir, mulh, senhor, mar, carm, desaparec, ...</td>\n",
       "      <td>porteir mulh senhor mar carm desaparec facil s...</td>\n",
       "    </tr>\n",
       "    <tr>\n",
       "      <th>4090</th>\n",
       "      <td>Título\\nA última história\\n\\nAutora (próximo N...</td>\n",
       "      <td>Luisa Marques Silva</td>\n",
       "      <td>titul ultim histor autor proxim nobel luis mar...</td>\n",
       "      <td>[titul, ultim, histor, autor, proxim, nobel, l...</td>\n",
       "      <td>62</td>\n",
       "      <td>[bol, noz, pisc, olho, diss, sotaqu, brasileir...</td>\n",
       "      <td>bol noz pisc olho diss sotaqu brasileir relax ...</td>\n",
       "    </tr>\n",
       "    <tr>\n",
       "      <th>4091</th>\n",
       "      <td>Título\\nA última história\\n\\nAutora (próximo N...</td>\n",
       "      <td>Luisa Marques Silva</td>\n",
       "      <td>titul ultim histor autor proxim nobel luis mar...</td>\n",
       "      <td>[titul, ultim, histor, autor, proxim, nobel, l...</td>\n",
       "      <td>62</td>\n",
       "      <td>[desesper, quer, livr, imediat, tao, atroz, si...</td>\n",
       "      <td>desesper quer livr imediat tao atroz situaca l...</td>\n",
       "    </tr>\n",
       "  </tbody>\n",
       "</table>\n",
       "<p>4092 rows × 7 columns</p>\n",
       "</div>"
      ],
      "text/plain": [
       "                                                   Text               Author  \\\n",
       "0     Title: A Scena do Odio\\n\\nAuthor: José de Alma...     Almada Negreiros   \n",
       "1     Title: A Scena do Odio\\n\\nAuthor: José de Alma...     Almada Negreiros   \n",
       "2     Title: A Scena do Odio\\n\\nAuthor: José de Alma...     Almada Negreiros   \n",
       "3     Title: O Jardim da Pierrette\\n\\nAuthor: José d...     Almada Negreiros   \n",
       "4     \\n\\nTitle: A Invenção do Dia Claro\\n\\nAuthor: ...     Almada Negreiros   \n",
       "5     \\n\\nTitle: A Invenção do Dia Claro\\n\\nAuthor: ...     Almada Negreiros   \n",
       "6     \\n\\nTitle: A Invenção do Dia Claro\\n\\nAuthor: ...     Almada Negreiros   \n",
       "7     \\n\\nTitle: A Invenção do Dia Claro\\n\\nAuthor: ...     Almada Negreiros   \n",
       "8     \\n\\nTitle: A Invenção do Dia Claro\\n\\nAuthor: ...     Almada Negreiros   \n",
       "9     \\n\\nTitle: A Invenção do Dia Claro\\n\\nAuthor: ...     Almada Negreiros   \n",
       "10    \\n\\nTitle: A Invenção do Dia Claro\\n\\nAuthor: ...     Almada Negreiros   \n",
       "11    \\nTitle: Litoral\\n       A Amadeo de Souza Car...     Almada Negreiros   \n",
       "12    \\n\\n\\nEXPOSIÇÃO\\n\\n+amadeo\\nde souza\\ncardoso+...     Almada Negreiros   \n",
       "13    \\n\\n*JOSÉ DE ALMADA-NEGREIROS*\\n\\n\\n*K4\\n\\no q...     Almada Negreiros   \n",
       "14    \\n\\n*JOSÉ DE ALMADA-NEGREIROS*\\n\\n\\n*K4\\n\\no q...     Almada Negreiros   \n",
       "15    \\n\\n*JOSÉ DE ALMADA-NEGREIROS*\\n\\n\\n*K4\\n\\no q...     Almada Negreiros   \n",
       "16    \\n\\n*JOSÉ DE ALMADA-NEGREIROS*\\n\\n\\n*K4\\n\\no q...     Almada Negreiros   \n",
       "17    \\n\\n*JOSÉ DE ALMADA-NEGREIROS*\\n\\n\\n*K4\\n\\no q...     Almada Negreiros   \n",
       "18    \\n\\n*JOSÉ DE ALMADA-NEGREIROS*\\n\\n\\n*K4\\n\\no q...     Almada Negreiros   \n",
       "19    \\n\\n*JOSÉ DE ALMADA-NEGREIROS*\\n\\n\\n*K4\\n\\no q...     Almada Negreiros   \n",
       "20    \\n\\n*JOSÉ DE ALMADA-NEGREIROS*\\n\\n\\n*K4\\n\\no q...     Almada Negreiros   \n",
       "21    \\n\\n*\"ORPHEU\"*\\n\\nREVISTA TRIMESTRAL DE LITERA...     Almada Negreiros   \n",
       "22    \\n\\n*\"ORPHEU\"*\\n\\nREVISTA TRIMESTRAL DE LITERA...     Almada Negreiros   \n",
       "23    \\n\\n*\"ORPHEU\"*\\n\\nREVISTA TRIMESTRAL DE LITERA...     Almada Negreiros   \n",
       "24    \\n\\n*\"ORPHEU\"*\\n\\nREVISTA TRIMESTRAL DE LITERA...     Almada Negreiros   \n",
       "25    \\n\\n*\"ORPHEU\"*\\n\\nREVISTA TRIMESTRAL DE LITERA...     Almada Negreiros   \n",
       "26    \\n\\n*\"ORPHEU\"*\\n\\nREVISTA TRIMESTRAL DE LITERA...     Almada Negreiros   \n",
       "27    \\n\\n*\"ORPHEU\"*\\n\\nREVISTA TRIMESTRAL DE LITERA...     Almada Negreiros   \n",
       "28    \\n\\n*\"ORPHEU\"*\\n\\nREVISTA TRIMESTRAL DE LITERA...     Almada Negreiros   \n",
       "29    \\n\\n*\"ORPHEU\"*\\n\\nREVISTA TRIMESTRAL DE LITERA...     Almada Negreiros   \n",
       "...                                                 ...                  ...   \n",
       "4062  Título\\ne-medo\\n\\nAutora (inspiradíssima)\\nLuí...  Luisa Marques Silva   \n",
       "4063  Título\\ne-medo\\n\\nAutora (inspiradíssima)\\nLuí...  Luisa Marques Silva   \n",
       "4064  Título\\ne-medo\\n\\nAutora (inspiradíssima)\\nLuí...  Luisa Marques Silva   \n",
       "4065  Título\\ne-medo\\n\\nAutora (inspiradíssima)\\nLuí...  Luisa Marques Silva   \n",
       "4066  Título\\ne-medo\\n\\nAutora (inspiradíssima)\\nLuí...  Luisa Marques Silva   \n",
       "4067  Título\\ne-medo\\n\\nAutora (inspiradíssima)\\nLuí...  Luisa Marques Silva   \n",
       "4068  Título\\ne-medo\\n\\nAutora (inspiradíssima)\\nLuí...  Luisa Marques Silva   \n",
       "4069  Título\\ne-medo\\n\\nAutora (inspiradíssima)\\nLuí...  Luisa Marques Silva   \n",
       "4070  Título\\ne-medo\\n\\nAutora (inspiradíssima)\\nLuí...  Luisa Marques Silva   \n",
       "4071  Título\\ne-medo\\n\\nAutora (inspiradíssima)\\nLuí...  Luisa Marques Silva   \n",
       "4072  LISBOA 2050\\nLisboa, ano de 2050. Um Agosto tã...  Luisa Marques Silva   \n",
       "4073  LISBOA 2050\\nLisboa, ano de 2050. Um Agosto tã...  Luisa Marques Silva   \n",
       "4074  LISBOA 2050\\nLisboa, ano de 2050. Um Agosto tã...  Luisa Marques Silva   \n",
       "4075  LISBOA 2050\\nLisboa, ano de 2050. Um Agosto tã...  Luisa Marques Silva   \n",
       "4076  Título\\nUm passeio pelo inferno\\n\\nAutora\\nLuí...  Luisa Marques Silva   \n",
       "4077  Título\\nUm passeio pelo inferno\\n\\nAutora\\nLuí...  Luisa Marques Silva   \n",
       "4078  Título\\nRapsódia sem dó (maior)\\n\\nAutora\\nLuí...  Luisa Marques Silva   \n",
       "4079  Título\\nRapsódia sem dó (maior)\\n\\nAutora\\nLuí...  Luisa Marques Silva   \n",
       "4080  Título\\nRapsódia sem dó (maior)\\n\\nAutora\\nLuí...  Luisa Marques Silva   \n",
       "4081  Título\\nRapsódia sem dó (maior)\\n\\nAutora\\nLuí...  Luisa Marques Silva   \n",
       "4082  Título\\nRapsódia sem dó (maior)\\n\\nAutora\\nLuí...  Luisa Marques Silva   \n",
       "4083  Título\\nRapsódia sem dó (maior)\\n\\nAutora\\nLuí...  Luisa Marques Silva   \n",
       "4084  Título\\nA última história\\n\\nAutora (próximo N...  Luisa Marques Silva   \n",
       "4085  Título\\nA última história\\n\\nAutora (próximo N...  Luisa Marques Silva   \n",
       "4086  Título\\nA última história\\n\\nAutora (próximo N...  Luisa Marques Silva   \n",
       "4087  Título\\nA última história\\n\\nAutora (próximo N...  Luisa Marques Silva   \n",
       "4088  Título\\nA última história\\n\\nAutora (próximo N...  Luisa Marques Silva   \n",
       "4089  Título\\nA última história\\n\\nAutora (próximo N...  Luisa Marques Silva   \n",
       "4090  Título\\nA última história\\n\\nAutora (próximo N...  Luisa Marques Silva   \n",
       "4091  Título\\nA última história\\n\\nAutora (próximo N...  Luisa Marques Silva   \n",
       "\n",
       "                                             Clean Text  \\\n",
       "0     titl scen odi author jos almad negreir releas ...   \n",
       "1     titl scen odi author jos almad negreir releas ...   \n",
       "2     titl scen odi author jos almad negreir releas ...   \n",
       "3     titl jardim pierrett author jos almad negreir ...   \n",
       "4     titl invenca dia clar author jos almad negreir...   \n",
       "5     titl invenca dia clar author jos almad negreir...   \n",
       "6     titl invenca dia clar author jos almad negreir...   \n",
       "7     titl invenca dia clar author jos almad negreir...   \n",
       "8     titl invenca dia clar author jos almad negreir...   \n",
       "9     titl invenca dia clar author jos almad negreir...   \n",
       "10    titl invenca dia clar author jos almad negreir...   \n",
       "11    titl litoral amad souz cardoz author jos almad...   \n",
       "12    exposica amad souz cardos lig naval lisbo port...   \n",
       "13    jos almad negreir k quadr azul acab aparec poe...   \n",
       "14    jos almad negreir k quadr azul acab aparec poe...   \n",
       "15    jos almad negreir k quadr azul acab aparec poe...   \n",
       "16    jos almad negreir k quadr azul acab aparec poe...   \n",
       "17    jos almad negreir k quadr azul acab aparec poe...   \n",
       "18    jos almad negreir k quadr azul acab aparec poe...   \n",
       "19    jos almad negreir k quadr azul acab aparec poe...   \n",
       "20    jos almad negreir k quadr azul acab aparec poe...   \n",
       "21    orpheu revist trimestral literatur portugal br...   \n",
       "22    orpheu revist trimestral literatur portugal br...   \n",
       "23    orpheu revist trimestral literatur portugal br...   \n",
       "24    orpheu revist trimestral literatur portugal br...   \n",
       "25    orpheu revist trimestral literatur portugal br...   \n",
       "26    orpheu revist trimestral literatur portugal br...   \n",
       "27    orpheu revist trimestral literatur portugal br...   \n",
       "28    orpheu revist trimestral literatur portugal br...   \n",
       "29    orpheu revist trimestral literatur portugal br...   \n",
       "...                                                 ...   \n",
       "4062  titul med autor inspiradissim luis marqu silv ...   \n",
       "4063  titul med autor inspiradissim luis marqu silv ...   \n",
       "4064  titul med autor inspiradissim luis marqu silv ...   \n",
       "4065  titul med autor inspiradissim luis marqu silv ...   \n",
       "4066  titul med autor inspiradissim luis marqu silv ...   \n",
       "4067  titul med autor inspiradissim luis marqu silv ...   \n",
       "4068  titul med autor inspiradissim luis marqu silv ...   \n",
       "4069  titul med autor inspiradissim luis marqu silv ...   \n",
       "4070  titul med autor inspiradissim luis marqu silv ...   \n",
       "4071  titul med autor inspiradissim luis marqu silv ...   \n",
       "4072  lisbo lisbo ano agost tao gel ha vint anos atr...   \n",
       "4073  lisbo lisbo ano agost tao gel ha vint anos atr...   \n",
       "4074  lisbo lisbo ano agost tao gel ha vint anos atr...   \n",
       "4075  lisbo lisbo ano agost tao gel ha vint anos atr...   \n",
       "4076  titul passei infern autor luis marqu silv tod ...   \n",
       "4077  titul passei infern autor luis marqu silv tod ...   \n",
       "4078  titul rapsod maior autor luis marqu silv tod d...   \n",
       "4079  titul rapsod maior autor luis marqu silv tod d...   \n",
       "4080  titul rapsod maior autor luis marqu silv tod d...   \n",
       "4081  titul rapsod maior autor luis marqu silv tod d...   \n",
       "4082  titul rapsod maior autor luis marqu silv tod d...   \n",
       "4083  titul rapsod maior autor luis marqu silv tod d...   \n",
       "4084  titul ultim histor autor proxim nobel luis mar...   \n",
       "4085  titul ultim histor autor proxim nobel luis mar...   \n",
       "4086  titul ultim histor autor proxim nobel luis mar...   \n",
       "4087  titul ultim histor autor proxim nobel luis mar...   \n",
       "4088  titul ultim histor autor proxim nobel luis mar...   \n",
       "4089  titul ultim histor autor proxim nobel luis mar...   \n",
       "4090  titul ultim histor autor proxim nobel luis mar...   \n",
       "4091  titul ultim histor autor proxim nobel luis mar...   \n",
       "\n",
       "                                              Word List OG Index  \\\n",
       "0     [titl, scen, odi, author, jos, almad, negreir,...        0   \n",
       "1     [titl, scen, odi, author, jos, almad, negreir,...        0   \n",
       "2     [titl, scen, odi, author, jos, almad, negreir,...        0   \n",
       "3     [titl, jardim, pierrett, author, jos, almad, n...        1   \n",
       "4     [titl, invenca, dia, clar, author, jos, almad,...        2   \n",
       "5     [titl, invenca, dia, clar, author, jos, almad,...        2   \n",
       "6     [titl, invenca, dia, clar, author, jos, almad,...        2   \n",
       "7     [titl, invenca, dia, clar, author, jos, almad,...        2   \n",
       "8     [titl, invenca, dia, clar, author, jos, almad,...        2   \n",
       "9     [titl, invenca, dia, clar, author, jos, almad,...        2   \n",
       "10    [titl, invenca, dia, clar, author, jos, almad,...        2   \n",
       "11    [titl, litoral, amad, souz, cardoz, author, jo...        3   \n",
       "12    [exposica, amad, souz, cardos, lig, naval, lis...        4   \n",
       "13    [jos, almad, negreir, k, quadr, azul, acab, ap...        5   \n",
       "14    [jos, almad, negreir, k, quadr, azul, acab, ap...        5   \n",
       "15    [jos, almad, negreir, k, quadr, azul, acab, ap...        5   \n",
       "16    [jos, almad, negreir, k, quadr, azul, acab, ap...        5   \n",
       "17    [jos, almad, negreir, k, quadr, azul, acab, ap...        5   \n",
       "18    [jos, almad, negreir, k, quadr, azul, acab, ap...        5   \n",
       "19    [jos, almad, negreir, k, quadr, azul, acab, ap...        5   \n",
       "20    [jos, almad, negreir, k, quadr, azul, acab, ap...        5   \n",
       "21    [orpheu, revist, trimestral, literatur, portug...        6   \n",
       "22    [orpheu, revist, trimestral, literatur, portug...        6   \n",
       "23    [orpheu, revist, trimestral, literatur, portug...        6   \n",
       "24    [orpheu, revist, trimestral, literatur, portug...        6   \n",
       "25    [orpheu, revist, trimestral, literatur, portug...        6   \n",
       "26    [orpheu, revist, trimestral, literatur, portug...        6   \n",
       "27    [orpheu, revist, trimestral, literatur, portug...        6   \n",
       "28    [orpheu, revist, trimestral, literatur, portug...        6   \n",
       "29    [orpheu, revist, trimestral, literatur, portug...        6   \n",
       "...                                                 ...      ...   \n",
       "4062  [titul, med, autor, inspiradissim, luis, marqu...       58   \n",
       "4063  [titul, med, autor, inspiradissim, luis, marqu...       58   \n",
       "4064  [titul, med, autor, inspiradissim, luis, marqu...       58   \n",
       "4065  [titul, med, autor, inspiradissim, luis, marqu...       58   \n",
       "4066  [titul, med, autor, inspiradissim, luis, marqu...       58   \n",
       "4067  [titul, med, autor, inspiradissim, luis, marqu...       58   \n",
       "4068  [titul, med, autor, inspiradissim, luis, marqu...       58   \n",
       "4069  [titul, med, autor, inspiradissim, luis, marqu...       58   \n",
       "4070  [titul, med, autor, inspiradissim, luis, marqu...       58   \n",
       "4071  [titul, med, autor, inspiradissim, luis, marqu...       58   \n",
       "4072  [lisbo, lisbo, ano, agost, tao, gel, ha, vint,...       59   \n",
       "4073  [lisbo, lisbo, ano, agost, tao, gel, ha, vint,...       59   \n",
       "4074  [lisbo, lisbo, ano, agost, tao, gel, ha, vint,...       59   \n",
       "4075  [lisbo, lisbo, ano, agost, tao, gel, ha, vint,...       59   \n",
       "4076  [titul, passei, infern, autor, luis, marqu, si...       60   \n",
       "4077  [titul, passei, infern, autor, luis, marqu, si...       60   \n",
       "4078  [titul, rapsod, maior, autor, luis, marqu, sil...       61   \n",
       "4079  [titul, rapsod, maior, autor, luis, marqu, sil...       61   \n",
       "4080  [titul, rapsod, maior, autor, luis, marqu, sil...       61   \n",
       "4081  [titul, rapsod, maior, autor, luis, marqu, sil...       61   \n",
       "4082  [titul, rapsod, maior, autor, luis, marqu, sil...       61   \n",
       "4083  [titul, rapsod, maior, autor, luis, marqu, sil...       61   \n",
       "4084  [titul, ultim, histor, autor, proxim, nobel, l...       62   \n",
       "4085  [titul, ultim, histor, autor, proxim, nobel, l...       62   \n",
       "4086  [titul, ultim, histor, autor, proxim, nobel, l...       62   \n",
       "4087  [titul, ultim, histor, autor, proxim, nobel, l...       62   \n",
       "4088  [titul, ultim, histor, autor, proxim, nobel, l...       62   \n",
       "4089  [titul, ultim, histor, autor, proxim, nobel, l...       62   \n",
       "4090  [titul, ultim, histor, autor, proxim, nobel, l...       62   \n",
       "4091  [titul, ultim, histor, autor, proxim, nobel, l...       62   \n",
       "\n",
       "                                          500 Word List  \\\n",
       "0     [titl, scen, odi, author, jos, almad, negreir,...   \n",
       "1     [cabeleir, prat, estilhac, herald, vitra, desp...   \n",
       "2     [cabec, ve, so, olhos, vir, cheir, cheir, terr...   \n",
       "3     [titl, jardim, pierrett, author, jos, almad, n...   \n",
       "4     [titl, invenca, dia, clar, author, jos, almad,...   \n",
       "5     [i, part, andaim, vesp, conferenc, improvis, s...   \n",
       "6     [palavr, tod, gost, coll, algum, d, pacienc, p...   \n",
       "7     [ouv, cruz, encruzilh, cad, parec, reconhec, a...   \n",
       "8     [exist, nao, tao, devag, quadr, azul, par, dia...   \n",
       "9     [quer, advinh, taes, palavr, outr, vez, anjo, ...   \n",
       "10    [papel, chei, linh, umas, n, direcca, outr, n,...   \n",
       "11    [titl, litoral, amad, souz, cardoz, author, jo...   \n",
       "12    [exposica, amad, souz, cardos, lig, naval, lis...   \n",
       "13    [jos, almad, negreir, k, quadr, azul, acab, ap...   \n",
       "14    [feit, hom, aind, infam, deus, ter, nasc, port...   \n",
       "15    [nenhum, fac, quadr, azul, reproduz, nit, golp...   \n",
       "16    [illumin, perpendicular, direcca, energ, pra, ...   \n",
       "17    [desesper, d, agu, outr, vez, diagona, divid, ...   \n",
       "18    [tod, ate, instant, pens, mim, quer, noca, exa...   \n",
       "19    [maci, loir, habit, lingu, direca, gest, atitu...   \n",
       "20    [bast, so, pra, human, tod, so, instant, imanc...   \n",
       "21    [orpheu, revist, trimestral, literatur, portug...   \n",
       "22    [elevaca, unidad, discreca, onde, depend, harm...   \n",
       "23    [olha, la, vai, vals, vest, casac, salo, vic, ...   \n",
       "24    [castel, rub, opal, tanj, poent, harp, silenc,...   \n",
       "25    [primeir, sent, frent, janell, cost, contr, to...   \n",
       "26    [porqu, nao, corr, long, pert, ha, algum, raza...   \n",
       "27    [sempr, tard, nao, cant, paus, primeir, brev, ...   \n",
       "28    [irma, conta, sempr, nao, par, cont, rep, dias...   \n",
       "29    [pens, nao, tent, segu, nest, aventur, interio...   \n",
       "...                                                 ...   \n",
       "4062  [trabalh, temp, traz, boas, recordaco, vou, co...   \n",
       "4063  [enfim, ines, dev, estar, quas, acord, outr, v...   \n",
       "4064  [nao, rep, sent, cim, telemovel, quer, marqu, ...   \n",
       "4065  [assunt, re, calm, calm, tud, explicaca, facil...   \n",
       "4066  [terrivel, precis, escrev, decid, segu, consel...   \n",
       "4067  [desculp, sint, sozinh, tud, quant, mal, estar...   \n",
       "4068  [terror, possivel, gost, film, terror, agor, o...   \n",
       "4069  [mort, joa, naquel, acident, carr, fez, sim, c...   \n",
       "4070  [nao, quer, receb, cham, horrivel, odei, quer,...   \n",
       "4071  [cabel, apos, part, talvez, nao, normal, ritm,...   \n",
       "4072  [lisbo, lisbo, ano, agost, tao, gel, ha, vint,...   \n",
       "4073  [leu, olhos, cansac, embor, palavr, sorr, part...   \n",
       "4074  [lad, janel, ped, sum, lima, instal, jornal, a...   \n",
       "4075  [jaim, nunc, sai, lisbo, estiv, quas, apanh, n...   \n",
       "4076  [titul, passei, infern, autor, luis, marqu, si...   \n",
       "4077  [furador, carnivor, trinc, escrupul, estremec,...   \n",
       "4078  [titul, rapsod, maior, autor, luis, marqu, sil...   \n",
       "4079  [nao, primeir, vez, dep, alienigen, primeir, v...   \n",
       "4080  [marnix, mulh, agath, lev, cas, onde, estav, s...   \n",
       "4081  [curios, repugn, insect, vir, cost, prepar, pa...   \n",
       "4082  [pequen, batalh, vei, confirm, lo, trabalh, eq...   \n",
       "4083  [rest, ate, porreir, ando, tent, ensin, lo, le...   \n",
       "4084  [titul, ultim, histor, autor, proxim, nobel, l...   \n",
       "4085  [com, barrig, soou, rug, tao, alto, assust, ga...   \n",
       "4086  [bem, vind, plac, perfeit, sifil, muit, put, t...   \n",
       "4087  [fabiol, serv, ingenu, contraband, patins, lin...   \n",
       "4088  [alem, diss, catol, pratic, prep, fech, port, ...   \n",
       "4089  [porteir, mulh, senhor, mar, carm, desaparec, ...   \n",
       "4090  [bol, noz, pisc, olho, diss, sotaqu, brasileir...   \n",
       "4091  [desesper, quer, livr, imediat, tao, atroz, si...   \n",
       "\n",
       "                                         500 Clean Text  \n",
       "0     titl scen odi author jos almad negreir releas ...  \n",
       "1     cabeleir prat estilhac herald vitra despeg len...  \n",
       "2     cabec ve so olhos vir cheir cheir terr com ter...  \n",
       "3     titl jardim pierrett author jos almad negreir ...  \n",
       "4     titl invenca dia clar author jos almad negreir...  \n",
       "5     i part andaim vesp conferenc improvis senhor s...  \n",
       "6     palavr tod gost coll algum d pacienc palavr sa...  \n",
       "7     ouv cruz encruzilh cad parec reconhec aquell m...  \n",
       "8     exist nao tao devag quadr azul par dia vez ir ...  \n",
       "9     quer advinh taes palavr outr vez anjo guard pe...  \n",
       "10    papel chei linh umas n direcca outr n outr uma...  \n",
       "11    titl litoral amad souz cardoz author jos almad...  \n",
       "12    exposica amad souz cardos lig naval lisbo port...  \n",
       "13    jos almad negreir k quadr azul acab aparec poe...  \n",
       "14    feit hom aind infam deus ter nasc portuguez ja...  \n",
       "15    nenhum fac quadr azul reproduz nit golp radium...  \n",
       "16    illumin perpendicular direcca energ pra la vid...  \n",
       "17    desesper d agu outr vez diagona divid quadr ra...  \n",
       "18    tod ate instant pens mim quer noca exact inten...  \n",
       "19    maci loir habit lingu direca gest atitud tud d...  \n",
       "20    bast so pra human tod so instant imancip unani...  \n",
       "21    orpheu revist trimestral literatur portugal br...  \n",
       "22    elevaca unidad discreca onde depend harmon est...  \n",
       "23    olha la vai vals vest casac salo vic rei sub m...  \n",
       "24    castel rub opal tanj poent harp silenc agon al...  \n",
       "25    primeir sent frent janell cost contr toch cim ...  \n",
       "26    porqu nao corr long pert ha algum raza qualqu ...  \n",
       "27    sempr tard nao cant paus primeir brev ser dia ...  \n",
       "28    irma conta sempr nao par cont rep dias rai dia...  \n",
       "29    pens nao tent segu nest aventur interior sab f...  \n",
       "...                                                 ...  \n",
       "4062  trabalh temp traz boas recordaco vou continu p...  \n",
       "4063  enfim ines dev estar quas acord outr vez leono...  \n",
       "4064  nao rep sent cim telemovel quer marqu numer pr...  \n",
       "4065  assunt re calm calm tud explicaca facil diz ex...  \n",
       "4066  terrivel precis escrev decid segu conselh ir c...  \n",
       "4067  desculp sint sozinh tud quant mal estar ines p...  \n",
       "4068  terror possivel gost film terror agor odei ago...  \n",
       "4069  mort joa naquel acident carr fez sim cabec arr...  \n",
       "4070  nao quer receb cham horrivel odei quer sair da...  \n",
       "4071  cabel apos part talvez nao normal ritm carec d...  \n",
       "4072  lisbo lisbo ano agost tao gel ha vint anos atr...  \n",
       "4073  leu olhos cansac embor palavr sorr part alfred...  \n",
       "4074  lad janel ped sum lima instal jornal agend ele...  \n",
       "4075  jaim nunc sai lisbo estiv quas apanh naquel di...  \n",
       "4076  titul passei infern autor luis marqu silv tod ...  \n",
       "4077  furador carnivor trinc escrupul estremec dor t...  \n",
       "4078  titul rapsod maior autor luis marqu silv tod d...  \n",
       "4079  nao primeir vez dep alienigen primeir vez dep ...  \n",
       "4080  marnix mulh agath lev cas onde estav seguranc ...  \n",
       "4081  curios repugn insect vir cost prepar part repa...  \n",
       "4082  pequen batalh vei confirm lo trabalh equip cri...  \n",
       "4083  rest ate porreir ando tent ensin lo ler comec ...  \n",
       "4084  titul ultim histor autor proxim nobel luis mar...  \n",
       "4085  com barrig soou rug tao alto assust gat malaqu...  \n",
       "4086  bem vind plac perfeit sifil muit put tailand o...  \n",
       "4087  fabiol serv ingenu contraband patins linh espa...  \n",
       "4088  alem diss catol pratic prep fech port esper ac...  \n",
       "4089  porteir mulh senhor mar carm desaparec facil s...  \n",
       "4090  bol noz pisc olho diss sotaqu brasileir relax ...  \n",
       "4091  desesper quer livr imediat tao atroz situaca l...  \n",
       "\n",
       "[4092 rows x 7 columns]"
      ]
     },
     "execution_count": 18,
     "metadata": {},
     "output_type": "execute_result"
    }
   ],
   "source": [
    "corpora = pd.merge(corpora,corpora_500,how='left',left_on=corpora.index,right_on='OG Index')\n",
    "corpora"
   ]
  },
  {
   "cell_type": "code",
   "execution_count": 19,
   "metadata": {},
   "outputs": [
    {
     "data": {
      "text/html": [
       "<div>\n",
       "<style scoped>\n",
       "    .dataframe tbody tr th:only-of-type {\n",
       "        vertical-align: middle;\n",
       "    }\n",
       "\n",
       "    .dataframe tbody tr th {\n",
       "        vertical-align: top;\n",
       "    }\n",
       "\n",
       "    .dataframe thead th {\n",
       "        text-align: right;\n",
       "    }\n",
       "</style>\n",
       "<table border=\"1\" class=\"dataframe\">\n",
       "  <thead>\n",
       "    <tr style=\"text-align: right;\">\n",
       "      <th></th>\n",
       "      <th>Text</th>\n",
       "      <th>Author</th>\n",
       "      <th>Clean Text</th>\n",
       "      <th>Word List</th>\n",
       "      <th>OG Index</th>\n",
       "      <th>500 Word List</th>\n",
       "      <th>500 Clean Text</th>\n",
       "      <th>word_count_clean</th>\n",
       "    </tr>\n",
       "  </thead>\n",
       "  <tbody>\n",
       "    <tr>\n",
       "      <th>0</th>\n",
       "      <td>Title: A Scena do Odio\\n\\nAuthor: José de Alma...</td>\n",
       "      <td>Almada Negreiros</td>\n",
       "      <td>titl scen odi author jos almad negreir releas ...</td>\n",
       "      <td>[titl, scen, odi, author, jos, almad, negreir,...</td>\n",
       "      <td>0</td>\n",
       "      <td>[titl, scen, odi, author, jos, almad, negreir,...</td>\n",
       "      <td>titl scen odi author jos almad negreir releas ...</td>\n",
       "      <td>500</td>\n",
       "    </tr>\n",
       "    <tr>\n",
       "      <th>1</th>\n",
       "      <td>Title: A Scena do Odio\\n\\nAuthor: José de Alma...</td>\n",
       "      <td>Almada Negreiros</td>\n",
       "      <td>titl scen odi author jos almad negreir releas ...</td>\n",
       "      <td>[titl, scen, odi, author, jos, almad, negreir,...</td>\n",
       "      <td>0</td>\n",
       "      <td>[cabeleir, prat, estilhac, herald, vitra, desp...</td>\n",
       "      <td>cabeleir prat estilhac herald vitra despeg len...</td>\n",
       "      <td>500</td>\n",
       "    </tr>\n",
       "    <tr>\n",
       "      <th>2</th>\n",
       "      <td>Title: A Scena do Odio\\n\\nAuthor: José de Alma...</td>\n",
       "      <td>Almada Negreiros</td>\n",
       "      <td>titl scen odi author jos almad negreir releas ...</td>\n",
       "      <td>[titl, scen, odi, author, jos, almad, negreir,...</td>\n",
       "      <td>0</td>\n",
       "      <td>[cabec, ve, so, olhos, vir, cheir, cheir, terr...</td>\n",
       "      <td>cabec ve so olhos vir cheir cheir terr com ter...</td>\n",
       "      <td>139</td>\n",
       "    </tr>\n",
       "    <tr>\n",
       "      <th>3</th>\n",
       "      <td>Title: O Jardim da Pierrette\\n\\nAuthor: José d...</td>\n",
       "      <td>Almada Negreiros</td>\n",
       "      <td>titl jardim pierrett author jos almad negreir ...</td>\n",
       "      <td>[titl, jardim, pierrett, author, jos, almad, n...</td>\n",
       "      <td>1</td>\n",
       "      <td>[titl, jardim, pierrett, author, jos, almad, n...</td>\n",
       "      <td>titl jardim pierrett author jos almad negreir ...</td>\n",
       "      <td>203</td>\n",
       "    </tr>\n",
       "    <tr>\n",
       "      <th>4</th>\n",
       "      <td>\\n\\nTitle: A Invenção do Dia Claro\\n\\nAuthor: ...</td>\n",
       "      <td>Almada Negreiros</td>\n",
       "      <td>titl invenca dia clar author jos almad negreir...</td>\n",
       "      <td>[titl, invenca, dia, clar, author, jos, almad,...</td>\n",
       "      <td>2</td>\n",
       "      <td>[titl, invenca, dia, clar, author, jos, almad,...</td>\n",
       "      <td>titl invenca dia clar author jos almad negreir...</td>\n",
       "      <td>500</td>\n",
       "    </tr>\n",
       "    <tr>\n",
       "      <th>5</th>\n",
       "      <td>\\n\\nTitle: A Invenção do Dia Claro\\n\\nAuthor: ...</td>\n",
       "      <td>Almada Negreiros</td>\n",
       "      <td>titl invenca dia clar author jos almad negreir...</td>\n",
       "      <td>[titl, invenca, dia, clar, author, jos, almad,...</td>\n",
       "      <td>2</td>\n",
       "      <td>[i, part, andaim, vesp, conferenc, improvis, s...</td>\n",
       "      <td>i part andaim vesp conferenc improvis senhor s...</td>\n",
       "      <td>500</td>\n",
       "    </tr>\n",
       "    <tr>\n",
       "      <th>6</th>\n",
       "      <td>\\n\\nTitle: A Invenção do Dia Claro\\n\\nAuthor: ...</td>\n",
       "      <td>Almada Negreiros</td>\n",
       "      <td>titl invenca dia clar author jos almad negreir...</td>\n",
       "      <td>[titl, invenca, dia, clar, author, jos, almad,...</td>\n",
       "      <td>2</td>\n",
       "      <td>[palavr, tod, gost, coll, algum, d, pacienc, p...</td>\n",
       "      <td>palavr tod gost coll algum d pacienc palavr sa...</td>\n",
       "      <td>500</td>\n",
       "    </tr>\n",
       "    <tr>\n",
       "      <th>7</th>\n",
       "      <td>\\n\\nTitle: A Invenção do Dia Claro\\n\\nAuthor: ...</td>\n",
       "      <td>Almada Negreiros</td>\n",
       "      <td>titl invenca dia clar author jos almad negreir...</td>\n",
       "      <td>[titl, invenca, dia, clar, author, jos, almad,...</td>\n",
       "      <td>2</td>\n",
       "      <td>[ouv, cruz, encruzilh, cad, parec, reconhec, a...</td>\n",
       "      <td>ouv cruz encruzilh cad parec reconhec aquell m...</td>\n",
       "      <td>500</td>\n",
       "    </tr>\n",
       "    <tr>\n",
       "      <th>8</th>\n",
       "      <td>\\n\\nTitle: A Invenção do Dia Claro\\n\\nAuthor: ...</td>\n",
       "      <td>Almada Negreiros</td>\n",
       "      <td>titl invenca dia clar author jos almad negreir...</td>\n",
       "      <td>[titl, invenca, dia, clar, author, jos, almad,...</td>\n",
       "      <td>2</td>\n",
       "      <td>[exist, nao, tao, devag, quadr, azul, par, dia...</td>\n",
       "      <td>exist nao tao devag quadr azul par dia vez ir ...</td>\n",
       "      <td>500</td>\n",
       "    </tr>\n",
       "    <tr>\n",
       "      <th>9</th>\n",
       "      <td>\\n\\nTitle: A Invenção do Dia Claro\\n\\nAuthor: ...</td>\n",
       "      <td>Almada Negreiros</td>\n",
       "      <td>titl invenca dia clar author jos almad negreir...</td>\n",
       "      <td>[titl, invenca, dia, clar, author, jos, almad,...</td>\n",
       "      <td>2</td>\n",
       "      <td>[quer, advinh, taes, palavr, outr, vez, anjo, ...</td>\n",
       "      <td>quer advinh taes palavr outr vez anjo guard pe...</td>\n",
       "      <td>500</td>\n",
       "    </tr>\n",
       "    <tr>\n",
       "      <th>10</th>\n",
       "      <td>\\n\\nTitle: A Invenção do Dia Claro\\n\\nAuthor: ...</td>\n",
       "      <td>Almada Negreiros</td>\n",
       "      <td>titl invenca dia clar author jos almad negreir...</td>\n",
       "      <td>[titl, invenca, dia, clar, author, jos, almad,...</td>\n",
       "      <td>2</td>\n",
       "      <td>[papel, chei, linh, umas, n, direcca, outr, n,...</td>\n",
       "      <td>papel chei linh umas n direcca outr n outr uma...</td>\n",
       "      <td>439</td>\n",
       "    </tr>\n",
       "    <tr>\n",
       "      <th>11</th>\n",
       "      <td>\\nTitle: Litoral\\n       A Amadeo de Souza Car...</td>\n",
       "      <td>Almada Negreiros</td>\n",
       "      <td>titl litoral amad souz cardoz author jos almad...</td>\n",
       "      <td>[titl, litoral, amad, souz, cardoz, author, jo...</td>\n",
       "      <td>3</td>\n",
       "      <td>[titl, litoral, amad, souz, cardoz, author, jo...</td>\n",
       "      <td>titl litoral amad souz cardoz author jos almad...</td>\n",
       "      <td>476</td>\n",
       "    </tr>\n",
       "    <tr>\n",
       "      <th>12</th>\n",
       "      <td>\\n\\n\\nEXPOSIÇÃO\\n\\n+amadeo\\nde souza\\ncardoso+...</td>\n",
       "      <td>Almada Negreiros</td>\n",
       "      <td>exposica amad souz cardos lig naval lisbo port...</td>\n",
       "      <td>[exposica, amad, souz, cardos, lig, naval, lis...</td>\n",
       "      <td>4</td>\n",
       "      <td>[exposica, amad, souz, cardos, lig, naval, lis...</td>\n",
       "      <td>exposica amad souz cardos lig naval lisbo port...</td>\n",
       "      <td>354</td>\n",
       "    </tr>\n",
       "    <tr>\n",
       "      <th>13</th>\n",
       "      <td>\\n\\n*JOSÉ DE ALMADA-NEGREIROS*\\n\\n\\n*K4\\n\\no q...</td>\n",
       "      <td>Almada Negreiros</td>\n",
       "      <td>jos almad negreir k quadr azul acab aparec poe...</td>\n",
       "      <td>[jos, almad, negreir, k, quadr, azul, acab, ap...</td>\n",
       "      <td>5</td>\n",
       "      <td>[jos, almad, negreir, k, quadr, azul, acab, ap...</td>\n",
       "      <td>jos almad negreir k quadr azul acab aparec poe...</td>\n",
       "      <td>500</td>\n",
       "    </tr>\n",
       "    <tr>\n",
       "      <th>14</th>\n",
       "      <td>\\n\\n*JOSÉ DE ALMADA-NEGREIROS*\\n\\n\\n*K4\\n\\no q...</td>\n",
       "      <td>Almada Negreiros</td>\n",
       "      <td>jos almad negreir k quadr azul acab aparec poe...</td>\n",
       "      <td>[jos, almad, negreir, k, quadr, azul, acab, ap...</td>\n",
       "      <td>5</td>\n",
       "      <td>[feit, hom, aind, infam, deus, ter, nasc, port...</td>\n",
       "      <td>feit hom aind infam deus ter nasc portuguez ja...</td>\n",
       "      <td>500</td>\n",
       "    </tr>\n",
       "    <tr>\n",
       "      <th>15</th>\n",
       "      <td>\\n\\n*JOSÉ DE ALMADA-NEGREIROS*\\n\\n\\n*K4\\n\\no q...</td>\n",
       "      <td>Almada Negreiros</td>\n",
       "      <td>jos almad negreir k quadr azul acab aparec poe...</td>\n",
       "      <td>[jos, almad, negreir, k, quadr, azul, acab, ap...</td>\n",
       "      <td>5</td>\n",
       "      <td>[nenhum, fac, quadr, azul, reproduz, nit, golp...</td>\n",
       "      <td>nenhum fac quadr azul reproduz nit golp radium...</td>\n",
       "      <td>500</td>\n",
       "    </tr>\n",
       "    <tr>\n",
       "      <th>16</th>\n",
       "      <td>\\n\\n*JOSÉ DE ALMADA-NEGREIROS*\\n\\n\\n*K4\\n\\no q...</td>\n",
       "      <td>Almada Negreiros</td>\n",
       "      <td>jos almad negreir k quadr azul acab aparec poe...</td>\n",
       "      <td>[jos, almad, negreir, k, quadr, azul, acab, ap...</td>\n",
       "      <td>5</td>\n",
       "      <td>[illumin, perpendicular, direcca, energ, pra, ...</td>\n",
       "      <td>illumin perpendicular direcca energ pra la vid...</td>\n",
       "      <td>500</td>\n",
       "    </tr>\n",
       "    <tr>\n",
       "      <th>17</th>\n",
       "      <td>\\n\\n*JOSÉ DE ALMADA-NEGREIROS*\\n\\n\\n*K4\\n\\no q...</td>\n",
       "      <td>Almada Negreiros</td>\n",
       "      <td>jos almad negreir k quadr azul acab aparec poe...</td>\n",
       "      <td>[jos, almad, negreir, k, quadr, azul, acab, ap...</td>\n",
       "      <td>5</td>\n",
       "      <td>[desesper, d, agu, outr, vez, diagona, divid, ...</td>\n",
       "      <td>desesper d agu outr vez diagona divid quadr ra...</td>\n",
       "      <td>500</td>\n",
       "    </tr>\n",
       "    <tr>\n",
       "      <th>18</th>\n",
       "      <td>\\n\\n*JOSÉ DE ALMADA-NEGREIROS*\\n\\n\\n*K4\\n\\no q...</td>\n",
       "      <td>Almada Negreiros</td>\n",
       "      <td>jos almad negreir k quadr azul acab aparec poe...</td>\n",
       "      <td>[jos, almad, negreir, k, quadr, azul, acab, ap...</td>\n",
       "      <td>5</td>\n",
       "      <td>[tod, ate, instant, pens, mim, quer, noca, exa...</td>\n",
       "      <td>tod ate instant pens mim quer noca exact inten...</td>\n",
       "      <td>500</td>\n",
       "    </tr>\n",
       "    <tr>\n",
       "      <th>19</th>\n",
       "      <td>\\n\\n*JOSÉ DE ALMADA-NEGREIROS*\\n\\n\\n*K4\\n\\no q...</td>\n",
       "      <td>Almada Negreiros</td>\n",
       "      <td>jos almad negreir k quadr azul acab aparec poe...</td>\n",
       "      <td>[jos, almad, negreir, k, quadr, azul, acab, ap...</td>\n",
       "      <td>5</td>\n",
       "      <td>[maci, loir, habit, lingu, direca, gest, atitu...</td>\n",
       "      <td>maci loir habit lingu direca gest atitud tud d...</td>\n",
       "      <td>500</td>\n",
       "    </tr>\n",
       "    <tr>\n",
       "      <th>20</th>\n",
       "      <td>\\n\\n*JOSÉ DE ALMADA-NEGREIROS*\\n\\n\\n*K4\\n\\no q...</td>\n",
       "      <td>Almada Negreiros</td>\n",
       "      <td>jos almad negreir k quadr azul acab aparec poe...</td>\n",
       "      <td>[jos, almad, negreir, k, quadr, azul, acab, ap...</td>\n",
       "      <td>5</td>\n",
       "      <td>[bast, so, pra, human, tod, so, instant, imanc...</td>\n",
       "      <td>bast so pra human tod so instant imancip unani...</td>\n",
       "      <td>412</td>\n",
       "    </tr>\n",
       "    <tr>\n",
       "      <th>21</th>\n",
       "      <td>\\n\\n*\"ORPHEU\"*\\n\\nREVISTA TRIMESTRAL DE LITERA...</td>\n",
       "      <td>Almada Negreiros</td>\n",
       "      <td>orpheu revist trimestral literatur portugal br...</td>\n",
       "      <td>[orpheu, revist, trimestral, literatur, portug...</td>\n",
       "      <td>6</td>\n",
       "      <td>[orpheu, revist, trimestral, literatur, portug...</td>\n",
       "      <td>orpheu revist trimestral literatur portugal br...</td>\n",
       "      <td>500</td>\n",
       "    </tr>\n",
       "    <tr>\n",
       "      <th>22</th>\n",
       "      <td>\\n\\n*\"ORPHEU\"*\\n\\nREVISTA TRIMESTRAL DE LITERA...</td>\n",
       "      <td>Almada Negreiros</td>\n",
       "      <td>orpheu revist trimestral literatur portugal br...</td>\n",
       "      <td>[orpheu, revist, trimestral, literatur, portug...</td>\n",
       "      <td>6</td>\n",
       "      <td>[elevaca, unidad, discreca, onde, depend, harm...</td>\n",
       "      <td>elevaca unidad discreca onde depend harmon est...</td>\n",
       "      <td>500</td>\n",
       "    </tr>\n",
       "    <tr>\n",
       "      <th>23</th>\n",
       "      <td>\\n\\n*\"ORPHEU\"*\\n\\nREVISTA TRIMESTRAL DE LITERA...</td>\n",
       "      <td>Almada Negreiros</td>\n",
       "      <td>orpheu revist trimestral literatur portugal br...</td>\n",
       "      <td>[orpheu, revist, trimestral, literatur, portug...</td>\n",
       "      <td>6</td>\n",
       "      <td>[olha, la, vai, vals, vest, casac, salo, vic, ...</td>\n",
       "      <td>olha la vai vals vest casac salo vic rei sub m...</td>\n",
       "      <td>500</td>\n",
       "    </tr>\n",
       "    <tr>\n",
       "      <th>24</th>\n",
       "      <td>\\n\\n*\"ORPHEU\"*\\n\\nREVISTA TRIMESTRAL DE LITERA...</td>\n",
       "      <td>Almada Negreiros</td>\n",
       "      <td>orpheu revist trimestral literatur portugal br...</td>\n",
       "      <td>[orpheu, revist, trimestral, literatur, portug...</td>\n",
       "      <td>6</td>\n",
       "      <td>[castel, rub, opal, tanj, poent, harp, silenc,...</td>\n",
       "      <td>castel rub opal tanj poent harp silenc agon al...</td>\n",
       "      <td>500</td>\n",
       "    </tr>\n",
       "    <tr>\n",
       "      <th>25</th>\n",
       "      <td>\\n\\n*\"ORPHEU\"*\\n\\nREVISTA TRIMESTRAL DE LITERA...</td>\n",
       "      <td>Almada Negreiros</td>\n",
       "      <td>orpheu revist trimestral literatur portugal br...</td>\n",
       "      <td>[orpheu, revist, trimestral, literatur, portug...</td>\n",
       "      <td>6</td>\n",
       "      <td>[primeir, sent, frent, janell, cost, contr, to...</td>\n",
       "      <td>primeir sent frent janell cost contr toch cim ...</td>\n",
       "      <td>500</td>\n",
       "    </tr>\n",
       "    <tr>\n",
       "      <th>26</th>\n",
       "      <td>\\n\\n*\"ORPHEU\"*\\n\\nREVISTA TRIMESTRAL DE LITERA...</td>\n",
       "      <td>Almada Negreiros</td>\n",
       "      <td>orpheu revist trimestral literatur portugal br...</td>\n",
       "      <td>[orpheu, revist, trimestral, literatur, portug...</td>\n",
       "      <td>6</td>\n",
       "      <td>[porqu, nao, corr, long, pert, ha, algum, raza...</td>\n",
       "      <td>porqu nao corr long pert ha algum raza qualqu ...</td>\n",
       "      <td>500</td>\n",
       "    </tr>\n",
       "    <tr>\n",
       "      <th>27</th>\n",
       "      <td>\\n\\n*\"ORPHEU\"*\\n\\nREVISTA TRIMESTRAL DE LITERA...</td>\n",
       "      <td>Almada Negreiros</td>\n",
       "      <td>orpheu revist trimestral literatur portugal br...</td>\n",
       "      <td>[orpheu, revist, trimestral, literatur, portug...</td>\n",
       "      <td>6</td>\n",
       "      <td>[sempr, tard, nao, cant, paus, primeir, brev, ...</td>\n",
       "      <td>sempr tard nao cant paus primeir brev ser dia ...</td>\n",
       "      <td>500</td>\n",
       "    </tr>\n",
       "    <tr>\n",
       "      <th>28</th>\n",
       "      <td>\\n\\n*\"ORPHEU\"*\\n\\nREVISTA TRIMESTRAL DE LITERA...</td>\n",
       "      <td>Almada Negreiros</td>\n",
       "      <td>orpheu revist trimestral literatur portugal br...</td>\n",
       "      <td>[orpheu, revist, trimestral, literatur, portug...</td>\n",
       "      <td>6</td>\n",
       "      <td>[irma, conta, sempr, nao, par, cont, rep, dias...</td>\n",
       "      <td>irma conta sempr nao par cont rep dias rai dia...</td>\n",
       "      <td>500</td>\n",
       "    </tr>\n",
       "    <tr>\n",
       "      <th>29</th>\n",
       "      <td>\\n\\n*\"ORPHEU\"*\\n\\nREVISTA TRIMESTRAL DE LITERA...</td>\n",
       "      <td>Almada Negreiros</td>\n",
       "      <td>orpheu revist trimestral literatur portugal br...</td>\n",
       "      <td>[orpheu, revist, trimestral, literatur, portug...</td>\n",
       "      <td>6</td>\n",
       "      <td>[pens, nao, tent, segu, nest, aventur, interio...</td>\n",
       "      <td>pens nao tent segu nest aventur interior sab f...</td>\n",
       "      <td>500</td>\n",
       "    </tr>\n",
       "    <tr>\n",
       "      <th>...</th>\n",
       "      <td>...</td>\n",
       "      <td>...</td>\n",
       "      <td>...</td>\n",
       "      <td>...</td>\n",
       "      <td>...</td>\n",
       "      <td>...</td>\n",
       "      <td>...</td>\n",
       "      <td>...</td>\n",
       "    </tr>\n",
       "    <tr>\n",
       "      <th>4062</th>\n",
       "      <td>Título\\ne-medo\\n\\nAutora (inspiradíssima)\\nLuí...</td>\n",
       "      <td>Luisa Marques Silva</td>\n",
       "      <td>titul med autor inspiradissim luis marqu silv ...</td>\n",
       "      <td>[titul, med, autor, inspiradissim, luis, marqu...</td>\n",
       "      <td>58</td>\n",
       "      <td>[trabalh, temp, traz, boas, recordaco, vou, co...</td>\n",
       "      <td>trabalh temp traz boas recordaco vou continu p...</td>\n",
       "      <td>500</td>\n",
       "    </tr>\n",
       "    <tr>\n",
       "      <th>4063</th>\n",
       "      <td>Título\\ne-medo\\n\\nAutora (inspiradíssima)\\nLuí...</td>\n",
       "      <td>Luisa Marques Silva</td>\n",
       "      <td>titul med autor inspiradissim luis marqu silv ...</td>\n",
       "      <td>[titul, med, autor, inspiradissim, luis, marqu...</td>\n",
       "      <td>58</td>\n",
       "      <td>[enfim, ines, dev, estar, quas, acord, outr, v...</td>\n",
       "      <td>enfim ines dev estar quas acord outr vez leono...</td>\n",
       "      <td>500</td>\n",
       "    </tr>\n",
       "    <tr>\n",
       "      <th>4064</th>\n",
       "      <td>Título\\ne-medo\\n\\nAutora (inspiradíssima)\\nLuí...</td>\n",
       "      <td>Luisa Marques Silva</td>\n",
       "      <td>titul med autor inspiradissim luis marqu silv ...</td>\n",
       "      <td>[titul, med, autor, inspiradissim, luis, marqu...</td>\n",
       "      <td>58</td>\n",
       "      <td>[nao, rep, sent, cim, telemovel, quer, marqu, ...</td>\n",
       "      <td>nao rep sent cim telemovel quer marqu numer pr...</td>\n",
       "      <td>500</td>\n",
       "    </tr>\n",
       "    <tr>\n",
       "      <th>4065</th>\n",
       "      <td>Título\\ne-medo\\n\\nAutora (inspiradíssima)\\nLuí...</td>\n",
       "      <td>Luisa Marques Silva</td>\n",
       "      <td>titul med autor inspiradissim luis marqu silv ...</td>\n",
       "      <td>[titul, med, autor, inspiradissim, luis, marqu...</td>\n",
       "      <td>58</td>\n",
       "      <td>[assunt, re, calm, calm, tud, explicaca, facil...</td>\n",
       "      <td>assunt re calm calm tud explicaca facil diz ex...</td>\n",
       "      <td>500</td>\n",
       "    </tr>\n",
       "    <tr>\n",
       "      <th>4066</th>\n",
       "      <td>Título\\ne-medo\\n\\nAutora (inspiradíssima)\\nLuí...</td>\n",
       "      <td>Luisa Marques Silva</td>\n",
       "      <td>titul med autor inspiradissim luis marqu silv ...</td>\n",
       "      <td>[titul, med, autor, inspiradissim, luis, marqu...</td>\n",
       "      <td>58</td>\n",
       "      <td>[terrivel, precis, escrev, decid, segu, consel...</td>\n",
       "      <td>terrivel precis escrev decid segu conselh ir c...</td>\n",
       "      <td>500</td>\n",
       "    </tr>\n",
       "    <tr>\n",
       "      <th>4067</th>\n",
       "      <td>Título\\ne-medo\\n\\nAutora (inspiradíssima)\\nLuí...</td>\n",
       "      <td>Luisa Marques Silva</td>\n",
       "      <td>titul med autor inspiradissim luis marqu silv ...</td>\n",
       "      <td>[titul, med, autor, inspiradissim, luis, marqu...</td>\n",
       "      <td>58</td>\n",
       "      <td>[desculp, sint, sozinh, tud, quant, mal, estar...</td>\n",
       "      <td>desculp sint sozinh tud quant mal estar ines p...</td>\n",
       "      <td>500</td>\n",
       "    </tr>\n",
       "    <tr>\n",
       "      <th>4068</th>\n",
       "      <td>Título\\ne-medo\\n\\nAutora (inspiradíssima)\\nLuí...</td>\n",
       "      <td>Luisa Marques Silva</td>\n",
       "      <td>titul med autor inspiradissim luis marqu silv ...</td>\n",
       "      <td>[titul, med, autor, inspiradissim, luis, marqu...</td>\n",
       "      <td>58</td>\n",
       "      <td>[terror, possivel, gost, film, terror, agor, o...</td>\n",
       "      <td>terror possivel gost film terror agor odei ago...</td>\n",
       "      <td>500</td>\n",
       "    </tr>\n",
       "    <tr>\n",
       "      <th>4069</th>\n",
       "      <td>Título\\ne-medo\\n\\nAutora (inspiradíssima)\\nLuí...</td>\n",
       "      <td>Luisa Marques Silva</td>\n",
       "      <td>titul med autor inspiradissim luis marqu silv ...</td>\n",
       "      <td>[titul, med, autor, inspiradissim, luis, marqu...</td>\n",
       "      <td>58</td>\n",
       "      <td>[mort, joa, naquel, acident, carr, fez, sim, c...</td>\n",
       "      <td>mort joa naquel acident carr fez sim cabec arr...</td>\n",
       "      <td>500</td>\n",
       "    </tr>\n",
       "    <tr>\n",
       "      <th>4070</th>\n",
       "      <td>Título\\ne-medo\\n\\nAutora (inspiradíssima)\\nLuí...</td>\n",
       "      <td>Luisa Marques Silva</td>\n",
       "      <td>titul med autor inspiradissim luis marqu silv ...</td>\n",
       "      <td>[titul, med, autor, inspiradissim, luis, marqu...</td>\n",
       "      <td>58</td>\n",
       "      <td>[nao, quer, receb, cham, horrivel, odei, quer,...</td>\n",
       "      <td>nao quer receb cham horrivel odei quer sair da...</td>\n",
       "      <td>500</td>\n",
       "    </tr>\n",
       "    <tr>\n",
       "      <th>4071</th>\n",
       "      <td>Título\\ne-medo\\n\\nAutora (inspiradíssima)\\nLuí...</td>\n",
       "      <td>Luisa Marques Silva</td>\n",
       "      <td>titul med autor inspiradissim luis marqu silv ...</td>\n",
       "      <td>[titul, med, autor, inspiradissim, luis, marqu...</td>\n",
       "      <td>58</td>\n",
       "      <td>[cabel, apos, part, talvez, nao, normal, ritm,...</td>\n",
       "      <td>cabel apos part talvez nao normal ritm carec d...</td>\n",
       "      <td>466</td>\n",
       "    </tr>\n",
       "    <tr>\n",
       "      <th>4072</th>\n",
       "      <td>LISBOA 2050\\nLisboa, ano de 2050. Um Agosto tã...</td>\n",
       "      <td>Luisa Marques Silva</td>\n",
       "      <td>lisbo lisbo ano agost tao gel ha vint anos atr...</td>\n",
       "      <td>[lisbo, lisbo, ano, agost, tao, gel, ha, vint,...</td>\n",
       "      <td>59</td>\n",
       "      <td>[lisbo, lisbo, ano, agost, tao, gel, ha, vint,...</td>\n",
       "      <td>lisbo lisbo ano agost tao gel ha vint anos atr...</td>\n",
       "      <td>500</td>\n",
       "    </tr>\n",
       "    <tr>\n",
       "      <th>4073</th>\n",
       "      <td>LISBOA 2050\\nLisboa, ano de 2050. Um Agosto tã...</td>\n",
       "      <td>Luisa Marques Silva</td>\n",
       "      <td>lisbo lisbo ano agost tao gel ha vint anos atr...</td>\n",
       "      <td>[lisbo, lisbo, ano, agost, tao, gel, ha, vint,...</td>\n",
       "      <td>59</td>\n",
       "      <td>[leu, olhos, cansac, embor, palavr, sorr, part...</td>\n",
       "      <td>leu olhos cansac embor palavr sorr part alfred...</td>\n",
       "      <td>500</td>\n",
       "    </tr>\n",
       "    <tr>\n",
       "      <th>4074</th>\n",
       "      <td>LISBOA 2050\\nLisboa, ano de 2050. Um Agosto tã...</td>\n",
       "      <td>Luisa Marques Silva</td>\n",
       "      <td>lisbo lisbo ano agost tao gel ha vint anos atr...</td>\n",
       "      <td>[lisbo, lisbo, ano, agost, tao, gel, ha, vint,...</td>\n",
       "      <td>59</td>\n",
       "      <td>[lad, janel, ped, sum, lima, instal, jornal, a...</td>\n",
       "      <td>lad janel ped sum lima instal jornal agend ele...</td>\n",
       "      <td>500</td>\n",
       "    </tr>\n",
       "    <tr>\n",
       "      <th>4075</th>\n",
       "      <td>LISBOA 2050\\nLisboa, ano de 2050. Um Agosto tã...</td>\n",
       "      <td>Luisa Marques Silva</td>\n",
       "      <td>lisbo lisbo ano agost tao gel ha vint anos atr...</td>\n",
       "      <td>[lisbo, lisbo, ano, agost, tao, gel, ha, vint,...</td>\n",
       "      <td>59</td>\n",
       "      <td>[jaim, nunc, sai, lisbo, estiv, quas, apanh, n...</td>\n",
       "      <td>jaim nunc sai lisbo estiv quas apanh naquel di...</td>\n",
       "      <td>468</td>\n",
       "    </tr>\n",
       "    <tr>\n",
       "      <th>4076</th>\n",
       "      <td>Título\\nUm passeio pelo inferno\\n\\nAutora\\nLuí...</td>\n",
       "      <td>Luisa Marques Silva</td>\n",
       "      <td>titul passei infern autor luis marqu silv tod ...</td>\n",
       "      <td>[titul, passei, infern, autor, luis, marqu, si...</td>\n",
       "      <td>60</td>\n",
       "      <td>[titul, passei, infern, autor, luis, marqu, si...</td>\n",
       "      <td>titul passei infern autor luis marqu silv tod ...</td>\n",
       "      <td>500</td>\n",
       "    </tr>\n",
       "    <tr>\n",
       "      <th>4077</th>\n",
       "      <td>Título\\nUm passeio pelo inferno\\n\\nAutora\\nLuí...</td>\n",
       "      <td>Luisa Marques Silva</td>\n",
       "      <td>titul passei infern autor luis marqu silv tod ...</td>\n",
       "      <td>[titul, passei, infern, autor, luis, marqu, si...</td>\n",
       "      <td>60</td>\n",
       "      <td>[furador, carnivor, trinc, escrupul, estremec,...</td>\n",
       "      <td>furador carnivor trinc escrupul estremec dor t...</td>\n",
       "      <td>129</td>\n",
       "    </tr>\n",
       "    <tr>\n",
       "      <th>4078</th>\n",
       "      <td>Título\\nRapsódia sem dó (maior)\\n\\nAutora\\nLuí...</td>\n",
       "      <td>Luisa Marques Silva</td>\n",
       "      <td>titul rapsod maior autor luis marqu silv tod d...</td>\n",
       "      <td>[titul, rapsod, maior, autor, luis, marqu, sil...</td>\n",
       "      <td>61</td>\n",
       "      <td>[titul, rapsod, maior, autor, luis, marqu, sil...</td>\n",
       "      <td>titul rapsod maior autor luis marqu silv tod d...</td>\n",
       "      <td>500</td>\n",
       "    </tr>\n",
       "    <tr>\n",
       "      <th>4079</th>\n",
       "      <td>Título\\nRapsódia sem dó (maior)\\n\\nAutora\\nLuí...</td>\n",
       "      <td>Luisa Marques Silva</td>\n",
       "      <td>titul rapsod maior autor luis marqu silv tod d...</td>\n",
       "      <td>[titul, rapsod, maior, autor, luis, marqu, sil...</td>\n",
       "      <td>61</td>\n",
       "      <td>[nao, primeir, vez, dep, alienigen, primeir, v...</td>\n",
       "      <td>nao primeir vez dep alienigen primeir vez dep ...</td>\n",
       "      <td>500</td>\n",
       "    </tr>\n",
       "    <tr>\n",
       "      <th>4080</th>\n",
       "      <td>Título\\nRapsódia sem dó (maior)\\n\\nAutora\\nLuí...</td>\n",
       "      <td>Luisa Marques Silva</td>\n",
       "      <td>titul rapsod maior autor luis marqu silv tod d...</td>\n",
       "      <td>[titul, rapsod, maior, autor, luis, marqu, sil...</td>\n",
       "      <td>61</td>\n",
       "      <td>[marnix, mulh, agath, lev, cas, onde, estav, s...</td>\n",
       "      <td>marnix mulh agath lev cas onde estav seguranc ...</td>\n",
       "      <td>500</td>\n",
       "    </tr>\n",
       "    <tr>\n",
       "      <th>4081</th>\n",
       "      <td>Título\\nRapsódia sem dó (maior)\\n\\nAutora\\nLuí...</td>\n",
       "      <td>Luisa Marques Silva</td>\n",
       "      <td>titul rapsod maior autor luis marqu silv tod d...</td>\n",
       "      <td>[titul, rapsod, maior, autor, luis, marqu, sil...</td>\n",
       "      <td>61</td>\n",
       "      <td>[curios, repugn, insect, vir, cost, prepar, pa...</td>\n",
       "      <td>curios repugn insect vir cost prepar part repa...</td>\n",
       "      <td>500</td>\n",
       "    </tr>\n",
       "    <tr>\n",
       "      <th>4082</th>\n",
       "      <td>Título\\nRapsódia sem dó (maior)\\n\\nAutora\\nLuí...</td>\n",
       "      <td>Luisa Marques Silva</td>\n",
       "      <td>titul rapsod maior autor luis marqu silv tod d...</td>\n",
       "      <td>[titul, rapsod, maior, autor, luis, marqu, sil...</td>\n",
       "      <td>61</td>\n",
       "      <td>[pequen, batalh, vei, confirm, lo, trabalh, eq...</td>\n",
       "      <td>pequen batalh vei confirm lo trabalh equip cri...</td>\n",
       "      <td>500</td>\n",
       "    </tr>\n",
       "    <tr>\n",
       "      <th>4083</th>\n",
       "      <td>Título\\nRapsódia sem dó (maior)\\n\\nAutora\\nLuí...</td>\n",
       "      <td>Luisa Marques Silva</td>\n",
       "      <td>titul rapsod maior autor luis marqu silv tod d...</td>\n",
       "      <td>[titul, rapsod, maior, autor, luis, marqu, sil...</td>\n",
       "      <td>61</td>\n",
       "      <td>[rest, ate, porreir, ando, tent, ensin, lo, le...</td>\n",
       "      <td>rest ate porreir ando tent ensin lo ler comec ...</td>\n",
       "      <td>11</td>\n",
       "    </tr>\n",
       "    <tr>\n",
       "      <th>4084</th>\n",
       "      <td>Título\\nA última história\\n\\nAutora (próximo N...</td>\n",
       "      <td>Luisa Marques Silva</td>\n",
       "      <td>titul ultim histor autor proxim nobel luis mar...</td>\n",
       "      <td>[titul, ultim, histor, autor, proxim, nobel, l...</td>\n",
       "      <td>62</td>\n",
       "      <td>[titul, ultim, histor, autor, proxim, nobel, l...</td>\n",
       "      <td>titul ultim histor autor proxim nobel luis mar...</td>\n",
       "      <td>500</td>\n",
       "    </tr>\n",
       "    <tr>\n",
       "      <th>4085</th>\n",
       "      <td>Título\\nA última história\\n\\nAutora (próximo N...</td>\n",
       "      <td>Luisa Marques Silva</td>\n",
       "      <td>titul ultim histor autor proxim nobel luis mar...</td>\n",
       "      <td>[titul, ultim, histor, autor, proxim, nobel, l...</td>\n",
       "      <td>62</td>\n",
       "      <td>[com, barrig, soou, rug, tao, alto, assust, ga...</td>\n",
       "      <td>com barrig soou rug tao alto assust gat malaqu...</td>\n",
       "      <td>500</td>\n",
       "    </tr>\n",
       "    <tr>\n",
       "      <th>4086</th>\n",
       "      <td>Título\\nA última história\\n\\nAutora (próximo N...</td>\n",
       "      <td>Luisa Marques Silva</td>\n",
       "      <td>titul ultim histor autor proxim nobel luis mar...</td>\n",
       "      <td>[titul, ultim, histor, autor, proxim, nobel, l...</td>\n",
       "      <td>62</td>\n",
       "      <td>[bem, vind, plac, perfeit, sifil, muit, put, t...</td>\n",
       "      <td>bem vind plac perfeit sifil muit put tailand o...</td>\n",
       "      <td>500</td>\n",
       "    </tr>\n",
       "    <tr>\n",
       "      <th>4087</th>\n",
       "      <td>Título\\nA última história\\n\\nAutora (próximo N...</td>\n",
       "      <td>Luisa Marques Silva</td>\n",
       "      <td>titul ultim histor autor proxim nobel luis mar...</td>\n",
       "      <td>[titul, ultim, histor, autor, proxim, nobel, l...</td>\n",
       "      <td>62</td>\n",
       "      <td>[fabiol, serv, ingenu, contraband, patins, lin...</td>\n",
       "      <td>fabiol serv ingenu contraband patins linh espa...</td>\n",
       "      <td>500</td>\n",
       "    </tr>\n",
       "    <tr>\n",
       "      <th>4088</th>\n",
       "      <td>Título\\nA última história\\n\\nAutora (próximo N...</td>\n",
       "      <td>Luisa Marques Silva</td>\n",
       "      <td>titul ultim histor autor proxim nobel luis mar...</td>\n",
       "      <td>[titul, ultim, histor, autor, proxim, nobel, l...</td>\n",
       "      <td>62</td>\n",
       "      <td>[alem, diss, catol, pratic, prep, fech, port, ...</td>\n",
       "      <td>alem diss catol pratic prep fech port esper ac...</td>\n",
       "      <td>500</td>\n",
       "    </tr>\n",
       "    <tr>\n",
       "      <th>4089</th>\n",
       "      <td>Título\\nA última história\\n\\nAutora (próximo N...</td>\n",
       "      <td>Luisa Marques Silva</td>\n",
       "      <td>titul ultim histor autor proxim nobel luis mar...</td>\n",
       "      <td>[titul, ultim, histor, autor, proxim, nobel, l...</td>\n",
       "      <td>62</td>\n",
       "      <td>[porteir, mulh, senhor, mar, carm, desaparec, ...</td>\n",
       "      <td>porteir mulh senhor mar carm desaparec facil s...</td>\n",
       "      <td>500</td>\n",
       "    </tr>\n",
       "    <tr>\n",
       "      <th>4090</th>\n",
       "      <td>Título\\nA última história\\n\\nAutora (próximo N...</td>\n",
       "      <td>Luisa Marques Silva</td>\n",
       "      <td>titul ultim histor autor proxim nobel luis mar...</td>\n",
       "      <td>[titul, ultim, histor, autor, proxim, nobel, l...</td>\n",
       "      <td>62</td>\n",
       "      <td>[bol, noz, pisc, olho, diss, sotaqu, brasileir...</td>\n",
       "      <td>bol noz pisc olho diss sotaqu brasileir relax ...</td>\n",
       "      <td>500</td>\n",
       "    </tr>\n",
       "    <tr>\n",
       "      <th>4091</th>\n",
       "      <td>Título\\nA última história\\n\\nAutora (próximo N...</td>\n",
       "      <td>Luisa Marques Silva</td>\n",
       "      <td>titul ultim histor autor proxim nobel luis mar...</td>\n",
       "      <td>[titul, ultim, histor, autor, proxim, nobel, l...</td>\n",
       "      <td>62</td>\n",
       "      <td>[desesper, quer, livr, imediat, tao, atroz, si...</td>\n",
       "      <td>desesper quer livr imediat tao atroz situaca l...</td>\n",
       "      <td>260</td>\n",
       "    </tr>\n",
       "  </tbody>\n",
       "</table>\n",
       "<p>4092 rows × 8 columns</p>\n",
       "</div>"
      ],
      "text/plain": [
       "                                                   Text               Author  \\\n",
       "0     Title: A Scena do Odio\\n\\nAuthor: José de Alma...     Almada Negreiros   \n",
       "1     Title: A Scena do Odio\\n\\nAuthor: José de Alma...     Almada Negreiros   \n",
       "2     Title: A Scena do Odio\\n\\nAuthor: José de Alma...     Almada Negreiros   \n",
       "3     Title: O Jardim da Pierrette\\n\\nAuthor: José d...     Almada Negreiros   \n",
       "4     \\n\\nTitle: A Invenção do Dia Claro\\n\\nAuthor: ...     Almada Negreiros   \n",
       "5     \\n\\nTitle: A Invenção do Dia Claro\\n\\nAuthor: ...     Almada Negreiros   \n",
       "6     \\n\\nTitle: A Invenção do Dia Claro\\n\\nAuthor: ...     Almada Negreiros   \n",
       "7     \\n\\nTitle: A Invenção do Dia Claro\\n\\nAuthor: ...     Almada Negreiros   \n",
       "8     \\n\\nTitle: A Invenção do Dia Claro\\n\\nAuthor: ...     Almada Negreiros   \n",
       "9     \\n\\nTitle: A Invenção do Dia Claro\\n\\nAuthor: ...     Almada Negreiros   \n",
       "10    \\n\\nTitle: A Invenção do Dia Claro\\n\\nAuthor: ...     Almada Negreiros   \n",
       "11    \\nTitle: Litoral\\n       A Amadeo de Souza Car...     Almada Negreiros   \n",
       "12    \\n\\n\\nEXPOSIÇÃO\\n\\n+amadeo\\nde souza\\ncardoso+...     Almada Negreiros   \n",
       "13    \\n\\n*JOSÉ DE ALMADA-NEGREIROS*\\n\\n\\n*K4\\n\\no q...     Almada Negreiros   \n",
       "14    \\n\\n*JOSÉ DE ALMADA-NEGREIROS*\\n\\n\\n*K4\\n\\no q...     Almada Negreiros   \n",
       "15    \\n\\n*JOSÉ DE ALMADA-NEGREIROS*\\n\\n\\n*K4\\n\\no q...     Almada Negreiros   \n",
       "16    \\n\\n*JOSÉ DE ALMADA-NEGREIROS*\\n\\n\\n*K4\\n\\no q...     Almada Negreiros   \n",
       "17    \\n\\n*JOSÉ DE ALMADA-NEGREIROS*\\n\\n\\n*K4\\n\\no q...     Almada Negreiros   \n",
       "18    \\n\\n*JOSÉ DE ALMADA-NEGREIROS*\\n\\n\\n*K4\\n\\no q...     Almada Negreiros   \n",
       "19    \\n\\n*JOSÉ DE ALMADA-NEGREIROS*\\n\\n\\n*K4\\n\\no q...     Almada Negreiros   \n",
       "20    \\n\\n*JOSÉ DE ALMADA-NEGREIROS*\\n\\n\\n*K4\\n\\no q...     Almada Negreiros   \n",
       "21    \\n\\n*\"ORPHEU\"*\\n\\nREVISTA TRIMESTRAL DE LITERA...     Almada Negreiros   \n",
       "22    \\n\\n*\"ORPHEU\"*\\n\\nREVISTA TRIMESTRAL DE LITERA...     Almada Negreiros   \n",
       "23    \\n\\n*\"ORPHEU\"*\\n\\nREVISTA TRIMESTRAL DE LITERA...     Almada Negreiros   \n",
       "24    \\n\\n*\"ORPHEU\"*\\n\\nREVISTA TRIMESTRAL DE LITERA...     Almada Negreiros   \n",
       "25    \\n\\n*\"ORPHEU\"*\\n\\nREVISTA TRIMESTRAL DE LITERA...     Almada Negreiros   \n",
       "26    \\n\\n*\"ORPHEU\"*\\n\\nREVISTA TRIMESTRAL DE LITERA...     Almada Negreiros   \n",
       "27    \\n\\n*\"ORPHEU\"*\\n\\nREVISTA TRIMESTRAL DE LITERA...     Almada Negreiros   \n",
       "28    \\n\\n*\"ORPHEU\"*\\n\\nREVISTA TRIMESTRAL DE LITERA...     Almada Negreiros   \n",
       "29    \\n\\n*\"ORPHEU\"*\\n\\nREVISTA TRIMESTRAL DE LITERA...     Almada Negreiros   \n",
       "...                                                 ...                  ...   \n",
       "4062  Título\\ne-medo\\n\\nAutora (inspiradíssima)\\nLuí...  Luisa Marques Silva   \n",
       "4063  Título\\ne-medo\\n\\nAutora (inspiradíssima)\\nLuí...  Luisa Marques Silva   \n",
       "4064  Título\\ne-medo\\n\\nAutora (inspiradíssima)\\nLuí...  Luisa Marques Silva   \n",
       "4065  Título\\ne-medo\\n\\nAutora (inspiradíssima)\\nLuí...  Luisa Marques Silva   \n",
       "4066  Título\\ne-medo\\n\\nAutora (inspiradíssima)\\nLuí...  Luisa Marques Silva   \n",
       "4067  Título\\ne-medo\\n\\nAutora (inspiradíssima)\\nLuí...  Luisa Marques Silva   \n",
       "4068  Título\\ne-medo\\n\\nAutora (inspiradíssima)\\nLuí...  Luisa Marques Silva   \n",
       "4069  Título\\ne-medo\\n\\nAutora (inspiradíssima)\\nLuí...  Luisa Marques Silva   \n",
       "4070  Título\\ne-medo\\n\\nAutora (inspiradíssima)\\nLuí...  Luisa Marques Silva   \n",
       "4071  Título\\ne-medo\\n\\nAutora (inspiradíssima)\\nLuí...  Luisa Marques Silva   \n",
       "4072  LISBOA 2050\\nLisboa, ano de 2050. Um Agosto tã...  Luisa Marques Silva   \n",
       "4073  LISBOA 2050\\nLisboa, ano de 2050. Um Agosto tã...  Luisa Marques Silva   \n",
       "4074  LISBOA 2050\\nLisboa, ano de 2050. Um Agosto tã...  Luisa Marques Silva   \n",
       "4075  LISBOA 2050\\nLisboa, ano de 2050. Um Agosto tã...  Luisa Marques Silva   \n",
       "4076  Título\\nUm passeio pelo inferno\\n\\nAutora\\nLuí...  Luisa Marques Silva   \n",
       "4077  Título\\nUm passeio pelo inferno\\n\\nAutora\\nLuí...  Luisa Marques Silva   \n",
       "4078  Título\\nRapsódia sem dó (maior)\\n\\nAutora\\nLuí...  Luisa Marques Silva   \n",
       "4079  Título\\nRapsódia sem dó (maior)\\n\\nAutora\\nLuí...  Luisa Marques Silva   \n",
       "4080  Título\\nRapsódia sem dó (maior)\\n\\nAutora\\nLuí...  Luisa Marques Silva   \n",
       "4081  Título\\nRapsódia sem dó (maior)\\n\\nAutora\\nLuí...  Luisa Marques Silva   \n",
       "4082  Título\\nRapsódia sem dó (maior)\\n\\nAutora\\nLuí...  Luisa Marques Silva   \n",
       "4083  Título\\nRapsódia sem dó (maior)\\n\\nAutora\\nLuí...  Luisa Marques Silva   \n",
       "4084  Título\\nA última história\\n\\nAutora (próximo N...  Luisa Marques Silva   \n",
       "4085  Título\\nA última história\\n\\nAutora (próximo N...  Luisa Marques Silva   \n",
       "4086  Título\\nA última história\\n\\nAutora (próximo N...  Luisa Marques Silva   \n",
       "4087  Título\\nA última história\\n\\nAutora (próximo N...  Luisa Marques Silva   \n",
       "4088  Título\\nA última história\\n\\nAutora (próximo N...  Luisa Marques Silva   \n",
       "4089  Título\\nA última história\\n\\nAutora (próximo N...  Luisa Marques Silva   \n",
       "4090  Título\\nA última história\\n\\nAutora (próximo N...  Luisa Marques Silva   \n",
       "4091  Título\\nA última história\\n\\nAutora (próximo N...  Luisa Marques Silva   \n",
       "\n",
       "                                             Clean Text  \\\n",
       "0     titl scen odi author jos almad negreir releas ...   \n",
       "1     titl scen odi author jos almad negreir releas ...   \n",
       "2     titl scen odi author jos almad negreir releas ...   \n",
       "3     titl jardim pierrett author jos almad negreir ...   \n",
       "4     titl invenca dia clar author jos almad negreir...   \n",
       "5     titl invenca dia clar author jos almad negreir...   \n",
       "6     titl invenca dia clar author jos almad negreir...   \n",
       "7     titl invenca dia clar author jos almad negreir...   \n",
       "8     titl invenca dia clar author jos almad negreir...   \n",
       "9     titl invenca dia clar author jos almad negreir...   \n",
       "10    titl invenca dia clar author jos almad negreir...   \n",
       "11    titl litoral amad souz cardoz author jos almad...   \n",
       "12    exposica amad souz cardos lig naval lisbo port...   \n",
       "13    jos almad negreir k quadr azul acab aparec poe...   \n",
       "14    jos almad negreir k quadr azul acab aparec poe...   \n",
       "15    jos almad negreir k quadr azul acab aparec poe...   \n",
       "16    jos almad negreir k quadr azul acab aparec poe...   \n",
       "17    jos almad negreir k quadr azul acab aparec poe...   \n",
       "18    jos almad negreir k quadr azul acab aparec poe...   \n",
       "19    jos almad negreir k quadr azul acab aparec poe...   \n",
       "20    jos almad negreir k quadr azul acab aparec poe...   \n",
       "21    orpheu revist trimestral literatur portugal br...   \n",
       "22    orpheu revist trimestral literatur portugal br...   \n",
       "23    orpheu revist trimestral literatur portugal br...   \n",
       "24    orpheu revist trimestral literatur portugal br...   \n",
       "25    orpheu revist trimestral literatur portugal br...   \n",
       "26    orpheu revist trimestral literatur portugal br...   \n",
       "27    orpheu revist trimestral literatur portugal br...   \n",
       "28    orpheu revist trimestral literatur portugal br...   \n",
       "29    orpheu revist trimestral literatur portugal br...   \n",
       "...                                                 ...   \n",
       "4062  titul med autor inspiradissim luis marqu silv ...   \n",
       "4063  titul med autor inspiradissim luis marqu silv ...   \n",
       "4064  titul med autor inspiradissim luis marqu silv ...   \n",
       "4065  titul med autor inspiradissim luis marqu silv ...   \n",
       "4066  titul med autor inspiradissim luis marqu silv ...   \n",
       "4067  titul med autor inspiradissim luis marqu silv ...   \n",
       "4068  titul med autor inspiradissim luis marqu silv ...   \n",
       "4069  titul med autor inspiradissim luis marqu silv ...   \n",
       "4070  titul med autor inspiradissim luis marqu silv ...   \n",
       "4071  titul med autor inspiradissim luis marqu silv ...   \n",
       "4072  lisbo lisbo ano agost tao gel ha vint anos atr...   \n",
       "4073  lisbo lisbo ano agost tao gel ha vint anos atr...   \n",
       "4074  lisbo lisbo ano agost tao gel ha vint anos atr...   \n",
       "4075  lisbo lisbo ano agost tao gel ha vint anos atr...   \n",
       "4076  titul passei infern autor luis marqu silv tod ...   \n",
       "4077  titul passei infern autor luis marqu silv tod ...   \n",
       "4078  titul rapsod maior autor luis marqu silv tod d...   \n",
       "4079  titul rapsod maior autor luis marqu silv tod d...   \n",
       "4080  titul rapsod maior autor luis marqu silv tod d...   \n",
       "4081  titul rapsod maior autor luis marqu silv tod d...   \n",
       "4082  titul rapsod maior autor luis marqu silv tod d...   \n",
       "4083  titul rapsod maior autor luis marqu silv tod d...   \n",
       "4084  titul ultim histor autor proxim nobel luis mar...   \n",
       "4085  titul ultim histor autor proxim nobel luis mar...   \n",
       "4086  titul ultim histor autor proxim nobel luis mar...   \n",
       "4087  titul ultim histor autor proxim nobel luis mar...   \n",
       "4088  titul ultim histor autor proxim nobel luis mar...   \n",
       "4089  titul ultim histor autor proxim nobel luis mar...   \n",
       "4090  titul ultim histor autor proxim nobel luis mar...   \n",
       "4091  titul ultim histor autor proxim nobel luis mar...   \n",
       "\n",
       "                                              Word List OG Index  \\\n",
       "0     [titl, scen, odi, author, jos, almad, negreir,...        0   \n",
       "1     [titl, scen, odi, author, jos, almad, negreir,...        0   \n",
       "2     [titl, scen, odi, author, jos, almad, negreir,...        0   \n",
       "3     [titl, jardim, pierrett, author, jos, almad, n...        1   \n",
       "4     [titl, invenca, dia, clar, author, jos, almad,...        2   \n",
       "5     [titl, invenca, dia, clar, author, jos, almad,...        2   \n",
       "6     [titl, invenca, dia, clar, author, jos, almad,...        2   \n",
       "7     [titl, invenca, dia, clar, author, jos, almad,...        2   \n",
       "8     [titl, invenca, dia, clar, author, jos, almad,...        2   \n",
       "9     [titl, invenca, dia, clar, author, jos, almad,...        2   \n",
       "10    [titl, invenca, dia, clar, author, jos, almad,...        2   \n",
       "11    [titl, litoral, amad, souz, cardoz, author, jo...        3   \n",
       "12    [exposica, amad, souz, cardos, lig, naval, lis...        4   \n",
       "13    [jos, almad, negreir, k, quadr, azul, acab, ap...        5   \n",
       "14    [jos, almad, negreir, k, quadr, azul, acab, ap...        5   \n",
       "15    [jos, almad, negreir, k, quadr, azul, acab, ap...        5   \n",
       "16    [jos, almad, negreir, k, quadr, azul, acab, ap...        5   \n",
       "17    [jos, almad, negreir, k, quadr, azul, acab, ap...        5   \n",
       "18    [jos, almad, negreir, k, quadr, azul, acab, ap...        5   \n",
       "19    [jos, almad, negreir, k, quadr, azul, acab, ap...        5   \n",
       "20    [jos, almad, negreir, k, quadr, azul, acab, ap...        5   \n",
       "21    [orpheu, revist, trimestral, literatur, portug...        6   \n",
       "22    [orpheu, revist, trimestral, literatur, portug...        6   \n",
       "23    [orpheu, revist, trimestral, literatur, portug...        6   \n",
       "24    [orpheu, revist, trimestral, literatur, portug...        6   \n",
       "25    [orpheu, revist, trimestral, literatur, portug...        6   \n",
       "26    [orpheu, revist, trimestral, literatur, portug...        6   \n",
       "27    [orpheu, revist, trimestral, literatur, portug...        6   \n",
       "28    [orpheu, revist, trimestral, literatur, portug...        6   \n",
       "29    [orpheu, revist, trimestral, literatur, portug...        6   \n",
       "...                                                 ...      ...   \n",
       "4062  [titul, med, autor, inspiradissim, luis, marqu...       58   \n",
       "4063  [titul, med, autor, inspiradissim, luis, marqu...       58   \n",
       "4064  [titul, med, autor, inspiradissim, luis, marqu...       58   \n",
       "4065  [titul, med, autor, inspiradissim, luis, marqu...       58   \n",
       "4066  [titul, med, autor, inspiradissim, luis, marqu...       58   \n",
       "4067  [titul, med, autor, inspiradissim, luis, marqu...       58   \n",
       "4068  [titul, med, autor, inspiradissim, luis, marqu...       58   \n",
       "4069  [titul, med, autor, inspiradissim, luis, marqu...       58   \n",
       "4070  [titul, med, autor, inspiradissim, luis, marqu...       58   \n",
       "4071  [titul, med, autor, inspiradissim, luis, marqu...       58   \n",
       "4072  [lisbo, lisbo, ano, agost, tao, gel, ha, vint,...       59   \n",
       "4073  [lisbo, lisbo, ano, agost, tao, gel, ha, vint,...       59   \n",
       "4074  [lisbo, lisbo, ano, agost, tao, gel, ha, vint,...       59   \n",
       "4075  [lisbo, lisbo, ano, agost, tao, gel, ha, vint,...       59   \n",
       "4076  [titul, passei, infern, autor, luis, marqu, si...       60   \n",
       "4077  [titul, passei, infern, autor, luis, marqu, si...       60   \n",
       "4078  [titul, rapsod, maior, autor, luis, marqu, sil...       61   \n",
       "4079  [titul, rapsod, maior, autor, luis, marqu, sil...       61   \n",
       "4080  [titul, rapsod, maior, autor, luis, marqu, sil...       61   \n",
       "4081  [titul, rapsod, maior, autor, luis, marqu, sil...       61   \n",
       "4082  [titul, rapsod, maior, autor, luis, marqu, sil...       61   \n",
       "4083  [titul, rapsod, maior, autor, luis, marqu, sil...       61   \n",
       "4084  [titul, ultim, histor, autor, proxim, nobel, l...       62   \n",
       "4085  [titul, ultim, histor, autor, proxim, nobel, l...       62   \n",
       "4086  [titul, ultim, histor, autor, proxim, nobel, l...       62   \n",
       "4087  [titul, ultim, histor, autor, proxim, nobel, l...       62   \n",
       "4088  [titul, ultim, histor, autor, proxim, nobel, l...       62   \n",
       "4089  [titul, ultim, histor, autor, proxim, nobel, l...       62   \n",
       "4090  [titul, ultim, histor, autor, proxim, nobel, l...       62   \n",
       "4091  [titul, ultim, histor, autor, proxim, nobel, l...       62   \n",
       "\n",
       "                                          500 Word List  \\\n",
       "0     [titl, scen, odi, author, jos, almad, negreir,...   \n",
       "1     [cabeleir, prat, estilhac, herald, vitra, desp...   \n",
       "2     [cabec, ve, so, olhos, vir, cheir, cheir, terr...   \n",
       "3     [titl, jardim, pierrett, author, jos, almad, n...   \n",
       "4     [titl, invenca, dia, clar, author, jos, almad,...   \n",
       "5     [i, part, andaim, vesp, conferenc, improvis, s...   \n",
       "6     [palavr, tod, gost, coll, algum, d, pacienc, p...   \n",
       "7     [ouv, cruz, encruzilh, cad, parec, reconhec, a...   \n",
       "8     [exist, nao, tao, devag, quadr, azul, par, dia...   \n",
       "9     [quer, advinh, taes, palavr, outr, vez, anjo, ...   \n",
       "10    [papel, chei, linh, umas, n, direcca, outr, n,...   \n",
       "11    [titl, litoral, amad, souz, cardoz, author, jo...   \n",
       "12    [exposica, amad, souz, cardos, lig, naval, lis...   \n",
       "13    [jos, almad, negreir, k, quadr, azul, acab, ap...   \n",
       "14    [feit, hom, aind, infam, deus, ter, nasc, port...   \n",
       "15    [nenhum, fac, quadr, azul, reproduz, nit, golp...   \n",
       "16    [illumin, perpendicular, direcca, energ, pra, ...   \n",
       "17    [desesper, d, agu, outr, vez, diagona, divid, ...   \n",
       "18    [tod, ate, instant, pens, mim, quer, noca, exa...   \n",
       "19    [maci, loir, habit, lingu, direca, gest, atitu...   \n",
       "20    [bast, so, pra, human, tod, so, instant, imanc...   \n",
       "21    [orpheu, revist, trimestral, literatur, portug...   \n",
       "22    [elevaca, unidad, discreca, onde, depend, harm...   \n",
       "23    [olha, la, vai, vals, vest, casac, salo, vic, ...   \n",
       "24    [castel, rub, opal, tanj, poent, harp, silenc,...   \n",
       "25    [primeir, sent, frent, janell, cost, contr, to...   \n",
       "26    [porqu, nao, corr, long, pert, ha, algum, raza...   \n",
       "27    [sempr, tard, nao, cant, paus, primeir, brev, ...   \n",
       "28    [irma, conta, sempr, nao, par, cont, rep, dias...   \n",
       "29    [pens, nao, tent, segu, nest, aventur, interio...   \n",
       "...                                                 ...   \n",
       "4062  [trabalh, temp, traz, boas, recordaco, vou, co...   \n",
       "4063  [enfim, ines, dev, estar, quas, acord, outr, v...   \n",
       "4064  [nao, rep, sent, cim, telemovel, quer, marqu, ...   \n",
       "4065  [assunt, re, calm, calm, tud, explicaca, facil...   \n",
       "4066  [terrivel, precis, escrev, decid, segu, consel...   \n",
       "4067  [desculp, sint, sozinh, tud, quant, mal, estar...   \n",
       "4068  [terror, possivel, gost, film, terror, agor, o...   \n",
       "4069  [mort, joa, naquel, acident, carr, fez, sim, c...   \n",
       "4070  [nao, quer, receb, cham, horrivel, odei, quer,...   \n",
       "4071  [cabel, apos, part, talvez, nao, normal, ritm,...   \n",
       "4072  [lisbo, lisbo, ano, agost, tao, gel, ha, vint,...   \n",
       "4073  [leu, olhos, cansac, embor, palavr, sorr, part...   \n",
       "4074  [lad, janel, ped, sum, lima, instal, jornal, a...   \n",
       "4075  [jaim, nunc, sai, lisbo, estiv, quas, apanh, n...   \n",
       "4076  [titul, passei, infern, autor, luis, marqu, si...   \n",
       "4077  [furador, carnivor, trinc, escrupul, estremec,...   \n",
       "4078  [titul, rapsod, maior, autor, luis, marqu, sil...   \n",
       "4079  [nao, primeir, vez, dep, alienigen, primeir, v...   \n",
       "4080  [marnix, mulh, agath, lev, cas, onde, estav, s...   \n",
       "4081  [curios, repugn, insect, vir, cost, prepar, pa...   \n",
       "4082  [pequen, batalh, vei, confirm, lo, trabalh, eq...   \n",
       "4083  [rest, ate, porreir, ando, tent, ensin, lo, le...   \n",
       "4084  [titul, ultim, histor, autor, proxim, nobel, l...   \n",
       "4085  [com, barrig, soou, rug, tao, alto, assust, ga...   \n",
       "4086  [bem, vind, plac, perfeit, sifil, muit, put, t...   \n",
       "4087  [fabiol, serv, ingenu, contraband, patins, lin...   \n",
       "4088  [alem, diss, catol, pratic, prep, fech, port, ...   \n",
       "4089  [porteir, mulh, senhor, mar, carm, desaparec, ...   \n",
       "4090  [bol, noz, pisc, olho, diss, sotaqu, brasileir...   \n",
       "4091  [desesper, quer, livr, imediat, tao, atroz, si...   \n",
       "\n",
       "                                         500 Clean Text  word_count_clean  \n",
       "0     titl scen odi author jos almad negreir releas ...               500  \n",
       "1     cabeleir prat estilhac herald vitra despeg len...               500  \n",
       "2     cabec ve so olhos vir cheir cheir terr com ter...               139  \n",
       "3     titl jardim pierrett author jos almad negreir ...               203  \n",
       "4     titl invenca dia clar author jos almad negreir...               500  \n",
       "5     i part andaim vesp conferenc improvis senhor s...               500  \n",
       "6     palavr tod gost coll algum d pacienc palavr sa...               500  \n",
       "7     ouv cruz encruzilh cad parec reconhec aquell m...               500  \n",
       "8     exist nao tao devag quadr azul par dia vez ir ...               500  \n",
       "9     quer advinh taes palavr outr vez anjo guard pe...               500  \n",
       "10    papel chei linh umas n direcca outr n outr uma...               439  \n",
       "11    titl litoral amad souz cardoz author jos almad...               476  \n",
       "12    exposica amad souz cardos lig naval lisbo port...               354  \n",
       "13    jos almad negreir k quadr azul acab aparec poe...               500  \n",
       "14    feit hom aind infam deus ter nasc portuguez ja...               500  \n",
       "15    nenhum fac quadr azul reproduz nit golp radium...               500  \n",
       "16    illumin perpendicular direcca energ pra la vid...               500  \n",
       "17    desesper d agu outr vez diagona divid quadr ra...               500  \n",
       "18    tod ate instant pens mim quer noca exact inten...               500  \n",
       "19    maci loir habit lingu direca gest atitud tud d...               500  \n",
       "20    bast so pra human tod so instant imancip unani...               412  \n",
       "21    orpheu revist trimestral literatur portugal br...               500  \n",
       "22    elevaca unidad discreca onde depend harmon est...               500  \n",
       "23    olha la vai vals vest casac salo vic rei sub m...               500  \n",
       "24    castel rub opal tanj poent harp silenc agon al...               500  \n",
       "25    primeir sent frent janell cost contr toch cim ...               500  \n",
       "26    porqu nao corr long pert ha algum raza qualqu ...               500  \n",
       "27    sempr tard nao cant paus primeir brev ser dia ...               500  \n",
       "28    irma conta sempr nao par cont rep dias rai dia...               500  \n",
       "29    pens nao tent segu nest aventur interior sab f...               500  \n",
       "...                                                 ...               ...  \n",
       "4062  trabalh temp traz boas recordaco vou continu p...               500  \n",
       "4063  enfim ines dev estar quas acord outr vez leono...               500  \n",
       "4064  nao rep sent cim telemovel quer marqu numer pr...               500  \n",
       "4065  assunt re calm calm tud explicaca facil diz ex...               500  \n",
       "4066  terrivel precis escrev decid segu conselh ir c...               500  \n",
       "4067  desculp sint sozinh tud quant mal estar ines p...               500  \n",
       "4068  terror possivel gost film terror agor odei ago...               500  \n",
       "4069  mort joa naquel acident carr fez sim cabec arr...               500  \n",
       "4070  nao quer receb cham horrivel odei quer sair da...               500  \n",
       "4071  cabel apos part talvez nao normal ritm carec d...               466  \n",
       "4072  lisbo lisbo ano agost tao gel ha vint anos atr...               500  \n",
       "4073  leu olhos cansac embor palavr sorr part alfred...               500  \n",
       "4074  lad janel ped sum lima instal jornal agend ele...               500  \n",
       "4075  jaim nunc sai lisbo estiv quas apanh naquel di...               468  \n",
       "4076  titul passei infern autor luis marqu silv tod ...               500  \n",
       "4077  furador carnivor trinc escrupul estremec dor t...               129  \n",
       "4078  titul rapsod maior autor luis marqu silv tod d...               500  \n",
       "4079  nao primeir vez dep alienigen primeir vez dep ...               500  \n",
       "4080  marnix mulh agath lev cas onde estav seguranc ...               500  \n",
       "4081  curios repugn insect vir cost prepar part repa...               500  \n",
       "4082  pequen batalh vei confirm lo trabalh equip cri...               500  \n",
       "4083  rest ate porreir ando tent ensin lo ler comec ...                11  \n",
       "4084  titul ultim histor autor proxim nobel luis mar...               500  \n",
       "4085  com barrig soou rug tao alto assust gat malaqu...               500  \n",
       "4086  bem vind plac perfeit sifil muit put tailand o...               500  \n",
       "4087  fabiol serv ingenu contraband patins linh espa...               500  \n",
       "4088  alem diss catol pratic prep fech port esper ac...               500  \n",
       "4089  porteir mulh senhor mar carm desaparec facil s...               500  \n",
       "4090  bol noz pisc olho diss sotaqu brasileir relax ...               500  \n",
       "4091  desesper quer livr imediat tao atroz situaca l...               260  \n",
       "\n",
       "[4092 rows x 8 columns]"
      ]
     },
     "execution_count": 19,
     "metadata": {},
     "output_type": "execute_result"
    }
   ],
   "source": [
    "word_count = corpora['500 Clean Text'].apply(lambda x: len(str(x).split(\" \")))\n",
    "corpora['word_count_clean'] = word_count\n",
    "\n",
    "corpora"
   ]
  },
  {
   "cell_type": "code",
   "execution_count": 20,
   "metadata": {},
   "outputs": [
    {
     "data": {
      "text/html": [
       "<div>\n",
       "<style scoped>\n",
       "    .dataframe tbody tr th:only-of-type {\n",
       "        vertical-align: middle;\n",
       "    }\n",
       "\n",
       "    .dataframe tbody tr th {\n",
       "        vertical-align: top;\n",
       "    }\n",
       "\n",
       "    .dataframe thead th {\n",
       "        text-align: right;\n",
       "    }\n",
       "</style>\n",
       "<table border=\"1\" class=\"dataframe\">\n",
       "  <thead>\n",
       "    <tr style=\"text-align: right;\">\n",
       "      <th></th>\n",
       "      <th>word_count_clean</th>\n",
       "    </tr>\n",
       "    <tr>\n",
       "      <th>Author</th>\n",
       "      <th></th>\n",
       "    </tr>\n",
       "  </thead>\n",
       "  <tbody>\n",
       "    <tr>\n",
       "      <th>Almada Negreiros</th>\n",
       "      <td>27887</td>\n",
       "    </tr>\n",
       "    <tr>\n",
       "      <th>Camilo Castelo Branco</th>\n",
       "      <td>454886</td>\n",
       "    </tr>\n",
       "    <tr>\n",
       "      <th>Eca de Queiros</th>\n",
       "      <td>272083</td>\n",
       "    </tr>\n",
       "    <tr>\n",
       "      <th>Jose Rodrigues dos Santos</th>\n",
       "      <td>668358</td>\n",
       "    </tr>\n",
       "    <tr>\n",
       "      <th>Jose Saramago</th>\n",
       "      <td>583250</td>\n",
       "    </tr>\n",
       "    <tr>\n",
       "      <th>Luisa Marques Silva</th>\n",
       "      <td>24114</td>\n",
       "    </tr>\n",
       "  </tbody>\n",
       "</table>\n",
       "</div>"
      ],
      "text/plain": [
       "                           word_count_clean\n",
       "Author                                     \n",
       "Almada Negreiros                      27887\n",
       "Camilo Castelo Branco                454886\n",
       "Eca de Queiros                       272083\n",
       "Jose Rodrigues dos Santos            668358\n",
       "Jose Saramago                        583250\n",
       "Luisa Marques Silva                   24114"
      ]
     },
     "execution_count": 20,
     "metadata": {},
     "output_type": "execute_result"
    }
   ],
   "source": [
    "corpora.groupby(['Author']).sum()"
   ]
  },
  {
   "cell_type": "markdown",
   "metadata": {},
   "source": [
    "## Cross validation sets"
   ]
  },
  {
   "cell_type": "markdown",
   "metadata": {},
   "source": [
    "Using a 5-fold split gives us a 80/20 split"
   ]
  },
  {
   "cell_type": "code",
   "execution_count": 21,
   "metadata": {},
   "outputs": [
    {
     "data": {
      "text/plain": [
       "[(array([   2,    3,    4, ..., 4087, 4089, 4090]),\n",
       "  array([   0,    1,    5,   11,   13,   18,   19,   30,   34,   40,   51,\n",
       "           58,   62,   65,   70,   75,   77,   82,   87,   89,   93,   98,\n",
       "          100,  101,  104,  105,  113,  114,  115,  116,  121,  130,  150,\n",
       "          152,  153,  154,  156,  157,  159,  160,  165,  167,  183,  185,\n",
       "          188,  190,  193,  201,  203,  204,  209,  218,  221,  222,  223,\n",
       "          225,  239,  242,  249,  253,  268,  270,  273,  274,  278,  279,\n",
       "          287,  313,  315,  316,  322,  323,  334,  337,  341,  342,  348,\n",
       "          352,  355,  360,  367,  371,  372,  373,  386,  387,  389,  400,\n",
       "          401,  403,  409,  422,  426,  431,  432,  437,  438,  449,  459,\n",
       "          466,  468,  472,  479,  482,  485,  486,  488,  490,  492,  497,\n",
       "          505,  517,  522,  524,  528,  531,  533,  541,  545,  570,  572,\n",
       "          584,  585,  588,  602,  603,  604,  606,  613,  620,  623,  629,\n",
       "          639,  642,  644,  649,  653,  656,  659,  663,  670,  671,  672,\n",
       "          674,  680,  682,  685,  714,  720,  722,  732,  736,  737,  740,\n",
       "          742,  746,  752,  759,  762,  765,  767,  770,  771,  776,  794,\n",
       "          801,  802,  803,  821,  830,  836,  837,  862,  871,  875,  880,\n",
       "          884,  886,  891,  900,  913,  914,  917,  919,  920,  922,  927,\n",
       "          930,  936,  939,  941,  944,  953,  963,  964,  973,  977,  979,\n",
       "          982,  984,  988,  990,  996,  997,  999, 1006, 1014, 1029, 1034,\n",
       "         1040, 1058, 1059, 1061, 1076, 1080, 1085, 1087, 1091, 1098, 1100,\n",
       "         1102, 1105, 1107, 1108, 1111, 1125, 1127, 1132, 1137, 1141, 1144,\n",
       "         1146, 1152, 1168, 1170, 1176, 1184, 1185, 1186, 1189, 1197, 1200,\n",
       "         1210, 1211, 1217, 1223, 1224, 1225, 1233, 1235, 1238, 1245, 1248,\n",
       "         1252, 1261, 1262, 1267, 1271, 1273, 1276, 1310, 1311, 1313, 1316,\n",
       "         1319, 1324, 1332, 1344, 1348, 1355, 1360, 1363, 1373, 1378, 1381,\n",
       "         1383, 1392, 1398, 1403, 1405, 1414, 1415, 1416, 1423, 1425, 1430,\n",
       "         1439, 1443, 1444, 1450, 1456, 1459, 1460, 1484, 1485, 1486, 1488,\n",
       "         1489, 1507, 1508, 1509, 1512, 1515, 1518, 1521, 1526, 1527, 1528,\n",
       "         1529, 1530, 1536, 1542, 1544, 1554, 1555, 1557, 1562, 1575, 1576,\n",
       "         1584, 1585, 1586, 1590, 1603, 1611, 1620, 1626, 1628, 1629, 1647,\n",
       "         1649, 1652, 1654, 1657, 1663, 1671, 1681, 1685, 1690, 1704, 1709,\n",
       "         1710, 1711, 1725, 1731, 1741, 1744, 1745, 1772, 1777, 1778, 1781,\n",
       "         1783, 1791, 1792, 1793, 1815, 1818, 1828, 1830, 1850, 1853, 1857,\n",
       "         1865, 1877, 1900, 1903, 1905, 1907, 1908, 1912, 1913, 1918, 1921,\n",
       "         1927, 1932, 1935, 1937, 1946, 1950, 1952, 1953, 1977, 1978, 1981,\n",
       "         1994, 1999, 2007, 2011, 2021, 2029, 2040, 2052, 2059, 2061, 2062,\n",
       "         2064, 2088, 2089, 2096, 2099, 2109, 2112, 2123, 2124, 2125, 2127,\n",
       "         2129, 2130, 2136, 2139, 2140, 2149, 2150, 2151, 2154, 2157, 2159,\n",
       "         2161, 2165, 2182, 2184, 2186, 2192, 2193, 2199, 2203, 2204, 2207,\n",
       "         2209, 2210, 2224, 2229, 2238, 2244, 2247, 2252, 2256, 2261, 2262,\n",
       "         2264, 2266, 2269, 2271, 2275, 2278, 2279, 2291, 2292, 2296, 2297,\n",
       "         2299, 2301, 2330, 2331, 2340, 2341, 2343, 2344, 2346, 2349, 2353,\n",
       "         2355, 2358, 2361, 2372, 2377, 2380, 2381, 2383, 2386, 2393, 2395,\n",
       "         2403, 2405, 2409, 2416, 2420, 2436, 2441, 2446, 2448, 2449, 2459,\n",
       "         2465, 2469, 2471, 2472, 2478, 2482, 2486, 2491, 2492, 2494, 2512,\n",
       "         2514, 2515, 2516, 2523, 2530, 2532, 2536, 2539, 2540, 2545, 2550,\n",
       "         2551, 2555, 2563, 2566, 2570, 2616, 2620, 2622, 2625, 2626, 2629,\n",
       "         2643, 2649, 2650, 2652, 2655, 2660, 2669, 2674, 2686, 2694, 2695,\n",
       "         2698, 2701, 2702, 2705, 2710, 2712, 2717, 2718, 2724, 2725, 2733,\n",
       "         2736, 2744, 2745, 2748, 2751, 2757, 2763, 2764, 2768, 2774, 2776,\n",
       "         2777, 2786, 2791, 2795, 2797, 2799, 2801, 2810, 2813, 2814, 2819,\n",
       "         2823, 2825, 2826, 2831, 2832, 2837, 2841, 2842, 2854, 2858, 2860,\n",
       "         2863, 2869, 2871, 2873, 2877, 2885, 2890, 2891, 2897, 2904, 2907,\n",
       "         2912, 2925, 2926, 2927, 2935, 2943, 2961, 2967, 2974, 2979, 2984,\n",
       "         2988, 2989, 2994, 2996, 2998, 3002, 3005, 3014, 3019, 3022, 3027,\n",
       "         3029, 3037, 3046, 3053, 3064, 3071, 3079, 3086, 3092, 3107, 3110,\n",
       "         3112, 3114, 3127, 3128, 3133, 3134, 3136, 3137, 3139, 3143, 3145,\n",
       "         3147, 3151, 3155, 3175, 3176, 3179, 3180, 3182, 3191, 3193, 3196,\n",
       "         3202, 3213, 3219, 3220, 3221, 3234, 3238, 3240, 3243, 3252, 3257,\n",
       "         3260, 3265, 3268, 3270, 3281, 3288, 3293, 3295, 3296, 3302, 3311,\n",
       "         3312, 3313, 3324, 3338, 3340, 3344, 3346, 3347, 3352, 3355, 3357,\n",
       "         3360, 3362, 3368, 3373, 3380, 3381, 3383, 3385, 3386, 3392, 3398,\n",
       "         3410, 3416, 3417, 3418, 3421, 3424, 3446, 3468, 3470, 3473, 3477,\n",
       "         3481, 3482, 3488, 3491, 3492, 3504, 3514, 3518, 3519, 3521, 3523,\n",
       "         3524, 3527, 3532, 3546, 3547, 3556, 3557, 3559, 3567, 3569, 3572,\n",
       "         3575, 3582, 3584, 3585, 3586, 3597, 3610, 3611, 3612, 3614, 3617,\n",
       "         3621, 3625, 3632, 3634, 3637, 3638, 3642, 3643, 3644, 3646, 3650,\n",
       "         3655, 3661, 3663, 3684, 3690, 3694, 3695, 3700, 3706, 3712, 3730,\n",
       "         3736, 3738, 3747, 3759, 3765, 3785, 3790, 3798, 3806, 3809, 3813,\n",
       "         3817, 3818, 3821, 3825, 3831, 3833, 3836, 3842, 3846, 3850, 3857,\n",
       "         3862, 3870, 3871, 3874, 3875, 3882, 3887, 3890, 3893, 3896, 3898,\n",
       "         3902, 3903, 3906, 3907, 3908, 3909, 3916, 3922, 3931, 3937, 3941,\n",
       "         3946, 3948, 3950, 3952, 3956, 3957, 3970, 3980, 3985, 3990, 3993,\n",
       "         4015, 4023, 4029, 4037, 4038, 4043, 4049, 4052, 4056, 4063, 4067,\n",
       "         4071, 4076, 4079, 4088, 4091])),\n",
       " (array([   0,    1,    2, ..., 4089, 4090, 4091]),\n",
       "  array([   4,    7,   28,   31,   32,   39,   45,   46,   47,   50,   53,\n",
       "           54,   60,   67,   68,   71,   79,   81,  103,  107,  108,  112,\n",
       "          117,  120,  122,  134,  135,  136,  137,  141,  144,  145,  149,\n",
       "          151,  161,  171,  178,  179,  186,  191,  195,  216,  219,  227,\n",
       "          233,  236,  244,  248,  250,  256,  257,  259,  261,  265,  269,\n",
       "          271,  272,  280,  282,  285,  286,  288,  289,  291,  292,  295,\n",
       "          299,  307,  317,  319,  325,  339,  340,  353,  354,  357,  359,\n",
       "          363,  376,  392,  394,  395,  410,  417,  418,  423,  424,  425,\n",
       "          428,  429,  439,  441,  444,  447,  448,  450,  458,  470,  478,\n",
       "          495,  498,  503,  507,  510,  521,  527,  530,  532,  540,  542,\n",
       "          548,  552,  553,  556,  558,  563,  566,  577,  578,  581,  590,\n",
       "          592,  594,  608,  609,  611,  626,  630,  631,  636,  638,  640,\n",
       "          647,  651,  673,  676,  678,  679,  688,  691,  697,  699,  702,\n",
       "          706,  707,  712,  723,  725,  731,  733,  739,  745,  763,  764,\n",
       "          769,  778,  781,  786,  788,  790,  795,  796,  811,  816,  825,\n",
       "          826,  828,  838,  839,  844,  853,  855,  859,  869,  872,  889,\n",
       "          890,  896,  897,  902,  905,  906,  907,  926,  928,  932,  935,\n",
       "          937,  947,  952,  955,  956,  957,  959,  961,  967,  980,  983,\n",
       "          992,  993, 1004, 1007, 1008, 1012, 1013, 1022, 1025, 1027, 1028,\n",
       "         1041, 1045, 1051, 1053, 1055, 1060, 1062, 1069, 1074, 1075, 1077,\n",
       "         1083, 1084, 1086, 1094, 1097, 1103, 1106, 1110, 1115, 1116, 1126,\n",
       "         1129, 1133, 1136, 1140, 1149, 1150, 1156, 1158, 1161, 1163, 1167,\n",
       "         1174, 1175, 1181, 1190, 1194, 1205, 1206, 1221, 1231, 1240, 1244,\n",
       "         1249, 1257, 1259, 1260, 1264, 1274, 1275, 1278, 1281, 1294, 1298,\n",
       "         1301, 1302, 1306, 1314, 1317, 1320, 1323, 1336, 1338, 1342, 1345,\n",
       "         1346, 1351, 1352, 1356, 1358, 1364, 1367, 1368, 1375, 1376, 1390,\n",
       "         1400, 1402, 1418, 1419, 1431, 1433, 1436, 1446, 1449, 1451, 1455,\n",
       "         1463, 1464, 1466, 1501, 1504, 1510, 1516, 1517, 1524, 1539, 1546,\n",
       "         1547, 1548, 1559, 1577, 1578, 1581, 1587, 1594, 1596, 1597, 1604,\n",
       "         1606, 1608, 1615, 1618, 1623, 1624, 1633, 1638, 1648, 1653, 1660,\n",
       "         1661, 1665, 1666, 1668, 1670, 1674, 1675, 1678, 1679, 1683, 1691,\n",
       "         1694, 1713, 1726, 1728, 1733, 1753, 1754, 1758, 1761, 1763, 1765,\n",
       "         1767, 1788, 1789, 1790, 1813, 1822, 1823, 1831, 1833, 1838, 1839,\n",
       "         1840, 1844, 1845, 1847, 1856, 1859, 1869, 1871, 1873, 1891, 1894,\n",
       "         1897, 1904, 1909, 1910, 1914, 1915, 1917, 1922, 1923, 1928, 1929,\n",
       "         1931, 1934, 1943, 1948, 1949, 1956, 1964, 1965, 1967, 1973, 1974,\n",
       "         1975, 1983, 1988, 1998, 2003, 2005, 2008, 2015, 2023, 2026, 2033,\n",
       "         2037, 2039, 2044, 2063, 2068, 2080, 2087, 2093, 2101, 2105, 2106,\n",
       "         2111, 2128, 2131, 2143, 2153, 2155, 2164, 2172, 2173, 2174, 2176,\n",
       "         2178, 2181, 2190, 2200, 2214, 2225, 2227, 2234, 2241, 2246, 2250,\n",
       "         2254, 2258, 2268, 2273, 2276, 2282, 2283, 2286, 2287, 2294, 2298,\n",
       "         2304, 2314, 2315, 2316, 2319, 2321, 2323, 2333, 2351, 2356, 2357,\n",
       "         2362, 2370, 2374, 2378, 2387, 2388, 2392, 2394, 2396, 2398, 2399,\n",
       "         2408, 2418, 2431, 2439, 2454, 2458, 2479, 2480, 2484, 2487, 2496,\n",
       "         2498, 2499, 2507, 2513, 2518, 2519, 2522, 2527, 2529, 2533, 2543,\n",
       "         2547, 2548, 2549, 2552, 2554, 2556, 2559, 2560, 2564, 2568, 2574,\n",
       "         2575, 2578, 2584, 2587, 2588, 2592, 2594, 2597, 2601, 2603, 2605,\n",
       "         2609, 2610, 2617, 2633, 2637, 2639, 2640, 2647, 2658, 2661, 2663,\n",
       "         2664, 2665, 2670, 2675, 2688, 2689, 2690, 2693, 2696, 2699, 2700,\n",
       "         2703, 2704, 2706, 2708, 2713, 2719, 2722, 2731, 2737, 2743, 2753,\n",
       "         2756, 2762, 2766, 2770, 2771, 2775, 2779, 2784, 2788, 2789, 2793,\n",
       "         2798, 2800, 2806, 2822, 2824, 2828, 2830, 2833, 2847, 2849, 2852,\n",
       "         2857, 2870, 2874, 2875, 2876, 2878, 2879, 2881, 2887, 2888, 2896,\n",
       "         2901, 2908, 2910, 2916, 2918, 2922, 2929, 2945, 2947, 2954, 2957,\n",
       "         2959, 2976, 2980, 2983, 2990, 2993, 3003, 3004, 3007, 3010, 3015,\n",
       "         3018, 3024, 3025, 3035, 3040, 3049, 3052, 3058, 3059, 3066, 3069,\n",
       "         3076, 3081, 3083, 3084, 3100, 3104, 3118, 3120, 3121, 3122, 3125,\n",
       "         3129, 3131, 3138, 3156, 3157, 3163, 3164, 3168, 3174, 3192, 3194,\n",
       "         3197, 3203, 3207, 3209, 3212, 3224, 3227, 3229, 3241, 3242, 3245,\n",
       "         3249, 3261, 3269, 3282, 3286, 3298, 3308, 3310, 3318, 3319, 3321,\n",
       "         3325, 3327, 3339, 3342, 3350, 3353, 3356, 3359, 3361, 3366, 3371,\n",
       "         3372, 3377, 3382, 3384, 3397, 3399, 3400, 3404, 3406, 3408, 3415,\n",
       "         3420, 3422, 3423, 3427, 3429, 3435, 3441, 3443, 3444, 3452, 3458,\n",
       "         3461, 3463, 3466, 3467, 3474, 3478, 3480, 3494, 3496, 3500, 3509,\n",
       "         3513, 3522, 3528, 3530, 3533, 3535, 3538, 3539, 3540, 3543, 3548,\n",
       "         3550, 3551, 3563, 3564, 3576, 3577, 3580, 3592, 3600, 3619, 3620,\n",
       "         3648, 3652, 3653, 3667, 3670, 3679, 3687, 3692, 3696, 3701, 3702,\n",
       "         3709, 3713, 3715, 3717, 3719, 3721, 3722, 3723, 3724, 3725, 3735,\n",
       "         3744, 3745, 3751, 3753, 3763, 3771, 3772, 3774, 3776, 3777, 3781,\n",
       "         3784, 3788, 3794, 3796, 3801, 3807, 3811, 3812, 3820, 3823, 3828,\n",
       "         3838, 3851, 3854, 3865, 3878, 3879, 3884, 3885, 3895, 3897, 3899,\n",
       "         3900, 3904, 3910, 3915, 3917, 3918, 3923, 3930, 3932, 3943, 3947,\n",
       "         3962, 3964, 3974, 3978, 3979, 3986, 3987, 3989, 4002, 4003, 4006,\n",
       "         4013, 4019, 4028, 4032, 4035, 4041, 4042, 4044, 4045, 4047, 4053,\n",
       "         4064, 4066, 4080, 4083, 4086])),\n",
       " (array([   0,    1,    3, ..., 4088, 4089, 4091]),\n",
       "  array([   2,    6,   12,   14,   21,   25,   27,   29,   37,   41,   52,\n",
       "           55,   69,   72,   73,   76,   85,   95,   96,  106,  118,  123,\n",
       "          126,  131,  142,  148,  155,  158,  162,  170,  174,  176,  181,\n",
       "          184,  194,  196,  200,  202,  206,  214,  215,  220,  229,  230,\n",
       "          235,  241,  246,  251,  255,  267,  275,  293,  294,  297,  298,\n",
       "          300,  303,  304,  311,  314,  330,  331,  333,  343,  344,  346,\n",
       "          349,  361,  365,  366,  368,  374,  378,  379,  381,  383,  393,\n",
       "          396,  404,  408,  420,  434,  440,  446,  451,  452,  455,  464,\n",
       "          469,  474,  475,  477,  483,  487,  496,  504,  515,  518,  525,\n",
       "          547,  555,  560,  561,  565,  568,  573,  589,  591,  593,  595,\n",
       "          597,  601,  605,  607,  614,  615,  617,  628,  632,  633,  641,\n",
       "          643,  645,  646,  648,  650,  654,  658,  664,  669,  677,  684,\n",
       "          695,  701,  704,  709,  710,  715,  721,  724,  730,  735,  744,\n",
       "          748,  749,  754,  755,  756,  757,  758,  760,  768,  772,  773,\n",
       "          777,  780,  785,  792,  797,  799,  807,  809,  810,  812,  813,\n",
       "          815,  818,  819,  823,  824,  833,  835,  843,  846,  857,  858,\n",
       "          863,  865,  866,  868,  877,  883,  888,  898,  899,  908,  923,\n",
       "          925,  931,  933,  949,  965,  968,  974,  976,  986,  987,  989,\n",
       "          994, 1003, 1010, 1031, 1032, 1042, 1044, 1049, 1052, 1056, 1057,\n",
       "         1063, 1067, 1072, 1082, 1092, 1093, 1099, 1112, 1113, 1114, 1119,\n",
       "         1122, 1131, 1135, 1143, 1147, 1148, 1151, 1153, 1155, 1162, 1164,\n",
       "         1169, 1171, 1173, 1191, 1193, 1196, 1208, 1212, 1236, 1237, 1241,\n",
       "         1246, 1253, 1254, 1265, 1268, 1277, 1279, 1280, 1284, 1286, 1290,\n",
       "         1291, 1295, 1296, 1297, 1300, 1303, 1315, 1337, 1350, 1359, 1361,\n",
       "         1365, 1369, 1371, 1372, 1380, 1382, 1384, 1385, 1395, 1397, 1404,\n",
       "         1407, 1409, 1412, 1417, 1420, 1421, 1422, 1424, 1427, 1438, 1442,\n",
       "         1457, 1469, 1471, 1472, 1474, 1477, 1480, 1482, 1483, 1490, 1492,\n",
       "         1493, 1495, 1500, 1503, 1505, 1511, 1513, 1520, 1532, 1537, 1541,\n",
       "         1543, 1552, 1558, 1564, 1567, 1569, 1573, 1580, 1593, 1599, 1600,\n",
       "         1601, 1609, 1612, 1631, 1644, 1651, 1656, 1658, 1659, 1662, 1672,\n",
       "         1673, 1676, 1682, 1684, 1688, 1693, 1696, 1699, 1702, 1703, 1708,\n",
       "         1715, 1720, 1723, 1729, 1732, 1735, 1738, 1740, 1748, 1756, 1779,\n",
       "         1784, 1786, 1787, 1799, 1801, 1802, 1803, 1806, 1808, 1816, 1819,\n",
       "         1824, 1825, 1826, 1827, 1834, 1841, 1842, 1849, 1854, 1855, 1861,\n",
       "         1867, 1868, 1870, 1872, 1880, 1884, 1887, 1893, 1925, 1930, 1936,\n",
       "         1947, 1957, 1962, 1966, 1971, 1976, 1980, 1986, 1989, 1990, 1991,\n",
       "         2006, 2018, 2019, 2027, 2030, 2032, 2036, 2041, 2043, 2045, 2047,\n",
       "         2048, 2050, 2055, 2056, 2057, 2066, 2069, 2071, 2072, 2074, 2076,\n",
       "         2081, 2084, 2090, 2103, 2107, 2110, 2116, 2117, 2119, 2132, 2135,\n",
       "         2138, 2144, 2145, 2146, 2148, 2177, 2180, 2189, 2191, 2196, 2201,\n",
       "         2205, 2211, 2213, 2216, 2222, 2223, 2228, 2233, 2235, 2240, 2245,\n",
       "         2249, 2253, 2255, 2257, 2263, 2265, 2267, 2272, 2274, 2284, 2289,\n",
       "         2295, 2306, 2311, 2313, 2320, 2322, 2324, 2327, 2336, 2339, 2342,\n",
       "         2345, 2347, 2366, 2369, 2371, 2376, 2379, 2384, 2385, 2391, 2400,\n",
       "         2401, 2402, 2417, 2419, 2423, 2430, 2437, 2438, 2443, 2445, 2456,\n",
       "         2462, 2464, 2466, 2474, 2477, 2481, 2489, 2500, 2501, 2502, 2503,\n",
       "         2509, 2526, 2528, 2535, 2538, 2544, 2546, 2557, 2558, 2572, 2579,\n",
       "         2586, 2593, 2596, 2600, 2602, 2607, 2608, 2611, 2615, 2619, 2623,\n",
       "         2624, 2627, 2628, 2630, 2636, 2642, 2645, 2653, 2662, 2666, 2667,\n",
       "         2678, 2681, 2682, 2691, 2711, 2715, 2728, 2729, 2735, 2749, 2750,\n",
       "         2754, 2760, 2761, 2781, 2783, 2785, 2787, 2790, 2792, 2794, 2796,\n",
       "         2804, 2805, 2811, 2816, 2820, 2834, 2845, 2846, 2853, 2856, 2862,\n",
       "         2864, 2868, 2872, 2880, 2882, 2884, 2889, 2898, 2899, 2913, 2914,\n",
       "         2920, 2936, 2944, 2950, 2951, 2955, 2966, 2968, 2973, 2975, 2982,\n",
       "         2991, 2992, 2999, 3006, 3008, 3009, 3011, 3016, 3021, 3026, 3030,\n",
       "         3031, 3034, 3043, 3048, 3051, 3054, 3055, 3056, 3060, 3061, 3062,\n",
       "         3063, 3065, 3068, 3082, 3085, 3090, 3091, 3095, 3102, 3103, 3106,\n",
       "         3108, 3109, 3117, 3141, 3142, 3149, 3153, 3161, 3166, 3169, 3183,\n",
       "         3189, 3204, 3214, 3222, 3226, 3230, 3233, 3235, 3239, 3244, 3248,\n",
       "         3258, 3262, 3263, 3267, 3276, 3278, 3283, 3284, 3289, 3297, 3300,\n",
       "         3305, 3315, 3316, 3326, 3328, 3330, 3334, 3336, 3348, 3363, 3367,\n",
       "         3370, 3375, 3388, 3389, 3393, 3405, 3407, 3413, 3425, 3426, 3431,\n",
       "         3433, 3437, 3438, 3439, 3440, 3448, 3451, 3455, 3456, 3457, 3464,\n",
       "         3469, 3471, 3479, 3485, 3489, 3499, 3503, 3508, 3510, 3512, 3515,\n",
       "         3516, 3526, 3529, 3536, 3545, 3549, 3561, 3565, 3566, 3571, 3573,\n",
       "         3574, 3581, 3583, 3590, 3594, 3599, 3603, 3604, 3605, 3608, 3609,\n",
       "         3615, 3618, 3622, 3627, 3639, 3659, 3660, 3674, 3675, 3676, 3685,\n",
       "         3691, 3699, 3703, 3704, 3708, 3716, 3727, 3734, 3739, 3740, 3743,\n",
       "         3746, 3749, 3750, 3752, 3755, 3756, 3757, 3761, 3764, 3766, 3767,\n",
       "         3768, 3778, 3787, 3789, 3793, 3795, 3803, 3804, 3827, 3830, 3834,\n",
       "         3840, 3844, 3855, 3860, 3861, 3864, 3867, 3868, 3876, 3880, 3883,\n",
       "         3886, 3888, 3892, 3894, 3905, 3919, 3924, 3936, 3949, 3951, 3953,\n",
       "         3963, 3967, 3968, 3977, 3991, 3998, 3999, 4001, 4005, 4020, 4021,\n",
       "         4026, 4027, 4030, 4033, 4036, 4039, 4040, 4050, 4055, 4057, 4058,\n",
       "         4072, 4075, 4087, 4090])),\n",
       " (array([   0,    1,    2, ..., 4089, 4090, 4091]),\n",
       "  array([   8,    9,   16,   20,   22,   23,   24,   35,   36,   38,   43,\n",
       "           48,   63,   66,   74,   78,   83,   88,   91,   92,  109,  110,\n",
       "          119,  124,  127,  128,  129,  132,  133,  139,  140,  143,  146,\n",
       "          164,  166,  168,  172,  173,  175,  177,  187,  189,  197,  198,\n",
       "          208,  210,  213,  217,  224,  232,  237,  238,  243,  245,  252,\n",
       "          258,  263,  264,  266,  277,  281,  283,  290,  305,  308,  321,\n",
       "          324,  326,  327,  329,  335,  347,  350,  351,  356,  358,  362,\n",
       "          369,  370,  375,  377,  382,  384,  385,  391,  399,  402,  405,\n",
       "          406,  411,  412,  413,  414,  421,  433,  436,  443,  457,  460,\n",
       "          461,  462,  465,  471,  484,  494,  499,  501,  506,  509,  519,\n",
       "          538,  543,  544,  549,  557,  559,  564,  567,  569,  571,  576,\n",
       "          580,  583,  586,  587,  598,  610,  624,  625,  627,  635,  657,\n",
       "          661,  665,  667,  668,  687,  692,  694,  700,  705,  719,  726,\n",
       "          729,  738,  743,  747,  750,  753,  766,  775,  779,  782,  787,\n",
       "          793,  798,  805,  806,  814,  817,  820,  822,  827,  829,  831,\n",
       "          832,  834,  842,  845,  847,  849,  851,  854,  861,  864,  870,\n",
       "          873,  878,  882,  885,  893,  895,  901,  910,  912,  915,  918,\n",
       "          940,  945,  946,  950,  954,  958,  969,  970,  985,  991, 1001,\n",
       "         1005, 1011, 1015, 1016, 1017, 1019, 1020, 1033, 1037, 1046, 1048,\n",
       "         1050, 1054, 1068, 1070, 1078, 1079, 1090, 1095, 1101, 1104, 1123,\n",
       "         1130, 1142, 1145, 1154, 1157, 1159, 1160, 1172, 1179, 1180, 1182,\n",
       "         1183, 1187, 1188, 1198, 1199, 1201, 1202, 1203, 1204, 1207, 1214,\n",
       "         1216, 1226, 1227, 1228, 1232, 1239, 1242, 1243, 1251, 1255, 1258,\n",
       "         1266, 1269, 1270, 1283, 1285, 1287, 1289, 1293, 1307, 1312, 1321,\n",
       "         1322, 1326, 1327, 1330, 1331, 1335, 1339, 1340, 1354, 1362, 1377,\n",
       "         1379, 1389, 1391, 1393, 1399, 1401, 1406, 1408, 1410, 1413, 1429,\n",
       "         1435, 1441, 1445, 1447, 1448, 1461, 1462, 1467, 1468, 1470, 1473,\n",
       "         1475, 1476, 1478, 1494, 1496, 1498, 1499, 1506, 1531, 1534, 1538,\n",
       "         1540, 1545, 1549, 1556, 1565, 1570, 1571, 1574, 1579, 1582, 1583,\n",
       "         1588, 1591, 1592, 1598, 1605, 1613, 1614, 1622, 1627, 1630, 1632,\n",
       "         1634, 1635, 1636, 1643, 1645, 1650, 1655, 1667, 1669, 1680, 1686,\n",
       "         1689, 1700, 1712, 1714, 1716, 1717, 1718, 1722, 1737, 1749, 1751,\n",
       "         1755, 1759, 1760, 1762, 1764, 1766, 1768, 1771, 1773, 1775, 1776,\n",
       "         1780, 1782, 1785, 1795, 1797, 1804, 1805, 1807, 1810, 1814, 1817,\n",
       "         1837, 1848, 1851, 1860, 1863, 1864, 1866, 1874, 1875, 1876, 1878,\n",
       "         1882, 1889, 1892, 1896, 1906, 1916, 1924, 1933, 1938, 1939, 1941,\n",
       "         1951, 1954, 1958, 1959, 1961, 1972, 1979, 1982, 1985, 1992, 1997,\n",
       "         2001, 2002, 2010, 2012, 2014, 2016, 2020, 2022, 2025, 2028, 2031,\n",
       "         2038, 2042, 2049, 2054, 2060, 2067, 2077, 2079, 2083, 2085, 2092,\n",
       "         2095, 2097, 2100, 2104, 2108, 2115, 2120, 2122, 2133, 2137, 2147,\n",
       "         2152, 2158, 2167, 2168, 2170, 2179, 2183, 2188, 2194, 2198, 2206,\n",
       "         2208, 2212, 2218, 2220, 2226, 2232, 2236, 2237, 2242, 2259, 2277,\n",
       "         2280, 2285, 2300, 2302, 2307, 2318, 2325, 2328, 2329, 2334, 2348,\n",
       "         2359, 2360, 2363, 2365, 2368, 2382, 2389, 2390, 2397, 2404, 2407,\n",
       "         2412, 2413, 2415, 2422, 2424, 2425, 2427, 2428, 2429, 2433, 2434,\n",
       "         2442, 2447, 2451, 2452, 2457, 2460, 2461, 2473, 2476, 2490, 2497,\n",
       "         2504, 2505, 2508, 2510, 2517, 2520, 2524, 2531, 2537, 2541, 2561,\n",
       "         2567, 2571, 2582, 2589, 2590, 2591, 2598, 2599, 2604, 2606, 2612,\n",
       "         2613, 2614, 2618, 2641, 2648, 2651, 2656, 2657, 2659, 2671, 2672,\n",
       "         2673, 2677, 2680, 2684, 2685, 2692, 2709, 2714, 2720, 2721, 2723,\n",
       "         2741, 2746, 2747, 2758, 2765, 2773, 2778, 2780, 2782, 2803, 2808,\n",
       "         2809, 2817, 2821, 2827, 2829, 2835, 2840, 2843, 2851, 2855, 2859,\n",
       "         2861, 2883, 2886, 2906, 2915, 2928, 2933, 2934, 2937, 2938, 2940,\n",
       "         2942, 2946, 2948, 2949, 2956, 2960, 2964, 2969, 2971, 2972, 2977,\n",
       "         2978, 2981, 2985, 2987, 2995, 2997, 3000, 3012, 3013, 3017, 3023,\n",
       "         3032, 3033, 3042, 3047, 3057, 3067, 3070, 3072, 3074, 3075, 3078,\n",
       "         3089, 3093, 3097, 3101, 3105, 3111, 3116, 3119, 3123, 3126, 3130,\n",
       "         3135, 3150, 3154, 3159, 3165, 3171, 3172, 3177, 3178, 3199, 3200,\n",
       "         3205, 3210, 3215, 3216, 3217, 3223, 3236, 3247, 3255, 3264, 3272,\n",
       "         3275, 3277, 3280, 3287, 3291, 3292, 3299, 3303, 3304, 3306, 3317,\n",
       "         3320, 3333, 3335, 3341, 3343, 3345, 3351, 3358, 3364, 3369, 3374,\n",
       "         3378, 3387, 3390, 3391, 3394, 3401, 3402, 3403, 3411, 3412, 3414,\n",
       "         3430, 3434, 3436, 3445, 3449, 3450, 3453, 3454, 3460, 3465, 3475,\n",
       "         3484, 3490, 3493, 3495, 3502, 3507, 3525, 3531, 3537, 3541, 3544,\n",
       "         3554, 3555, 3558, 3560, 3568, 3570, 3588, 3589, 3593, 3598, 3601,\n",
       "         3602, 3606, 3607, 3623, 3628, 3631, 3635, 3636, 3640, 3641, 3651,\n",
       "         3656, 3658, 3664, 3666, 3669, 3678, 3682, 3686, 3688, 3697, 3698,\n",
       "         3707, 3710, 3711, 3714, 3726, 3729, 3732, 3733, 3741, 3742, 3748,\n",
       "         3754, 3758, 3762, 3775, 3782, 3783, 3791, 3797, 3802, 3805, 3810,\n",
       "         3815, 3819, 3824, 3832, 3837, 3839, 3841, 3843, 3845, 3847, 3848,\n",
       "         3849, 3852, 3853, 3858, 3859, 3866, 3872, 3873, 3877, 3889, 3901,\n",
       "         3912, 3929, 3934, 3935, 3939, 3942, 3944, 3954, 3955, 3960, 3965,\n",
       "         3966, 3971, 3972, 3973, 3981, 3982, 3995, 4008, 4009, 4011, 4012,\n",
       "         4016, 4017, 4024, 4025, 4031, 4046, 4054, 4061, 4069, 4070, 4073,\n",
       "         4074, 4078, 4081, 4082])),\n",
       " (array([   0,    1,    2, ..., 4088, 4090, 4091]),\n",
       "  array([   3,   10,   15,   17,   26,   33,   42,   44,   49,   56,   57,\n",
       "           59,   61,   64,   80,   84,   86,   90,   94,   97,   99,  102,\n",
       "          111,  125,  138,  147,  163,  169,  180,  182,  192,  199,  205,\n",
       "          207,  211,  212,  226,  228,  231,  234,  240,  247,  254,  260,\n",
       "          262,  276,  284,  296,  301,  302,  306,  309,  310,  312,  318,\n",
       "          320,  328,  332,  336,  338,  345,  364,  380,  388,  390,  397,\n",
       "          398,  407,  415,  416,  419,  427,  430,  435,  442,  445,  453,\n",
       "          454,  456,  463,  467,  473,  476,  480,  481,  489,  491,  493,\n",
       "          500,  502,  508,  511,  512,  513,  514,  516,  520,  523,  526,\n",
       "          529,  534,  535,  536,  537,  539,  546,  550,  551,  554,  562,\n",
       "          574,  575,  579,  582,  596,  599,  600,  612,  616,  618,  619,\n",
       "          621,  622,  634,  637,  652,  655,  660,  662,  666,  675,  681,\n",
       "          683,  686,  689,  690,  693,  696,  698,  703,  708,  711,  713,\n",
       "          716,  717,  718,  727,  728,  734,  741,  751,  761,  774,  783,\n",
       "          784,  789,  791,  800,  804,  808,  840,  841,  848,  850,  852,\n",
       "          856,  860,  867,  874,  876,  879,  881,  887,  892,  894,  903,\n",
       "          904,  909,  911,  916,  921,  924,  929,  934,  938,  942,  943,\n",
       "          948,  951,  960,  962,  966,  971,  972,  975,  978,  981,  995,\n",
       "          998, 1000, 1002, 1009, 1018, 1021, 1023, 1024, 1026, 1030, 1035,\n",
       "         1036, 1038, 1039, 1043, 1047, 1064, 1065, 1066, 1071, 1073, 1081,\n",
       "         1088, 1089, 1096, 1109, 1117, 1118, 1120, 1121, 1124, 1128, 1134,\n",
       "         1138, 1139, 1165, 1166, 1177, 1178, 1192, 1195, 1209, 1213, 1215,\n",
       "         1218, 1219, 1220, 1222, 1229, 1230, 1234, 1247, 1250, 1256, 1263,\n",
       "         1272, 1282, 1288, 1292, 1299, 1304, 1305, 1308, 1309, 1318, 1325,\n",
       "         1328, 1329, 1333, 1334, 1341, 1343, 1347, 1349, 1353, 1357, 1366,\n",
       "         1370, 1374, 1386, 1387, 1388, 1394, 1396, 1411, 1426, 1428, 1432,\n",
       "         1434, 1437, 1440, 1452, 1453, 1454, 1458, 1465, 1479, 1481, 1487,\n",
       "         1491, 1497, 1502, 1514, 1519, 1522, 1523, 1525, 1533, 1535, 1550,\n",
       "         1551, 1553, 1560, 1561, 1563, 1566, 1568, 1572, 1589, 1595, 1602,\n",
       "         1607, 1610, 1616, 1617, 1619, 1621, 1625, 1637, 1639, 1640, 1641,\n",
       "         1642, 1646, 1664, 1677, 1687, 1692, 1695, 1697, 1698, 1701, 1705,\n",
       "         1706, 1707, 1719, 1721, 1724, 1727, 1730, 1734, 1736, 1739, 1742,\n",
       "         1743, 1746, 1747, 1750, 1752, 1757, 1769, 1770, 1774, 1794, 1796,\n",
       "         1798, 1800, 1809, 1811, 1812, 1820, 1821, 1829, 1832, 1835, 1836,\n",
       "         1843, 1846, 1852, 1858, 1862, 1879, 1881, 1883, 1885, 1886, 1888,\n",
       "         1890, 1895, 1898, 1899, 1901, 1902, 1911, 1919, 1920, 1926, 1940,\n",
       "         1942, 1944, 1945, 1955, 1960, 1963, 1968, 1969, 1970, 1984, 1987,\n",
       "         1993, 1995, 1996, 2000, 2004, 2009, 2013, 2017, 2024, 2034, 2035,\n",
       "         2046, 2051, 2053, 2058, 2065, 2070, 2073, 2075, 2078, 2082, 2086,\n",
       "         2091, 2094, 2098, 2102, 2113, 2114, 2118, 2121, 2126, 2134, 2141,\n",
       "         2142, 2156, 2160, 2162, 2163, 2166, 2169, 2171, 2175, 2185, 2187,\n",
       "         2195, 2197, 2202, 2215, 2217, 2219, 2221, 2230, 2231, 2239, 2243,\n",
       "         2248, 2251, 2260, 2270, 2281, 2288, 2290, 2293, 2303, 2305, 2308,\n",
       "         2309, 2310, 2312, 2317, 2326, 2332, 2335, 2337, 2338, 2350, 2352,\n",
       "         2354, 2364, 2367, 2373, 2375, 2406, 2410, 2411, 2414, 2421, 2426,\n",
       "         2432, 2435, 2440, 2444, 2450, 2453, 2455, 2463, 2467, 2468, 2470,\n",
       "         2475, 2483, 2485, 2488, 2493, 2495, 2506, 2511, 2521, 2525, 2534,\n",
       "         2542, 2553, 2562, 2565, 2569, 2573, 2576, 2577, 2580, 2581, 2583,\n",
       "         2585, 2595, 2621, 2631, 2632, 2634, 2635, 2638, 2644, 2646, 2654,\n",
       "         2668, 2676, 2679, 2683, 2687, 2697, 2707, 2716, 2726, 2727, 2730,\n",
       "         2732, 2734, 2738, 2739, 2740, 2742, 2752, 2755, 2759, 2767, 2769,\n",
       "         2772, 2802, 2807, 2812, 2815, 2818, 2836, 2838, 2839, 2844, 2848,\n",
       "         2850, 2865, 2866, 2867, 2892, 2893, 2894, 2895, 2900, 2902, 2903,\n",
       "         2905, 2909, 2911, 2917, 2919, 2921, 2923, 2924, 2930, 2931, 2932,\n",
       "         2939, 2941, 2952, 2953, 2958, 2962, 2963, 2965, 2970, 2986, 3001,\n",
       "         3020, 3028, 3036, 3038, 3039, 3041, 3044, 3045, 3050, 3073, 3077,\n",
       "         3080, 3087, 3088, 3094, 3096, 3098, 3099, 3113, 3115, 3124, 3132,\n",
       "         3140, 3144, 3146, 3148, 3152, 3158, 3160, 3162, 3167, 3170, 3173,\n",
       "         3181, 3184, 3185, 3186, 3187, 3188, 3190, 3195, 3198, 3201, 3206,\n",
       "         3208, 3211, 3218, 3225, 3228, 3231, 3232, 3237, 3246, 3250, 3251,\n",
       "         3253, 3254, 3256, 3259, 3266, 3271, 3273, 3274, 3279, 3285, 3290,\n",
       "         3294, 3301, 3307, 3309, 3314, 3322, 3323, 3329, 3331, 3332, 3337,\n",
       "         3349, 3354, 3365, 3376, 3379, 3395, 3396, 3409, 3419, 3428, 3432,\n",
       "         3442, 3447, 3459, 3462, 3472, 3476, 3483, 3486, 3487, 3497, 3498,\n",
       "         3501, 3505, 3506, 3511, 3517, 3520, 3534, 3542, 3552, 3553, 3562,\n",
       "         3578, 3579, 3587, 3591, 3595, 3596, 3613, 3616, 3624, 3626, 3629,\n",
       "         3630, 3633, 3645, 3647, 3649, 3654, 3657, 3662, 3665, 3668, 3671,\n",
       "         3672, 3673, 3677, 3680, 3681, 3683, 3689, 3693, 3705, 3718, 3720,\n",
       "         3728, 3731, 3737, 3760, 3769, 3770, 3773, 3779, 3780, 3786, 3792,\n",
       "         3799, 3800, 3808, 3814, 3816, 3822, 3826, 3829, 3835, 3856, 3863,\n",
       "         3869, 3881, 3891, 3911, 3913, 3914, 3920, 3921, 3925, 3926, 3927,\n",
       "         3928, 3933, 3938, 3940, 3945, 3958, 3959, 3961, 3969, 3975, 3976,\n",
       "         3983, 3984, 3988, 3992, 3994, 3996, 3997, 4000, 4004, 4007, 4010,\n",
       "         4014, 4018, 4022, 4034, 4048, 4051, 4059, 4060, 4062, 4065, 4068,\n",
       "         4077, 4084, 4085, 4089]))]"
      ]
     },
     "execution_count": 21,
     "metadata": {},
     "output_type": "execute_result"
    }
   ],
   "source": [
    "kf = StratifiedKFold(n_splits=5,shuffle=True)\n",
    "train_test_splits = []\n",
    "\n",
    "for train_index, test_index in kf.split(corpora.drop('Author',1),corpora['Author']):\n",
    "    train_test_splits.append((train_index,test_index))\n",
    "    \n",
    "train_test_splits"
   ]
  },
  {
   "cell_type": "code",
   "execution_count": 22,
   "metadata": {},
   "outputs": [],
   "source": [
    "corpora_train_1 = corpora.iloc[train_test_splits[0][0]].reset_index().drop('index',1)\n",
    "corpora_test_1 = corpora.iloc[train_test_splits[0][1]].reset_index().drop('index',1)\n",
    "\n",
    "corpora_train_2 = corpora.iloc[train_test_splits[1][0]].reset_index().drop('index',1)\n",
    "corpora_test_2 = corpora.iloc[train_test_splits[1][1]].reset_index().drop('index',1)\n",
    "\n",
    "corpora_train_3 = corpora.iloc[train_test_splits[2][0]].reset_index().drop('index',1)\n",
    "corpora_test_3 = corpora.iloc[train_test_splits[2][1]].reset_index().drop('index',1)\n",
    "\n",
    "corpora_train_4 = corpora.iloc[train_test_splits[3][0]].reset_index().drop('index',1)\n",
    "corpora_test_4 = corpora.iloc[train_test_splits[3][1]].reset_index().drop('index',1)\n",
    "\n",
    "corpora_train_5 = corpora.iloc[train_test_splits[4][0]].reset_index().drop('index',1)\n",
    "corpora_test_5 = corpora.iloc[train_test_splits[4][1]].reset_index().drop('index',1)"
   ]
  },
  {
   "cell_type": "markdown",
   "metadata": {},
   "source": [
    "## Data exploration"
   ]
  },
  {
   "cell_type": "code",
   "execution_count": 23,
   "metadata": {},
   "outputs": [
    {
     "data": {
      "text/plain": [
       "count    4092.000000\n",
       "mean      496.231183\n",
       "std        34.982872\n",
       "min        11.000000\n",
       "25%       500.000000\n",
       "50%       500.000000\n",
       "75%       500.000000\n",
       "max       500.000000\n",
       "Name: word_count_clean, dtype: float64"
      ]
     },
     "execution_count": 23,
     "metadata": {},
     "output_type": "execute_result"
    }
   ],
   "source": [
    "corpora.word_count_clean.describe()"
   ]
  },
  {
   "cell_type": "code",
   "execution_count": 24,
   "metadata": {},
   "outputs": [],
   "source": [
    "all_words = ' '.join(corpora['500 Clean Text']).split()"
   ]
  },
  {
   "cell_type": "code",
   "execution_count": 25,
   "metadata": {},
   "outputs": [],
   "source": [
    "freq = pd.Series(all_words).value_counts()"
   ]
  },
  {
   "cell_type": "code",
   "execution_count": 26,
   "metadata": {
    "scrolled": true
   },
   "outputs": [
    {
     "data": {
      "text/plain": [
       "nao       52050\n",
       "d         12480\n",
       "tod       11201\n",
       "outr      10311\n",
       "ja         9952\n",
       "ser        9144\n",
       "diss       9066\n",
       "pod        8733\n",
       "diz        8270\n",
       "pass       7801\n",
       "cas        7682\n",
       "sab        7638\n",
       "faz        7357\n",
       "quer       6955\n",
       "senhor     6917\n",
       "la         6819\n",
       "aind       6639\n",
       "vez        5932\n",
       "ha         5797\n",
       "tom        5788\n",
       "dtype: int64"
      ]
     },
     "execution_count": 26,
     "metadata": {},
     "output_type": "execute_result"
    }
   ],
   "source": [
    "freq[:20]"
   ]
  },
  {
   "cell_type": "code",
   "execution_count": 27,
   "metadata": {},
   "outputs": [],
   "source": [
    "stopwords = set(stopwords.words(\"portuguese\"))\n",
    "stop_words = []\n",
    "for word in stopwords:\n",
    "    word = unidecode(word)\n",
    "    stop_words.append(word)"
   ]
  },
  {
   "cell_type": "code",
   "execution_count": 28,
   "metadata": {},
   "outputs": [
    {
     "data": {
      "text/plain": [
       "3"
      ]
     },
     "execution_count": 28,
     "metadata": {},
     "output_type": "execute_result"
    }
   ],
   "source": [
    "count = 0\n",
    "\n",
    "for word in freq.index[:20]:\n",
    "    if word in stop_words:\n",
    "        count += 1\n",
    "count"
   ]
  },
  {
   "cell_type": "markdown",
   "metadata": {},
   "source": [
    "Almost a fifth of the 20 most common words in the corpora are stop words."
   ]
  },
  {
   "cell_type": "code",
   "execution_count": 29,
   "metadata": {},
   "outputs": [],
   "source": [
    "def get_top_n_grams(corpus, top_k, n):\n",
    "    \"\"\"\n",
    "    Function that receives a list of documents (corpus) and extracts\n",
    "        the top k most frequent n-grams for that corpus.\n",
    "        \n",
    "    :param corpus: list of texts\n",
    "    :param top_k: int with the number of n-grams that we want to extract\n",
    "    :param n: n gram type to be considered \n",
    "             (if n=1 extracts unigrams, if n=2 extracts bigrams, ...)\n",
    "             \n",
    "    :return: Returns a sorted dataframe in which the first column \n",
    "        contains the extracted ngrams and the second column contains\n",
    "        the respective counts\n",
    "    \"\"\"\n",
    "    vec = CountVectorizer(ngram_range=(n, n), max_features=2000).fit(corpus)\n",
    "    \n",
    "    bag_of_words = vec.transform(corpus)\n",
    "    \n",
    "    sum_words = bag_of_words.sum(axis=0) \n",
    "    \n",
    "    words_freq = []\n",
    "    for word, idx in vec.vocabulary_.items():\n",
    "        words_freq.append((word, sum_words[0, idx]))\n",
    "        \n",
    "    words_freq = sorted(words_freq, key=lambda x: x[1], reverse=True)\n",
    "    top_df = pd.DataFrame(words_freq[:top_k])\n",
    "    top_df.columns = [\"Ngram\", \"Freq\"]\n",
    "    return top_df"
   ]
  },
  {
   "cell_type": "code",
   "execution_count": 30,
   "metadata": {},
   "outputs": [],
   "source": [
    "def plot_frequencies(top_df):\n",
    "    \"\"\"\n",
    "    Function that receives a dataframe from the \"get_top_n_grams\" function\n",
    "    and plots the frequencies in a bar plot.\n",
    "    \"\"\"\n",
    "    x_labels = top_df[\"Ngram\"][:30]\n",
    "    y_pos = np.arange(len(x_labels))\n",
    "    values = top_df[\"Freq\"][:30]\n",
    "    plt.bar(y_pos, values, align='center', alpha=0.5)\n",
    "    plt.xticks(y_pos, x_labels)\n",
    "    plt.ylabel('Frequencies')\n",
    "    plt.title('Words')\n",
    "    plt.xticks(rotation=90)\n",
    "    plt.show()"
   ]
  },
  {
   "cell_type": "code",
   "execution_count": 31,
   "metadata": {},
   "outputs": [
    {
     "data": {
      "image/png": "[encoded data removed]",
      "text/plain": [
       "<Figure size 432x288 with 1 Axes>"
      ]
     },
     "metadata": {
      "needs_background": "light"
     },
     "output_type": "display_data"
    },
    {
     "data": {
      "image/png": "[encoded data removed]",
      "text/plain": [
       "<Figure size 432x288 with 1 Axes>"
      ]
     },
     "metadata": {
      "needs_background": "light"
     },
     "output_type": "display_data"
    },
    {
     "data": {
      "image/png": "[encoded data removed]",
      "text/plain": [
       "<Figure size 432x288 with 1 Axes>"
      ]
     },
     "metadata": {
      "needs_background": "light"
     },
     "output_type": "display_data"
    },
    {
     "data": {
      "image/png": "[encoded data removed]",
      "text/plain": [
       "<Figure size 432x288 with 1 Axes>"
      ]
     },
     "metadata": {
      "needs_background": "light"
     },
     "output_type": "display_data"
    },
    {
     "data": {
      "image/png": "[encoded data removed]",
      "text/plain": [
       "<Figure size 432x288 with 1 Axes>"
      ]
     },
     "metadata": {
      "needs_background": "light"
     },
     "output_type": "display_data"
    }
   ],
   "source": [
    "for i in range(1,6):\n",
    "    top = get_top_n_grams(corpora[\"500 Clean Text\"], top_k=20, n=i)\n",
    "    plot_frequencies(top)"
   ]
  },
  {
   "cell_type": "markdown",
   "metadata": {},
   "source": [
    "From these graphics we can see that up to 3-grams we are catching expressions, but from 4-grams onwards we are just finding parts of sentences that are common but are not actual expressions that would be relevant. This is relevant because when we vectorize the texts to a Bag-of-Words or TF-IDf model we will want to catch the 2-grams and 3-grams but not the 4-grams."
   ]
  },
  {
   "cell_type": "markdown",
   "metadata": {},
   "source": [
    "## Convert text into vectors"
   ]
  },
  {
   "cell_type": "markdown",
   "metadata": {},
   "source": [
    "### Bag-of-words"
   ]
  },
  {
   "cell_type": "code",
   "execution_count": 32,
   "metadata": {},
   "outputs": [],
   "source": [
    "cv = CountVectorizer(\n",
    "    max_df=0.8,\n",
    "    stop_words=stop_words, \n",
    "    max_features=10000, \n",
    "    ngram_range=(1,3)\n",
    ")"
   ]
  },
  {
   "cell_type": "code",
   "execution_count": 33,
   "metadata": {},
   "outputs": [],
   "source": [
    "X_train_cv_1 = cv.fit_transform(corpora_train_1['500 Clean Text'])\n",
    "X_train_cv_2 = cv.fit_transform(corpora_train_2['500 Clean Text'])\n",
    "X_train_cv_3 = cv.fit_transform(corpora_train_3['500 Clean Text'])\n",
    "X_train_cv_4 = cv.fit_transform(corpora_train_4['500 Clean Text'])\n",
    "X_train_cv_5 = cv.fit_transform(corpora_train_5['500 Clean Text'])"
   ]
  },
  {
   "cell_type": "code",
   "execution_count": 34,
   "metadata": {},
   "outputs": [],
   "source": [
    "X_test_cv_1 = cv.fit_transform(corpora_test_1['500 Clean Text'])\n",
    "X_test_cv_2 = cv.fit_transform(corpora_test_2['500 Clean Text'])\n",
    "X_test_cv_3 = cv.fit_transform(corpora_test_3['500 Clean Text'])\n",
    "X_test_cv_4 = cv.fit_transform(corpora_test_4['500 Clean Text'])\n",
    "X_test_cv_5 = cv.fit_transform(corpora_test_5['500 Clean Text'])"
   ]
  },
  {
   "cell_type": "markdown",
   "metadata": {},
   "source": [
    "### TF-IDF"
   ]
  },
  {
   "cell_type": "code",
   "execution_count": 35,
   "metadata": {},
   "outputs": [],
   "source": [
    "tf_idf = TfidfVectorizer(\n",
    "    max_df=0.8,\n",
    "    stop_words=stop_words, \n",
    "    max_features=10000, \n",
    "    ngram_range=(1,3)\n",
    ")"
   ]
  },
  {
   "cell_type": "code",
   "execution_count": 36,
   "metadata": {},
   "outputs": [],
   "source": [
    "X_train_tf_idf_1 = tf_idf.fit_transform(corpora_train_1['500 Clean Text'])\n",
    "X_train_tf_idf_2 = tf_idf.fit_transform(corpora_train_2['500 Clean Text'])\n",
    "X_train_tf_idf_3 = tf_idf.fit_transform(corpora_train_3['500 Clean Text'])\n",
    "X_train_tf_idf_4 = tf_idf.fit_transform(corpora_train_4['500 Clean Text'])\n",
    "X_train_tf_idf_5 = tf_idf.fit_transform(corpora_train_5['500 Clean Text'])"
   ]
  },
  {
   "cell_type": "code",
   "execution_count": 37,
   "metadata": {},
   "outputs": [],
   "source": [
    "X_test_tf_idf_1 = tf_idf.fit_transform(corpora_test_1['500 Clean Text'])\n",
    "X_test_tf_idf_2 = tf_idf.fit_transform(corpora_test_2['500 Clean Text'])\n",
    "X_test_tf_idf_3 = tf_idf.fit_transform(corpora_test_3['500 Clean Text'])\n",
    "X_test_tf_idf_4 = tf_idf.fit_transform(corpora_test_4['500 Clean Text'])\n",
    "X_test_tf_idf_5 = tf_idf.fit_transform(corpora_test_5['500 Clean Text'])"
   ]
  },
  {
   "cell_type": "markdown",
   "metadata": {},
   "source": [
    "### Word2Vec"
   ]
  },
  {
   "cell_type": "code",
   "execution_count": 38,
   "metadata": {},
   "outputs": [],
   "source": [
    "X_train_w2v_1 = gensim.models.Word2Vec(corpora_train_1['500 Word List'],min_count=0,workers=4)\n",
    "X_train_w2v_2 = gensim.models.Word2Vec(corpora_train_2['500 Word List'],min_count=0,workers=4)\n",
    "X_train_w2v_3 = gensim.models.Word2Vec(corpora_train_3['500 Word List'],min_count=0,workers=4)\n",
    "X_train_w2v_4 = gensim.models.Word2Vec(corpora_train_4['500 Word List'],min_count=0,workers=4)\n",
    "X_train_w2v_5 = gensim.models.Word2Vec(corpora_train_5['500 Word List'],min_count=0,workers=4)"
   ]
  },
  {
   "cell_type": "code",
   "execution_count": 39,
   "metadata": {},
   "outputs": [],
   "source": [
    "X_test_w2v_1 = gensim.models.Word2Vec(corpora_test_1['500 Word List'],min_count=0,workers=4)\n",
    "X_test_w2v_2 = gensim.models.Word2Vec(corpora_test_2['500 Word List'],min_count=0,workers=4)\n",
    "X_test_w2v_3 = gensim.models.Word2Vec(corpora_test_3['500 Word List'],min_count=0,workers=4)\n",
    "X_test_w2v_4 = gensim.models.Word2Vec(corpora_test_4['500 Word List'],min_count=0,workers=4)\n",
    "X_test_w2v_5 = gensim.models.Word2Vec(corpora_test_5['500 Word List'],min_count=0,workers=4)"
   ]
  },
  {
   "cell_type": "markdown",
   "metadata": {},
   "source": [
    "### Class Encoding"
   ]
  },
  {
   "cell_type": "code",
   "execution_count": 40,
   "metadata": {},
   "outputs": [],
   "source": [
    "Encoder = LabelEncoder()\n",
    "\n",
    "le_1 = Encoder.fit(corpora_train_1['Author'])\n",
    "le_2 = Encoder.fit(corpora_train_2['Author'])\n",
    "le_3 = Encoder.fit(corpora_train_3['Author'])\n",
    "le_4 = Encoder.fit(corpora_train_4['Author'])\n",
    "le_5 = Encoder.fit(corpora_train_5['Author'])"
   ]
  },
  {
   "cell_type": "code",
   "execution_count": 41,
   "metadata": {},
   "outputs": [],
   "source": [
    "Y_train_1 = pd.Series(le_1.transform(corpora_train_1['Author']),index=corpora_train_1.index)\n",
    "Y_train_2 = pd.Series(le_2.transform(corpora_train_2['Author']),index=corpora_train_2.index)\n",
    "Y_train_3 = pd.Series(le_3.transform(corpora_train_3['Author']),index=corpora_train_3.index)\n",
    "Y_train_4 = pd.Series(le_4.transform(corpora_train_4['Author']),index=corpora_train_4.index)\n",
    "Y_train_5 = pd.Series(le_4.transform(corpora_train_5['Author']),index=corpora_train_5.index)"
   ]
  },
  {
   "cell_type": "code",
   "execution_count": 42,
   "metadata": {},
   "outputs": [],
   "source": [
    "Y_test_1 = pd.Series(le_1.transform(corpora_test_1['Author']),index=corpora_test_1.index)\n",
    "Y_test_2 = pd.Series(le_2.transform(corpora_test_2['Author']),index=corpora_test_2.index)\n",
    "Y_test_3 = pd.Series(le_3.transform(corpora_test_3['Author']),index=corpora_test_3.index)\n",
    "Y_test_4 = pd.Series(le_4.transform(corpora_test_4['Author']),index=corpora_test_4.index)\n",
    "Y_test_5 = pd.Series(le_5.transform(corpora_test_5['Author']),index=corpora_test_5.index)"
   ]
  },
  {
   "cell_type": "markdown",
   "metadata": {},
   "source": [
    "## Classification Models"
   ]
  },
  {
   "cell_type": "markdown",
   "metadata": {},
   "source": [
    "### k-nearest neighbors (baseline)"
   ]
  },
  {
   "cell_type": "code",
   "execution_count": 43,
   "metadata": {},
   "outputs": [],
   "source": [
    "KNN_cv_1 = KNeighborsClassifier()\n",
    "KNN_cv_2 = KNeighborsClassifier()\n",
    "KNN_cv_3 = KNeighborsClassifier()\n",
    "KNN_cv_4 = KNeighborsClassifier()\n",
    "KNN_cv_5 = KNeighborsClassifier()"
   ]
  },
  {
   "cell_type": "code",
   "execution_count": 44,
   "metadata": {},
   "outputs": [
    {
     "data": {
      "text/plain": [
       "KNeighborsClassifier(algorithm='auto', leaf_size=30, metric='minkowski',\n",
       "                     metric_params=None, n_jobs=None, n_neighbors=5, p=2,\n",
       "                     weights='uniform')"
      ]
     },
     "execution_count": 44,
     "metadata": {},
     "output_type": "execute_result"
    }
   ],
   "source": [
    "KNN_cv_1.fit(X_train_cv_1,Y_train_1)\n",
    "KNN_cv_2.fit(X_train_cv_2,Y_train_2)\n",
    "KNN_cv_3.fit(X_train_cv_3,Y_train_3)\n",
    "KNN_cv_4.fit(X_train_cv_4,Y_train_4)\n",
    "KNN_cv_5.fit(X_train_cv_5,Y_train_5)"
   ]
  },
  {
   "cell_type": "code",
   "execution_count": 45,
   "metadata": {},
   "outputs": [],
   "source": [
    "predictions_KNN_cv_1 = KNN_cv_1.predict(X_test_cv_1)\n",
    "predictions_KNN_cv_2 = KNN_cv_2.predict(X_test_cv_2)\n",
    "predictions_KNN_cv_3 = KNN_cv_3.predict(X_test_cv_3)\n",
    "predictions_KNN_cv_4 = KNN_cv_4.predict(X_test_cv_4)\n",
    "predictions_KNN_cv_5 = KNN_cv_5.predict(X_test_cv_5)"
   ]
  },
  {
   "cell_type": "code",
   "execution_count": 46,
   "metadata": {},
   "outputs": [],
   "source": [
    "accuracy_KNN_cv_1 = accuracy_score(Y_test_1,predictions_KNN_cv_1)*100\n",
    "accuracy_KNN_cv_2 = accuracy_score(Y_test_2,predictions_KNN_cv_2)*100\n",
    "accuracy_KNN_cv_3 = accuracy_score(Y_test_3,predictions_KNN_cv_3)*100\n",
    "accuracy_KNN_cv_4 = accuracy_score(Y_test_4,predictions_KNN_cv_4)*100\n",
    "accuracy_KNN_cv_5 = accuracy_score(Y_test_5,predictions_KNN_cv_5)*100"
   ]
  },
  {
   "cell_type": "code",
   "execution_count": 47,
   "metadata": {},
   "outputs": [
    {
     "data": {
      "text/plain": [
       "11.380835952963093"
      ]
     },
     "execution_count": 47,
     "metadata": {},
     "output_type": "execute_result"
    }
   ],
   "source": [
    "accuracy_KNN_cv = (accuracy_KNN_cv_1 + accuracy_KNN_cv_2 + accuracy_KNN_cv_3 + accuracy_KNN_cv_4 + accuracy_KNN_cv_5)/5\n",
    "accuracy_KNN_cv"
   ]
  },
  {
   "cell_type": "code",
   "execution_count": 48,
   "metadata": {},
   "outputs": [],
   "source": [
    "KNN_tf_idf_1 = KNeighborsClassifier()\n",
    "KNN_tf_idf_2 = KNeighborsClassifier()\n",
    "KNN_tf_idf_3 = KNeighborsClassifier()\n",
    "KNN_tf_idf_4 = KNeighborsClassifier()\n",
    "KNN_tf_idf_5 = KNeighborsClassifier()"
   ]
  },
  {
   "cell_type": "code",
   "execution_count": 49,
   "metadata": {},
   "outputs": [
    {
     "data": {
      "text/plain": [
       "KNeighborsClassifier(algorithm='auto', leaf_size=30, metric='minkowski',\n",
       "                     metric_params=None, n_jobs=None, n_neighbors=5, p=2,\n",
       "                     weights='uniform')"
      ]
     },
     "execution_count": 49,
     "metadata": {},
     "output_type": "execute_result"
    }
   ],
   "source": [
    "KNN_tf_idf_1.fit(X_train_tf_idf_1,Y_train_1)\n",
    "KNN_tf_idf_2.fit(X_train_tf_idf_2,Y_train_2)\n",
    "KNN_tf_idf_3.fit(X_train_tf_idf_3,Y_train_3)\n",
    "KNN_tf_idf_4.fit(X_train_tf_idf_4,Y_train_4)\n",
    "KNN_tf_idf_5.fit(X_train_tf_idf_5,Y_train_5)"
   ]
  },
  {
   "cell_type": "code",
   "execution_count": 50,
   "metadata": {},
   "outputs": [],
   "source": [
    "predictions_KNN_tf_idf_1 = KNN_tf_idf_1.predict(X_test_tf_idf_1)\n",
    "predictions_KNN_tf_idf_2 = KNN_tf_idf_2.predict(X_test_tf_idf_2)\n",
    "predictions_KNN_tf_idf_3 = KNN_tf_idf_3.predict(X_test_tf_idf_3)\n",
    "predictions_KNN_tf_idf_4 = KNN_tf_idf_4.predict(X_test_tf_idf_4)\n",
    "predictions_KNN_tf_idf_5 = KNN_tf_idf_5.predict(X_test_tf_idf_5)"
   ]
  },
  {
   "cell_type": "code",
   "execution_count": 51,
   "metadata": {},
   "outputs": [],
   "source": [
    "accuracy_KNN_tf_idf_1 = accuracy_score(Y_test_1,predictions_KNN_tf_idf_1)*100\n",
    "accuracy_KNN_tf_idf_2 = accuracy_score(Y_test_2,predictions_KNN_tf_idf_2)*100\n",
    "accuracy_KNN_tf_idf_3 = accuracy_score(Y_test_3,predictions_KNN_tf_idf_3)*100\n",
    "accuracy_KNN_tf_idf_4 = accuracy_score(Y_test_4,predictions_KNN_tf_idf_4)*100\n",
    "accuracy_KNN_tf_idf_5 = accuracy_score(Y_test_5,predictions_KNN_tf_idf_5)*100"
   ]
  },
  {
   "cell_type": "code",
   "execution_count": 52,
   "metadata": {},
   "outputs": [
    {
     "data": {
      "text/plain": [
       "29.912708861364116"
      ]
     },
     "execution_count": 52,
     "metadata": {},
     "output_type": "execute_result"
    }
   ],
   "source": [
    "accuracy_KNN_tf_idf = (accuracy_KNN_tf_idf_1 + accuracy_KNN_tf_idf_2 + accuracy_KNN_tf_idf_3 + accuracy_KNN_tf_idf_4 + accuracy_KNN_tf_idf_5)/5\n",
    "accuracy_KNN_tf_idf"
   ]
  },
  {
   "cell_type": "markdown",
   "metadata": {},
   "source": [
    "### Naive Bayes"
   ]
  },
  {
   "cell_type": "code",
   "execution_count": 53,
   "metadata": {},
   "outputs": [],
   "source": [
    "NB_cv_1 = MultinomialNB()\n",
    "NB_cv_2 = MultinomialNB()\n",
    "NB_cv_3 = MultinomialNB()\n",
    "NB_cv_4 = MultinomialNB()\n",
    "NB_cv_5 = MultinomialNB()"
   ]
  },
  {
   "cell_type": "code",
   "execution_count": 54,
   "metadata": {},
   "outputs": [
    {
     "data": {
      "text/plain": [
       "MultinomialNB(alpha=1.0, class_prior=None, fit_prior=True)"
      ]
     },
     "execution_count": 54,
     "metadata": {},
     "output_type": "execute_result"
    }
   ],
   "source": [
    "NB_cv_1.fit(X_train_cv_1,Y_train_1)\n",
    "NB_cv_2.fit(X_train_cv_2,Y_train_2)\n",
    "NB_cv_3.fit(X_train_cv_3,Y_train_3)\n",
    "NB_cv_4.fit(X_train_cv_4,Y_train_4)\n",
    "NB_cv_5.fit(X_train_cv_5,Y_train_5)"
   ]
  },
  {
   "cell_type": "code",
   "execution_count": 55,
   "metadata": {},
   "outputs": [],
   "source": [
    "predictions_NB_cv_1 = NB_cv_1.predict(X_test_cv_1)\n",
    "predictions_NB_cv_2 = NB_cv_2.predict(X_test_cv_2)\n",
    "predictions_NB_cv_3 = NB_cv_3.predict(X_test_cv_3)\n",
    "predictions_NB_cv_4 = NB_cv_4.predict(X_test_cv_4)\n",
    "predictions_NB_cv_5 = NB_cv_5.predict(X_test_cv_5)"
   ]
  },
  {
   "cell_type": "code",
   "execution_count": 56,
   "metadata": {},
   "outputs": [],
   "source": [
    "accuracy_NB_cv_1 = accuracy_score(Y_test_1,predictions_NB_cv_1)*100\n",
    "accuracy_NB_cv_2 = accuracy_score(Y_test_2,predictions_NB_cv_2)*100\n",
    "accuracy_NB_cv_3 = accuracy_score(Y_test_3,predictions_NB_cv_3)*100\n",
    "accuracy_NB_cv_4 = accuracy_score(Y_test_4,predictions_NB_cv_4)*100\n",
    "accuracy_NB_cv_5 = accuracy_score(Y_test_5,predictions_NB_cv_5)*100"
   ]
  },
  {
   "cell_type": "code",
   "execution_count": 57,
   "metadata": {},
   "outputs": [
    {
     "data": {
      "text/plain": [
       "1.8083953536276276"
      ]
     },
     "execution_count": 57,
     "metadata": {},
     "output_type": "execute_result"
    }
   ],
   "source": [
    "accuracy_NB_cv = (accuracy_NB_cv_1 + accuracy_NB_cv_2 + accuracy_NB_cv_3 + accuracy_NB_cv_4 + accuracy_NB_cv_5)/5\n",
    "accuracy_NB_cv"
   ]
  },
  {
   "cell_type": "code",
   "execution_count": 58,
   "metadata": {},
   "outputs": [],
   "source": [
    "NB_tf_idf_1 = MultinomialNB()\n",
    "NB_tf_idf_2 = MultinomialNB()\n",
    "NB_tf_idf_3 = MultinomialNB()\n",
    "NB_tf_idf_4 = MultinomialNB()\n",
    "NB_tf_idf_5 = MultinomialNB()"
   ]
  },
  {
   "cell_type": "code",
   "execution_count": 59,
   "metadata": {},
   "outputs": [
    {
     "data": {
      "text/plain": [
       "MultinomialNB(alpha=1.0, class_prior=None, fit_prior=True)"
      ]
     },
     "execution_count": 59,
     "metadata": {},
     "output_type": "execute_result"
    }
   ],
   "source": [
    "NB_tf_idf_1.fit(X_train_tf_idf_1,Y_train_1)\n",
    "NB_tf_idf_2.fit(X_train_tf_idf_2,Y_train_2)\n",
    "NB_tf_idf_3.fit(X_train_tf_idf_3,Y_train_3)\n",
    "NB_tf_idf_4.fit(X_train_tf_idf_4,Y_train_4)\n",
    "NB_tf_idf_5.fit(X_train_tf_idf_5,Y_train_5)"
   ]
  },
  {
   "cell_type": "code",
   "execution_count": 60,
   "metadata": {},
   "outputs": [],
   "source": [
    "predictions_NB_tf_idf_1 = NB_tf_idf_1.predict(X_test_tf_idf_1)\n",
    "predictions_NB_tf_idf_2 = NB_tf_idf_2.predict(X_test_tf_idf_2)\n",
    "predictions_NB_tf_idf_3 = NB_tf_idf_3.predict(X_test_tf_idf_3)\n",
    "predictions_NB_tf_idf_4 = NB_tf_idf_4.predict(X_test_tf_idf_4)\n",
    "predictions_NB_tf_idf_5 = NB_tf_idf_5.predict(X_test_tf_idf_5)"
   ]
  },
  {
   "cell_type": "code",
   "execution_count": 61,
   "metadata": {},
   "outputs": [],
   "source": [
    "accuracy_NB_tf_idf_1 = accuracy_score(Y_test_1,predictions_NB_tf_idf_1)*100\n",
    "accuracy_NB_tf_idf_2 = accuracy_score(Y_test_2,predictions_NB_tf_idf_2)*100\n",
    "accuracy_NB_tf_idf_3 = accuracy_score(Y_test_3,predictions_NB_tf_idf_3)*100\n",
    "accuracy_NB_tf_idf_4 = accuracy_score(Y_test_4,predictions_NB_tf_idf_4)*100\n",
    "accuracy_NB_tf_idf_5 = accuracy_score(Y_test_5,predictions_NB_tf_idf_5)*100"
   ]
  },
  {
   "cell_type": "code",
   "execution_count": 62,
   "metadata": {},
   "outputs": [
    {
     "data": {
      "text/plain": [
       "23.557293019395708"
      ]
     },
     "execution_count": 62,
     "metadata": {},
     "output_type": "execute_result"
    }
   ],
   "source": [
    "accuracy_NB_tf_idf = (accuracy_NB_tf_idf_1 + accuracy_NB_tf_idf_2 + accuracy_NB_tf_idf_3 + accuracy_NB_tf_idf_4 + accuracy_NB_tf_idf_5)/5\n",
    "accuracy_NB_tf_idf"
   ]
  },
  {
   "cell_type": "markdown",
   "metadata": {},
   "source": [
    "### SVM"
   ]
  },
  {
   "cell_type": "code",
   "execution_count": 63,
   "metadata": {},
   "outputs": [],
   "source": [
    "SVM_cv_1 = SVC()\n",
    "SVM_cv_2 = SVC()\n",
    "SVM_cv_3 = SVC()\n",
    "SVM_cv_4 = SVC()\n",
    "SVM_cv_5 = SVC()"
   ]
  },
  {
   "cell_type": "code",
   "execution_count": 64,
   "metadata": {},
   "outputs": [
    {
     "data": {
      "text/plain": [
       "SVC(C=1.0, break_ties=False, cache_size=200, class_weight=None, coef0=0.0,\n",
       "    decision_function_shape='ovr', degree=3, gamma='scale', kernel='rbf',\n",
       "    max_iter=-1, probability=False, random_state=None, shrinking=True,\n",
       "    tol=0.001, verbose=False)"
      ]
     },
     "execution_count": 64,
     "metadata": {},
     "output_type": "execute_result"
    }
   ],
   "source": [
    "SVM_cv_1.fit(X_train_cv_1,Y_train_1)\n",
    "SVM_cv_2.fit(X_train_cv_2,Y_train_2)\n",
    "SVM_cv_3.fit(X_train_cv_3,Y_train_3)\n",
    "SVM_cv_4.fit(X_train_cv_4,Y_train_4)\n",
    "SVM_cv_5.fit(X_train_cv_5,Y_train_5)"
   ]
  },
  {
   "cell_type": "code",
   "execution_count": 65,
   "metadata": {},
   "outputs": [],
   "source": [
    "predictions_SVM_cv_1 = SVM_cv_1.predict(X_test_cv_1)\n",
    "predictions_SVM_cv_2 = SVM_cv_2.predict(X_test_cv_2)\n",
    "predictions_SVM_cv_3 = SVM_cv_3.predict(X_test_cv_3)\n",
    "predictions_SVM_cv_4 = SVM_cv_4.predict(X_test_cv_4)\n",
    "predictions_SVM_cv_5 = SVM_cv_5.predict(X_test_cv_5)"
   ]
  },
  {
   "cell_type": "code",
   "execution_count": 66,
   "metadata": {},
   "outputs": [],
   "source": [
    "accuracy_SVM_cv_1 = accuracy_score(Y_test_1,predictions_SVM_cv_1)*100\n",
    "accuracy_SVM_cv_2 = accuracy_score(Y_test_2,predictions_SVM_cv_2)*100\n",
    "accuracy_SVM_cv_3 = accuracy_score(Y_test_3,predictions_SVM_cv_3)*100\n",
    "accuracy_SVM_cv_4 = accuracy_score(Y_test_4,predictions_SVM_cv_4)*100\n",
    "accuracy_SVM_cv_5 = accuracy_score(Y_test_5,predictions_SVM_cv_5)*100"
   ]
  },
  {
   "cell_type": "code",
   "execution_count": 67,
   "metadata": {},
   "outputs": [
    {
     "data": {
      "text/plain": [
       "33.0891032358025"
      ]
     },
     "execution_count": 67,
     "metadata": {},
     "output_type": "execute_result"
    }
   ],
   "source": [
    "accuracy_SVM_cv = (accuracy_SVM_cv_1 + accuracy_SVM_cv_2 + accuracy_SVM_cv_3 + accuracy_SVM_cv_4 + accuracy_SVM_cv_5)/5\n",
    "accuracy_SVM_cv"
   ]
  },
  {
   "cell_type": "code",
   "execution_count": 68,
   "metadata": {},
   "outputs": [],
   "source": [
    "SVM_tf_idf_1 = SVC()\n",
    "SVM_tf_idf_2 = SVC()\n",
    "SVM_tf_idf_3 = SVC()\n",
    "SVM_tf_idf_4 = SVC()\n",
    "SVM_tf_idf_5 = SVC()"
   ]
  },
  {
   "cell_type": "code",
   "execution_count": 69,
   "metadata": {},
   "outputs": [
    {
     "data": {
      "text/plain": [
       "SVC(C=1.0, break_ties=False, cache_size=200, class_weight=None, coef0=0.0,\n",
       "    decision_function_shape='ovr', degree=3, gamma='scale', kernel='rbf',\n",
       "    max_iter=-1, probability=False, random_state=None, shrinking=True,\n",
       "    tol=0.001, verbose=False)"
      ]
     },
     "execution_count": 69,
     "metadata": {},
     "output_type": "execute_result"
    }
   ],
   "source": [
    "SVM_tf_idf_1.fit(X_train_tf_idf_1,Y_train_1)\n",
    "SVM_tf_idf_2.fit(X_train_tf_idf_2,Y_train_2)\n",
    "SVM_tf_idf_3.fit(X_train_tf_idf_3,Y_train_3)\n",
    "SVM_tf_idf_4.fit(X_train_tf_idf_4,Y_train_4)\n",
    "SVM_tf_idf_5.fit(X_train_tf_idf_5,Y_train_5)"
   ]
  },
  {
   "cell_type": "code",
   "execution_count": 70,
   "metadata": {},
   "outputs": [],
   "source": [
    "predictions_SVM_tf_idf_1 = SVM_tf_idf_1.predict(X_test_tf_idf_1)\n",
    "predictions_SVM_tf_idf_2 = SVM_tf_idf_2.predict(X_test_tf_idf_2)\n",
    "predictions_SVM_tf_idf_3 = SVM_tf_idf_3.predict(X_test_tf_idf_3)\n",
    "predictions_SVM_tf_idf_4 = SVM_tf_idf_4.predict(X_test_tf_idf_4)\n",
    "predictions_SVM_tf_idf_5 = SVM_tf_idf_5.predict(X_test_tf_idf_5)"
   ]
  },
  {
   "cell_type": "code",
   "execution_count": 71,
   "metadata": {},
   "outputs": [],
   "source": [
    "accuracy_SVM_tf_idf_1 = accuracy_score(Y_test_1,predictions_SVM_tf_idf_1)*100\n",
    "accuracy_SVM_tf_idf_2 = accuracy_score(Y_test_2,predictions_SVM_tf_idf_2)*100\n",
    "accuracy_SVM_tf_idf_3 = accuracy_score(Y_test_3,predictions_SVM_tf_idf_3)*100\n",
    "accuracy_SVM_tf_idf_4 = accuracy_score(Y_test_4,predictions_SVM_tf_idf_4)*100\n",
    "accuracy_SVM_tf_idf_5 = accuracy_score(Y_test_5,predictions_SVM_tf_idf_5)*100"
   ]
  },
  {
   "cell_type": "code",
   "execution_count": 72,
   "metadata": {},
   "outputs": [
    {
     "data": {
      "text/plain": [
       "32.7224147762045"
      ]
     },
     "execution_count": 72,
     "metadata": {},
     "output_type": "execute_result"
    }
   ],
   "source": [
    "accuracy_SVM_tf_idf = (accuracy_SVM_tf_idf_1 + accuracy_SVM_tf_idf_2 + accuracy_SVM_tf_idf_3 + accuracy_SVM_tf_idf_4 + accuracy_SVM_tf_idf_5)/5\n",
    "accuracy_SVM_tf_idf"
   ]
  },
  {
   "cell_type": "markdown",
   "metadata": {},
   "source": [
    "### Decision Tree"
   ]
  },
  {
   "cell_type": "code",
   "execution_count": 73,
   "metadata": {},
   "outputs": [],
   "source": [
    "DT_cv_1 = DecisionTreeClassifier()\n",
    "DT_cv_2 = DecisionTreeClassifier()\n",
    "DT_cv_3 = DecisionTreeClassifier()\n",
    "DT_cv_4 = DecisionTreeClassifier()\n",
    "DT_cv_5 = DecisionTreeClassifier()"
   ]
  },
  {
   "cell_type": "code",
   "execution_count": 74,
   "metadata": {},
   "outputs": [
    {
     "data": {
      "text/plain": [
       "DecisionTreeClassifier(ccp_alpha=0.0, class_weight=None, criterion='gini',\n",
       "                       max_depth=None, max_features=None, max_leaf_nodes=None,\n",
       "                       min_impurity_decrease=0.0, min_impurity_split=None,\n",
       "                       min_samples_leaf=1, min_samples_split=2,\n",
       "                       min_weight_fraction_leaf=0.0, presort='deprecated',\n",
       "                       random_state=None, splitter='best')"
      ]
     },
     "execution_count": 74,
     "metadata": {},
     "output_type": "execute_result"
    }
   ],
   "source": [
    "DT_cv_1.fit(X_train_cv_1,Y_train_1)\n",
    "DT_cv_2.fit(X_train_cv_2,Y_train_2)\n",
    "DT_cv_3.fit(X_train_cv_3,Y_train_3)\n",
    "DT_cv_4.fit(X_train_cv_4,Y_train_4)\n",
    "DT_cv_5.fit(X_train_cv_5,Y_train_5)"
   ]
  },
  {
   "cell_type": "code",
   "execution_count": 75,
   "metadata": {},
   "outputs": [],
   "source": [
    "predictions_DT_cv_1 = DT_cv_1.predict(X_test_cv_1)\n",
    "predictions_DT_cv_2 = DT_cv_2.predict(X_test_cv_2)\n",
    "predictions_DT_cv_3 = DT_cv_3.predict(X_test_cv_3)\n",
    "predictions_DT_cv_4 = DT_cv_4.predict(X_test_cv_4)\n",
    "predictions_DT_cv_5 = DT_cv_5.predict(X_test_cv_5)"
   ]
  },
  {
   "cell_type": "code",
   "execution_count": 76,
   "metadata": {},
   "outputs": [],
   "source": [
    "accuracy_DT_cv_1 = accuracy_score(Y_test_1,predictions_DT_cv_1)*100\n",
    "accuracy_DT_cv_2 = accuracy_score(Y_test_2,predictions_DT_cv_2)*100\n",
    "accuracy_DT_cv_3 = accuracy_score(Y_test_3,predictions_DT_cv_3)*100\n",
    "accuracy_DT_cv_4 = accuracy_score(Y_test_4,predictions_DT_cv_4)*100\n",
    "accuracy_DT_cv_5 = accuracy_score(Y_test_5,predictions_DT_cv_5)*100"
   ]
  },
  {
   "cell_type": "code",
   "execution_count": 77,
   "metadata": {},
   "outputs": [
    {
     "data": {
      "text/plain": [
       "21.64787399506226"
      ]
     },
     "execution_count": 77,
     "metadata": {},
     "output_type": "execute_result"
    }
   ],
   "source": [
    "accuracy_DT_cv = (accuracy_DT_cv_1 + accuracy_DT_cv_2 + accuracy_DT_cv_3 + accuracy_DT_cv_4 + accuracy_DT_cv_5)/5\n",
    "accuracy_DT_cv"
   ]
  },
  {
   "cell_type": "code",
   "execution_count": 78,
   "metadata": {},
   "outputs": [],
   "source": [
    "DT_tf_idf_1 = DecisionTreeClassifier()\n",
    "DT_tf_idf_2 = DecisionTreeClassifier()\n",
    "DT_tf_idf_3 = DecisionTreeClassifier()\n",
    "DT_tf_idf_4 = DecisionTreeClassifier()\n",
    "DT_tf_idf_5 = DecisionTreeClassifier()"
   ]
  },
  {
   "cell_type": "code",
   "execution_count": 79,
   "metadata": {},
   "outputs": [
    {
     "data": {
      "text/plain": [
       "DecisionTreeClassifier(ccp_alpha=0.0, class_weight=None, criterion='gini',\n",
       "                       max_depth=None, max_features=None, max_leaf_nodes=None,\n",
       "                       min_impurity_decrease=0.0, min_impurity_split=None,\n",
       "                       min_samples_leaf=1, min_samples_split=2,\n",
       "                       min_weight_fraction_leaf=0.0, presort='deprecated',\n",
       "                       random_state=None, splitter='best')"
      ]
     },
     "execution_count": 79,
     "metadata": {},
     "output_type": "execute_result"
    }
   ],
   "source": [
    "DT_tf_idf_1.fit(X_train_tf_idf_1,Y_train_1)\n",
    "DT_tf_idf_2.fit(X_train_tf_idf_2,Y_train_2)\n",
    "DT_tf_idf_3.fit(X_train_tf_idf_3,Y_train_3)\n",
    "DT_tf_idf_4.fit(X_train_tf_idf_4,Y_train_4)\n",
    "DT_tf_idf_5.fit(X_train_tf_idf_5,Y_train_5)"
   ]
  },
  {
   "cell_type": "code",
   "execution_count": 80,
   "metadata": {},
   "outputs": [],
   "source": [
    "predictions_DT_tf_idf_1 = DT_tf_idf_1.predict(X_test_tf_idf_1)\n",
    "predictions_DT_tf_idf_2 = DT_tf_idf_2.predict(X_test_tf_idf_2)\n",
    "predictions_DT_tf_idf_3 = DT_tf_idf_3.predict(X_test_tf_idf_3)\n",
    "predictions_DT_tf_idf_4 = DT_tf_idf_4.predict(X_test_tf_idf_4)\n",
    "predictions_DT_tf_idf_5 = DT_tf_idf_5.predict(X_test_tf_idf_5)"
   ]
  },
  {
   "cell_type": "code",
   "execution_count": 81,
   "metadata": {},
   "outputs": [],
   "source": [
    "accuracy_DT_tf_idf_1 = accuracy_score(Y_test_1,predictions_DT_tf_idf_1)*100\n",
    "accuracy_DT_tf_idf_2 = accuracy_score(Y_test_2,predictions_DT_tf_idf_2)*100\n",
    "accuracy_DT_tf_idf_3 = accuracy_score(Y_test_3,predictions_DT_tf_idf_3)*100\n",
    "accuracy_DT_tf_idf_4 = accuracy_score(Y_test_4,predictions_DT_tf_idf_4)*100\n",
    "accuracy_DT_tf_idf_5 = accuracy_score(Y_test_5,predictions_DT_tf_idf_5)*100"
   ]
  },
  {
   "cell_type": "code",
   "execution_count": 82,
   "metadata": {},
   "outputs": [
    {
     "data": {
      "text/plain": [
       "25.90322744356974"
      ]
     },
     "execution_count": 82,
     "metadata": {},
     "output_type": "execute_result"
    }
   ],
   "source": [
    "accuracy_DT_tf_idf = (accuracy_DT_tf_idf_1 + accuracy_DT_tf_idf_2 + accuracy_DT_tf_idf_3 + accuracy_DT_tf_idf_4 + accuracy_DT_tf_idf_5)/5\n",
    "accuracy_DT_tf_idf"
   ]
  },
  {
   "cell_type": "markdown",
   "metadata": {},
   "source": [
    "### Logistic Regression"
   ]
  },
  {
   "cell_type": "code",
   "execution_count": 83,
   "metadata": {},
   "outputs": [],
   "source": [
    "LR_cv_1 = LogisticRegression()\n",
    "LR_cv_2 = LogisticRegression()\n",
    "LR_cv_3 = LogisticRegression()\n",
    "LR_cv_4 = LogisticRegression()\n",
    "LR_cv_5 = LogisticRegression()"
   ]
  },
  {
   "cell_type": "code",
   "execution_count": 84,
   "metadata": {
    "scrolled": true
   },
   "outputs": [
    {
     "name": "stderr",
     "output_type": "stream",
     "text": [
      "C:\\Users\\Mafalda\\Anaconda3\\lib\\site-packages\\sklearn\\linear_model\\_logistic.py:940: ConvergenceWarning: lbfgs failed to converge (status=1):\n",
      "STOP: TOTAL NO. of ITERATIONS REACHED LIMIT.\n",
      "\n",
      "Increase the number of iterations (max_iter) or scale the data as shown in:\n",
      "    https://scikit-learn.org/stable/modules/preprocessing.html\n",
      "Please also refer to the documentation for alternative solver options:\n",
      "    https://scikit-learn.org/stable/modules/linear_model.html#logistic-regression\n",
      "  extra_warning_msg=_LOGISTIC_SOLVER_CONVERGENCE_MSG)\n",
      "C:\\Users\\Mafalda\\Anaconda3\\lib\\site-packages\\sklearn\\linear_model\\_logistic.py:940: ConvergenceWarning: lbfgs failed to converge (status=1):\n",
      "STOP: TOTAL NO. of ITERATIONS REACHED LIMIT.\n",
      "\n",
      "Increase the number of iterations (max_iter) or scale the data as shown in:\n",
      "    https://scikit-learn.org/stable/modules/preprocessing.html\n",
      "Please also refer to the documentation for alternative solver options:\n",
      "    https://scikit-learn.org/stable/modules/linear_model.html#logistic-regression\n",
      "  extra_warning_msg=_LOGISTIC_SOLVER_CONVERGENCE_MSG)\n",
      "C:\\Users\\Mafalda\\Anaconda3\\lib\\site-packages\\sklearn\\linear_model\\_logistic.py:940: ConvergenceWarning: lbfgs failed to converge (status=1):\n",
      "STOP: TOTAL NO. of ITERATIONS REACHED LIMIT.\n",
      "\n",
      "Increase the number of iterations (max_iter) or scale the data as shown in:\n",
      "    https://scikit-learn.org/stable/modules/preprocessing.html\n",
      "Please also refer to the documentation for alternative solver options:\n",
      "    https://scikit-learn.org/stable/modules/linear_model.html#logistic-regression\n",
      "  extra_warning_msg=_LOGISTIC_SOLVER_CONVERGENCE_MSG)\n",
      "C:\\Users\\Mafalda\\Anaconda3\\lib\\site-packages\\sklearn\\linear_model\\_logistic.py:940: ConvergenceWarning: lbfgs failed to converge (status=1):\n",
      "STOP: TOTAL NO. of ITERATIONS REACHED LIMIT.\n",
      "\n",
      "Increase the number of iterations (max_iter) or scale the data as shown in:\n",
      "    https://scikit-learn.org/stable/modules/preprocessing.html\n",
      "Please also refer to the documentation for alternative solver options:\n",
      "    https://scikit-learn.org/stable/modules/linear_model.html#logistic-regression\n",
      "  extra_warning_msg=_LOGISTIC_SOLVER_CONVERGENCE_MSG)\n",
      "C:\\Users\\Mafalda\\Anaconda3\\lib\\site-packages\\sklearn\\linear_model\\_logistic.py:940: ConvergenceWarning: lbfgs failed to converge (status=1):\n",
      "STOP: TOTAL NO. of ITERATIONS REACHED LIMIT.\n",
      "\n",
      "Increase the number of iterations (max_iter) or scale the data as shown in:\n",
      "    https://scikit-learn.org/stable/modules/preprocessing.html\n",
      "Please also refer to the documentation for alternative solver options:\n",
      "    https://scikit-learn.org/stable/modules/linear_model.html#logistic-regression\n",
      "  extra_warning_msg=_LOGISTIC_SOLVER_CONVERGENCE_MSG)\n"
     ]
    },
    {
     "data": {
      "text/plain": [
       "LogisticRegression(C=1.0, class_weight=None, dual=False, fit_intercept=True,\n",
       "                   intercept_scaling=1, l1_ratio=None, max_iter=100,\n",
       "                   multi_class='auto', n_jobs=None, penalty='l2',\n",
       "                   random_state=None, solver='lbfgs', tol=0.0001, verbose=0,\n",
       "                   warm_start=False)"
      ]
     },
     "execution_count": 84,
     "metadata": {},
     "output_type": "execute_result"
    }
   ],
   "source": [
    "LR_cv_1.fit(X_train_cv_1,Y_train_1)\n",
    "LR_cv_2.fit(X_train_cv_2,Y_train_2)\n",
    "LR_cv_3.fit(X_train_cv_3,Y_train_3)\n",
    "LR_cv_4.fit(X_train_cv_4,Y_train_4)\n",
    "LR_cv_5.fit(X_train_cv_5,Y_train_5)"
   ]
  },
  {
   "cell_type": "code",
   "execution_count": 85,
   "metadata": {},
   "outputs": [],
   "source": [
    "predictions_LR_cv_1 = LR_cv_1.predict(X_test_cv_1)\n",
    "predictions_LR_cv_2 = LR_cv_2.predict(X_test_cv_2)\n",
    "predictions_LR_cv_3 = LR_cv_3.predict(X_test_cv_3)\n",
    "predictions_LR_cv_4 = LR_cv_4.predict(X_test_cv_4)\n",
    "predictions_LR_cv_5 = LR_cv_5.predict(X_test_cv_5)"
   ]
  },
  {
   "cell_type": "code",
   "execution_count": 86,
   "metadata": {},
   "outputs": [],
   "source": [
    "accuracy_LR_cv_1 = accuracy_score(Y_test_1,predictions_LR_cv_1)*100\n",
    "accuracy_LR_cv_2 = accuracy_score(Y_test_2,predictions_LR_cv_2)*100\n",
    "accuracy_LR_cv_3 = accuracy_score(Y_test_3,predictions_LR_cv_3)*100\n",
    "accuracy_LR_cv_4 = accuracy_score(Y_test_4,predictions_LR_cv_4)*100\n",
    "accuracy_LR_cv_5 = accuracy_score(Y_test_5,predictions_LR_cv_5)*100"
   ]
  },
  {
   "cell_type": "code",
   "execution_count": 87,
   "metadata": {},
   "outputs": [
    {
     "data": {
      "text/plain": [
       "22.262046565225052"
      ]
     },
     "execution_count": 87,
     "metadata": {},
     "output_type": "execute_result"
    }
   ],
   "source": [
    "accuracy_LR_cv = (accuracy_LR_cv_1 + accuracy_LR_cv_2 + accuracy_LR_cv_3 + accuracy_LR_cv_4 + accuracy_LR_cv_5)/5\n",
    "accuracy_LR_cv"
   ]
  },
  {
   "cell_type": "code",
   "execution_count": 88,
   "metadata": {},
   "outputs": [],
   "source": [
    "LR_tf_idf_1 = LogisticRegression()\n",
    "LR_tf_idf_2 = LogisticRegression()\n",
    "LR_tf_idf_3 = LogisticRegression()\n",
    "LR_tf_idf_4 = LogisticRegression()\n",
    "LR_tf_idf_5 = LogisticRegression()"
   ]
  },
  {
   "cell_type": "code",
   "execution_count": 89,
   "metadata": {},
   "outputs": [
    {
     "data": {
      "text/plain": [
       "LogisticRegression(C=1.0, class_weight=None, dual=False, fit_intercept=True,\n",
       "                   intercept_scaling=1, l1_ratio=None, max_iter=100,\n",
       "                   multi_class='auto', n_jobs=None, penalty='l2',\n",
       "                   random_state=None, solver='lbfgs', tol=0.0001, verbose=0,\n",
       "                   warm_start=False)"
      ]
     },
     "execution_count": 89,
     "metadata": {},
     "output_type": "execute_result"
    }
   ],
   "source": [
    "LR_tf_idf_1.fit(X_train_tf_idf_1,Y_train_1)\n",
    "LR_tf_idf_2.fit(X_train_tf_idf_2,Y_train_2)\n",
    "LR_tf_idf_3.fit(X_train_tf_idf_3,Y_train_3)\n",
    "LR_tf_idf_4.fit(X_train_tf_idf_4,Y_train_4)\n",
    "LR_tf_idf_5.fit(X_train_tf_idf_5,Y_train_5)"
   ]
  },
  {
   "cell_type": "code",
   "execution_count": 90,
   "metadata": {},
   "outputs": [],
   "source": [
    "predictions_LR_tf_idf_1 = LR_tf_idf_1.predict(X_test_tf_idf_1)\n",
    "predictions_LR_tf_idf_2 = LR_tf_idf_2.predict(X_test_tf_idf_2)\n",
    "predictions_LR_tf_idf_3 = LR_tf_idf_3.predict(X_test_tf_idf_3)\n",
    "predictions_LR_tf_idf_4 = LR_tf_idf_4.predict(X_test_tf_idf_4)\n",
    "predictions_LR_tf_idf_5 = LR_tf_idf_5.predict(X_test_tf_idf_5)"
   ]
  },
  {
   "cell_type": "code",
   "execution_count": 91,
   "metadata": {},
   "outputs": [],
   "source": [
    "accuracy_LR_tf_idf_1 = accuracy_score(Y_test_1,predictions_LR_tf_idf_1)*100\n",
    "accuracy_LR_tf_idf_2 = accuracy_score(Y_test_2,predictions_LR_tf_idf_2)*100\n",
    "accuracy_LR_tf_idf_3 = accuracy_score(Y_test_3,predictions_LR_tf_idf_3)*100\n",
    "accuracy_LR_tf_idf_4 = accuracy_score(Y_test_4,predictions_LR_tf_idf_4)*100\n",
    "accuracy_LR_tf_idf_5 = accuracy_score(Y_test_5,predictions_LR_tf_idf_5)*100"
   ]
  },
  {
   "cell_type": "code",
   "execution_count": 92,
   "metadata": {},
   "outputs": [
    {
     "data": {
      "text/plain": [
       "32.844664164957564"
      ]
     },
     "execution_count": 92,
     "metadata": {},
     "output_type": "execute_result"
    }
   ],
   "source": [
    "accuracy_LR_tf_idf = (accuracy_LR_tf_idf_1 + accuracy_LR_tf_idf_2 + accuracy_LR_tf_idf_3 + accuracy_LR_tf_idf_4 + accuracy_LR_tf_idf_5)/5\n",
    "accuracy_LR_tf_idf"
   ]
  },
  {
   "cell_type": "markdown",
   "metadata": {},
   "source": [
    "### Word2Vec"
   ]
  },
  {
   "cell_type": "code",
   "execution_count": 104,
   "metadata": {},
   "outputs": [],
   "source": [
    "def text_score(corpora,w2v):\n",
    "    text_scores = []\n",
    "    \n",
    "    for i in tqdm(corpora.index):\n",
    "        text = corpora['500 Word List'].iloc[i]\n",
    "        n = len(text)\n",
    "        text_vect = []\n",
    "\n",
    "        for word in text:\n",
    "            if text_vect == []:\n",
    "                text_vect = w2v[word]\n",
    "\n",
    "            else:\n",
    "                text_vect = np.add(text_vect,w2v[word])\n",
    "\n",
    "        score = list(np.asarray(text_vect) / n)\n",
    "\n",
    "        text_scores.append(score)\n",
    "    \n",
    "    return text_scores"
   ]
  },
  {
   "cell_type": "code",
   "execution_count": 106,
   "metadata": {},
   "outputs": [
    {
     "data": {
      "application/vnd.jupyter.widget-view+json": {
       "model_id": "831f126c8f84443591639d4a8191ef74",
       "version_major": 2,
       "version_minor": 0
      },
      "text/plain": [
       "HBox(children=(IntProgress(value=0, max=3273), HTML(value='')))"
      ]
     },
     "metadata": {},
     "output_type": "display_data"
    },
    {
     "name": "stderr",
     "output_type": "stream",
     "text": [
      "C:\\Users\\Mafalda\\Anaconda3\\lib\\site-packages\\ipykernel_launcher.py:11: DeprecationWarning: Call to deprecated `__getitem__` (Method will be removed in 4.0.0, use self.wv.__getitem__() instead).\n",
      "  # This is added back by InteractiveShellApp.init_path()\n",
      "C:\\Users\\Mafalda\\Anaconda3\\lib\\site-packages\\ipykernel_launcher.py:10: DeprecationWarning: elementwise comparison failed; this will raise an error in the future.\n",
      "  # Remove the CWD from sys.path while we load stuff.\n",
      "C:\\Users\\Mafalda\\Anaconda3\\lib\\site-packages\\ipykernel_launcher.py:14: DeprecationWarning: Call to deprecated `__getitem__` (Method will be removed in 4.0.0, use self.wv.__getitem__() instead).\n",
      "  \n"
     ]
    },
    {
     "name": "stdout",
     "output_type": "stream",
     "text": [
      "\n"
     ]
    },
    {
     "data": {
      "application/vnd.jupyter.widget-view+json": {
       "model_id": "cf6f282fe4c840c098371388f4c45e88",
       "version_major": 2,
       "version_minor": 0
      },
      "text/plain": [
       "HBox(children=(IntProgress(value=0, max=3273), HTML(value='')))"
      ]
     },
     "metadata": {},
     "output_type": "display_data"
    },
    {
     "name": "stdout",
     "output_type": "stream",
     "text": [
      "\n"
     ]
    },
    {
     "data": {
      "application/vnd.jupyter.widget-view+json": {
       "model_id": "0693edd850d6455dac79f9b2492d376a",
       "version_major": 2,
       "version_minor": 0
      },
      "text/plain": [
       "HBox(children=(IntProgress(value=0, max=3274), HTML(value='')))"
      ]
     },
     "metadata": {},
     "output_type": "display_data"
    },
    {
     "name": "stdout",
     "output_type": "stream",
     "text": [
      "\n"
     ]
    },
    {
     "data": {
      "application/vnd.jupyter.widget-view+json": {
       "model_id": "26ebf8e0de1049e9ac4fc66579f7d075",
       "version_major": 2,
       "version_minor": 0
      },
      "text/plain": [
       "HBox(children=(IntProgress(value=0, max=3274), HTML(value='')))"
      ]
     },
     "metadata": {},
     "output_type": "display_data"
    },
    {
     "name": "stdout",
     "output_type": "stream",
     "text": [
      "\n"
     ]
    },
    {
     "data": {
      "application/vnd.jupyter.widget-view+json": {
       "model_id": "f2295adc62234edfbe3746d791ec737e",
       "version_major": 2,
       "version_minor": 0
      },
      "text/plain": [
       "HBox(children=(IntProgress(value=0, max=3274), HTML(value='')))"
      ]
     },
     "metadata": {},
     "output_type": "display_data"
    },
    {
     "name": "stdout",
     "output_type": "stream",
     "text": [
      "\n"
     ]
    }
   ],
   "source": [
    "v_train_cv_1 = text_score(corpora_train_1,X_train_w2v_1)\n",
    "v_train_cv_2 = text_score(corpora_train_2,X_train_w2v_2)\n",
    "v_train_cv_3 = text_score(corpora_train_3,X_train_w2v_3)\n",
    "v_train_cv_4 = text_score(corpora_train_4,X_train_w2v_4)\n",
    "v_train_cv_5 = text_score(corpora_train_5,X_train_w2v_5)"
   ]
  },
  {
   "cell_type": "code",
   "execution_count": 107,
   "metadata": {
    "scrolled": true
   },
   "outputs": [
    {
     "data": {
      "application/vnd.jupyter.widget-view+json": {
       "model_id": "8e901350da664a338870efc1ec17e65a",
       "version_major": 2,
       "version_minor": 0
      },
      "text/plain": [
       "HBox(children=(IntProgress(value=0, max=819), HTML(value='')))"
      ]
     },
     "metadata": {},
     "output_type": "display_data"
    },
    {
     "name": "stderr",
     "output_type": "stream",
     "text": [
      "C:\\Users\\Mafalda\\Anaconda3\\lib\\site-packages\\ipykernel_launcher.py:11: DeprecationWarning: Call to deprecated `__getitem__` (Method will be removed in 4.0.0, use self.wv.__getitem__() instead).\n",
      "  # This is added back by InteractiveShellApp.init_path()\n",
      "C:\\Users\\Mafalda\\Anaconda3\\lib\\site-packages\\ipykernel_launcher.py:10: DeprecationWarning: elementwise comparison failed; this will raise an error in the future.\n",
      "  # Remove the CWD from sys.path while we load stuff.\n",
      "C:\\Users\\Mafalda\\Anaconda3\\lib\\site-packages\\ipykernel_launcher.py:14: DeprecationWarning: Call to deprecated `__getitem__` (Method will be removed in 4.0.0, use self.wv.__getitem__() instead).\n",
      "  \n"
     ]
    },
    {
     "name": "stdout",
     "output_type": "stream",
     "text": [
      "\n"
     ]
    },
    {
     "data": {
      "application/vnd.jupyter.widget-view+json": {
       "model_id": "3acd1a3622554857b0a68275af1a7520",
       "version_major": 2,
       "version_minor": 0
      },
      "text/plain": [
       "HBox(children=(IntProgress(value=0, max=819), HTML(value='')))"
      ]
     },
     "metadata": {},
     "output_type": "display_data"
    },
    {
     "name": "stdout",
     "output_type": "stream",
     "text": [
      "\n"
     ]
    },
    {
     "data": {
      "application/vnd.jupyter.widget-view+json": {
       "model_id": "9e36c3e2f0874b4c8db3908acb5d2195",
       "version_major": 2,
       "version_minor": 0
      },
      "text/plain": [
       "HBox(children=(IntProgress(value=0, max=818), HTML(value='')))"
      ]
     },
     "metadata": {},
     "output_type": "display_data"
    },
    {
     "name": "stdout",
     "output_type": "stream",
     "text": [
      "\n"
     ]
    },
    {
     "data": {
      "application/vnd.jupyter.widget-view+json": {
       "model_id": "3fbbd4e12fa445579c2066841a010ecf",
       "version_major": 2,
       "version_minor": 0
      },
      "text/plain": [
       "HBox(children=(IntProgress(value=0, max=818), HTML(value='')))"
      ]
     },
     "metadata": {},
     "output_type": "display_data"
    },
    {
     "name": "stdout",
     "output_type": "stream",
     "text": [
      "\n"
     ]
    },
    {
     "data": {
      "application/vnd.jupyter.widget-view+json": {
       "model_id": "7d44497835ed49b9ad04c724f22db925",
       "version_major": 2,
       "version_minor": 0
      },
      "text/plain": [
       "HBox(children=(IntProgress(value=0, max=818), HTML(value='')))"
      ]
     },
     "metadata": {},
     "output_type": "display_data"
    },
    {
     "name": "stdout",
     "output_type": "stream",
     "text": [
      "\n"
     ]
    }
   ],
   "source": [
    "v_test_cv_1 = text_score(corpora_test_1,X_test_w2v_1)\n",
    "v_test_cv_2 = text_score(corpora_test_2,X_test_w2v_2)\n",
    "v_test_cv_3 = text_score(corpora_test_3,X_test_w2v_3)\n",
    "v_test_cv_4 = text_score(corpora_test_4,X_test_w2v_4)\n",
    "v_test_cv_5 = text_score(corpora_test_5,X_test_w2v_5)"
   ]
  },
  {
   "cell_type": "code",
   "execution_count": 108,
   "metadata": {},
   "outputs": [],
   "source": [
    "MLP_1 = MLPClassifier()\n",
    "MLP_2 = MLPClassifier()\n",
    "MLP_3 = MLPClassifier()\n",
    "MLP_4 = MLPClassifier()\n",
    "MLP_5 = MLPClassifier()"
   ]
  },
  {
   "cell_type": "code",
   "execution_count": 110,
   "metadata": {},
   "outputs": [
    {
     "name": "stderr",
     "output_type": "stream",
     "text": [
      "C:\\Users\\Mafalda\\Anaconda3\\lib\\site-packages\\sklearn\\neural_network\\_multilayer_perceptron.py:571: ConvergenceWarning: Stochastic Optimizer: Maximum iterations (200) reached and the optimization hasn't converged yet.\n",
      "  % self.max_iter, ConvergenceWarning)\n",
      "C:\\Users\\Mafalda\\Anaconda3\\lib\\site-packages\\sklearn\\neural_network\\_multilayer_perceptron.py:571: ConvergenceWarning: Stochastic Optimizer: Maximum iterations (200) reached and the optimization hasn't converged yet.\n",
      "  % self.max_iter, ConvergenceWarning)\n",
      "C:\\Users\\Mafalda\\Anaconda3\\lib\\site-packages\\sklearn\\neural_network\\_multilayer_perceptron.py:571: ConvergenceWarning: Stochastic Optimizer: Maximum iterations (200) reached and the optimization hasn't converged yet.\n",
      "  % self.max_iter, ConvergenceWarning)\n",
      "C:\\Users\\Mafalda\\Anaconda3\\lib\\site-packages\\sklearn\\neural_network\\_multilayer_perceptron.py:571: ConvergenceWarning: Stochastic Optimizer: Maximum iterations (200) reached and the optimization hasn't converged yet.\n",
      "  % self.max_iter, ConvergenceWarning)\n",
      "C:\\Users\\Mafalda\\Anaconda3\\lib\\site-packages\\sklearn\\neural_network\\_multilayer_perceptron.py:571: ConvergenceWarning: Stochastic Optimizer: Maximum iterations (200) reached and the optimization hasn't converged yet.\n",
      "  % self.max_iter, ConvergenceWarning)\n"
     ]
    },
    {
     "data": {
      "text/plain": [
       "MLPClassifier(activation='relu', alpha=0.0001, batch_size='auto', beta_1=0.9,\n",
       "              beta_2=0.999, early_stopping=False, epsilon=1e-08,\n",
       "              hidden_layer_sizes=(100,), learning_rate='constant',\n",
       "              learning_rate_init=0.001, max_fun=15000, max_iter=200,\n",
       "              momentum=0.9, n_iter_no_change=10, nesterovs_momentum=True,\n",
       "              power_t=0.5, random_state=None, shuffle=True, solver='adam',\n",
       "              tol=0.0001, validation_fraction=0.1, verbose=False,\n",
       "              warm_start=False)"
      ]
     },
     "execution_count": 110,
     "metadata": {},
     "output_type": "execute_result"
    }
   ],
   "source": [
    "MLP_1.fit(v_train_cv_1, Y_train_1)\n",
    "MLP_2.fit(v_train_cv_2, Y_train_2)\n",
    "MLP_3.fit(v_train_cv_3, Y_train_3)\n",
    "MLP_4.fit(v_train_cv_4, Y_train_4)\n",
    "MLP_5.fit(v_train_cv_5, Y_train_5)"
   ]
  },
  {
   "cell_type": "code",
   "execution_count": 111,
   "metadata": {},
   "outputs": [],
   "source": [
    "predictions_MLP_1 = MLP_1.predict(v_test_cv_1)\n",
    "predictions_MLP_2 = MLP_2.predict(v_test_cv_2)\n",
    "predictions_MLP_3 = MLP_3.predict(v_test_cv_3)\n",
    "predictions_MLP_4 = MLP_4.predict(v_test_cv_4)\n",
    "predictions_MLP_5 = MLP_5.predict(v_test_cv_5)"
   ]
  },
  {
   "cell_type": "code",
   "execution_count": 112,
   "metadata": {},
   "outputs": [],
   "source": [
    "accuracy_MLP_1 = accuracy_score(Y_test_1,predictions_MLP_1)*100\n",
    "accuracy_MLP_2 = accuracy_score(Y_test_2,predictions_MLP_2)*100\n",
    "accuracy_MLP_3 = accuracy_score(Y_test_3,predictions_MLP_3)*100\n",
    "accuracy_MLP_4 = accuracy_score(Y_test_4,predictions_MLP_4)*100\n",
    "accuracy_MLP_5 = accuracy_score(Y_test_5,predictions_MLP_5)*100"
   ]
  },
  {
   "cell_type": "code",
   "execution_count": 113,
   "metadata": {},
   "outputs": [
    {
     "data": {
      "text/plain": [
       "17.030578766520087"
      ]
     },
     "execution_count": 113,
     "metadata": {},
     "output_type": "execute_result"
    }
   ],
   "source": [
    "accuracy_MLP = (accuracy_MLP_1 + accuracy_MLP_2 + accuracy_MLP_3 + accuracy_MLP_4 + accuracy_MLP_5)/5\n",
    "accuracy_MLP"
   ]
  },
  {
   "cell_type": "markdown",
   "metadata": {},
   "source": [
    "## Dummy algorithm"
   ]
  },
  {
   "cell_type": "code",
   "execution_count": 122,
   "metadata": {},
   "outputs": [],
   "source": [
    "def dummy_algorithm(train, test, k):\n",
    "    authors = pd.Series(index = test.index)\n",
    "    for j in tqdm(test.index):\n",
    "        text = test['500 Word List'][j]\n",
    "        similarity = pd.Series(index = corpora.index) #similarity score\n",
    "\n",
    "        #for every text excerpt in the corpora\n",
    "        for i in tqdm(corpora.index):\n",
    "            sim = 0\n",
    "            #if the word in the corpora text is also in the text we want to classify then the corpora text gets a point\n",
    "            for word in text:\n",
    "                if word in corpora['500 Word List'][i]:\n",
    "                    sim += 1\n",
    "\n",
    "            similarity[i] = sim\n",
    "\n",
    "        #get top k scores\n",
    "        similarity.sort_values(ascending=False, inplace=True)\n",
    "\n",
    "        similarity = similarity[:k]\n",
    "\n",
    "        classification = []\n",
    "\n",
    "        #get the authors of the most similar texts\n",
    "        for i in similarity.index:\n",
    "            author = corpora['Author'][i]\n",
    "            classification.append(author)\n",
    "\n",
    "        knn = pd.DataFrame({'Similarity':similarity.values,'Author':classification})\n",
    "        knn.set_index(similarity.index, inplace=True)\n",
    "\n",
    "        #get the most frequent author in the top k\n",
    "        a = knn['Author'].mode()\n",
    "        print(a)\n",
    "\n",
    "        #if there's two or more authors with the biggest frequency get the one with the highest similarity score\n",
    "        if a.shape[0]>1:\n",
    "            a = knn.loc[knn['Author'].isin(a.values)].reset_index().loc[0,['Author']]\n",
    "            \n",
    "        #print(a)\n",
    "        #print(a.type)\n",
    "        authors[j] = a.values\n",
    "        \n",
    "    return authors"
   ]
  },
  {
   "cell_type": "code",
   "execution_count": 123,
   "metadata": {},
   "outputs": [
    {
     "data": {
      "application/vnd.jupyter.widget-view+json": {
       "model_id": "259c417a5dc54f85ad910436108de260",
       "version_major": 2,
       "version_minor": 0
      },
      "text/plain": [
       "HBox(children=(IntProgress(value=0, max=819), HTML(value='')))"
      ]
     },
     "metadata": {},
     "output_type": "display_data"
    },
    {
     "data": {
      "application/vnd.jupyter.widget-view+json": {
       "model_id": "29e5de1fb45845578470bc3c512f95a7",
       "version_major": 2,
       "version_minor": 0
      },
      "text/plain": [
       "HBox(children=(IntProgress(value=0, max=4092), HTML(value='')))"
      ]
     },
     "metadata": {},
     "output_type": "display_data"
    },
    {
     "name": "stdout",
     "output_type": "stream",
     "text": [
      "0    Almada Negreiros\n",
      "dtype: object\n"
     ]
    },
    {
     "data": {
      "application/vnd.jupyter.widget-view+json": {
       "model_id": "a0450c8d69234ec59b3322d98f05f4c2",
       "version_major": 2,
       "version_minor": 0
      },
      "text/plain": [
       "HBox(children=(IntProgress(value=0, max=4092), HTML(value='')))"
      ]
     },
     "metadata": {},
     "output_type": "display_data"
    },
    {
     "name": "stdout",
     "output_type": "stream",
     "text": [
      "0    Jose Saramago\n",
      "dtype: object\n"
     ]
    },
    {
     "data": {
      "application/vnd.jupyter.widget-view+json": {
       "model_id": "e8d2d26bede64ec99983f511dcad01c1",
       "version_major": 2,
       "version_minor": 0
      },
      "text/plain": [
       "HBox(children=(IntProgress(value=0, max=4092), HTML(value='')))"
      ]
     },
     "metadata": {},
     "output_type": "display_data"
    },
    {
     "name": "stdout",
     "output_type": "stream",
     "text": [
      "0         Almada Negreiros\n",
      "1    Camilo Castelo Branco\n",
      "dtype: object\n"
     ]
    },
    {
     "data": {
      "application/vnd.jupyter.widget-view+json": {
       "model_id": "7683ab834d1041c9989fc6871fa89608",
       "version_major": 2,
       "version_minor": 0
      },
      "text/plain": [
       "HBox(children=(IntProgress(value=0, max=4092), HTML(value='')))"
      ]
     },
     "metadata": {},
     "output_type": "display_data"
    },
    {
     "name": "stdout",
     "output_type": "stream",
     "text": [
      "0    Almada Negreiros\n",
      "dtype: object\n"
     ]
    },
    {
     "data": {
      "application/vnd.jupyter.widget-view+json": {
       "model_id": "bdcf2897490a4cc289d73c47b94273fa",
       "version_major": 2,
       "version_minor": 0
      },
      "text/plain": [
       "HBox(children=(IntProgress(value=0, max=4092), HTML(value='')))"
      ]
     },
     "metadata": {},
     "output_type": "display_data"
    },
    {
     "name": "stdout",
     "output_type": "stream",
     "text": [
      "0    Almada Negreiros\n",
      "dtype: object\n"
     ]
    },
    {
     "data": {
      "application/vnd.jupyter.widget-view+json": {
       "model_id": "bbb3bf4f57fa4cc192a5a084a9f7bac5",
       "version_major": 2,
       "version_minor": 0
      },
      "text/plain": [
       "HBox(children=(IntProgress(value=0, max=4092), HTML(value='')))"
      ]
     },
     "metadata": {},
     "output_type": "display_data"
    },
    {
     "name": "stdout",
     "output_type": "stream",
     "text": [
      "0    Almada Negreiros\n",
      "dtype: object\n"
     ]
    },
    {
     "data": {
      "application/vnd.jupyter.widget-view+json": {
       "model_id": "0952ac5a83be4825bd9a5ec1a0867964",
       "version_major": 2,
       "version_minor": 0
      },
      "text/plain": [
       "HBox(children=(IntProgress(value=0, max=4092), HTML(value='')))"
      ]
     },
     "metadata": {},
     "output_type": "display_data"
    },
    {
     "name": "stdout",
     "output_type": "stream",
     "text": [
      "0    Almada Negreiros\n",
      "dtype: object\n"
     ]
    },
    {
     "data": {
      "application/vnd.jupyter.widget-view+json": {
       "model_id": "d1875b1ed0d24a25a7e1ec772c1e185a",
       "version_major": 2,
       "version_minor": 0
      },
      "text/plain": [
       "HBox(children=(IntProgress(value=0, max=4092), HTML(value='')))"
      ]
     },
     "metadata": {},
     "output_type": "display_data"
    },
    {
     "name": "stdout",
     "output_type": "stream",
     "text": [
      "0    Almada Negreiros\n",
      "dtype: object\n"
     ]
    },
    {
     "data": {
      "application/vnd.jupyter.widget-view+json": {
       "model_id": "2c7d01e9a5db455a9bc698e58b6124ed",
       "version_major": 2,
       "version_minor": 0
      },
      "text/plain": [
       "HBox(children=(IntProgress(value=0, max=4092), HTML(value='')))"
      ]
     },
     "metadata": {},
     "output_type": "display_data"
    },
    {
     "name": "stdout",
     "output_type": "stream",
     "text": [
      "0    Almada Negreiros\n",
      "dtype: object\n"
     ]
    },
    {
     "data": {
      "application/vnd.jupyter.widget-view+json": {
       "model_id": "7cc8440c91cd4a5e8d87fab105497811",
       "version_major": 2,
       "version_minor": 0
      },
      "text/plain": [
       "HBox(children=(IntProgress(value=0, max=4092), HTML(value='')))"
      ]
     },
     "metadata": {},
     "output_type": "display_data"
    },
    {
     "name": "stdout",
     "output_type": "stream",
     "text": [
      "0    Jose Rodrigues dos Santos\n",
      "dtype: object\n"
     ]
    },
    {
     "data": {
      "application/vnd.jupyter.widget-view+json": {
       "model_id": "4d1aae56746341938dea6e097f99d671",
       "version_major": 2,
       "version_minor": 0
      },
      "text/plain": [
       "HBox(children=(IntProgress(value=0, max=4092), HTML(value='')))"
      ]
     },
     "metadata": {},
     "output_type": "display_data"
    },
    {
     "name": "stdout",
     "output_type": "stream",
     "text": [
      "0    Almada Negreiros\n",
      "dtype: object\n"
     ]
    },
    {
     "data": {
      "application/vnd.jupyter.widget-view+json": {
       "model_id": "9639a8db06d24fbeb68f3dd4ac8a49a6",
       "version_major": 2,
       "version_minor": 0
      },
      "text/plain": [
       "HBox(children=(IntProgress(value=0, max=4092), HTML(value='')))"
      ]
     },
     "metadata": {},
     "output_type": "display_data"
    },
    {
     "name": "stdout",
     "output_type": "stream",
     "text": [
      "0    Almada Negreiros\n",
      "1      Eca de Queiros\n",
      "dtype: object\n"
     ]
    },
    {
     "data": {
      "application/vnd.jupyter.widget-view+json": {
       "model_id": "5192b1c3730e4f60aed877781044ecd0",
       "version_major": 2,
       "version_minor": 0
      },
      "text/plain": [
       "HBox(children=(IntProgress(value=0, max=4092), HTML(value='')))"
      ]
     },
     "metadata": {},
     "output_type": "display_data"
    },
    {
     "name": "stdout",
     "output_type": "stream",
     "text": [
      "0    Camilo Castelo Branco\n",
      "dtype: object\n"
     ]
    },
    {
     "data": {
      "application/vnd.jupyter.widget-view+json": {
       "model_id": "3ad2ac9fff9749a4aee00db3d04859cb",
       "version_major": 2,
       "version_minor": 0
      },
      "text/plain": [
       "HBox(children=(IntProgress(value=0, max=4092), HTML(value='')))"
      ]
     },
     "metadata": {},
     "output_type": "display_data"
    },
    {
     "name": "stdout",
     "output_type": "stream",
     "text": [
      "0    Camilo Castelo Branco\n",
      "dtype: object\n"
     ]
    },
    {
     "data": {
      "application/vnd.jupyter.widget-view+json": {
       "model_id": "abf4155ef95d44cab9e328e2927c4eb1",
       "version_major": 2,
       "version_minor": 0
      },
      "text/plain": [
       "HBox(children=(IntProgress(value=0, max=4092), HTML(value='')))"
      ]
     },
     "metadata": {},
     "output_type": "display_data"
    },
    {
     "name": "stdout",
     "output_type": "stream",
     "text": [
      "0    Camilo Castelo Branco\n",
      "dtype: object\n"
     ]
    },
    {
     "data": {
      "application/vnd.jupyter.widget-view+json": {
       "model_id": "5c01f4670b7b43a98f9f5bdcaf2a706b",
       "version_major": 2,
       "version_minor": 0
      },
      "text/plain": [
       "HBox(children=(IntProgress(value=0, max=4092), HTML(value='')))"
      ]
     },
     "metadata": {},
     "output_type": "display_data"
    },
    {
     "name": "stdout",
     "output_type": "stream",
     "text": [
      "0    Camilo Castelo Branco\n",
      "dtype: object\n"
     ]
    },
    {
     "data": {
      "application/vnd.jupyter.widget-view+json": {
       "model_id": "766f2f3adf58490fa98784402d4b85cd",
       "version_major": 2,
       "version_minor": 0
      },
      "text/plain": [
       "HBox(children=(IntProgress(value=0, max=4092), HTML(value='')))"
      ]
     },
     "metadata": {},
     "output_type": "display_data"
    },
    {
     "name": "stdout",
     "output_type": "stream",
     "text": [
      "0    Camilo Castelo Branco\n",
      "dtype: object\n"
     ]
    },
    {
     "data": {
      "application/vnd.jupyter.widget-view+json": {
       "model_id": "1d72b96bdfd04092a0a804640e769b91",
       "version_major": 2,
       "version_minor": 0
      },
      "text/plain": [
       "HBox(children=(IntProgress(value=0, max=4092), HTML(value='')))"
      ]
     },
     "metadata": {},
     "output_type": "display_data"
    },
    {
     "name": "stdout",
     "output_type": "stream",
     "text": [
      "0    Camilo Castelo Branco\n",
      "dtype: object\n"
     ]
    },
    {
     "data": {
      "application/vnd.jupyter.widget-view+json": {
       "model_id": "cef34aaa882a45a6868a6a00a82ad520",
       "version_major": 2,
       "version_minor": 0
      },
      "text/plain": [
       "HBox(children=(IntProgress(value=0, max=4092), HTML(value='')))"
      ]
     },
     "metadata": {},
     "output_type": "display_data"
    },
    {
     "name": "stdout",
     "output_type": "stream",
     "text": [
      "0    Camilo Castelo Branco\n",
      "dtype: object\n"
     ]
    },
    {
     "data": {
      "application/vnd.jupyter.widget-view+json": {
       "model_id": "0948ab1dc3d94f7cafe1a84b7df172bf",
       "version_major": 2,
       "version_minor": 0
      },
      "text/plain": [
       "HBox(children=(IntProgress(value=0, max=4092), HTML(value='')))"
      ]
     },
     "metadata": {},
     "output_type": "display_data"
    },
    {
     "name": "stdout",
     "output_type": "stream",
     "text": [
      "0    Camilo Castelo Branco\n",
      "dtype: object\n"
     ]
    },
    {
     "data": {
      "application/vnd.jupyter.widget-view+json": {
       "model_id": "697ba75ae4ac4758a696b61257760c4b",
       "version_major": 2,
       "version_minor": 0
      },
      "text/plain": [
       "HBox(children=(IntProgress(value=0, max=4092), HTML(value='')))"
      ]
     },
     "metadata": {},
     "output_type": "display_data"
    },
    {
     "name": "stdout",
     "output_type": "stream",
     "text": [
      "0    Camilo Castelo Branco\n",
      "dtype: object\n"
     ]
    },
    {
     "data": {
      "application/vnd.jupyter.widget-view+json": {
       "model_id": "28c1161554b3429a94a813c262d5be45",
       "version_major": 2,
       "version_minor": 0
      },
      "text/plain": [
       "HBox(children=(IntProgress(value=0, max=4092), HTML(value='')))"
      ]
     },
     "metadata": {},
     "output_type": "display_data"
    },
    {
     "name": "stdout",
     "output_type": "stream",
     "text": [
      "0    Camilo Castelo Branco\n",
      "dtype: object\n"
     ]
    },
    {
     "data": {
      "application/vnd.jupyter.widget-view+json": {
       "model_id": "f9c6ad2e9c03460fb4b2aa0ba487b816",
       "version_major": 2,
       "version_minor": 0
      },
      "text/plain": [
       "HBox(children=(IntProgress(value=0, max=4092), HTML(value='')))"
      ]
     },
     "metadata": {},
     "output_type": "display_data"
    },
    {
     "name": "stdout",
     "output_type": "stream",
     "text": [
      "0    Camilo Castelo Branco\n",
      "dtype: object\n"
     ]
    },
    {
     "data": {
      "application/vnd.jupyter.widget-view+json": {
       "model_id": "12cbfba349904f9f880f6f871bd502f1",
       "version_major": 2,
       "version_minor": 0
      },
      "text/plain": [
       "HBox(children=(IntProgress(value=0, max=4092), HTML(value='')))"
      ]
     },
     "metadata": {},
     "output_type": "display_data"
    },
    {
     "name": "stdout",
     "output_type": "stream",
     "text": [
      "0    Camilo Castelo Branco\n",
      "dtype: object\n"
     ]
    },
    {
     "data": {
      "application/vnd.jupyter.widget-view+json": {
       "model_id": "ea8384e8c79c461098b226824d39468b",
       "version_major": 2,
       "version_minor": 0
      },
      "text/plain": [
       "HBox(children=(IntProgress(value=0, max=4092), HTML(value='')))"
      ]
     },
     "metadata": {},
     "output_type": "display_data"
    },
    {
     "name": "stdout",
     "output_type": "stream",
     "text": [
      "0    Camilo Castelo Branco\n",
      "dtype: object\n"
     ]
    },
    {
     "data": {
      "application/vnd.jupyter.widget-view+json": {
       "model_id": "f7de530350a84f9189bfd9e37f1cf5bc",
       "version_major": 2,
       "version_minor": 0
      },
      "text/plain": [
       "HBox(children=(IntProgress(value=0, max=4092), HTML(value='')))"
      ]
     },
     "metadata": {},
     "output_type": "display_data"
    },
    {
     "name": "stdout",
     "output_type": "stream",
     "text": [
      "0    Camilo Castelo Branco\n",
      "dtype: object\n"
     ]
    },
    {
     "data": {
      "application/vnd.jupyter.widget-view+json": {
       "model_id": "8671b8e32b4144b59dd78f7317159bd9",
       "version_major": 2,
       "version_minor": 0
      },
      "text/plain": [
       "HBox(children=(IntProgress(value=0, max=4092), HTML(value='')))"
      ]
     },
     "metadata": {},
     "output_type": "display_data"
    },
    {
     "name": "stdout",
     "output_type": "stream",
     "text": [
      "0    Camilo Castelo Branco\n",
      "dtype: object\n"
     ]
    },
    {
     "data": {
      "application/vnd.jupyter.widget-view+json": {
       "model_id": "926d18f0a8944686a1e3ed2b7ea06c3d",
       "version_major": 2,
       "version_minor": 0
      },
      "text/plain": [
       "HBox(children=(IntProgress(value=0, max=4092), HTML(value='')))"
      ]
     },
     "metadata": {},
     "output_type": "display_data"
    },
    {
     "name": "stdout",
     "output_type": "stream",
     "text": [
      "0    Camilo Castelo Branco\n",
      "dtype: object\n"
     ]
    },
    {
     "data": {
      "application/vnd.jupyter.widget-view+json": {
       "model_id": "4675ffdbf7f14ee7ae1729dd97e6a3b9",
       "version_major": 2,
       "version_minor": 0
      },
      "text/plain": [
       "HBox(children=(IntProgress(value=0, max=4092), HTML(value='')))"
      ]
     },
     "metadata": {},
     "output_type": "display_data"
    },
    {
     "name": "stdout",
     "output_type": "stream",
     "text": [
      "0    Camilo Castelo Branco\n",
      "dtype: object\n"
     ]
    },
    {
     "data": {
      "application/vnd.jupyter.widget-view+json": {
       "model_id": "1a3758c3bfce468ab0ed2fec180c8c53",
       "version_major": 2,
       "version_minor": 0
      },
      "text/plain": [
       "HBox(children=(IntProgress(value=0, max=4092), HTML(value='')))"
      ]
     },
     "metadata": {},
     "output_type": "display_data"
    },
    {
     "name": "stdout",
     "output_type": "stream",
     "text": [
      "0    Camilo Castelo Branco\n",
      "dtype: object\n"
     ]
    },
    {
     "data": {
      "application/vnd.jupyter.widget-view+json": {
       "model_id": "f6d920d1bdf2493ba5b5f5aed3d5a46b",
       "version_major": 2,
       "version_minor": 0
      },
      "text/plain": [
       "HBox(children=(IntProgress(value=0, max=4092), HTML(value='')))"
      ]
     },
     "metadata": {},
     "output_type": "display_data"
    },
    {
     "name": "stdout",
     "output_type": "stream",
     "text": [
      "0    Camilo Castelo Branco\n",
      "dtype: object\n"
     ]
    },
    {
     "data": {
      "application/vnd.jupyter.widget-view+json": {
       "model_id": "e370855c681c48f6bbc11aa3a891cad2",
       "version_major": 2,
       "version_minor": 0
      },
      "text/plain": [
       "HBox(children=(IntProgress(value=0, max=4092), HTML(value='')))"
      ]
     },
     "metadata": {},
     "output_type": "display_data"
    },
    {
     "name": "stdout",
     "output_type": "stream",
     "text": [
      "0    Camilo Castelo Branco\n",
      "dtype: object\n"
     ]
    },
    {
     "data": {
      "application/vnd.jupyter.widget-view+json": {
       "model_id": "f3de6bab9c2348fc9f4678adb205237c",
       "version_major": 2,
       "version_minor": 0
      },
      "text/plain": [
       "HBox(children=(IntProgress(value=0, max=4092), HTML(value='')))"
      ]
     },
     "metadata": {},
     "output_type": "display_data"
    },
    {
     "name": "stdout",
     "output_type": "stream",
     "text": [
      "0    Camilo Castelo Branco\n",
      "dtype: object\n"
     ]
    },
    {
     "data": {
      "application/vnd.jupyter.widget-view+json": {
       "model_id": "96b71bbc8a2246aa93939b662a2e94c2",
       "version_major": 2,
       "version_minor": 0
      },
      "text/plain": [
       "HBox(children=(IntProgress(value=0, max=4092), HTML(value='')))"
      ]
     },
     "metadata": {},
     "output_type": "display_data"
    },
    {
     "name": "stdout",
     "output_type": "stream",
     "text": [
      "0    Camilo Castelo Branco\n",
      "dtype: object\n"
     ]
    },
    {
     "data": {
      "application/vnd.jupyter.widget-view+json": {
       "model_id": "81832f7f509140aca4b839cef784a17d",
       "version_major": 2,
       "version_minor": 0
      },
      "text/plain": [
       "HBox(children=(IntProgress(value=0, max=4092), HTML(value='')))"
      ]
     },
     "metadata": {},
     "output_type": "display_data"
    },
    {
     "name": "stdout",
     "output_type": "stream",
     "text": [
      "0    Camilo Castelo Branco\n",
      "dtype: object\n"
     ]
    },
    {
     "data": {
      "application/vnd.jupyter.widget-view+json": {
       "model_id": "f0384f870c524b8ca7306213412d8c39",
       "version_major": 2,
       "version_minor": 0
      },
      "text/plain": [
       "HBox(children=(IntProgress(value=0, max=4092), HTML(value='')))"
      ]
     },
     "metadata": {},
     "output_type": "display_data"
    },
    {
     "name": "stdout",
     "output_type": "stream",
     "text": [
      "0    Camilo Castelo Branco\n",
      "dtype: object\n"
     ]
    },
    {
     "data": {
      "application/vnd.jupyter.widget-view+json": {
       "model_id": "c5c597c989a34f9c8f931c176c7b0b83",
       "version_major": 2,
       "version_minor": 0
      },
      "text/plain": [
       "HBox(children=(IntProgress(value=0, max=4092), HTML(value='')))"
      ]
     },
     "metadata": {},
     "output_type": "display_data"
    },
    {
     "name": "stdout",
     "output_type": "stream",
     "text": [
      "0    Camilo Castelo Branco\n",
      "dtype: object\n"
     ]
    },
    {
     "data": {
      "application/vnd.jupyter.widget-view+json": {
       "model_id": "10146ec95d244c50a491c4ce487f7a42",
       "version_major": 2,
       "version_minor": 0
      },
      "text/plain": [
       "HBox(children=(IntProgress(value=0, max=4092), HTML(value='')))"
      ]
     },
     "metadata": {},
     "output_type": "display_data"
    },
    {
     "name": "stdout",
     "output_type": "stream",
     "text": [
      "0    Camilo Castelo Branco\n",
      "dtype: object\n"
     ]
    },
    {
     "data": {
      "application/vnd.jupyter.widget-view+json": {
       "model_id": "dd07ac8d85914e9887bb1fcce97170d5",
       "version_major": 2,
       "version_minor": 0
      },
      "text/plain": [
       "HBox(children=(IntProgress(value=0, max=4092), HTML(value='')))"
      ]
     },
     "metadata": {},
     "output_type": "display_data"
    },
    {
     "name": "stdout",
     "output_type": "stream",
     "text": [
      "0    Camilo Castelo Branco\n",
      "dtype: object\n"
     ]
    },
    {
     "data": {
      "application/vnd.jupyter.widget-view+json": {
       "model_id": "096cc6fd824440cc8683e3e4f5d62929",
       "version_major": 2,
       "version_minor": 0
      },
      "text/plain": [
       "HBox(children=(IntProgress(value=0, max=4092), HTML(value='')))"
      ]
     },
     "metadata": {},
     "output_type": "display_data"
    },
    {
     "name": "stdout",
     "output_type": "stream",
     "text": [
      "0    Camilo Castelo Branco\n",
      "dtype: object\n"
     ]
    },
    {
     "data": {
      "application/vnd.jupyter.widget-view+json": {
       "model_id": "db9babad033544e7b6b0901479c0f300",
       "version_major": 2,
       "version_minor": 0
      },
      "text/plain": [
       "HBox(children=(IntProgress(value=0, max=4092), HTML(value='')))"
      ]
     },
     "metadata": {},
     "output_type": "display_data"
    },
    {
     "name": "stdout",
     "output_type": "stream",
     "text": [
      "0    Camilo Castelo Branco\n",
      "dtype: object\n"
     ]
    },
    {
     "data": {
      "application/vnd.jupyter.widget-view+json": {
       "model_id": "49d3503723d34fb29018b066c249ecff",
       "version_major": 2,
       "version_minor": 0
      },
      "text/plain": [
       "HBox(children=(IntProgress(value=0, max=4092), HTML(value='')))"
      ]
     },
     "metadata": {},
     "output_type": "display_data"
    },
    {
     "name": "stdout",
     "output_type": "stream",
     "text": [
      "0    Camilo Castelo Branco\n",
      "dtype: object\n"
     ]
    },
    {
     "data": {
      "application/vnd.jupyter.widget-view+json": {
       "model_id": "d3a36db5415f45ada5a7d20f616bf765",
       "version_major": 2,
       "version_minor": 0
      },
      "text/plain": [
       "HBox(children=(IntProgress(value=0, max=4092), HTML(value='')))"
      ]
     },
     "metadata": {},
     "output_type": "display_data"
    },
    {
     "name": "stdout",
     "output_type": "stream",
     "text": [
      "0    Camilo Castelo Branco\n",
      "dtype: object\n"
     ]
    },
    {
     "data": {
      "application/vnd.jupyter.widget-view+json": {
       "model_id": "335e425e39da469fb45a3744a8bd1855",
       "version_major": 2,
       "version_minor": 0
      },
      "text/plain": [
       "HBox(children=(IntProgress(value=0, max=4092), HTML(value='')))"
      ]
     },
     "metadata": {},
     "output_type": "display_data"
    },
    {
     "name": "stdout",
     "output_type": "stream",
     "text": [
      "0    Camilo Castelo Branco\n",
      "dtype: object\n"
     ]
    },
    {
     "data": {
      "application/vnd.jupyter.widget-view+json": {
       "model_id": "b6f768bf8751436880bacca7ad8c7eee",
       "version_major": 2,
       "version_minor": 0
      },
      "text/plain": [
       "HBox(children=(IntProgress(value=0, max=4092), HTML(value='')))"
      ]
     },
     "metadata": {},
     "output_type": "display_data"
    },
    {
     "name": "stdout",
     "output_type": "stream",
     "text": [
      "0    Camilo Castelo Branco\n",
      "dtype: object\n"
     ]
    },
    {
     "data": {
      "application/vnd.jupyter.widget-view+json": {
       "model_id": "c290a4dfa07044b9b9c089b44fb76ac8",
       "version_major": 2,
       "version_minor": 0
      },
      "text/plain": [
       "HBox(children=(IntProgress(value=0, max=4092), HTML(value='')))"
      ]
     },
     "metadata": {},
     "output_type": "display_data"
    },
    {
     "name": "stdout",
     "output_type": "stream",
     "text": [
      "0    Camilo Castelo Branco\n",
      "dtype: object\n"
     ]
    },
    {
     "data": {
      "application/vnd.jupyter.widget-view+json": {
       "model_id": "060a73b270484ccc98b3b90e076a41e2",
       "version_major": 2,
       "version_minor": 0
      },
      "text/plain": [
       "HBox(children=(IntProgress(value=0, max=4092), HTML(value='')))"
      ]
     },
     "metadata": {},
     "output_type": "display_data"
    },
    {
     "name": "stdout",
     "output_type": "stream",
     "text": [
      "0    Camilo Castelo Branco\n",
      "dtype: object\n"
     ]
    },
    {
     "data": {
      "application/vnd.jupyter.widget-view+json": {
       "model_id": "97d1b2413f9f44e3a6d153023cffd6ff",
       "version_major": 2,
       "version_minor": 0
      },
      "text/plain": [
       "HBox(children=(IntProgress(value=0, max=4092), HTML(value='')))"
      ]
     },
     "metadata": {},
     "output_type": "display_data"
    },
    {
     "name": "stdout",
     "output_type": "stream",
     "text": [
      "0    Camilo Castelo Branco\n",
      "dtype: object\n"
     ]
    },
    {
     "data": {
      "application/vnd.jupyter.widget-view+json": {
       "model_id": "d44e54c2eed54b2eaab61ab2c2cd8af6",
       "version_major": 2,
       "version_minor": 0
      },
      "text/plain": [
       "HBox(children=(IntProgress(value=0, max=4092), HTML(value='')))"
      ]
     },
     "metadata": {},
     "output_type": "display_data"
    },
    {
     "name": "stdout",
     "output_type": "stream",
     "text": [
      "0    Camilo Castelo Branco\n",
      "dtype: object\n"
     ]
    },
    {
     "data": {
      "application/vnd.jupyter.widget-view+json": {
       "model_id": "d808ca35e2dc4cd1b9d6152f93bf9b75",
       "version_major": 2,
       "version_minor": 0
      },
      "text/plain": [
       "HBox(children=(IntProgress(value=0, max=4092), HTML(value='')))"
      ]
     },
     "metadata": {},
     "output_type": "display_data"
    },
    {
     "name": "stdout",
     "output_type": "stream",
     "text": [
      "0    Camilo Castelo Branco\n",
      "dtype: object\n"
     ]
    },
    {
     "data": {
      "application/vnd.jupyter.widget-view+json": {
       "model_id": "c3fbc997566e4ae48f75474e68b83cf7",
       "version_major": 2,
       "version_minor": 0
      },
      "text/plain": [
       "HBox(children=(IntProgress(value=0, max=4092), HTML(value='')))"
      ]
     },
     "metadata": {},
     "output_type": "display_data"
    },
    {
     "name": "stdout",
     "output_type": "stream",
     "text": [
      "0    Camilo Castelo Branco\n",
      "dtype: object\n"
     ]
    },
    {
     "data": {
      "application/vnd.jupyter.widget-view+json": {
       "model_id": "44dfcb6328e8422f8b69538dde26d729",
       "version_major": 2,
       "version_minor": 0
      },
      "text/plain": [
       "HBox(children=(IntProgress(value=0, max=4092), HTML(value='')))"
      ]
     },
     "metadata": {},
     "output_type": "display_data"
    },
    {
     "name": "stdout",
     "output_type": "stream",
     "text": [
      "0    Camilo Castelo Branco\n",
      "dtype: object\n"
     ]
    },
    {
     "data": {
      "application/vnd.jupyter.widget-view+json": {
       "model_id": "f89414ea01af4e609dcd9ef6f5aed5d3",
       "version_major": 2,
       "version_minor": 0
      },
      "text/plain": [
       "HBox(children=(IntProgress(value=0, max=4092), HTML(value='')))"
      ]
     },
     "metadata": {},
     "output_type": "display_data"
    },
    {
     "name": "stdout",
     "output_type": "stream",
     "text": [
      "0    Camilo Castelo Branco\n",
      "dtype: object\n"
     ]
    },
    {
     "data": {
      "application/vnd.jupyter.widget-view+json": {
       "model_id": "79bfdf67a234481d94d479bf7ba803b0",
       "version_major": 2,
       "version_minor": 0
      },
      "text/plain": [
       "HBox(children=(IntProgress(value=0, max=4092), HTML(value='')))"
      ]
     },
     "metadata": {},
     "output_type": "display_data"
    },
    {
     "name": "stdout",
     "output_type": "stream",
     "text": [
      "0    Camilo Castelo Branco\n",
      "dtype: object\n"
     ]
    },
    {
     "data": {
      "application/vnd.jupyter.widget-view+json": {
       "model_id": "67e012bfb8774b2a864288694ede7fa3",
       "version_major": 2,
       "version_minor": 0
      },
      "text/plain": [
       "HBox(children=(IntProgress(value=0, max=4092), HTML(value='')))"
      ]
     },
     "metadata": {},
     "output_type": "display_data"
    },
    {
     "name": "stdout",
     "output_type": "stream",
     "text": [
      "0    Camilo Castelo Branco\n",
      "dtype: object\n"
     ]
    },
    {
     "data": {
      "application/vnd.jupyter.widget-view+json": {
       "model_id": "4a00faf8ed094e70a9663c11dde0ce20",
       "version_major": 2,
       "version_minor": 0
      },
      "text/plain": [
       "HBox(children=(IntProgress(value=0, max=4092), HTML(value='')))"
      ]
     },
     "metadata": {},
     "output_type": "display_data"
    },
    {
     "name": "stdout",
     "output_type": "stream",
     "text": [
      "0    Camilo Castelo Branco\n",
      "dtype: object\n"
     ]
    },
    {
     "data": {
      "application/vnd.jupyter.widget-view+json": {
       "model_id": "f640e4e233d84ae8872e1145b1ba4e72",
       "version_major": 2,
       "version_minor": 0
      },
      "text/plain": [
       "HBox(children=(IntProgress(value=0, max=4092), HTML(value='')))"
      ]
     },
     "metadata": {},
     "output_type": "display_data"
    },
    {
     "name": "stdout",
     "output_type": "stream",
     "text": [
      "0    Camilo Castelo Branco\n",
      "dtype: object\n"
     ]
    },
    {
     "data": {
      "application/vnd.jupyter.widget-view+json": {
       "model_id": "174d27e91b69455183673e099bdc997e",
       "version_major": 2,
       "version_minor": 0
      },
      "text/plain": [
       "HBox(children=(IntProgress(value=0, max=4092), HTML(value='')))"
      ]
     },
     "metadata": {},
     "output_type": "display_data"
    },
    {
     "name": "stdout",
     "output_type": "stream",
     "text": [
      "0    Camilo Castelo Branco\n",
      "dtype: object\n"
     ]
    },
    {
     "data": {
      "application/vnd.jupyter.widget-view+json": {
       "model_id": "73c081817b374f9a8ca2e0c16fe9d49c",
       "version_major": 2,
       "version_minor": 0
      },
      "text/plain": [
       "HBox(children=(IntProgress(value=0, max=4092), HTML(value='')))"
      ]
     },
     "metadata": {},
     "output_type": "display_data"
    },
    {
     "name": "stdout",
     "output_type": "stream",
     "text": [
      "0    Camilo Castelo Branco\n",
      "dtype: object\n"
     ]
    },
    {
     "data": {
      "application/vnd.jupyter.widget-view+json": {
       "model_id": "711321df1b0c4466911f571183157625",
       "version_major": 2,
       "version_minor": 0
      },
      "text/plain": [
       "HBox(children=(IntProgress(value=0, max=4092), HTML(value='')))"
      ]
     },
     "metadata": {},
     "output_type": "display_data"
    },
    {
     "name": "stdout",
     "output_type": "stream",
     "text": [
      "0    Camilo Castelo Branco\n",
      "dtype: object\n"
     ]
    },
    {
     "data": {
      "application/vnd.jupyter.widget-view+json": {
       "model_id": "b645a84d9a5748cd887851cf25d29839",
       "version_major": 2,
       "version_minor": 0
      },
      "text/plain": [
       "HBox(children=(IntProgress(value=0, max=4092), HTML(value='')))"
      ]
     },
     "metadata": {},
     "output_type": "display_data"
    },
    {
     "name": "stdout",
     "output_type": "stream",
     "text": [
      "0    Camilo Castelo Branco\n",
      "dtype: object\n"
     ]
    },
    {
     "data": {
      "application/vnd.jupyter.widget-view+json": {
       "model_id": "c040cc480dfa4013ac1f77eeb0781ba4",
       "version_major": 2,
       "version_minor": 0
      },
      "text/plain": [
       "HBox(children=(IntProgress(value=0, max=4092), HTML(value='')))"
      ]
     },
     "metadata": {},
     "output_type": "display_data"
    },
    {
     "name": "stdout",
     "output_type": "stream",
     "text": [
      "0    Camilo Castelo Branco\n",
      "dtype: object\n"
     ]
    },
    {
     "data": {
      "application/vnd.jupyter.widget-view+json": {
       "model_id": "7f86e549423b47a4841f2fef4d8019a1",
       "version_major": 2,
       "version_minor": 0
      },
      "text/plain": [
       "HBox(children=(IntProgress(value=0, max=4092), HTML(value='')))"
      ]
     },
     "metadata": {},
     "output_type": "display_data"
    },
    {
     "name": "stdout",
     "output_type": "stream",
     "text": [
      "0    Camilo Castelo Branco\n",
      "dtype: object\n"
     ]
    },
    {
     "data": {
      "application/vnd.jupyter.widget-view+json": {
       "model_id": "a06c7fc25c474d7cb6510cd23dd4f693",
       "version_major": 2,
       "version_minor": 0
      },
      "text/plain": [
       "HBox(children=(IntProgress(value=0, max=4092), HTML(value='')))"
      ]
     },
     "metadata": {},
     "output_type": "display_data"
    },
    {
     "name": "stdout",
     "output_type": "stream",
     "text": [
      "0    Camilo Castelo Branco\n",
      "dtype: object\n"
     ]
    },
    {
     "data": {
      "application/vnd.jupyter.widget-view+json": {
       "model_id": "9bac941ba3024d989f474db1cc30ec1d",
       "version_major": 2,
       "version_minor": 0
      },
      "text/plain": [
       "HBox(children=(IntProgress(value=0, max=4092), HTML(value='')))"
      ]
     },
     "metadata": {},
     "output_type": "display_data"
    },
    {
     "name": "stdout",
     "output_type": "stream",
     "text": [
      "0    Camilo Castelo Branco\n",
      "dtype: object\n"
     ]
    },
    {
     "data": {
      "application/vnd.jupyter.widget-view+json": {
       "model_id": "8786f1cff23b40d5964f1a05f751349c",
       "version_major": 2,
       "version_minor": 0
      },
      "text/plain": [
       "HBox(children=(IntProgress(value=0, max=4092), HTML(value='')))"
      ]
     },
     "metadata": {},
     "output_type": "display_data"
    },
    {
     "name": "stdout",
     "output_type": "stream",
     "text": [
      "0    Camilo Castelo Branco\n",
      "dtype: object\n"
     ]
    },
    {
     "data": {
      "application/vnd.jupyter.widget-view+json": {
       "model_id": "6defcda1d5304d119afa21c6db1093d9",
       "version_major": 2,
       "version_minor": 0
      },
      "text/plain": [
       "HBox(children=(IntProgress(value=0, max=4092), HTML(value='')))"
      ]
     },
     "metadata": {},
     "output_type": "display_data"
    },
    {
     "name": "stdout",
     "output_type": "stream",
     "text": [
      "0    Camilo Castelo Branco\n",
      "dtype: object\n"
     ]
    },
    {
     "data": {
      "application/vnd.jupyter.widget-view+json": {
       "model_id": "be39919e22d64387aa61c1e540e5a96b",
       "version_major": 2,
       "version_minor": 0
      },
      "text/plain": [
       "HBox(children=(IntProgress(value=0, max=4092), HTML(value='')))"
      ]
     },
     "metadata": {},
     "output_type": "display_data"
    },
    {
     "name": "stdout",
     "output_type": "stream",
     "text": [
      "0    Camilo Castelo Branco\n",
      "dtype: object\n"
     ]
    },
    {
     "data": {
      "application/vnd.jupyter.widget-view+json": {
       "model_id": "05cad383bc294051baafffd053dacaea",
       "version_major": 2,
       "version_minor": 0
      },
      "text/plain": [
       "HBox(children=(IntProgress(value=0, max=4092), HTML(value='')))"
      ]
     },
     "metadata": {},
     "output_type": "display_data"
    },
    {
     "name": "stdout",
     "output_type": "stream",
     "text": [
      "0    Camilo Castelo Branco\n",
      "dtype: object\n"
     ]
    },
    {
     "data": {
      "application/vnd.jupyter.widget-view+json": {
       "model_id": "cd5f0d73a8314722bea1951e99688f9d",
       "version_major": 2,
       "version_minor": 0
      },
      "text/plain": [
       "HBox(children=(IntProgress(value=0, max=4092), HTML(value='')))"
      ]
     },
     "metadata": {},
     "output_type": "display_data"
    },
    {
     "name": "stdout",
     "output_type": "stream",
     "text": [
      "0    Camilo Castelo Branco\n",
      "dtype: object\n"
     ]
    },
    {
     "data": {
      "application/vnd.jupyter.widget-view+json": {
       "model_id": "8965e1b772ba489aaffedba55a232944",
       "version_major": 2,
       "version_minor": 0
      },
      "text/plain": [
       "HBox(children=(IntProgress(value=0, max=4092), HTML(value='')))"
      ]
     },
     "metadata": {},
     "output_type": "display_data"
    },
    {
     "name": "stdout",
     "output_type": "stream",
     "text": [
      "0    Camilo Castelo Branco\n",
      "dtype: object\n"
     ]
    },
    {
     "data": {
      "application/vnd.jupyter.widget-view+json": {
       "model_id": "1b809b2606b1475099cf84fbcaf9081b",
       "version_major": 2,
       "version_minor": 0
      },
      "text/plain": [
       "HBox(children=(IntProgress(value=0, max=4092), HTML(value='')))"
      ]
     },
     "metadata": {},
     "output_type": "display_data"
    },
    {
     "name": "stdout",
     "output_type": "stream",
     "text": [
      "0    Camilo Castelo Branco\n",
      "dtype: object\n"
     ]
    },
    {
     "data": {
      "application/vnd.jupyter.widget-view+json": {
       "model_id": "e72f0a0aa2be4d4f8c7efe9c03930def",
       "version_major": 2,
       "version_minor": 0
      },
      "text/plain": [
       "HBox(children=(IntProgress(value=0, max=4092), HTML(value='')))"
      ]
     },
     "metadata": {},
     "output_type": "display_data"
    },
    {
     "name": "stdout",
     "output_type": "stream",
     "text": [
      "0    Camilo Castelo Branco\n",
      "dtype: object\n"
     ]
    },
    {
     "data": {
      "application/vnd.jupyter.widget-view+json": {
       "model_id": "acfbebbb92c842c2bd430fcffb40eb82",
       "version_major": 2,
       "version_minor": 0
      },
      "text/plain": [
       "HBox(children=(IntProgress(value=0, max=4092), HTML(value='')))"
      ]
     },
     "metadata": {},
     "output_type": "display_data"
    },
    {
     "name": "stdout",
     "output_type": "stream",
     "text": [
      "0    Camilo Castelo Branco\n",
      "dtype: object\n"
     ]
    },
    {
     "data": {
      "application/vnd.jupyter.widget-view+json": {
       "model_id": "4ed8c7cfd35d4872b15cf010fd0f6bbe",
       "version_major": 2,
       "version_minor": 0
      },
      "text/plain": [
       "HBox(children=(IntProgress(value=0, max=4092), HTML(value='')))"
      ]
     },
     "metadata": {},
     "output_type": "display_data"
    },
    {
     "name": "stdout",
     "output_type": "stream",
     "text": [
      "0    Camilo Castelo Branco\n",
      "dtype: object\n"
     ]
    },
    {
     "data": {
      "application/vnd.jupyter.widget-view+json": {
       "model_id": "9d2b255bb0974bb0a1aa325cb558824d",
       "version_major": 2,
       "version_minor": 0
      },
      "text/plain": [
       "HBox(children=(IntProgress(value=0, max=4092), HTML(value='')))"
      ]
     },
     "metadata": {},
     "output_type": "display_data"
    },
    {
     "name": "stdout",
     "output_type": "stream",
     "text": [
      "0    Camilo Castelo Branco\n",
      "dtype: object\n"
     ]
    },
    {
     "data": {
      "application/vnd.jupyter.widget-view+json": {
       "model_id": "fcd2bcf0af1a4ec6a932936ba84207b5",
       "version_major": 2,
       "version_minor": 0
      },
      "text/plain": [
       "HBox(children=(IntProgress(value=0, max=4092), HTML(value='')))"
      ]
     },
     "metadata": {},
     "output_type": "display_data"
    },
    {
     "name": "stdout",
     "output_type": "stream",
     "text": [
      "0    Camilo Castelo Branco\n",
      "dtype: object\n"
     ]
    },
    {
     "data": {
      "application/vnd.jupyter.widget-view+json": {
       "model_id": "8e5f3bcf1152485f9797c1a14ef23028",
       "version_major": 2,
       "version_minor": 0
      },
      "text/plain": [
       "HBox(children=(IntProgress(value=0, max=4092), HTML(value='')))"
      ]
     },
     "metadata": {},
     "output_type": "display_data"
    },
    {
     "name": "stdout",
     "output_type": "stream",
     "text": [
      "0    Camilo Castelo Branco\n",
      "dtype: object\n"
     ]
    },
    {
     "data": {
      "application/vnd.jupyter.widget-view+json": {
       "model_id": "4acb4d6b159549f7bd3c7ac373f11246",
       "version_major": 2,
       "version_minor": 0
      },
      "text/plain": [
       "HBox(children=(IntProgress(value=0, max=4092), HTML(value='')))"
      ]
     },
     "metadata": {},
     "output_type": "display_data"
    },
    {
     "name": "stdout",
     "output_type": "stream",
     "text": [
      "0    Camilo Castelo Branco\n",
      "dtype: object\n"
     ]
    },
    {
     "data": {
      "application/vnd.jupyter.widget-view+json": {
       "model_id": "307e71ac209e4743b80db11d38093483",
       "version_major": 2,
       "version_minor": 0
      },
      "text/plain": [
       "HBox(children=(IntProgress(value=0, max=4092), HTML(value='')))"
      ]
     },
     "metadata": {},
     "output_type": "display_data"
    },
    {
     "name": "stdout",
     "output_type": "stream",
     "text": [
      "0    Camilo Castelo Branco\n",
      "dtype: object\n"
     ]
    },
    {
     "data": {
      "application/vnd.jupyter.widget-view+json": {
       "model_id": "6487764f2a70459996a9ee0bf665ea43",
       "version_major": 2,
       "version_minor": 0
      },
      "text/plain": [
       "HBox(children=(IntProgress(value=0, max=4092), HTML(value='')))"
      ]
     },
     "metadata": {},
     "output_type": "display_data"
    },
    {
     "name": "stdout",
     "output_type": "stream",
     "text": [
      "0    Camilo Castelo Branco\n",
      "dtype: object\n"
     ]
    },
    {
     "data": {
      "application/vnd.jupyter.widget-view+json": {
       "model_id": "1ab3c1660d95493ca6dc620438e3500a",
       "version_major": 2,
       "version_minor": 0
      },
      "text/plain": [
       "HBox(children=(IntProgress(value=0, max=4092), HTML(value='')))"
      ]
     },
     "metadata": {},
     "output_type": "display_data"
    },
    {
     "name": "stdout",
     "output_type": "stream",
     "text": [
      "0    Camilo Castelo Branco\n",
      "dtype: object\n"
     ]
    },
    {
     "data": {
      "application/vnd.jupyter.widget-view+json": {
       "model_id": "c84744f6436d43bb80ea3cf244005fd3",
       "version_major": 2,
       "version_minor": 0
      },
      "text/plain": [
       "HBox(children=(IntProgress(value=0, max=4092), HTML(value='')))"
      ]
     },
     "metadata": {},
     "output_type": "display_data"
    },
    {
     "name": "stdout",
     "output_type": "stream",
     "text": [
      "0    Camilo Castelo Branco\n",
      "dtype: object\n"
     ]
    },
    {
     "data": {
      "application/vnd.jupyter.widget-view+json": {
       "model_id": "984378d028854363915312337951e502",
       "version_major": 2,
       "version_minor": 0
      },
      "text/plain": [
       "HBox(children=(IntProgress(value=0, max=4092), HTML(value='')))"
      ]
     },
     "metadata": {},
     "output_type": "display_data"
    },
    {
     "name": "stdout",
     "output_type": "stream",
     "text": [
      "0    Camilo Castelo Branco\n",
      "dtype: object\n"
     ]
    },
    {
     "data": {
      "application/vnd.jupyter.widget-view+json": {
       "model_id": "fc8574629713481fb3728a76ce428a17",
       "version_major": 2,
       "version_minor": 0
      },
      "text/plain": [
       "HBox(children=(IntProgress(value=0, max=4092), HTML(value='')))"
      ]
     },
     "metadata": {},
     "output_type": "display_data"
    },
    {
     "name": "stdout",
     "output_type": "stream",
     "text": [
      "0    Camilo Castelo Branco\n",
      "dtype: object\n"
     ]
    },
    {
     "data": {
      "application/vnd.jupyter.widget-view+json": {
       "model_id": "b81f61d03ca44929974ea41dc2e3aa00",
       "version_major": 2,
       "version_minor": 0
      },
      "text/plain": [
       "HBox(children=(IntProgress(value=0, max=4092), HTML(value='')))"
      ]
     },
     "metadata": {},
     "output_type": "display_data"
    },
    {
     "name": "stdout",
     "output_type": "stream",
     "text": [
      "0    Camilo Castelo Branco\n",
      "dtype: object\n"
     ]
    },
    {
     "data": {
      "application/vnd.jupyter.widget-view+json": {
       "model_id": "5f99cf5f90b8464b8496325bd70c8148",
       "version_major": 2,
       "version_minor": 0
      },
      "text/plain": [
       "HBox(children=(IntProgress(value=0, max=4092), HTML(value='')))"
      ]
     },
     "metadata": {},
     "output_type": "display_data"
    },
    {
     "name": "stdout",
     "output_type": "stream",
     "text": [
      "0    Camilo Castelo Branco\n",
      "dtype: object\n"
     ]
    },
    {
     "data": {
      "application/vnd.jupyter.widget-view+json": {
       "model_id": "e21f0d0d569a453eb9def8fd9f2b18ef",
       "version_major": 2,
       "version_minor": 0
      },
      "text/plain": [
       "HBox(children=(IntProgress(value=0, max=4092), HTML(value='')))"
      ]
     },
     "metadata": {},
     "output_type": "display_data"
    },
    {
     "name": "stdout",
     "output_type": "stream",
     "text": [
      "0    Camilo Castelo Branco\n",
      "dtype: object\n"
     ]
    },
    {
     "data": {
      "application/vnd.jupyter.widget-view+json": {
       "model_id": "9727424123a14744be5017c321b4649b",
       "version_major": 2,
       "version_minor": 0
      },
      "text/plain": [
       "HBox(children=(IntProgress(value=0, max=4092), HTML(value='')))"
      ]
     },
     "metadata": {},
     "output_type": "display_data"
    },
    {
     "name": "stdout",
     "output_type": "stream",
     "text": [
      "0    Camilo Castelo Branco\n",
      "dtype: object\n"
     ]
    },
    {
     "data": {
      "application/vnd.jupyter.widget-view+json": {
       "model_id": "5ec428bece694f5c8dd478e7f3d0ed9c",
       "version_major": 2,
       "version_minor": 0
      },
      "text/plain": [
       "HBox(children=(IntProgress(value=0, max=4092), HTML(value='')))"
      ]
     },
     "metadata": {},
     "output_type": "display_data"
    },
    {
     "name": "stdout",
     "output_type": "stream",
     "text": [
      "0    Camilo Castelo Branco\n",
      "dtype: object\n"
     ]
    },
    {
     "data": {
      "application/vnd.jupyter.widget-view+json": {
       "model_id": "e53e614a546e4cc9a16fd2bfd15d8130",
       "version_major": 2,
       "version_minor": 0
      },
      "text/plain": [
       "HBox(children=(IntProgress(value=0, max=4092), HTML(value='')))"
      ]
     },
     "metadata": {},
     "output_type": "display_data"
    },
    {
     "name": "stdout",
     "output_type": "stream",
     "text": [
      "0    Camilo Castelo Branco\n",
      "dtype: object\n"
     ]
    },
    {
     "data": {
      "application/vnd.jupyter.widget-view+json": {
       "model_id": "978b7859d68d48458cee61bd1e46063f",
       "version_major": 2,
       "version_minor": 0
      },
      "text/plain": [
       "HBox(children=(IntProgress(value=0, max=4092), HTML(value='')))"
      ]
     },
     "metadata": {},
     "output_type": "display_data"
    },
    {
     "name": "stdout",
     "output_type": "stream",
     "text": [
      "0    Camilo Castelo Branco\n",
      "dtype: object\n"
     ]
    },
    {
     "data": {
      "application/vnd.jupyter.widget-view+json": {
       "model_id": "bf0dc8ba880146c2a482aca71b004859",
       "version_major": 2,
       "version_minor": 0
      },
      "text/plain": [
       "HBox(children=(IntProgress(value=0, max=4092), HTML(value='')))"
      ]
     },
     "metadata": {},
     "output_type": "display_data"
    },
    {
     "name": "stdout",
     "output_type": "stream",
     "text": [
      "0    Camilo Castelo Branco\n",
      "dtype: object\n"
     ]
    },
    {
     "data": {
      "application/vnd.jupyter.widget-view+json": {
       "model_id": "e7eb7f4b251549e59a141507c90f5c81",
       "version_major": 2,
       "version_minor": 0
      },
      "text/plain": [
       "HBox(children=(IntProgress(value=0, max=4092), HTML(value='')))"
      ]
     },
     "metadata": {},
     "output_type": "display_data"
    },
    {
     "name": "stdout",
     "output_type": "stream",
     "text": [
      "0    Camilo Castelo Branco\n",
      "dtype: object\n"
     ]
    },
    {
     "data": {
      "application/vnd.jupyter.widget-view+json": {
       "model_id": "4e287be15ded410084d1d2e148c68486",
       "version_major": 2,
       "version_minor": 0
      },
      "text/plain": [
       "HBox(children=(IntProgress(value=0, max=4092), HTML(value='')))"
      ]
     },
     "metadata": {},
     "output_type": "display_data"
    },
    {
     "name": "stdout",
     "output_type": "stream",
     "text": [
      "0    Camilo Castelo Branco\n",
      "dtype: object\n"
     ]
    },
    {
     "data": {
      "application/vnd.jupyter.widget-view+json": {
       "model_id": "b2a71af7d335447098b789fdff2c60d1",
       "version_major": 2,
       "version_minor": 0
      },
      "text/plain": [
       "HBox(children=(IntProgress(value=0, max=4092), HTML(value='')))"
      ]
     },
     "metadata": {},
     "output_type": "display_data"
    },
    {
     "name": "stdout",
     "output_type": "stream",
     "text": [
      "0    Camilo Castelo Branco\n",
      "dtype: object\n"
     ]
    },
    {
     "data": {
      "application/vnd.jupyter.widget-view+json": {
       "model_id": "e8a9f7e5b109451dbaac6ad19865547c",
       "version_major": 2,
       "version_minor": 0
      },
      "text/plain": [
       "HBox(children=(IntProgress(value=0, max=4092), HTML(value='')))"
      ]
     },
     "metadata": {},
     "output_type": "display_data"
    },
    {
     "name": "stdout",
     "output_type": "stream",
     "text": [
      "0    Camilo Castelo Branco\n",
      "dtype: object\n"
     ]
    },
    {
     "data": {
      "application/vnd.jupyter.widget-view+json": {
       "model_id": "faa554f8801d4634b58712d4e265f2a6",
       "version_major": 2,
       "version_minor": 0
      },
      "text/plain": [
       "HBox(children=(IntProgress(value=0, max=4092), HTML(value='')))"
      ]
     },
     "metadata": {},
     "output_type": "display_data"
    },
    {
     "name": "stdout",
     "output_type": "stream",
     "text": [
      "0    Camilo Castelo Branco\n",
      "dtype: object\n"
     ]
    },
    {
     "data": {
      "application/vnd.jupyter.widget-view+json": {
       "model_id": "db0f277af8bd4e859f91c51d08a8b136",
       "version_major": 2,
       "version_minor": 0
      },
      "text/plain": [
       "HBox(children=(IntProgress(value=0, max=4092), HTML(value='')))"
      ]
     },
     "metadata": {},
     "output_type": "display_data"
    },
    {
     "name": "stdout",
     "output_type": "stream",
     "text": [
      "0    Camilo Castelo Branco\n",
      "dtype: object\n"
     ]
    },
    {
     "data": {
      "application/vnd.jupyter.widget-view+json": {
       "model_id": "91b2ec7965bd4eb193f72ca985637b64",
       "version_major": 2,
       "version_minor": 0
      },
      "text/plain": [
       "HBox(children=(IntProgress(value=0, max=4092), HTML(value='')))"
      ]
     },
     "metadata": {},
     "output_type": "display_data"
    },
    {
     "name": "stdout",
     "output_type": "stream",
     "text": [
      "0    Camilo Castelo Branco\n",
      "dtype: object\n"
     ]
    },
    {
     "data": {
      "application/vnd.jupyter.widget-view+json": {
       "model_id": "4b330f7ff87d466da22a9b92aaa80ac9",
       "version_major": 2,
       "version_minor": 0
      },
      "text/plain": [
       "HBox(children=(IntProgress(value=0, max=4092), HTML(value='')))"
      ]
     },
     "metadata": {},
     "output_type": "display_data"
    },
    {
     "name": "stdout",
     "output_type": "stream",
     "text": [
      "0    Camilo Castelo Branco\n",
      "dtype: object\n"
     ]
    },
    {
     "data": {
      "application/vnd.jupyter.widget-view+json": {
       "model_id": "cb709508e198414380e2efa2dc33a390",
       "version_major": 2,
       "version_minor": 0
      },
      "text/plain": [
       "HBox(children=(IntProgress(value=0, max=4092), HTML(value='')))"
      ]
     },
     "metadata": {},
     "output_type": "display_data"
    },
    {
     "name": "stdout",
     "output_type": "stream",
     "text": [
      "0    Camilo Castelo Branco\n",
      "dtype: object\n"
     ]
    },
    {
     "data": {
      "application/vnd.jupyter.widget-view+json": {
       "model_id": "3a7ed04edc2746b1871032f7d1bb3eaa",
       "version_major": 2,
       "version_minor": 0
      },
      "text/plain": [
       "HBox(children=(IntProgress(value=0, max=4092), HTML(value='')))"
      ]
     },
     "metadata": {},
     "output_type": "display_data"
    },
    {
     "name": "stdout",
     "output_type": "stream",
     "text": [
      "0    Camilo Castelo Branco\n",
      "dtype: object\n"
     ]
    },
    {
     "data": {
      "application/vnd.jupyter.widget-view+json": {
       "model_id": "049a1b02befb4691bdd4ccd174aaa757",
       "version_major": 2,
       "version_minor": 0
      },
      "text/plain": [
       "HBox(children=(IntProgress(value=0, max=4092), HTML(value='')))"
      ]
     },
     "metadata": {},
     "output_type": "display_data"
    },
    {
     "name": "stdout",
     "output_type": "stream",
     "text": [
      "0    Camilo Castelo Branco\n",
      "dtype: object\n"
     ]
    },
    {
     "data": {
      "application/vnd.jupyter.widget-view+json": {
       "model_id": "735b52786fcc4f179ffe85adac894083",
       "version_major": 2,
       "version_minor": 0
      },
      "text/plain": [
       "HBox(children=(IntProgress(value=0, max=4092), HTML(value='')))"
      ]
     },
     "metadata": {},
     "output_type": "display_data"
    },
    {
     "name": "stdout",
     "output_type": "stream",
     "text": [
      "0    Camilo Castelo Branco\n",
      "dtype: object\n"
     ]
    },
    {
     "data": {
      "application/vnd.jupyter.widget-view+json": {
       "model_id": "17ac3428c663457aa06c85b60ad28553",
       "version_major": 2,
       "version_minor": 0
      },
      "text/plain": [
       "HBox(children=(IntProgress(value=0, max=4092), HTML(value='')))"
      ]
     },
     "metadata": {},
     "output_type": "display_data"
    },
    {
     "name": "stdout",
     "output_type": "stream",
     "text": [
      "0    Camilo Castelo Branco\n",
      "dtype: object\n"
     ]
    },
    {
     "data": {
      "application/vnd.jupyter.widget-view+json": {
       "model_id": "58df3d2c38dc4dcd9fd56c5c5213d18d",
       "version_major": 2,
       "version_minor": 0
      },
      "text/plain": [
       "HBox(children=(IntProgress(value=0, max=4092), HTML(value='')))"
      ]
     },
     "metadata": {},
     "output_type": "display_data"
    },
    {
     "name": "stdout",
     "output_type": "stream",
     "text": [
      "0    Camilo Castelo Branco\n",
      "dtype: object\n"
     ]
    },
    {
     "data": {
      "application/vnd.jupyter.widget-view+json": {
       "model_id": "81e4622a222b40189cb93d0bde939bb9",
       "version_major": 2,
       "version_minor": 0
      },
      "text/plain": [
       "HBox(children=(IntProgress(value=0, max=4092), HTML(value='')))"
      ]
     },
     "metadata": {},
     "output_type": "display_data"
    },
    {
     "name": "stdout",
     "output_type": "stream",
     "text": [
      "0    Camilo Castelo Branco\n",
      "dtype: object\n"
     ]
    },
    {
     "data": {
      "application/vnd.jupyter.widget-view+json": {
       "model_id": "5717ceb2ff4140b4915c728e55e08957",
       "version_major": 2,
       "version_minor": 0
      },
      "text/plain": [
       "HBox(children=(IntProgress(value=0, max=4092), HTML(value='')))"
      ]
     },
     "metadata": {},
     "output_type": "display_data"
    },
    {
     "name": "stdout",
     "output_type": "stream",
     "text": [
      "0    Camilo Castelo Branco\n",
      "dtype: object\n"
     ]
    },
    {
     "data": {
      "application/vnd.jupyter.widget-view+json": {
       "model_id": "47bf8c76169c42f3950b1948f14489c6",
       "version_major": 2,
       "version_minor": 0
      },
      "text/plain": [
       "HBox(children=(IntProgress(value=0, max=4092), HTML(value='')))"
      ]
     },
     "metadata": {},
     "output_type": "display_data"
    },
    {
     "name": "stdout",
     "output_type": "stream",
     "text": [
      "0    Camilo Castelo Branco\n",
      "dtype: object\n"
     ]
    },
    {
     "data": {
      "application/vnd.jupyter.widget-view+json": {
       "model_id": "5fd48bf96a074c8bad2d8e7cc1e31050",
       "version_major": 2,
       "version_minor": 0
      },
      "text/plain": [
       "HBox(children=(IntProgress(value=0, max=4092), HTML(value='')))"
      ]
     },
     "metadata": {},
     "output_type": "display_data"
    },
    {
     "name": "stdout",
     "output_type": "stream",
     "text": [
      "0    Camilo Castelo Branco\n",
      "dtype: object\n"
     ]
    },
    {
     "data": {
      "application/vnd.jupyter.widget-view+json": {
       "model_id": "0c1768d64b344728a64ebe5b7941dd36",
       "version_major": 2,
       "version_minor": 0
      },
      "text/plain": [
       "HBox(children=(IntProgress(value=0, max=4092), HTML(value='')))"
      ]
     },
     "metadata": {},
     "output_type": "display_data"
    },
    {
     "name": "stdout",
     "output_type": "stream",
     "text": [
      "0    Camilo Castelo Branco\n",
      "dtype: object\n"
     ]
    },
    {
     "data": {
      "application/vnd.jupyter.widget-view+json": {
       "model_id": "b0c3c7d6799940fb9d0a9217dcc901b2",
       "version_major": 2,
       "version_minor": 0
      },
      "text/plain": [
       "HBox(children=(IntProgress(value=0, max=4092), HTML(value='')))"
      ]
     },
     "metadata": {},
     "output_type": "display_data"
    },
    {
     "name": "stdout",
     "output_type": "stream",
     "text": [
      "0    Camilo Castelo Branco\n",
      "dtype: object\n"
     ]
    },
    {
     "data": {
      "application/vnd.jupyter.widget-view+json": {
       "model_id": "c7b656496546440dba5748788dfbf25e",
       "version_major": 2,
       "version_minor": 0
      },
      "text/plain": [
       "HBox(children=(IntProgress(value=0, max=4092), HTML(value='')))"
      ]
     },
     "metadata": {},
     "output_type": "display_data"
    },
    {
     "name": "stdout",
     "output_type": "stream",
     "text": [
      "0    Camilo Castelo Branco\n",
      "dtype: object\n"
     ]
    },
    {
     "data": {
      "application/vnd.jupyter.widget-view+json": {
       "model_id": "e2a94db1921a47fdb8721f217ae4b1bc",
       "version_major": 2,
       "version_minor": 0
      },
      "text/plain": [
       "HBox(children=(IntProgress(value=0, max=4092), HTML(value='')))"
      ]
     },
     "metadata": {},
     "output_type": "display_data"
    },
    {
     "name": "stdout",
     "output_type": "stream",
     "text": [
      "0    Camilo Castelo Branco\n",
      "dtype: object\n"
     ]
    },
    {
     "data": {
      "application/vnd.jupyter.widget-view+json": {
       "model_id": "b041ee9b718743668d29440196d43fa1",
       "version_major": 2,
       "version_minor": 0
      },
      "text/plain": [
       "HBox(children=(IntProgress(value=0, max=4092), HTML(value='')))"
      ]
     },
     "metadata": {},
     "output_type": "display_data"
    },
    {
     "name": "stdout",
     "output_type": "stream",
     "text": [
      "0    Camilo Castelo Branco\n",
      "dtype: object\n"
     ]
    },
    {
     "data": {
      "application/vnd.jupyter.widget-view+json": {
       "model_id": "025666dc3b4c4cfea8fb778bc421fc6d",
       "version_major": 2,
       "version_minor": 0
      },
      "text/plain": [
       "HBox(children=(IntProgress(value=0, max=4092), HTML(value='')))"
      ]
     },
     "metadata": {},
     "output_type": "display_data"
    },
    {
     "name": "stdout",
     "output_type": "stream",
     "text": [
      "0    Camilo Castelo Branco\n",
      "dtype: object\n"
     ]
    },
    {
     "data": {
      "application/vnd.jupyter.widget-view+json": {
       "model_id": "c0f43617ce124b50a86851da83b10276",
       "version_major": 2,
       "version_minor": 0
      },
      "text/plain": [
       "HBox(children=(IntProgress(value=0, max=4092), HTML(value='')))"
      ]
     },
     "metadata": {},
     "output_type": "display_data"
    },
    {
     "name": "stdout",
     "output_type": "stream",
     "text": [
      "0    Camilo Castelo Branco\n",
      "dtype: object\n"
     ]
    },
    {
     "data": {
      "application/vnd.jupyter.widget-view+json": {
       "model_id": "ddaa05500fe3432b85ce1b6fc9ecb37c",
       "version_major": 2,
       "version_minor": 0
      },
      "text/plain": [
       "HBox(children=(IntProgress(value=0, max=4092), HTML(value='')))"
      ]
     },
     "metadata": {},
     "output_type": "display_data"
    },
    {
     "name": "stdout",
     "output_type": "stream",
     "text": [
      "0    Camilo Castelo Branco\n",
      "dtype: object\n"
     ]
    },
    {
     "data": {
      "application/vnd.jupyter.widget-view+json": {
       "model_id": "646c986bc105401f87645c9761d16054",
       "version_major": 2,
       "version_minor": 0
      },
      "text/plain": [
       "HBox(children=(IntProgress(value=0, max=4092), HTML(value='')))"
      ]
     },
     "metadata": {},
     "output_type": "display_data"
    },
    {
     "name": "stdout",
     "output_type": "stream",
     "text": [
      "0    Camilo Castelo Branco\n",
      "dtype: object\n"
     ]
    },
    {
     "data": {
      "application/vnd.jupyter.widget-view+json": {
       "model_id": "c79395606317490189b14e76f8372fba",
       "version_major": 2,
       "version_minor": 0
      },
      "text/plain": [
       "HBox(children=(IntProgress(value=0, max=4092), HTML(value='')))"
      ]
     },
     "metadata": {},
     "output_type": "display_data"
    },
    {
     "name": "stdout",
     "output_type": "stream",
     "text": [
      "0    Camilo Castelo Branco\n",
      "dtype: object\n"
     ]
    },
    {
     "data": {
      "application/vnd.jupyter.widget-view+json": {
       "model_id": "65b3e725e8c84645978a4e4695b7ab6b",
       "version_major": 2,
       "version_minor": 0
      },
      "text/plain": [
       "HBox(children=(IntProgress(value=0, max=4092), HTML(value='')))"
      ]
     },
     "metadata": {},
     "output_type": "display_data"
    },
    {
     "name": "stdout",
     "output_type": "stream",
     "text": [
      "0    Camilo Castelo Branco\n",
      "dtype: object\n"
     ]
    },
    {
     "data": {
      "application/vnd.jupyter.widget-view+json": {
       "model_id": "7e7720ec6de146b59362e2ad523a404c",
       "version_major": 2,
       "version_minor": 0
      },
      "text/plain": [
       "HBox(children=(IntProgress(value=0, max=4092), HTML(value='')))"
      ]
     },
     "metadata": {},
     "output_type": "display_data"
    },
    {
     "name": "stdout",
     "output_type": "stream",
     "text": [
      "0    Camilo Castelo Branco\n",
      "dtype: object\n"
     ]
    },
    {
     "data": {
      "application/vnd.jupyter.widget-view+json": {
       "model_id": "c43b65296d4447d2a0a8e5a626e1ff91",
       "version_major": 2,
       "version_minor": 0
      },
      "text/plain": [
       "HBox(children=(IntProgress(value=0, max=4092), HTML(value='')))"
      ]
     },
     "metadata": {},
     "output_type": "display_data"
    },
    {
     "name": "stdout",
     "output_type": "stream",
     "text": [
      "0    Camilo Castelo Branco\n",
      "dtype: object\n"
     ]
    },
    {
     "data": {
      "application/vnd.jupyter.widget-view+json": {
       "model_id": "90542b39670a4f14b328e20d9f6ee5a8",
       "version_major": 2,
       "version_minor": 0
      },
      "text/plain": [
       "HBox(children=(IntProgress(value=0, max=4092), HTML(value='')))"
      ]
     },
     "metadata": {},
     "output_type": "display_data"
    },
    {
     "name": "stdout",
     "output_type": "stream",
     "text": [
      "0    Camilo Castelo Branco\n",
      "dtype: object\n"
     ]
    },
    {
     "data": {
      "application/vnd.jupyter.widget-view+json": {
       "model_id": "d3b3da759eb34789966adf1d8f522e54",
       "version_major": 2,
       "version_minor": 0
      },
      "text/plain": [
       "HBox(children=(IntProgress(value=0, max=4092), HTML(value='')))"
      ]
     },
     "metadata": {},
     "output_type": "display_data"
    },
    {
     "name": "stdout",
     "output_type": "stream",
     "text": [
      "0    Camilo Castelo Branco\n",
      "dtype: object\n"
     ]
    },
    {
     "data": {
      "application/vnd.jupyter.widget-view+json": {
       "model_id": "197faadd31344dfa81fd0a2b93efe440",
       "version_major": 2,
       "version_minor": 0
      },
      "text/plain": [
       "HBox(children=(IntProgress(value=0, max=4092), HTML(value='')))"
      ]
     },
     "metadata": {},
     "output_type": "display_data"
    },
    {
     "name": "stdout",
     "output_type": "stream",
     "text": [
      "0    Camilo Castelo Branco\n",
      "dtype: object\n"
     ]
    },
    {
     "data": {
      "application/vnd.jupyter.widget-view+json": {
       "model_id": "ac348af682874e2aa9a076008d35896d",
       "version_major": 2,
       "version_minor": 0
      },
      "text/plain": [
       "HBox(children=(IntProgress(value=0, max=4092), HTML(value='')))"
      ]
     },
     "metadata": {},
     "output_type": "display_data"
    },
    {
     "name": "stdout",
     "output_type": "stream",
     "text": [
      "0    Camilo Castelo Branco\n",
      "dtype: object\n"
     ]
    },
    {
     "data": {
      "application/vnd.jupyter.widget-view+json": {
       "model_id": "f798434d9c484398857928b5d2becfac",
       "version_major": 2,
       "version_minor": 0
      },
      "text/plain": [
       "HBox(children=(IntProgress(value=0, max=4092), HTML(value='')))"
      ]
     },
     "metadata": {},
     "output_type": "display_data"
    },
    {
     "name": "stdout",
     "output_type": "stream",
     "text": [
      "0    Camilo Castelo Branco\n",
      "dtype: object\n"
     ]
    },
    {
     "data": {
      "application/vnd.jupyter.widget-view+json": {
       "model_id": "9e36f383a706427d9a877fd481cfda93",
       "version_major": 2,
       "version_minor": 0
      },
      "text/plain": [
       "HBox(children=(IntProgress(value=0, max=4092), HTML(value='')))"
      ]
     },
     "metadata": {},
     "output_type": "display_data"
    },
    {
     "name": "stdout",
     "output_type": "stream",
     "text": [
      "0    Camilo Castelo Branco\n",
      "dtype: object\n"
     ]
    },
    {
     "data": {
      "application/vnd.jupyter.widget-view+json": {
       "model_id": "b10cf8302301463dae480e4ccfeb8234",
       "version_major": 2,
       "version_minor": 0
      },
      "text/plain": [
       "HBox(children=(IntProgress(value=0, max=4092), HTML(value='')))"
      ]
     },
     "metadata": {},
     "output_type": "display_data"
    },
    {
     "name": "stdout",
     "output_type": "stream",
     "text": [
      "0    Camilo Castelo Branco\n",
      "dtype: object\n"
     ]
    },
    {
     "data": {
      "application/vnd.jupyter.widget-view+json": {
       "model_id": "a2044bfef05b4fc69c6c7b833405b75f",
       "version_major": 2,
       "version_minor": 0
      },
      "text/plain": [
       "HBox(children=(IntProgress(value=0, max=4092), HTML(value='')))"
      ]
     },
     "metadata": {},
     "output_type": "display_data"
    },
    {
     "name": "stdout",
     "output_type": "stream",
     "text": [
      "0    Camilo Castelo Branco\n",
      "dtype: object\n"
     ]
    },
    {
     "data": {
      "application/vnd.jupyter.widget-view+json": {
       "model_id": "cee7ebe33b5e41568c446174f9027e97",
       "version_major": 2,
       "version_minor": 0
      },
      "text/plain": [
       "HBox(children=(IntProgress(value=0, max=4092), HTML(value='')))"
      ]
     },
     "metadata": {},
     "output_type": "display_data"
    },
    {
     "name": "stdout",
     "output_type": "stream",
     "text": [
      "0    Camilo Castelo Branco\n",
      "dtype: object\n"
     ]
    },
    {
     "data": {
      "application/vnd.jupyter.widget-view+json": {
       "model_id": "ce40553f76bc4639a3fed2a5b7b9f547",
       "version_major": 2,
       "version_minor": 0
      },
      "text/plain": [
       "HBox(children=(IntProgress(value=0, max=4092), HTML(value='')))"
      ]
     },
     "metadata": {},
     "output_type": "display_data"
    },
    {
     "name": "stdout",
     "output_type": "stream",
     "text": [
      "0    Camilo Castelo Branco\n",
      "dtype: object\n"
     ]
    },
    {
     "data": {
      "application/vnd.jupyter.widget-view+json": {
       "model_id": "23c57ef656874e348ca7bb76dbb04498",
       "version_major": 2,
       "version_minor": 0
      },
      "text/plain": [
       "HBox(children=(IntProgress(value=0, max=4092), HTML(value='')))"
      ]
     },
     "metadata": {},
     "output_type": "display_data"
    },
    {
     "name": "stdout",
     "output_type": "stream",
     "text": [
      "0    Camilo Castelo Branco\n",
      "dtype: object\n"
     ]
    },
    {
     "data": {
      "application/vnd.jupyter.widget-view+json": {
       "model_id": "5c0ec4d648894ada9ddd8d674a4e899b",
       "version_major": 2,
       "version_minor": 0
      },
      "text/plain": [
       "HBox(children=(IntProgress(value=0, max=4092), HTML(value='')))"
      ]
     },
     "metadata": {},
     "output_type": "display_data"
    },
    {
     "name": "stdout",
     "output_type": "stream",
     "text": [
      "0    Camilo Castelo Branco\n",
      "dtype: object\n"
     ]
    },
    {
     "data": {
      "application/vnd.jupyter.widget-view+json": {
       "model_id": "f3613d6665714bc8be1a1d2423961256",
       "version_major": 2,
       "version_minor": 0
      },
      "text/plain": [
       "HBox(children=(IntProgress(value=0, max=4092), HTML(value='')))"
      ]
     },
     "metadata": {},
     "output_type": "display_data"
    },
    {
     "name": "stdout",
     "output_type": "stream",
     "text": [
      "0    Camilo Castelo Branco\n",
      "dtype: object\n"
     ]
    },
    {
     "data": {
      "application/vnd.jupyter.widget-view+json": {
       "model_id": "28097af4fb0a48a2bbcddebf12bb9672",
       "version_major": 2,
       "version_minor": 0
      },
      "text/plain": [
       "HBox(children=(IntProgress(value=0, max=4092), HTML(value='')))"
      ]
     },
     "metadata": {},
     "output_type": "display_data"
    },
    {
     "name": "stdout",
     "output_type": "stream",
     "text": [
      "0    Camilo Castelo Branco\n",
      "dtype: object\n"
     ]
    },
    {
     "data": {
      "application/vnd.jupyter.widget-view+json": {
       "model_id": "d26a79c2321140ad94f1b6906cc39f51",
       "version_major": 2,
       "version_minor": 0
      },
      "text/plain": [
       "HBox(children=(IntProgress(value=0, max=4092), HTML(value='')))"
      ]
     },
     "metadata": {},
     "output_type": "display_data"
    },
    {
     "name": "stdout",
     "output_type": "stream",
     "text": [
      "0    Camilo Castelo Branco\n",
      "dtype: object\n"
     ]
    },
    {
     "data": {
      "application/vnd.jupyter.widget-view+json": {
       "model_id": "423b7c77224a4f81a45f510dd10c82c1",
       "version_major": 2,
       "version_minor": 0
      },
      "text/plain": [
       "HBox(children=(IntProgress(value=0, max=4092), HTML(value='')))"
      ]
     },
     "metadata": {},
     "output_type": "display_data"
    },
    {
     "name": "stdout",
     "output_type": "stream",
     "text": [
      "0    Camilo Castelo Branco\n",
      "dtype: object\n"
     ]
    },
    {
     "data": {
      "application/vnd.jupyter.widget-view+json": {
       "model_id": "50cbe075416b4437a391ee15955733f9",
       "version_major": 2,
       "version_minor": 0
      },
      "text/plain": [
       "HBox(children=(IntProgress(value=0, max=4092), HTML(value='')))"
      ]
     },
     "metadata": {},
     "output_type": "display_data"
    },
    {
     "name": "stdout",
     "output_type": "stream",
     "text": [
      "0    Camilo Castelo Branco\n",
      "dtype: object\n"
     ]
    },
    {
     "data": {
      "application/vnd.jupyter.widget-view+json": {
       "model_id": "d5ebfde1a0ff4f73852257857a429e5a",
       "version_major": 2,
       "version_minor": 0
      },
      "text/plain": [
       "HBox(children=(IntProgress(value=0, max=4092), HTML(value='')))"
      ]
     },
     "metadata": {},
     "output_type": "display_data"
    },
    {
     "name": "stdout",
     "output_type": "stream",
     "text": [
      "0    Camilo Castelo Branco\n",
      "dtype: object\n"
     ]
    },
    {
     "data": {
      "application/vnd.jupyter.widget-view+json": {
       "model_id": "12c2712cefb749609dfc84571f6656d0",
       "version_major": 2,
       "version_minor": 0
      },
      "text/plain": [
       "HBox(children=(IntProgress(value=0, max=4092), HTML(value='')))"
      ]
     },
     "metadata": {},
     "output_type": "display_data"
    },
    {
     "name": "stdout",
     "output_type": "stream",
     "text": [
      "0    Camilo Castelo Branco\n",
      "dtype: object\n"
     ]
    },
    {
     "data": {
      "application/vnd.jupyter.widget-view+json": {
       "model_id": "c8894a62bb2a4c3c824e08a07c87aa6b",
       "version_major": 2,
       "version_minor": 0
      },
      "text/plain": [
       "HBox(children=(IntProgress(value=0, max=4092), HTML(value='')))"
      ]
     },
     "metadata": {},
     "output_type": "display_data"
    },
    {
     "name": "stdout",
     "output_type": "stream",
     "text": [
      "0    Camilo Castelo Branco\n",
      "dtype: object\n"
     ]
    },
    {
     "data": {
      "application/vnd.jupyter.widget-view+json": {
       "model_id": "b042d0386a7a4686a5b66ba1e4751eb6",
       "version_major": 2,
       "version_minor": 0
      },
      "text/plain": [
       "HBox(children=(IntProgress(value=0, max=4092), HTML(value='')))"
      ]
     },
     "metadata": {},
     "output_type": "display_data"
    },
    {
     "name": "stdout",
     "output_type": "stream",
     "text": [
      "0    Camilo Castelo Branco\n",
      "dtype: object\n"
     ]
    },
    {
     "data": {
      "application/vnd.jupyter.widget-view+json": {
       "model_id": "7a36d2187a9f4c83af68a84f039751c0",
       "version_major": 2,
       "version_minor": 0
      },
      "text/plain": [
       "HBox(children=(IntProgress(value=0, max=4092), HTML(value='')))"
      ]
     },
     "metadata": {},
     "output_type": "display_data"
    },
    {
     "name": "stdout",
     "output_type": "stream",
     "text": [
      "0    Camilo Castelo Branco\n",
      "dtype: object\n"
     ]
    },
    {
     "data": {
      "application/vnd.jupyter.widget-view+json": {
       "model_id": "142db8f74639455e85110b52ca56c22d",
       "version_major": 2,
       "version_minor": 0
      },
      "text/plain": [
       "HBox(children=(IntProgress(value=0, max=4092), HTML(value='')))"
      ]
     },
     "metadata": {},
     "output_type": "display_data"
    },
    {
     "name": "stdout",
     "output_type": "stream",
     "text": [
      "0    Camilo Castelo Branco\n",
      "dtype: object\n"
     ]
    },
    {
     "data": {
      "application/vnd.jupyter.widget-view+json": {
       "model_id": "0a6a885a483243ceb7e0d820382468ab",
       "version_major": 2,
       "version_minor": 0
      },
      "text/plain": [
       "HBox(children=(IntProgress(value=0, max=4092), HTML(value='')))"
      ]
     },
     "metadata": {},
     "output_type": "display_data"
    },
    {
     "name": "stdout",
     "output_type": "stream",
     "text": [
      "0    Camilo Castelo Branco\n",
      "dtype: object\n"
     ]
    },
    {
     "data": {
      "application/vnd.jupyter.widget-view+json": {
       "model_id": "bfba4d25c67342d683dd56861c2a3f30",
       "version_major": 2,
       "version_minor": 0
      },
      "text/plain": [
       "HBox(children=(IntProgress(value=0, max=4092), HTML(value='')))"
      ]
     },
     "metadata": {},
     "output_type": "display_data"
    },
    {
     "name": "stdout",
     "output_type": "stream",
     "text": [
      "0    Camilo Castelo Branco\n",
      "dtype: object\n"
     ]
    },
    {
     "data": {
      "application/vnd.jupyter.widget-view+json": {
       "model_id": "630fcf8e0524444587d33d3fc33b8053",
       "version_major": 2,
       "version_minor": 0
      },
      "text/plain": [
       "HBox(children=(IntProgress(value=0, max=4092), HTML(value='')))"
      ]
     },
     "metadata": {},
     "output_type": "display_data"
    },
    {
     "name": "stdout",
     "output_type": "stream",
     "text": [
      "0    Camilo Castelo Branco\n",
      "dtype: object\n"
     ]
    },
    {
     "data": {
      "application/vnd.jupyter.widget-view+json": {
       "model_id": "76facf1a044d411bab5fa978dee67939",
       "version_major": 2,
       "version_minor": 0
      },
      "text/plain": [
       "HBox(children=(IntProgress(value=0, max=4092), HTML(value='')))"
      ]
     },
     "metadata": {},
     "output_type": "display_data"
    },
    {
     "name": "stdout",
     "output_type": "stream",
     "text": [
      "0    Camilo Castelo Branco\n",
      "dtype: object\n"
     ]
    },
    {
     "data": {
      "application/vnd.jupyter.widget-view+json": {
       "model_id": "cef2489044dc41a09b0653523f95df59",
       "version_major": 2,
       "version_minor": 0
      },
      "text/plain": [
       "HBox(children=(IntProgress(value=0, max=4092), HTML(value='')))"
      ]
     },
     "metadata": {},
     "output_type": "display_data"
    },
    {
     "name": "stdout",
     "output_type": "stream",
     "text": [
      "0    Camilo Castelo Branco\n",
      "dtype: object\n"
     ]
    },
    {
     "data": {
      "application/vnd.jupyter.widget-view+json": {
       "model_id": "e1f5d22fcdd74ab098ced1a7cfa28eeb",
       "version_major": 2,
       "version_minor": 0
      },
      "text/plain": [
       "HBox(children=(IntProgress(value=0, max=4092), HTML(value='')))"
      ]
     },
     "metadata": {},
     "output_type": "display_data"
    },
    {
     "name": "stdout",
     "output_type": "stream",
     "text": [
      "0    Camilo Castelo Branco\n",
      "dtype: object\n"
     ]
    },
    {
     "data": {
      "application/vnd.jupyter.widget-view+json": {
       "model_id": "01edf98813794897817d5aca3c8bee6b",
       "version_major": 2,
       "version_minor": 0
      },
      "text/plain": [
       "HBox(children=(IntProgress(value=0, max=4092), HTML(value='')))"
      ]
     },
     "metadata": {},
     "output_type": "display_data"
    },
    {
     "name": "stdout",
     "output_type": "stream",
     "text": [
      "0    Camilo Castelo Branco\n",
      "dtype: object\n"
     ]
    },
    {
     "data": {
      "application/vnd.jupyter.widget-view+json": {
       "model_id": "65d8cfca902c4fd0aa1dfbd60cabfa1a",
       "version_major": 2,
       "version_minor": 0
      },
      "text/plain": [
       "HBox(children=(IntProgress(value=0, max=4092), HTML(value='')))"
      ]
     },
     "metadata": {},
     "output_type": "display_data"
    },
    {
     "name": "stdout",
     "output_type": "stream",
     "text": [
      "0    Camilo Castelo Branco\n",
      "dtype: object\n"
     ]
    },
    {
     "data": {
      "application/vnd.jupyter.widget-view+json": {
       "model_id": "8cf6a0d673b34f1db159c8410643f407",
       "version_major": 2,
       "version_minor": 0
      },
      "text/plain": [
       "HBox(children=(IntProgress(value=0, max=4092), HTML(value='')))"
      ]
     },
     "metadata": {},
     "output_type": "display_data"
    },
    {
     "name": "stdout",
     "output_type": "stream",
     "text": [
      "0    Camilo Castelo Branco\n",
      "dtype: object\n"
     ]
    },
    {
     "data": {
      "application/vnd.jupyter.widget-view+json": {
       "model_id": "cd30c266c955440fa59d82cb9ff676b9",
       "version_major": 2,
       "version_minor": 0
      },
      "text/plain": [
       "HBox(children=(IntProgress(value=0, max=4092), HTML(value='')))"
      ]
     },
     "metadata": {},
     "output_type": "display_data"
    },
    {
     "name": "stdout",
     "output_type": "stream",
     "text": [
      "0    Camilo Castelo Branco\n",
      "dtype: object\n"
     ]
    },
    {
     "data": {
      "application/vnd.jupyter.widget-view+json": {
       "model_id": "4f86e2b5ac4c466892e863f31c959c1b",
       "version_major": 2,
       "version_minor": 0
      },
      "text/plain": [
       "HBox(children=(IntProgress(value=0, max=4092), HTML(value='')))"
      ]
     },
     "metadata": {},
     "output_type": "display_data"
    },
    {
     "name": "stdout",
     "output_type": "stream",
     "text": [
      "0    Camilo Castelo Branco\n",
      "dtype: object\n"
     ]
    },
    {
     "data": {
      "application/vnd.jupyter.widget-view+json": {
       "model_id": "f16e73ff7fb14cbb94d8bc0cb077a295",
       "version_major": 2,
       "version_minor": 0
      },
      "text/plain": [
       "HBox(children=(IntProgress(value=0, max=4092), HTML(value='')))"
      ]
     },
     "metadata": {},
     "output_type": "display_data"
    },
    {
     "name": "stdout",
     "output_type": "stream",
     "text": [
      "0    Camilo Castelo Branco\n",
      "dtype: object\n"
     ]
    },
    {
     "data": {
      "application/vnd.jupyter.widget-view+json": {
       "model_id": "826810c794d9473282b5d24aada9481f",
       "version_major": 2,
       "version_minor": 0
      },
      "text/plain": [
       "HBox(children=(IntProgress(value=0, max=4092), HTML(value='')))"
      ]
     },
     "metadata": {},
     "output_type": "display_data"
    },
    {
     "name": "stdout",
     "output_type": "stream",
     "text": [
      "0    Camilo Castelo Branco\n",
      "dtype: object\n"
     ]
    },
    {
     "data": {
      "application/vnd.jupyter.widget-view+json": {
       "model_id": "738ea8a88d1d405590de5c89270f091a",
       "version_major": 2,
       "version_minor": 0
      },
      "text/plain": [
       "HBox(children=(IntProgress(value=0, max=4092), HTML(value='')))"
      ]
     },
     "metadata": {},
     "output_type": "display_data"
    },
    {
     "name": "stdout",
     "output_type": "stream",
     "text": [
      "0    Camilo Castelo Branco\n",
      "dtype: object\n"
     ]
    },
    {
     "data": {
      "application/vnd.jupyter.widget-view+json": {
       "model_id": "8bd47aaf00a242cfaf02cf0c8d9a1a43",
       "version_major": 2,
       "version_minor": 0
      },
      "text/plain": [
       "HBox(children=(IntProgress(value=0, max=4092), HTML(value='')))"
      ]
     },
     "metadata": {},
     "output_type": "display_data"
    },
    {
     "name": "stdout",
     "output_type": "stream",
     "text": [
      "0    Camilo Castelo Branco\n",
      "dtype: object\n"
     ]
    },
    {
     "data": {
      "application/vnd.jupyter.widget-view+json": {
       "model_id": "8c37186abbff425485bd464fd6d0a8ba",
       "version_major": 2,
       "version_minor": 0
      },
      "text/plain": [
       "HBox(children=(IntProgress(value=0, max=4092), HTML(value='')))"
      ]
     },
     "metadata": {},
     "output_type": "display_data"
    },
    {
     "name": "stdout",
     "output_type": "stream",
     "text": [
      "0    Camilo Castelo Branco\n",
      "dtype: object\n"
     ]
    },
    {
     "data": {
      "application/vnd.jupyter.widget-view+json": {
       "model_id": "d1268dc1004146de81fb89dc704204a6",
       "version_major": 2,
       "version_minor": 0
      },
      "text/plain": [
       "HBox(children=(IntProgress(value=0, max=4092), HTML(value='')))"
      ]
     },
     "metadata": {},
     "output_type": "display_data"
    },
    {
     "name": "stdout",
     "output_type": "stream",
     "text": [
      "0    Camilo Castelo Branco\n",
      "dtype: object\n"
     ]
    },
    {
     "data": {
      "application/vnd.jupyter.widget-view+json": {
       "model_id": "5ae8ed9491204061824e1e14f37ea831",
       "version_major": 2,
       "version_minor": 0
      },
      "text/plain": [
       "HBox(children=(IntProgress(value=0, max=4092), HTML(value='')))"
      ]
     },
     "metadata": {},
     "output_type": "display_data"
    },
    {
     "name": "stdout",
     "output_type": "stream",
     "text": [
      "0    Camilo Castelo Branco\n",
      "dtype: object\n"
     ]
    },
    {
     "data": {
      "application/vnd.jupyter.widget-view+json": {
       "model_id": "b057baabb94740c183cbfc2b37f1ec41",
       "version_major": 2,
       "version_minor": 0
      },
      "text/plain": [
       "HBox(children=(IntProgress(value=0, max=4092), HTML(value='')))"
      ]
     },
     "metadata": {},
     "output_type": "display_data"
    },
    {
     "name": "stdout",
     "output_type": "stream",
     "text": [
      "0    Camilo Castelo Branco\n",
      "dtype: object\n"
     ]
    },
    {
     "data": {
      "application/vnd.jupyter.widget-view+json": {
       "model_id": "3ce497781723417fa35ed21285d417fe",
       "version_major": 2,
       "version_minor": 0
      },
      "text/plain": [
       "HBox(children=(IntProgress(value=0, max=4092), HTML(value='')))"
      ]
     },
     "metadata": {},
     "output_type": "display_data"
    },
    {
     "name": "stdout",
     "output_type": "stream",
     "text": [
      "0    Camilo Castelo Branco\n",
      "dtype: object\n"
     ]
    },
    {
     "data": {
      "application/vnd.jupyter.widget-view+json": {
       "model_id": "12546cbaafb34f478d05a42881c9dfec",
       "version_major": 2,
       "version_minor": 0
      },
      "text/plain": [
       "HBox(children=(IntProgress(value=0, max=4092), HTML(value='')))"
      ]
     },
     "metadata": {},
     "output_type": "display_data"
    },
    {
     "name": "stdout",
     "output_type": "stream",
     "text": [
      "0    Camilo Castelo Branco\n",
      "dtype: object\n"
     ]
    },
    {
     "data": {
      "application/vnd.jupyter.widget-view+json": {
       "model_id": "564dfd7db20d46f3adcd4a3778d7c6c8",
       "version_major": 2,
       "version_minor": 0
      },
      "text/plain": [
       "HBox(children=(IntProgress(value=0, max=4092), HTML(value='')))"
      ]
     },
     "metadata": {},
     "output_type": "display_data"
    },
    {
     "name": "stdout",
     "output_type": "stream",
     "text": [
      "0    Camilo Castelo Branco\n",
      "dtype: object\n"
     ]
    },
    {
     "data": {
      "application/vnd.jupyter.widget-view+json": {
       "model_id": "4c19d019e5b6468d9bafee264f1f9490",
       "version_major": 2,
       "version_minor": 0
      },
      "text/plain": [
       "HBox(children=(IntProgress(value=0, max=4092), HTML(value='')))"
      ]
     },
     "metadata": {},
     "output_type": "display_data"
    },
    {
     "name": "stdout",
     "output_type": "stream",
     "text": [
      "0    Camilo Castelo Branco\n",
      "dtype: object\n"
     ]
    },
    {
     "data": {
      "application/vnd.jupyter.widget-view+json": {
       "model_id": "d53126eff94341b7bec98542b9fba6c6",
       "version_major": 2,
       "version_minor": 0
      },
      "text/plain": [
       "HBox(children=(IntProgress(value=0, max=4092), HTML(value='')))"
      ]
     },
     "metadata": {},
     "output_type": "display_data"
    },
    {
     "name": "stdout",
     "output_type": "stream",
     "text": [
      "0    Camilo Castelo Branco\n",
      "dtype: object\n"
     ]
    },
    {
     "data": {
      "application/vnd.jupyter.widget-view+json": {
       "model_id": "503fd671e66d4a8f88977e0906fe5529",
       "version_major": 2,
       "version_minor": 0
      },
      "text/plain": [
       "HBox(children=(IntProgress(value=0, max=4092), HTML(value='')))"
      ]
     },
     "metadata": {},
     "output_type": "display_data"
    },
    {
     "name": "stdout",
     "output_type": "stream",
     "text": [
      "0    Camilo Castelo Branco\n",
      "dtype: object\n"
     ]
    },
    {
     "data": {
      "application/vnd.jupyter.widget-view+json": {
       "model_id": "574ff2293c994b5ba8ad32fe83de48fe",
       "version_major": 2,
       "version_minor": 0
      },
      "text/plain": [
       "HBox(children=(IntProgress(value=0, max=4092), HTML(value='')))"
      ]
     },
     "metadata": {},
     "output_type": "display_data"
    },
    {
     "name": "stdout",
     "output_type": "stream",
     "text": [
      "0    Camilo Castelo Branco\n",
      "dtype: object\n"
     ]
    },
    {
     "data": {
      "application/vnd.jupyter.widget-view+json": {
       "model_id": "a4d08fdc47164fa985f68c0dd543424a",
       "version_major": 2,
       "version_minor": 0
      },
      "text/plain": [
       "HBox(children=(IntProgress(value=0, max=4092), HTML(value='')))"
      ]
     },
     "metadata": {},
     "output_type": "display_data"
    },
    {
     "name": "stdout",
     "output_type": "stream",
     "text": [
      "0    Camilo Castelo Branco\n",
      "dtype: object\n"
     ]
    },
    {
     "data": {
      "application/vnd.jupyter.widget-view+json": {
       "model_id": "559fa59f6ca74a03af93f4c99a797fbb",
       "version_major": 2,
       "version_minor": 0
      },
      "text/plain": [
       "HBox(children=(IntProgress(value=0, max=4092), HTML(value='')))"
      ]
     },
     "metadata": {},
     "output_type": "display_data"
    },
    {
     "name": "stdout",
     "output_type": "stream",
     "text": [
      "0    Camilo Castelo Branco\n",
      "dtype: object\n"
     ]
    },
    {
     "data": {
      "application/vnd.jupyter.widget-view+json": {
       "model_id": "c3da03a115ca40c1b885436ac7acf670",
       "version_major": 2,
       "version_minor": 0
      },
      "text/plain": [
       "HBox(children=(IntProgress(value=0, max=4092), HTML(value='')))"
      ]
     },
     "metadata": {},
     "output_type": "display_data"
    },
    {
     "name": "stdout",
     "output_type": "stream",
     "text": [
      "0    Camilo Castelo Branco\n",
      "dtype: object\n"
     ]
    },
    {
     "data": {
      "application/vnd.jupyter.widget-view+json": {
       "model_id": "46558f8eb2bc4dc788d26701576f9814",
       "version_major": 2,
       "version_minor": 0
      },
      "text/plain": [
       "HBox(children=(IntProgress(value=0, max=4092), HTML(value='')))"
      ]
     },
     "metadata": {},
     "output_type": "display_data"
    },
    {
     "name": "stdout",
     "output_type": "stream",
     "text": [
      "0    Camilo Castelo Branco\n",
      "dtype: object\n"
     ]
    },
    {
     "data": {
      "application/vnd.jupyter.widget-view+json": {
       "model_id": "f95cf489e3d147f394e1395a2d7e4155",
       "version_major": 2,
       "version_minor": 0
      },
      "text/plain": [
       "HBox(children=(IntProgress(value=0, max=4092), HTML(value='')))"
      ]
     },
     "metadata": {},
     "output_type": "display_data"
    },
    {
     "name": "stdout",
     "output_type": "stream",
     "text": [
      "0    Camilo Castelo Branco\n",
      "dtype: object\n"
     ]
    },
    {
     "data": {
      "application/vnd.jupyter.widget-view+json": {
       "model_id": "fcdd9b52645d43e8a39992e2c9ddf1d9",
       "version_major": 2,
       "version_minor": 0
      },
      "text/plain": [
       "HBox(children=(IntProgress(value=0, max=4092), HTML(value='')))"
      ]
     },
     "metadata": {},
     "output_type": "display_data"
    },
    {
     "name": "stdout",
     "output_type": "stream",
     "text": [
      "0    Camilo Castelo Branco\n",
      "dtype: object\n"
     ]
    },
    {
     "data": {
      "application/vnd.jupyter.widget-view+json": {
       "model_id": "b94bfd24eecb40eb910f475ad702dd47",
       "version_major": 2,
       "version_minor": 0
      },
      "text/plain": [
       "HBox(children=(IntProgress(value=0, max=4092), HTML(value='')))"
      ]
     },
     "metadata": {},
     "output_type": "display_data"
    },
    {
     "name": "stdout",
     "output_type": "stream",
     "text": [
      "0    Camilo Castelo Branco\n",
      "dtype: object\n"
     ]
    },
    {
     "data": {
      "application/vnd.jupyter.widget-view+json": {
       "model_id": "b0492219b0cf4c96803485c4211a4ad5",
       "version_major": 2,
       "version_minor": 0
      },
      "text/plain": [
       "HBox(children=(IntProgress(value=0, max=4092), HTML(value='')))"
      ]
     },
     "metadata": {},
     "output_type": "display_data"
    },
    {
     "name": "stdout",
     "output_type": "stream",
     "text": [
      "0    Camilo Castelo Branco\n",
      "dtype: object\n"
     ]
    },
    {
     "data": {
      "application/vnd.jupyter.widget-view+json": {
       "model_id": "d7c1ab675f3f4c35af9102100211f1c7",
       "version_major": 2,
       "version_minor": 0
      },
      "text/plain": [
       "HBox(children=(IntProgress(value=0, max=4092), HTML(value='')))"
      ]
     },
     "metadata": {},
     "output_type": "display_data"
    },
    {
     "name": "stdout",
     "output_type": "stream",
     "text": [
      "0    Camilo Castelo Branco\n",
      "dtype: object\n"
     ]
    },
    {
     "data": {
      "application/vnd.jupyter.widget-view+json": {
       "model_id": "0bfe6499dd1a42a19cfc44e44e14997d",
       "version_major": 2,
       "version_minor": 0
      },
      "text/plain": [
       "HBox(children=(IntProgress(value=0, max=4092), HTML(value='')))"
      ]
     },
     "metadata": {},
     "output_type": "display_data"
    },
    {
     "name": "stdout",
     "output_type": "stream",
     "text": [
      "0    Camilo Castelo Branco\n",
      "dtype: object\n"
     ]
    },
    {
     "data": {
      "application/vnd.jupyter.widget-view+json": {
       "model_id": "0a7234d79c4e4dbf89de6befccb792b1",
       "version_major": 2,
       "version_minor": 0
      },
      "text/plain": [
       "HBox(children=(IntProgress(value=0, max=4092), HTML(value='')))"
      ]
     },
     "metadata": {},
     "output_type": "display_data"
    },
    {
     "name": "stdout",
     "output_type": "stream",
     "text": [
      "0    Camilo Castelo Branco\n",
      "dtype: object\n"
     ]
    },
    {
     "data": {
      "application/vnd.jupyter.widget-view+json": {
       "model_id": "7f38dec8742541009d3778739f278751",
       "version_major": 2,
       "version_minor": 0
      },
      "text/plain": [
       "HBox(children=(IntProgress(value=0, max=4092), HTML(value='')))"
      ]
     },
     "metadata": {},
     "output_type": "display_data"
    },
    {
     "name": "stdout",
     "output_type": "stream",
     "text": [
      "0    Camilo Castelo Branco\n",
      "dtype: object\n"
     ]
    },
    {
     "data": {
      "application/vnd.jupyter.widget-view+json": {
       "model_id": "01be07e81aae441e993b8b4d092065cc",
       "version_major": 2,
       "version_minor": 0
      },
      "text/plain": [
       "HBox(children=(IntProgress(value=0, max=4092), HTML(value='')))"
      ]
     },
     "metadata": {},
     "output_type": "display_data"
    },
    {
     "name": "stdout",
     "output_type": "stream",
     "text": [
      "0    Camilo Castelo Branco\n",
      "dtype: object\n"
     ]
    },
    {
     "data": {
      "application/vnd.jupyter.widget-view+json": {
       "model_id": "81085186e842445fb56cdc63d3b51814",
       "version_major": 2,
       "version_minor": 0
      },
      "text/plain": [
       "HBox(children=(IntProgress(value=0, max=4092), HTML(value='')))"
      ]
     },
     "metadata": {},
     "output_type": "display_data"
    },
    {
     "name": "stdout",
     "output_type": "stream",
     "text": [
      "0    Camilo Castelo Branco\n",
      "dtype: object\n"
     ]
    },
    {
     "data": {
      "application/vnd.jupyter.widget-view+json": {
       "model_id": "b64ab073ae3b4b42b4b8a150d159de6e",
       "version_major": 2,
       "version_minor": 0
      },
      "text/plain": [
       "HBox(children=(IntProgress(value=0, max=4092), HTML(value='')))"
      ]
     },
     "metadata": {},
     "output_type": "display_data"
    },
    {
     "name": "stdout",
     "output_type": "stream",
     "text": [
      "0    Camilo Castelo Branco\n",
      "dtype: object\n"
     ]
    },
    {
     "data": {
      "application/vnd.jupyter.widget-view+json": {
       "model_id": "7a36351238e24ec2ac45521b4507d5da",
       "version_major": 2,
       "version_minor": 0
      },
      "text/plain": [
       "HBox(children=(IntProgress(value=0, max=4092), HTML(value='')))"
      ]
     },
     "metadata": {},
     "output_type": "display_data"
    },
    {
     "name": "stdout",
     "output_type": "stream",
     "text": [
      "0    Camilo Castelo Branco\n",
      "dtype: object\n"
     ]
    },
    {
     "data": {
      "application/vnd.jupyter.widget-view+json": {
       "model_id": "1c73934f53024e13a18a26bbd634abc1",
       "version_major": 2,
       "version_minor": 0
      },
      "text/plain": [
       "HBox(children=(IntProgress(value=0, max=4092), HTML(value='')))"
      ]
     },
     "metadata": {},
     "output_type": "display_data"
    },
    {
     "name": "stdout",
     "output_type": "stream",
     "text": [
      "0    Camilo Castelo Branco\n",
      "dtype: object\n"
     ]
    },
    {
     "data": {
      "application/vnd.jupyter.widget-view+json": {
       "model_id": "94fb40d69f1345168d5331a0a8414fcc",
       "version_major": 2,
       "version_minor": 0
      },
      "text/plain": [
       "HBox(children=(IntProgress(value=0, max=4092), HTML(value='')))"
      ]
     },
     "metadata": {},
     "output_type": "display_data"
    },
    {
     "name": "stdout",
     "output_type": "stream",
     "text": [
      "0    Camilo Castelo Branco\n",
      "dtype: object\n"
     ]
    },
    {
     "data": {
      "application/vnd.jupyter.widget-view+json": {
       "model_id": "c26d198572be4516af012a8616e8ff7d",
       "version_major": 2,
       "version_minor": 0
      },
      "text/plain": [
       "HBox(children=(IntProgress(value=0, max=4092), HTML(value='')))"
      ]
     },
     "metadata": {},
     "output_type": "display_data"
    },
    {
     "name": "stdout",
     "output_type": "stream",
     "text": [
      "0    Camilo Castelo Branco\n",
      "dtype: object\n"
     ]
    },
    {
     "data": {
      "application/vnd.jupyter.widget-view+json": {
       "model_id": "30b82738c9514034b69512ee16eb81ae",
       "version_major": 2,
       "version_minor": 0
      },
      "text/plain": [
       "HBox(children=(IntProgress(value=0, max=4092), HTML(value='')))"
      ]
     },
     "metadata": {},
     "output_type": "display_data"
    },
    {
     "name": "stdout",
     "output_type": "stream",
     "text": [
      "0    Camilo Castelo Branco\n",
      "dtype: object\n"
     ]
    },
    {
     "data": {
      "application/vnd.jupyter.widget-view+json": {
       "model_id": "3eb83c3f1a9c4059bae5e6213fd8b2b6",
       "version_major": 2,
       "version_minor": 0
      },
      "text/plain": [
       "HBox(children=(IntProgress(value=0, max=4092), HTML(value='')))"
      ]
     },
     "metadata": {},
     "output_type": "display_data"
    },
    {
     "name": "stdout",
     "output_type": "stream",
     "text": [
      "0    Camilo Castelo Branco\n",
      "dtype: object\n"
     ]
    },
    {
     "data": {
      "application/vnd.jupyter.widget-view+json": {
       "model_id": "622bc76f040b458e88d837fb1b46972e",
       "version_major": 2,
       "version_minor": 0
      },
      "text/plain": [
       "HBox(children=(IntProgress(value=0, max=4092), HTML(value='')))"
      ]
     },
     "metadata": {},
     "output_type": "display_data"
    },
    {
     "name": "stdout",
     "output_type": "stream",
     "text": [
      "0    Camilo Castelo Branco\n",
      "dtype: object\n"
     ]
    },
    {
     "data": {
      "application/vnd.jupyter.widget-view+json": {
       "model_id": "779bd6f961f54b88a0f0c31466d8717a",
       "version_major": 2,
       "version_minor": 0
      },
      "text/plain": [
       "HBox(children=(IntProgress(value=0, max=4092), HTML(value='')))"
      ]
     },
     "metadata": {},
     "output_type": "display_data"
    },
    {
     "name": "stdout",
     "output_type": "stream",
     "text": [
      "0    Camilo Castelo Branco\n",
      "dtype: object\n"
     ]
    },
    {
     "data": {
      "application/vnd.jupyter.widget-view+json": {
       "model_id": "733634397ba84903b4d793aab64f33c6",
       "version_major": 2,
       "version_minor": 0
      },
      "text/plain": [
       "HBox(children=(IntProgress(value=0, max=4092), HTML(value='')))"
      ]
     },
     "metadata": {},
     "output_type": "display_data"
    },
    {
     "name": "stdout",
     "output_type": "stream",
     "text": [
      "0    Eca de Queiros\n",
      "dtype: object\n"
     ]
    },
    {
     "data": {
      "application/vnd.jupyter.widget-view+json": {
       "model_id": "a9e4292379c74ba8987fd45bf4649ac6",
       "version_major": 2,
       "version_minor": 0
      },
      "text/plain": [
       "HBox(children=(IntProgress(value=0, max=4092), HTML(value='')))"
      ]
     },
     "metadata": {},
     "output_type": "display_data"
    },
    {
     "name": "stdout",
     "output_type": "stream",
     "text": [
      "0    Eca de Queiros\n",
      "dtype: object\n"
     ]
    },
    {
     "data": {
      "application/vnd.jupyter.widget-view+json": {
       "model_id": "320a5c331b1344bc929387706ad4a1b9",
       "version_major": 2,
       "version_minor": 0
      },
      "text/plain": [
       "HBox(children=(IntProgress(value=0, max=4092), HTML(value='')))"
      ]
     },
     "metadata": {},
     "output_type": "display_data"
    },
    {
     "name": "stdout",
     "output_type": "stream",
     "text": [
      "0    Eca de Queiros\n",
      "dtype: object\n"
     ]
    },
    {
     "data": {
      "application/vnd.jupyter.widget-view+json": {
       "model_id": "7e2606a9ba3042e1b0a4ae5fbf1de20f",
       "version_major": 2,
       "version_minor": 0
      },
      "text/plain": [
       "HBox(children=(IntProgress(value=0, max=4092), HTML(value='')))"
      ]
     },
     "metadata": {},
     "output_type": "display_data"
    },
    {
     "name": "stdout",
     "output_type": "stream",
     "text": [
      "0    Eca de Queiros\n",
      "dtype: object\n"
     ]
    },
    {
     "data": {
      "application/vnd.jupyter.widget-view+json": {
       "model_id": "0b67494d01fe436cb105287ba7419ddd",
       "version_major": 2,
       "version_minor": 0
      },
      "text/plain": [
       "HBox(children=(IntProgress(value=0, max=4092), HTML(value='')))"
      ]
     },
     "metadata": {},
     "output_type": "display_data"
    },
    {
     "name": "stdout",
     "output_type": "stream",
     "text": [
      "0    Eca de Queiros\n",
      "dtype: object\n"
     ]
    },
    {
     "data": {
      "application/vnd.jupyter.widget-view+json": {
       "model_id": "dae74887aa49423090c41a6b1fc51eef",
       "version_major": 2,
       "version_minor": 0
      },
      "text/plain": [
       "HBox(children=(IntProgress(value=0, max=4092), HTML(value='')))"
      ]
     },
     "metadata": {},
     "output_type": "display_data"
    },
    {
     "name": "stdout",
     "output_type": "stream",
     "text": [
      "0    Eca de Queiros\n",
      "dtype: object\n"
     ]
    },
    {
     "data": {
      "application/vnd.jupyter.widget-view+json": {
       "model_id": "c456f0e4f37948e0822fea624eb0e8e6",
       "version_major": 2,
       "version_minor": 0
      },
      "text/plain": [
       "HBox(children=(IntProgress(value=0, max=4092), HTML(value='')))"
      ]
     },
     "metadata": {},
     "output_type": "display_data"
    },
    {
     "name": "stdout",
     "output_type": "stream",
     "text": [
      "0    Eca de Queiros\n",
      "dtype: object\n"
     ]
    },
    {
     "data": {
      "application/vnd.jupyter.widget-view+json": {
       "model_id": "6e85d7f2b4014fdf8d3c5a50d707b679",
       "version_major": 2,
       "version_minor": 0
      },
      "text/plain": [
       "HBox(children=(IntProgress(value=0, max=4092), HTML(value='')))"
      ]
     },
     "metadata": {},
     "output_type": "display_data"
    },
    {
     "name": "stdout",
     "output_type": "stream",
     "text": [
      "0    Eca de Queiros\n",
      "dtype: object\n"
     ]
    },
    {
     "data": {
      "application/vnd.jupyter.widget-view+json": {
       "model_id": "da8d9b181852464da7f56e6677092c9d",
       "version_major": 2,
       "version_minor": 0
      },
      "text/plain": [
       "HBox(children=(IntProgress(value=0, max=4092), HTML(value='')))"
      ]
     },
     "metadata": {},
     "output_type": "display_data"
    },
    {
     "name": "stdout",
     "output_type": "stream",
     "text": [
      "0    Eca de Queiros\n",
      "dtype: object\n"
     ]
    },
    {
     "data": {
      "application/vnd.jupyter.widget-view+json": {
       "model_id": "1fdd1ba4da6f49da941617834f254128",
       "version_major": 2,
       "version_minor": 0
      },
      "text/plain": [
       "HBox(children=(IntProgress(value=0, max=4092), HTML(value='')))"
      ]
     },
     "metadata": {},
     "output_type": "display_data"
    },
    {
     "name": "stdout",
     "output_type": "stream",
     "text": [
      "0    Eca de Queiros\n",
      "dtype: object\n"
     ]
    },
    {
     "data": {
      "application/vnd.jupyter.widget-view+json": {
       "model_id": "9d46bbe7b45245ce835ff2e74ddcfe57",
       "version_major": 2,
       "version_minor": 0
      },
      "text/plain": [
       "HBox(children=(IntProgress(value=0, max=4092), HTML(value='')))"
      ]
     },
     "metadata": {},
     "output_type": "display_data"
    },
    {
     "name": "stdout",
     "output_type": "stream",
     "text": [
      "0    Eca de Queiros\n",
      "dtype: object\n"
     ]
    },
    {
     "data": {
      "application/vnd.jupyter.widget-view+json": {
       "model_id": "575b924d10da45979c565861ac877309",
       "version_major": 2,
       "version_minor": 0
      },
      "text/plain": [
       "HBox(children=(IntProgress(value=0, max=4092), HTML(value='')))"
      ]
     },
     "metadata": {},
     "output_type": "display_data"
    },
    {
     "name": "stdout",
     "output_type": "stream",
     "text": [
      "0    Eca de Queiros\n",
      "dtype: object\n"
     ]
    },
    {
     "data": {
      "application/vnd.jupyter.widget-view+json": {
       "model_id": "b941838cf1014c5d9a45dc5bb994148f",
       "version_major": 2,
       "version_minor": 0
      },
      "text/plain": [
       "HBox(children=(IntProgress(value=0, max=4092), HTML(value='')))"
      ]
     },
     "metadata": {},
     "output_type": "display_data"
    },
    {
     "name": "stdout",
     "output_type": "stream",
     "text": [
      "0    Eca de Queiros\n",
      "dtype: object\n"
     ]
    },
    {
     "data": {
      "application/vnd.jupyter.widget-view+json": {
       "model_id": "b9ac6583b8db4f7abe5189dc3a16a3d1",
       "version_major": 2,
       "version_minor": 0
      },
      "text/plain": [
       "HBox(children=(IntProgress(value=0, max=4092), HTML(value='')))"
      ]
     },
     "metadata": {},
     "output_type": "display_data"
    },
    {
     "name": "stdout",
     "output_type": "stream",
     "text": [
      "0    Eca de Queiros\n",
      "dtype: object\n"
     ]
    },
    {
     "data": {
      "application/vnd.jupyter.widget-view+json": {
       "model_id": "8924ee2a2b83429c910aeed8c7840de3",
       "version_major": 2,
       "version_minor": 0
      },
      "text/plain": [
       "HBox(children=(IntProgress(value=0, max=4092), HTML(value='')))"
      ]
     },
     "metadata": {},
     "output_type": "display_data"
    },
    {
     "name": "stdout",
     "output_type": "stream",
     "text": [
      "0    Eca de Queiros\n",
      "dtype: object\n"
     ]
    },
    {
     "data": {
      "application/vnd.jupyter.widget-view+json": {
       "model_id": "c86e6d7095f94acaaac9a473fe20168d",
       "version_major": 2,
       "version_minor": 0
      },
      "text/plain": [
       "HBox(children=(IntProgress(value=0, max=4092), HTML(value='')))"
      ]
     },
     "metadata": {},
     "output_type": "display_data"
    },
    {
     "ename": "KeyboardInterrupt",
     "evalue": "",
     "output_type": "error",
     "traceback": [
      "\u001b[1;31m---------------------------------------------------------------------------\u001b[0m",
      "\u001b[1;31mKeyboardInterrupt\u001b[0m                         Traceback (most recent call last)",
      "\u001b[1;32m<ipython-input-123-467a60249486>\u001b[0m in \u001b[0;36m<module>\u001b[1;34m\u001b[0m\n\u001b[1;32m----> 1\u001b[1;33m \u001b[0mdummy_algorithm\u001b[0m\u001b[1;33m(\u001b[0m\u001b[0mcorpora_train_1\u001b[0m\u001b[1;33m,\u001b[0m\u001b[0mcorpora_test_1\u001b[0m\u001b[1;33m,\u001b[0m\u001b[1;36m5\u001b[0m\u001b[1;33m)\u001b[0m\u001b[1;33m\u001b[0m\u001b[1;33m\u001b[0m\u001b[0m\n\u001b[0m",
      "\u001b[1;32m<ipython-input-122-975e84c74a58>\u001b[0m in \u001b[0;36mdummy_algorithm\u001b[1;34m(train, test, k)\u001b[0m\n\u001b[0;32m     10\u001b[0m             \u001b[1;31m#if the word in the corpora text is also in the text we want to classify then the corpora text gets a point\u001b[0m\u001b[1;33m\u001b[0m\u001b[1;33m\u001b[0m\u001b[1;33m\u001b[0m\u001b[0m\n\u001b[0;32m     11\u001b[0m             \u001b[1;32mfor\u001b[0m \u001b[0mword\u001b[0m \u001b[1;32min\u001b[0m \u001b[0mtext\u001b[0m\u001b[1;33m:\u001b[0m\u001b[1;33m\u001b[0m\u001b[1;33m\u001b[0m\u001b[0m\n\u001b[1;32m---> 12\u001b[1;33m                 \u001b[1;32mif\u001b[0m \u001b[0mword\u001b[0m \u001b[1;32min\u001b[0m \u001b[0mcorpora\u001b[0m\u001b[1;33m[\u001b[0m\u001b[1;34m'500 Word List'\u001b[0m\u001b[1;33m]\u001b[0m\u001b[1;33m[\u001b[0m\u001b[0mi\u001b[0m\u001b[1;33m]\u001b[0m\u001b[1;33m:\u001b[0m\u001b[1;33m\u001b[0m\u001b[1;33m\u001b[0m\u001b[0m\n\u001b[0m\u001b[0;32m     13\u001b[0m                     \u001b[0msim\u001b[0m \u001b[1;33m+=\u001b[0m \u001b[1;36m1\u001b[0m\u001b[1;33m\u001b[0m\u001b[1;33m\u001b[0m\u001b[0m\n\u001b[0;32m     14\u001b[0m \u001b[1;33m\u001b[0m\u001b[0m\n",
      "\u001b[1;32m~\\Anaconda3\\lib\\site-packages\\pandas\\core\\series.py\u001b[0m in \u001b[0;36m__getitem__\u001b[1;34m(self, key)\u001b[0m\n\u001b[0;32m    866\u001b[0m         \u001b[0mkey\u001b[0m \u001b[1;33m=\u001b[0m \u001b[0mcom\u001b[0m\u001b[1;33m.\u001b[0m\u001b[0mapply_if_callable\u001b[0m\u001b[1;33m(\u001b[0m\u001b[0mkey\u001b[0m\u001b[1;33m,\u001b[0m \u001b[0mself\u001b[0m\u001b[1;33m)\u001b[0m\u001b[1;33m\u001b[0m\u001b[1;33m\u001b[0m\u001b[0m\n\u001b[0;32m    867\u001b[0m         \u001b[1;32mtry\u001b[0m\u001b[1;33m:\u001b[0m\u001b[1;33m\u001b[0m\u001b[1;33m\u001b[0m\u001b[0m\n\u001b[1;32m--> 868\u001b[1;33m             \u001b[0mresult\u001b[0m \u001b[1;33m=\u001b[0m \u001b[0mself\u001b[0m\u001b[1;33m.\u001b[0m\u001b[0mindex\u001b[0m\u001b[1;33m.\u001b[0m\u001b[0mget_value\u001b[0m\u001b[1;33m(\u001b[0m\u001b[0mself\u001b[0m\u001b[1;33m,\u001b[0m \u001b[0mkey\u001b[0m\u001b[1;33m)\u001b[0m\u001b[1;33m\u001b[0m\u001b[1;33m\u001b[0m\u001b[0m\n\u001b[0m\u001b[0;32m    869\u001b[0m \u001b[1;33m\u001b[0m\u001b[0m\n\u001b[0;32m    870\u001b[0m             \u001b[1;32mif\u001b[0m \u001b[1;32mnot\u001b[0m \u001b[0mis_scalar\u001b[0m\u001b[1;33m(\u001b[0m\u001b[0mresult\u001b[0m\u001b[1;33m)\u001b[0m\u001b[1;33m:\u001b[0m\u001b[1;33m\u001b[0m\u001b[1;33m\u001b[0m\u001b[0m\n",
      "\u001b[1;32m~\\Anaconda3\\lib\\site-packages\\pandas\\core\\indexes\\base.py\u001b[0m in \u001b[0;36mget_value\u001b[1;34m(self, series, key)\u001b[0m\n\u001b[0;32m   4370\u001b[0m         \u001b[0mk\u001b[0m \u001b[1;33m=\u001b[0m \u001b[0mcom\u001b[0m\u001b[1;33m.\u001b[0m\u001b[0mvalues_from_object\u001b[0m\u001b[1;33m(\u001b[0m\u001b[0mkey\u001b[0m\u001b[1;33m)\u001b[0m\u001b[1;33m\u001b[0m\u001b[1;33m\u001b[0m\u001b[0m\n\u001b[0;32m   4371\u001b[0m \u001b[1;33m\u001b[0m\u001b[0m\n\u001b[1;32m-> 4372\u001b[1;33m         \u001b[0mk\u001b[0m \u001b[1;33m=\u001b[0m \u001b[0mself\u001b[0m\u001b[1;33m.\u001b[0m\u001b[0m_convert_scalar_indexer\u001b[0m\u001b[1;33m(\u001b[0m\u001b[0mk\u001b[0m\u001b[1;33m,\u001b[0m \u001b[0mkind\u001b[0m\u001b[1;33m=\u001b[0m\u001b[1;34m'getitem'\u001b[0m\u001b[1;33m)\u001b[0m\u001b[1;33m\u001b[0m\u001b[1;33m\u001b[0m\u001b[0m\n\u001b[0m\u001b[0;32m   4373\u001b[0m         \u001b[1;32mtry\u001b[0m\u001b[1;33m:\u001b[0m\u001b[1;33m\u001b[0m\u001b[1;33m\u001b[0m\u001b[0m\n\u001b[0;32m   4374\u001b[0m             return self._engine.get_value(s, k,\n",
      "\u001b[1;32m~\\Anaconda3\\lib\\site-packages\\pandas\\core\\indexes\\numeric.py\u001b[0m in \u001b[0;36m_convert_scalar_indexer\u001b[1;34m(self, key, kind)\u001b[0m\n\u001b[0;32m    209\u001b[0m             \u001b[0mkey\u001b[0m \u001b[1;33m=\u001b[0m \u001b[0mself\u001b[0m\u001b[1;33m.\u001b[0m\u001b[0m_maybe_cast_indexer\u001b[0m\u001b[1;33m(\u001b[0m\u001b[0mkey\u001b[0m\u001b[1;33m)\u001b[0m\u001b[1;33m\u001b[0m\u001b[1;33m\u001b[0m\u001b[0m\n\u001b[0;32m    210\u001b[0m         return (super(Int64Index, self)\n\u001b[1;32m--> 211\u001b[1;33m                 ._convert_scalar_indexer(key, kind=kind))\n\u001b[0m\u001b[0;32m    212\u001b[0m \u001b[1;33m\u001b[0m\u001b[0m\n\u001b[0;32m    213\u001b[0m     \u001b[1;32mdef\u001b[0m \u001b[0m_wrap_joined_index\u001b[0m\u001b[1;33m(\u001b[0m\u001b[0mself\u001b[0m\u001b[1;33m,\u001b[0m \u001b[0mjoined\u001b[0m\u001b[1;33m,\u001b[0m \u001b[0mother\u001b[0m\u001b[1;33m)\u001b[0m\u001b[1;33m:\u001b[0m\u001b[1;33m\u001b[0m\u001b[1;33m\u001b[0m\u001b[0m\n",
      "\u001b[1;31mKeyboardInterrupt\u001b[0m: "
     ]
    }
   ],
   "source": [
    "dummy_algorithm(corpora_train_1,corpora_test_1,5)"
   ]
  }
 ],
 "metadata": {
  "kernelspec": {
   "display_name": "Python 3",
   "language": "python",
   "name": "python3"
  },
  "language_info": {
   "codemirror_mode": {
    "name": "ipython",
    "version": 3
   },
   "file_extension": ".py",
   "mimetype": "text/x-python",
   "name": "python",
   "nbconvert_exporter": "python",
   "pygments_lexer": "ipython3",
   "version": "3.7.3"
  }
 },
 "nbformat": 4,
 "nbformat_minor": 2
}
