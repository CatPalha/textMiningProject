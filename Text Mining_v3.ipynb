{
 "cells": [
  {
   "cell_type": "markdown",
   "metadata": {},
   "source": [
    "# Text Mining"
   ]
  },
  {
   "cell_type": "markdown",
   "metadata": {},
   "source": [
    "## Load necessary packages"
   ]
  },
  {
   "cell_type": "code",
   "execution_count": 1,
   "metadata": {},
   "outputs": [],
   "source": [
    "from pathlib import Path\n",
    "import pandas as pd\n",
    "import re\n",
    "import nltk\n",
    "from nltk.corpus import stopwords\n",
    "from nltk.stem.wordnet import WordNetLemmatizer\n",
    "from nltk.stem import SnowballStemmer\n",
    "from bs4 import BeautifulSoup\n",
    "from unidecode import unidecode\n",
    "from tqdm import tqdm_notebook as tqdm\n",
    "from sklearn.model_selection import KFold\n",
    "from sklearn.model_selection import StratifiedKFold\n",
    "import string\n",
    "import collections as ct\n",
    "from sklearn.feature_extraction.text import CountVectorizer\n",
    "from sklearn.feature_extraction.text import TfidfVectorizer\n",
    "import numpy as np\n",
    "import matplotlib.pyplot as plt\n",
    "from nltk.stem import RSLPStemmer\n",
    "from sklearn.naive_bayes import MultinomialNB\n",
    "from sklearn.model_selection import GridSearchCV\n",
    "from sklearn.preprocessing import LabelEncoder\n",
    "from sklearn.metrics import accuracy_score\n",
    "from sklearn.neighbors import KNeighborsClassifier\n",
    "from sklearn.svm import SVC\n",
    "from sklearn.tree import DecisionTreeClassifier\n",
    "from sklearn.linear_model import LogisticRegression\n",
    "import gensim\n",
    "from sklearn.neural_network import MLPClassifier\n",
    "from sklearn.metrics import confusion_matrix\n",
    "from math import ceil"
   ]
  },
  {
   "cell_type": "code",
   "execution_count": 2,
   "metadata": {},
   "outputs": [
    {
     "name": "stderr",
     "output_type": "stream",
     "text": [
      "[nltk_data] Downloading package rslp to\n",
      "[nltk_data]     C:\\Users\\Mafalda\\AppData\\Roaming\\nltk_data...\n",
      "[nltk_data]   Package rslp is already up-to-date!\n"
     ]
    },
    {
     "data": {
      "text/plain": [
       "True"
      ]
     },
     "execution_count": 2,
     "metadata": {},
     "output_type": "execute_result"
    }
   ],
   "source": [
    "import nltk\n",
    "nltk.download('rslp')"
   ]
  },
  {
   "cell_type": "markdown",
   "metadata": {},
   "source": [
    "## Load corpora"
   ]
  },
  {
   "cell_type": "code",
   "execution_count": 3,
   "metadata": {},
   "outputs": [],
   "source": [
    "def load_corpus(filename):\n",
    "    corpus = Path(filename).read_text(encoding=\"utf8\")\n",
    "    return corpus"
   ]
  },
  {
   "cell_type": "code",
   "execution_count": 4,
   "metadata": {},
   "outputs": [],
   "source": [
    "def load_corpora(filelist,author):\n",
    "    files = []\n",
    "    for file in filelist:\n",
    "        location = \"Corpora/train/\"+file\n",
    "        corpus = load_corpus(location)\n",
    "        files.append(corpus)\n",
    "    df = pd.DataFrame(files, columns=['Text'])\n",
    "    df['Author'] = pd.Series([author for x in range(len(df.index))], index=df.index)\n",
    "    return df"
   ]
  },
  {
   "cell_type": "code",
   "execution_count": 5,
   "metadata": {},
   "outputs": [],
   "source": [
    "almada = [\n",
    "    'AlmadaNegreiros/pg22615.txt',\n",
    "    'AlmadaNegreiros/pg22730.txt',\n",
    "    'AlmadaNegreiros/pg22801.txt',\n",
    "    'AlmadaNegreiros/pg22802.txt',\n",
    "    'AlmadaNegreiros/pg22969.txt',\n",
    "    'AlmadaNegreiros/pg23133.txt',\n",
    "    'AlmadaNegreiros/pg23620.txt',\n",
    "    'AlmadaNegreiros/pg23879.txt',\n",
    "    'AlmadaNegreiros/pg23961.txt'\n",
    "]\n",
    "\n",
    "corpora_almada = load_corpora(almada, 'Almada Negreiros')"
   ]
  },
  {
   "cell_type": "code",
   "execution_count": 6,
   "metadata": {},
   "outputs": [],
   "source": [
    "camilo = [\n",
    "    'CamiloCasteloBranco/24691-0.txt',\n",
    "    'CamiloCasteloBranco/34756-0.txt',\n",
    "    'CamiloCasteloBranco/pg16425.txt',\n",
    "    'CamiloCasteloBranco/pg17927.txt',\n",
    "    'CamiloCasteloBranco/pg19375.txt',\n",
    "    'CamiloCasteloBranco/pg21406.txt',\n",
    "    'CamiloCasteloBranco/pg23203.txt',\n",
    "    'CamiloCasteloBranco/pg23345.txt',\n",
    "    'CamiloCasteloBranco/pg23346.txt',\n",
    "    'CamiloCasteloBranco/pg24339.txt',\n",
    "    'CamiloCasteloBranco/pg25844.txt',\n",
    "    'CamiloCasteloBranco/pg26017.txt',\n",
    "    'CamiloCasteloBranco/pg26103.txt',\n",
    "    'CamiloCasteloBranco/pg26110.txt',\n",
    "    'CamiloCasteloBranco/pg26988.txt',\n",
    "    'CamiloCasteloBranco/pg27364.txt',\n",
    "    'CamiloCasteloBranco/pg27541.txt',\n",
    "    'CamiloCasteloBranco/pg28310.txt',\n",
    "    'CamiloCasteloBranco/pg31694.txt',\n",
    "    'CamiloCasteloBranco/pg33788.txt',\n",
    "]\n",
    "\n",
    "corpora_camilo = load_corpora(camilo, 'Camilo Castelo Branco')"
   ]
  },
  {
   "cell_type": "code",
   "execution_count": 7,
   "metadata": {},
   "outputs": [],
   "source": [
    "eca = [\n",
    "    'EcaDeQueiros/pg18220.txt',\n",
    "    'EcaDeQueiros/pg25641.txt',\n",
    "    'EcaDeQueiros/pg27637.txt',\n",
    "    'EcaDeQueiros/pg31347.txt',\n",
    "    'EcaDeQueiros/pg40409.txt'\n",
    "]\n",
    "\n",
    "corpora_eca = load_corpora(eca, 'Eca de Queiros')"
   ]
  },
  {
   "cell_type": "code",
   "execution_count": 8,
   "metadata": {},
   "outputs": [],
   "source": [
    "rodrigues_santos = [\n",
    "    'JoseRodriguesSantos/A Filha Do Capitao - Jose Rodrigues dos Santos.txt',\n",
    "    'JoseRodriguesSantos/A Formula De Deus - Jose Rodrigues dos Santos.txt',\n",
    "    'JoseRodriguesSantos/A Mao do Diabo - Jose Rodrigues dos Santos.txt',\n",
    "    'JoseRodriguesSantos/A Vida Num Sopro - Jose Rodrigues dos Santos.txt',\n",
    "    'JoseRodriguesSantos/Furia Divina - Jose Rodrigues dos Santos.txt',\n",
    "    'JoseRodriguesSantos/O Anjo Branco - Jose Rodrigues dos Santos.txt',\n",
    "    'JoseRodriguesSantos/O Setimo Selo - Jose Rodrigues dos Santos.txt',\n",
    "    'JoseRodriguesSantos/O ultimo Segredo - Jose Rodrigues dos Santos.txt'\n",
    "]\n",
    "\n",
    "corpora_rodrigues_santos = load_corpora(rodrigues_santos, 'Jose Rodrigues dos Santos')"
   ]
  },
  {
   "cell_type": "code",
   "execution_count": 9,
   "metadata": {},
   "outputs": [],
   "source": [
    "saramago = [\n",
    "    'JoseSaramago/A Caverna - Jose Saramago.txt',\n",
    "    'JoseSaramago/As Intermitencias da Morte - Jose Saramago.txt',\n",
    "    'JoseSaramago/Caim - Jose Saramago.txt',\n",
    "    'JoseSaramago/Claraboia - Jose Saramago.txt',\n",
    "    'JoseSaramago/Ensaio Sobre a Cegueira - Jose Saramago.txt',\n",
    "    'JoseSaramago/Historia Do Cerco De Lisboa - Jose Saramago.txt',\n",
    "    'JoseSaramago/Memorial Do Convento - Jose Saramago.txt',\n",
    "    'JoseSaramago/O Ano Da Morte De Ricardo Reis - Jose Saramago.txt',\n",
    "    'JoseSaramago/O Conto Da Ilha Desconhecida - Jose Saramago.txt',\n",
    "    'JoseSaramago/O Homem Duplicado - Jose Saramago.txt',\n",
    "    'JoseSaramago/Terra Do Pecado - Jose Saramago.txt',\n",
    "    'JoseSaramago/Viagem Do Elefante - Jose Saramago.txt'\n",
    "]\n",
    "\n",
    "corpora_saramago = load_corpora(saramago, 'Jose Saramago')"
   ]
  },
  {
   "cell_type": "code",
   "execution_count": 10,
   "metadata": {},
   "outputs": [],
   "source": [
    "luisa = [\n",
    "    'LuisaMarquesSilva/ABelaHistoria.txt',\n",
    "    'LuisaMarquesSilva/acabouSe.txt',\n",
    "    'LuisaMarquesSilva/Botão.txt',\n",
    "    'LuisaMarquesSilva/controlz.txt',\n",
    "    'LuisaMarquesSilva/emedo.txt',\n",
    "    'LuisaMarquesSilva/Lisboa2050.txt',\n",
    "    'LuisaMarquesSilva/passeioInferno.txt',\n",
    "    'LuisaMarquesSilva/rapsodiasemdo.txt',\n",
    "    'LuisaMarquesSilva/UltimaHistoria.txt'\n",
    "]\n",
    "\n",
    "corpora_luisa = load_corpora(luisa, 'Luisa Marques Silva')"
   ]
  },
  {
   "cell_type": "code",
   "execution_count": 11,
   "metadata": {
    "scrolled": true
   },
   "outputs": [
    {
     "data": {
      "text/html": [
       "<div>\n",
       "<style scoped>\n",
       "    .dataframe tbody tr th:only-of-type {\n",
       "        vertical-align: middle;\n",
       "    }\n",
       "\n",
       "    .dataframe tbody tr th {\n",
       "        vertical-align: top;\n",
       "    }\n",
       "\n",
       "    .dataframe thead th {\n",
       "        text-align: right;\n",
       "    }\n",
       "</style>\n",
       "<table border=\"1\" class=\"dataframe\">\n",
       "  <thead>\n",
       "    <tr style=\"text-align: right;\">\n",
       "      <th></th>\n",
       "      <th>Text</th>\n",
       "      <th>Author</th>\n",
       "    </tr>\n",
       "  </thead>\n",
       "  <tbody>\n",
       "    <tr>\n",
       "      <th>0</th>\n",
       "      <td>Title: A Scena do Odio\\n\\nAuthor: José de Alma...</td>\n",
       "      <td>Almada Negreiros</td>\n",
       "    </tr>\n",
       "    <tr>\n",
       "      <th>1</th>\n",
       "      <td>Title: O Jardim da Pierrette\\n\\nAuthor: José d...</td>\n",
       "      <td>Almada Negreiros</td>\n",
       "    </tr>\n",
       "    <tr>\n",
       "      <th>2</th>\n",
       "      <td>\\n\\nTitle: A Invenção do Dia Claro\\n\\nAuthor: ...</td>\n",
       "      <td>Almada Negreiros</td>\n",
       "    </tr>\n",
       "    <tr>\n",
       "      <th>3</th>\n",
       "      <td>\\nTitle: Litoral\\n       A Amadeo de Souza Car...</td>\n",
       "      <td>Almada Negreiros</td>\n",
       "    </tr>\n",
       "    <tr>\n",
       "      <th>4</th>\n",
       "      <td>\\n\\n\\nEXPOSIÇÃO\\n\\n+amadeo\\nde souza\\ncardoso+...</td>\n",
       "      <td>Almada Negreiros</td>\n",
       "    </tr>\n",
       "    <tr>\n",
       "      <th>5</th>\n",
       "      <td>\\n\\n*JOSÉ DE ALMADA-NEGREIROS*\\n\\n\\n*K4\\n\\no q...</td>\n",
       "      <td>Almada Negreiros</td>\n",
       "    </tr>\n",
       "    <tr>\n",
       "      <th>6</th>\n",
       "      <td>\\n\\n*\"ORPHEU\"*\\n\\nREVISTA TRIMESTRAL DE LITERA...</td>\n",
       "      <td>Almada Negreiros</td>\n",
       "    </tr>\n",
       "    <tr>\n",
       "      <th>7</th>\n",
       "      <td>\\n\\n+a ENGOMADEIRA+\\n\\nNOVELA VULGAR LISBOETA\\...</td>\n",
       "      <td>Almada Negreiros</td>\n",
       "    </tr>\n",
       "    <tr>\n",
       "      <th>8</th>\n",
       "      <td>\\n+MANIFESTO+\\n\\n+ANTI-DANTAS+\\n\\nE\\n\\nPOR EXT...</td>\n",
       "      <td>Almada Negreiros</td>\n",
       "    </tr>\n",
       "    <tr>\n",
       "      <th>9</th>\n",
       "      <td>O vinho do Porto\\n\\nPROCESSO D'UMA BESTIALIDAD...</td>\n",
       "      <td>Camilo Castelo Branco</td>\n",
       "    </tr>\n",
       "    <tr>\n",
       "      <th>10</th>\n",
       "      <td>\\nLIVRO DE CONSOLAÇÃO\\n\\nROMANCE\\n\\nPOR\\n\\nCAM...</td>\n",
       "      <td>Camilo Castelo Branco</td>\n",
       "    </tr>\n",
       "    <tr>\n",
       "      <th>11</th>\n",
       "      <td>AMOR DE PERDIÇÃO\\n\\n\\n(MEMORIAS D'UMA FAMILIA)...</td>\n",
       "      <td>Camilo Castelo Branco</td>\n",
       "    </tr>\n",
       "    <tr>\n",
       "      <th>12</th>\n",
       "      <td>A QUEDA D'UM ANJO\\n\\nROMANCE\\n\\nPOR\\n\\nCAMILLO...</td>\n",
       "      <td>Camilo Castelo Branco</td>\n",
       "    </tr>\n",
       "    <tr>\n",
       "      <th>13</th>\n",
       "      <td>\\n\\nA SENHORA RATTAZZI\\n\\nPOR\\n\\nCAMILLO CASTE...</td>\n",
       "      <td>Camilo Castelo Branco</td>\n",
       "    </tr>\n",
       "    <tr>\n",
       "      <th>14</th>\n",
       "      <td>\\nOBRAS DE CAMILLO CASTELLO BRANCO\\n\\n_Novella...</td>\n",
       "      <td>Camilo Castelo Branco</td>\n",
       "    </tr>\n",
       "    <tr>\n",
       "      <th>15</th>\n",
       "      <td>SCENAS CONTEMPORANEAS\\n\\nPOR\\n\\nCAMILLO CASTEL...</td>\n",
       "      <td>Camilo Castelo Branco</td>\n",
       "    </tr>\n",
       "    <tr>\n",
       "      <th>16</th>\n",
       "      <td>A GRATIDÃO.\\n\\nROMANCE.\\n\\n\\nI.\\n\\nEstavamos n...</td>\n",
       "      <td>Camilo Castelo Branco</td>\n",
       "    </tr>\n",
       "    <tr>\n",
       "      <th>17</th>\n",
       "      <td>O ARREPENDIMENTO.\\n\\nROMANCE\\n\\n\\nEm tempos da...</td>\n",
       "      <td>Camilo Castelo Branco</td>\n",
       "    </tr>\n",
       "    <tr>\n",
       "      <th>18</th>\n",
       "      <td>SUICIDA\\n\\n\\nPORTO Typographia de A. J. da Sil...</td>\n",
       "      <td>Camilo Castelo Branco</td>\n",
       "    </tr>\n",
       "    <tr>\n",
       "      <th>19</th>\n",
       "      <td>VOLTAREIS Ó CHRISTO?\\n\\n\\n\\n\\nPorto Imprensa P...</td>\n",
       "      <td>Camilo Castelo Branco</td>\n",
       "    </tr>\n",
       "    <tr>\n",
       "      <th>20</th>\n",
       "      <td>\\nROMANCES NACIONAES\\n\\n\\nO REGICIDA\\n\\nRomanc...</td>\n",
       "      <td>Camilo Castelo Branco</td>\n",
       "    </tr>\n",
       "    <tr>\n",
       "      <th>21</th>\n",
       "      <td>ANNOS DE PROSA\\n\\nRomance\\n\\npor\\n\\nCAMILLO CA...</td>\n",
       "      <td>Camilo Castelo Branco</td>\n",
       "    </tr>\n",
       "    <tr>\n",
       "      <th>22</th>\n",
       "      <td>OBRAS\\n\\nDE\\n\\nCAMILLO CASTELLO BRANCO\\n\\nEDIÇ...</td>\n",
       "      <td>Camilo Castelo Branco</td>\n",
       "    </tr>\n",
       "    <tr>\n",
       "      <th>23</th>\n",
       "      <td>AMOR DE SALVAÇÃO\\n\\nPOR\\n\\nCAMILLO CASTELLO-BR...</td>\n",
       "      <td>Camilo Castelo Branco</td>\n",
       "    </tr>\n",
       "    <tr>\n",
       "      <th>24</th>\n",
       "      <td>A FILHA DO ARCEDIAGO\\n\\nFILHA DO ARCEDIAGO\\n\\n...</td>\n",
       "      <td>Camilo Castelo Branco</td>\n",
       "    </tr>\n",
       "    <tr>\n",
       "      <th>25</th>\n",
       "      <td>Obras\\n\\nde\\n\\nCamillo Castello Branco\\n\\nEdiç...</td>\n",
       "      <td>Camilo Castelo Branco</td>\n",
       "    </tr>\n",
       "    <tr>\n",
       "      <th>26</th>\n",
       "      <td>\\nSCENAS DA FOZ\\n\\nPOR\\n\\nCAMILLO CASTELLO BRA...</td>\n",
       "      <td>Camilo Castelo Branco</td>\n",
       "    </tr>\n",
       "    <tr>\n",
       "      <th>27</th>\n",
       "      <td>\\nOBRAS\\n\\nDE\\n\\nCAMILLO CASTELLO BRANCO\\n\\nED...</td>\n",
       "      <td>Camilo Castelo Branco</td>\n",
       "    </tr>\n",
       "    <tr>\n",
       "      <th>28</th>\n",
       "      <td>\\nESTRELLAS PROPICIAS.\\n\\n\\n\\n\\nOBRAS DE CAMIL...</td>\n",
       "      <td>Camilo Castelo Branco</td>\n",
       "    </tr>\n",
       "    <tr>\n",
       "      <th>29</th>\n",
       "      <td>\\nA CIDADE E AS SERRAS\\n\\n\\n\\n\\nA CIDADE E AS ...</td>\n",
       "      <td>Eca de Queiros</td>\n",
       "    </tr>\n",
       "    <tr>\n",
       "      <th>...</th>\n",
       "      <td>...</td>\n",
       "      <td>...</td>\n",
       "    </tr>\n",
       "    <tr>\n",
       "      <th>33</th>\n",
       "      <td>\\nEÇA DE QUEIROZ\\n\\nOS MAIAS\\n\\nEPISODIOS DA V...</td>\n",
       "      <td>Eca de Queiros</td>\n",
       "    </tr>\n",
       "    <tr>\n",
       "      <th>34</th>\n",
       "      <td>José Rodrigues dos Santos\\n\\nA Filha do Capitã...</td>\n",
       "      <td>Jose Rodrigues dos Santos</td>\n",
       "    </tr>\n",
       "    <tr>\n",
       "      <th>35</th>\n",
       "      <td>José Rodrigues dos Santos A FÓRMULA DE DEUS\\n\\...</td>\n",
       "      <td>Jose Rodrigues dos Santos</td>\n",
       "    </tr>\n",
       "    <tr>\n",
       "      <th>36</th>\n",
       "      <td>A MÃO DO D I A B O r o m a n c e\\n\\n\\n\\nNós so...</td>\n",
       "      <td>Jose Rodrigues dos Santos</td>\n",
       "    </tr>\n",
       "    <tr>\n",
       "      <th>37</th>\n",
       "      <td>I\\nO sol jorrava por todas as janelas em casca...</td>\n",
       "      <td>Jose Rodrigues dos Santos</td>\n",
       "    </tr>\n",
       "    <tr>\n",
       "      <th>38</th>\n",
       "      <td>Prólogo\\n\\nAs luzes dos faróis rasgaram a noit...</td>\n",
       "      <td>Jose Rodrigues dos Santos</td>\n",
       "    </tr>\n",
       "    <tr>\n",
       "      <th>39</th>\n",
       "      <td>JOSÉ RODRIGUES DOS SANTOS\\n\\nO ANJO BRANCO\\n\\n...</td>\n",
       "      <td>Jose Rodrigues dos Santos</td>\n",
       "    </tr>\n",
       "    <tr>\n",
       "      <th>40</th>\n",
       "      <td>O SÉTIMO SELO romance\\n\\n\\n © José Rodrigues d...</td>\n",
       "      <td>Jose Rodrigues dos Santos</td>\n",
       "    </tr>\n",
       "    <tr>\n",
       "      <th>41</th>\n",
       "      <td>OBRAS DO AUTOR\\n\\nENSAIO Comunicação, Difusão ...</td>\n",
       "      <td>Jose Rodrigues dos Santos</td>\n",
       "    </tr>\n",
       "    <tr>\n",
       "      <th>42</th>\n",
       "      <td>José Saramago\\n\\nA caverna\\n\\n\\nRomance Novemb...</td>\n",
       "      <td>Jose Saramago</td>\n",
       "    </tr>\n",
       "    <tr>\n",
       "      <th>43</th>\n",
       "      <td>José Saramago As intermitências da morte\\nComp...</td>\n",
       "      <td>Jose Saramago</td>\n",
       "    </tr>\n",
       "    <tr>\n",
       "      <th>44</th>\n",
       "      <td>JOSÉ SARAMAGO\\n\\nCAIM\\n\\nCAMINHO\\n\\nBadana da ...</td>\n",
       "      <td>Jose Saramago</td>\n",
       "    </tr>\n",
       "    <tr>\n",
       "      <th>45</th>\n",
       "      <td>José Saramago\\n\\n(Prêmio Nobel de Literatura)\\...</td>\n",
       "      <td>Jose Saramago</td>\n",
       "    </tr>\n",
       "    <tr>\n",
       "      <th>46</th>\n",
       "      <td>Livro dos Conselhos\\n\\n\\n\\nO disco amarelo ilu...</td>\n",
       "      <td>Jose Saramago</td>\n",
       "    </tr>\n",
       "    <tr>\n",
       "      <th>47</th>\n",
       "      <td>José Saramago\\n\\nHistória do cerco de Lisboa h...</td>\n",
       "      <td>Jose Saramago</td>\n",
       "    </tr>\n",
       "    <tr>\n",
       "      <th>48</th>\n",
       "      <td>MEMORIAL DO CONVENTO José Saramago JOSÉ SARAMA...</td>\n",
       "      <td>Jose Saramago</td>\n",
       "    </tr>\n",
       "    <tr>\n",
       "      <th>49</th>\n",
       "      <td>José Saramago\\n\\nO ano da morte de Ricardo Rei...</td>\n",
       "      <td>Jose Saramago</td>\n",
       "    </tr>\n",
       "    <tr>\n",
       "      <th>50</th>\n",
       "      <td>José Saramago\\n\\nO conto da ilha desconhecida\\...</td>\n",
       "      <td>Jose Saramago</td>\n",
       "    </tr>\n",
       "    <tr>\n",
       "      <th>51</th>\n",
       "      <td>O HOMEM DUPLICADO\\n\\nJosé Saramago\\n\\n***\\n\\nO...</td>\n",
       "      <td>Jose Saramago</td>\n",
       "    </tr>\n",
       "    <tr>\n",
       "      <th>52</th>\n",
       "      <td>José Saramago\\n\\nTerra do Pecado\\n\\nAviso\\nO a...</td>\n",
       "      <td>Jose Saramago</td>\n",
       "    </tr>\n",
       "    <tr>\n",
       "      <th>53</th>\n",
       "      <td>\\n a viagem do elefante obras do autor publica...</td>\n",
       "      <td>Jose Saramago</td>\n",
       "    </tr>\n",
       "    <tr>\n",
       "      <th>54</th>\n",
       "      <td>A BELA HISTÓRIA DE DINIS E BEATRIZ OU REQUIEM ...</td>\n",
       "      <td>Luisa Marques Silva</td>\n",
       "    </tr>\n",
       "    <tr>\n",
       "      <th>55</th>\n",
       "      <td>\\n\\n\\nAcabou-se!\\nLuísa Marques da Silva\\n\\nTí...</td>\n",
       "      <td>Luisa Marques Silva</td>\n",
       "    </tr>\n",
       "    <tr>\n",
       "      <th>56</th>\n",
       "      <td>O terrível caso do botão assassino\\nLuísa Marq...</td>\n",
       "      <td>Luisa Marques Silva</td>\n",
       "    </tr>\n",
       "    <tr>\n",
       "      <th>57</th>\n",
       "      <td>CONTROL Z\\nChegou a hora de vos contar. Chegou...</td>\n",
       "      <td>Luisa Marques Silva</td>\n",
       "    </tr>\n",
       "    <tr>\n",
       "      <th>58</th>\n",
       "      <td>Título\\ne-medo\\n\\nAutora (inspiradíssima)\\nLuí...</td>\n",
       "      <td>Luisa Marques Silva</td>\n",
       "    </tr>\n",
       "    <tr>\n",
       "      <th>59</th>\n",
       "      <td>LISBOA 2050\\nLisboa, ano de 2050. Um Agosto tã...</td>\n",
       "      <td>Luisa Marques Silva</td>\n",
       "    </tr>\n",
       "    <tr>\n",
       "      <th>60</th>\n",
       "      <td>Título\\nUm passeio pelo inferno\\n\\nAutora\\nLuí...</td>\n",
       "      <td>Luisa Marques Silva</td>\n",
       "    </tr>\n",
       "    <tr>\n",
       "      <th>61</th>\n",
       "      <td>Título\\nRapsódia sem dó (maior)\\n\\nAutora\\nLuí...</td>\n",
       "      <td>Luisa Marques Silva</td>\n",
       "    </tr>\n",
       "    <tr>\n",
       "      <th>62</th>\n",
       "      <td>Título\\nA última história\\n\\nAutora (próximo N...</td>\n",
       "      <td>Luisa Marques Silva</td>\n",
       "    </tr>\n",
       "  </tbody>\n",
       "</table>\n",
       "<p>63 rows × 2 columns</p>\n",
       "</div>"
      ],
      "text/plain": [
       "                                                 Text  \\\n",
       "0   Title: A Scena do Odio\\n\\nAuthor: José de Alma...   \n",
       "1   Title: O Jardim da Pierrette\\n\\nAuthor: José d...   \n",
       "2   \\n\\nTitle: A Invenção do Dia Claro\\n\\nAuthor: ...   \n",
       "3   \\nTitle: Litoral\\n       A Amadeo de Souza Car...   \n",
       "4   \\n\\n\\nEXPOSIÇÃO\\n\\n+amadeo\\nde souza\\ncardoso+...   \n",
       "5   \\n\\n*JOSÉ DE ALMADA-NEGREIROS*\\n\\n\\n*K4\\n\\no q...   \n",
       "6   \\n\\n*\"ORPHEU\"*\\n\\nREVISTA TRIMESTRAL DE LITERA...   \n",
       "7   \\n\\n+a ENGOMADEIRA+\\n\\nNOVELA VULGAR LISBOETA\\...   \n",
       "8   \\n+MANIFESTO+\\n\\n+ANTI-DANTAS+\\n\\nE\\n\\nPOR EXT...   \n",
       "9   O vinho do Porto\\n\\nPROCESSO D'UMA BESTIALIDAD...   \n",
       "10  \\nLIVRO DE CONSOLAÇÃO\\n\\nROMANCE\\n\\nPOR\\n\\nCAM...   \n",
       "11  AMOR DE PERDIÇÃO\\n\\n\\n(MEMORIAS D'UMA FAMILIA)...   \n",
       "12  A QUEDA D'UM ANJO\\n\\nROMANCE\\n\\nPOR\\n\\nCAMILLO...   \n",
       "13  \\n\\nA SENHORA RATTAZZI\\n\\nPOR\\n\\nCAMILLO CASTE...   \n",
       "14  \\nOBRAS DE CAMILLO CASTELLO BRANCO\\n\\n_Novella...   \n",
       "15  SCENAS CONTEMPORANEAS\\n\\nPOR\\n\\nCAMILLO CASTEL...   \n",
       "16  A GRATIDÃO.\\n\\nROMANCE.\\n\\n\\nI.\\n\\nEstavamos n...   \n",
       "17  O ARREPENDIMENTO.\\n\\nROMANCE\\n\\n\\nEm tempos da...   \n",
       "18  SUICIDA\\n\\n\\nPORTO Typographia de A. J. da Sil...   \n",
       "19  VOLTAREIS Ó CHRISTO?\\n\\n\\n\\n\\nPorto Imprensa P...   \n",
       "20  \\nROMANCES NACIONAES\\n\\n\\nO REGICIDA\\n\\nRomanc...   \n",
       "21  ANNOS DE PROSA\\n\\nRomance\\n\\npor\\n\\nCAMILLO CA...   \n",
       "22  OBRAS\\n\\nDE\\n\\nCAMILLO CASTELLO BRANCO\\n\\nEDIÇ...   \n",
       "23  AMOR DE SALVAÇÃO\\n\\nPOR\\n\\nCAMILLO CASTELLO-BR...   \n",
       "24  A FILHA DO ARCEDIAGO\\n\\nFILHA DO ARCEDIAGO\\n\\n...   \n",
       "25  Obras\\n\\nde\\n\\nCamillo Castello Branco\\n\\nEdiç...   \n",
       "26  \\nSCENAS DA FOZ\\n\\nPOR\\n\\nCAMILLO CASTELLO BRA...   \n",
       "27  \\nOBRAS\\n\\nDE\\n\\nCAMILLO CASTELLO BRANCO\\n\\nED...   \n",
       "28  \\nESTRELLAS PROPICIAS.\\n\\n\\n\\n\\nOBRAS DE CAMIL...   \n",
       "29  \\nA CIDADE E AS SERRAS\\n\\n\\n\\n\\nA CIDADE E AS ...   \n",
       "..                                                ...   \n",
       "33  \\nEÇA DE QUEIROZ\\n\\nOS MAIAS\\n\\nEPISODIOS DA V...   \n",
       "34  José Rodrigues dos Santos\\n\\nA Filha do Capitã...   \n",
       "35  José Rodrigues dos Santos A FÓRMULA DE DEUS\\n\\...   \n",
       "36  A MÃO DO D I A B O r o m a n c e\\n\\n\\n\\nNós so...   \n",
       "37  I\\nO sol jorrava por todas as janelas em casca...   \n",
       "38  Prólogo\\n\\nAs luzes dos faróis rasgaram a noit...   \n",
       "39  JOSÉ RODRIGUES DOS SANTOS\\n\\nO ANJO BRANCO\\n\\n...   \n",
       "40  O SÉTIMO SELO romance\\n\\n\\n © José Rodrigues d...   \n",
       "41  OBRAS DO AUTOR\\n\\nENSAIO Comunicação, Difusão ...   \n",
       "42  José Saramago\\n\\nA caverna\\n\\n\\nRomance Novemb...   \n",
       "43  José Saramago As intermitências da morte\\nComp...   \n",
       "44  JOSÉ SARAMAGO\\n\\nCAIM\\n\\nCAMINHO\\n\\nBadana da ...   \n",
       "45  José Saramago\\n\\n(Prêmio Nobel de Literatura)\\...   \n",
       "46  Livro dos Conselhos\\n\\n\\n\\nO disco amarelo ilu...   \n",
       "47  José Saramago\\n\\nHistória do cerco de Lisboa h...   \n",
       "48  MEMORIAL DO CONVENTO José Saramago JOSÉ SARAMA...   \n",
       "49  José Saramago\\n\\nO ano da morte de Ricardo Rei...   \n",
       "50  José Saramago\\n\\nO conto da ilha desconhecida\\...   \n",
       "51  O HOMEM DUPLICADO\\n\\nJosé Saramago\\n\\n***\\n\\nO...   \n",
       "52  José Saramago\\n\\nTerra do Pecado\\n\\nAviso\\nO a...   \n",
       "53  \\n a viagem do elefante obras do autor publica...   \n",
       "54  A BELA HISTÓRIA DE DINIS E BEATRIZ OU REQUIEM ...   \n",
       "55  \\n\\n\\nAcabou-se!\\nLuísa Marques da Silva\\n\\nTí...   \n",
       "56  O terrível caso do botão assassino\\nLuísa Marq...   \n",
       "57  CONTROL Z\\nChegou a hora de vos contar. Chegou...   \n",
       "58  Título\\ne-medo\\n\\nAutora (inspiradíssima)\\nLuí...   \n",
       "59  LISBOA 2050\\nLisboa, ano de 2050. Um Agosto tã...   \n",
       "60  Título\\nUm passeio pelo inferno\\n\\nAutora\\nLuí...   \n",
       "61  Título\\nRapsódia sem dó (maior)\\n\\nAutora\\nLuí...   \n",
       "62  Título\\nA última história\\n\\nAutora (próximo N...   \n",
       "\n",
       "                       Author  \n",
       "0            Almada Negreiros  \n",
       "1            Almada Negreiros  \n",
       "2            Almada Negreiros  \n",
       "3            Almada Negreiros  \n",
       "4            Almada Negreiros  \n",
       "5            Almada Negreiros  \n",
       "6            Almada Negreiros  \n",
       "7            Almada Negreiros  \n",
       "8            Almada Negreiros  \n",
       "9       Camilo Castelo Branco  \n",
       "10      Camilo Castelo Branco  \n",
       "11      Camilo Castelo Branco  \n",
       "12      Camilo Castelo Branco  \n",
       "13      Camilo Castelo Branco  \n",
       "14      Camilo Castelo Branco  \n",
       "15      Camilo Castelo Branco  \n",
       "16      Camilo Castelo Branco  \n",
       "17      Camilo Castelo Branco  \n",
       "18      Camilo Castelo Branco  \n",
       "19      Camilo Castelo Branco  \n",
       "20      Camilo Castelo Branco  \n",
       "21      Camilo Castelo Branco  \n",
       "22      Camilo Castelo Branco  \n",
       "23      Camilo Castelo Branco  \n",
       "24      Camilo Castelo Branco  \n",
       "25      Camilo Castelo Branco  \n",
       "26      Camilo Castelo Branco  \n",
       "27      Camilo Castelo Branco  \n",
       "28      Camilo Castelo Branco  \n",
       "29             Eca de Queiros  \n",
       "..                        ...  \n",
       "33             Eca de Queiros  \n",
       "34  Jose Rodrigues dos Santos  \n",
       "35  Jose Rodrigues dos Santos  \n",
       "36  Jose Rodrigues dos Santos  \n",
       "37  Jose Rodrigues dos Santos  \n",
       "38  Jose Rodrigues dos Santos  \n",
       "39  Jose Rodrigues dos Santos  \n",
       "40  Jose Rodrigues dos Santos  \n",
       "41  Jose Rodrigues dos Santos  \n",
       "42              Jose Saramago  \n",
       "43              Jose Saramago  \n",
       "44              Jose Saramago  \n",
       "45              Jose Saramago  \n",
       "46              Jose Saramago  \n",
       "47              Jose Saramago  \n",
       "48              Jose Saramago  \n",
       "49              Jose Saramago  \n",
       "50              Jose Saramago  \n",
       "51              Jose Saramago  \n",
       "52              Jose Saramago  \n",
       "53              Jose Saramago  \n",
       "54        Luisa Marques Silva  \n",
       "55        Luisa Marques Silva  \n",
       "56        Luisa Marques Silva  \n",
       "57        Luisa Marques Silva  \n",
       "58        Luisa Marques Silva  \n",
       "59        Luisa Marques Silva  \n",
       "60        Luisa Marques Silva  \n",
       "61        Luisa Marques Silva  \n",
       "62        Luisa Marques Silva  \n",
       "\n",
       "[63 rows x 2 columns]"
      ]
     },
     "execution_count": 11,
     "metadata": {},
     "output_type": "execute_result"
    }
   ],
   "source": [
    "corpora = pd.concat([corpora_almada, corpora_camilo, corpora_eca, corpora_rodrigues_santos, corpora_saramago, corpora_luisa]).reset_index(drop = True)\n",
    "corpora"
   ]
  },
  {
   "cell_type": "markdown",
   "metadata": {},
   "source": [
    "## Preprocessing"
   ]
  },
  {
   "cell_type": "code",
   "execution_count": 12,
   "metadata": {},
   "outputs": [],
   "source": [
    "def preprocessing(dataframe,stemmer):\n",
    "    processed_corpus = []\n",
    "    \n",
    "    stop_words_pt = set(stopwords.words(\"portuguese\", \"english\"))\n",
    "    \n",
    "    for i in tqdm(range(len(dataframe))):\n",
    "        text = dataframe['Text'][i]\n",
    "        \n",
    "        #Remove accents\n",
    "        text = unidecode(text)\n",
    "        \n",
    "        #remove punctuation\n",
    "        text = re.sub('[^a-zA-Z]', ' ', text)\n",
    "        \n",
    "        #Convert to lowercase\n",
    "        text = text.lower()\n",
    "\n",
    "        #remove tags\n",
    "        text = BeautifulSoup(text).get_text()\n",
    "        \n",
    "        #Convert to list from string\n",
    "        text = text.split()\n",
    "\n",
    "        #Stemming\n",
    "        if stemmer == 'snowball':\n",
    "            stemmer_pt = SnowballStemmer('portuguese')\n",
    "        elif stemmer == 'rslp':\n",
    "            stemmer_pt = RSLPStemmer()\n",
    "            \n",
    "        text = [stemmer_pt.stem(word) for word in text if not word in stop_words_pt]\n",
    "        \n",
    "        text = \" \".join(text)\n",
    "\n",
    "        processed_corpus.append(text)\n",
    "    return processed_corpus"
   ]
  },
  {
   "cell_type": "code",
   "execution_count": 13,
   "metadata": {},
   "outputs": [
    {
     "data": {
      "application/vnd.jupyter.widget-view+json": {
       "model_id": "93e48648b88d41119f33461bc0a4102a",
       "version_major": 2,
       "version_minor": 0
      },
      "text/plain": [
       "HBox(children=(IntProgress(value=0, max=63), HTML(value='')))"
      ]
     },
     "metadata": {},
     "output_type": "display_data"
    },
    {
     "name": "stdout",
     "output_type": "stream",
     "text": [
      "\n"
     ]
    }
   ],
   "source": [
    "cleaned_corpora = preprocessing(corpora,'snowball')"
   ]
  },
  {
   "cell_type": "code",
   "execution_count": 14,
   "metadata": {},
   "outputs": [],
   "source": [
    "corpora['Clean Text'] = pd.Series(cleaned_corpora, index = corpora.index)"
   ]
  },
  {
   "cell_type": "code",
   "execution_count": 15,
   "metadata": {},
   "outputs": [
    {
     "data": {
      "application/vnd.jupyter.widget-view+json": {
       "model_id": "edd5f0fd25c9426b84710d69863e8bdc",
       "version_major": 2,
       "version_minor": 0
      },
      "text/plain": [
       "HBox(children=(IntProgress(value=0, max=63), HTML(value='')))"
      ]
     },
     "metadata": {},
     "output_type": "display_data"
    },
    {
     "name": "stdout",
     "output_type": "stream",
     "text": [
      "\n"
     ]
    }
   ],
   "source": [
    "corpora['Word List'] = corpora['Clean Text']\n",
    "\n",
    "for i in tqdm(range(len(corpora))):\n",
    "    mystr = corpora['Clean Text'][i]\n",
    "    wordList = re.sub(\"[^\\w]\", \" \",  mystr).split()\n",
    "    \n",
    "    corpora['Word List'][i] = wordList"
   ]
  },
  {
   "cell_type": "code",
   "execution_count": 16,
   "metadata": {
    "scrolled": true
   },
   "outputs": [
    {
     "data": {
      "text/html": [
       "<div>\n",
       "<style scoped>\n",
       "    .dataframe tbody tr th:only-of-type {\n",
       "        vertical-align: middle;\n",
       "    }\n",
       "\n",
       "    .dataframe tbody tr th {\n",
       "        vertical-align: top;\n",
       "    }\n",
       "\n",
       "    .dataframe thead th {\n",
       "        text-align: right;\n",
       "    }\n",
       "</style>\n",
       "<table border=\"1\" class=\"dataframe\">\n",
       "  <thead>\n",
       "    <tr style=\"text-align: right;\">\n",
       "      <th></th>\n",
       "      <th>Text</th>\n",
       "      <th>Author</th>\n",
       "      <th>Clean Text</th>\n",
       "      <th>Word List</th>\n",
       "    </tr>\n",
       "  </thead>\n",
       "  <tbody>\n",
       "    <tr>\n",
       "      <th>0</th>\n",
       "      <td>Title: A Scena do Odio\\n\\nAuthor: José de Alma...</td>\n",
       "      <td>Almada Negreiros</td>\n",
       "      <td>titl scen odi author jos almad negreir releas ...</td>\n",
       "      <td>[titl, scen, odi, author, jos, almad, negreir,...</td>\n",
       "    </tr>\n",
       "    <tr>\n",
       "      <th>1</th>\n",
       "      <td>Title: O Jardim da Pierrette\\n\\nAuthor: José d...</td>\n",
       "      <td>Almada Negreiros</td>\n",
       "      <td>titl jardim pierrett author jos almad negreir ...</td>\n",
       "      <td>[titl, jardim, pierrett, author, jos, almad, n...</td>\n",
       "    </tr>\n",
       "    <tr>\n",
       "      <th>2</th>\n",
       "      <td>\\n\\nTitle: A Invenção do Dia Claro\\n\\nAuthor: ...</td>\n",
       "      <td>Almada Negreiros</td>\n",
       "      <td>titl invenca dia clar author jos almad negreir...</td>\n",
       "      <td>[titl, invenca, dia, clar, author, jos, almad,...</td>\n",
       "    </tr>\n",
       "    <tr>\n",
       "      <th>3</th>\n",
       "      <td>\\nTitle: Litoral\\n       A Amadeo de Souza Car...</td>\n",
       "      <td>Almada Negreiros</td>\n",
       "      <td>titl litoral amad souz cardoz author jos almad...</td>\n",
       "      <td>[titl, litoral, amad, souz, cardoz, author, jo...</td>\n",
       "    </tr>\n",
       "    <tr>\n",
       "      <th>4</th>\n",
       "      <td>\\n\\n\\nEXPOSIÇÃO\\n\\n+amadeo\\nde souza\\ncardoso+...</td>\n",
       "      <td>Almada Negreiros</td>\n",
       "      <td>exposica amad souz cardos lig naval lisbo port...</td>\n",
       "      <td>[exposica, amad, souz, cardos, lig, naval, lis...</td>\n",
       "    </tr>\n",
       "    <tr>\n",
       "      <th>5</th>\n",
       "      <td>\\n\\n*JOSÉ DE ALMADA-NEGREIROS*\\n\\n\\n*K4\\n\\no q...</td>\n",
       "      <td>Almada Negreiros</td>\n",
       "      <td>jos almad negreir k quadr azul acab aparec poe...</td>\n",
       "      <td>[jos, almad, negreir, k, quadr, azul, acab, ap...</td>\n",
       "    </tr>\n",
       "    <tr>\n",
       "      <th>6</th>\n",
       "      <td>\\n\\n*\"ORPHEU\"*\\n\\nREVISTA TRIMESTRAL DE LITERA...</td>\n",
       "      <td>Almada Negreiros</td>\n",
       "      <td>orpheu revist trimestral literatur portugal br...</td>\n",
       "      <td>[orpheu, revist, trimestral, literatur, portug...</td>\n",
       "    </tr>\n",
       "    <tr>\n",
       "      <th>7</th>\n",
       "      <td>\\n\\n+a ENGOMADEIRA+\\n\\nNOVELA VULGAR LISBOETA\\...</td>\n",
       "      <td>Almada Negreiros</td>\n",
       "      <td>engomadeir novel vulg lisboet engomadeir jos a...</td>\n",
       "      <td>[engomadeir, novel, vulg, lisboet, engomadeir,...</td>\n",
       "    </tr>\n",
       "    <tr>\n",
       "      <th>8</th>\n",
       "      <td>\\n+MANIFESTO+\\n\\n+ANTI-DANTAS+\\n\\nE\\n\\nPOR EXT...</td>\n",
       "      <td>Almada Negreiros</td>\n",
       "      <td>manifest anti dant extens jos almad negreir po...</td>\n",
       "      <td>[manifest, anti, dant, extens, jos, almad, neg...</td>\n",
       "    </tr>\n",
       "    <tr>\n",
       "      <th>9</th>\n",
       "      <td>O vinho do Porto\\n\\nPROCESSO D'UMA BESTIALIDAD...</td>\n",
       "      <td>Camilo Castelo Branco</td>\n",
       "      <td>vinh port process d bestial inglez exposica th...</td>\n",
       "      <td>[vinh, port, process, d, bestial, inglez, expo...</td>\n",
       "    </tr>\n",
       "    <tr>\n",
       "      <th>10</th>\n",
       "      <td>\\nLIVRO DE CONSOLAÇÃO\\n\\nROMANCE\\n\\nPOR\\n\\nCAM...</td>\n",
       "      <td>Camilo Castelo Branco</td>\n",
       "      <td>livr consolaca romanc camill castell branc nao...</td>\n",
       "      <td>[livr, consolaca, romanc, camill, castell, bra...</td>\n",
       "    </tr>\n",
       "    <tr>\n",
       "      <th>11</th>\n",
       "      <td>AMOR DE PERDIÇÃO\\n\\n\\n(MEMORIAS D'UMA FAMILIA)...</td>\n",
       "      <td>Camilo Castelo Branco</td>\n",
       "      <td>amor perdica memor d famil romanc camill caste...</td>\n",
       "      <td>[amor, perdica, memor, d, famil, romanc, camil...</td>\n",
       "    </tr>\n",
       "    <tr>\n",
       "      <th>12</th>\n",
       "      <td>A QUEDA D'UM ANJO\\n\\nROMANCE\\n\\nPOR\\n\\nCAMILLO...</td>\n",
       "      <td>Camilo Castelo Branco</td>\n",
       "      <td>qued d anjo romanc camill castell branc lisbo ...</td>\n",
       "      <td>[qued, d, anjo, romanc, camill, castell, branc...</td>\n",
       "    </tr>\n",
       "    <tr>\n",
       "      <th>13</th>\n",
       "      <td>\\n\\nA SENHORA RATTAZZI\\n\\nPOR\\n\\nCAMILLO CASTE...</td>\n",
       "      <td>Camilo Castelo Branco</td>\n",
       "      <td>senhor rattazz camill castell branc nov edica ...</td>\n",
       "      <td>[senhor, rattazz, camill, castell, branc, nov,...</td>\n",
       "    </tr>\n",
       "    <tr>\n",
       "      <th>14</th>\n",
       "      <td>\\nOBRAS DE CAMILLO CASTELLO BRANCO\\n\\n_Novella...</td>\n",
       "      <td>Camilo Castelo Branco</td>\n",
       "      <td>obras camill castell branc novell minh volum i...</td>\n",
       "      <td>[obras, camill, castell, branc, novell, minh, ...</td>\n",
       "    </tr>\n",
       "    <tr>\n",
       "      <th>15</th>\n",
       "      <td>SCENAS CONTEMPORANEAS\\n\\nPOR\\n\\nCAMILLO CASTEL...</td>\n",
       "      <td>Camilo Castelo Branco</td>\n",
       "      <td>scen contemporan camill castell branc edica po...</td>\n",
       "      <td>[scen, contemporan, camill, castell, branc, ed...</td>\n",
       "    </tr>\n",
       "    <tr>\n",
       "      <th>16</th>\n",
       "      <td>A GRATIDÃO.\\n\\nROMANCE.\\n\\n\\nI.\\n\\nEstavamos n...</td>\n",
       "      <td>Camilo Castelo Branco</td>\n",
       "      <td>gratida romanc i estav ultim dias dezembr cam ...</td>\n",
       "      <td>[gratida, romanc, i, estav, ultim, dias, dezem...</td>\n",
       "    </tr>\n",
       "    <tr>\n",
       "      <th>17</th>\n",
       "      <td>O ARREPENDIMENTO.\\n\\nROMANCE\\n\\n\\nEm tempos da...</td>\n",
       "      <td>Camilo Castelo Branco</td>\n",
       "      <td>arrepend romanc temp mocidad costum visit miud...</td>\n",
       "      <td>[arrepend, romanc, temp, mocidad, costum, visi...</td>\n",
       "    </tr>\n",
       "    <tr>\n",
       "      <th>18</th>\n",
       "      <td>SUICIDA\\n\\n\\nPORTO Typographia de A. J. da Sil...</td>\n",
       "      <td>Camilo Castelo Branco</td>\n",
       "      <td>suic port typograph j silv teixeir cancell vel...</td>\n",
       "      <td>[suic, port, typograph, j, silv, teixeir, canc...</td>\n",
       "    </tr>\n",
       "    <tr>\n",
       "      <th>19</th>\n",
       "      <td>VOLTAREIS Ó CHRISTO?\\n\\n\\n\\n\\nPorto Imprensa P...</td>\n",
       "      <td>Camilo Castelo Branco</td>\n",
       "      <td>volt christ port imprens portugu bom jardim vo...</td>\n",
       "      <td>[volt, christ, port, imprens, portugu, bom, ja...</td>\n",
       "    </tr>\n",
       "    <tr>\n",
       "      <th>20</th>\n",
       "      <td>\\nROMANCES NACIONAES\\n\\n\\nO REGICIDA\\n\\nRomanc...</td>\n",
       "      <td>Camilo Castelo Branco</td>\n",
       "      <td>romanc naciona regic romanc histor camill cast...</td>\n",
       "      <td>[romanc, naciona, regic, romanc, histor, camil...</td>\n",
       "    </tr>\n",
       "    <tr>\n",
       "      <th>21</th>\n",
       "      <td>ANNOS DE PROSA\\n\\nRomance\\n\\npor\\n\\nCAMILLO CA...</td>\n",
       "      <td>Camilo Castelo Branco</td>\n",
       "      <td>annos pros romanc camill castell branc gratida...</td>\n",
       "      <td>[annos, pros, romanc, camill, castell, branc, ...</td>\n",
       "    </tr>\n",
       "    <tr>\n",
       "      <th>22</th>\n",
       "      <td>OBRAS\\n\\nDE\\n\\nCAMILLO CASTELLO BRANCO\\n\\nEDIÇ...</td>\n",
       "      <td>Camilo Castelo Branco</td>\n",
       "      <td>obras camill castell branc edica popul xxii ol...</td>\n",
       "      <td>[obras, camill, castell, branc, edica, popul, ...</td>\n",
       "    </tr>\n",
       "    <tr>\n",
       "      <th>23</th>\n",
       "      <td>AMOR DE SALVAÇÃO\\n\\nPOR\\n\\nCAMILLO CASTELLO-BR...</td>\n",
       "      <td>Camilo Castelo Branco</td>\n",
       "      <td>amor salvaca camill castell branc heavy pric m...</td>\n",
       "      <td>[amor, salvaca, camill, castell, branc, heavy,...</td>\n",
       "    </tr>\n",
       "    <tr>\n",
       "      <th>24</th>\n",
       "      <td>A FILHA DO ARCEDIAGO\\n\\nFILHA DO ARCEDIAGO\\n\\n...</td>\n",
       "      <td>Camilo Castelo Branco</td>\n",
       "      <td>filh arcediag filh arcediag camill castell bra...</td>\n",
       "      <td>[filh, arcediag, filh, arcediag, camill, caste...</td>\n",
       "    </tr>\n",
       "    <tr>\n",
       "      <th>25</th>\n",
       "      <td>Obras\\n\\nde\\n\\nCamillo Castello Branco\\n\\nEdiç...</td>\n",
       "      <td>Camilo Castelo Branco</td>\n",
       "      <td>obras camill castell branc edica popul xxi agu...</td>\n",
       "      <td>[obras, camill, castell, branc, edica, popul, ...</td>\n",
       "    </tr>\n",
       "    <tr>\n",
       "      <th>26</th>\n",
       "      <td>\\nSCENAS DA FOZ\\n\\nPOR\\n\\nCAMILLO CASTELLO BRA...</td>\n",
       "      <td>Camilo Castelo Branco</td>\n",
       "      <td>scen foz camill castell branc solemn verb ulti...</td>\n",
       "      <td>[scen, foz, camill, castell, branc, solemn, ve...</td>\n",
       "    </tr>\n",
       "    <tr>\n",
       "      <th>27</th>\n",
       "      <td>\\nOBRAS\\n\\nDE\\n\\nCAMILLO CASTELLO BRANCO\\n\\nED...</td>\n",
       "      <td>Camilo Castelo Branco</td>\n",
       "      <td>obras camill castell branc edica popul l estre...</td>\n",
       "      <td>[obras, camill, castell, branc, edica, popul, ...</td>\n",
       "    </tr>\n",
       "    <tr>\n",
       "      <th>28</th>\n",
       "      <td>\\nESTRELLAS PROPICIAS.\\n\\n\\n\\n\\nOBRAS DE CAMIL...</td>\n",
       "      <td>Camilo Castelo Branco</td>\n",
       "      <td>estrell propic obras camill castell branc enco...</td>\n",
       "      <td>[estrell, propic, obras, camill, castell, bran...</td>\n",
       "    </tr>\n",
       "    <tr>\n",
       "      <th>29</th>\n",
       "      <td>\\nA CIDADE E AS SERRAS\\n\\n\\n\\n\\nA CIDADE E AS ...</td>\n",
       "      <td>Eca de Queiros</td>\n",
       "      <td>cidad serr cidad serr i amig jacinth nasc n pa...</td>\n",
       "      <td>[cidad, serr, cidad, serr, i, amig, jacinth, n...</td>\n",
       "    </tr>\n",
       "    <tr>\n",
       "      <th>...</th>\n",
       "      <td>...</td>\n",
       "      <td>...</td>\n",
       "      <td>...</td>\n",
       "      <td>...</td>\n",
       "    </tr>\n",
       "    <tr>\n",
       "      <th>33</th>\n",
       "      <td>\\nEÇA DE QUEIROZ\\n\\nOS MAIAS\\n\\nEPISODIOS DA V...</td>\n",
       "      <td>Eca de Queiros</td>\n",
       "      <td>eca queiroz mai episodi vid romant volum i por...</td>\n",
       "      <td>[eca, queiroz, mai, episodi, vid, romant, volu...</td>\n",
       "    </tr>\n",
       "    <tr>\n",
       "      <th>34</th>\n",
       "      <td>José Rodrigues dos Santos\\n\\nA Filha do Capitã...</td>\n",
       "      <td>Jose Rodrigues dos Santos</td>\n",
       "      <td>jos rodrigu sant filh capita jos rodrigu sant ...</td>\n",
       "      <td>[jos, rodrigu, sant, filh, capita, jos, rodrig...</td>\n",
       "    </tr>\n",
       "    <tr>\n",
       "      <th>35</th>\n",
       "      <td>José Rodrigues dos Santos A FÓRMULA DE DEUS\\n\\...</td>\n",
       "      <td>Jose Rodrigues dos Santos</td>\n",
       "      <td>jos rodrigu sant formul deus editor record rio...</td>\n",
       "      <td>[jos, rodrigu, sant, formul, deus, editor, rec...</td>\n",
       "    </tr>\n",
       "    <tr>\n",
       "      <th>36</th>\n",
       "      <td>A MÃO DO D I A B O r o m a n c e\\n\\n\\n\\nNós so...</td>\n",
       "      <td>Jose Rodrigues dos Santos</td>\n",
       "      <td>mao d i b r m n c propri diab faz dest mund in...</td>\n",
       "      <td>[mao, d, i, b, r, m, n, c, propri, diab, faz, ...</td>\n",
       "    </tr>\n",
       "    <tr>\n",
       "      <th>37</th>\n",
       "      <td>I\\nO sol jorrava por todas as janelas em casca...</td>\n",
       "      <td>Jose Rodrigues dos Santos</td>\n",
       "      <td>i sol jorr tod janel cascat luz tep difus alun...</td>\n",
       "      <td>[i, sol, jorr, tod, janel, cascat, luz, tep, d...</td>\n",
       "    </tr>\n",
       "    <tr>\n",
       "      <th>38</th>\n",
       "      <td>Prólogo\\n\\nAs luzes dos faróis rasgaram a noit...</td>\n",
       "      <td>Jose Rodrigues dos Santos</td>\n",
       "      <td>prolog luz faro rasg noit glacial prenunc frag...</td>\n",
       "      <td>[prolog, luz, faro, rasg, noit, glacial, prenu...</td>\n",
       "    </tr>\n",
       "    <tr>\n",
       "      <th>39</th>\n",
       "      <td>JOSÉ RODRIGUES DOS SANTOS\\n\\nO ANJO BRANCO\\n\\n...</td>\n",
       "      <td>Jose Rodrigues dos Santos</td>\n",
       "      <td>jos rodrigu sant anjo branc part parais ha tal...</td>\n",
       "      <td>[jos, rodrigu, sant, anjo, branc, part, parais...</td>\n",
       "    </tr>\n",
       "    <tr>\n",
       "      <th>40</th>\n",
       "      <td>O SÉTIMO SELO romance\\n\\n\\n © José Rodrigues d...</td>\n",
       "      <td>Jose Rodrigues dos Santos</td>\n",
       "      <td>setim sel romanc c jos rodrigu sant gradiv pub...</td>\n",
       "      <td>[setim, sel, romanc, c, jos, rodrigu, sant, gr...</td>\n",
       "    </tr>\n",
       "    <tr>\n",
       "      <th>41</th>\n",
       "      <td>OBRAS DO AUTOR\\n\\nENSAIO Comunicação, Difusão ...</td>\n",
       "      <td>Jose Rodrigues dos Santos</td>\n",
       "      <td>obras autor ensai comunicaca difusa cultural p...</td>\n",
       "      <td>[obras, autor, ensai, comunicaca, difusa, cult...</td>\n",
       "    </tr>\n",
       "    <tr>\n",
       "      <th>42</th>\n",
       "      <td>José Saramago\\n\\nA caverna\\n\\n\\nRomance Novemb...</td>\n",
       "      <td>Jose Saramago</td>\n",
       "      <td>jos saramag cavern romanc novembr editorial ca...</td>\n",
       "      <td>[jos, saramag, cavern, romanc, novembr, editor...</td>\n",
       "    </tr>\n",
       "    <tr>\n",
       "      <th>43</th>\n",
       "      <td>José Saramago As intermitências da morte\\nComp...</td>\n",
       "      <td>Jose Saramago</td>\n",
       "      <td>jos saramag intermitenc mort companh letr copy...</td>\n",
       "      <td>[jos, saramag, intermitenc, mort, companh, let...</td>\n",
       "    </tr>\n",
       "    <tr>\n",
       "      <th>44</th>\n",
       "      <td>JOSÉ SARAMAGO\\n\\nCAIM\\n\\nCAMINHO\\n\\nBadana da ...</td>\n",
       "      <td>Jose Saramago</td>\n",
       "      <td>jos saramag caim caminh badan cap jos saramag ...</td>\n",
       "      <td>[jos, saramag, caim, caminh, badan, cap, jos, ...</td>\n",
       "    </tr>\n",
       "    <tr>\n",
       "      <th>45</th>\n",
       "      <td>José Saramago\\n\\n(Prêmio Nobel de Literatura)\\...</td>\n",
       "      <td>Jose Saramago</td>\n",
       "      <td>jos saramag premi nobel literatur clarabo i ve...</td>\n",
       "      <td>[jos, saramag, premi, nobel, literatur, clarab...</td>\n",
       "    </tr>\n",
       "    <tr>\n",
       "      <th>46</th>\n",
       "      <td>Livro dos Conselhos\\n\\n\\n\\nO disco amarelo ilu...</td>\n",
       "      <td>Jose Saramago</td>\n",
       "      <td>livr conselh disc amarel ilumin dois automov f...</td>\n",
       "      <td>[livr, conselh, disc, amarel, ilumin, dois, au...</td>\n",
       "    </tr>\n",
       "    <tr>\n",
       "      <th>47</th>\n",
       "      <td>José Saramago\\n\\nHistória do cerco de Lisboa h...</td>\n",
       "      <td>Jose Saramago</td>\n",
       "      <td>jos saramag histor cerc lisbo http groups goog...</td>\n",
       "      <td>[jos, saramag, histor, cerc, lisbo, http, grou...</td>\n",
       "    </tr>\n",
       "    <tr>\n",
       "      <th>48</th>\n",
       "      <td>MEMORIAL DO CONVENTO José Saramago JOSÉ SARAMA...</td>\n",
       "      <td>Jose Saramago</td>\n",
       "      <td>memorial convent jos saramag jos saramag nasc ...</td>\n",
       "      <td>[memorial, convent, jos, saramag, jos, saramag...</td>\n",
       "    </tr>\n",
       "    <tr>\n",
       "      <th>49</th>\n",
       "      <td>José Saramago\\n\\nO ano da morte de Ricardo Rei...</td>\n",
       "      <td>Jose Saramago</td>\n",
       "      <td>jos saramag ano mort ricard reis aqu mar acab ...</td>\n",
       "      <td>[jos, saramag, ano, mort, ricard, reis, aqu, m...</td>\n",
       "    </tr>\n",
       "    <tr>\n",
       "      <th>50</th>\n",
       "      <td>José Saramago\\n\\nO conto da ilha desconhecida\\...</td>\n",
       "      <td>Jose Saramago</td>\n",
       "      <td>jos saramag cont ilha desconhec hom bat port r...</td>\n",
       "      <td>[jos, saramag, cont, ilha, desconhec, hom, bat...</td>\n",
       "    </tr>\n",
       "    <tr>\n",
       "      <th>51</th>\n",
       "      <td>O HOMEM DUPLICADO\\n\\nJosé Saramago\\n\\n***\\n\\nO...</td>\n",
       "      <td>Jose Saramago</td>\n",
       "      <td>hom duplic jos saramag hom acab entrar loj alu...</td>\n",
       "      <td>[hom, duplic, jos, saramag, hom, acab, entrar,...</td>\n",
       "    </tr>\n",
       "    <tr>\n",
       "      <th>52</th>\n",
       "      <td>José Saramago\\n\\nTerra do Pecado\\n\\nAviso\\nO a...</td>\n",
       "      <td>Jose Saramago</td>\n",
       "      <td>jos saramag terr pec avis autor rapaz vint qua...</td>\n",
       "      <td>[jos, saramag, terr, pec, avis, autor, rapaz, ...</td>\n",
       "    </tr>\n",
       "    <tr>\n",
       "      <th>53</th>\n",
       "      <td>\\n a viagem do elefante obras do autor publica...</td>\n",
       "      <td>Jose Saramago</td>\n",
       "      <td>viag elef obras autor public companh letr ano ...</td>\n",
       "      <td>[viag, elef, obras, autor, public, companh, le...</td>\n",
       "    </tr>\n",
       "    <tr>\n",
       "      <th>54</th>\n",
       "      <td>A BELA HISTÓRIA DE DINIS E BEATRIZ OU REQUIEM ...</td>\n",
       "      <td>Luisa Marques Silva</td>\n",
       "      <td>bel histor din beatriz requi borbulh din menin...</td>\n",
       "      <td>[bel, histor, din, beatriz, requi, borbulh, di...</td>\n",
       "    </tr>\n",
       "    <tr>\n",
       "      <th>55</th>\n",
       "      <td>\\n\\n\\nAcabou-se!\\nLuísa Marques da Silva\\n\\nTí...</td>\n",
       "      <td>Luisa Marques Silva</td>\n",
       "      <td>acab luis marqu silv titul acab autor magnif g...</td>\n",
       "      <td>[acab, luis, marqu, silv, titul, acab, autor, ...</td>\n",
       "    </tr>\n",
       "    <tr>\n",
       "      <th>56</th>\n",
       "      <td>O terrível caso do botão assassino\\nLuísa Marq...</td>\n",
       "      <td>Luisa Marques Silva</td>\n",
       "      <td>terrivel cas bota assassin luis marqu silv tit...</td>\n",
       "      <td>[terrivel, cas, bota, assassin, luis, marqu, s...</td>\n",
       "    </tr>\n",
       "    <tr>\n",
       "      <th>57</th>\n",
       "      <td>CONTROL Z\\nChegou a hora de vos contar. Chegou...</td>\n",
       "      <td>Luisa Marques Silva</td>\n",
       "      <td>control z cheg hor cont cheg hor explic raza e...</td>\n",
       "      <td>[control, z, cheg, hor, cont, cheg, hor, expli...</td>\n",
       "    </tr>\n",
       "    <tr>\n",
       "      <th>58</th>\n",
       "      <td>Título\\ne-medo\\n\\nAutora (inspiradíssima)\\nLuí...</td>\n",
       "      <td>Luisa Marques Silva</td>\n",
       "      <td>titul med autor inspiradissim luis marqu silv ...</td>\n",
       "      <td>[titul, med, autor, inspiradissim, luis, marqu...</td>\n",
       "    </tr>\n",
       "    <tr>\n",
       "      <th>59</th>\n",
       "      <td>LISBOA 2050\\nLisboa, ano de 2050. Um Agosto tã...</td>\n",
       "      <td>Luisa Marques Silva</td>\n",
       "      <td>lisbo lisbo ano agost tao gel ha vint anos atr...</td>\n",
       "      <td>[lisbo, lisbo, ano, agost, tao, gel, ha, vint,...</td>\n",
       "    </tr>\n",
       "    <tr>\n",
       "      <th>60</th>\n",
       "      <td>Título\\nUm passeio pelo inferno\\n\\nAutora\\nLuí...</td>\n",
       "      <td>Luisa Marques Silva</td>\n",
       "      <td>titul passei infern autor luis marqu silv tod ...</td>\n",
       "      <td>[titul, passei, infern, autor, luis, marqu, si...</td>\n",
       "    </tr>\n",
       "    <tr>\n",
       "      <th>61</th>\n",
       "      <td>Título\\nRapsódia sem dó (maior)\\n\\nAutora\\nLuí...</td>\n",
       "      <td>Luisa Marques Silva</td>\n",
       "      <td>titul rapsod maior autor luis marqu silv tod d...</td>\n",
       "      <td>[titul, rapsod, maior, autor, luis, marqu, sil...</td>\n",
       "    </tr>\n",
       "    <tr>\n",
       "      <th>62</th>\n",
       "      <td>Título\\nA última história\\n\\nAutora (próximo N...</td>\n",
       "      <td>Luisa Marques Silva</td>\n",
       "      <td>titul ultim histor autor proxim nobel luis mar...</td>\n",
       "      <td>[titul, ultim, histor, autor, proxim, nobel, l...</td>\n",
       "    </tr>\n",
       "  </tbody>\n",
       "</table>\n",
       "<p>63 rows × 4 columns</p>\n",
       "</div>"
      ],
      "text/plain": [
       "                                                 Text  \\\n",
       "0   Title: A Scena do Odio\\n\\nAuthor: José de Alma...   \n",
       "1   Title: O Jardim da Pierrette\\n\\nAuthor: José d...   \n",
       "2   \\n\\nTitle: A Invenção do Dia Claro\\n\\nAuthor: ...   \n",
       "3   \\nTitle: Litoral\\n       A Amadeo de Souza Car...   \n",
       "4   \\n\\n\\nEXPOSIÇÃO\\n\\n+amadeo\\nde souza\\ncardoso+...   \n",
       "5   \\n\\n*JOSÉ DE ALMADA-NEGREIROS*\\n\\n\\n*K4\\n\\no q...   \n",
       "6   \\n\\n*\"ORPHEU\"*\\n\\nREVISTA TRIMESTRAL DE LITERA...   \n",
       "7   \\n\\n+a ENGOMADEIRA+\\n\\nNOVELA VULGAR LISBOETA\\...   \n",
       "8   \\n+MANIFESTO+\\n\\n+ANTI-DANTAS+\\n\\nE\\n\\nPOR EXT...   \n",
       "9   O vinho do Porto\\n\\nPROCESSO D'UMA BESTIALIDAD...   \n",
       "10  \\nLIVRO DE CONSOLAÇÃO\\n\\nROMANCE\\n\\nPOR\\n\\nCAM...   \n",
       "11  AMOR DE PERDIÇÃO\\n\\n\\n(MEMORIAS D'UMA FAMILIA)...   \n",
       "12  A QUEDA D'UM ANJO\\n\\nROMANCE\\n\\nPOR\\n\\nCAMILLO...   \n",
       "13  \\n\\nA SENHORA RATTAZZI\\n\\nPOR\\n\\nCAMILLO CASTE...   \n",
       "14  \\nOBRAS DE CAMILLO CASTELLO BRANCO\\n\\n_Novella...   \n",
       "15  SCENAS CONTEMPORANEAS\\n\\nPOR\\n\\nCAMILLO CASTEL...   \n",
       "16  A GRATIDÃO.\\n\\nROMANCE.\\n\\n\\nI.\\n\\nEstavamos n...   \n",
       "17  O ARREPENDIMENTO.\\n\\nROMANCE\\n\\n\\nEm tempos da...   \n",
       "18  SUICIDA\\n\\n\\nPORTO Typographia de A. J. da Sil...   \n",
       "19  VOLTAREIS Ó CHRISTO?\\n\\n\\n\\n\\nPorto Imprensa P...   \n",
       "20  \\nROMANCES NACIONAES\\n\\n\\nO REGICIDA\\n\\nRomanc...   \n",
       "21  ANNOS DE PROSA\\n\\nRomance\\n\\npor\\n\\nCAMILLO CA...   \n",
       "22  OBRAS\\n\\nDE\\n\\nCAMILLO CASTELLO BRANCO\\n\\nEDIÇ...   \n",
       "23  AMOR DE SALVAÇÃO\\n\\nPOR\\n\\nCAMILLO CASTELLO-BR...   \n",
       "24  A FILHA DO ARCEDIAGO\\n\\nFILHA DO ARCEDIAGO\\n\\n...   \n",
       "25  Obras\\n\\nde\\n\\nCamillo Castello Branco\\n\\nEdiç...   \n",
       "26  \\nSCENAS DA FOZ\\n\\nPOR\\n\\nCAMILLO CASTELLO BRA...   \n",
       "27  \\nOBRAS\\n\\nDE\\n\\nCAMILLO CASTELLO BRANCO\\n\\nED...   \n",
       "28  \\nESTRELLAS PROPICIAS.\\n\\n\\n\\n\\nOBRAS DE CAMIL...   \n",
       "29  \\nA CIDADE E AS SERRAS\\n\\n\\n\\n\\nA CIDADE E AS ...   \n",
       "..                                                ...   \n",
       "33  \\nEÇA DE QUEIROZ\\n\\nOS MAIAS\\n\\nEPISODIOS DA V...   \n",
       "34  José Rodrigues dos Santos\\n\\nA Filha do Capitã...   \n",
       "35  José Rodrigues dos Santos A FÓRMULA DE DEUS\\n\\...   \n",
       "36  A MÃO DO D I A B O r o m a n c e\\n\\n\\n\\nNós so...   \n",
       "37  I\\nO sol jorrava por todas as janelas em casca...   \n",
       "38  Prólogo\\n\\nAs luzes dos faróis rasgaram a noit...   \n",
       "39  JOSÉ RODRIGUES DOS SANTOS\\n\\nO ANJO BRANCO\\n\\n...   \n",
       "40  O SÉTIMO SELO romance\\n\\n\\n © José Rodrigues d...   \n",
       "41  OBRAS DO AUTOR\\n\\nENSAIO Comunicação, Difusão ...   \n",
       "42  José Saramago\\n\\nA caverna\\n\\n\\nRomance Novemb...   \n",
       "43  José Saramago As intermitências da morte\\nComp...   \n",
       "44  JOSÉ SARAMAGO\\n\\nCAIM\\n\\nCAMINHO\\n\\nBadana da ...   \n",
       "45  José Saramago\\n\\n(Prêmio Nobel de Literatura)\\...   \n",
       "46  Livro dos Conselhos\\n\\n\\n\\nO disco amarelo ilu...   \n",
       "47  José Saramago\\n\\nHistória do cerco de Lisboa h...   \n",
       "48  MEMORIAL DO CONVENTO José Saramago JOSÉ SARAMA...   \n",
       "49  José Saramago\\n\\nO ano da morte de Ricardo Rei...   \n",
       "50  José Saramago\\n\\nO conto da ilha desconhecida\\...   \n",
       "51  O HOMEM DUPLICADO\\n\\nJosé Saramago\\n\\n***\\n\\nO...   \n",
       "52  José Saramago\\n\\nTerra do Pecado\\n\\nAviso\\nO a...   \n",
       "53  \\n a viagem do elefante obras do autor publica...   \n",
       "54  A BELA HISTÓRIA DE DINIS E BEATRIZ OU REQUIEM ...   \n",
       "55  \\n\\n\\nAcabou-se!\\nLuísa Marques da Silva\\n\\nTí...   \n",
       "56  O terrível caso do botão assassino\\nLuísa Marq...   \n",
       "57  CONTROL Z\\nChegou a hora de vos contar. Chegou...   \n",
       "58  Título\\ne-medo\\n\\nAutora (inspiradíssima)\\nLuí...   \n",
       "59  LISBOA 2050\\nLisboa, ano de 2050. Um Agosto tã...   \n",
       "60  Título\\nUm passeio pelo inferno\\n\\nAutora\\nLuí...   \n",
       "61  Título\\nRapsódia sem dó (maior)\\n\\nAutora\\nLuí...   \n",
       "62  Título\\nA última história\\n\\nAutora (próximo N...   \n",
       "\n",
       "                       Author  \\\n",
       "0            Almada Negreiros   \n",
       "1            Almada Negreiros   \n",
       "2            Almada Negreiros   \n",
       "3            Almada Negreiros   \n",
       "4            Almada Negreiros   \n",
       "5            Almada Negreiros   \n",
       "6            Almada Negreiros   \n",
       "7            Almada Negreiros   \n",
       "8            Almada Negreiros   \n",
       "9       Camilo Castelo Branco   \n",
       "10      Camilo Castelo Branco   \n",
       "11      Camilo Castelo Branco   \n",
       "12      Camilo Castelo Branco   \n",
       "13      Camilo Castelo Branco   \n",
       "14      Camilo Castelo Branco   \n",
       "15      Camilo Castelo Branco   \n",
       "16      Camilo Castelo Branco   \n",
       "17      Camilo Castelo Branco   \n",
       "18      Camilo Castelo Branco   \n",
       "19      Camilo Castelo Branco   \n",
       "20      Camilo Castelo Branco   \n",
       "21      Camilo Castelo Branco   \n",
       "22      Camilo Castelo Branco   \n",
       "23      Camilo Castelo Branco   \n",
       "24      Camilo Castelo Branco   \n",
       "25      Camilo Castelo Branco   \n",
       "26      Camilo Castelo Branco   \n",
       "27      Camilo Castelo Branco   \n",
       "28      Camilo Castelo Branco   \n",
       "29             Eca de Queiros   \n",
       "..                        ...   \n",
       "33             Eca de Queiros   \n",
       "34  Jose Rodrigues dos Santos   \n",
       "35  Jose Rodrigues dos Santos   \n",
       "36  Jose Rodrigues dos Santos   \n",
       "37  Jose Rodrigues dos Santos   \n",
       "38  Jose Rodrigues dos Santos   \n",
       "39  Jose Rodrigues dos Santos   \n",
       "40  Jose Rodrigues dos Santos   \n",
       "41  Jose Rodrigues dos Santos   \n",
       "42              Jose Saramago   \n",
       "43              Jose Saramago   \n",
       "44              Jose Saramago   \n",
       "45              Jose Saramago   \n",
       "46              Jose Saramago   \n",
       "47              Jose Saramago   \n",
       "48              Jose Saramago   \n",
       "49              Jose Saramago   \n",
       "50              Jose Saramago   \n",
       "51              Jose Saramago   \n",
       "52              Jose Saramago   \n",
       "53              Jose Saramago   \n",
       "54        Luisa Marques Silva   \n",
       "55        Luisa Marques Silva   \n",
       "56        Luisa Marques Silva   \n",
       "57        Luisa Marques Silva   \n",
       "58        Luisa Marques Silva   \n",
       "59        Luisa Marques Silva   \n",
       "60        Luisa Marques Silva   \n",
       "61        Luisa Marques Silva   \n",
       "62        Luisa Marques Silva   \n",
       "\n",
       "                                           Clean Text  \\\n",
       "0   titl scen odi author jos almad negreir releas ...   \n",
       "1   titl jardim pierrett author jos almad negreir ...   \n",
       "2   titl invenca dia clar author jos almad negreir...   \n",
       "3   titl litoral amad souz cardoz author jos almad...   \n",
       "4   exposica amad souz cardos lig naval lisbo port...   \n",
       "5   jos almad negreir k quadr azul acab aparec poe...   \n",
       "6   orpheu revist trimestral literatur portugal br...   \n",
       "7   engomadeir novel vulg lisboet engomadeir jos a...   \n",
       "8   manifest anti dant extens jos almad negreir po...   \n",
       "9   vinh port process d bestial inglez exposica th...   \n",
       "10  livr consolaca romanc camill castell branc nao...   \n",
       "11  amor perdica memor d famil romanc camill caste...   \n",
       "12  qued d anjo romanc camill castell branc lisbo ...   \n",
       "13  senhor rattazz camill castell branc nov edica ...   \n",
       "14  obras camill castell branc novell minh volum i...   \n",
       "15  scen contemporan camill castell branc edica po...   \n",
       "16  gratida romanc i estav ultim dias dezembr cam ...   \n",
       "17  arrepend romanc temp mocidad costum visit miud...   \n",
       "18  suic port typograph j silv teixeir cancell vel...   \n",
       "19  volt christ port imprens portugu bom jardim vo...   \n",
       "20  romanc naciona regic romanc histor camill cast...   \n",
       "21  annos pros romanc camill castell branc gratida...   \n",
       "22  obras camill castell branc edica popul xxii ol...   \n",
       "23  amor salvaca camill castell branc heavy pric m...   \n",
       "24  filh arcediag filh arcediag camill castell bra...   \n",
       "25  obras camill castell branc edica popul xxi agu...   \n",
       "26  scen foz camill castell branc solemn verb ulti...   \n",
       "27  obras camill castell branc edica popul l estre...   \n",
       "28  estrell propic obras camill castell branc enco...   \n",
       "29  cidad serr cidad serr i amig jacinth nasc n pa...   \n",
       "..                                                ...   \n",
       "33  eca queiroz mai episodi vid romant volum i por...   \n",
       "34  jos rodrigu sant filh capita jos rodrigu sant ...   \n",
       "35  jos rodrigu sant formul deus editor record rio...   \n",
       "36  mao d i b r m n c propri diab faz dest mund in...   \n",
       "37  i sol jorr tod janel cascat luz tep difus alun...   \n",
       "38  prolog luz faro rasg noit glacial prenunc frag...   \n",
       "39  jos rodrigu sant anjo branc part parais ha tal...   \n",
       "40  setim sel romanc c jos rodrigu sant gradiv pub...   \n",
       "41  obras autor ensai comunicaca difusa cultural p...   \n",
       "42  jos saramag cavern romanc novembr editorial ca...   \n",
       "43  jos saramag intermitenc mort companh letr copy...   \n",
       "44  jos saramag caim caminh badan cap jos saramag ...   \n",
       "45  jos saramag premi nobel literatur clarabo i ve...   \n",
       "46  livr conselh disc amarel ilumin dois automov f...   \n",
       "47  jos saramag histor cerc lisbo http groups goog...   \n",
       "48  memorial convent jos saramag jos saramag nasc ...   \n",
       "49  jos saramag ano mort ricard reis aqu mar acab ...   \n",
       "50  jos saramag cont ilha desconhec hom bat port r...   \n",
       "51  hom duplic jos saramag hom acab entrar loj alu...   \n",
       "52  jos saramag terr pec avis autor rapaz vint qua...   \n",
       "53  viag elef obras autor public companh letr ano ...   \n",
       "54  bel histor din beatriz requi borbulh din menin...   \n",
       "55  acab luis marqu silv titul acab autor magnif g...   \n",
       "56  terrivel cas bota assassin luis marqu silv tit...   \n",
       "57  control z cheg hor cont cheg hor explic raza e...   \n",
       "58  titul med autor inspiradissim luis marqu silv ...   \n",
       "59  lisbo lisbo ano agost tao gel ha vint anos atr...   \n",
       "60  titul passei infern autor luis marqu silv tod ...   \n",
       "61  titul rapsod maior autor luis marqu silv tod d...   \n",
       "62  titul ultim histor autor proxim nobel luis mar...   \n",
       "\n",
       "                                            Word List  \n",
       "0   [titl, scen, odi, author, jos, almad, negreir,...  \n",
       "1   [titl, jardim, pierrett, author, jos, almad, n...  \n",
       "2   [titl, invenca, dia, clar, author, jos, almad,...  \n",
       "3   [titl, litoral, amad, souz, cardoz, author, jo...  \n",
       "4   [exposica, amad, souz, cardos, lig, naval, lis...  \n",
       "5   [jos, almad, negreir, k, quadr, azul, acab, ap...  \n",
       "6   [orpheu, revist, trimestral, literatur, portug...  \n",
       "7   [engomadeir, novel, vulg, lisboet, engomadeir,...  \n",
       "8   [manifest, anti, dant, extens, jos, almad, neg...  \n",
       "9   [vinh, port, process, d, bestial, inglez, expo...  \n",
       "10  [livr, consolaca, romanc, camill, castell, bra...  \n",
       "11  [amor, perdica, memor, d, famil, romanc, camil...  \n",
       "12  [qued, d, anjo, romanc, camill, castell, branc...  \n",
       "13  [senhor, rattazz, camill, castell, branc, nov,...  \n",
       "14  [obras, camill, castell, branc, novell, minh, ...  \n",
       "15  [scen, contemporan, camill, castell, branc, ed...  \n",
       "16  [gratida, romanc, i, estav, ultim, dias, dezem...  \n",
       "17  [arrepend, romanc, temp, mocidad, costum, visi...  \n",
       "18  [suic, port, typograph, j, silv, teixeir, canc...  \n",
       "19  [volt, christ, port, imprens, portugu, bom, ja...  \n",
       "20  [romanc, naciona, regic, romanc, histor, camil...  \n",
       "21  [annos, pros, romanc, camill, castell, branc, ...  \n",
       "22  [obras, camill, castell, branc, edica, popul, ...  \n",
       "23  [amor, salvaca, camill, castell, branc, heavy,...  \n",
       "24  [filh, arcediag, filh, arcediag, camill, caste...  \n",
       "25  [obras, camill, castell, branc, edica, popul, ...  \n",
       "26  [scen, foz, camill, castell, branc, solemn, ve...  \n",
       "27  [obras, camill, castell, branc, edica, popul, ...  \n",
       "28  [estrell, propic, obras, camill, castell, bran...  \n",
       "29  [cidad, serr, cidad, serr, i, amig, jacinth, n...  \n",
       "..                                                ...  \n",
       "33  [eca, queiroz, mai, episodi, vid, romant, volu...  \n",
       "34  [jos, rodrigu, sant, filh, capita, jos, rodrig...  \n",
       "35  [jos, rodrigu, sant, formul, deus, editor, rec...  \n",
       "36  [mao, d, i, b, r, m, n, c, propri, diab, faz, ...  \n",
       "37  [i, sol, jorr, tod, janel, cascat, luz, tep, d...  \n",
       "38  [prolog, luz, faro, rasg, noit, glacial, prenu...  \n",
       "39  [jos, rodrigu, sant, anjo, branc, part, parais...  \n",
       "40  [setim, sel, romanc, c, jos, rodrigu, sant, gr...  \n",
       "41  [obras, autor, ensai, comunicaca, difusa, cult...  \n",
       "42  [jos, saramag, cavern, romanc, novembr, editor...  \n",
       "43  [jos, saramag, intermitenc, mort, companh, let...  \n",
       "44  [jos, saramag, caim, caminh, badan, cap, jos, ...  \n",
       "45  [jos, saramag, premi, nobel, literatur, clarab...  \n",
       "46  [livr, conselh, disc, amarel, ilumin, dois, au...  \n",
       "47  [jos, saramag, histor, cerc, lisbo, http, grou...  \n",
       "48  [memorial, convent, jos, saramag, jos, saramag...  \n",
       "49  [jos, saramag, ano, mort, ricard, reis, aqu, m...  \n",
       "50  [jos, saramag, cont, ilha, desconhec, hom, bat...  \n",
       "51  [hom, duplic, jos, saramag, hom, acab, entrar,...  \n",
       "52  [jos, saramag, terr, pec, avis, autor, rapaz, ...  \n",
       "53  [viag, elef, obras, autor, public, companh, le...  \n",
       "54  [bel, histor, din, beatriz, requi, borbulh, di...  \n",
       "55  [acab, luis, marqu, silv, titul, acab, autor, ...  \n",
       "56  [terrivel, cas, bota, assassin, luis, marqu, s...  \n",
       "57  [control, z, cheg, hor, cont, cheg, hor, expli...  \n",
       "58  [titul, med, autor, inspiradissim, luis, marqu...  \n",
       "59  [lisbo, lisbo, ano, agost, tao, gel, ha, vint,...  \n",
       "60  [titul, passei, infern, autor, luis, marqu, si...  \n",
       "61  [titul, rapsod, maior, autor, luis, marqu, sil...  \n",
       "62  [titul, ultim, histor, autor, proxim, nobel, l...  \n",
       "\n",
       "[63 rows x 4 columns]"
      ]
     },
     "execution_count": 16,
     "metadata": {},
     "output_type": "execute_result"
    }
   ],
   "source": [
    "corpora"
   ]
  },
  {
   "cell_type": "code",
   "execution_count": 17,
   "metadata": {},
   "outputs": [
    {
     "data": {
      "application/vnd.jupyter.widget-view+json": {
       "model_id": "ad0cffaebefa416bb4a85dde0c0c0e96",
       "version_major": 2,
       "version_minor": 0
      },
      "text/plain": [
       "HBox(children=(IntProgress(value=0, max=63), HTML(value='')))"
      ]
     },
     "metadata": {},
     "output_type": "display_data"
    },
    {
     "name": "stdout",
     "output_type": "stream",
     "text": [
      "\n"
     ]
    },
    {
     "data": {
      "text/html": [
       "<div>\n",
       "<style scoped>\n",
       "    .dataframe tbody tr th:only-of-type {\n",
       "        vertical-align: middle;\n",
       "    }\n",
       "\n",
       "    .dataframe tbody tr th {\n",
       "        vertical-align: top;\n",
       "    }\n",
       "\n",
       "    .dataframe thead th {\n",
       "        text-align: right;\n",
       "    }\n",
       "</style>\n",
       "<table border=\"1\" class=\"dataframe\">\n",
       "  <thead>\n",
       "    <tr style=\"text-align: right;\">\n",
       "      <th></th>\n",
       "      <th>OG Index</th>\n",
       "      <th>500 Word List</th>\n",
       "      <th>500 Clean Text</th>\n",
       "    </tr>\n",
       "  </thead>\n",
       "  <tbody>\n",
       "    <tr>\n",
       "      <th>0</th>\n",
       "      <td>0</td>\n",
       "      <td>[titl, scen, odi, author, jos, almad, negreir,...</td>\n",
       "      <td>titl scen odi author jos almad negreir releas ...</td>\n",
       "    </tr>\n",
       "    <tr>\n",
       "      <th>1</th>\n",
       "      <td>0</td>\n",
       "      <td>[cabeleir, prat, estilhac, herald, vitra, desp...</td>\n",
       "      <td>cabeleir prat estilhac herald vitra despeg len...</td>\n",
       "    </tr>\n",
       "    <tr>\n",
       "      <th>2</th>\n",
       "      <td>0</td>\n",
       "      <td>[cabec, ve, so, olhos, vir, cheir, cheir, terr...</td>\n",
       "      <td>cabec ve so olhos vir cheir cheir terr com ter...</td>\n",
       "    </tr>\n",
       "    <tr>\n",
       "      <th>3</th>\n",
       "      <td>1</td>\n",
       "      <td>[titl, jardim, pierrett, author, jos, almad, n...</td>\n",
       "      <td>titl jardim pierrett author jos almad negreir ...</td>\n",
       "    </tr>\n",
       "    <tr>\n",
       "      <th>4</th>\n",
       "      <td>2</td>\n",
       "      <td>[titl, invenca, dia, clar, author, jos, almad,...</td>\n",
       "      <td>titl invenca dia clar author jos almad negreir...</td>\n",
       "    </tr>\n",
       "    <tr>\n",
       "      <th>5</th>\n",
       "      <td>2</td>\n",
       "      <td>[i, part, andaim, vesp, conferenc, improvis, s...</td>\n",
       "      <td>i part andaim vesp conferenc improvis senhor s...</td>\n",
       "    </tr>\n",
       "    <tr>\n",
       "      <th>6</th>\n",
       "      <td>2</td>\n",
       "      <td>[palavr, tod, gost, coll, algum, d, pacienc, p...</td>\n",
       "      <td>palavr tod gost coll algum d pacienc palavr sa...</td>\n",
       "    </tr>\n",
       "    <tr>\n",
       "      <th>7</th>\n",
       "      <td>2</td>\n",
       "      <td>[ouv, cruz, encruzilh, cad, parec, reconhec, a...</td>\n",
       "      <td>ouv cruz encruzilh cad parec reconhec aquell m...</td>\n",
       "    </tr>\n",
       "    <tr>\n",
       "      <th>8</th>\n",
       "      <td>2</td>\n",
       "      <td>[exist, nao, tao, devag, quadr, azul, par, dia...</td>\n",
       "      <td>exist nao tao devag quadr azul par dia vez ir ...</td>\n",
       "    </tr>\n",
       "    <tr>\n",
       "      <th>9</th>\n",
       "      <td>2</td>\n",
       "      <td>[quer, advinh, taes, palavr, outr, vez, anjo, ...</td>\n",
       "      <td>quer advinh taes palavr outr vez anjo guard pe...</td>\n",
       "    </tr>\n",
       "    <tr>\n",
       "      <th>10</th>\n",
       "      <td>2</td>\n",
       "      <td>[papel, chei, linh, umas, n, direcca, outr, n,...</td>\n",
       "      <td>papel chei linh umas n direcca outr n outr uma...</td>\n",
       "    </tr>\n",
       "    <tr>\n",
       "      <th>11</th>\n",
       "      <td>3</td>\n",
       "      <td>[titl, litoral, amad, souz, cardoz, author, jo...</td>\n",
       "      <td>titl litoral amad souz cardoz author jos almad...</td>\n",
       "    </tr>\n",
       "    <tr>\n",
       "      <th>12</th>\n",
       "      <td>4</td>\n",
       "      <td>[exposica, amad, souz, cardos, lig, naval, lis...</td>\n",
       "      <td>exposica amad souz cardos lig naval lisbo port...</td>\n",
       "    </tr>\n",
       "    <tr>\n",
       "      <th>13</th>\n",
       "      <td>5</td>\n",
       "      <td>[jos, almad, negreir, k, quadr, azul, acab, ap...</td>\n",
       "      <td>jos almad negreir k quadr azul acab aparec poe...</td>\n",
       "    </tr>\n",
       "    <tr>\n",
       "      <th>14</th>\n",
       "      <td>5</td>\n",
       "      <td>[feit, hom, aind, infam, deus, ter, nasc, port...</td>\n",
       "      <td>feit hom aind infam deus ter nasc portuguez ja...</td>\n",
       "    </tr>\n",
       "    <tr>\n",
       "      <th>15</th>\n",
       "      <td>5</td>\n",
       "      <td>[nenhum, fac, quadr, azul, reproduz, nit, golp...</td>\n",
       "      <td>nenhum fac quadr azul reproduz nit golp radium...</td>\n",
       "    </tr>\n",
       "    <tr>\n",
       "      <th>16</th>\n",
       "      <td>5</td>\n",
       "      <td>[illumin, perpendicular, direcca, energ, pra, ...</td>\n",
       "      <td>illumin perpendicular direcca energ pra la vid...</td>\n",
       "    </tr>\n",
       "    <tr>\n",
       "      <th>17</th>\n",
       "      <td>5</td>\n",
       "      <td>[desesper, d, agu, outr, vez, diagona, divid, ...</td>\n",
       "      <td>desesper d agu outr vez diagona divid quadr ra...</td>\n",
       "    </tr>\n",
       "    <tr>\n",
       "      <th>18</th>\n",
       "      <td>5</td>\n",
       "      <td>[tod, ate, instant, pens, mim, quer, noca, exa...</td>\n",
       "      <td>tod ate instant pens mim quer noca exact inten...</td>\n",
       "    </tr>\n",
       "    <tr>\n",
       "      <th>19</th>\n",
       "      <td>5</td>\n",
       "      <td>[maci, loir, habit, lingu, direca, gest, atitu...</td>\n",
       "      <td>maci loir habit lingu direca gest atitud tud d...</td>\n",
       "    </tr>\n",
       "    <tr>\n",
       "      <th>20</th>\n",
       "      <td>5</td>\n",
       "      <td>[bast, so, pra, human, tod, so, instant, imanc...</td>\n",
       "      <td>bast so pra human tod so instant imancip unani...</td>\n",
       "    </tr>\n",
       "    <tr>\n",
       "      <th>21</th>\n",
       "      <td>6</td>\n",
       "      <td>[orpheu, revist, trimestral, literatur, portug...</td>\n",
       "      <td>orpheu revist trimestral literatur portugal br...</td>\n",
       "    </tr>\n",
       "    <tr>\n",
       "      <th>22</th>\n",
       "      <td>6</td>\n",
       "      <td>[elevaca, unidad, discreca, onde, depend, harm...</td>\n",
       "      <td>elevaca unidad discreca onde depend harmon est...</td>\n",
       "    </tr>\n",
       "    <tr>\n",
       "      <th>23</th>\n",
       "      <td>6</td>\n",
       "      <td>[olha, la, vai, vals, vest, casac, salo, vic, ...</td>\n",
       "      <td>olha la vai vals vest casac salo vic rei sub m...</td>\n",
       "    </tr>\n",
       "    <tr>\n",
       "      <th>24</th>\n",
       "      <td>6</td>\n",
       "      <td>[castel, rub, opal, tanj, poent, harp, silenc,...</td>\n",
       "      <td>castel rub opal tanj poent harp silenc agon al...</td>\n",
       "    </tr>\n",
       "    <tr>\n",
       "      <th>25</th>\n",
       "      <td>6</td>\n",
       "      <td>[primeir, sent, frent, janell, cost, contr, to...</td>\n",
       "      <td>primeir sent frent janell cost contr toch cim ...</td>\n",
       "    </tr>\n",
       "    <tr>\n",
       "      <th>26</th>\n",
       "      <td>6</td>\n",
       "      <td>[porqu, nao, corr, long, pert, ha, algum, raza...</td>\n",
       "      <td>porqu nao corr long pert ha algum raza qualqu ...</td>\n",
       "    </tr>\n",
       "    <tr>\n",
       "      <th>27</th>\n",
       "      <td>6</td>\n",
       "      <td>[sempr, tard, nao, cant, paus, primeir, brev, ...</td>\n",
       "      <td>sempr tard nao cant paus primeir brev ser dia ...</td>\n",
       "    </tr>\n",
       "    <tr>\n",
       "      <th>28</th>\n",
       "      <td>6</td>\n",
       "      <td>[irma, conta, sempr, nao, par, cont, rep, dias...</td>\n",
       "      <td>irma conta sempr nao par cont rep dias rai dia...</td>\n",
       "    </tr>\n",
       "    <tr>\n",
       "      <th>29</th>\n",
       "      <td>6</td>\n",
       "      <td>[pens, nao, tent, segu, nest, aventur, interio...</td>\n",
       "      <td>pens nao tent segu nest aventur interior sab f...</td>\n",
       "    </tr>\n",
       "    <tr>\n",
       "      <th>...</th>\n",
       "      <td>...</td>\n",
       "      <td>...</td>\n",
       "      <td>...</td>\n",
       "    </tr>\n",
       "    <tr>\n",
       "      <th>4062</th>\n",
       "      <td>58</td>\n",
       "      <td>[trabalh, temp, traz, boas, recordaco, vou, co...</td>\n",
       "      <td>trabalh temp traz boas recordaco vou continu p...</td>\n",
       "    </tr>\n",
       "    <tr>\n",
       "      <th>4063</th>\n",
       "      <td>58</td>\n",
       "      <td>[enfim, ines, dev, estar, quas, acord, outr, v...</td>\n",
       "      <td>enfim ines dev estar quas acord outr vez leono...</td>\n",
       "    </tr>\n",
       "    <tr>\n",
       "      <th>4064</th>\n",
       "      <td>58</td>\n",
       "      <td>[nao, rep, sent, cim, telemovel, quer, marqu, ...</td>\n",
       "      <td>nao rep sent cim telemovel quer marqu numer pr...</td>\n",
       "    </tr>\n",
       "    <tr>\n",
       "      <th>4065</th>\n",
       "      <td>58</td>\n",
       "      <td>[assunt, re, calm, calm, tud, explicaca, facil...</td>\n",
       "      <td>assunt re calm calm tud explicaca facil diz ex...</td>\n",
       "    </tr>\n",
       "    <tr>\n",
       "      <th>4066</th>\n",
       "      <td>58</td>\n",
       "      <td>[terrivel, precis, escrev, decid, segu, consel...</td>\n",
       "      <td>terrivel precis escrev decid segu conselh ir c...</td>\n",
       "    </tr>\n",
       "    <tr>\n",
       "      <th>4067</th>\n",
       "      <td>58</td>\n",
       "      <td>[desculp, sint, sozinh, tud, quant, mal, estar...</td>\n",
       "      <td>desculp sint sozinh tud quant mal estar ines p...</td>\n",
       "    </tr>\n",
       "    <tr>\n",
       "      <th>4068</th>\n",
       "      <td>58</td>\n",
       "      <td>[terror, possivel, gost, film, terror, agor, o...</td>\n",
       "      <td>terror possivel gost film terror agor odei ago...</td>\n",
       "    </tr>\n",
       "    <tr>\n",
       "      <th>4069</th>\n",
       "      <td>58</td>\n",
       "      <td>[mort, joa, naquel, acident, carr, fez, sim, c...</td>\n",
       "      <td>mort joa naquel acident carr fez sim cabec arr...</td>\n",
       "    </tr>\n",
       "    <tr>\n",
       "      <th>4070</th>\n",
       "      <td>58</td>\n",
       "      <td>[nao, quer, receb, cham, horrivel, odei, quer,...</td>\n",
       "      <td>nao quer receb cham horrivel odei quer sair da...</td>\n",
       "    </tr>\n",
       "    <tr>\n",
       "      <th>4071</th>\n",
       "      <td>58</td>\n",
       "      <td>[cabel, apos, part, talvez, nao, normal, ritm,...</td>\n",
       "      <td>cabel apos part talvez nao normal ritm carec d...</td>\n",
       "    </tr>\n",
       "    <tr>\n",
       "      <th>4072</th>\n",
       "      <td>59</td>\n",
       "      <td>[lisbo, lisbo, ano, agost, tao, gel, ha, vint,...</td>\n",
       "      <td>lisbo lisbo ano agost tao gel ha vint anos atr...</td>\n",
       "    </tr>\n",
       "    <tr>\n",
       "      <th>4073</th>\n",
       "      <td>59</td>\n",
       "      <td>[leu, olhos, cansac, embor, palavr, sorr, part...</td>\n",
       "      <td>leu olhos cansac embor palavr sorr part alfred...</td>\n",
       "    </tr>\n",
       "    <tr>\n",
       "      <th>4074</th>\n",
       "      <td>59</td>\n",
       "      <td>[lad, janel, ped, sum, lima, instal, jornal, a...</td>\n",
       "      <td>lad janel ped sum lima instal jornal agend ele...</td>\n",
       "    </tr>\n",
       "    <tr>\n",
       "      <th>4075</th>\n",
       "      <td>59</td>\n",
       "      <td>[jaim, nunc, sai, lisbo, estiv, quas, apanh, n...</td>\n",
       "      <td>jaim nunc sai lisbo estiv quas apanh naquel di...</td>\n",
       "    </tr>\n",
       "    <tr>\n",
       "      <th>4076</th>\n",
       "      <td>60</td>\n",
       "      <td>[titul, passei, infern, autor, luis, marqu, si...</td>\n",
       "      <td>titul passei infern autor luis marqu silv tod ...</td>\n",
       "    </tr>\n",
       "    <tr>\n",
       "      <th>4077</th>\n",
       "      <td>60</td>\n",
       "      <td>[furador, carnivor, trinc, escrupul, estremec,...</td>\n",
       "      <td>furador carnivor trinc escrupul estremec dor t...</td>\n",
       "    </tr>\n",
       "    <tr>\n",
       "      <th>4078</th>\n",
       "      <td>61</td>\n",
       "      <td>[titul, rapsod, maior, autor, luis, marqu, sil...</td>\n",
       "      <td>titul rapsod maior autor luis marqu silv tod d...</td>\n",
       "    </tr>\n",
       "    <tr>\n",
       "      <th>4079</th>\n",
       "      <td>61</td>\n",
       "      <td>[nao, primeir, vez, dep, alienigen, primeir, v...</td>\n",
       "      <td>nao primeir vez dep alienigen primeir vez dep ...</td>\n",
       "    </tr>\n",
       "    <tr>\n",
       "      <th>4080</th>\n",
       "      <td>61</td>\n",
       "      <td>[marnix, mulh, agath, lev, cas, onde, estav, s...</td>\n",
       "      <td>marnix mulh agath lev cas onde estav seguranc ...</td>\n",
       "    </tr>\n",
       "    <tr>\n",
       "      <th>4081</th>\n",
       "      <td>61</td>\n",
       "      <td>[curios, repugn, insect, vir, cost, prepar, pa...</td>\n",
       "      <td>curios repugn insect vir cost prepar part repa...</td>\n",
       "    </tr>\n",
       "    <tr>\n",
       "      <th>4082</th>\n",
       "      <td>61</td>\n",
       "      <td>[pequen, batalh, vei, confirm, lo, trabalh, eq...</td>\n",
       "      <td>pequen batalh vei confirm lo trabalh equip cri...</td>\n",
       "    </tr>\n",
       "    <tr>\n",
       "      <th>4083</th>\n",
       "      <td>61</td>\n",
       "      <td>[rest, ate, porreir, ando, tent, ensin, lo, le...</td>\n",
       "      <td>rest ate porreir ando tent ensin lo ler comec ...</td>\n",
       "    </tr>\n",
       "    <tr>\n",
       "      <th>4084</th>\n",
       "      <td>62</td>\n",
       "      <td>[titul, ultim, histor, autor, proxim, nobel, l...</td>\n",
       "      <td>titul ultim histor autor proxim nobel luis mar...</td>\n",
       "    </tr>\n",
       "    <tr>\n",
       "      <th>4085</th>\n",
       "      <td>62</td>\n",
       "      <td>[com, barrig, soou, rug, tao, alto, assust, ga...</td>\n",
       "      <td>com barrig soou rug tao alto assust gat malaqu...</td>\n",
       "    </tr>\n",
       "    <tr>\n",
       "      <th>4086</th>\n",
       "      <td>62</td>\n",
       "      <td>[bem, vind, plac, perfeit, sifil, muit, put, t...</td>\n",
       "      <td>bem vind plac perfeit sifil muit put tailand o...</td>\n",
       "    </tr>\n",
       "    <tr>\n",
       "      <th>4087</th>\n",
       "      <td>62</td>\n",
       "      <td>[fabiol, serv, ingenu, contraband, patins, lin...</td>\n",
       "      <td>fabiol serv ingenu contraband patins linh espa...</td>\n",
       "    </tr>\n",
       "    <tr>\n",
       "      <th>4088</th>\n",
       "      <td>62</td>\n",
       "      <td>[alem, diss, catol, pratic, prep, fech, port, ...</td>\n",
       "      <td>alem diss catol pratic prep fech port esper ac...</td>\n",
       "    </tr>\n",
       "    <tr>\n",
       "      <th>4089</th>\n",
       "      <td>62</td>\n",
       "      <td>[porteir, mulh, senhor, mar, carm, desaparec, ...</td>\n",
       "      <td>porteir mulh senhor mar carm desaparec facil s...</td>\n",
       "    </tr>\n",
       "    <tr>\n",
       "      <th>4090</th>\n",
       "      <td>62</td>\n",
       "      <td>[bol, noz, pisc, olho, diss, sotaqu, brasileir...</td>\n",
       "      <td>bol noz pisc olho diss sotaqu brasileir relax ...</td>\n",
       "    </tr>\n",
       "    <tr>\n",
       "      <th>4091</th>\n",
       "      <td>62</td>\n",
       "      <td>[desesper, quer, livr, imediat, tao, atroz, si...</td>\n",
       "      <td>desesper quer livr imediat tao atroz situaca l...</td>\n",
       "    </tr>\n",
       "  </tbody>\n",
       "</table>\n",
       "<p>4092 rows × 3 columns</p>\n",
       "</div>"
      ],
      "text/plain": [
       "     OG Index                                      500 Word List  \\\n",
       "0           0  [titl, scen, odi, author, jos, almad, negreir,...   \n",
       "1           0  [cabeleir, prat, estilhac, herald, vitra, desp...   \n",
       "2           0  [cabec, ve, so, olhos, vir, cheir, cheir, terr...   \n",
       "3           1  [titl, jardim, pierrett, author, jos, almad, n...   \n",
       "4           2  [titl, invenca, dia, clar, author, jos, almad,...   \n",
       "5           2  [i, part, andaim, vesp, conferenc, improvis, s...   \n",
       "6           2  [palavr, tod, gost, coll, algum, d, pacienc, p...   \n",
       "7           2  [ouv, cruz, encruzilh, cad, parec, reconhec, a...   \n",
       "8           2  [exist, nao, tao, devag, quadr, azul, par, dia...   \n",
       "9           2  [quer, advinh, taes, palavr, outr, vez, anjo, ...   \n",
       "10          2  [papel, chei, linh, umas, n, direcca, outr, n,...   \n",
       "11          3  [titl, litoral, amad, souz, cardoz, author, jo...   \n",
       "12          4  [exposica, amad, souz, cardos, lig, naval, lis...   \n",
       "13          5  [jos, almad, negreir, k, quadr, azul, acab, ap...   \n",
       "14          5  [feit, hom, aind, infam, deus, ter, nasc, port...   \n",
       "15          5  [nenhum, fac, quadr, azul, reproduz, nit, golp...   \n",
       "16          5  [illumin, perpendicular, direcca, energ, pra, ...   \n",
       "17          5  [desesper, d, agu, outr, vez, diagona, divid, ...   \n",
       "18          5  [tod, ate, instant, pens, mim, quer, noca, exa...   \n",
       "19          5  [maci, loir, habit, lingu, direca, gest, atitu...   \n",
       "20          5  [bast, so, pra, human, tod, so, instant, imanc...   \n",
       "21          6  [orpheu, revist, trimestral, literatur, portug...   \n",
       "22          6  [elevaca, unidad, discreca, onde, depend, harm...   \n",
       "23          6  [olha, la, vai, vals, vest, casac, salo, vic, ...   \n",
       "24          6  [castel, rub, opal, tanj, poent, harp, silenc,...   \n",
       "25          6  [primeir, sent, frent, janell, cost, contr, to...   \n",
       "26          6  [porqu, nao, corr, long, pert, ha, algum, raza...   \n",
       "27          6  [sempr, tard, nao, cant, paus, primeir, brev, ...   \n",
       "28          6  [irma, conta, sempr, nao, par, cont, rep, dias...   \n",
       "29          6  [pens, nao, tent, segu, nest, aventur, interio...   \n",
       "...       ...                                                ...   \n",
       "4062       58  [trabalh, temp, traz, boas, recordaco, vou, co...   \n",
       "4063       58  [enfim, ines, dev, estar, quas, acord, outr, v...   \n",
       "4064       58  [nao, rep, sent, cim, telemovel, quer, marqu, ...   \n",
       "4065       58  [assunt, re, calm, calm, tud, explicaca, facil...   \n",
       "4066       58  [terrivel, precis, escrev, decid, segu, consel...   \n",
       "4067       58  [desculp, sint, sozinh, tud, quant, mal, estar...   \n",
       "4068       58  [terror, possivel, gost, film, terror, agor, o...   \n",
       "4069       58  [mort, joa, naquel, acident, carr, fez, sim, c...   \n",
       "4070       58  [nao, quer, receb, cham, horrivel, odei, quer,...   \n",
       "4071       58  [cabel, apos, part, talvez, nao, normal, ritm,...   \n",
       "4072       59  [lisbo, lisbo, ano, agost, tao, gel, ha, vint,...   \n",
       "4073       59  [leu, olhos, cansac, embor, palavr, sorr, part...   \n",
       "4074       59  [lad, janel, ped, sum, lima, instal, jornal, a...   \n",
       "4075       59  [jaim, nunc, sai, lisbo, estiv, quas, apanh, n...   \n",
       "4076       60  [titul, passei, infern, autor, luis, marqu, si...   \n",
       "4077       60  [furador, carnivor, trinc, escrupul, estremec,...   \n",
       "4078       61  [titul, rapsod, maior, autor, luis, marqu, sil...   \n",
       "4079       61  [nao, primeir, vez, dep, alienigen, primeir, v...   \n",
       "4080       61  [marnix, mulh, agath, lev, cas, onde, estav, s...   \n",
       "4081       61  [curios, repugn, insect, vir, cost, prepar, pa...   \n",
       "4082       61  [pequen, batalh, vei, confirm, lo, trabalh, eq...   \n",
       "4083       61  [rest, ate, porreir, ando, tent, ensin, lo, le...   \n",
       "4084       62  [titul, ultim, histor, autor, proxim, nobel, l...   \n",
       "4085       62  [com, barrig, soou, rug, tao, alto, assust, ga...   \n",
       "4086       62  [bem, vind, plac, perfeit, sifil, muit, put, t...   \n",
       "4087       62  [fabiol, serv, ingenu, contraband, patins, lin...   \n",
       "4088       62  [alem, diss, catol, pratic, prep, fech, port, ...   \n",
       "4089       62  [porteir, mulh, senhor, mar, carm, desaparec, ...   \n",
       "4090       62  [bol, noz, pisc, olho, diss, sotaqu, brasileir...   \n",
       "4091       62  [desesper, quer, livr, imediat, tao, atroz, si...   \n",
       "\n",
       "                                         500 Clean Text  \n",
       "0     titl scen odi author jos almad negreir releas ...  \n",
       "1     cabeleir prat estilhac herald vitra despeg len...  \n",
       "2     cabec ve so olhos vir cheir cheir terr com ter...  \n",
       "3     titl jardim pierrett author jos almad negreir ...  \n",
       "4     titl invenca dia clar author jos almad negreir...  \n",
       "5     i part andaim vesp conferenc improvis senhor s...  \n",
       "6     palavr tod gost coll algum d pacienc palavr sa...  \n",
       "7     ouv cruz encruzilh cad parec reconhec aquell m...  \n",
       "8     exist nao tao devag quadr azul par dia vez ir ...  \n",
       "9     quer advinh taes palavr outr vez anjo guard pe...  \n",
       "10    papel chei linh umas n direcca outr n outr uma...  \n",
       "11    titl litoral amad souz cardoz author jos almad...  \n",
       "12    exposica amad souz cardos lig naval lisbo port...  \n",
       "13    jos almad negreir k quadr azul acab aparec poe...  \n",
       "14    feit hom aind infam deus ter nasc portuguez ja...  \n",
       "15    nenhum fac quadr azul reproduz nit golp radium...  \n",
       "16    illumin perpendicular direcca energ pra la vid...  \n",
       "17    desesper d agu outr vez diagona divid quadr ra...  \n",
       "18    tod ate instant pens mim quer noca exact inten...  \n",
       "19    maci loir habit lingu direca gest atitud tud d...  \n",
       "20    bast so pra human tod so instant imancip unani...  \n",
       "21    orpheu revist trimestral literatur portugal br...  \n",
       "22    elevaca unidad discreca onde depend harmon est...  \n",
       "23    olha la vai vals vest casac salo vic rei sub m...  \n",
       "24    castel rub opal tanj poent harp silenc agon al...  \n",
       "25    primeir sent frent janell cost contr toch cim ...  \n",
       "26    porqu nao corr long pert ha algum raza qualqu ...  \n",
       "27    sempr tard nao cant paus primeir brev ser dia ...  \n",
       "28    irma conta sempr nao par cont rep dias rai dia...  \n",
       "29    pens nao tent segu nest aventur interior sab f...  \n",
       "...                                                 ...  \n",
       "4062  trabalh temp traz boas recordaco vou continu p...  \n",
       "4063  enfim ines dev estar quas acord outr vez leono...  \n",
       "4064  nao rep sent cim telemovel quer marqu numer pr...  \n",
       "4065  assunt re calm calm tud explicaca facil diz ex...  \n",
       "4066  terrivel precis escrev decid segu conselh ir c...  \n",
       "4067  desculp sint sozinh tud quant mal estar ines p...  \n",
       "4068  terror possivel gost film terror agor odei ago...  \n",
       "4069  mort joa naquel acident carr fez sim cabec arr...  \n",
       "4070  nao quer receb cham horrivel odei quer sair da...  \n",
       "4071  cabel apos part talvez nao normal ritm carec d...  \n",
       "4072  lisbo lisbo ano agost tao gel ha vint anos atr...  \n",
       "4073  leu olhos cansac embor palavr sorr part alfred...  \n",
       "4074  lad janel ped sum lima instal jornal agend ele...  \n",
       "4075  jaim nunc sai lisbo estiv quas apanh naquel di...  \n",
       "4076  titul passei infern autor luis marqu silv tod ...  \n",
       "4077  furador carnivor trinc escrupul estremec dor t...  \n",
       "4078  titul rapsod maior autor luis marqu silv tod d...  \n",
       "4079  nao primeir vez dep alienigen primeir vez dep ...  \n",
       "4080  marnix mulh agath lev cas onde estav seguranc ...  \n",
       "4081  curios repugn insect vir cost prepar part repa...  \n",
       "4082  pequen batalh vei confirm lo trabalh equip cri...  \n",
       "4083  rest ate porreir ando tent ensin lo ler comec ...  \n",
       "4084  titul ultim histor autor proxim nobel luis mar...  \n",
       "4085  com barrig soou rug tao alto assust gat malaqu...  \n",
       "4086  bem vind plac perfeit sifil muit put tailand o...  \n",
       "4087  fabiol serv ingenu contraband patins linh espa...  \n",
       "4088  alem diss catol pratic prep fech port esper ac...  \n",
       "4089  porteir mulh senhor mar carm desaparec facil s...  \n",
       "4090  bol noz pisc olho diss sotaqu brasileir relax ...  \n",
       "4091  desesper quer livr imediat tao atroz situaca l...  \n",
       "\n",
       "[4092 rows x 3 columns]"
      ]
     },
     "execution_count": 17,
     "metadata": {},
     "output_type": "execute_result"
    }
   ],
   "source": [
    "corpora_500 = pd.DataFrame(columns=['OG Index','500 Word List','500 Clean Text'])\n",
    "\n",
    "for i in tqdm(range(len(corpora))):\n",
    "    text = corpora['Word List'][i]\n",
    "    list_500 = [text[i:i+500] for i in range(0, len(text), 500)]\n",
    "    text_500 = [\" \".join(list) for list in list_500]\n",
    "    \n",
    "    d_500 = pd.DataFrame({'OG Index':[i]*ceil(len(text)/500),'500 Word List':list_500,'500 Clean Text':text_500})\n",
    "    corpora_500 = corpora_500.append(d_500,ignore_index=True)\n",
    "    \n",
    "corpora_500"
   ]
  },
  {
   "cell_type": "code",
   "execution_count": 18,
   "metadata": {
    "scrolled": true
   },
   "outputs": [
    {
     "data": {
      "text/html": [
       "<div>\n",
       "<style scoped>\n",
       "    .dataframe tbody tr th:only-of-type {\n",
       "        vertical-align: middle;\n",
       "    }\n",
       "\n",
       "    .dataframe tbody tr th {\n",
       "        vertical-align: top;\n",
       "    }\n",
       "\n",
       "    .dataframe thead th {\n",
       "        text-align: right;\n",
       "    }\n",
       "</style>\n",
       "<table border=\"1\" class=\"dataframe\">\n",
       "  <thead>\n",
       "    <tr style=\"text-align: right;\">\n",
       "      <th></th>\n",
       "      <th>Text</th>\n",
       "      <th>Author</th>\n",
       "      <th>Clean Text</th>\n",
       "      <th>Word List</th>\n",
       "      <th>OG Index</th>\n",
       "      <th>500 Word List</th>\n",
       "      <th>500 Clean Text</th>\n",
       "    </tr>\n",
       "  </thead>\n",
       "  <tbody>\n",
       "    <tr>\n",
       "      <th>0</th>\n",
       "      <td>Title: A Scena do Odio\\n\\nAuthor: José de Alma...</td>\n",
       "      <td>Almada Negreiros</td>\n",
       "      <td>titl scen odi author jos almad negreir releas ...</td>\n",
       "      <td>[titl, scen, odi, author, jos, almad, negreir,...</td>\n",
       "      <td>0</td>\n",
       "      <td>[titl, scen, odi, author, jos, almad, negreir,...</td>\n",
       "      <td>titl scen odi author jos almad negreir releas ...</td>\n",
       "    </tr>\n",
       "    <tr>\n",
       "      <th>1</th>\n",
       "      <td>Title: A Scena do Odio\\n\\nAuthor: José de Alma...</td>\n",
       "      <td>Almada Negreiros</td>\n",
       "      <td>titl scen odi author jos almad negreir releas ...</td>\n",
       "      <td>[titl, scen, odi, author, jos, almad, negreir,...</td>\n",
       "      <td>0</td>\n",
       "      <td>[cabeleir, prat, estilhac, herald, vitra, desp...</td>\n",
       "      <td>cabeleir prat estilhac herald vitra despeg len...</td>\n",
       "    </tr>\n",
       "    <tr>\n",
       "      <th>2</th>\n",
       "      <td>Title: A Scena do Odio\\n\\nAuthor: José de Alma...</td>\n",
       "      <td>Almada Negreiros</td>\n",
       "      <td>titl scen odi author jos almad negreir releas ...</td>\n",
       "      <td>[titl, scen, odi, author, jos, almad, negreir,...</td>\n",
       "      <td>0</td>\n",
       "      <td>[cabec, ve, so, olhos, vir, cheir, cheir, terr...</td>\n",
       "      <td>cabec ve so olhos vir cheir cheir terr com ter...</td>\n",
       "    </tr>\n",
       "    <tr>\n",
       "      <th>3</th>\n",
       "      <td>Title: O Jardim da Pierrette\\n\\nAuthor: José d...</td>\n",
       "      <td>Almada Negreiros</td>\n",
       "      <td>titl jardim pierrett author jos almad negreir ...</td>\n",
       "      <td>[titl, jardim, pierrett, author, jos, almad, n...</td>\n",
       "      <td>1</td>\n",
       "      <td>[titl, jardim, pierrett, author, jos, almad, n...</td>\n",
       "      <td>titl jardim pierrett author jos almad negreir ...</td>\n",
       "    </tr>\n",
       "    <tr>\n",
       "      <th>4</th>\n",
       "      <td>\\n\\nTitle: A Invenção do Dia Claro\\n\\nAuthor: ...</td>\n",
       "      <td>Almada Negreiros</td>\n",
       "      <td>titl invenca dia clar author jos almad negreir...</td>\n",
       "      <td>[titl, invenca, dia, clar, author, jos, almad,...</td>\n",
       "      <td>2</td>\n",
       "      <td>[titl, invenca, dia, clar, author, jos, almad,...</td>\n",
       "      <td>titl invenca dia clar author jos almad negreir...</td>\n",
       "    </tr>\n",
       "    <tr>\n",
       "      <th>5</th>\n",
       "      <td>\\n\\nTitle: A Invenção do Dia Claro\\n\\nAuthor: ...</td>\n",
       "      <td>Almada Negreiros</td>\n",
       "      <td>titl invenca dia clar author jos almad negreir...</td>\n",
       "      <td>[titl, invenca, dia, clar, author, jos, almad,...</td>\n",
       "      <td>2</td>\n",
       "      <td>[i, part, andaim, vesp, conferenc, improvis, s...</td>\n",
       "      <td>i part andaim vesp conferenc improvis senhor s...</td>\n",
       "    </tr>\n",
       "    <tr>\n",
       "      <th>6</th>\n",
       "      <td>\\n\\nTitle: A Invenção do Dia Claro\\n\\nAuthor: ...</td>\n",
       "      <td>Almada Negreiros</td>\n",
       "      <td>titl invenca dia clar author jos almad negreir...</td>\n",
       "      <td>[titl, invenca, dia, clar, author, jos, almad,...</td>\n",
       "      <td>2</td>\n",
       "      <td>[palavr, tod, gost, coll, algum, d, pacienc, p...</td>\n",
       "      <td>palavr tod gost coll algum d pacienc palavr sa...</td>\n",
       "    </tr>\n",
       "    <tr>\n",
       "      <th>7</th>\n",
       "      <td>\\n\\nTitle: A Invenção do Dia Claro\\n\\nAuthor: ...</td>\n",
       "      <td>Almada Negreiros</td>\n",
       "      <td>titl invenca dia clar author jos almad negreir...</td>\n",
       "      <td>[titl, invenca, dia, clar, author, jos, almad,...</td>\n",
       "      <td>2</td>\n",
       "      <td>[ouv, cruz, encruzilh, cad, parec, reconhec, a...</td>\n",
       "      <td>ouv cruz encruzilh cad parec reconhec aquell m...</td>\n",
       "    </tr>\n",
       "    <tr>\n",
       "      <th>8</th>\n",
       "      <td>\\n\\nTitle: A Invenção do Dia Claro\\n\\nAuthor: ...</td>\n",
       "      <td>Almada Negreiros</td>\n",
       "      <td>titl invenca dia clar author jos almad negreir...</td>\n",
       "      <td>[titl, invenca, dia, clar, author, jos, almad,...</td>\n",
       "      <td>2</td>\n",
       "      <td>[exist, nao, tao, devag, quadr, azul, par, dia...</td>\n",
       "      <td>exist nao tao devag quadr azul par dia vez ir ...</td>\n",
       "    </tr>\n",
       "    <tr>\n",
       "      <th>9</th>\n",
       "      <td>\\n\\nTitle: A Invenção do Dia Claro\\n\\nAuthor: ...</td>\n",
       "      <td>Almada Negreiros</td>\n",
       "      <td>titl invenca dia clar author jos almad negreir...</td>\n",
       "      <td>[titl, invenca, dia, clar, author, jos, almad,...</td>\n",
       "      <td>2</td>\n",
       "      <td>[quer, advinh, taes, palavr, outr, vez, anjo, ...</td>\n",
       "      <td>quer advinh taes palavr outr vez anjo guard pe...</td>\n",
       "    </tr>\n",
       "    <tr>\n",
       "      <th>10</th>\n",
       "      <td>\\n\\nTitle: A Invenção do Dia Claro\\n\\nAuthor: ...</td>\n",
       "      <td>Almada Negreiros</td>\n",
       "      <td>titl invenca dia clar author jos almad negreir...</td>\n",
       "      <td>[titl, invenca, dia, clar, author, jos, almad,...</td>\n",
       "      <td>2</td>\n",
       "      <td>[papel, chei, linh, umas, n, direcca, outr, n,...</td>\n",
       "      <td>papel chei linh umas n direcca outr n outr uma...</td>\n",
       "    </tr>\n",
       "    <tr>\n",
       "      <th>11</th>\n",
       "      <td>\\nTitle: Litoral\\n       A Amadeo de Souza Car...</td>\n",
       "      <td>Almada Negreiros</td>\n",
       "      <td>titl litoral amad souz cardoz author jos almad...</td>\n",
       "      <td>[titl, litoral, amad, souz, cardoz, author, jo...</td>\n",
       "      <td>3</td>\n",
       "      <td>[titl, litoral, amad, souz, cardoz, author, jo...</td>\n",
       "      <td>titl litoral amad souz cardoz author jos almad...</td>\n",
       "    </tr>\n",
       "    <tr>\n",
       "      <th>12</th>\n",
       "      <td>\\n\\n\\nEXPOSIÇÃO\\n\\n+amadeo\\nde souza\\ncardoso+...</td>\n",
       "      <td>Almada Negreiros</td>\n",
       "      <td>exposica amad souz cardos lig naval lisbo port...</td>\n",
       "      <td>[exposica, amad, souz, cardos, lig, naval, lis...</td>\n",
       "      <td>4</td>\n",
       "      <td>[exposica, amad, souz, cardos, lig, naval, lis...</td>\n",
       "      <td>exposica amad souz cardos lig naval lisbo port...</td>\n",
       "    </tr>\n",
       "    <tr>\n",
       "      <th>13</th>\n",
       "      <td>\\n\\n*JOSÉ DE ALMADA-NEGREIROS*\\n\\n\\n*K4\\n\\no q...</td>\n",
       "      <td>Almada Negreiros</td>\n",
       "      <td>jos almad negreir k quadr azul acab aparec poe...</td>\n",
       "      <td>[jos, almad, negreir, k, quadr, azul, acab, ap...</td>\n",
       "      <td>5</td>\n",
       "      <td>[jos, almad, negreir, k, quadr, azul, acab, ap...</td>\n",
       "      <td>jos almad negreir k quadr azul acab aparec poe...</td>\n",
       "    </tr>\n",
       "    <tr>\n",
       "      <th>14</th>\n",
       "      <td>\\n\\n*JOSÉ DE ALMADA-NEGREIROS*\\n\\n\\n*K4\\n\\no q...</td>\n",
       "      <td>Almada Negreiros</td>\n",
       "      <td>jos almad negreir k quadr azul acab aparec poe...</td>\n",
       "      <td>[jos, almad, negreir, k, quadr, azul, acab, ap...</td>\n",
       "      <td>5</td>\n",
       "      <td>[feit, hom, aind, infam, deus, ter, nasc, port...</td>\n",
       "      <td>feit hom aind infam deus ter nasc portuguez ja...</td>\n",
       "    </tr>\n",
       "    <tr>\n",
       "      <th>15</th>\n",
       "      <td>\\n\\n*JOSÉ DE ALMADA-NEGREIROS*\\n\\n\\n*K4\\n\\no q...</td>\n",
       "      <td>Almada Negreiros</td>\n",
       "      <td>jos almad negreir k quadr azul acab aparec poe...</td>\n",
       "      <td>[jos, almad, negreir, k, quadr, azul, acab, ap...</td>\n",
       "      <td>5</td>\n",
       "      <td>[nenhum, fac, quadr, azul, reproduz, nit, golp...</td>\n",
       "      <td>nenhum fac quadr azul reproduz nit golp radium...</td>\n",
       "    </tr>\n",
       "    <tr>\n",
       "      <th>16</th>\n",
       "      <td>\\n\\n*JOSÉ DE ALMADA-NEGREIROS*\\n\\n\\n*K4\\n\\no q...</td>\n",
       "      <td>Almada Negreiros</td>\n",
       "      <td>jos almad negreir k quadr azul acab aparec poe...</td>\n",
       "      <td>[jos, almad, negreir, k, quadr, azul, acab, ap...</td>\n",
       "      <td>5</td>\n",
       "      <td>[illumin, perpendicular, direcca, energ, pra, ...</td>\n",
       "      <td>illumin perpendicular direcca energ pra la vid...</td>\n",
       "    </tr>\n",
       "    <tr>\n",
       "      <th>17</th>\n",
       "      <td>\\n\\n*JOSÉ DE ALMADA-NEGREIROS*\\n\\n\\n*K4\\n\\no q...</td>\n",
       "      <td>Almada Negreiros</td>\n",
       "      <td>jos almad negreir k quadr azul acab aparec poe...</td>\n",
       "      <td>[jos, almad, negreir, k, quadr, azul, acab, ap...</td>\n",
       "      <td>5</td>\n",
       "      <td>[desesper, d, agu, outr, vez, diagona, divid, ...</td>\n",
       "      <td>desesper d agu outr vez diagona divid quadr ra...</td>\n",
       "    </tr>\n",
       "    <tr>\n",
       "      <th>18</th>\n",
       "      <td>\\n\\n*JOSÉ DE ALMADA-NEGREIROS*\\n\\n\\n*K4\\n\\no q...</td>\n",
       "      <td>Almada Negreiros</td>\n",
       "      <td>jos almad negreir k quadr azul acab aparec poe...</td>\n",
       "      <td>[jos, almad, negreir, k, quadr, azul, acab, ap...</td>\n",
       "      <td>5</td>\n",
       "      <td>[tod, ate, instant, pens, mim, quer, noca, exa...</td>\n",
       "      <td>tod ate instant pens mim quer noca exact inten...</td>\n",
       "    </tr>\n",
       "    <tr>\n",
       "      <th>19</th>\n",
       "      <td>\\n\\n*JOSÉ DE ALMADA-NEGREIROS*\\n\\n\\n*K4\\n\\no q...</td>\n",
       "      <td>Almada Negreiros</td>\n",
       "      <td>jos almad negreir k quadr azul acab aparec poe...</td>\n",
       "      <td>[jos, almad, negreir, k, quadr, azul, acab, ap...</td>\n",
       "      <td>5</td>\n",
       "      <td>[maci, loir, habit, lingu, direca, gest, atitu...</td>\n",
       "      <td>maci loir habit lingu direca gest atitud tud d...</td>\n",
       "    </tr>\n",
       "    <tr>\n",
       "      <th>20</th>\n",
       "      <td>\\n\\n*JOSÉ DE ALMADA-NEGREIROS*\\n\\n\\n*K4\\n\\no q...</td>\n",
       "      <td>Almada Negreiros</td>\n",
       "      <td>jos almad negreir k quadr azul acab aparec poe...</td>\n",
       "      <td>[jos, almad, negreir, k, quadr, azul, acab, ap...</td>\n",
       "      <td>5</td>\n",
       "      <td>[bast, so, pra, human, tod, so, instant, imanc...</td>\n",
       "      <td>bast so pra human tod so instant imancip unani...</td>\n",
       "    </tr>\n",
       "    <tr>\n",
       "      <th>21</th>\n",
       "      <td>\\n\\n*\"ORPHEU\"*\\n\\nREVISTA TRIMESTRAL DE LITERA...</td>\n",
       "      <td>Almada Negreiros</td>\n",
       "      <td>orpheu revist trimestral literatur portugal br...</td>\n",
       "      <td>[orpheu, revist, trimestral, literatur, portug...</td>\n",
       "      <td>6</td>\n",
       "      <td>[orpheu, revist, trimestral, literatur, portug...</td>\n",
       "      <td>orpheu revist trimestral literatur portugal br...</td>\n",
       "    </tr>\n",
       "    <tr>\n",
       "      <th>22</th>\n",
       "      <td>\\n\\n*\"ORPHEU\"*\\n\\nREVISTA TRIMESTRAL DE LITERA...</td>\n",
       "      <td>Almada Negreiros</td>\n",
       "      <td>orpheu revist trimestral literatur portugal br...</td>\n",
       "      <td>[orpheu, revist, trimestral, literatur, portug...</td>\n",
       "      <td>6</td>\n",
       "      <td>[elevaca, unidad, discreca, onde, depend, harm...</td>\n",
       "      <td>elevaca unidad discreca onde depend harmon est...</td>\n",
       "    </tr>\n",
       "    <tr>\n",
       "      <th>23</th>\n",
       "      <td>\\n\\n*\"ORPHEU\"*\\n\\nREVISTA TRIMESTRAL DE LITERA...</td>\n",
       "      <td>Almada Negreiros</td>\n",
       "      <td>orpheu revist trimestral literatur portugal br...</td>\n",
       "      <td>[orpheu, revist, trimestral, literatur, portug...</td>\n",
       "      <td>6</td>\n",
       "      <td>[olha, la, vai, vals, vest, casac, salo, vic, ...</td>\n",
       "      <td>olha la vai vals vest casac salo vic rei sub m...</td>\n",
       "    </tr>\n",
       "    <tr>\n",
       "      <th>24</th>\n",
       "      <td>\\n\\n*\"ORPHEU\"*\\n\\nREVISTA TRIMESTRAL DE LITERA...</td>\n",
       "      <td>Almada Negreiros</td>\n",
       "      <td>orpheu revist trimestral literatur portugal br...</td>\n",
       "      <td>[orpheu, revist, trimestral, literatur, portug...</td>\n",
       "      <td>6</td>\n",
       "      <td>[castel, rub, opal, tanj, poent, harp, silenc,...</td>\n",
       "      <td>castel rub opal tanj poent harp silenc agon al...</td>\n",
       "    </tr>\n",
       "    <tr>\n",
       "      <th>25</th>\n",
       "      <td>\\n\\n*\"ORPHEU\"*\\n\\nREVISTA TRIMESTRAL DE LITERA...</td>\n",
       "      <td>Almada Negreiros</td>\n",
       "      <td>orpheu revist trimestral literatur portugal br...</td>\n",
       "      <td>[orpheu, revist, trimestral, literatur, portug...</td>\n",
       "      <td>6</td>\n",
       "      <td>[primeir, sent, frent, janell, cost, contr, to...</td>\n",
       "      <td>primeir sent frent janell cost contr toch cim ...</td>\n",
       "    </tr>\n",
       "    <tr>\n",
       "      <th>26</th>\n",
       "      <td>\\n\\n*\"ORPHEU\"*\\n\\nREVISTA TRIMESTRAL DE LITERA...</td>\n",
       "      <td>Almada Negreiros</td>\n",
       "      <td>orpheu revist trimestral literatur portugal br...</td>\n",
       "      <td>[orpheu, revist, trimestral, literatur, portug...</td>\n",
       "      <td>6</td>\n",
       "      <td>[porqu, nao, corr, long, pert, ha, algum, raza...</td>\n",
       "      <td>porqu nao corr long pert ha algum raza qualqu ...</td>\n",
       "    </tr>\n",
       "    <tr>\n",
       "      <th>27</th>\n",
       "      <td>\\n\\n*\"ORPHEU\"*\\n\\nREVISTA TRIMESTRAL DE LITERA...</td>\n",
       "      <td>Almada Negreiros</td>\n",
       "      <td>orpheu revist trimestral literatur portugal br...</td>\n",
       "      <td>[orpheu, revist, trimestral, literatur, portug...</td>\n",
       "      <td>6</td>\n",
       "      <td>[sempr, tard, nao, cant, paus, primeir, brev, ...</td>\n",
       "      <td>sempr tard nao cant paus primeir brev ser dia ...</td>\n",
       "    </tr>\n",
       "    <tr>\n",
       "      <th>28</th>\n",
       "      <td>\\n\\n*\"ORPHEU\"*\\n\\nREVISTA TRIMESTRAL DE LITERA...</td>\n",
       "      <td>Almada Negreiros</td>\n",
       "      <td>orpheu revist trimestral literatur portugal br...</td>\n",
       "      <td>[orpheu, revist, trimestral, literatur, portug...</td>\n",
       "      <td>6</td>\n",
       "      <td>[irma, conta, sempr, nao, par, cont, rep, dias...</td>\n",
       "      <td>irma conta sempr nao par cont rep dias rai dia...</td>\n",
       "    </tr>\n",
       "    <tr>\n",
       "      <th>29</th>\n",
       "      <td>\\n\\n*\"ORPHEU\"*\\n\\nREVISTA TRIMESTRAL DE LITERA...</td>\n",
       "      <td>Almada Negreiros</td>\n",
       "      <td>orpheu revist trimestral literatur portugal br...</td>\n",
       "      <td>[orpheu, revist, trimestral, literatur, portug...</td>\n",
       "      <td>6</td>\n",
       "      <td>[pens, nao, tent, segu, nest, aventur, interio...</td>\n",
       "      <td>pens nao tent segu nest aventur interior sab f...</td>\n",
       "    </tr>\n",
       "    <tr>\n",
       "      <th>...</th>\n",
       "      <td>...</td>\n",
       "      <td>...</td>\n",
       "      <td>...</td>\n",
       "      <td>...</td>\n",
       "      <td>...</td>\n",
       "      <td>...</td>\n",
       "      <td>...</td>\n",
       "    </tr>\n",
       "    <tr>\n",
       "      <th>4062</th>\n",
       "      <td>Título\\ne-medo\\n\\nAutora (inspiradíssima)\\nLuí...</td>\n",
       "      <td>Luisa Marques Silva</td>\n",
       "      <td>titul med autor inspiradissim luis marqu silv ...</td>\n",
       "      <td>[titul, med, autor, inspiradissim, luis, marqu...</td>\n",
       "      <td>58</td>\n",
       "      <td>[trabalh, temp, traz, boas, recordaco, vou, co...</td>\n",
       "      <td>trabalh temp traz boas recordaco vou continu p...</td>\n",
       "    </tr>\n",
       "    <tr>\n",
       "      <th>4063</th>\n",
       "      <td>Título\\ne-medo\\n\\nAutora (inspiradíssima)\\nLuí...</td>\n",
       "      <td>Luisa Marques Silva</td>\n",
       "      <td>titul med autor inspiradissim luis marqu silv ...</td>\n",
       "      <td>[titul, med, autor, inspiradissim, luis, marqu...</td>\n",
       "      <td>58</td>\n",
       "      <td>[enfim, ines, dev, estar, quas, acord, outr, v...</td>\n",
       "      <td>enfim ines dev estar quas acord outr vez leono...</td>\n",
       "    </tr>\n",
       "    <tr>\n",
       "      <th>4064</th>\n",
       "      <td>Título\\ne-medo\\n\\nAutora (inspiradíssima)\\nLuí...</td>\n",
       "      <td>Luisa Marques Silva</td>\n",
       "      <td>titul med autor inspiradissim luis marqu silv ...</td>\n",
       "      <td>[titul, med, autor, inspiradissim, luis, marqu...</td>\n",
       "      <td>58</td>\n",
       "      <td>[nao, rep, sent, cim, telemovel, quer, marqu, ...</td>\n",
       "      <td>nao rep sent cim telemovel quer marqu numer pr...</td>\n",
       "    </tr>\n",
       "    <tr>\n",
       "      <th>4065</th>\n",
       "      <td>Título\\ne-medo\\n\\nAutora (inspiradíssima)\\nLuí...</td>\n",
       "      <td>Luisa Marques Silva</td>\n",
       "      <td>titul med autor inspiradissim luis marqu silv ...</td>\n",
       "      <td>[titul, med, autor, inspiradissim, luis, marqu...</td>\n",
       "      <td>58</td>\n",
       "      <td>[assunt, re, calm, calm, tud, explicaca, facil...</td>\n",
       "      <td>assunt re calm calm tud explicaca facil diz ex...</td>\n",
       "    </tr>\n",
       "    <tr>\n",
       "      <th>4066</th>\n",
       "      <td>Título\\ne-medo\\n\\nAutora (inspiradíssima)\\nLuí...</td>\n",
       "      <td>Luisa Marques Silva</td>\n",
       "      <td>titul med autor inspiradissim luis marqu silv ...</td>\n",
       "      <td>[titul, med, autor, inspiradissim, luis, marqu...</td>\n",
       "      <td>58</td>\n",
       "      <td>[terrivel, precis, escrev, decid, segu, consel...</td>\n",
       "      <td>terrivel precis escrev decid segu conselh ir c...</td>\n",
       "    </tr>\n",
       "    <tr>\n",
       "      <th>4067</th>\n",
       "      <td>Título\\ne-medo\\n\\nAutora (inspiradíssima)\\nLuí...</td>\n",
       "      <td>Luisa Marques Silva</td>\n",
       "      <td>titul med autor inspiradissim luis marqu silv ...</td>\n",
       "      <td>[titul, med, autor, inspiradissim, luis, marqu...</td>\n",
       "      <td>58</td>\n",
       "      <td>[desculp, sint, sozinh, tud, quant, mal, estar...</td>\n",
       "      <td>desculp sint sozinh tud quant mal estar ines p...</td>\n",
       "    </tr>\n",
       "    <tr>\n",
       "      <th>4068</th>\n",
       "      <td>Título\\ne-medo\\n\\nAutora (inspiradíssima)\\nLuí...</td>\n",
       "      <td>Luisa Marques Silva</td>\n",
       "      <td>titul med autor inspiradissim luis marqu silv ...</td>\n",
       "      <td>[titul, med, autor, inspiradissim, luis, marqu...</td>\n",
       "      <td>58</td>\n",
       "      <td>[terror, possivel, gost, film, terror, agor, o...</td>\n",
       "      <td>terror possivel gost film terror agor odei ago...</td>\n",
       "    </tr>\n",
       "    <tr>\n",
       "      <th>4069</th>\n",
       "      <td>Título\\ne-medo\\n\\nAutora (inspiradíssima)\\nLuí...</td>\n",
       "      <td>Luisa Marques Silva</td>\n",
       "      <td>titul med autor inspiradissim luis marqu silv ...</td>\n",
       "      <td>[titul, med, autor, inspiradissim, luis, marqu...</td>\n",
       "      <td>58</td>\n",
       "      <td>[mort, joa, naquel, acident, carr, fez, sim, c...</td>\n",
       "      <td>mort joa naquel acident carr fez sim cabec arr...</td>\n",
       "    </tr>\n",
       "    <tr>\n",
       "      <th>4070</th>\n",
       "      <td>Título\\ne-medo\\n\\nAutora (inspiradíssima)\\nLuí...</td>\n",
       "      <td>Luisa Marques Silva</td>\n",
       "      <td>titul med autor inspiradissim luis marqu silv ...</td>\n",
       "      <td>[titul, med, autor, inspiradissim, luis, marqu...</td>\n",
       "      <td>58</td>\n",
       "      <td>[nao, quer, receb, cham, horrivel, odei, quer,...</td>\n",
       "      <td>nao quer receb cham horrivel odei quer sair da...</td>\n",
       "    </tr>\n",
       "    <tr>\n",
       "      <th>4071</th>\n",
       "      <td>Título\\ne-medo\\n\\nAutora (inspiradíssima)\\nLuí...</td>\n",
       "      <td>Luisa Marques Silva</td>\n",
       "      <td>titul med autor inspiradissim luis marqu silv ...</td>\n",
       "      <td>[titul, med, autor, inspiradissim, luis, marqu...</td>\n",
       "      <td>58</td>\n",
       "      <td>[cabel, apos, part, talvez, nao, normal, ritm,...</td>\n",
       "      <td>cabel apos part talvez nao normal ritm carec d...</td>\n",
       "    </tr>\n",
       "    <tr>\n",
       "      <th>4072</th>\n",
       "      <td>LISBOA 2050\\nLisboa, ano de 2050. Um Agosto tã...</td>\n",
       "      <td>Luisa Marques Silva</td>\n",
       "      <td>lisbo lisbo ano agost tao gel ha vint anos atr...</td>\n",
       "      <td>[lisbo, lisbo, ano, agost, tao, gel, ha, vint,...</td>\n",
       "      <td>59</td>\n",
       "      <td>[lisbo, lisbo, ano, agost, tao, gel, ha, vint,...</td>\n",
       "      <td>lisbo lisbo ano agost tao gel ha vint anos atr...</td>\n",
       "    </tr>\n",
       "    <tr>\n",
       "      <th>4073</th>\n",
       "      <td>LISBOA 2050\\nLisboa, ano de 2050. Um Agosto tã...</td>\n",
       "      <td>Luisa Marques Silva</td>\n",
       "      <td>lisbo lisbo ano agost tao gel ha vint anos atr...</td>\n",
       "      <td>[lisbo, lisbo, ano, agost, tao, gel, ha, vint,...</td>\n",
       "      <td>59</td>\n",
       "      <td>[leu, olhos, cansac, embor, palavr, sorr, part...</td>\n",
       "      <td>leu olhos cansac embor palavr sorr part alfred...</td>\n",
       "    </tr>\n",
       "    <tr>\n",
       "      <th>4074</th>\n",
       "      <td>LISBOA 2050\\nLisboa, ano de 2050. Um Agosto tã...</td>\n",
       "      <td>Luisa Marques Silva</td>\n",
       "      <td>lisbo lisbo ano agost tao gel ha vint anos atr...</td>\n",
       "      <td>[lisbo, lisbo, ano, agost, tao, gel, ha, vint,...</td>\n",
       "      <td>59</td>\n",
       "      <td>[lad, janel, ped, sum, lima, instal, jornal, a...</td>\n",
       "      <td>lad janel ped sum lima instal jornal agend ele...</td>\n",
       "    </tr>\n",
       "    <tr>\n",
       "      <th>4075</th>\n",
       "      <td>LISBOA 2050\\nLisboa, ano de 2050. Um Agosto tã...</td>\n",
       "      <td>Luisa Marques Silva</td>\n",
       "      <td>lisbo lisbo ano agost tao gel ha vint anos atr...</td>\n",
       "      <td>[lisbo, lisbo, ano, agost, tao, gel, ha, vint,...</td>\n",
       "      <td>59</td>\n",
       "      <td>[jaim, nunc, sai, lisbo, estiv, quas, apanh, n...</td>\n",
       "      <td>jaim nunc sai lisbo estiv quas apanh naquel di...</td>\n",
       "    </tr>\n",
       "    <tr>\n",
       "      <th>4076</th>\n",
       "      <td>Título\\nUm passeio pelo inferno\\n\\nAutora\\nLuí...</td>\n",
       "      <td>Luisa Marques Silva</td>\n",
       "      <td>titul passei infern autor luis marqu silv tod ...</td>\n",
       "      <td>[titul, passei, infern, autor, luis, marqu, si...</td>\n",
       "      <td>60</td>\n",
       "      <td>[titul, passei, infern, autor, luis, marqu, si...</td>\n",
       "      <td>titul passei infern autor luis marqu silv tod ...</td>\n",
       "    </tr>\n",
       "    <tr>\n",
       "      <th>4077</th>\n",
       "      <td>Título\\nUm passeio pelo inferno\\n\\nAutora\\nLuí...</td>\n",
       "      <td>Luisa Marques Silva</td>\n",
       "      <td>titul passei infern autor luis marqu silv tod ...</td>\n",
       "      <td>[titul, passei, infern, autor, luis, marqu, si...</td>\n",
       "      <td>60</td>\n",
       "      <td>[furador, carnivor, trinc, escrupul, estremec,...</td>\n",
       "      <td>furador carnivor trinc escrupul estremec dor t...</td>\n",
       "    </tr>\n",
       "    <tr>\n",
       "      <th>4078</th>\n",
       "      <td>Título\\nRapsódia sem dó (maior)\\n\\nAutora\\nLuí...</td>\n",
       "      <td>Luisa Marques Silva</td>\n",
       "      <td>titul rapsod maior autor luis marqu silv tod d...</td>\n",
       "      <td>[titul, rapsod, maior, autor, luis, marqu, sil...</td>\n",
       "      <td>61</td>\n",
       "      <td>[titul, rapsod, maior, autor, luis, marqu, sil...</td>\n",
       "      <td>titul rapsod maior autor luis marqu silv tod d...</td>\n",
       "    </tr>\n",
       "    <tr>\n",
       "      <th>4079</th>\n",
       "      <td>Título\\nRapsódia sem dó (maior)\\n\\nAutora\\nLuí...</td>\n",
       "      <td>Luisa Marques Silva</td>\n",
       "      <td>titul rapsod maior autor luis marqu silv tod d...</td>\n",
       "      <td>[titul, rapsod, maior, autor, luis, marqu, sil...</td>\n",
       "      <td>61</td>\n",
       "      <td>[nao, primeir, vez, dep, alienigen, primeir, v...</td>\n",
       "      <td>nao primeir vez dep alienigen primeir vez dep ...</td>\n",
       "    </tr>\n",
       "    <tr>\n",
       "      <th>4080</th>\n",
       "      <td>Título\\nRapsódia sem dó (maior)\\n\\nAutora\\nLuí...</td>\n",
       "      <td>Luisa Marques Silva</td>\n",
       "      <td>titul rapsod maior autor luis marqu silv tod d...</td>\n",
       "      <td>[titul, rapsod, maior, autor, luis, marqu, sil...</td>\n",
       "      <td>61</td>\n",
       "      <td>[marnix, mulh, agath, lev, cas, onde, estav, s...</td>\n",
       "      <td>marnix mulh agath lev cas onde estav seguranc ...</td>\n",
       "    </tr>\n",
       "    <tr>\n",
       "      <th>4081</th>\n",
       "      <td>Título\\nRapsódia sem dó (maior)\\n\\nAutora\\nLuí...</td>\n",
       "      <td>Luisa Marques Silva</td>\n",
       "      <td>titul rapsod maior autor luis marqu silv tod d...</td>\n",
       "      <td>[titul, rapsod, maior, autor, luis, marqu, sil...</td>\n",
       "      <td>61</td>\n",
       "      <td>[curios, repugn, insect, vir, cost, prepar, pa...</td>\n",
       "      <td>curios repugn insect vir cost prepar part repa...</td>\n",
       "    </tr>\n",
       "    <tr>\n",
       "      <th>4082</th>\n",
       "      <td>Título\\nRapsódia sem dó (maior)\\n\\nAutora\\nLuí...</td>\n",
       "      <td>Luisa Marques Silva</td>\n",
       "      <td>titul rapsod maior autor luis marqu silv tod d...</td>\n",
       "      <td>[titul, rapsod, maior, autor, luis, marqu, sil...</td>\n",
       "      <td>61</td>\n",
       "      <td>[pequen, batalh, vei, confirm, lo, trabalh, eq...</td>\n",
       "      <td>pequen batalh vei confirm lo trabalh equip cri...</td>\n",
       "    </tr>\n",
       "    <tr>\n",
       "      <th>4083</th>\n",
       "      <td>Título\\nRapsódia sem dó (maior)\\n\\nAutora\\nLuí...</td>\n",
       "      <td>Luisa Marques Silva</td>\n",
       "      <td>titul rapsod maior autor luis marqu silv tod d...</td>\n",
       "      <td>[titul, rapsod, maior, autor, luis, marqu, sil...</td>\n",
       "      <td>61</td>\n",
       "      <td>[rest, ate, porreir, ando, tent, ensin, lo, le...</td>\n",
       "      <td>rest ate porreir ando tent ensin lo ler comec ...</td>\n",
       "    </tr>\n",
       "    <tr>\n",
       "      <th>4084</th>\n",
       "      <td>Título\\nA última história\\n\\nAutora (próximo N...</td>\n",
       "      <td>Luisa Marques Silva</td>\n",
       "      <td>titul ultim histor autor proxim nobel luis mar...</td>\n",
       "      <td>[titul, ultim, histor, autor, proxim, nobel, l...</td>\n",
       "      <td>62</td>\n",
       "      <td>[titul, ultim, histor, autor, proxim, nobel, l...</td>\n",
       "      <td>titul ultim histor autor proxim nobel luis mar...</td>\n",
       "    </tr>\n",
       "    <tr>\n",
       "      <th>4085</th>\n",
       "      <td>Título\\nA última história\\n\\nAutora (próximo N...</td>\n",
       "      <td>Luisa Marques Silva</td>\n",
       "      <td>titul ultim histor autor proxim nobel luis mar...</td>\n",
       "      <td>[titul, ultim, histor, autor, proxim, nobel, l...</td>\n",
       "      <td>62</td>\n",
       "      <td>[com, barrig, soou, rug, tao, alto, assust, ga...</td>\n",
       "      <td>com barrig soou rug tao alto assust gat malaqu...</td>\n",
       "    </tr>\n",
       "    <tr>\n",
       "      <th>4086</th>\n",
       "      <td>Título\\nA última história\\n\\nAutora (próximo N...</td>\n",
       "      <td>Luisa Marques Silva</td>\n",
       "      <td>titul ultim histor autor proxim nobel luis mar...</td>\n",
       "      <td>[titul, ultim, histor, autor, proxim, nobel, l...</td>\n",
       "      <td>62</td>\n",
       "      <td>[bem, vind, plac, perfeit, sifil, muit, put, t...</td>\n",
       "      <td>bem vind plac perfeit sifil muit put tailand o...</td>\n",
       "    </tr>\n",
       "    <tr>\n",
       "      <th>4087</th>\n",
       "      <td>Título\\nA última história\\n\\nAutora (próximo N...</td>\n",
       "      <td>Luisa Marques Silva</td>\n",
       "      <td>titul ultim histor autor proxim nobel luis mar...</td>\n",
       "      <td>[titul, ultim, histor, autor, proxim, nobel, l...</td>\n",
       "      <td>62</td>\n",
       "      <td>[fabiol, serv, ingenu, contraband, patins, lin...</td>\n",
       "      <td>fabiol serv ingenu contraband patins linh espa...</td>\n",
       "    </tr>\n",
       "    <tr>\n",
       "      <th>4088</th>\n",
       "      <td>Título\\nA última história\\n\\nAutora (próximo N...</td>\n",
       "      <td>Luisa Marques Silva</td>\n",
       "      <td>titul ultim histor autor proxim nobel luis mar...</td>\n",
       "      <td>[titul, ultim, histor, autor, proxim, nobel, l...</td>\n",
       "      <td>62</td>\n",
       "      <td>[alem, diss, catol, pratic, prep, fech, port, ...</td>\n",
       "      <td>alem diss catol pratic prep fech port esper ac...</td>\n",
       "    </tr>\n",
       "    <tr>\n",
       "      <th>4089</th>\n",
       "      <td>Título\\nA última história\\n\\nAutora (próximo N...</td>\n",
       "      <td>Luisa Marques Silva</td>\n",
       "      <td>titul ultim histor autor proxim nobel luis mar...</td>\n",
       "      <td>[titul, ultim, histor, autor, proxim, nobel, l...</td>\n",
       "      <td>62</td>\n",
       "      <td>[porteir, mulh, senhor, mar, carm, desaparec, ...</td>\n",
       "      <td>porteir mulh senhor mar carm desaparec facil s...</td>\n",
       "    </tr>\n",
       "    <tr>\n",
       "      <th>4090</th>\n",
       "      <td>Título\\nA última história\\n\\nAutora (próximo N...</td>\n",
       "      <td>Luisa Marques Silva</td>\n",
       "      <td>titul ultim histor autor proxim nobel luis mar...</td>\n",
       "      <td>[titul, ultim, histor, autor, proxim, nobel, l...</td>\n",
       "      <td>62</td>\n",
       "      <td>[bol, noz, pisc, olho, diss, sotaqu, brasileir...</td>\n",
       "      <td>bol noz pisc olho diss sotaqu brasileir relax ...</td>\n",
       "    </tr>\n",
       "    <tr>\n",
       "      <th>4091</th>\n",
       "      <td>Título\\nA última história\\n\\nAutora (próximo N...</td>\n",
       "      <td>Luisa Marques Silva</td>\n",
       "      <td>titul ultim histor autor proxim nobel luis mar...</td>\n",
       "      <td>[titul, ultim, histor, autor, proxim, nobel, l...</td>\n",
       "      <td>62</td>\n",
       "      <td>[desesper, quer, livr, imediat, tao, atroz, si...</td>\n",
       "      <td>desesper quer livr imediat tao atroz situaca l...</td>\n",
       "    </tr>\n",
       "  </tbody>\n",
       "</table>\n",
       "<p>4092 rows × 7 columns</p>\n",
       "</div>"
      ],
      "text/plain": [
       "                                                   Text               Author  \\\n",
       "0     Title: A Scena do Odio\\n\\nAuthor: José de Alma...     Almada Negreiros   \n",
       "1     Title: A Scena do Odio\\n\\nAuthor: José de Alma...     Almada Negreiros   \n",
       "2     Title: A Scena do Odio\\n\\nAuthor: José de Alma...     Almada Negreiros   \n",
       "3     Title: O Jardim da Pierrette\\n\\nAuthor: José d...     Almada Negreiros   \n",
       "4     \\n\\nTitle: A Invenção do Dia Claro\\n\\nAuthor: ...     Almada Negreiros   \n",
       "5     \\n\\nTitle: A Invenção do Dia Claro\\n\\nAuthor: ...     Almada Negreiros   \n",
       "6     \\n\\nTitle: A Invenção do Dia Claro\\n\\nAuthor: ...     Almada Negreiros   \n",
       "7     \\n\\nTitle: A Invenção do Dia Claro\\n\\nAuthor: ...     Almada Negreiros   \n",
       "8     \\n\\nTitle: A Invenção do Dia Claro\\n\\nAuthor: ...     Almada Negreiros   \n",
       "9     \\n\\nTitle: A Invenção do Dia Claro\\n\\nAuthor: ...     Almada Negreiros   \n",
       "10    \\n\\nTitle: A Invenção do Dia Claro\\n\\nAuthor: ...     Almada Negreiros   \n",
       "11    \\nTitle: Litoral\\n       A Amadeo de Souza Car...     Almada Negreiros   \n",
       "12    \\n\\n\\nEXPOSIÇÃO\\n\\n+amadeo\\nde souza\\ncardoso+...     Almada Negreiros   \n",
       "13    \\n\\n*JOSÉ DE ALMADA-NEGREIROS*\\n\\n\\n*K4\\n\\no q...     Almada Negreiros   \n",
       "14    \\n\\n*JOSÉ DE ALMADA-NEGREIROS*\\n\\n\\n*K4\\n\\no q...     Almada Negreiros   \n",
       "15    \\n\\n*JOSÉ DE ALMADA-NEGREIROS*\\n\\n\\n*K4\\n\\no q...     Almada Negreiros   \n",
       "16    \\n\\n*JOSÉ DE ALMADA-NEGREIROS*\\n\\n\\n*K4\\n\\no q...     Almada Negreiros   \n",
       "17    \\n\\n*JOSÉ DE ALMADA-NEGREIROS*\\n\\n\\n*K4\\n\\no q...     Almada Negreiros   \n",
       "18    \\n\\n*JOSÉ DE ALMADA-NEGREIROS*\\n\\n\\n*K4\\n\\no q...     Almada Negreiros   \n",
       "19    \\n\\n*JOSÉ DE ALMADA-NEGREIROS*\\n\\n\\n*K4\\n\\no q...     Almada Negreiros   \n",
       "20    \\n\\n*JOSÉ DE ALMADA-NEGREIROS*\\n\\n\\n*K4\\n\\no q...     Almada Negreiros   \n",
       "21    \\n\\n*\"ORPHEU\"*\\n\\nREVISTA TRIMESTRAL DE LITERA...     Almada Negreiros   \n",
       "22    \\n\\n*\"ORPHEU\"*\\n\\nREVISTA TRIMESTRAL DE LITERA...     Almada Negreiros   \n",
       "23    \\n\\n*\"ORPHEU\"*\\n\\nREVISTA TRIMESTRAL DE LITERA...     Almada Negreiros   \n",
       "24    \\n\\n*\"ORPHEU\"*\\n\\nREVISTA TRIMESTRAL DE LITERA...     Almada Negreiros   \n",
       "25    \\n\\n*\"ORPHEU\"*\\n\\nREVISTA TRIMESTRAL DE LITERA...     Almada Negreiros   \n",
       "26    \\n\\n*\"ORPHEU\"*\\n\\nREVISTA TRIMESTRAL DE LITERA...     Almada Negreiros   \n",
       "27    \\n\\n*\"ORPHEU\"*\\n\\nREVISTA TRIMESTRAL DE LITERA...     Almada Negreiros   \n",
       "28    \\n\\n*\"ORPHEU\"*\\n\\nREVISTA TRIMESTRAL DE LITERA...     Almada Negreiros   \n",
       "29    \\n\\n*\"ORPHEU\"*\\n\\nREVISTA TRIMESTRAL DE LITERA...     Almada Negreiros   \n",
       "...                                                 ...                  ...   \n",
       "4062  Título\\ne-medo\\n\\nAutora (inspiradíssima)\\nLuí...  Luisa Marques Silva   \n",
       "4063  Título\\ne-medo\\n\\nAutora (inspiradíssima)\\nLuí...  Luisa Marques Silva   \n",
       "4064  Título\\ne-medo\\n\\nAutora (inspiradíssima)\\nLuí...  Luisa Marques Silva   \n",
       "4065  Título\\ne-medo\\n\\nAutora (inspiradíssima)\\nLuí...  Luisa Marques Silva   \n",
       "4066  Título\\ne-medo\\n\\nAutora (inspiradíssima)\\nLuí...  Luisa Marques Silva   \n",
       "4067  Título\\ne-medo\\n\\nAutora (inspiradíssima)\\nLuí...  Luisa Marques Silva   \n",
       "4068  Título\\ne-medo\\n\\nAutora (inspiradíssima)\\nLuí...  Luisa Marques Silva   \n",
       "4069  Título\\ne-medo\\n\\nAutora (inspiradíssima)\\nLuí...  Luisa Marques Silva   \n",
       "4070  Título\\ne-medo\\n\\nAutora (inspiradíssima)\\nLuí...  Luisa Marques Silva   \n",
       "4071  Título\\ne-medo\\n\\nAutora (inspiradíssima)\\nLuí...  Luisa Marques Silva   \n",
       "4072  LISBOA 2050\\nLisboa, ano de 2050. Um Agosto tã...  Luisa Marques Silva   \n",
       "4073  LISBOA 2050\\nLisboa, ano de 2050. Um Agosto tã...  Luisa Marques Silva   \n",
       "4074  LISBOA 2050\\nLisboa, ano de 2050. Um Agosto tã...  Luisa Marques Silva   \n",
       "4075  LISBOA 2050\\nLisboa, ano de 2050. Um Agosto tã...  Luisa Marques Silva   \n",
       "4076  Título\\nUm passeio pelo inferno\\n\\nAutora\\nLuí...  Luisa Marques Silva   \n",
       "4077  Título\\nUm passeio pelo inferno\\n\\nAutora\\nLuí...  Luisa Marques Silva   \n",
       "4078  Título\\nRapsódia sem dó (maior)\\n\\nAutora\\nLuí...  Luisa Marques Silva   \n",
       "4079  Título\\nRapsódia sem dó (maior)\\n\\nAutora\\nLuí...  Luisa Marques Silva   \n",
       "4080  Título\\nRapsódia sem dó (maior)\\n\\nAutora\\nLuí...  Luisa Marques Silva   \n",
       "4081  Título\\nRapsódia sem dó (maior)\\n\\nAutora\\nLuí...  Luisa Marques Silva   \n",
       "4082  Título\\nRapsódia sem dó (maior)\\n\\nAutora\\nLuí...  Luisa Marques Silva   \n",
       "4083  Título\\nRapsódia sem dó (maior)\\n\\nAutora\\nLuí...  Luisa Marques Silva   \n",
       "4084  Título\\nA última história\\n\\nAutora (próximo N...  Luisa Marques Silva   \n",
       "4085  Título\\nA última história\\n\\nAutora (próximo N...  Luisa Marques Silva   \n",
       "4086  Título\\nA última história\\n\\nAutora (próximo N...  Luisa Marques Silva   \n",
       "4087  Título\\nA última história\\n\\nAutora (próximo N...  Luisa Marques Silva   \n",
       "4088  Título\\nA última história\\n\\nAutora (próximo N...  Luisa Marques Silva   \n",
       "4089  Título\\nA última história\\n\\nAutora (próximo N...  Luisa Marques Silva   \n",
       "4090  Título\\nA última história\\n\\nAutora (próximo N...  Luisa Marques Silva   \n",
       "4091  Título\\nA última história\\n\\nAutora (próximo N...  Luisa Marques Silva   \n",
       "\n",
       "                                             Clean Text  \\\n",
       "0     titl scen odi author jos almad negreir releas ...   \n",
       "1     titl scen odi author jos almad negreir releas ...   \n",
       "2     titl scen odi author jos almad negreir releas ...   \n",
       "3     titl jardim pierrett author jos almad negreir ...   \n",
       "4     titl invenca dia clar author jos almad negreir...   \n",
       "5     titl invenca dia clar author jos almad negreir...   \n",
       "6     titl invenca dia clar author jos almad negreir...   \n",
       "7     titl invenca dia clar author jos almad negreir...   \n",
       "8     titl invenca dia clar author jos almad negreir...   \n",
       "9     titl invenca dia clar author jos almad negreir...   \n",
       "10    titl invenca dia clar author jos almad negreir...   \n",
       "11    titl litoral amad souz cardoz author jos almad...   \n",
       "12    exposica amad souz cardos lig naval lisbo port...   \n",
       "13    jos almad negreir k quadr azul acab aparec poe...   \n",
       "14    jos almad negreir k quadr azul acab aparec poe...   \n",
       "15    jos almad negreir k quadr azul acab aparec poe...   \n",
       "16    jos almad negreir k quadr azul acab aparec poe...   \n",
       "17    jos almad negreir k quadr azul acab aparec poe...   \n",
       "18    jos almad negreir k quadr azul acab aparec poe...   \n",
       "19    jos almad negreir k quadr azul acab aparec poe...   \n",
       "20    jos almad negreir k quadr azul acab aparec poe...   \n",
       "21    orpheu revist trimestral literatur portugal br...   \n",
       "22    orpheu revist trimestral literatur portugal br...   \n",
       "23    orpheu revist trimestral literatur portugal br...   \n",
       "24    orpheu revist trimestral literatur portugal br...   \n",
       "25    orpheu revist trimestral literatur portugal br...   \n",
       "26    orpheu revist trimestral literatur portugal br...   \n",
       "27    orpheu revist trimestral literatur portugal br...   \n",
       "28    orpheu revist trimestral literatur portugal br...   \n",
       "29    orpheu revist trimestral literatur portugal br...   \n",
       "...                                                 ...   \n",
       "4062  titul med autor inspiradissim luis marqu silv ...   \n",
       "4063  titul med autor inspiradissim luis marqu silv ...   \n",
       "4064  titul med autor inspiradissim luis marqu silv ...   \n",
       "4065  titul med autor inspiradissim luis marqu silv ...   \n",
       "4066  titul med autor inspiradissim luis marqu silv ...   \n",
       "4067  titul med autor inspiradissim luis marqu silv ...   \n",
       "4068  titul med autor inspiradissim luis marqu silv ...   \n",
       "4069  titul med autor inspiradissim luis marqu silv ...   \n",
       "4070  titul med autor inspiradissim luis marqu silv ...   \n",
       "4071  titul med autor inspiradissim luis marqu silv ...   \n",
       "4072  lisbo lisbo ano agost tao gel ha vint anos atr...   \n",
       "4073  lisbo lisbo ano agost tao gel ha vint anos atr...   \n",
       "4074  lisbo lisbo ano agost tao gel ha vint anos atr...   \n",
       "4075  lisbo lisbo ano agost tao gel ha vint anos atr...   \n",
       "4076  titul passei infern autor luis marqu silv tod ...   \n",
       "4077  titul passei infern autor luis marqu silv tod ...   \n",
       "4078  titul rapsod maior autor luis marqu silv tod d...   \n",
       "4079  titul rapsod maior autor luis marqu silv tod d...   \n",
       "4080  titul rapsod maior autor luis marqu silv tod d...   \n",
       "4081  titul rapsod maior autor luis marqu silv tod d...   \n",
       "4082  titul rapsod maior autor luis marqu silv tod d...   \n",
       "4083  titul rapsod maior autor luis marqu silv tod d...   \n",
       "4084  titul ultim histor autor proxim nobel luis mar...   \n",
       "4085  titul ultim histor autor proxim nobel luis mar...   \n",
       "4086  titul ultim histor autor proxim nobel luis mar...   \n",
       "4087  titul ultim histor autor proxim nobel luis mar...   \n",
       "4088  titul ultim histor autor proxim nobel luis mar...   \n",
       "4089  titul ultim histor autor proxim nobel luis mar...   \n",
       "4090  titul ultim histor autor proxim nobel luis mar...   \n",
       "4091  titul ultim histor autor proxim nobel luis mar...   \n",
       "\n",
       "                                              Word List OG Index  \\\n",
       "0     [titl, scen, odi, author, jos, almad, negreir,...        0   \n",
       "1     [titl, scen, odi, author, jos, almad, negreir,...        0   \n",
       "2     [titl, scen, odi, author, jos, almad, negreir,...        0   \n",
       "3     [titl, jardim, pierrett, author, jos, almad, n...        1   \n",
       "4     [titl, invenca, dia, clar, author, jos, almad,...        2   \n",
       "5     [titl, invenca, dia, clar, author, jos, almad,...        2   \n",
       "6     [titl, invenca, dia, clar, author, jos, almad,...        2   \n",
       "7     [titl, invenca, dia, clar, author, jos, almad,...        2   \n",
       "8     [titl, invenca, dia, clar, author, jos, almad,...        2   \n",
       "9     [titl, invenca, dia, clar, author, jos, almad,...        2   \n",
       "10    [titl, invenca, dia, clar, author, jos, almad,...        2   \n",
       "11    [titl, litoral, amad, souz, cardoz, author, jo...        3   \n",
       "12    [exposica, amad, souz, cardos, lig, naval, lis...        4   \n",
       "13    [jos, almad, negreir, k, quadr, azul, acab, ap...        5   \n",
       "14    [jos, almad, negreir, k, quadr, azul, acab, ap...        5   \n",
       "15    [jos, almad, negreir, k, quadr, azul, acab, ap...        5   \n",
       "16    [jos, almad, negreir, k, quadr, azul, acab, ap...        5   \n",
       "17    [jos, almad, negreir, k, quadr, azul, acab, ap...        5   \n",
       "18    [jos, almad, negreir, k, quadr, azul, acab, ap...        5   \n",
       "19    [jos, almad, negreir, k, quadr, azul, acab, ap...        5   \n",
       "20    [jos, almad, negreir, k, quadr, azul, acab, ap...        5   \n",
       "21    [orpheu, revist, trimestral, literatur, portug...        6   \n",
       "22    [orpheu, revist, trimestral, literatur, portug...        6   \n",
       "23    [orpheu, revist, trimestral, literatur, portug...        6   \n",
       "24    [orpheu, revist, trimestral, literatur, portug...        6   \n",
       "25    [orpheu, revist, trimestral, literatur, portug...        6   \n",
       "26    [orpheu, revist, trimestral, literatur, portug...        6   \n",
       "27    [orpheu, revist, trimestral, literatur, portug...        6   \n",
       "28    [orpheu, revist, trimestral, literatur, portug...        6   \n",
       "29    [orpheu, revist, trimestral, literatur, portug...        6   \n",
       "...                                                 ...      ...   \n",
       "4062  [titul, med, autor, inspiradissim, luis, marqu...       58   \n",
       "4063  [titul, med, autor, inspiradissim, luis, marqu...       58   \n",
       "4064  [titul, med, autor, inspiradissim, luis, marqu...       58   \n",
       "4065  [titul, med, autor, inspiradissim, luis, marqu...       58   \n",
       "4066  [titul, med, autor, inspiradissim, luis, marqu...       58   \n",
       "4067  [titul, med, autor, inspiradissim, luis, marqu...       58   \n",
       "4068  [titul, med, autor, inspiradissim, luis, marqu...       58   \n",
       "4069  [titul, med, autor, inspiradissim, luis, marqu...       58   \n",
       "4070  [titul, med, autor, inspiradissim, luis, marqu...       58   \n",
       "4071  [titul, med, autor, inspiradissim, luis, marqu...       58   \n",
       "4072  [lisbo, lisbo, ano, agost, tao, gel, ha, vint,...       59   \n",
       "4073  [lisbo, lisbo, ano, agost, tao, gel, ha, vint,...       59   \n",
       "4074  [lisbo, lisbo, ano, agost, tao, gel, ha, vint,...       59   \n",
       "4075  [lisbo, lisbo, ano, agost, tao, gel, ha, vint,...       59   \n",
       "4076  [titul, passei, infern, autor, luis, marqu, si...       60   \n",
       "4077  [titul, passei, infern, autor, luis, marqu, si...       60   \n",
       "4078  [titul, rapsod, maior, autor, luis, marqu, sil...       61   \n",
       "4079  [titul, rapsod, maior, autor, luis, marqu, sil...       61   \n",
       "4080  [titul, rapsod, maior, autor, luis, marqu, sil...       61   \n",
       "4081  [titul, rapsod, maior, autor, luis, marqu, sil...       61   \n",
       "4082  [titul, rapsod, maior, autor, luis, marqu, sil...       61   \n",
       "4083  [titul, rapsod, maior, autor, luis, marqu, sil...       61   \n",
       "4084  [titul, ultim, histor, autor, proxim, nobel, l...       62   \n",
       "4085  [titul, ultim, histor, autor, proxim, nobel, l...       62   \n",
       "4086  [titul, ultim, histor, autor, proxim, nobel, l...       62   \n",
       "4087  [titul, ultim, histor, autor, proxim, nobel, l...       62   \n",
       "4088  [titul, ultim, histor, autor, proxim, nobel, l...       62   \n",
       "4089  [titul, ultim, histor, autor, proxim, nobel, l...       62   \n",
       "4090  [titul, ultim, histor, autor, proxim, nobel, l...       62   \n",
       "4091  [titul, ultim, histor, autor, proxim, nobel, l...       62   \n",
       "\n",
       "                                          500 Word List  \\\n",
       "0     [titl, scen, odi, author, jos, almad, negreir,...   \n",
       "1     [cabeleir, prat, estilhac, herald, vitra, desp...   \n",
       "2     [cabec, ve, so, olhos, vir, cheir, cheir, terr...   \n",
       "3     [titl, jardim, pierrett, author, jos, almad, n...   \n",
       "4     [titl, invenca, dia, clar, author, jos, almad,...   \n",
       "5     [i, part, andaim, vesp, conferenc, improvis, s...   \n",
       "6     [palavr, tod, gost, coll, algum, d, pacienc, p...   \n",
       "7     [ouv, cruz, encruzilh, cad, parec, reconhec, a...   \n",
       "8     [exist, nao, tao, devag, quadr, azul, par, dia...   \n",
       "9     [quer, advinh, taes, palavr, outr, vez, anjo, ...   \n",
       "10    [papel, chei, linh, umas, n, direcca, outr, n,...   \n",
       "11    [titl, litoral, amad, souz, cardoz, author, jo...   \n",
       "12    [exposica, amad, souz, cardos, lig, naval, lis...   \n",
       "13    [jos, almad, negreir, k, quadr, azul, acab, ap...   \n",
       "14    [feit, hom, aind, infam, deus, ter, nasc, port...   \n",
       "15    [nenhum, fac, quadr, azul, reproduz, nit, golp...   \n",
       "16    [illumin, perpendicular, direcca, energ, pra, ...   \n",
       "17    [desesper, d, agu, outr, vez, diagona, divid, ...   \n",
       "18    [tod, ate, instant, pens, mim, quer, noca, exa...   \n",
       "19    [maci, loir, habit, lingu, direca, gest, atitu...   \n",
       "20    [bast, so, pra, human, tod, so, instant, imanc...   \n",
       "21    [orpheu, revist, trimestral, literatur, portug...   \n",
       "22    [elevaca, unidad, discreca, onde, depend, harm...   \n",
       "23    [olha, la, vai, vals, vest, casac, salo, vic, ...   \n",
       "24    [castel, rub, opal, tanj, poent, harp, silenc,...   \n",
       "25    [primeir, sent, frent, janell, cost, contr, to...   \n",
       "26    [porqu, nao, corr, long, pert, ha, algum, raza...   \n",
       "27    [sempr, tard, nao, cant, paus, primeir, brev, ...   \n",
       "28    [irma, conta, sempr, nao, par, cont, rep, dias...   \n",
       "29    [pens, nao, tent, segu, nest, aventur, interio...   \n",
       "...                                                 ...   \n",
       "4062  [trabalh, temp, traz, boas, recordaco, vou, co...   \n",
       "4063  [enfim, ines, dev, estar, quas, acord, outr, v...   \n",
       "4064  [nao, rep, sent, cim, telemovel, quer, marqu, ...   \n",
       "4065  [assunt, re, calm, calm, tud, explicaca, facil...   \n",
       "4066  [terrivel, precis, escrev, decid, segu, consel...   \n",
       "4067  [desculp, sint, sozinh, tud, quant, mal, estar...   \n",
       "4068  [terror, possivel, gost, film, terror, agor, o...   \n",
       "4069  [mort, joa, naquel, acident, carr, fez, sim, c...   \n",
       "4070  [nao, quer, receb, cham, horrivel, odei, quer,...   \n",
       "4071  [cabel, apos, part, talvez, nao, normal, ritm,...   \n",
       "4072  [lisbo, lisbo, ano, agost, tao, gel, ha, vint,...   \n",
       "4073  [leu, olhos, cansac, embor, palavr, sorr, part...   \n",
       "4074  [lad, janel, ped, sum, lima, instal, jornal, a...   \n",
       "4075  [jaim, nunc, sai, lisbo, estiv, quas, apanh, n...   \n",
       "4076  [titul, passei, infern, autor, luis, marqu, si...   \n",
       "4077  [furador, carnivor, trinc, escrupul, estremec,...   \n",
       "4078  [titul, rapsod, maior, autor, luis, marqu, sil...   \n",
       "4079  [nao, primeir, vez, dep, alienigen, primeir, v...   \n",
       "4080  [marnix, mulh, agath, lev, cas, onde, estav, s...   \n",
       "4081  [curios, repugn, insect, vir, cost, prepar, pa...   \n",
       "4082  [pequen, batalh, vei, confirm, lo, trabalh, eq...   \n",
       "4083  [rest, ate, porreir, ando, tent, ensin, lo, le...   \n",
       "4084  [titul, ultim, histor, autor, proxim, nobel, l...   \n",
       "4085  [com, barrig, soou, rug, tao, alto, assust, ga...   \n",
       "4086  [bem, vind, plac, perfeit, sifil, muit, put, t...   \n",
       "4087  [fabiol, serv, ingenu, contraband, patins, lin...   \n",
       "4088  [alem, diss, catol, pratic, prep, fech, port, ...   \n",
       "4089  [porteir, mulh, senhor, mar, carm, desaparec, ...   \n",
       "4090  [bol, noz, pisc, olho, diss, sotaqu, brasileir...   \n",
       "4091  [desesper, quer, livr, imediat, tao, atroz, si...   \n",
       "\n",
       "                                         500 Clean Text  \n",
       "0     titl scen odi author jos almad negreir releas ...  \n",
       "1     cabeleir prat estilhac herald vitra despeg len...  \n",
       "2     cabec ve so olhos vir cheir cheir terr com ter...  \n",
       "3     titl jardim pierrett author jos almad negreir ...  \n",
       "4     titl invenca dia clar author jos almad negreir...  \n",
       "5     i part andaim vesp conferenc improvis senhor s...  \n",
       "6     palavr tod gost coll algum d pacienc palavr sa...  \n",
       "7     ouv cruz encruzilh cad parec reconhec aquell m...  \n",
       "8     exist nao tao devag quadr azul par dia vez ir ...  \n",
       "9     quer advinh taes palavr outr vez anjo guard pe...  \n",
       "10    papel chei linh umas n direcca outr n outr uma...  \n",
       "11    titl litoral amad souz cardoz author jos almad...  \n",
       "12    exposica amad souz cardos lig naval lisbo port...  \n",
       "13    jos almad negreir k quadr azul acab aparec poe...  \n",
       "14    feit hom aind infam deus ter nasc portuguez ja...  \n",
       "15    nenhum fac quadr azul reproduz nit golp radium...  \n",
       "16    illumin perpendicular direcca energ pra la vid...  \n",
       "17    desesper d agu outr vez diagona divid quadr ra...  \n",
       "18    tod ate instant pens mim quer noca exact inten...  \n",
       "19    maci loir habit lingu direca gest atitud tud d...  \n",
       "20    bast so pra human tod so instant imancip unani...  \n",
       "21    orpheu revist trimestral literatur portugal br...  \n",
       "22    elevaca unidad discreca onde depend harmon est...  \n",
       "23    olha la vai vals vest casac salo vic rei sub m...  \n",
       "24    castel rub opal tanj poent harp silenc agon al...  \n",
       "25    primeir sent frent janell cost contr toch cim ...  \n",
       "26    porqu nao corr long pert ha algum raza qualqu ...  \n",
       "27    sempr tard nao cant paus primeir brev ser dia ...  \n",
       "28    irma conta sempr nao par cont rep dias rai dia...  \n",
       "29    pens nao tent segu nest aventur interior sab f...  \n",
       "...                                                 ...  \n",
       "4062  trabalh temp traz boas recordaco vou continu p...  \n",
       "4063  enfim ines dev estar quas acord outr vez leono...  \n",
       "4064  nao rep sent cim telemovel quer marqu numer pr...  \n",
       "4065  assunt re calm calm tud explicaca facil diz ex...  \n",
       "4066  terrivel precis escrev decid segu conselh ir c...  \n",
       "4067  desculp sint sozinh tud quant mal estar ines p...  \n",
       "4068  terror possivel gost film terror agor odei ago...  \n",
       "4069  mort joa naquel acident carr fez sim cabec arr...  \n",
       "4070  nao quer receb cham horrivel odei quer sair da...  \n",
       "4071  cabel apos part talvez nao normal ritm carec d...  \n",
       "4072  lisbo lisbo ano agost tao gel ha vint anos atr...  \n",
       "4073  leu olhos cansac embor palavr sorr part alfred...  \n",
       "4074  lad janel ped sum lima instal jornal agend ele...  \n",
       "4075  jaim nunc sai lisbo estiv quas apanh naquel di...  \n",
       "4076  titul passei infern autor luis marqu silv tod ...  \n",
       "4077  furador carnivor trinc escrupul estremec dor t...  \n",
       "4078  titul rapsod maior autor luis marqu silv tod d...  \n",
       "4079  nao primeir vez dep alienigen primeir vez dep ...  \n",
       "4080  marnix mulh agath lev cas onde estav seguranc ...  \n",
       "4081  curios repugn insect vir cost prepar part repa...  \n",
       "4082  pequen batalh vei confirm lo trabalh equip cri...  \n",
       "4083  rest ate porreir ando tent ensin lo ler comec ...  \n",
       "4084  titul ultim histor autor proxim nobel luis mar...  \n",
       "4085  com barrig soou rug tao alto assust gat malaqu...  \n",
       "4086  bem vind plac perfeit sifil muit put tailand o...  \n",
       "4087  fabiol serv ingenu contraband patins linh espa...  \n",
       "4088  alem diss catol pratic prep fech port esper ac...  \n",
       "4089  porteir mulh senhor mar carm desaparec facil s...  \n",
       "4090  bol noz pisc olho diss sotaqu brasileir relax ...  \n",
       "4091  desesper quer livr imediat tao atroz situaca l...  \n",
       "\n",
       "[4092 rows x 7 columns]"
      ]
     },
     "execution_count": 18,
     "metadata": {},
     "output_type": "execute_result"
    }
   ],
   "source": [
    "corpora = pd.merge(corpora,corpora_500,how='left',left_on=corpora.index,right_on='OG Index')\n",
    "corpora"
   ]
  },
  {
   "cell_type": "code",
   "execution_count": 19,
   "metadata": {},
   "outputs": [
    {
     "data": {
      "text/html": [
       "<div>\n",
       "<style scoped>\n",
       "    .dataframe tbody tr th:only-of-type {\n",
       "        vertical-align: middle;\n",
       "    }\n",
       "\n",
       "    .dataframe tbody tr th {\n",
       "        vertical-align: top;\n",
       "    }\n",
       "\n",
       "    .dataframe thead th {\n",
       "        text-align: right;\n",
       "    }\n",
       "</style>\n",
       "<table border=\"1\" class=\"dataframe\">\n",
       "  <thead>\n",
       "    <tr style=\"text-align: right;\">\n",
       "      <th></th>\n",
       "      <th>Text</th>\n",
       "      <th>Author</th>\n",
       "      <th>Clean Text</th>\n",
       "      <th>Word List</th>\n",
       "      <th>OG Index</th>\n",
       "      <th>500 Word List</th>\n",
       "      <th>500 Clean Text</th>\n",
       "      <th>word_count_clean</th>\n",
       "    </tr>\n",
       "  </thead>\n",
       "  <tbody>\n",
       "    <tr>\n",
       "      <th>0</th>\n",
       "      <td>Title: A Scena do Odio\\n\\nAuthor: José de Alma...</td>\n",
       "      <td>Almada Negreiros</td>\n",
       "      <td>titl scen odi author jos almad negreir releas ...</td>\n",
       "      <td>[titl, scen, odi, author, jos, almad, negreir,...</td>\n",
       "      <td>0</td>\n",
       "      <td>[titl, scen, odi, author, jos, almad, negreir,...</td>\n",
       "      <td>titl scen odi author jos almad negreir releas ...</td>\n",
       "      <td>500</td>\n",
       "    </tr>\n",
       "    <tr>\n",
       "      <th>1</th>\n",
       "      <td>Title: A Scena do Odio\\n\\nAuthor: José de Alma...</td>\n",
       "      <td>Almada Negreiros</td>\n",
       "      <td>titl scen odi author jos almad negreir releas ...</td>\n",
       "      <td>[titl, scen, odi, author, jos, almad, negreir,...</td>\n",
       "      <td>0</td>\n",
       "      <td>[cabeleir, prat, estilhac, herald, vitra, desp...</td>\n",
       "      <td>cabeleir prat estilhac herald vitra despeg len...</td>\n",
       "      <td>500</td>\n",
       "    </tr>\n",
       "    <tr>\n",
       "      <th>2</th>\n",
       "      <td>Title: A Scena do Odio\\n\\nAuthor: José de Alma...</td>\n",
       "      <td>Almada Negreiros</td>\n",
       "      <td>titl scen odi author jos almad negreir releas ...</td>\n",
       "      <td>[titl, scen, odi, author, jos, almad, negreir,...</td>\n",
       "      <td>0</td>\n",
       "      <td>[cabec, ve, so, olhos, vir, cheir, cheir, terr...</td>\n",
       "      <td>cabec ve so olhos vir cheir cheir terr com ter...</td>\n",
       "      <td>139</td>\n",
       "    </tr>\n",
       "    <tr>\n",
       "      <th>3</th>\n",
       "      <td>Title: O Jardim da Pierrette\\n\\nAuthor: José d...</td>\n",
       "      <td>Almada Negreiros</td>\n",
       "      <td>titl jardim pierrett author jos almad negreir ...</td>\n",
       "      <td>[titl, jardim, pierrett, author, jos, almad, n...</td>\n",
       "      <td>1</td>\n",
       "      <td>[titl, jardim, pierrett, author, jos, almad, n...</td>\n",
       "      <td>titl jardim pierrett author jos almad negreir ...</td>\n",
       "      <td>203</td>\n",
       "    </tr>\n",
       "    <tr>\n",
       "      <th>4</th>\n",
       "      <td>\\n\\nTitle: A Invenção do Dia Claro\\n\\nAuthor: ...</td>\n",
       "      <td>Almada Negreiros</td>\n",
       "      <td>titl invenca dia clar author jos almad negreir...</td>\n",
       "      <td>[titl, invenca, dia, clar, author, jos, almad,...</td>\n",
       "      <td>2</td>\n",
       "      <td>[titl, invenca, dia, clar, author, jos, almad,...</td>\n",
       "      <td>titl invenca dia clar author jos almad negreir...</td>\n",
       "      <td>500</td>\n",
       "    </tr>\n",
       "    <tr>\n",
       "      <th>5</th>\n",
       "      <td>\\n\\nTitle: A Invenção do Dia Claro\\n\\nAuthor: ...</td>\n",
       "      <td>Almada Negreiros</td>\n",
       "      <td>titl invenca dia clar author jos almad negreir...</td>\n",
       "      <td>[titl, invenca, dia, clar, author, jos, almad,...</td>\n",
       "      <td>2</td>\n",
       "      <td>[i, part, andaim, vesp, conferenc, improvis, s...</td>\n",
       "      <td>i part andaim vesp conferenc improvis senhor s...</td>\n",
       "      <td>500</td>\n",
       "    </tr>\n",
       "    <tr>\n",
       "      <th>6</th>\n",
       "      <td>\\n\\nTitle: A Invenção do Dia Claro\\n\\nAuthor: ...</td>\n",
       "      <td>Almada Negreiros</td>\n",
       "      <td>titl invenca dia clar author jos almad negreir...</td>\n",
       "      <td>[titl, invenca, dia, clar, author, jos, almad,...</td>\n",
       "      <td>2</td>\n",
       "      <td>[palavr, tod, gost, coll, algum, d, pacienc, p...</td>\n",
       "      <td>palavr tod gost coll algum d pacienc palavr sa...</td>\n",
       "      <td>500</td>\n",
       "    </tr>\n",
       "    <tr>\n",
       "      <th>7</th>\n",
       "      <td>\\n\\nTitle: A Invenção do Dia Claro\\n\\nAuthor: ...</td>\n",
       "      <td>Almada Negreiros</td>\n",
       "      <td>titl invenca dia clar author jos almad negreir...</td>\n",
       "      <td>[titl, invenca, dia, clar, author, jos, almad,...</td>\n",
       "      <td>2</td>\n",
       "      <td>[ouv, cruz, encruzilh, cad, parec, reconhec, a...</td>\n",
       "      <td>ouv cruz encruzilh cad parec reconhec aquell m...</td>\n",
       "      <td>500</td>\n",
       "    </tr>\n",
       "    <tr>\n",
       "      <th>8</th>\n",
       "      <td>\\n\\nTitle: A Invenção do Dia Claro\\n\\nAuthor: ...</td>\n",
       "      <td>Almada Negreiros</td>\n",
       "      <td>titl invenca dia clar author jos almad negreir...</td>\n",
       "      <td>[titl, invenca, dia, clar, author, jos, almad,...</td>\n",
       "      <td>2</td>\n",
       "      <td>[exist, nao, tao, devag, quadr, azul, par, dia...</td>\n",
       "      <td>exist nao tao devag quadr azul par dia vez ir ...</td>\n",
       "      <td>500</td>\n",
       "    </tr>\n",
       "    <tr>\n",
       "      <th>9</th>\n",
       "      <td>\\n\\nTitle: A Invenção do Dia Claro\\n\\nAuthor: ...</td>\n",
       "      <td>Almada Negreiros</td>\n",
       "      <td>titl invenca dia clar author jos almad negreir...</td>\n",
       "      <td>[titl, invenca, dia, clar, author, jos, almad,...</td>\n",
       "      <td>2</td>\n",
       "      <td>[quer, advinh, taes, palavr, outr, vez, anjo, ...</td>\n",
       "      <td>quer advinh taes palavr outr vez anjo guard pe...</td>\n",
       "      <td>500</td>\n",
       "    </tr>\n",
       "    <tr>\n",
       "      <th>10</th>\n",
       "      <td>\\n\\nTitle: A Invenção do Dia Claro\\n\\nAuthor: ...</td>\n",
       "      <td>Almada Negreiros</td>\n",
       "      <td>titl invenca dia clar author jos almad negreir...</td>\n",
       "      <td>[titl, invenca, dia, clar, author, jos, almad,...</td>\n",
       "      <td>2</td>\n",
       "      <td>[papel, chei, linh, umas, n, direcca, outr, n,...</td>\n",
       "      <td>papel chei linh umas n direcca outr n outr uma...</td>\n",
       "      <td>439</td>\n",
       "    </tr>\n",
       "    <tr>\n",
       "      <th>11</th>\n",
       "      <td>\\nTitle: Litoral\\n       A Amadeo de Souza Car...</td>\n",
       "      <td>Almada Negreiros</td>\n",
       "      <td>titl litoral amad souz cardoz author jos almad...</td>\n",
       "      <td>[titl, litoral, amad, souz, cardoz, author, jo...</td>\n",
       "      <td>3</td>\n",
       "      <td>[titl, litoral, amad, souz, cardoz, author, jo...</td>\n",
       "      <td>titl litoral amad souz cardoz author jos almad...</td>\n",
       "      <td>476</td>\n",
       "    </tr>\n",
       "    <tr>\n",
       "      <th>12</th>\n",
       "      <td>\\n\\n\\nEXPOSIÇÃO\\n\\n+amadeo\\nde souza\\ncardoso+...</td>\n",
       "      <td>Almada Negreiros</td>\n",
       "      <td>exposica amad souz cardos lig naval lisbo port...</td>\n",
       "      <td>[exposica, amad, souz, cardos, lig, naval, lis...</td>\n",
       "      <td>4</td>\n",
       "      <td>[exposica, amad, souz, cardos, lig, naval, lis...</td>\n",
       "      <td>exposica amad souz cardos lig naval lisbo port...</td>\n",
       "      <td>354</td>\n",
       "    </tr>\n",
       "    <tr>\n",
       "      <th>13</th>\n",
       "      <td>\\n\\n*JOSÉ DE ALMADA-NEGREIROS*\\n\\n\\n*K4\\n\\no q...</td>\n",
       "      <td>Almada Negreiros</td>\n",
       "      <td>jos almad negreir k quadr azul acab aparec poe...</td>\n",
       "      <td>[jos, almad, negreir, k, quadr, azul, acab, ap...</td>\n",
       "      <td>5</td>\n",
       "      <td>[jos, almad, negreir, k, quadr, azul, acab, ap...</td>\n",
       "      <td>jos almad negreir k quadr azul acab aparec poe...</td>\n",
       "      <td>500</td>\n",
       "    </tr>\n",
       "    <tr>\n",
       "      <th>14</th>\n",
       "      <td>\\n\\n*JOSÉ DE ALMADA-NEGREIROS*\\n\\n\\n*K4\\n\\no q...</td>\n",
       "      <td>Almada Negreiros</td>\n",
       "      <td>jos almad negreir k quadr azul acab aparec poe...</td>\n",
       "      <td>[jos, almad, negreir, k, quadr, azul, acab, ap...</td>\n",
       "      <td>5</td>\n",
       "      <td>[feit, hom, aind, infam, deus, ter, nasc, port...</td>\n",
       "      <td>feit hom aind infam deus ter nasc portuguez ja...</td>\n",
       "      <td>500</td>\n",
       "    </tr>\n",
       "    <tr>\n",
       "      <th>15</th>\n",
       "      <td>\\n\\n*JOSÉ DE ALMADA-NEGREIROS*\\n\\n\\n*K4\\n\\no q...</td>\n",
       "      <td>Almada Negreiros</td>\n",
       "      <td>jos almad negreir k quadr azul acab aparec poe...</td>\n",
       "      <td>[jos, almad, negreir, k, quadr, azul, acab, ap...</td>\n",
       "      <td>5</td>\n",
       "      <td>[nenhum, fac, quadr, azul, reproduz, nit, golp...</td>\n",
       "      <td>nenhum fac quadr azul reproduz nit golp radium...</td>\n",
       "      <td>500</td>\n",
       "    </tr>\n",
       "    <tr>\n",
       "      <th>16</th>\n",
       "      <td>\\n\\n*JOSÉ DE ALMADA-NEGREIROS*\\n\\n\\n*K4\\n\\no q...</td>\n",
       "      <td>Almada Negreiros</td>\n",
       "      <td>jos almad negreir k quadr azul acab aparec poe...</td>\n",
       "      <td>[jos, almad, negreir, k, quadr, azul, acab, ap...</td>\n",
       "      <td>5</td>\n",
       "      <td>[illumin, perpendicular, direcca, energ, pra, ...</td>\n",
       "      <td>illumin perpendicular direcca energ pra la vid...</td>\n",
       "      <td>500</td>\n",
       "    </tr>\n",
       "    <tr>\n",
       "      <th>17</th>\n",
       "      <td>\\n\\n*JOSÉ DE ALMADA-NEGREIROS*\\n\\n\\n*K4\\n\\no q...</td>\n",
       "      <td>Almada Negreiros</td>\n",
       "      <td>jos almad negreir k quadr azul acab aparec poe...</td>\n",
       "      <td>[jos, almad, negreir, k, quadr, azul, acab, ap...</td>\n",
       "      <td>5</td>\n",
       "      <td>[desesper, d, agu, outr, vez, diagona, divid, ...</td>\n",
       "      <td>desesper d agu outr vez diagona divid quadr ra...</td>\n",
       "      <td>500</td>\n",
       "    </tr>\n",
       "    <tr>\n",
       "      <th>18</th>\n",
       "      <td>\\n\\n*JOSÉ DE ALMADA-NEGREIROS*\\n\\n\\n*K4\\n\\no q...</td>\n",
       "      <td>Almada Negreiros</td>\n",
       "      <td>jos almad negreir k quadr azul acab aparec poe...</td>\n",
       "      <td>[jos, almad, negreir, k, quadr, azul, acab, ap...</td>\n",
       "      <td>5</td>\n",
       "      <td>[tod, ate, instant, pens, mim, quer, noca, exa...</td>\n",
       "      <td>tod ate instant pens mim quer noca exact inten...</td>\n",
       "      <td>500</td>\n",
       "    </tr>\n",
       "    <tr>\n",
       "      <th>19</th>\n",
       "      <td>\\n\\n*JOSÉ DE ALMADA-NEGREIROS*\\n\\n\\n*K4\\n\\no q...</td>\n",
       "      <td>Almada Negreiros</td>\n",
       "      <td>jos almad negreir k quadr azul acab aparec poe...</td>\n",
       "      <td>[jos, almad, negreir, k, quadr, azul, acab, ap...</td>\n",
       "      <td>5</td>\n",
       "      <td>[maci, loir, habit, lingu, direca, gest, atitu...</td>\n",
       "      <td>maci loir habit lingu direca gest atitud tud d...</td>\n",
       "      <td>500</td>\n",
       "    </tr>\n",
       "    <tr>\n",
       "      <th>20</th>\n",
       "      <td>\\n\\n*JOSÉ DE ALMADA-NEGREIROS*\\n\\n\\n*K4\\n\\no q...</td>\n",
       "      <td>Almada Negreiros</td>\n",
       "      <td>jos almad negreir k quadr azul acab aparec poe...</td>\n",
       "      <td>[jos, almad, negreir, k, quadr, azul, acab, ap...</td>\n",
       "      <td>5</td>\n",
       "      <td>[bast, so, pra, human, tod, so, instant, imanc...</td>\n",
       "      <td>bast so pra human tod so instant imancip unani...</td>\n",
       "      <td>412</td>\n",
       "    </tr>\n",
       "    <tr>\n",
       "      <th>21</th>\n",
       "      <td>\\n\\n*\"ORPHEU\"*\\n\\nREVISTA TRIMESTRAL DE LITERA...</td>\n",
       "      <td>Almada Negreiros</td>\n",
       "      <td>orpheu revist trimestral literatur portugal br...</td>\n",
       "      <td>[orpheu, revist, trimestral, literatur, portug...</td>\n",
       "      <td>6</td>\n",
       "      <td>[orpheu, revist, trimestral, literatur, portug...</td>\n",
       "      <td>orpheu revist trimestral literatur portugal br...</td>\n",
       "      <td>500</td>\n",
       "    </tr>\n",
       "    <tr>\n",
       "      <th>22</th>\n",
       "      <td>\\n\\n*\"ORPHEU\"*\\n\\nREVISTA TRIMESTRAL DE LITERA...</td>\n",
       "      <td>Almada Negreiros</td>\n",
       "      <td>orpheu revist trimestral literatur portugal br...</td>\n",
       "      <td>[orpheu, revist, trimestral, literatur, portug...</td>\n",
       "      <td>6</td>\n",
       "      <td>[elevaca, unidad, discreca, onde, depend, harm...</td>\n",
       "      <td>elevaca unidad discreca onde depend harmon est...</td>\n",
       "      <td>500</td>\n",
       "    </tr>\n",
       "    <tr>\n",
       "      <th>23</th>\n",
       "      <td>\\n\\n*\"ORPHEU\"*\\n\\nREVISTA TRIMESTRAL DE LITERA...</td>\n",
       "      <td>Almada Negreiros</td>\n",
       "      <td>orpheu revist trimestral literatur portugal br...</td>\n",
       "      <td>[orpheu, revist, trimestral, literatur, portug...</td>\n",
       "      <td>6</td>\n",
       "      <td>[olha, la, vai, vals, vest, casac, salo, vic, ...</td>\n",
       "      <td>olha la vai vals vest casac salo vic rei sub m...</td>\n",
       "      <td>500</td>\n",
       "    </tr>\n",
       "    <tr>\n",
       "      <th>24</th>\n",
       "      <td>\\n\\n*\"ORPHEU\"*\\n\\nREVISTA TRIMESTRAL DE LITERA...</td>\n",
       "      <td>Almada Negreiros</td>\n",
       "      <td>orpheu revist trimestral literatur portugal br...</td>\n",
       "      <td>[orpheu, revist, trimestral, literatur, portug...</td>\n",
       "      <td>6</td>\n",
       "      <td>[castel, rub, opal, tanj, poent, harp, silenc,...</td>\n",
       "      <td>castel rub opal tanj poent harp silenc agon al...</td>\n",
       "      <td>500</td>\n",
       "    </tr>\n",
       "    <tr>\n",
       "      <th>25</th>\n",
       "      <td>\\n\\n*\"ORPHEU\"*\\n\\nREVISTA TRIMESTRAL DE LITERA...</td>\n",
       "      <td>Almada Negreiros</td>\n",
       "      <td>orpheu revist trimestral literatur portugal br...</td>\n",
       "      <td>[orpheu, revist, trimestral, literatur, portug...</td>\n",
       "      <td>6</td>\n",
       "      <td>[primeir, sent, frent, janell, cost, contr, to...</td>\n",
       "      <td>primeir sent frent janell cost contr toch cim ...</td>\n",
       "      <td>500</td>\n",
       "    </tr>\n",
       "    <tr>\n",
       "      <th>26</th>\n",
       "      <td>\\n\\n*\"ORPHEU\"*\\n\\nREVISTA TRIMESTRAL DE LITERA...</td>\n",
       "      <td>Almada Negreiros</td>\n",
       "      <td>orpheu revist trimestral literatur portugal br...</td>\n",
       "      <td>[orpheu, revist, trimestral, literatur, portug...</td>\n",
       "      <td>6</td>\n",
       "      <td>[porqu, nao, corr, long, pert, ha, algum, raza...</td>\n",
       "      <td>porqu nao corr long pert ha algum raza qualqu ...</td>\n",
       "      <td>500</td>\n",
       "    </tr>\n",
       "    <tr>\n",
       "      <th>27</th>\n",
       "      <td>\\n\\n*\"ORPHEU\"*\\n\\nREVISTA TRIMESTRAL DE LITERA...</td>\n",
       "      <td>Almada Negreiros</td>\n",
       "      <td>orpheu revist trimestral literatur portugal br...</td>\n",
       "      <td>[orpheu, revist, trimestral, literatur, portug...</td>\n",
       "      <td>6</td>\n",
       "      <td>[sempr, tard, nao, cant, paus, primeir, brev, ...</td>\n",
       "      <td>sempr tard nao cant paus primeir brev ser dia ...</td>\n",
       "      <td>500</td>\n",
       "    </tr>\n",
       "    <tr>\n",
       "      <th>28</th>\n",
       "      <td>\\n\\n*\"ORPHEU\"*\\n\\nREVISTA TRIMESTRAL DE LITERA...</td>\n",
       "      <td>Almada Negreiros</td>\n",
       "      <td>orpheu revist trimestral literatur portugal br...</td>\n",
       "      <td>[orpheu, revist, trimestral, literatur, portug...</td>\n",
       "      <td>6</td>\n",
       "      <td>[irma, conta, sempr, nao, par, cont, rep, dias...</td>\n",
       "      <td>irma conta sempr nao par cont rep dias rai dia...</td>\n",
       "      <td>500</td>\n",
       "    </tr>\n",
       "    <tr>\n",
       "      <th>29</th>\n",
       "      <td>\\n\\n*\"ORPHEU\"*\\n\\nREVISTA TRIMESTRAL DE LITERA...</td>\n",
       "      <td>Almada Negreiros</td>\n",
       "      <td>orpheu revist trimestral literatur portugal br...</td>\n",
       "      <td>[orpheu, revist, trimestral, literatur, portug...</td>\n",
       "      <td>6</td>\n",
       "      <td>[pens, nao, tent, segu, nest, aventur, interio...</td>\n",
       "      <td>pens nao tent segu nest aventur interior sab f...</td>\n",
       "      <td>500</td>\n",
       "    </tr>\n",
       "    <tr>\n",
       "      <th>...</th>\n",
       "      <td>...</td>\n",
       "      <td>...</td>\n",
       "      <td>...</td>\n",
       "      <td>...</td>\n",
       "      <td>...</td>\n",
       "      <td>...</td>\n",
       "      <td>...</td>\n",
       "      <td>...</td>\n",
       "    </tr>\n",
       "    <tr>\n",
       "      <th>4062</th>\n",
       "      <td>Título\\ne-medo\\n\\nAutora (inspiradíssima)\\nLuí...</td>\n",
       "      <td>Luisa Marques Silva</td>\n",
       "      <td>titul med autor inspiradissim luis marqu silv ...</td>\n",
       "      <td>[titul, med, autor, inspiradissim, luis, marqu...</td>\n",
       "      <td>58</td>\n",
       "      <td>[trabalh, temp, traz, boas, recordaco, vou, co...</td>\n",
       "      <td>trabalh temp traz boas recordaco vou continu p...</td>\n",
       "      <td>500</td>\n",
       "    </tr>\n",
       "    <tr>\n",
       "      <th>4063</th>\n",
       "      <td>Título\\ne-medo\\n\\nAutora (inspiradíssima)\\nLuí...</td>\n",
       "      <td>Luisa Marques Silva</td>\n",
       "      <td>titul med autor inspiradissim luis marqu silv ...</td>\n",
       "      <td>[titul, med, autor, inspiradissim, luis, marqu...</td>\n",
       "      <td>58</td>\n",
       "      <td>[enfim, ines, dev, estar, quas, acord, outr, v...</td>\n",
       "      <td>enfim ines dev estar quas acord outr vez leono...</td>\n",
       "      <td>500</td>\n",
       "    </tr>\n",
       "    <tr>\n",
       "      <th>4064</th>\n",
       "      <td>Título\\ne-medo\\n\\nAutora (inspiradíssima)\\nLuí...</td>\n",
       "      <td>Luisa Marques Silva</td>\n",
       "      <td>titul med autor inspiradissim luis marqu silv ...</td>\n",
       "      <td>[titul, med, autor, inspiradissim, luis, marqu...</td>\n",
       "      <td>58</td>\n",
       "      <td>[nao, rep, sent, cim, telemovel, quer, marqu, ...</td>\n",
       "      <td>nao rep sent cim telemovel quer marqu numer pr...</td>\n",
       "      <td>500</td>\n",
       "    </tr>\n",
       "    <tr>\n",
       "      <th>4065</th>\n",
       "      <td>Título\\ne-medo\\n\\nAutora (inspiradíssima)\\nLuí...</td>\n",
       "      <td>Luisa Marques Silva</td>\n",
       "      <td>titul med autor inspiradissim luis marqu silv ...</td>\n",
       "      <td>[titul, med, autor, inspiradissim, luis, marqu...</td>\n",
       "      <td>58</td>\n",
       "      <td>[assunt, re, calm, calm, tud, explicaca, facil...</td>\n",
       "      <td>assunt re calm calm tud explicaca facil diz ex...</td>\n",
       "      <td>500</td>\n",
       "    </tr>\n",
       "    <tr>\n",
       "      <th>4066</th>\n",
       "      <td>Título\\ne-medo\\n\\nAutora (inspiradíssima)\\nLuí...</td>\n",
       "      <td>Luisa Marques Silva</td>\n",
       "      <td>titul med autor inspiradissim luis marqu silv ...</td>\n",
       "      <td>[titul, med, autor, inspiradissim, luis, marqu...</td>\n",
       "      <td>58</td>\n",
       "      <td>[terrivel, precis, escrev, decid, segu, consel...</td>\n",
       "      <td>terrivel precis escrev decid segu conselh ir c...</td>\n",
       "      <td>500</td>\n",
       "    </tr>\n",
       "    <tr>\n",
       "      <th>4067</th>\n",
       "      <td>Título\\ne-medo\\n\\nAutora (inspiradíssima)\\nLuí...</td>\n",
       "      <td>Luisa Marques Silva</td>\n",
       "      <td>titul med autor inspiradissim luis marqu silv ...</td>\n",
       "      <td>[titul, med, autor, inspiradissim, luis, marqu...</td>\n",
       "      <td>58</td>\n",
       "      <td>[desculp, sint, sozinh, tud, quant, mal, estar...</td>\n",
       "      <td>desculp sint sozinh tud quant mal estar ines p...</td>\n",
       "      <td>500</td>\n",
       "    </tr>\n",
       "    <tr>\n",
       "      <th>4068</th>\n",
       "      <td>Título\\ne-medo\\n\\nAutora (inspiradíssima)\\nLuí...</td>\n",
       "      <td>Luisa Marques Silva</td>\n",
       "      <td>titul med autor inspiradissim luis marqu silv ...</td>\n",
       "      <td>[titul, med, autor, inspiradissim, luis, marqu...</td>\n",
       "      <td>58</td>\n",
       "      <td>[terror, possivel, gost, film, terror, agor, o...</td>\n",
       "      <td>terror possivel gost film terror agor odei ago...</td>\n",
       "      <td>500</td>\n",
       "    </tr>\n",
       "    <tr>\n",
       "      <th>4069</th>\n",
       "      <td>Título\\ne-medo\\n\\nAutora (inspiradíssima)\\nLuí...</td>\n",
       "      <td>Luisa Marques Silva</td>\n",
       "      <td>titul med autor inspiradissim luis marqu silv ...</td>\n",
       "      <td>[titul, med, autor, inspiradissim, luis, marqu...</td>\n",
       "      <td>58</td>\n",
       "      <td>[mort, joa, naquel, acident, carr, fez, sim, c...</td>\n",
       "      <td>mort joa naquel acident carr fez sim cabec arr...</td>\n",
       "      <td>500</td>\n",
       "    </tr>\n",
       "    <tr>\n",
       "      <th>4070</th>\n",
       "      <td>Título\\ne-medo\\n\\nAutora (inspiradíssima)\\nLuí...</td>\n",
       "      <td>Luisa Marques Silva</td>\n",
       "      <td>titul med autor inspiradissim luis marqu silv ...</td>\n",
       "      <td>[titul, med, autor, inspiradissim, luis, marqu...</td>\n",
       "      <td>58</td>\n",
       "      <td>[nao, quer, receb, cham, horrivel, odei, quer,...</td>\n",
       "      <td>nao quer receb cham horrivel odei quer sair da...</td>\n",
       "      <td>500</td>\n",
       "    </tr>\n",
       "    <tr>\n",
       "      <th>4071</th>\n",
       "      <td>Título\\ne-medo\\n\\nAutora (inspiradíssima)\\nLuí...</td>\n",
       "      <td>Luisa Marques Silva</td>\n",
       "      <td>titul med autor inspiradissim luis marqu silv ...</td>\n",
       "      <td>[titul, med, autor, inspiradissim, luis, marqu...</td>\n",
       "      <td>58</td>\n",
       "      <td>[cabel, apos, part, talvez, nao, normal, ritm,...</td>\n",
       "      <td>cabel apos part talvez nao normal ritm carec d...</td>\n",
       "      <td>466</td>\n",
       "    </tr>\n",
       "    <tr>\n",
       "      <th>4072</th>\n",
       "      <td>LISBOA 2050\\nLisboa, ano de 2050. Um Agosto tã...</td>\n",
       "      <td>Luisa Marques Silva</td>\n",
       "      <td>lisbo lisbo ano agost tao gel ha vint anos atr...</td>\n",
       "      <td>[lisbo, lisbo, ano, agost, tao, gel, ha, vint,...</td>\n",
       "      <td>59</td>\n",
       "      <td>[lisbo, lisbo, ano, agost, tao, gel, ha, vint,...</td>\n",
       "      <td>lisbo lisbo ano agost tao gel ha vint anos atr...</td>\n",
       "      <td>500</td>\n",
       "    </tr>\n",
       "    <tr>\n",
       "      <th>4073</th>\n",
       "      <td>LISBOA 2050\\nLisboa, ano de 2050. Um Agosto tã...</td>\n",
       "      <td>Luisa Marques Silva</td>\n",
       "      <td>lisbo lisbo ano agost tao gel ha vint anos atr...</td>\n",
       "      <td>[lisbo, lisbo, ano, agost, tao, gel, ha, vint,...</td>\n",
       "      <td>59</td>\n",
       "      <td>[leu, olhos, cansac, embor, palavr, sorr, part...</td>\n",
       "      <td>leu olhos cansac embor palavr sorr part alfred...</td>\n",
       "      <td>500</td>\n",
       "    </tr>\n",
       "    <tr>\n",
       "      <th>4074</th>\n",
       "      <td>LISBOA 2050\\nLisboa, ano de 2050. Um Agosto tã...</td>\n",
       "      <td>Luisa Marques Silva</td>\n",
       "      <td>lisbo lisbo ano agost tao gel ha vint anos atr...</td>\n",
       "      <td>[lisbo, lisbo, ano, agost, tao, gel, ha, vint,...</td>\n",
       "      <td>59</td>\n",
       "      <td>[lad, janel, ped, sum, lima, instal, jornal, a...</td>\n",
       "      <td>lad janel ped sum lima instal jornal agend ele...</td>\n",
       "      <td>500</td>\n",
       "    </tr>\n",
       "    <tr>\n",
       "      <th>4075</th>\n",
       "      <td>LISBOA 2050\\nLisboa, ano de 2050. Um Agosto tã...</td>\n",
       "      <td>Luisa Marques Silva</td>\n",
       "      <td>lisbo lisbo ano agost tao gel ha vint anos atr...</td>\n",
       "      <td>[lisbo, lisbo, ano, agost, tao, gel, ha, vint,...</td>\n",
       "      <td>59</td>\n",
       "      <td>[jaim, nunc, sai, lisbo, estiv, quas, apanh, n...</td>\n",
       "      <td>jaim nunc sai lisbo estiv quas apanh naquel di...</td>\n",
       "      <td>468</td>\n",
       "    </tr>\n",
       "    <tr>\n",
       "      <th>4076</th>\n",
       "      <td>Título\\nUm passeio pelo inferno\\n\\nAutora\\nLuí...</td>\n",
       "      <td>Luisa Marques Silva</td>\n",
       "      <td>titul passei infern autor luis marqu silv tod ...</td>\n",
       "      <td>[titul, passei, infern, autor, luis, marqu, si...</td>\n",
       "      <td>60</td>\n",
       "      <td>[titul, passei, infern, autor, luis, marqu, si...</td>\n",
       "      <td>titul passei infern autor luis marqu silv tod ...</td>\n",
       "      <td>500</td>\n",
       "    </tr>\n",
       "    <tr>\n",
       "      <th>4077</th>\n",
       "      <td>Título\\nUm passeio pelo inferno\\n\\nAutora\\nLuí...</td>\n",
       "      <td>Luisa Marques Silva</td>\n",
       "      <td>titul passei infern autor luis marqu silv tod ...</td>\n",
       "      <td>[titul, passei, infern, autor, luis, marqu, si...</td>\n",
       "      <td>60</td>\n",
       "      <td>[furador, carnivor, trinc, escrupul, estremec,...</td>\n",
       "      <td>furador carnivor trinc escrupul estremec dor t...</td>\n",
       "      <td>129</td>\n",
       "    </tr>\n",
       "    <tr>\n",
       "      <th>4078</th>\n",
       "      <td>Título\\nRapsódia sem dó (maior)\\n\\nAutora\\nLuí...</td>\n",
       "      <td>Luisa Marques Silva</td>\n",
       "      <td>titul rapsod maior autor luis marqu silv tod d...</td>\n",
       "      <td>[titul, rapsod, maior, autor, luis, marqu, sil...</td>\n",
       "      <td>61</td>\n",
       "      <td>[titul, rapsod, maior, autor, luis, marqu, sil...</td>\n",
       "      <td>titul rapsod maior autor luis marqu silv tod d...</td>\n",
       "      <td>500</td>\n",
       "    </tr>\n",
       "    <tr>\n",
       "      <th>4079</th>\n",
       "      <td>Título\\nRapsódia sem dó (maior)\\n\\nAutora\\nLuí...</td>\n",
       "      <td>Luisa Marques Silva</td>\n",
       "      <td>titul rapsod maior autor luis marqu silv tod d...</td>\n",
       "      <td>[titul, rapsod, maior, autor, luis, marqu, sil...</td>\n",
       "      <td>61</td>\n",
       "      <td>[nao, primeir, vez, dep, alienigen, primeir, v...</td>\n",
       "      <td>nao primeir vez dep alienigen primeir vez dep ...</td>\n",
       "      <td>500</td>\n",
       "    </tr>\n",
       "    <tr>\n",
       "      <th>4080</th>\n",
       "      <td>Título\\nRapsódia sem dó (maior)\\n\\nAutora\\nLuí...</td>\n",
       "      <td>Luisa Marques Silva</td>\n",
       "      <td>titul rapsod maior autor luis marqu silv tod d...</td>\n",
       "      <td>[titul, rapsod, maior, autor, luis, marqu, sil...</td>\n",
       "      <td>61</td>\n",
       "      <td>[marnix, mulh, agath, lev, cas, onde, estav, s...</td>\n",
       "      <td>marnix mulh agath lev cas onde estav seguranc ...</td>\n",
       "      <td>500</td>\n",
       "    </tr>\n",
       "    <tr>\n",
       "      <th>4081</th>\n",
       "      <td>Título\\nRapsódia sem dó (maior)\\n\\nAutora\\nLuí...</td>\n",
       "      <td>Luisa Marques Silva</td>\n",
       "      <td>titul rapsod maior autor luis marqu silv tod d...</td>\n",
       "      <td>[titul, rapsod, maior, autor, luis, marqu, sil...</td>\n",
       "      <td>61</td>\n",
       "      <td>[curios, repugn, insect, vir, cost, prepar, pa...</td>\n",
       "      <td>curios repugn insect vir cost prepar part repa...</td>\n",
       "      <td>500</td>\n",
       "    </tr>\n",
       "    <tr>\n",
       "      <th>4082</th>\n",
       "      <td>Título\\nRapsódia sem dó (maior)\\n\\nAutora\\nLuí...</td>\n",
       "      <td>Luisa Marques Silva</td>\n",
       "      <td>titul rapsod maior autor luis marqu silv tod d...</td>\n",
       "      <td>[titul, rapsod, maior, autor, luis, marqu, sil...</td>\n",
       "      <td>61</td>\n",
       "      <td>[pequen, batalh, vei, confirm, lo, trabalh, eq...</td>\n",
       "      <td>pequen batalh vei confirm lo trabalh equip cri...</td>\n",
       "      <td>500</td>\n",
       "    </tr>\n",
       "    <tr>\n",
       "      <th>4083</th>\n",
       "      <td>Título\\nRapsódia sem dó (maior)\\n\\nAutora\\nLuí...</td>\n",
       "      <td>Luisa Marques Silva</td>\n",
       "      <td>titul rapsod maior autor luis marqu silv tod d...</td>\n",
       "      <td>[titul, rapsod, maior, autor, luis, marqu, sil...</td>\n",
       "      <td>61</td>\n",
       "      <td>[rest, ate, porreir, ando, tent, ensin, lo, le...</td>\n",
       "      <td>rest ate porreir ando tent ensin lo ler comec ...</td>\n",
       "      <td>11</td>\n",
       "    </tr>\n",
       "    <tr>\n",
       "      <th>4084</th>\n",
       "      <td>Título\\nA última história\\n\\nAutora (próximo N...</td>\n",
       "      <td>Luisa Marques Silva</td>\n",
       "      <td>titul ultim histor autor proxim nobel luis mar...</td>\n",
       "      <td>[titul, ultim, histor, autor, proxim, nobel, l...</td>\n",
       "      <td>62</td>\n",
       "      <td>[titul, ultim, histor, autor, proxim, nobel, l...</td>\n",
       "      <td>titul ultim histor autor proxim nobel luis mar...</td>\n",
       "      <td>500</td>\n",
       "    </tr>\n",
       "    <tr>\n",
       "      <th>4085</th>\n",
       "      <td>Título\\nA última história\\n\\nAutora (próximo N...</td>\n",
       "      <td>Luisa Marques Silva</td>\n",
       "      <td>titul ultim histor autor proxim nobel luis mar...</td>\n",
       "      <td>[titul, ultim, histor, autor, proxim, nobel, l...</td>\n",
       "      <td>62</td>\n",
       "      <td>[com, barrig, soou, rug, tao, alto, assust, ga...</td>\n",
       "      <td>com barrig soou rug tao alto assust gat malaqu...</td>\n",
       "      <td>500</td>\n",
       "    </tr>\n",
       "    <tr>\n",
       "      <th>4086</th>\n",
       "      <td>Título\\nA última história\\n\\nAutora (próximo N...</td>\n",
       "      <td>Luisa Marques Silva</td>\n",
       "      <td>titul ultim histor autor proxim nobel luis mar...</td>\n",
       "      <td>[titul, ultim, histor, autor, proxim, nobel, l...</td>\n",
       "      <td>62</td>\n",
       "      <td>[bem, vind, plac, perfeit, sifil, muit, put, t...</td>\n",
       "      <td>bem vind plac perfeit sifil muit put tailand o...</td>\n",
       "      <td>500</td>\n",
       "    </tr>\n",
       "    <tr>\n",
       "      <th>4087</th>\n",
       "      <td>Título\\nA última história\\n\\nAutora (próximo N...</td>\n",
       "      <td>Luisa Marques Silva</td>\n",
       "      <td>titul ultim histor autor proxim nobel luis mar...</td>\n",
       "      <td>[titul, ultim, histor, autor, proxim, nobel, l...</td>\n",
       "      <td>62</td>\n",
       "      <td>[fabiol, serv, ingenu, contraband, patins, lin...</td>\n",
       "      <td>fabiol serv ingenu contraband patins linh espa...</td>\n",
       "      <td>500</td>\n",
       "    </tr>\n",
       "    <tr>\n",
       "      <th>4088</th>\n",
       "      <td>Título\\nA última história\\n\\nAutora (próximo N...</td>\n",
       "      <td>Luisa Marques Silva</td>\n",
       "      <td>titul ultim histor autor proxim nobel luis mar...</td>\n",
       "      <td>[titul, ultim, histor, autor, proxim, nobel, l...</td>\n",
       "      <td>62</td>\n",
       "      <td>[alem, diss, catol, pratic, prep, fech, port, ...</td>\n",
       "      <td>alem diss catol pratic prep fech port esper ac...</td>\n",
       "      <td>500</td>\n",
       "    </tr>\n",
       "    <tr>\n",
       "      <th>4089</th>\n",
       "      <td>Título\\nA última história\\n\\nAutora (próximo N...</td>\n",
       "      <td>Luisa Marques Silva</td>\n",
       "      <td>titul ultim histor autor proxim nobel luis mar...</td>\n",
       "      <td>[titul, ultim, histor, autor, proxim, nobel, l...</td>\n",
       "      <td>62</td>\n",
       "      <td>[porteir, mulh, senhor, mar, carm, desaparec, ...</td>\n",
       "      <td>porteir mulh senhor mar carm desaparec facil s...</td>\n",
       "      <td>500</td>\n",
       "    </tr>\n",
       "    <tr>\n",
       "      <th>4090</th>\n",
       "      <td>Título\\nA última história\\n\\nAutora (próximo N...</td>\n",
       "      <td>Luisa Marques Silva</td>\n",
       "      <td>titul ultim histor autor proxim nobel luis mar...</td>\n",
       "      <td>[titul, ultim, histor, autor, proxim, nobel, l...</td>\n",
       "      <td>62</td>\n",
       "      <td>[bol, noz, pisc, olho, diss, sotaqu, brasileir...</td>\n",
       "      <td>bol noz pisc olho diss sotaqu brasileir relax ...</td>\n",
       "      <td>500</td>\n",
       "    </tr>\n",
       "    <tr>\n",
       "      <th>4091</th>\n",
       "      <td>Título\\nA última história\\n\\nAutora (próximo N...</td>\n",
       "      <td>Luisa Marques Silva</td>\n",
       "      <td>titul ultim histor autor proxim nobel luis mar...</td>\n",
       "      <td>[titul, ultim, histor, autor, proxim, nobel, l...</td>\n",
       "      <td>62</td>\n",
       "      <td>[desesper, quer, livr, imediat, tao, atroz, si...</td>\n",
       "      <td>desesper quer livr imediat tao atroz situaca l...</td>\n",
       "      <td>260</td>\n",
       "    </tr>\n",
       "  </tbody>\n",
       "</table>\n",
       "<p>4092 rows × 8 columns</p>\n",
       "</div>"
      ],
      "text/plain": [
       "                                                   Text               Author  \\\n",
       "0     Title: A Scena do Odio\\n\\nAuthor: José de Alma...     Almada Negreiros   \n",
       "1     Title: A Scena do Odio\\n\\nAuthor: José de Alma...     Almada Negreiros   \n",
       "2     Title: A Scena do Odio\\n\\nAuthor: José de Alma...     Almada Negreiros   \n",
       "3     Title: O Jardim da Pierrette\\n\\nAuthor: José d...     Almada Negreiros   \n",
       "4     \\n\\nTitle: A Invenção do Dia Claro\\n\\nAuthor: ...     Almada Negreiros   \n",
       "5     \\n\\nTitle: A Invenção do Dia Claro\\n\\nAuthor: ...     Almada Negreiros   \n",
       "6     \\n\\nTitle: A Invenção do Dia Claro\\n\\nAuthor: ...     Almada Negreiros   \n",
       "7     \\n\\nTitle: A Invenção do Dia Claro\\n\\nAuthor: ...     Almada Negreiros   \n",
       "8     \\n\\nTitle: A Invenção do Dia Claro\\n\\nAuthor: ...     Almada Negreiros   \n",
       "9     \\n\\nTitle: A Invenção do Dia Claro\\n\\nAuthor: ...     Almada Negreiros   \n",
       "10    \\n\\nTitle: A Invenção do Dia Claro\\n\\nAuthor: ...     Almada Negreiros   \n",
       "11    \\nTitle: Litoral\\n       A Amadeo de Souza Car...     Almada Negreiros   \n",
       "12    \\n\\n\\nEXPOSIÇÃO\\n\\n+amadeo\\nde souza\\ncardoso+...     Almada Negreiros   \n",
       "13    \\n\\n*JOSÉ DE ALMADA-NEGREIROS*\\n\\n\\n*K4\\n\\no q...     Almada Negreiros   \n",
       "14    \\n\\n*JOSÉ DE ALMADA-NEGREIROS*\\n\\n\\n*K4\\n\\no q...     Almada Negreiros   \n",
       "15    \\n\\n*JOSÉ DE ALMADA-NEGREIROS*\\n\\n\\n*K4\\n\\no q...     Almada Negreiros   \n",
       "16    \\n\\n*JOSÉ DE ALMADA-NEGREIROS*\\n\\n\\n*K4\\n\\no q...     Almada Negreiros   \n",
       "17    \\n\\n*JOSÉ DE ALMADA-NEGREIROS*\\n\\n\\n*K4\\n\\no q...     Almada Negreiros   \n",
       "18    \\n\\n*JOSÉ DE ALMADA-NEGREIROS*\\n\\n\\n*K4\\n\\no q...     Almada Negreiros   \n",
       "19    \\n\\n*JOSÉ DE ALMADA-NEGREIROS*\\n\\n\\n*K4\\n\\no q...     Almada Negreiros   \n",
       "20    \\n\\n*JOSÉ DE ALMADA-NEGREIROS*\\n\\n\\n*K4\\n\\no q...     Almada Negreiros   \n",
       "21    \\n\\n*\"ORPHEU\"*\\n\\nREVISTA TRIMESTRAL DE LITERA...     Almada Negreiros   \n",
       "22    \\n\\n*\"ORPHEU\"*\\n\\nREVISTA TRIMESTRAL DE LITERA...     Almada Negreiros   \n",
       "23    \\n\\n*\"ORPHEU\"*\\n\\nREVISTA TRIMESTRAL DE LITERA...     Almada Negreiros   \n",
       "24    \\n\\n*\"ORPHEU\"*\\n\\nREVISTA TRIMESTRAL DE LITERA...     Almada Negreiros   \n",
       "25    \\n\\n*\"ORPHEU\"*\\n\\nREVISTA TRIMESTRAL DE LITERA...     Almada Negreiros   \n",
       "26    \\n\\n*\"ORPHEU\"*\\n\\nREVISTA TRIMESTRAL DE LITERA...     Almada Negreiros   \n",
       "27    \\n\\n*\"ORPHEU\"*\\n\\nREVISTA TRIMESTRAL DE LITERA...     Almada Negreiros   \n",
       "28    \\n\\n*\"ORPHEU\"*\\n\\nREVISTA TRIMESTRAL DE LITERA...     Almada Negreiros   \n",
       "29    \\n\\n*\"ORPHEU\"*\\n\\nREVISTA TRIMESTRAL DE LITERA...     Almada Negreiros   \n",
       "...                                                 ...                  ...   \n",
       "4062  Título\\ne-medo\\n\\nAutora (inspiradíssima)\\nLuí...  Luisa Marques Silva   \n",
       "4063  Título\\ne-medo\\n\\nAutora (inspiradíssima)\\nLuí...  Luisa Marques Silva   \n",
       "4064  Título\\ne-medo\\n\\nAutora (inspiradíssima)\\nLuí...  Luisa Marques Silva   \n",
       "4065  Título\\ne-medo\\n\\nAutora (inspiradíssima)\\nLuí...  Luisa Marques Silva   \n",
       "4066  Título\\ne-medo\\n\\nAutora (inspiradíssima)\\nLuí...  Luisa Marques Silva   \n",
       "4067  Título\\ne-medo\\n\\nAutora (inspiradíssima)\\nLuí...  Luisa Marques Silva   \n",
       "4068  Título\\ne-medo\\n\\nAutora (inspiradíssima)\\nLuí...  Luisa Marques Silva   \n",
       "4069  Título\\ne-medo\\n\\nAutora (inspiradíssima)\\nLuí...  Luisa Marques Silva   \n",
       "4070  Título\\ne-medo\\n\\nAutora (inspiradíssima)\\nLuí...  Luisa Marques Silva   \n",
       "4071  Título\\ne-medo\\n\\nAutora (inspiradíssima)\\nLuí...  Luisa Marques Silva   \n",
       "4072  LISBOA 2050\\nLisboa, ano de 2050. Um Agosto tã...  Luisa Marques Silva   \n",
       "4073  LISBOA 2050\\nLisboa, ano de 2050. Um Agosto tã...  Luisa Marques Silva   \n",
       "4074  LISBOA 2050\\nLisboa, ano de 2050. Um Agosto tã...  Luisa Marques Silva   \n",
       "4075  LISBOA 2050\\nLisboa, ano de 2050. Um Agosto tã...  Luisa Marques Silva   \n",
       "4076  Título\\nUm passeio pelo inferno\\n\\nAutora\\nLuí...  Luisa Marques Silva   \n",
       "4077  Título\\nUm passeio pelo inferno\\n\\nAutora\\nLuí...  Luisa Marques Silva   \n",
       "4078  Título\\nRapsódia sem dó (maior)\\n\\nAutora\\nLuí...  Luisa Marques Silva   \n",
       "4079  Título\\nRapsódia sem dó (maior)\\n\\nAutora\\nLuí...  Luisa Marques Silva   \n",
       "4080  Título\\nRapsódia sem dó (maior)\\n\\nAutora\\nLuí...  Luisa Marques Silva   \n",
       "4081  Título\\nRapsódia sem dó (maior)\\n\\nAutora\\nLuí...  Luisa Marques Silva   \n",
       "4082  Título\\nRapsódia sem dó (maior)\\n\\nAutora\\nLuí...  Luisa Marques Silva   \n",
       "4083  Título\\nRapsódia sem dó (maior)\\n\\nAutora\\nLuí...  Luisa Marques Silva   \n",
       "4084  Título\\nA última história\\n\\nAutora (próximo N...  Luisa Marques Silva   \n",
       "4085  Título\\nA última história\\n\\nAutora (próximo N...  Luisa Marques Silva   \n",
       "4086  Título\\nA última história\\n\\nAutora (próximo N...  Luisa Marques Silva   \n",
       "4087  Título\\nA última história\\n\\nAutora (próximo N...  Luisa Marques Silva   \n",
       "4088  Título\\nA última história\\n\\nAutora (próximo N...  Luisa Marques Silva   \n",
       "4089  Título\\nA última história\\n\\nAutora (próximo N...  Luisa Marques Silva   \n",
       "4090  Título\\nA última história\\n\\nAutora (próximo N...  Luisa Marques Silva   \n",
       "4091  Título\\nA última história\\n\\nAutora (próximo N...  Luisa Marques Silva   \n",
       "\n",
       "                                             Clean Text  \\\n",
       "0     titl scen odi author jos almad negreir releas ...   \n",
       "1     titl scen odi author jos almad negreir releas ...   \n",
       "2     titl scen odi author jos almad negreir releas ...   \n",
       "3     titl jardim pierrett author jos almad negreir ...   \n",
       "4     titl invenca dia clar author jos almad negreir...   \n",
       "5     titl invenca dia clar author jos almad negreir...   \n",
       "6     titl invenca dia clar author jos almad negreir...   \n",
       "7     titl invenca dia clar author jos almad negreir...   \n",
       "8     titl invenca dia clar author jos almad negreir...   \n",
       "9     titl invenca dia clar author jos almad negreir...   \n",
       "10    titl invenca dia clar author jos almad negreir...   \n",
       "11    titl litoral amad souz cardoz author jos almad...   \n",
       "12    exposica amad souz cardos lig naval lisbo port...   \n",
       "13    jos almad negreir k quadr azul acab aparec poe...   \n",
       "14    jos almad negreir k quadr azul acab aparec poe...   \n",
       "15    jos almad negreir k quadr azul acab aparec poe...   \n",
       "16    jos almad negreir k quadr azul acab aparec poe...   \n",
       "17    jos almad negreir k quadr azul acab aparec poe...   \n",
       "18    jos almad negreir k quadr azul acab aparec poe...   \n",
       "19    jos almad negreir k quadr azul acab aparec poe...   \n",
       "20    jos almad negreir k quadr azul acab aparec poe...   \n",
       "21    orpheu revist trimestral literatur portugal br...   \n",
       "22    orpheu revist trimestral literatur portugal br...   \n",
       "23    orpheu revist trimestral literatur portugal br...   \n",
       "24    orpheu revist trimestral literatur portugal br...   \n",
       "25    orpheu revist trimestral literatur portugal br...   \n",
       "26    orpheu revist trimestral literatur portugal br...   \n",
       "27    orpheu revist trimestral literatur portugal br...   \n",
       "28    orpheu revist trimestral literatur portugal br...   \n",
       "29    orpheu revist trimestral literatur portugal br...   \n",
       "...                                                 ...   \n",
       "4062  titul med autor inspiradissim luis marqu silv ...   \n",
       "4063  titul med autor inspiradissim luis marqu silv ...   \n",
       "4064  titul med autor inspiradissim luis marqu silv ...   \n",
       "4065  titul med autor inspiradissim luis marqu silv ...   \n",
       "4066  titul med autor inspiradissim luis marqu silv ...   \n",
       "4067  titul med autor inspiradissim luis marqu silv ...   \n",
       "4068  titul med autor inspiradissim luis marqu silv ...   \n",
       "4069  titul med autor inspiradissim luis marqu silv ...   \n",
       "4070  titul med autor inspiradissim luis marqu silv ...   \n",
       "4071  titul med autor inspiradissim luis marqu silv ...   \n",
       "4072  lisbo lisbo ano agost tao gel ha vint anos atr...   \n",
       "4073  lisbo lisbo ano agost tao gel ha vint anos atr...   \n",
       "4074  lisbo lisbo ano agost tao gel ha vint anos atr...   \n",
       "4075  lisbo lisbo ano agost tao gel ha vint anos atr...   \n",
       "4076  titul passei infern autor luis marqu silv tod ...   \n",
       "4077  titul passei infern autor luis marqu silv tod ...   \n",
       "4078  titul rapsod maior autor luis marqu silv tod d...   \n",
       "4079  titul rapsod maior autor luis marqu silv tod d...   \n",
       "4080  titul rapsod maior autor luis marqu silv tod d...   \n",
       "4081  titul rapsod maior autor luis marqu silv tod d...   \n",
       "4082  titul rapsod maior autor luis marqu silv tod d...   \n",
       "4083  titul rapsod maior autor luis marqu silv tod d...   \n",
       "4084  titul ultim histor autor proxim nobel luis mar...   \n",
       "4085  titul ultim histor autor proxim nobel luis mar...   \n",
       "4086  titul ultim histor autor proxim nobel luis mar...   \n",
       "4087  titul ultim histor autor proxim nobel luis mar...   \n",
       "4088  titul ultim histor autor proxim nobel luis mar...   \n",
       "4089  titul ultim histor autor proxim nobel luis mar...   \n",
       "4090  titul ultim histor autor proxim nobel luis mar...   \n",
       "4091  titul ultim histor autor proxim nobel luis mar...   \n",
       "\n",
       "                                              Word List OG Index  \\\n",
       "0     [titl, scen, odi, author, jos, almad, negreir,...        0   \n",
       "1     [titl, scen, odi, author, jos, almad, negreir,...        0   \n",
       "2     [titl, scen, odi, author, jos, almad, negreir,...        0   \n",
       "3     [titl, jardim, pierrett, author, jos, almad, n...        1   \n",
       "4     [titl, invenca, dia, clar, author, jos, almad,...        2   \n",
       "5     [titl, invenca, dia, clar, author, jos, almad,...        2   \n",
       "6     [titl, invenca, dia, clar, author, jos, almad,...        2   \n",
       "7     [titl, invenca, dia, clar, author, jos, almad,...        2   \n",
       "8     [titl, invenca, dia, clar, author, jos, almad,...        2   \n",
       "9     [titl, invenca, dia, clar, author, jos, almad,...        2   \n",
       "10    [titl, invenca, dia, clar, author, jos, almad,...        2   \n",
       "11    [titl, litoral, amad, souz, cardoz, author, jo...        3   \n",
       "12    [exposica, amad, souz, cardos, lig, naval, lis...        4   \n",
       "13    [jos, almad, negreir, k, quadr, azul, acab, ap...        5   \n",
       "14    [jos, almad, negreir, k, quadr, azul, acab, ap...        5   \n",
       "15    [jos, almad, negreir, k, quadr, azul, acab, ap...        5   \n",
       "16    [jos, almad, negreir, k, quadr, azul, acab, ap...        5   \n",
       "17    [jos, almad, negreir, k, quadr, azul, acab, ap...        5   \n",
       "18    [jos, almad, negreir, k, quadr, azul, acab, ap...        5   \n",
       "19    [jos, almad, negreir, k, quadr, azul, acab, ap...        5   \n",
       "20    [jos, almad, negreir, k, quadr, azul, acab, ap...        5   \n",
       "21    [orpheu, revist, trimestral, literatur, portug...        6   \n",
       "22    [orpheu, revist, trimestral, literatur, portug...        6   \n",
       "23    [orpheu, revist, trimestral, literatur, portug...        6   \n",
       "24    [orpheu, revist, trimestral, literatur, portug...        6   \n",
       "25    [orpheu, revist, trimestral, literatur, portug...        6   \n",
       "26    [orpheu, revist, trimestral, literatur, portug...        6   \n",
       "27    [orpheu, revist, trimestral, literatur, portug...        6   \n",
       "28    [orpheu, revist, trimestral, literatur, portug...        6   \n",
       "29    [orpheu, revist, trimestral, literatur, portug...        6   \n",
       "...                                                 ...      ...   \n",
       "4062  [titul, med, autor, inspiradissim, luis, marqu...       58   \n",
       "4063  [titul, med, autor, inspiradissim, luis, marqu...       58   \n",
       "4064  [titul, med, autor, inspiradissim, luis, marqu...       58   \n",
       "4065  [titul, med, autor, inspiradissim, luis, marqu...       58   \n",
       "4066  [titul, med, autor, inspiradissim, luis, marqu...       58   \n",
       "4067  [titul, med, autor, inspiradissim, luis, marqu...       58   \n",
       "4068  [titul, med, autor, inspiradissim, luis, marqu...       58   \n",
       "4069  [titul, med, autor, inspiradissim, luis, marqu...       58   \n",
       "4070  [titul, med, autor, inspiradissim, luis, marqu...       58   \n",
       "4071  [titul, med, autor, inspiradissim, luis, marqu...       58   \n",
       "4072  [lisbo, lisbo, ano, agost, tao, gel, ha, vint,...       59   \n",
       "4073  [lisbo, lisbo, ano, agost, tao, gel, ha, vint,...       59   \n",
       "4074  [lisbo, lisbo, ano, agost, tao, gel, ha, vint,...       59   \n",
       "4075  [lisbo, lisbo, ano, agost, tao, gel, ha, vint,...       59   \n",
       "4076  [titul, passei, infern, autor, luis, marqu, si...       60   \n",
       "4077  [titul, passei, infern, autor, luis, marqu, si...       60   \n",
       "4078  [titul, rapsod, maior, autor, luis, marqu, sil...       61   \n",
       "4079  [titul, rapsod, maior, autor, luis, marqu, sil...       61   \n",
       "4080  [titul, rapsod, maior, autor, luis, marqu, sil...       61   \n",
       "4081  [titul, rapsod, maior, autor, luis, marqu, sil...       61   \n",
       "4082  [titul, rapsod, maior, autor, luis, marqu, sil...       61   \n",
       "4083  [titul, rapsod, maior, autor, luis, marqu, sil...       61   \n",
       "4084  [titul, ultim, histor, autor, proxim, nobel, l...       62   \n",
       "4085  [titul, ultim, histor, autor, proxim, nobel, l...       62   \n",
       "4086  [titul, ultim, histor, autor, proxim, nobel, l...       62   \n",
       "4087  [titul, ultim, histor, autor, proxim, nobel, l...       62   \n",
       "4088  [titul, ultim, histor, autor, proxim, nobel, l...       62   \n",
       "4089  [titul, ultim, histor, autor, proxim, nobel, l...       62   \n",
       "4090  [titul, ultim, histor, autor, proxim, nobel, l...       62   \n",
       "4091  [titul, ultim, histor, autor, proxim, nobel, l...       62   \n",
       "\n",
       "                                          500 Word List  \\\n",
       "0     [titl, scen, odi, author, jos, almad, negreir,...   \n",
       "1     [cabeleir, prat, estilhac, herald, vitra, desp...   \n",
       "2     [cabec, ve, so, olhos, vir, cheir, cheir, terr...   \n",
       "3     [titl, jardim, pierrett, author, jos, almad, n...   \n",
       "4     [titl, invenca, dia, clar, author, jos, almad,...   \n",
       "5     [i, part, andaim, vesp, conferenc, improvis, s...   \n",
       "6     [palavr, tod, gost, coll, algum, d, pacienc, p...   \n",
       "7     [ouv, cruz, encruzilh, cad, parec, reconhec, a...   \n",
       "8     [exist, nao, tao, devag, quadr, azul, par, dia...   \n",
       "9     [quer, advinh, taes, palavr, outr, vez, anjo, ...   \n",
       "10    [papel, chei, linh, umas, n, direcca, outr, n,...   \n",
       "11    [titl, litoral, amad, souz, cardoz, author, jo...   \n",
       "12    [exposica, amad, souz, cardos, lig, naval, lis...   \n",
       "13    [jos, almad, negreir, k, quadr, azul, acab, ap...   \n",
       "14    [feit, hom, aind, infam, deus, ter, nasc, port...   \n",
       "15    [nenhum, fac, quadr, azul, reproduz, nit, golp...   \n",
       "16    [illumin, perpendicular, direcca, energ, pra, ...   \n",
       "17    [desesper, d, agu, outr, vez, diagona, divid, ...   \n",
       "18    [tod, ate, instant, pens, mim, quer, noca, exa...   \n",
       "19    [maci, loir, habit, lingu, direca, gest, atitu...   \n",
       "20    [bast, so, pra, human, tod, so, instant, imanc...   \n",
       "21    [orpheu, revist, trimestral, literatur, portug...   \n",
       "22    [elevaca, unidad, discreca, onde, depend, harm...   \n",
       "23    [olha, la, vai, vals, vest, casac, salo, vic, ...   \n",
       "24    [castel, rub, opal, tanj, poent, harp, silenc,...   \n",
       "25    [primeir, sent, frent, janell, cost, contr, to...   \n",
       "26    [porqu, nao, corr, long, pert, ha, algum, raza...   \n",
       "27    [sempr, tard, nao, cant, paus, primeir, brev, ...   \n",
       "28    [irma, conta, sempr, nao, par, cont, rep, dias...   \n",
       "29    [pens, nao, tent, segu, nest, aventur, interio...   \n",
       "...                                                 ...   \n",
       "4062  [trabalh, temp, traz, boas, recordaco, vou, co...   \n",
       "4063  [enfim, ines, dev, estar, quas, acord, outr, v...   \n",
       "4064  [nao, rep, sent, cim, telemovel, quer, marqu, ...   \n",
       "4065  [assunt, re, calm, calm, tud, explicaca, facil...   \n",
       "4066  [terrivel, precis, escrev, decid, segu, consel...   \n",
       "4067  [desculp, sint, sozinh, tud, quant, mal, estar...   \n",
       "4068  [terror, possivel, gost, film, terror, agor, o...   \n",
       "4069  [mort, joa, naquel, acident, carr, fez, sim, c...   \n",
       "4070  [nao, quer, receb, cham, horrivel, odei, quer,...   \n",
       "4071  [cabel, apos, part, talvez, nao, normal, ritm,...   \n",
       "4072  [lisbo, lisbo, ano, agost, tao, gel, ha, vint,...   \n",
       "4073  [leu, olhos, cansac, embor, palavr, sorr, part...   \n",
       "4074  [lad, janel, ped, sum, lima, instal, jornal, a...   \n",
       "4075  [jaim, nunc, sai, lisbo, estiv, quas, apanh, n...   \n",
       "4076  [titul, passei, infern, autor, luis, marqu, si...   \n",
       "4077  [furador, carnivor, trinc, escrupul, estremec,...   \n",
       "4078  [titul, rapsod, maior, autor, luis, marqu, sil...   \n",
       "4079  [nao, primeir, vez, dep, alienigen, primeir, v...   \n",
       "4080  [marnix, mulh, agath, lev, cas, onde, estav, s...   \n",
       "4081  [curios, repugn, insect, vir, cost, prepar, pa...   \n",
       "4082  [pequen, batalh, vei, confirm, lo, trabalh, eq...   \n",
       "4083  [rest, ate, porreir, ando, tent, ensin, lo, le...   \n",
       "4084  [titul, ultim, histor, autor, proxim, nobel, l...   \n",
       "4085  [com, barrig, soou, rug, tao, alto, assust, ga...   \n",
       "4086  [bem, vind, plac, perfeit, sifil, muit, put, t...   \n",
       "4087  [fabiol, serv, ingenu, contraband, patins, lin...   \n",
       "4088  [alem, diss, catol, pratic, prep, fech, port, ...   \n",
       "4089  [porteir, mulh, senhor, mar, carm, desaparec, ...   \n",
       "4090  [bol, noz, pisc, olho, diss, sotaqu, brasileir...   \n",
       "4091  [desesper, quer, livr, imediat, tao, atroz, si...   \n",
       "\n",
       "                                         500 Clean Text  word_count_clean  \n",
       "0     titl scen odi author jos almad negreir releas ...               500  \n",
       "1     cabeleir prat estilhac herald vitra despeg len...               500  \n",
       "2     cabec ve so olhos vir cheir cheir terr com ter...               139  \n",
       "3     titl jardim pierrett author jos almad negreir ...               203  \n",
       "4     titl invenca dia clar author jos almad negreir...               500  \n",
       "5     i part andaim vesp conferenc improvis senhor s...               500  \n",
       "6     palavr tod gost coll algum d pacienc palavr sa...               500  \n",
       "7     ouv cruz encruzilh cad parec reconhec aquell m...               500  \n",
       "8     exist nao tao devag quadr azul par dia vez ir ...               500  \n",
       "9     quer advinh taes palavr outr vez anjo guard pe...               500  \n",
       "10    papel chei linh umas n direcca outr n outr uma...               439  \n",
       "11    titl litoral amad souz cardoz author jos almad...               476  \n",
       "12    exposica amad souz cardos lig naval lisbo port...               354  \n",
       "13    jos almad negreir k quadr azul acab aparec poe...               500  \n",
       "14    feit hom aind infam deus ter nasc portuguez ja...               500  \n",
       "15    nenhum fac quadr azul reproduz nit golp radium...               500  \n",
       "16    illumin perpendicular direcca energ pra la vid...               500  \n",
       "17    desesper d agu outr vez diagona divid quadr ra...               500  \n",
       "18    tod ate instant pens mim quer noca exact inten...               500  \n",
       "19    maci loir habit lingu direca gest atitud tud d...               500  \n",
       "20    bast so pra human tod so instant imancip unani...               412  \n",
       "21    orpheu revist trimestral literatur portugal br...               500  \n",
       "22    elevaca unidad discreca onde depend harmon est...               500  \n",
       "23    olha la vai vals vest casac salo vic rei sub m...               500  \n",
       "24    castel rub opal tanj poent harp silenc agon al...               500  \n",
       "25    primeir sent frent janell cost contr toch cim ...               500  \n",
       "26    porqu nao corr long pert ha algum raza qualqu ...               500  \n",
       "27    sempr tard nao cant paus primeir brev ser dia ...               500  \n",
       "28    irma conta sempr nao par cont rep dias rai dia...               500  \n",
       "29    pens nao tent segu nest aventur interior sab f...               500  \n",
       "...                                                 ...               ...  \n",
       "4062  trabalh temp traz boas recordaco vou continu p...               500  \n",
       "4063  enfim ines dev estar quas acord outr vez leono...               500  \n",
       "4064  nao rep sent cim telemovel quer marqu numer pr...               500  \n",
       "4065  assunt re calm calm tud explicaca facil diz ex...               500  \n",
       "4066  terrivel precis escrev decid segu conselh ir c...               500  \n",
       "4067  desculp sint sozinh tud quant mal estar ines p...               500  \n",
       "4068  terror possivel gost film terror agor odei ago...               500  \n",
       "4069  mort joa naquel acident carr fez sim cabec arr...               500  \n",
       "4070  nao quer receb cham horrivel odei quer sair da...               500  \n",
       "4071  cabel apos part talvez nao normal ritm carec d...               466  \n",
       "4072  lisbo lisbo ano agost tao gel ha vint anos atr...               500  \n",
       "4073  leu olhos cansac embor palavr sorr part alfred...               500  \n",
       "4074  lad janel ped sum lima instal jornal agend ele...               500  \n",
       "4075  jaim nunc sai lisbo estiv quas apanh naquel di...               468  \n",
       "4076  titul passei infern autor luis marqu silv tod ...               500  \n",
       "4077  furador carnivor trinc escrupul estremec dor t...               129  \n",
       "4078  titul rapsod maior autor luis marqu silv tod d...               500  \n",
       "4079  nao primeir vez dep alienigen primeir vez dep ...               500  \n",
       "4080  marnix mulh agath lev cas onde estav seguranc ...               500  \n",
       "4081  curios repugn insect vir cost prepar part repa...               500  \n",
       "4082  pequen batalh vei confirm lo trabalh equip cri...               500  \n",
       "4083  rest ate porreir ando tent ensin lo ler comec ...                11  \n",
       "4084  titul ultim histor autor proxim nobel luis mar...               500  \n",
       "4085  com barrig soou rug tao alto assust gat malaqu...               500  \n",
       "4086  bem vind plac perfeit sifil muit put tailand o...               500  \n",
       "4087  fabiol serv ingenu contraband patins linh espa...               500  \n",
       "4088  alem diss catol pratic prep fech port esper ac...               500  \n",
       "4089  porteir mulh senhor mar carm desaparec facil s...               500  \n",
       "4090  bol noz pisc olho diss sotaqu brasileir relax ...               500  \n",
       "4091  desesper quer livr imediat tao atroz situaca l...               260  \n",
       "\n",
       "[4092 rows x 8 columns]"
      ]
     },
     "execution_count": 19,
     "metadata": {},
     "output_type": "execute_result"
    }
   ],
   "source": [
    "word_count = corpora['500 Clean Text'].apply(lambda x: len(str(x).split(\" \")))\n",
    "corpora['word_count_clean'] = word_count\n",
    "\n",
    "corpora"
   ]
  },
  {
   "cell_type": "code",
   "execution_count": 20,
   "metadata": {},
   "outputs": [
    {
     "data": {
      "text/html": [
       "<div>\n",
       "<style scoped>\n",
       "    .dataframe tbody tr th:only-of-type {\n",
       "        vertical-align: middle;\n",
       "    }\n",
       "\n",
       "    .dataframe tbody tr th {\n",
       "        vertical-align: top;\n",
       "    }\n",
       "\n",
       "    .dataframe thead th {\n",
       "        text-align: right;\n",
       "    }\n",
       "</style>\n",
       "<table border=\"1\" class=\"dataframe\">\n",
       "  <thead>\n",
       "    <tr style=\"text-align: right;\">\n",
       "      <th></th>\n",
       "      <th>word_count_clean</th>\n",
       "    </tr>\n",
       "    <tr>\n",
       "      <th>Author</th>\n",
       "      <th></th>\n",
       "    </tr>\n",
       "  </thead>\n",
       "  <tbody>\n",
       "    <tr>\n",
       "      <th>Almada Negreiros</th>\n",
       "      <td>27887</td>\n",
       "    </tr>\n",
       "    <tr>\n",
       "      <th>Camilo Castelo Branco</th>\n",
       "      <td>454886</td>\n",
       "    </tr>\n",
       "    <tr>\n",
       "      <th>Eca de Queiros</th>\n",
       "      <td>272083</td>\n",
       "    </tr>\n",
       "    <tr>\n",
       "      <th>Jose Rodrigues dos Santos</th>\n",
       "      <td>668358</td>\n",
       "    </tr>\n",
       "    <tr>\n",
       "      <th>Jose Saramago</th>\n",
       "      <td>583250</td>\n",
       "    </tr>\n",
       "    <tr>\n",
       "      <th>Luisa Marques Silva</th>\n",
       "      <td>24114</td>\n",
       "    </tr>\n",
       "  </tbody>\n",
       "</table>\n",
       "</div>"
      ],
      "text/plain": [
       "                           word_count_clean\n",
       "Author                                     \n",
       "Almada Negreiros                      27887\n",
       "Camilo Castelo Branco                454886\n",
       "Eca de Queiros                       272083\n",
       "Jose Rodrigues dos Santos            668358\n",
       "Jose Saramago                        583250\n",
       "Luisa Marques Silva                   24114"
      ]
     },
     "execution_count": 20,
     "metadata": {},
     "output_type": "execute_result"
    }
   ],
   "source": [
    "corpora.groupby(['Author']).sum()"
   ]
  },
  {
   "cell_type": "markdown",
   "metadata": {},
   "source": [
    "## Cross validation sets"
   ]
  },
  {
   "cell_type": "markdown",
   "metadata": {},
   "source": [
    "Using a 5-fold split gives us a 80/20 split"
   ]
  },
  {
   "cell_type": "code",
   "execution_count": 21,
   "metadata": {},
   "outputs": [
    {
     "data": {
      "text/plain": [
       "[(array([   0,    1,    2, ..., 4089, 4090, 4091]),\n",
       "  array([   3,    6,   17,   19,   23,   25,   28,   29,   30,   53,   55,\n",
       "           57,   62,   64,   70,   73,   75,   77,   80,   84,   89,   90,\n",
       "           99,  103,  106,  108,  112,  123,  126,  127,  129,  134,  135,\n",
       "          137,  143,  146,  153,  169,  172,  173,  176,  178,  180,  182,\n",
       "          187,  189,  191,  192,  193,  199,  208,  209,  210,  211,  216,\n",
       "          218,  234,  237,  241,  242,  258,  267,  269,  271,  279,  280,\n",
       "          284,  290,  295,  299,  306,  309,  311,  320,  325,  326,  334,\n",
       "          341,  344,  350,  354,  367,  374,  376,  377,  379,  382,  383,\n",
       "          387,  388,  394,  400,  402,  404,  407,  416,  421,  428,  432,\n",
       "          442,  444,  450,  451,  452,  453,  454,  456,  457,  461,  465,\n",
       "          472,  474,  496,  498,  502,  503,  506,  515,  529,  531,  549,\n",
       "          559,  582,  594,  595,  607,  608,  620,  625,  626,  628,  631,\n",
       "          635,  648,  651,  652,  654,  661,  662,  663,  668,  673,  683,\n",
       "          688,  689,  695,  698,  701,  702,  703,  709,  710,  712,  716,\n",
       "          717,  724,  725,  731,  743,  780,  782,  795,  796,  798,  811,\n",
       "          830,  831,  836,  841,  848,  851,  858,  864,  865,  866,  872,\n",
       "          876,  877,  885,  894,  897,  898,  905,  918,  923,  934,  936,\n",
       "          940,  945,  953,  955,  957,  961,  962,  971,  973,  983,  987,\n",
       "          990,  993,  999, 1002, 1007, 1008, 1009, 1027, 1030, 1037, 1040,\n",
       "         1049, 1057, 1061, 1066, 1068, 1073, 1082, 1087, 1100, 1101, 1104,\n",
       "         1115, 1140, 1148, 1150, 1152, 1155, 1160, 1164, 1166, 1168, 1172,\n",
       "         1174, 1177, 1182, 1190, 1194, 1196, 1209, 1212, 1219, 1222, 1224,\n",
       "         1231, 1241, 1249, 1256, 1257, 1266, 1270, 1271, 1273, 1285, 1286,\n",
       "         1288, 1289, 1293, 1297, 1302, 1305, 1306, 1309, 1314, 1331, 1344,\n",
       "         1346, 1351, 1354, 1362, 1364, 1366, 1369, 1375, 1384, 1385, 1386,\n",
       "         1387, 1388, 1389, 1392, 1393, 1397, 1402, 1403, 1408, 1409, 1426,\n",
       "         1436, 1437, 1439, 1441, 1446, 1447, 1449, 1452, 1453, 1457, 1461,\n",
       "         1475, 1481, 1495, 1496, 1499, 1509, 1519, 1523, 1525, 1534, 1537,\n",
       "         1538, 1549, 1550, 1555, 1562, 1567, 1569, 1572, 1579, 1580, 1581,\n",
       "         1583, 1585, 1601, 1604, 1610, 1612, 1614, 1616, 1620, 1625, 1628,\n",
       "         1633, 1636, 1661, 1666, 1670, 1676, 1677, 1687, 1690, 1691, 1700,\n",
       "         1703, 1704, 1707, 1709, 1720, 1721, 1726, 1734, 1742, 1750, 1756,\n",
       "         1757, 1761, 1772, 1774, 1783, 1787, 1791, 1792, 1793, 1799, 1802,\n",
       "         1806, 1807, 1809, 1824, 1834, 1837, 1841, 1848, 1849, 1853, 1856,\n",
       "         1863, 1870, 1871, 1872, 1874, 1876, 1879, 1886, 1888, 1893, 1896,\n",
       "         1900, 1908, 1910, 1914, 1921, 1922, 1923, 1927, 1938, 1939, 1946,\n",
       "         1948, 1953, 1957, 1958, 1963, 1964, 1966, 1968, 1969, 1973, 1979,\n",
       "         1984, 1998, 2004, 2007, 2012, 2013, 2022, 2024, 2027, 2028, 2029,\n",
       "         2033, 2042, 2048, 2060, 2070, 2080, 2082, 2094, 2096, 2104, 2109,\n",
       "         2122, 2133, 2139, 2142, 2145, 2152, 2157, 2158, 2161, 2168, 2185,\n",
       "         2188, 2189, 2192, 2195, 2197, 2198, 2199, 2201, 2202, 2208, 2222,\n",
       "         2230, 2232, 2233, 2234, 2236, 2243, 2248, 2252, 2255, 2256, 2263,\n",
       "         2270, 2274, 2280, 2285, 2300, 2312, 2323, 2325, 2332, 2333, 2335,\n",
       "         2337, 2344, 2351, 2359, 2361, 2378, 2390, 2394, 2401, 2407, 2412,\n",
       "         2413, 2418, 2428, 2435, 2438, 2449, 2455, 2468, 2480, 2482, 2486,\n",
       "         2491, 2494, 2503, 2508, 2525, 2530, 2531, 2534, 2537, 2540, 2544,\n",
       "         2549, 2559, 2572, 2578, 2579, 2583, 2585, 2588, 2594, 2597, 2600,\n",
       "         2605, 2611, 2615, 2621, 2627, 2629, 2637, 2640, 2650, 2654, 2659,\n",
       "         2661, 2663, 2665, 2666, 2667, 2668, 2673, 2691, 2695, 2698, 2702,\n",
       "         2704, 2724, 2726, 2732, 2736, 2745, 2747, 2751, 2754, 2758, 2762,\n",
       "         2765, 2766, 2767, 2787, 2791, 2795, 2802, 2812, 2815, 2820, 2822,\n",
       "         2823, 2826, 2827, 2830, 2831, 2836, 2837, 2838, 2857, 2858, 2861,\n",
       "         2863, 2873, 2876, 2879, 2881, 2891, 2900, 2904, 2905, 2926, 2933,\n",
       "         2943, 2944, 2945, 2949, 2950, 2953, 2958, 2963, 2985, 2996, 2997,\n",
       "         3001, 3002, 3009, 3011, 3012, 3013, 3018, 3026, 3031, 3032, 3039,\n",
       "         3045, 3046, 3049, 3054, 3056, 3070, 3075, 3077, 3083, 3084, 3085,\n",
       "         3087, 3088, 3097, 3098, 3108, 3116, 3119, 3122, 3129, 3139, 3140,\n",
       "         3144, 3146, 3149, 3161, 3170, 3173, 3174, 3180, 3190, 3191, 3192,\n",
       "         3201, 3203, 3205, 3221, 3223, 3229, 3236, 3259, 3260, 3265, 3276,\n",
       "         3283, 3297, 3298, 3299, 3301, 3303, 3310, 3316, 3322, 3326, 3333,\n",
       "         3337, 3340, 3348, 3351, 3352, 3358, 3362, 3366, 3367, 3371, 3375,\n",
       "         3380, 3383, 3385, 3388, 3390, 3398, 3399, 3404, 3409, 3410, 3412,\n",
       "         3413, 3423, 3430, 3433, 3439, 3440, 3443, 3444, 3455, 3468, 3472,\n",
       "         3478, 3481, 3490, 3492, 3494, 3498, 3502, 3509, 3510, 3515, 3516,\n",
       "         3519, 3526, 3531, 3533, 3540, 3541, 3547, 3549, 3553, 3558, 3560,\n",
       "         3561, 3570, 3571, 3577, 3585, 3586, 3596, 3600, 3610, 3611, 3614,\n",
       "         3615, 3618, 3625, 3630, 3636, 3639, 3641, 3655, 3662, 3664, 3669,\n",
       "         3677, 3681, 3686, 3689, 3694, 3697, 3699, 3704, 3705, 3709, 3712,\n",
       "         3716, 3720, 3724, 3730, 3737, 3743, 3744, 3746, 3748, 3768, 3775,\n",
       "         3776, 3777, 3789, 3793, 3798, 3801, 3804, 3809, 3810, 3814, 3827,\n",
       "         3828, 3833, 3834, 3835, 3847, 3852, 3853, 3854, 3864, 3886, 3887,\n",
       "         3893, 3909, 3910, 3913, 3926, 3928, 3936, 3937, 3941, 3953, 3957,\n",
       "         3971, 3973, 3979, 3982, 3984, 3987, 3996, 4000, 4014, 4015, 4018,\n",
       "         4023, 4025, 4028, 4029, 4036, 4057, 4058, 4062, 4064, 4066, 4068,\n",
       "         4072, 4081, 4084, 4085, 4088])),\n",
       " (array([   0,    1,    2, ..., 4088, 4090, 4091]),\n",
       "  array([   7,    9,   16,   32,   34,   42,   45,   47,   51,   54,   58,\n",
       "           59,   60,   72,   81,   86,   91,   92,   98,  100,  101,  104,\n",
       "          105,  128,  130,  131,  138,  139,  142,  149,  160,  162,  168,\n",
       "          170,  174,  183,  184,  200,  204,  207,  214,  225,  230,  235,\n",
       "          238,  239,  240,  243,  246,  247,  255,  261,  266,  270,  276,\n",
       "          286,  291,  298,  300,  304,  308,  314,  318,  321,  324,  333,\n",
       "          335,  342,  345,  347,  349,  361,  362,  366,  370,  385,  391,\n",
       "          395,  408,  411,  425,  434,  437,  439,  441,  449,  459,  460,\n",
       "          463,  464,  471,  477,  487,  492,  493,  494,  501,  511,  516,\n",
       "          518,  520,  525,  527,  533,  536,  540,  541,  545,  551,  558,\n",
       "          564,  571,  575,  586,  588,  589,  590,  600,  604,  611,  613,\n",
       "          614,  617,  618,  621,  622,  629,  634,  638,  639,  650,  659,\n",
       "          664,  667,  672,  674,  686,  692,  693,  700,  704,  708,  718,\n",
       "          726,  727,  729,  734,  745,  746,  748,  749,  750,  761,  765,\n",
       "          770,  771,  772,  774,  776,  786,  803,  804,  815,  818,  819,\n",
       "          822,  827,  833,  839,  845,  849,  852,  856,  857,  860,  870,\n",
       "          874,  879,  882,  886,  887,  891,  901,  911,  913,  917,  922,\n",
       "          924,  925,  939,  952,  958,  965,  966,  972,  976,  978,  994,\n",
       "         1010, 1012, 1022, 1026, 1034, 1036, 1050, 1053, 1055, 1056, 1058,\n",
       "         1071, 1072, 1074, 1077, 1080, 1083, 1090, 1091, 1092, 1111, 1112,\n",
       "         1116, 1121, 1133, 1137, 1138, 1142, 1146, 1159, 1161, 1162, 1176,\n",
       "         1178, 1187, 1193, 1203, 1204, 1207, 1211, 1216, 1217, 1220, 1225,\n",
       "         1228, 1233, 1234, 1236, 1237, 1240, 1243, 1244, 1247, 1251, 1252,\n",
       "         1253, 1254, 1258, 1259, 1260, 1269, 1278, 1283, 1284, 1292, 1299,\n",
       "         1301, 1304, 1307, 1308, 1310, 1311, 1317, 1320, 1322, 1334, 1343,\n",
       "         1345, 1349, 1350, 1356, 1363, 1370, 1379, 1383, 1398, 1401, 1405,\n",
       "         1413, 1417, 1418, 1421, 1430, 1444, 1450, 1454, 1456, 1460, 1465,\n",
       "         1471, 1477, 1493, 1505, 1507, 1508, 1514, 1516, 1532, 1533, 1535,\n",
       "         1547, 1548, 1558, 1564, 1577, 1578, 1582, 1588, 1596, 1605, 1613,\n",
       "         1629, 1632, 1639, 1640, 1643, 1648, 1649, 1655, 1656, 1657, 1658,\n",
       "         1660, 1673, 1675, 1678, 1692, 1696, 1697, 1698, 1705, 1716, 1717,\n",
       "         1722, 1728, 1729, 1735, 1738, 1744, 1751, 1758, 1759, 1760, 1771,\n",
       "         1777, 1785, 1786, 1789, 1790, 1794, 1803, 1804, 1815, 1826, 1842,\n",
       "         1861, 1862, 1864, 1867, 1868, 1878, 1880, 1881, 1882, 1884, 1885,\n",
       "         1887, 1897, 1903, 1907, 1911, 1918, 1925, 1928, 1936, 1937, 1944,\n",
       "         1947, 1949, 1951, 1961, 1974, 1980, 1988, 1989, 1991, 1992, 1994,\n",
       "         1995, 1996, 2006, 2009, 2018, 2020, 2030, 2032, 2034, 2035, 2037,\n",
       "         2051, 2054, 2057, 2063, 2066, 2068, 2072, 2077, 2079, 2083, 2091,\n",
       "         2092, 2095, 2101, 2103, 2107, 2108, 2111, 2114, 2117, 2118, 2119,\n",
       "         2123, 2125, 2134, 2137, 2140, 2146, 2154, 2155, 2159, 2165, 2175,\n",
       "         2186, 2187, 2203, 2205, 2215, 2216, 2217, 2219, 2224, 2227, 2228,\n",
       "         2235, 2238, 2240, 2242, 2249, 2257, 2260, 2265, 2268, 2271, 2278,\n",
       "         2287, 2302, 2303, 2309, 2313, 2314, 2317, 2341, 2358, 2362, 2382,\n",
       "         2385, 2388, 2389, 2392, 2397, 2400, 2403, 2406, 2410, 2414, 2419,\n",
       "         2423, 2426, 2440, 2441, 2442, 2447, 2457, 2458, 2460, 2462, 2464,\n",
       "         2466, 2471, 2472, 2483, 2484, 2495, 2502, 2505, 2511, 2512, 2515,\n",
       "         2522, 2532, 2535, 2541, 2547, 2548, 2552, 2553, 2562, 2568, 2571,\n",
       "         2582, 2584, 2587, 2591, 2606, 2607, 2608, 2618, 2619, 2646, 2651,\n",
       "         2656, 2660, 2670, 2674, 2676, 2681, 2688, 2699, 2703, 2709, 2715,\n",
       "         2720, 2725, 2727, 2728, 2738, 2748, 2757, 2760, 2768, 2769, 2771,\n",
       "         2773, 2775, 2776, 2778, 2790, 2794, 2797, 2798, 2800, 2818, 2819,\n",
       "         2821, 2824, 2828, 2834, 2840, 2842, 2851, 2854, 2855, 2856, 2860,\n",
       "         2864, 2865, 2866, 2871, 2888, 2895, 2897, 2898, 2899, 2907, 2909,\n",
       "         2912, 2914, 2916, 2917, 2920, 2922, 2928, 2935, 2937, 2939, 2942,\n",
       "         2954, 2960, 2964, 2969, 2974, 2977, 2982, 2987, 2988, 2989, 2999,\n",
       "         3003, 3005, 3006, 3024, 3033, 3050, 3058, 3060, 3062, 3066, 3068,\n",
       "         3072, 3074, 3080, 3091, 3099, 3102, 3106, 3109, 3121, 3125, 3127,\n",
       "         3136, 3137, 3143, 3151, 3153, 3155, 3162, 3164, 3171, 3178, 3181,\n",
       "         3184, 3188, 3198, 3199, 3202, 3207, 3232, 3238, 3241, 3244, 3246,\n",
       "         3249, 3250, 3253, 3254, 3258, 3263, 3264, 3266, 3269, 3271, 3275,\n",
       "         3278, 3281, 3284, 3287, 3289, 3292, 3293, 3295, 3296, 3300, 3304,\n",
       "         3305, 3306, 3315, 3329, 3330, 3339, 3343, 3345, 3347, 3349, 3364,\n",
       "         3369, 3374, 3377, 3384, 3386, 3387, 3403, 3407, 3408, 3416, 3424,\n",
       "         3425, 3434, 3437, 3445, 3446, 3451, 3454, 3457, 3459, 3463, 3466,\n",
       "         3470, 3479, 3480, 3491, 3496, 3499, 3505, 3508, 3518, 3523, 3532,\n",
       "         3546, 3548, 3554, 3566, 3574, 3575, 3588, 3595, 3603, 3608, 3612,\n",
       "         3617, 3623, 3631, 3633, 3649, 3651, 3652, 3654, 3667, 3687, 3691,\n",
       "         3698, 3713, 3717, 3719, 3733, 3736, 3741, 3750, 3755, 3759, 3767,\n",
       "         3770, 3771, 3778, 3779, 3782, 3783, 3795, 3812, 3816, 3819, 3821,\n",
       "         3825, 3826, 3830, 3832, 3838, 3841, 3844, 3850, 3857, 3858, 3862,\n",
       "         3866, 3869, 3870, 3879, 3891, 3895, 3903, 3907, 3917, 3920, 3922,\n",
       "         3932, 3933, 3935, 3939, 3940, 3942, 3944, 3955, 3962, 3968, 3969,\n",
       "         3970, 3974, 3975, 3980, 3983, 3991, 3993, 3994, 3999, 4002, 4003,\n",
       "         4010, 4013, 4026, 4030, 4032, 4042, 4044, 4045, 4050, 4051, 4054,\n",
       "         4067, 4073, 4075, 4082, 4089])),\n",
       " (array([   0,    1,    2, ..., 4087, 4088, 4089]),\n",
       "  array([   8,   10,   13,   14,   18,   33,   35,   36,   38,   40,   50,\n",
       "           56,   65,   69,   74,   76,   85,   87,   94,  107,  111,  113,\n",
       "          114,  115,  118,  124,  125,  133,  136,  144,  145,  150,  166,\n",
       "          175,  179,  181,  190,  195,  198,  205,  213,  215,  228,  229,\n",
       "          232,  233,  257,  259,  264,  265,  268,  272,  273,  274,  282,\n",
       "          283,  287,  292,  294,  296,  301,  302,  303,  310,  319,  327,\n",
       "          328,  329,  331,  332,  351,  358,  359,  363,  368,  381,  389,\n",
       "          396,  397,  409,  419,  420,  424,  427,  429,  438,  445,  446,\n",
       "          458,  470,  478,  482,  483,  484,  486,  489,  491,  500,  514,\n",
       "          519,  526,  528,  534,  542,  546,  548,  550,  552,  562,  563,\n",
       "          569,  572,  579,  585,  596,  603,  605,  623,  624,  627,  637,\n",
       "          641,  642,  643,  644,  646,  649,  653,  655,  658,  665,  669,\n",
       "          675,  676,  681,  682,  684,  687,  706,  715,  719,  722,  730,\n",
       "          732,  735,  736,  737,  741,  742,  747,  755,  760,  764,  766,\n",
       "          767,  768,  775,  778,  779,  783,  784,  787,  788,  800,  801,\n",
       "          802,  805,  809,  814,  823,  826,  829,  834,  838,  840,  853,\n",
       "          854,  883,  892,  893,  902,  904,  907,  921,  926,  927,  930,\n",
       "          935,  938,  941,  946,  948,  951,  967,  974,  980,  984,  997,\n",
       "          998, 1001, 1005, 1006, 1013, 1015, 1018, 1028, 1032, 1033, 1045,\n",
       "         1047, 1052, 1060, 1062, 1063, 1065, 1069, 1075, 1078, 1081, 1084,\n",
       "         1086, 1089, 1107, 1109, 1110, 1114, 1117, 1119, 1120, 1126, 1128,\n",
       "         1130, 1136, 1139, 1143, 1158, 1167, 1171, 1180, 1181, 1185, 1195,\n",
       "         1199, 1200, 1201, 1208, 1214, 1218, 1227, 1232, 1238, 1248, 1255,\n",
       "         1263, 1264, 1267, 1272, 1274, 1282, 1290, 1294, 1295, 1298, 1313,\n",
       "         1318, 1319, 1323, 1327, 1336, 1337, 1339, 1357, 1359, 1360, 1378,\n",
       "         1381, 1400, 1404, 1406, 1411, 1416, 1422, 1423, 1428, 1429, 1431,\n",
       "         1433, 1438, 1440, 1442, 1463, 1466, 1472, 1473, 1478, 1480, 1484,\n",
       "         1490, 1491, 1494, 1498, 1501, 1503, 1510, 1522, 1531, 1536, 1539,\n",
       "         1540, 1552, 1556, 1566, 1568, 1570, 1574, 1590, 1594, 1599, 1600,\n",
       "         1608, 1611, 1626, 1631, 1635, 1637, 1641, 1644, 1645, 1647, 1651,\n",
       "         1653, 1654, 1683, 1685, 1688, 1689, 1693, 1695, 1701, 1708, 1715,\n",
       "         1723, 1732, 1741, 1743, 1747, 1753, 1765, 1767, 1770, 1773, 1776,\n",
       "         1782, 1788, 1800, 1801, 1808, 1810, 1811, 1813, 1814, 1818, 1821,\n",
       "         1822, 1823, 1832, 1833, 1836, 1839, 1843, 1844, 1847, 1850, 1852,\n",
       "         1860, 1865, 1869, 1890, 1895, 1898, 1905, 1912, 1920, 1929, 1934,\n",
       "         1935, 1959, 1960, 1965, 1975, 1997, 1999, 2000, 2008, 2015, 2016,\n",
       "         2023, 2025, 2026, 2038, 2039, 2041, 2045, 2046, 2052, 2053, 2059,\n",
       "         2061, 2065, 2071, 2085, 2088, 2093, 2100, 2105, 2110, 2112, 2120,\n",
       "         2121, 2124, 2127, 2128, 2130, 2131, 2147, 2149, 2150, 2153, 2162,\n",
       "         2163, 2169, 2171, 2177, 2178, 2180, 2191, 2193, 2207, 2210, 2212,\n",
       "         2214, 2218, 2221, 2225, 2226, 2231, 2241, 2245, 2247, 2254, 2266,\n",
       "         2269, 2276, 2277, 2290, 2299, 2308, 2311, 2320, 2324, 2329, 2330,\n",
       "         2334, 2338, 2339, 2340, 2343, 2354, 2357, 2363, 2364, 2365, 2366,\n",
       "         2368, 2370, 2371, 2375, 2395, 2402, 2405, 2417, 2420, 2430, 2433,\n",
       "         2434, 2436, 2443, 2445, 2450, 2452, 2454, 2459, 2463, 2476, 2477,\n",
       "         2481, 2488, 2489, 2493, 2498, 2504, 2514, 2519, 2521, 2523, 2528,\n",
       "         2536, 2542, 2550, 2551, 2555, 2567, 2573, 2574, 2575, 2576, 2577,\n",
       "         2589, 2598, 2599, 2601, 2603, 2604, 2610, 2613, 2617, 2620, 2626,\n",
       "         2628, 2630, 2632, 2633, 2641, 2643, 2644, 2657, 2658, 2675, 2677,\n",
       "         2678, 2679, 2684, 2690, 2693, 2694, 2696, 2707, 2713, 2716, 2719,\n",
       "         2721, 2737, 2739, 2749, 2750, 2752, 2759, 2761, 2763, 2770, 2785,\n",
       "         2789, 2801, 2816, 2817, 2829, 2833, 2835, 2839, 2843, 2845, 2852,\n",
       "         2862, 2868, 2870, 2874, 2877, 2880, 2883, 2884, 2908, 2911, 2913,\n",
       "         2925, 2927, 2929, 2931, 2934, 2946, 2955, 2975, 2978, 2981, 2983,\n",
       "         2990, 2991, 2995, 3004, 3016, 3019, 3028, 3030, 3036, 3042, 3044,\n",
       "         3048, 3051, 3061, 3067, 3090, 3094, 3096, 3101, 3105, 3107, 3112,\n",
       "         3113, 3114, 3115, 3120, 3123, 3124, 3126, 3128, 3132, 3135, 3145,\n",
       "         3147, 3148, 3169, 3175, 3176, 3182, 3195, 3204, 3206, 3208, 3212,\n",
       "         3214, 3218, 3222, 3225, 3230, 3235, 3243, 3247, 3248, 3252, 3255,\n",
       "         3261, 3272, 3273, 3274, 3277, 3280, 3285, 3290, 3294, 3302, 3309,\n",
       "         3312, 3313, 3317, 3318, 3319, 3320, 3321, 3327, 3335, 3355, 3356,\n",
       "         3357, 3359, 3361, 3370, 3372, 3373, 3376, 3378, 3382, 3389, 3394,\n",
       "         3395, 3417, 3418, 3419, 3420, 3426, 3429, 3436, 3453, 3458, 3464,\n",
       "         3465, 3474, 3482, 3483, 3488, 3500, 3503, 3507, 3512, 3517, 3520,\n",
       "         3524, 3525, 3527, 3529, 3530, 3536, 3537, 3543, 3544, 3555, 3556,\n",
       "         3562, 3578, 3579, 3594, 3601, 3602, 3606, 3609, 3616, 3619, 3621,\n",
       "         3626, 3637, 3640, 3642, 3644, 3647, 3653, 3658, 3665, 3666, 3674,\n",
       "         3693, 3696, 3711, 3715, 3723, 3727, 3729, 3731, 3735, 3738, 3751,\n",
       "         3752, 3758, 3760, 3761, 3769, 3772, 3773, 3780, 3784, 3788, 3790,\n",
       "         3791, 3796, 3799, 3808, 3811, 3815, 3817, 3820, 3822, 3824, 3836,\n",
       "         3840, 3855, 3856, 3861, 3863, 3875, 3876, 3877, 3888, 3889, 3890,\n",
       "         3894, 3899, 3902, 3904, 3911, 3921, 3924, 3925, 3927, 3930, 3943,\n",
       "         3959, 3965, 3966, 3977, 3978, 3981, 3989, 3998, 4005, 4008, 4016,\n",
       "         4017, 4020, 4021, 4024, 4027, 4039, 4040, 4041, 4043, 4047, 4078,\n",
       "         4079, 4083, 4090, 4091])),\n",
       " (array([   0,    2,    3, ..., 4089, 4090, 4091]),\n",
       "  array([   1,    4,    5,   15,   21,   22,   24,   26,   27,   41,   44,\n",
       "           52,   66,   78,   79,   83,   88,   96,   97,  102,  109,  110,\n",
       "          121,  132,  140,  141,  147,  152,  156,  163,  164,  167,  177,\n",
       "          185,  186,  194,  197,  201,  202,  203,  217,  220,  221,  227,\n",
       "          236,  245,  249,  251,  253,  254,  256,  260,  263,  275,  278,\n",
       "          288,  289,  293,  312,  322,  330,  340,  343,  346,  348,  352,\n",
       "          353,  355,  356,  357,  369,  371,  375,  378,  386,  393,  398,\n",
       "          399,  413,  414,  417,  418,  426,  431,  440,  443,  448,  468,\n",
       "          475,  476,  479,  485,  488,  495,  497,  499,  505,  509,  512,\n",
       "          513,  521,  522,  523,  538,  547,  553,  555,  556,  557,  565,\n",
       "          566,  567,  570,  573,  576,  581,  583,  587,  591,  592,  593,\n",
       "          599,  601,  610,  615,  616,  630,  632,  633,  636,  645,  656,\n",
       "          657,  671,  677,  678,  679,  691,  694,  697,  705,  711,  720,\n",
       "          728,  733,  739,  744,  751,  752,  757,  758,  763,  769,  777,\n",
       "          789,  790,  791,  799,  810,  812,  837,  843,  847,  855,  861,\n",
       "          863,  869,  871,  873,  878,  880,  881,  888,  896,  900,  903,\n",
       "          908,  909,  910,  914,  929,  931,  933,  937,  943,  944,  947,\n",
       "          950,  954,  956,  959,  960,  969,  970,  975,  977,  979,  981,\n",
       "          982,  995, 1000, 1004, 1016, 1019, 1023, 1029, 1035, 1043, 1044,\n",
       "         1046, 1048, 1054, 1064, 1067, 1070, 1079, 1085, 1088, 1093, 1097,\n",
       "         1102, 1103, 1106, 1122, 1125, 1127, 1131, 1132, 1134, 1144, 1145,\n",
       "         1147, 1154, 1156, 1157, 1163, 1184, 1186, 1188, 1189, 1191, 1198,\n",
       "         1202, 1221, 1223, 1226, 1242, 1261, 1268, 1275, 1276, 1280, 1287,\n",
       "         1296, 1300, 1315, 1321, 1324, 1325, 1328, 1338, 1340, 1341, 1342,\n",
       "         1347, 1355, 1358, 1361, 1367, 1368, 1372, 1374, 1376, 1380, 1390,\n",
       "         1391, 1395, 1396, 1399, 1410, 1414, 1415, 1419, 1420, 1425, 1432,\n",
       "         1434, 1448, 1458, 1459, 1469, 1470, 1479, 1482, 1483, 1485, 1486,\n",
       "         1492, 1500, 1512, 1513, 1515, 1517, 1520, 1521, 1526, 1527, 1528,\n",
       "         1530, 1542, 1543, 1545, 1551, 1553, 1557, 1559, 1560, 1563, 1565,\n",
       "         1571, 1573, 1575, 1587, 1589, 1591, 1592, 1593, 1597, 1603, 1615,\n",
       "         1617, 1618, 1622, 1623, 1624, 1627, 1634, 1638, 1650, 1652, 1665,\n",
       "         1667, 1668, 1669, 1679, 1681, 1694, 1699, 1702, 1706, 1710, 1712,\n",
       "         1713, 1714, 1719, 1724, 1725, 1731, 1739, 1745, 1746, 1749, 1763,\n",
       "         1764, 1766, 1769, 1779, 1780, 1781, 1784, 1798, 1812, 1816, 1825,\n",
       "         1831, 1835, 1838, 1846, 1855, 1857, 1858, 1859, 1866, 1892, 1902,\n",
       "         1909, 1916, 1919, 1926, 1930, 1932, 1942, 1943, 1952, 1955, 1970,\n",
       "         1971, 1972, 1976, 1983, 1986, 1993, 2001, 2005, 2010, 2014, 2031,\n",
       "         2040, 2043, 2044, 2049, 2055, 2056, 2064, 2069, 2073, 2075, 2078,\n",
       "         2081, 2086, 2087, 2090, 2097, 2106, 2141, 2144, 2151, 2156, 2166,\n",
       "         2167, 2172, 2174, 2179, 2181, 2184, 2190, 2196, 2206, 2211, 2213,\n",
       "         2229, 2237, 2239, 2244, 2250, 2259, 2262, 2264, 2272, 2275, 2284,\n",
       "         2286, 2288, 2289, 2293, 2294, 2304, 2305, 2321, 2322, 2327, 2328,\n",
       "         2331, 2336, 2345, 2346, 2348, 2350, 2352, 2367, 2369, 2376, 2377,\n",
       "         2379, 2380, 2381, 2383, 2384, 2386, 2415, 2422, 2424, 2425, 2427,\n",
       "         2431, 2432, 2437, 2444, 2448, 2451, 2467, 2469, 2474, 2479, 2487,\n",
       "         2490, 2492, 2496, 2497, 2499, 2500, 2501, 2507, 2510, 2513, 2538,\n",
       "         2539, 2543, 2546, 2554, 2556, 2560, 2561, 2563, 2564, 2565, 2566,\n",
       "         2570, 2581, 2590, 2592, 2595, 2596, 2614, 2622, 2623, 2624, 2625,\n",
       "         2631, 2634, 2635, 2636, 2648, 2653, 2671, 2672, 2680, 2682, 2683,\n",
       "         2686, 2692, 2697, 2705, 2708, 2710, 2711, 2712, 2714, 2718, 2730,\n",
       "         2731, 2733, 2734, 2735, 2740, 2741, 2742, 2743, 2746, 2753, 2779,\n",
       "         2783, 2784, 2786, 2792, 2806, 2813, 2814, 2841, 2846, 2848, 2849,\n",
       "         2853, 2867, 2869, 2872, 2886, 2890, 2892, 2906, 2915, 2921, 2923,\n",
       "         2932, 2936, 2938, 2940, 2941, 2947, 2948, 2951, 2952, 2957, 2961,\n",
       "         2962, 2967, 2971, 2972, 2976, 2979, 2980, 2992, 2994, 2998, 3000,\n",
       "         3007, 3008, 3010, 3021, 3025, 3034, 3057, 3059, 3063, 3065, 3069,\n",
       "         3073, 3076, 3079, 3082, 3086, 3095, 3104, 3118, 3138, 3150, 3152,\n",
       "         3154, 3158, 3159, 3160, 3165, 3166, 3167, 3168, 3179, 3185, 3189,\n",
       "         3194, 3200, 3209, 3210, 3211, 3213, 3216, 3217, 3219, 3226, 3227,\n",
       "         3228, 3234, 3237, 3239, 3240, 3242, 3251, 3257, 3262, 3268, 3270,\n",
       "         3279, 3282, 3288, 3308, 3314, 3323, 3324, 3325, 3328, 3334, 3336,\n",
       "         3338, 3342, 3344, 3350, 3353, 3363, 3368, 3381, 3391, 3393, 3400,\n",
       "         3411, 3414, 3415, 3421, 3435, 3447, 3448, 3450, 3452, 3460, 3461,\n",
       "         3469, 3471, 3473, 3484, 3485, 3493, 3495, 3513, 3514, 3522, 3535,\n",
       "         3539, 3551, 3552, 3565, 3567, 3573, 3576, 3580, 3582, 3583, 3589,\n",
       "         3590, 3592, 3593, 3597, 3604, 3607, 3622, 3628, 3632, 3646, 3648,\n",
       "         3656, 3659, 3660, 3661, 3671, 3672, 3673, 3675, 3676, 3678, 3679,\n",
       "         3680, 3682, 3688, 3690, 3695, 3700, 3701, 3703, 3706, 3707, 3710,\n",
       "         3714, 3718, 3725, 3726, 3728, 3732, 3739, 3742, 3745, 3749, 3753,\n",
       "         3754, 3757, 3762, 3766, 3781, 3792, 3800, 3802, 3803, 3806, 3807,\n",
       "         3813, 3823, 3829, 3831, 3837, 3843, 3845, 3849, 3867, 3868, 3872,\n",
       "         3874, 3878, 3882, 3883, 3884, 3885, 3897, 3901, 3908, 3912, 3919,\n",
       "         3938, 3946, 3947, 3949, 3950, 3958, 3960, 3961, 3985, 3990, 3997,\n",
       "         4006, 4012, 4031, 4035, 4038, 4046, 4048, 4049, 4055, 4056, 4060,\n",
       "         4061, 4065, 4069, 4086])),\n",
       " (array([   1,    3,    4, ..., 4089, 4090, 4091]),\n",
       "  array([   0,    2,   11,   12,   20,   31,   37,   39,   43,   46,   48,\n",
       "           49,   61,   63,   67,   68,   71,   82,   93,   95,  116,  117,\n",
       "          119,  120,  122,  148,  151,  154,  155,  157,  158,  159,  161,\n",
       "          165,  171,  188,  196,  206,  212,  219,  222,  223,  224,  226,\n",
       "          231,  244,  248,  250,  252,  262,  277,  281,  285,  297,  305,\n",
       "          307,  313,  315,  316,  317,  323,  336,  337,  338,  339,  360,\n",
       "          364,  365,  372,  373,  380,  384,  390,  392,  401,  403,  405,\n",
       "          406,  410,  412,  415,  422,  423,  430,  433,  435,  436,  447,\n",
       "          455,  462,  466,  467,  469,  473,  480,  481,  490,  504,  507,\n",
       "          508,  510,  517,  524,  530,  532,  535,  537,  539,  543,  544,\n",
       "          554,  560,  561,  568,  574,  577,  578,  580,  584,  597,  598,\n",
       "          602,  606,  609,  612,  619,  640,  647,  660,  666,  670,  680,\n",
       "          685,  690,  696,  699,  707,  713,  714,  721,  723,  738,  740,\n",
       "          753,  754,  756,  759,  762,  773,  781,  785,  792,  793,  794,\n",
       "          797,  806,  807,  808,  813,  816,  817,  820,  821,  824,  825,\n",
       "          828,  832,  835,  842,  844,  846,  850,  859,  862,  867,  868,\n",
       "          875,  884,  889,  890,  895,  899,  906,  912,  915,  916,  919,\n",
       "          920,  928,  932,  942,  949,  963,  964,  968,  985,  986,  988,\n",
       "          989,  991,  992,  996, 1003, 1011, 1014, 1017, 1020, 1021, 1024,\n",
       "         1025, 1031, 1038, 1039, 1041, 1042, 1051, 1059, 1076, 1094, 1095,\n",
       "         1096, 1098, 1099, 1105, 1108, 1113, 1118, 1123, 1124, 1129, 1135,\n",
       "         1141, 1149, 1151, 1153, 1165, 1169, 1170, 1173, 1175, 1179, 1183,\n",
       "         1192, 1197, 1205, 1206, 1210, 1213, 1215, 1229, 1230, 1235, 1239,\n",
       "         1245, 1246, 1250, 1262, 1265, 1277, 1279, 1281, 1291, 1303, 1312,\n",
       "         1316, 1326, 1329, 1330, 1332, 1333, 1335, 1348, 1352, 1353, 1365,\n",
       "         1371, 1373, 1377, 1382, 1394, 1407, 1412, 1424, 1427, 1435, 1443,\n",
       "         1445, 1451, 1455, 1462, 1464, 1467, 1468, 1474, 1476, 1487, 1488,\n",
       "         1489, 1497, 1502, 1504, 1506, 1511, 1518, 1524, 1529, 1541, 1544,\n",
       "         1546, 1554, 1561, 1576, 1584, 1586, 1595, 1598, 1602, 1606, 1607,\n",
       "         1609, 1619, 1621, 1630, 1642, 1646, 1659, 1662, 1663, 1664, 1671,\n",
       "         1672, 1674, 1680, 1682, 1684, 1686, 1711, 1718, 1727, 1730, 1733,\n",
       "         1736, 1737, 1740, 1748, 1752, 1754, 1755, 1762, 1768, 1775, 1778,\n",
       "         1795, 1796, 1797, 1805, 1817, 1819, 1820, 1827, 1828, 1829, 1830,\n",
       "         1840, 1845, 1851, 1854, 1873, 1875, 1877, 1883, 1889, 1891, 1894,\n",
       "         1899, 1901, 1904, 1906, 1913, 1915, 1917, 1924, 1931, 1933, 1940,\n",
       "         1941, 1945, 1950, 1954, 1956, 1962, 1967, 1977, 1978, 1981, 1982,\n",
       "         1985, 1987, 1990, 2002, 2003, 2011, 2017, 2019, 2021, 2036, 2047,\n",
       "         2050, 2058, 2062, 2067, 2074, 2076, 2084, 2089, 2098, 2099, 2102,\n",
       "         2113, 2115, 2116, 2126, 2129, 2132, 2135, 2136, 2138, 2143, 2148,\n",
       "         2160, 2164, 2170, 2173, 2176, 2182, 2183, 2194, 2200, 2204, 2209,\n",
       "         2220, 2223, 2246, 2251, 2253, 2258, 2261, 2267, 2273, 2279, 2281,\n",
       "         2282, 2283, 2291, 2292, 2295, 2296, 2297, 2298, 2301, 2306, 2307,\n",
       "         2310, 2315, 2316, 2318, 2319, 2326, 2342, 2347, 2349, 2353, 2355,\n",
       "         2356, 2360, 2372, 2373, 2374, 2387, 2391, 2393, 2396, 2398, 2399,\n",
       "         2404, 2408, 2409, 2411, 2416, 2421, 2429, 2439, 2446, 2453, 2456,\n",
       "         2461, 2465, 2470, 2473, 2475, 2478, 2485, 2506, 2509, 2516, 2517,\n",
       "         2518, 2520, 2524, 2526, 2527, 2529, 2533, 2545, 2557, 2558, 2569,\n",
       "         2580, 2586, 2593, 2602, 2609, 2612, 2616, 2638, 2639, 2642, 2645,\n",
       "         2647, 2649, 2652, 2655, 2662, 2664, 2669, 2685, 2687, 2689, 2700,\n",
       "         2701, 2706, 2717, 2722, 2723, 2729, 2744, 2755, 2756, 2764, 2772,\n",
       "         2774, 2777, 2780, 2781, 2782, 2788, 2793, 2796, 2799, 2803, 2804,\n",
       "         2805, 2807, 2808, 2809, 2810, 2811, 2825, 2832, 2844, 2847, 2850,\n",
       "         2859, 2875, 2878, 2882, 2885, 2887, 2889, 2893, 2894, 2896, 2901,\n",
       "         2902, 2903, 2910, 2918, 2919, 2924, 2930, 2956, 2959, 2965, 2966,\n",
       "         2968, 2970, 2973, 2984, 2986, 2993, 3014, 3015, 3017, 3020, 3022,\n",
       "         3023, 3027, 3029, 3035, 3037, 3038, 3040, 3041, 3043, 3047, 3052,\n",
       "         3053, 3055, 3064, 3071, 3078, 3081, 3089, 3092, 3093, 3100, 3103,\n",
       "         3110, 3111, 3117, 3130, 3131, 3133, 3134, 3141, 3142, 3156, 3157,\n",
       "         3163, 3172, 3177, 3183, 3186, 3187, 3193, 3196, 3197, 3215, 3220,\n",
       "         3224, 3231, 3233, 3245, 3256, 3267, 3286, 3291, 3307, 3311, 3331,\n",
       "         3332, 3341, 3346, 3354, 3360, 3365, 3379, 3392, 3396, 3397, 3401,\n",
       "         3402, 3405, 3406, 3422, 3427, 3428, 3431, 3432, 3438, 3441, 3442,\n",
       "         3449, 3456, 3462, 3467, 3475, 3476, 3477, 3486, 3487, 3489, 3497,\n",
       "         3501, 3504, 3506, 3511, 3521, 3528, 3534, 3538, 3542, 3545, 3550,\n",
       "         3557, 3559, 3563, 3564, 3568, 3569, 3572, 3581, 3584, 3587, 3591,\n",
       "         3598, 3599, 3605, 3613, 3620, 3624, 3627, 3629, 3634, 3635, 3638,\n",
       "         3643, 3645, 3650, 3657, 3663, 3668, 3670, 3683, 3684, 3685, 3692,\n",
       "         3702, 3708, 3721, 3722, 3734, 3740, 3747, 3756, 3763, 3764, 3765,\n",
       "         3774, 3785, 3786, 3787, 3794, 3797, 3805, 3818, 3839, 3842, 3846,\n",
       "         3848, 3851, 3859, 3860, 3865, 3871, 3873, 3880, 3881, 3892, 3896,\n",
       "         3898, 3900, 3905, 3906, 3914, 3915, 3916, 3918, 3923, 3929, 3931,\n",
       "         3934, 3945, 3948, 3951, 3952, 3954, 3956, 3963, 3964, 3967, 3972,\n",
       "         3976, 3986, 3988, 3992, 3995, 4001, 4004, 4007, 4009, 4011, 4019,\n",
       "         4022, 4033, 4034, 4037, 4052, 4053, 4059, 4063, 4070, 4071, 4074,\n",
       "         4076, 4077, 4080, 4087]))]"
      ]
     },
     "execution_count": 21,
     "metadata": {},
     "output_type": "execute_result"
    }
   ],
   "source": [
    "kf = StratifiedKFold(n_splits=5,shuffle=True)\n",
    "train_test_splits = []\n",
    "\n",
    "for train_index, test_index in kf.split(corpora.drop('Author',1),corpora['Author']):\n",
    "    train_test_splits.append((train_index,test_index))\n",
    "    \n",
    "train_test_splits"
   ]
  },
  {
   "cell_type": "code",
   "execution_count": 22,
   "metadata": {},
   "outputs": [],
   "source": [
    "corpora_train_1 = corpora.iloc[train_test_splits[0][0]].reset_index().drop('index',1)\n",
    "corpora_test_1 = corpora.iloc[train_test_splits[0][1]].reset_index().drop('index',1)\n",
    "\n",
    "corpora_train_2 = corpora.iloc[train_test_splits[1][0]].reset_index().drop('index',1)\n",
    "corpora_test_2 = corpora.iloc[train_test_splits[1][1]].reset_index().drop('index',1)\n",
    "\n",
    "corpora_train_3 = corpora.iloc[train_test_splits[2][0]].reset_index().drop('index',1)\n",
    "corpora_test_3 = corpora.iloc[train_test_splits[2][1]].reset_index().drop('index',1)\n",
    "\n",
    "corpora_train_4 = corpora.iloc[train_test_splits[3][0]].reset_index().drop('index',1)\n",
    "corpora_test_4 = corpora.iloc[train_test_splits[3][1]].reset_index().drop('index',1)\n",
    "\n",
    "corpora_train_5 = corpora.iloc[train_test_splits[4][0]].reset_index().drop('index',1)\n",
    "corpora_test_5 = corpora.iloc[train_test_splits[4][1]].reset_index().drop('index',1)"
   ]
  },
  {
   "cell_type": "markdown",
   "metadata": {},
   "source": [
    "## Data exploration"
   ]
  },
  {
   "cell_type": "code",
   "execution_count": 23,
   "metadata": {},
   "outputs": [
    {
     "data": {
      "text/plain": [
       "count    4092.000000\n",
       "mean      496.231183\n",
       "std        34.982872\n",
       "min        11.000000\n",
       "25%       500.000000\n",
       "50%       500.000000\n",
       "75%       500.000000\n",
       "max       500.000000\n",
       "Name: word_count_clean, dtype: float64"
      ]
     },
     "execution_count": 23,
     "metadata": {},
     "output_type": "execute_result"
    }
   ],
   "source": [
    "corpora.word_count_clean.describe()"
   ]
  },
  {
   "cell_type": "code",
   "execution_count": 24,
   "metadata": {},
   "outputs": [],
   "source": [
    "all_words = ' '.join(corpora['500 Clean Text']).split()"
   ]
  },
  {
   "cell_type": "code",
   "execution_count": 25,
   "metadata": {},
   "outputs": [],
   "source": [
    "freq = pd.Series(all_words).value_counts()"
   ]
  },
  {
   "cell_type": "code",
   "execution_count": 26,
   "metadata": {
    "scrolled": true
   },
   "outputs": [
    {
     "data": {
      "text/plain": [
       "nao       52050\n",
       "d         12480\n",
       "tod       11201\n",
       "outr      10311\n",
       "ja         9952\n",
       "ser        9144\n",
       "diss       9066\n",
       "pod        8733\n",
       "diz        8270\n",
       "pass       7801\n",
       "cas        7682\n",
       "sab        7638\n",
       "faz        7357\n",
       "quer       6955\n",
       "senhor     6917\n",
       "la         6819\n",
       "aind       6639\n",
       "vez        5932\n",
       "ha         5797\n",
       "tom        5788\n",
       "dtype: int64"
      ]
     },
     "execution_count": 26,
     "metadata": {},
     "output_type": "execute_result"
    }
   ],
   "source": [
    "freq[:20]"
   ]
  },
  {
   "cell_type": "code",
   "execution_count": 24,
   "metadata": {},
   "outputs": [],
   "source": [
    "stopwords = set(stopwords.words(\"portuguese\"))\n",
    "stop_words = []\n",
    "for word in stopwords:\n",
    "    word = unidecode(word)\n",
    "    stop_words.append(word)"
   ]
  },
  {
   "cell_type": "code",
   "execution_count": 28,
   "metadata": {},
   "outputs": [
    {
     "data": {
      "text/plain": [
       "3"
      ]
     },
     "execution_count": 28,
     "metadata": {},
     "output_type": "execute_result"
    }
   ],
   "source": [
    "count = 0\n",
    "\n",
    "for word in freq.index[:20]:\n",
    "    if word in stop_words:\n",
    "        count += 1\n",
    "count"
   ]
  },
  {
   "cell_type": "markdown",
   "metadata": {},
   "source": [
    "Almost a fifth of the 20 most common words in the corpora are stop words."
   ]
  },
  {
   "cell_type": "code",
   "execution_count": 29,
   "metadata": {},
   "outputs": [],
   "source": [
    "def get_top_n_grams(corpus, top_k, n):\n",
    "    \"\"\"\n",
    "    Function that receives a list of documents (corpus) and extracts\n",
    "        the top k most frequent n-grams for that corpus.\n",
    "        \n",
    "    :param corpus: list of texts\n",
    "    :param top_k: int with the number of n-grams that we want to extract\n",
    "    :param n: n gram type to be considered \n",
    "             (if n=1 extracts unigrams, if n=2 extracts bigrams, ...)\n",
    "             \n",
    "    :return: Returns a sorted dataframe in which the first column \n",
    "        contains the extracted ngrams and the second column contains\n",
    "        the respective counts\n",
    "    \"\"\"\n",
    "    vec = CountVectorizer(ngram_range=(n, n), max_features=2000).fit(corpus)\n",
    "    \n",
    "    bag_of_words = vec.transform(corpus)\n",
    "    \n",
    "    sum_words = bag_of_words.sum(axis=0) \n",
    "    \n",
    "    words_freq = []\n",
    "    for word, idx in vec.vocabulary_.items():\n",
    "        words_freq.append((word, sum_words[0, idx]))\n",
    "        \n",
    "    words_freq = sorted(words_freq, key=lambda x: x[1], reverse=True)\n",
    "    top_df = pd.DataFrame(words_freq[:top_k])\n",
    "    top_df.columns = [\"Ngram\", \"Freq\"]\n",
    "    return top_df"
   ]
  },
  {
   "cell_type": "code",
   "execution_count": 30,
   "metadata": {},
   "outputs": [],
   "source": [
    "def plot_frequencies(top_df):\n",
    "    \"\"\"\n",
    "    Function that receives a dataframe from the \"get_top_n_grams\" function\n",
    "    and plots the frequencies in a bar plot.\n",
    "    \"\"\"\n",
    "    x_labels = top_df[\"Ngram\"][:30]\n",
    "    y_pos = np.arange(len(x_labels))\n",
    "    values = top_df[\"Freq\"][:30]\n",
    "    plt.bar(y_pos, values, align='center', alpha=0.5)\n",
    "    plt.xticks(y_pos, x_labels)\n",
    "    plt.ylabel('Frequencies')\n",
    "    plt.title('Words')\n",
    "    plt.xticks(rotation=90)\n",
    "    plt.show()"
   ]
  },
  {
   "cell_type": "code",
   "execution_count": 31,
   "metadata": {},
   "outputs": [
    {
     "data": {
      "image/png": "[encoded data removed]",
      "text/plain": [
       "<Figure size 432x288 with 1 Axes>"
      ]
     },
     "metadata": {
      "needs_background": "light"
     },
     "output_type": "display_data"
    },
    {
     "data": {
      "image/png": "[encoded data removed]",
      "text/plain": [
       "<Figure size 432x288 with 1 Axes>"
      ]
     },
     "metadata": {
      "needs_background": "light"
     },
     "output_type": "display_data"
    },
    {
     "data": {
      "image/png": "[encoded data removed]",
      "text/plain": [
       "<Figure size 432x288 with 1 Axes>"
      ]
     },
     "metadata": {
      "needs_background": "light"
     },
     "output_type": "display_data"
    },
    {
     "data": {
      "image/png": "[encoded data removed]",
      "text/plain": [
       "<Figure size 432x288 with 1 Axes>"
      ]
     },
     "metadata": {
      "needs_background": "light"
     },
     "output_type": "display_data"
    },
    {
     "data": {
      "image/png": "[encoded data removed]",
      "text/plain": [
       "<Figure size 432x288 with 1 Axes>"
      ]
     },
     "metadata": {
      "needs_background": "light"
     },
     "output_type": "display_data"
    }
   ],
   "source": [
    "for i in range(1,6):\n",
    "    top = get_top_n_grams(corpora[\"500 Clean Text\"], top_k=20, n=i)\n",
    "    plot_frequencies(top)"
   ]
  },
  {
   "cell_type": "markdown",
   "metadata": {},
   "source": [
    "From these graphics we can see that up to 3-grams we are catching expressions, but from 4-grams onwards we are just finding parts of sentences that are common but are not actual expressions that would be relevant. This is relevant because when we vectorize the texts to a Bag-of-Words or TF-IDf model we will want to catch the 2-grams and 3-grams but not the 4-grams."
   ]
  },
  {
   "cell_type": "markdown",
   "metadata": {},
   "source": [
    "## Convert text into vectors"
   ]
  },
  {
   "cell_type": "markdown",
   "metadata": {},
   "source": [
    "### Bag-of-words"
   ]
  },
  {
   "cell_type": "code",
   "execution_count": 25,
   "metadata": {},
   "outputs": [],
   "source": [
    "cv = CountVectorizer(\n",
    "    max_df=0.8,\n",
    "    stop_words=stop_words, \n",
    "    max_features=10000, \n",
    "    ngram_range=(1,2)\n",
    ")"
   ]
  },
  {
   "cell_type": "code",
   "execution_count": 26,
   "metadata": {},
   "outputs": [],
   "source": [
    "X_train_cv_1 = cv.fit_transform(corpora_train_1['500 Clean Text'])\n",
    "X_train_cv_2 = cv.fit_transform(corpora_train_2['500 Clean Text'])\n",
    "X_train_cv_3 = cv.fit_transform(corpora_train_3['500 Clean Text'])\n",
    "X_train_cv_4 = cv.fit_transform(corpora_train_4['500 Clean Text'])\n",
    "X_train_cv_5 = cv.fit_transform(corpora_train_5['500 Clean Text'])"
   ]
  },
  {
   "cell_type": "code",
   "execution_count": 27,
   "metadata": {},
   "outputs": [],
   "source": [
    "X_test_cv_1 = cv.fit_transform(corpora_test_1['500 Clean Text'])\n",
    "X_test_cv_2 = cv.fit_transform(corpora_test_2['500 Clean Text'])\n",
    "X_test_cv_3 = cv.fit_transform(corpora_test_3['500 Clean Text'])\n",
    "X_test_cv_4 = cv.fit_transform(corpora_test_4['500 Clean Text'])\n",
    "X_test_cv_5 = cv.fit_transform(corpora_test_5['500 Clean Text'])"
   ]
  },
  {
   "cell_type": "markdown",
   "metadata": {},
   "source": [
    "### TF-IDF"
   ]
  },
  {
   "cell_type": "code",
   "execution_count": 28,
   "metadata": {},
   "outputs": [],
   "source": [
    "tf_idf = TfidfVectorizer(\n",
    "    max_df=0.8,\n",
    "    stop_words=stop_words,\n",
    "    max_features=10000, \n",
    "    ngram_range=(1,2)\n",
    ")"
   ]
  },
  {
   "cell_type": "code",
   "execution_count": 29,
   "metadata": {},
   "outputs": [],
   "source": [
    "X_train_tf_idf_1 = tf_idf.fit_transform(corpora_train_1['500 Clean Text'])\n",
    "X_train_tf_idf_2 = tf_idf.fit_transform(corpora_train_2['500 Clean Text'])\n",
    "X_train_tf_idf_3 = tf_idf.fit_transform(corpora_train_3['500 Clean Text'])\n",
    "X_train_tf_idf_4 = tf_idf.fit_transform(corpora_train_4['500 Clean Text'])\n",
    "X_train_tf_idf_5 = tf_idf.fit_transform(corpora_train_5['500 Clean Text'])"
   ]
  },
  {
   "cell_type": "code",
   "execution_count": 30,
   "metadata": {},
   "outputs": [],
   "source": [
    "X_test_tf_idf_1 = tf_idf.fit_transform(corpora_test_1['500 Clean Text'])\n",
    "X_test_tf_idf_2 = tf_idf.fit_transform(corpora_test_2['500 Clean Text'])\n",
    "X_test_tf_idf_3 = tf_idf.fit_transform(corpora_test_3['500 Clean Text'])\n",
    "X_test_tf_idf_4 = tf_idf.fit_transform(corpora_test_4['500 Clean Text'])\n",
    "X_test_tf_idf_5 = tf_idf.fit_transform(corpora_test_5['500 Clean Text'])"
   ]
  },
  {
   "cell_type": "markdown",
   "metadata": {},
   "source": [
    "### Word2Vec"
   ]
  },
  {
   "cell_type": "code",
   "execution_count": 38,
   "metadata": {},
   "outputs": [],
   "source": [
    "X_train_w2v_1 = gensim.models.Word2Vec(corpora_train_1['500 Word List'],min_count=0,workers=4)\n",
    "X_train_w2v_2 = gensim.models.Word2Vec(corpora_train_2['500 Word List'],min_count=0,workers=4)\n",
    "X_train_w2v_3 = gensim.models.Word2Vec(corpora_train_3['500 Word List'],min_count=0,workers=4)\n",
    "X_train_w2v_4 = gensim.models.Word2Vec(corpora_train_4['500 Word List'],min_count=0,workers=4)\n",
    "X_train_w2v_5 = gensim.models.Word2Vec(corpora_train_5['500 Word List'],min_count=0,workers=4)"
   ]
  },
  {
   "cell_type": "code",
   "execution_count": 39,
   "metadata": {},
   "outputs": [],
   "source": [
    "X_test_w2v_1 = gensim.models.Word2Vec(corpora_test_1['500 Word List'],min_count=0,workers=4)\n",
    "X_test_w2v_2 = gensim.models.Word2Vec(corpora_test_2['500 Word List'],min_count=0,workers=4)\n",
    "X_test_w2v_3 = gensim.models.Word2Vec(corpora_test_3['500 Word List'],min_count=0,workers=4)\n",
    "X_test_w2v_4 = gensim.models.Word2Vec(corpora_test_4['500 Word List'],min_count=0,workers=4)\n",
    "X_test_w2v_5 = gensim.models.Word2Vec(corpora_test_5['500 Word List'],min_count=0,workers=4)"
   ]
  },
  {
   "cell_type": "markdown",
   "metadata": {},
   "source": [
    "### Class Encoding"
   ]
  },
  {
   "cell_type": "code",
   "execution_count": 31,
   "metadata": {},
   "outputs": [],
   "source": [
    "Encoder = LabelEncoder()\n",
    "\n",
    "le_1 = Encoder.fit(corpora_train_1['Author'])\n",
    "le_2 = Encoder.fit(corpora_train_2['Author'])\n",
    "le_3 = Encoder.fit(corpora_train_3['Author'])\n",
    "le_4 = Encoder.fit(corpora_train_4['Author'])\n",
    "le_5 = Encoder.fit(corpora_train_5['Author'])"
   ]
  },
  {
   "cell_type": "code",
   "execution_count": 32,
   "metadata": {},
   "outputs": [],
   "source": [
    "Y_train_1 = pd.Series(le_1.transform(corpora_train_1['Author']),index=corpora_train_1.index)\n",
    "Y_train_2 = pd.Series(le_2.transform(corpora_train_2['Author']),index=corpora_train_2.index)\n",
    "Y_train_3 = pd.Series(le_3.transform(corpora_train_3['Author']),index=corpora_train_3.index)\n",
    "Y_train_4 = pd.Series(le_4.transform(corpora_train_4['Author']),index=corpora_train_4.index)\n",
    "Y_train_5 = pd.Series(le_4.transform(corpora_train_5['Author']),index=corpora_train_5.index)"
   ]
  },
  {
   "cell_type": "code",
   "execution_count": 33,
   "metadata": {},
   "outputs": [],
   "source": [
    "Y_test_1 = pd.Series(le_1.transform(corpora_test_1['Author']),index=corpora_test_1.index)\n",
    "Y_test_2 = pd.Series(le_2.transform(corpora_test_2['Author']),index=corpora_test_2.index)\n",
    "Y_test_3 = pd.Series(le_3.transform(corpora_test_3['Author']),index=corpora_test_3.index)\n",
    "Y_test_4 = pd.Series(le_4.transform(corpora_test_4['Author']),index=corpora_test_4.index)\n",
    "Y_test_5 = pd.Series(le_5.transform(corpora_test_5['Author']),index=corpora_test_5.index)"
   ]
  },
  {
   "cell_type": "markdown",
   "metadata": {},
   "source": [
    "## Classification Models"
   ]
  },
  {
   "cell_type": "markdown",
   "metadata": {},
   "source": [
    "### k-nearest neighbors (baseline)"
   ]
  },
  {
   "cell_type": "code",
   "execution_count": 34,
   "metadata": {},
   "outputs": [],
   "source": [
    "KNN_cv_1 = KNeighborsClassifier()\n",
    "KNN_cv_2 = KNeighborsClassifier()\n",
    "KNN_cv_3 = KNeighborsClassifier()\n",
    "KNN_cv_4 = KNeighborsClassifier()\n",
    "KNN_cv_5 = KNeighborsClassifier()"
   ]
  },
  {
   "cell_type": "code",
   "execution_count": 35,
   "metadata": {},
   "outputs": [
    {
     "data": {
      "text/plain": [
       "KNeighborsClassifier(algorithm='auto', leaf_size=30, metric='minkowski',\n",
       "                     metric_params=None, n_jobs=None, n_neighbors=5, p=2,\n",
       "                     weights='uniform')"
      ]
     },
     "execution_count": 35,
     "metadata": {},
     "output_type": "execute_result"
    }
   ],
   "source": [
    "KNN_cv_1.fit(X_train_cv_1,Y_train_1)\n",
    "KNN_cv_2.fit(X_train_cv_2,Y_train_2)\n",
    "KNN_cv_3.fit(X_train_cv_3,Y_train_3)\n",
    "KNN_cv_4.fit(X_train_cv_4,Y_train_4)\n",
    "KNN_cv_5.fit(X_train_cv_5,Y_train_5)"
   ]
  },
  {
   "cell_type": "code",
   "execution_count": 36,
   "metadata": {},
   "outputs": [],
   "source": [
    "predictions_KNN_cv_1 = KNN_cv_1.predict(X_test_cv_1)\n",
    "predictions_KNN_cv_2 = KNN_cv_2.predict(X_test_cv_2)\n",
    "predictions_KNN_cv_3 = KNN_cv_3.predict(X_test_cv_3)\n",
    "predictions_KNN_cv_4 = KNN_cv_4.predict(X_test_cv_4)\n",
    "predictions_KNN_cv_5 = KNN_cv_5.predict(X_test_cv_5)"
   ]
  },
  {
   "cell_type": "code",
   "execution_count": 37,
   "metadata": {},
   "outputs": [],
   "source": [
    "accuracy_KNN_cv_1 = accuracy_score(Y_test_1,predictions_KNN_cv_1)*100\n",
    "accuracy_KNN_cv_2 = accuracy_score(Y_test_2,predictions_KNN_cv_2)*100\n",
    "accuracy_KNN_cv_3 = accuracy_score(Y_test_3,predictions_KNN_cv_3)*100\n",
    "accuracy_KNN_cv_4 = accuracy_score(Y_test_4,predictions_KNN_cv_4)*100\n",
    "accuracy_KNN_cv_5 = accuracy_score(Y_test_5,predictions_KNN_cv_5)*100"
   ]
  },
  {
   "cell_type": "code",
   "execution_count": 38,
   "metadata": {},
   "outputs": [
    {
     "data": {
      "text/plain": [
       "4.619414815013836"
      ]
     },
     "execution_count": 38,
     "metadata": {},
     "output_type": "execute_result"
    }
   ],
   "source": [
    "accuracy_KNN_cv = (accuracy_KNN_cv_1 + accuracy_KNN_cv_2 + accuracy_KNN_cv_3 + accuracy_KNN_cv_4 + accuracy_KNN_cv_5)/5\n",
    "accuracy_KNN_cv"
   ]
  },
  {
   "cell_type": "code",
   "execution_count": 39,
   "metadata": {},
   "outputs": [],
   "source": [
    "KNN_tf_idf_1 = KNeighborsClassifier()\n",
    "KNN_tf_idf_2 = KNeighborsClassifier()\n",
    "KNN_tf_idf_3 = KNeighborsClassifier()\n",
    "KNN_tf_idf_4 = KNeighborsClassifier()\n",
    "KNN_tf_idf_5 = KNeighborsClassifier()"
   ]
  },
  {
   "cell_type": "code",
   "execution_count": 40,
   "metadata": {},
   "outputs": [
    {
     "data": {
      "text/plain": [
       "KNeighborsClassifier(algorithm='auto', leaf_size=30, metric='minkowski',\n",
       "                     metric_params=None, n_jobs=None, n_neighbors=5, p=2,\n",
       "                     weights='uniform')"
      ]
     },
     "execution_count": 40,
     "metadata": {},
     "output_type": "execute_result"
    }
   ],
   "source": [
    "KNN_tf_idf_1.fit(X_train_tf_idf_1,Y_train_1)\n",
    "KNN_tf_idf_2.fit(X_train_tf_idf_2,Y_train_2)\n",
    "KNN_tf_idf_3.fit(X_train_tf_idf_3,Y_train_3)\n",
    "KNN_tf_idf_4.fit(X_train_tf_idf_4,Y_train_4)\n",
    "KNN_tf_idf_5.fit(X_train_tf_idf_5,Y_train_5)"
   ]
  },
  {
   "cell_type": "code",
   "execution_count": 41,
   "metadata": {},
   "outputs": [],
   "source": [
    "predictions_KNN_tf_idf_1 = KNN_tf_idf_1.predict(X_test_tf_idf_1)\n",
    "predictions_KNN_tf_idf_2 = KNN_tf_idf_2.predict(X_test_tf_idf_2)\n",
    "predictions_KNN_tf_idf_3 = KNN_tf_idf_3.predict(X_test_tf_idf_3)\n",
    "predictions_KNN_tf_idf_4 = KNN_tf_idf_4.predict(X_test_tf_idf_4)\n",
    "predictions_KNN_tf_idf_5 = KNN_tf_idf_5.predict(X_test_tf_idf_5)"
   ]
  },
  {
   "cell_type": "code",
   "execution_count": 42,
   "metadata": {},
   "outputs": [],
   "source": [
    "accuracy_KNN_tf_idf_1 = accuracy_score(Y_test_1,predictions_KNN_tf_idf_1)*100\n",
    "accuracy_KNN_tf_idf_2 = accuracy_score(Y_test_2,predictions_KNN_tf_idf_2)*100\n",
    "accuracy_KNN_tf_idf_3 = accuracy_score(Y_test_3,predictions_KNN_tf_idf_3)*100\n",
    "accuracy_KNN_tf_idf_4 = accuracy_score(Y_test_4,predictions_KNN_tf_idf_4)*100\n",
    "accuracy_KNN_tf_idf_5 = accuracy_score(Y_test_5,predictions_KNN_tf_idf_5)*100"
   ]
  },
  {
   "cell_type": "code",
   "execution_count": 43,
   "metadata": {},
   "outputs": [
    {
     "data": {
      "text/plain": [
       "30.695970695970697"
      ]
     },
     "execution_count": 43,
     "metadata": {},
     "output_type": "execute_result"
    }
   ],
   "source": [
    "accuracy_KNN_tf_idf = (accuracy_KNN_tf_idf_1 + accuracy_KNN_tf_idf_2 + accuracy_KNN_tf_idf_3 + accuracy_KNN_tf_idf_4 + accuracy_KNN_tf_idf_5)/5\n",
    "accuracy_KNN_tf_idf"
   ]
  },
  {
   "cell_type": "markdown",
   "metadata": {},
   "source": [
    "### Naive Bayes"
   ]
  },
  {
   "cell_type": "code",
   "execution_count": 44,
   "metadata": {},
   "outputs": [],
   "source": [
    "NB_cv_1 = MultinomialNB()\n",
    "NB_cv_2 = MultinomialNB()\n",
    "NB_cv_3 = MultinomialNB()\n",
    "NB_cv_4 = MultinomialNB()\n",
    "NB_cv_5 = MultinomialNB()"
   ]
  },
  {
   "cell_type": "code",
   "execution_count": 45,
   "metadata": {},
   "outputs": [
    {
     "data": {
      "text/plain": [
       "MultinomialNB(alpha=1.0, class_prior=None, fit_prior=True)"
      ]
     },
     "execution_count": 45,
     "metadata": {},
     "output_type": "execute_result"
    }
   ],
   "source": [
    "NB_cv_1.fit(X_train_cv_1,Y_train_1)\n",
    "NB_cv_2.fit(X_train_cv_2,Y_train_2)\n",
    "NB_cv_3.fit(X_train_cv_3,Y_train_3)\n",
    "NB_cv_4.fit(X_train_cv_4,Y_train_4)\n",
    "NB_cv_5.fit(X_train_cv_5,Y_train_5)"
   ]
  },
  {
   "cell_type": "code",
   "execution_count": 46,
   "metadata": {},
   "outputs": [],
   "source": [
    "predictions_NB_cv_1 = NB_cv_1.predict(X_test_cv_1)\n",
    "predictions_NB_cv_2 = NB_cv_2.predict(X_test_cv_2)\n",
    "predictions_NB_cv_3 = NB_cv_3.predict(X_test_cv_3)\n",
    "predictions_NB_cv_4 = NB_cv_4.predict(X_test_cv_4)\n",
    "predictions_NB_cv_5 = NB_cv_5.predict(X_test_cv_5)"
   ]
  },
  {
   "cell_type": "code",
   "execution_count": 47,
   "metadata": {},
   "outputs": [],
   "source": [
    "accuracy_NB_cv_1 = accuracy_score(Y_test_1,predictions_NB_cv_1)*100\n",
    "accuracy_NB_cv_2 = accuracy_score(Y_test_2,predictions_NB_cv_2)*100\n",
    "accuracy_NB_cv_3 = accuracy_score(Y_test_3,predictions_NB_cv_3)*100\n",
    "accuracy_NB_cv_4 = accuracy_score(Y_test_4,predictions_NB_cv_4)*100\n",
    "accuracy_NB_cv_5 = accuracy_score(Y_test_5,predictions_NB_cv_5)*100"
   ]
  },
  {
   "cell_type": "code",
   "execution_count": 48,
   "metadata": {},
   "outputs": [
    {
     "data": {
      "text/plain": [
       "1.8573846691206104"
      ]
     },
     "execution_count": 48,
     "metadata": {},
     "output_type": "execute_result"
    }
   ],
   "source": [
    "accuracy_NB_cv = (accuracy_NB_cv_1 + accuracy_NB_cv_2 + accuracy_NB_cv_3 + accuracy_NB_cv_4 + accuracy_NB_cv_5)/5\n",
    "accuracy_NB_cv"
   ]
  },
  {
   "cell_type": "code",
   "execution_count": 49,
   "metadata": {},
   "outputs": [],
   "source": [
    "NB_tf_idf_1 = MultinomialNB()\n",
    "NB_tf_idf_2 = MultinomialNB()\n",
    "NB_tf_idf_3 = MultinomialNB()\n",
    "NB_tf_idf_4 = MultinomialNB()\n",
    "NB_tf_idf_5 = MultinomialNB()"
   ]
  },
  {
   "cell_type": "code",
   "execution_count": 50,
   "metadata": {},
   "outputs": [
    {
     "data": {
      "text/plain": [
       "MultinomialNB(alpha=1.0, class_prior=None, fit_prior=True)"
      ]
     },
     "execution_count": 50,
     "metadata": {},
     "output_type": "execute_result"
    }
   ],
   "source": [
    "NB_tf_idf_1.fit(X_train_tf_idf_1,Y_train_1)\n",
    "NB_tf_idf_2.fit(X_train_tf_idf_2,Y_train_2)\n",
    "NB_tf_idf_3.fit(X_train_tf_idf_3,Y_train_3)\n",
    "NB_tf_idf_4.fit(X_train_tf_idf_4,Y_train_4)\n",
    "NB_tf_idf_5.fit(X_train_tf_idf_5,Y_train_5)"
   ]
  },
  {
   "cell_type": "code",
   "execution_count": 51,
   "metadata": {},
   "outputs": [],
   "source": [
    "predictions_NB_tf_idf_1 = NB_tf_idf_1.predict(X_test_tf_idf_1)\n",
    "predictions_NB_tf_idf_2 = NB_tf_idf_2.predict(X_test_tf_idf_2)\n",
    "predictions_NB_tf_idf_3 = NB_tf_idf_3.predict(X_test_tf_idf_3)\n",
    "predictions_NB_tf_idf_4 = NB_tf_idf_4.predict(X_test_tf_idf_4)\n",
    "predictions_NB_tf_idf_5 = NB_tf_idf_5.predict(X_test_tf_idf_5)"
   ]
  },
  {
   "cell_type": "code",
   "execution_count": 52,
   "metadata": {},
   "outputs": [],
   "source": [
    "accuracy_NB_tf_idf_1 = accuracy_score(Y_test_1,predictions_NB_tf_idf_1)*100\n",
    "accuracy_NB_tf_idf_2 = accuracy_score(Y_test_2,predictions_NB_tf_idf_2)*100\n",
    "accuracy_NB_tf_idf_3 = accuracy_score(Y_test_3,predictions_NB_tf_idf_3)*100\n",
    "accuracy_NB_tf_idf_4 = accuracy_score(Y_test_4,predictions_NB_tf_idf_4)*100\n",
    "accuracy_NB_tf_idf_5 = accuracy_score(Y_test_5,predictions_NB_tf_idf_5)*100"
   ]
  },
  {
   "cell_type": "code",
   "execution_count": 53,
   "metadata": {},
   "outputs": [
    {
     "data": {
      "text/plain": [
       "27.201548790790845"
      ]
     },
     "execution_count": 53,
     "metadata": {},
     "output_type": "execute_result"
    }
   ],
   "source": [
    "accuracy_NB_tf_idf = (accuracy_NB_tf_idf_1 + accuracy_NB_tf_idf_2 + accuracy_NB_tf_idf_3 + accuracy_NB_tf_idf_4 + accuracy_NB_tf_idf_5)/5\n",
    "accuracy_NB_tf_idf"
   ]
  },
  {
   "cell_type": "markdown",
   "metadata": {},
   "source": [
    "### SVM"
   ]
  },
  {
   "cell_type": "code",
   "execution_count": 63,
   "metadata": {},
   "outputs": [],
   "source": [
    "SVM_cv_1 = SVC()\n",
    "SVM_cv_2 = SVC()\n",
    "SVM_cv_3 = SVC()\n",
    "SVM_cv_4 = SVC()\n",
    "SVM_cv_5 = SVC()"
   ]
  },
  {
   "cell_type": "code",
   "execution_count": 64,
   "metadata": {},
   "outputs": [
    {
     "data": {
      "text/plain": [
       "SVC(C=1.0, break_ties=False, cache_size=200, class_weight=None, coef0=0.0,\n",
       "    decision_function_shape='ovr', degree=3, gamma='scale', kernel='rbf',\n",
       "    max_iter=-1, probability=False, random_state=None, shrinking=True,\n",
       "    tol=0.001, verbose=False)"
      ]
     },
     "execution_count": 64,
     "metadata": {},
     "output_type": "execute_result"
    }
   ],
   "source": [
    "SVM_cv_1.fit(X_train_cv_1,Y_train_1)\n",
    "SVM_cv_2.fit(X_train_cv_2,Y_train_2)\n",
    "SVM_cv_3.fit(X_train_cv_3,Y_train_3)\n",
    "SVM_cv_4.fit(X_train_cv_4,Y_train_4)\n",
    "SVM_cv_5.fit(X_train_cv_5,Y_train_5)"
   ]
  },
  {
   "cell_type": "code",
   "execution_count": 65,
   "metadata": {},
   "outputs": [],
   "source": [
    "predictions_SVM_cv_1 = SVM_cv_1.predict(X_test_cv_1)\n",
    "predictions_SVM_cv_2 = SVM_cv_2.predict(X_test_cv_2)\n",
    "predictions_SVM_cv_3 = SVM_cv_3.predict(X_test_cv_3)\n",
    "predictions_SVM_cv_4 = SVM_cv_4.predict(X_test_cv_4)\n",
    "predictions_SVM_cv_5 = SVM_cv_5.predict(X_test_cv_5)"
   ]
  },
  {
   "cell_type": "code",
   "execution_count": 66,
   "metadata": {},
   "outputs": [],
   "source": [
    "accuracy_SVM_cv_1 = accuracy_score(Y_test_1,predictions_SVM_cv_1)*100\n",
    "accuracy_SVM_cv_2 = accuracy_score(Y_test_2,predictions_SVM_cv_2)*100\n",
    "accuracy_SVM_cv_3 = accuracy_score(Y_test_3,predictions_SVM_cv_3)*100\n",
    "accuracy_SVM_cv_4 = accuracy_score(Y_test_4,predictions_SVM_cv_4)*100\n",
    "accuracy_SVM_cv_5 = accuracy_score(Y_test_5,predictions_SVM_cv_5)*100"
   ]
  },
  {
   "cell_type": "code",
   "execution_count": 67,
   "metadata": {},
   "outputs": [
    {
     "data": {
      "text/plain": [
       "33.0891032358025"
      ]
     },
     "execution_count": 67,
     "metadata": {},
     "output_type": "execute_result"
    }
   ],
   "source": [
    "accuracy_SVM_cv = (accuracy_SVM_cv_1 + accuracy_SVM_cv_2 + accuracy_SVM_cv_3 + accuracy_SVM_cv_4 + accuracy_SVM_cv_5)/5\n",
    "accuracy_SVM_cv"
   ]
  },
  {
   "cell_type": "code",
   "execution_count": 68,
   "metadata": {},
   "outputs": [],
   "source": [
    "SVM_tf_idf_1 = SVC()\n",
    "SVM_tf_idf_2 = SVC()\n",
    "SVM_tf_idf_3 = SVC()\n",
    "SVM_tf_idf_4 = SVC()\n",
    "SVM_tf_idf_5 = SVC()"
   ]
  },
  {
   "cell_type": "code",
   "execution_count": 69,
   "metadata": {},
   "outputs": [
    {
     "data": {
      "text/plain": [
       "SVC(C=1.0, break_ties=False, cache_size=200, class_weight=None, coef0=0.0,\n",
       "    decision_function_shape='ovr', degree=3, gamma='scale', kernel='rbf',\n",
       "    max_iter=-1, probability=False, random_state=None, shrinking=True,\n",
       "    tol=0.001, verbose=False)"
      ]
     },
     "execution_count": 69,
     "metadata": {},
     "output_type": "execute_result"
    }
   ],
   "source": [
    "SVM_tf_idf_1.fit(X_train_tf_idf_1,Y_train_1)\n",
    "SVM_tf_idf_2.fit(X_train_tf_idf_2,Y_train_2)\n",
    "SVM_tf_idf_3.fit(X_train_tf_idf_3,Y_train_3)\n",
    "SVM_tf_idf_4.fit(X_train_tf_idf_4,Y_train_4)\n",
    "SVM_tf_idf_5.fit(X_train_tf_idf_5,Y_train_5)"
   ]
  },
  {
   "cell_type": "code",
   "execution_count": 70,
   "metadata": {},
   "outputs": [],
   "source": [
    "predictions_SVM_tf_idf_1 = SVM_tf_idf_1.predict(X_test_tf_idf_1)\n",
    "predictions_SVM_tf_idf_2 = SVM_tf_idf_2.predict(X_test_tf_idf_2)\n",
    "predictions_SVM_tf_idf_3 = SVM_tf_idf_3.predict(X_test_tf_idf_3)\n",
    "predictions_SVM_tf_idf_4 = SVM_tf_idf_4.predict(X_test_tf_idf_4)\n",
    "predictions_SVM_tf_idf_5 = SVM_tf_idf_5.predict(X_test_tf_idf_5)"
   ]
  },
  {
   "cell_type": "code",
   "execution_count": 71,
   "metadata": {},
   "outputs": [],
   "source": [
    "accuracy_SVM_tf_idf_1 = accuracy_score(Y_test_1,predictions_SVM_tf_idf_1)*100\n",
    "accuracy_SVM_tf_idf_2 = accuracy_score(Y_test_2,predictions_SVM_tf_idf_2)*100\n",
    "accuracy_SVM_tf_idf_3 = accuracy_score(Y_test_3,predictions_SVM_tf_idf_3)*100\n",
    "accuracy_SVM_tf_idf_4 = accuracy_score(Y_test_4,predictions_SVM_tf_idf_4)*100\n",
    "accuracy_SVM_tf_idf_5 = accuracy_score(Y_test_5,predictions_SVM_tf_idf_5)*100"
   ]
  },
  {
   "cell_type": "code",
   "execution_count": 72,
   "metadata": {},
   "outputs": [
    {
     "data": {
      "text/plain": [
       "32.7224147762045"
      ]
     },
     "execution_count": 72,
     "metadata": {},
     "output_type": "execute_result"
    }
   ],
   "source": [
    "accuracy_SVM_tf_idf = (accuracy_SVM_tf_idf_1 + accuracy_SVM_tf_idf_2 + accuracy_SVM_tf_idf_3 + accuracy_SVM_tf_idf_4 + accuracy_SVM_tf_idf_5)/5\n",
    "accuracy_SVM_tf_idf"
   ]
  },
  {
   "cell_type": "markdown",
   "metadata": {},
   "source": [
    "### Decision Tree"
   ]
  },
  {
   "cell_type": "code",
   "execution_count": 73,
   "metadata": {},
   "outputs": [],
   "source": [
    "DT_cv_1 = DecisionTreeClassifier()\n",
    "DT_cv_2 = DecisionTreeClassifier()\n",
    "DT_cv_3 = DecisionTreeClassifier()\n",
    "DT_cv_4 = DecisionTreeClassifier()\n",
    "DT_cv_5 = DecisionTreeClassifier()"
   ]
  },
  {
   "cell_type": "code",
   "execution_count": 74,
   "metadata": {},
   "outputs": [
    {
     "data": {
      "text/plain": [
       "DecisionTreeClassifier(ccp_alpha=0.0, class_weight=None, criterion='gini',\n",
       "                       max_depth=None, max_features=None, max_leaf_nodes=None,\n",
       "                       min_impurity_decrease=0.0, min_impurity_split=None,\n",
       "                       min_samples_leaf=1, min_samples_split=2,\n",
       "                       min_weight_fraction_leaf=0.0, presort='deprecated',\n",
       "                       random_state=None, splitter='best')"
      ]
     },
     "execution_count": 74,
     "metadata": {},
     "output_type": "execute_result"
    }
   ],
   "source": [
    "DT_cv_1.fit(X_train_cv_1,Y_train_1)\n",
    "DT_cv_2.fit(X_train_cv_2,Y_train_2)\n",
    "DT_cv_3.fit(X_train_cv_3,Y_train_3)\n",
    "DT_cv_4.fit(X_train_cv_4,Y_train_4)\n",
    "DT_cv_5.fit(X_train_cv_5,Y_train_5)"
   ]
  },
  {
   "cell_type": "code",
   "execution_count": 75,
   "metadata": {},
   "outputs": [],
   "source": [
    "predictions_DT_cv_1 = DT_cv_1.predict(X_test_cv_1)\n",
    "predictions_DT_cv_2 = DT_cv_2.predict(X_test_cv_2)\n",
    "predictions_DT_cv_3 = DT_cv_3.predict(X_test_cv_3)\n",
    "predictions_DT_cv_4 = DT_cv_4.predict(X_test_cv_4)\n",
    "predictions_DT_cv_5 = DT_cv_5.predict(X_test_cv_5)"
   ]
  },
  {
   "cell_type": "code",
   "execution_count": 76,
   "metadata": {},
   "outputs": [],
   "source": [
    "accuracy_DT_cv_1 = accuracy_score(Y_test_1,predictions_DT_cv_1)*100\n",
    "accuracy_DT_cv_2 = accuracy_score(Y_test_2,predictions_DT_cv_2)*100\n",
    "accuracy_DT_cv_3 = accuracy_score(Y_test_3,predictions_DT_cv_3)*100\n",
    "accuracy_DT_cv_4 = accuracy_score(Y_test_4,predictions_DT_cv_4)*100\n",
    "accuracy_DT_cv_5 = accuracy_score(Y_test_5,predictions_DT_cv_5)*100"
   ]
  },
  {
   "cell_type": "code",
   "execution_count": 77,
   "metadata": {},
   "outputs": [
    {
     "data": {
      "text/plain": [
       "21.64787399506226"
      ]
     },
     "execution_count": 77,
     "metadata": {},
     "output_type": "execute_result"
    }
   ],
   "source": [
    "accuracy_DT_cv = (accuracy_DT_cv_1 + accuracy_DT_cv_2 + accuracy_DT_cv_3 + accuracy_DT_cv_4 + accuracy_DT_cv_5)/5\n",
    "accuracy_DT_cv"
   ]
  },
  {
   "cell_type": "code",
   "execution_count": 78,
   "metadata": {},
   "outputs": [],
   "source": [
    "DT_tf_idf_1 = DecisionTreeClassifier()\n",
    "DT_tf_idf_2 = DecisionTreeClassifier()\n",
    "DT_tf_idf_3 = DecisionTreeClassifier()\n",
    "DT_tf_idf_4 = DecisionTreeClassifier()\n",
    "DT_tf_idf_5 = DecisionTreeClassifier()"
   ]
  },
  {
   "cell_type": "code",
   "execution_count": 79,
   "metadata": {},
   "outputs": [
    {
     "data": {
      "text/plain": [
       "DecisionTreeClassifier(ccp_alpha=0.0, class_weight=None, criterion='gini',\n",
       "                       max_depth=None, max_features=None, max_leaf_nodes=None,\n",
       "                       min_impurity_decrease=0.0, min_impurity_split=None,\n",
       "                       min_samples_leaf=1, min_samples_split=2,\n",
       "                       min_weight_fraction_leaf=0.0, presort='deprecated',\n",
       "                       random_state=None, splitter='best')"
      ]
     },
     "execution_count": 79,
     "metadata": {},
     "output_type": "execute_result"
    }
   ],
   "source": [
    "DT_tf_idf_1.fit(X_train_tf_idf_1,Y_train_1)\n",
    "DT_tf_idf_2.fit(X_train_tf_idf_2,Y_train_2)\n",
    "DT_tf_idf_3.fit(X_train_tf_idf_3,Y_train_3)\n",
    "DT_tf_idf_4.fit(X_train_tf_idf_4,Y_train_4)\n",
    "DT_tf_idf_5.fit(X_train_tf_idf_5,Y_train_5)"
   ]
  },
  {
   "cell_type": "code",
   "execution_count": 80,
   "metadata": {},
   "outputs": [],
   "source": [
    "predictions_DT_tf_idf_1 = DT_tf_idf_1.predict(X_test_tf_idf_1)\n",
    "predictions_DT_tf_idf_2 = DT_tf_idf_2.predict(X_test_tf_idf_2)\n",
    "predictions_DT_tf_idf_3 = DT_tf_idf_3.predict(X_test_tf_idf_3)\n",
    "predictions_DT_tf_idf_4 = DT_tf_idf_4.predict(X_test_tf_idf_4)\n",
    "predictions_DT_tf_idf_5 = DT_tf_idf_5.predict(X_test_tf_idf_5)"
   ]
  },
  {
   "cell_type": "code",
   "execution_count": 81,
   "metadata": {},
   "outputs": [],
   "source": [
    "accuracy_DT_tf_idf_1 = accuracy_score(Y_test_1,predictions_DT_tf_idf_1)*100\n",
    "accuracy_DT_tf_idf_2 = accuracy_score(Y_test_2,predictions_DT_tf_idf_2)*100\n",
    "accuracy_DT_tf_idf_3 = accuracy_score(Y_test_3,predictions_DT_tf_idf_3)*100\n",
    "accuracy_DT_tf_idf_4 = accuracy_score(Y_test_4,predictions_DT_tf_idf_4)*100\n",
    "accuracy_DT_tf_idf_5 = accuracy_score(Y_test_5,predictions_DT_tf_idf_5)*100"
   ]
  },
  {
   "cell_type": "code",
   "execution_count": 82,
   "metadata": {},
   "outputs": [
    {
     "data": {
      "text/plain": [
       "25.90322744356974"
      ]
     },
     "execution_count": 82,
     "metadata": {},
     "output_type": "execute_result"
    }
   ],
   "source": [
    "accuracy_DT_tf_idf = (accuracy_DT_tf_idf_1 + accuracy_DT_tf_idf_2 + accuracy_DT_tf_idf_3 + accuracy_DT_tf_idf_4 + accuracy_DT_tf_idf_5)/5\n",
    "accuracy_DT_tf_idf"
   ]
  },
  {
   "cell_type": "markdown",
   "metadata": {},
   "source": [
    "### Logistic Regression"
   ]
  },
  {
   "cell_type": "code",
   "execution_count": 83,
   "metadata": {},
   "outputs": [],
   "source": [
    "LR_cv_1 = LogisticRegression()\n",
    "LR_cv_2 = LogisticRegression()\n",
    "LR_cv_3 = LogisticRegression()\n",
    "LR_cv_4 = LogisticRegression()\n",
    "LR_cv_5 = LogisticRegression()"
   ]
  },
  {
   "cell_type": "code",
   "execution_count": 84,
   "metadata": {
    "scrolled": true
   },
   "outputs": [
    {
     "name": "stderr",
     "output_type": "stream",
     "text": [
      "C:\\Users\\Mafalda\\Anaconda3\\lib\\site-packages\\sklearn\\linear_model\\_logistic.py:940: ConvergenceWarning: lbfgs failed to converge (status=1):\n",
      "STOP: TOTAL NO. of ITERATIONS REACHED LIMIT.\n",
      "\n",
      "Increase the number of iterations (max_iter) or scale the data as shown in:\n",
      "    https://scikit-learn.org/stable/modules/preprocessing.html\n",
      "Please also refer to the documentation for alternative solver options:\n",
      "    https://scikit-learn.org/stable/modules/linear_model.html#logistic-regression\n",
      "  extra_warning_msg=_LOGISTIC_SOLVER_CONVERGENCE_MSG)\n",
      "C:\\Users\\Mafalda\\Anaconda3\\lib\\site-packages\\sklearn\\linear_model\\_logistic.py:940: ConvergenceWarning: lbfgs failed to converge (status=1):\n",
      "STOP: TOTAL NO. of ITERATIONS REACHED LIMIT.\n",
      "\n",
      "Increase the number of iterations (max_iter) or scale the data as shown in:\n",
      "    https://scikit-learn.org/stable/modules/preprocessing.html\n",
      "Please also refer to the documentation for alternative solver options:\n",
      "    https://scikit-learn.org/stable/modules/linear_model.html#logistic-regression\n",
      "  extra_warning_msg=_LOGISTIC_SOLVER_CONVERGENCE_MSG)\n",
      "C:\\Users\\Mafalda\\Anaconda3\\lib\\site-packages\\sklearn\\linear_model\\_logistic.py:940: ConvergenceWarning: lbfgs failed to converge (status=1):\n",
      "STOP: TOTAL NO. of ITERATIONS REACHED LIMIT.\n",
      "\n",
      "Increase the number of iterations (max_iter) or scale the data as shown in:\n",
      "    https://scikit-learn.org/stable/modules/preprocessing.html\n",
      "Please also refer to the documentation for alternative solver options:\n",
      "    https://scikit-learn.org/stable/modules/linear_model.html#logistic-regression\n",
      "  extra_warning_msg=_LOGISTIC_SOLVER_CONVERGENCE_MSG)\n",
      "C:\\Users\\Mafalda\\Anaconda3\\lib\\site-packages\\sklearn\\linear_model\\_logistic.py:940: ConvergenceWarning: lbfgs failed to converge (status=1):\n",
      "STOP: TOTAL NO. of ITERATIONS REACHED LIMIT.\n",
      "\n",
      "Increase the number of iterations (max_iter) or scale the data as shown in:\n",
      "    https://scikit-learn.org/stable/modules/preprocessing.html\n",
      "Please also refer to the documentation for alternative solver options:\n",
      "    https://scikit-learn.org/stable/modules/linear_model.html#logistic-regression\n",
      "  extra_warning_msg=_LOGISTIC_SOLVER_CONVERGENCE_MSG)\n",
      "C:\\Users\\Mafalda\\Anaconda3\\lib\\site-packages\\sklearn\\linear_model\\_logistic.py:940: ConvergenceWarning: lbfgs failed to converge (status=1):\n",
      "STOP: TOTAL NO. of ITERATIONS REACHED LIMIT.\n",
      "\n",
      "Increase the number of iterations (max_iter) or scale the data as shown in:\n",
      "    https://scikit-learn.org/stable/modules/preprocessing.html\n",
      "Please also refer to the documentation for alternative solver options:\n",
      "    https://scikit-learn.org/stable/modules/linear_model.html#logistic-regression\n",
      "  extra_warning_msg=_LOGISTIC_SOLVER_CONVERGENCE_MSG)\n"
     ]
    },
    {
     "data": {
      "text/plain": [
       "LogisticRegression(C=1.0, class_weight=None, dual=False, fit_intercept=True,\n",
       "                   intercept_scaling=1, l1_ratio=None, max_iter=100,\n",
       "                   multi_class='auto', n_jobs=None, penalty='l2',\n",
       "                   random_state=None, solver='lbfgs', tol=0.0001, verbose=0,\n",
       "                   warm_start=False)"
      ]
     },
     "execution_count": 84,
     "metadata": {},
     "output_type": "execute_result"
    }
   ],
   "source": [
    "LR_cv_1.fit(X_train_cv_1,Y_train_1)\n",
    "LR_cv_2.fit(X_train_cv_2,Y_train_2)\n",
    "LR_cv_3.fit(X_train_cv_3,Y_train_3)\n",
    "LR_cv_4.fit(X_train_cv_4,Y_train_4)\n",
    "LR_cv_5.fit(X_train_cv_5,Y_train_5)"
   ]
  },
  {
   "cell_type": "code",
   "execution_count": 85,
   "metadata": {},
   "outputs": [],
   "source": [
    "predictions_LR_cv_1 = LR_cv_1.predict(X_test_cv_1)\n",
    "predictions_LR_cv_2 = LR_cv_2.predict(X_test_cv_2)\n",
    "predictions_LR_cv_3 = LR_cv_3.predict(X_test_cv_3)\n",
    "predictions_LR_cv_4 = LR_cv_4.predict(X_test_cv_4)\n",
    "predictions_LR_cv_5 = LR_cv_5.predict(X_test_cv_5)"
   ]
  },
  {
   "cell_type": "code",
   "execution_count": 86,
   "metadata": {},
   "outputs": [],
   "source": [
    "accuracy_LR_cv_1 = accuracy_score(Y_test_1,predictions_LR_cv_1)*100\n",
    "accuracy_LR_cv_2 = accuracy_score(Y_test_2,predictions_LR_cv_2)*100\n",
    "accuracy_LR_cv_3 = accuracy_score(Y_test_3,predictions_LR_cv_3)*100\n",
    "accuracy_LR_cv_4 = accuracy_score(Y_test_4,predictions_LR_cv_4)*100\n",
    "accuracy_LR_cv_5 = accuracy_score(Y_test_5,predictions_LR_cv_5)*100"
   ]
  },
  {
   "cell_type": "code",
   "execution_count": 87,
   "metadata": {},
   "outputs": [
    {
     "data": {
      "text/plain": [
       "22.262046565225052"
      ]
     },
     "execution_count": 87,
     "metadata": {},
     "output_type": "execute_result"
    }
   ],
   "source": [
    "accuracy_LR_cv = (accuracy_LR_cv_1 + accuracy_LR_cv_2 + accuracy_LR_cv_3 + accuracy_LR_cv_4 + accuracy_LR_cv_5)/5\n",
    "accuracy_LR_cv"
   ]
  },
  {
   "cell_type": "code",
   "execution_count": 88,
   "metadata": {},
   "outputs": [],
   "source": [
    "LR_tf_idf_1 = LogisticRegression()\n",
    "LR_tf_idf_2 = LogisticRegression()\n",
    "LR_tf_idf_3 = LogisticRegression()\n",
    "LR_tf_idf_4 = LogisticRegression()\n",
    "LR_tf_idf_5 = LogisticRegression()"
   ]
  },
  {
   "cell_type": "code",
   "execution_count": 89,
   "metadata": {},
   "outputs": [
    {
     "data": {
      "text/plain": [
       "LogisticRegression(C=1.0, class_weight=None, dual=False, fit_intercept=True,\n",
       "                   intercept_scaling=1, l1_ratio=None, max_iter=100,\n",
       "                   multi_class='auto', n_jobs=None, penalty='l2',\n",
       "                   random_state=None, solver='lbfgs', tol=0.0001, verbose=0,\n",
       "                   warm_start=False)"
      ]
     },
     "execution_count": 89,
     "metadata": {},
     "output_type": "execute_result"
    }
   ],
   "source": [
    "LR_tf_idf_1.fit(X_train_tf_idf_1,Y_train_1)\n",
    "LR_tf_idf_2.fit(X_train_tf_idf_2,Y_train_2)\n",
    "LR_tf_idf_3.fit(X_train_tf_idf_3,Y_train_3)\n",
    "LR_tf_idf_4.fit(X_train_tf_idf_4,Y_train_4)\n",
    "LR_tf_idf_5.fit(X_train_tf_idf_5,Y_train_5)"
   ]
  },
  {
   "cell_type": "code",
   "execution_count": 90,
   "metadata": {},
   "outputs": [],
   "source": [
    "predictions_LR_tf_idf_1 = LR_tf_idf_1.predict(X_test_tf_idf_1)\n",
    "predictions_LR_tf_idf_2 = LR_tf_idf_2.predict(X_test_tf_idf_2)\n",
    "predictions_LR_tf_idf_3 = LR_tf_idf_3.predict(X_test_tf_idf_3)\n",
    "predictions_LR_tf_idf_4 = LR_tf_idf_4.predict(X_test_tf_idf_4)\n",
    "predictions_LR_tf_idf_5 = LR_tf_idf_5.predict(X_test_tf_idf_5)"
   ]
  },
  {
   "cell_type": "code",
   "execution_count": 91,
   "metadata": {},
   "outputs": [],
   "source": [
    "accuracy_LR_tf_idf_1 = accuracy_score(Y_test_1,predictions_LR_tf_idf_1)*100\n",
    "accuracy_LR_tf_idf_2 = accuracy_score(Y_test_2,predictions_LR_tf_idf_2)*100\n",
    "accuracy_LR_tf_idf_3 = accuracy_score(Y_test_3,predictions_LR_tf_idf_3)*100\n",
    "accuracy_LR_tf_idf_4 = accuracy_score(Y_test_4,predictions_LR_tf_idf_4)*100\n",
    "accuracy_LR_tf_idf_5 = accuracy_score(Y_test_5,predictions_LR_tf_idf_5)*100"
   ]
  },
  {
   "cell_type": "code",
   "execution_count": 92,
   "metadata": {},
   "outputs": [
    {
     "data": {
      "text/plain": [
       "32.844664164957564"
      ]
     },
     "execution_count": 92,
     "metadata": {},
     "output_type": "execute_result"
    }
   ],
   "source": [
    "accuracy_LR_tf_idf = (accuracy_LR_tf_idf_1 + accuracy_LR_tf_idf_2 + accuracy_LR_tf_idf_3 + accuracy_LR_tf_idf_4 + accuracy_LR_tf_idf_5)/5\n",
    "accuracy_LR_tf_idf"
   ]
  },
  {
   "cell_type": "markdown",
   "metadata": {},
   "source": [
    "### Word2Vec"
   ]
  },
  {
   "cell_type": "code",
   "execution_count": 104,
   "metadata": {},
   "outputs": [],
   "source": [
    "def text_score(corpora,w2v):\n",
    "    text_scores = []\n",
    "    \n",
    "    for i in tqdm(corpora.index):\n",
    "        text = corpora['500 Word List'].iloc[i]\n",
    "        n = len(text)\n",
    "        text_vect = []\n",
    "\n",
    "        for word in text:\n",
    "            if text_vect == []:\n",
    "                text_vect = w2v[word]\n",
    "\n",
    "            else:\n",
    "                text_vect = np.add(text_vect,w2v[word])\n",
    "\n",
    "        score = list(np.asarray(text_vect) / n)\n",
    "\n",
    "        text_scores.append(score)\n",
    "    \n",
    "    return text_scores"
   ]
  },
  {
   "cell_type": "code",
   "execution_count": 106,
   "metadata": {},
   "outputs": [
    {
     "data": {
      "application/vnd.jupyter.widget-view+json": {
       "model_id": "831f126c8f84443591639d4a8191ef74",
       "version_major": 2,
       "version_minor": 0
      },
      "text/plain": [
       "HBox(children=(IntProgress(value=0, max=3273), HTML(value='')))"
      ]
     },
     "metadata": {},
     "output_type": "display_data"
    },
    {
     "name": "stderr",
     "output_type": "stream",
     "text": [
      "C:\\Users\\Mafalda\\Anaconda3\\lib\\site-packages\\ipykernel_launcher.py:11: DeprecationWarning: Call to deprecated `__getitem__` (Method will be removed in 4.0.0, use self.wv.__getitem__() instead).\n",
      "  # This is added back by InteractiveShellApp.init_path()\n",
      "C:\\Users\\Mafalda\\Anaconda3\\lib\\site-packages\\ipykernel_launcher.py:10: DeprecationWarning: elementwise comparison failed; this will raise an error in the future.\n",
      "  # Remove the CWD from sys.path while we load stuff.\n",
      "C:\\Users\\Mafalda\\Anaconda3\\lib\\site-packages\\ipykernel_launcher.py:14: DeprecationWarning: Call to deprecated `__getitem__` (Method will be removed in 4.0.0, use self.wv.__getitem__() instead).\n",
      "  \n"
     ]
    },
    {
     "name": "stdout",
     "output_type": "stream",
     "text": [
      "\n"
     ]
    },
    {
     "data": {
      "application/vnd.jupyter.widget-view+json": {
       "model_id": "cf6f282fe4c840c098371388f4c45e88",
       "version_major": 2,
       "version_minor": 0
      },
      "text/plain": [
       "HBox(children=(IntProgress(value=0, max=3273), HTML(value='')))"
      ]
     },
     "metadata": {},
     "output_type": "display_data"
    },
    {
     "name": "stdout",
     "output_type": "stream",
     "text": [
      "\n"
     ]
    },
    {
     "data": {
      "application/vnd.jupyter.widget-view+json": {
       "model_id": "0693edd850d6455dac79f9b2492d376a",
       "version_major": 2,
       "version_minor": 0
      },
      "text/plain": [
       "HBox(children=(IntProgress(value=0, max=3274), HTML(value='')))"
      ]
     },
     "metadata": {},
     "output_type": "display_data"
    },
    {
     "name": "stdout",
     "output_type": "stream",
     "text": [
      "\n"
     ]
    },
    {
     "data": {
      "application/vnd.jupyter.widget-view+json": {
       "model_id": "26ebf8e0de1049e9ac4fc66579f7d075",
       "version_major": 2,
       "version_minor": 0
      },
      "text/plain": [
       "HBox(children=(IntProgress(value=0, max=3274), HTML(value='')))"
      ]
     },
     "metadata": {},
     "output_type": "display_data"
    },
    {
     "name": "stdout",
     "output_type": "stream",
     "text": [
      "\n"
     ]
    },
    {
     "data": {
      "application/vnd.jupyter.widget-view+json": {
       "model_id": "f2295adc62234edfbe3746d791ec737e",
       "version_major": 2,
       "version_minor": 0
      },
      "text/plain": [
       "HBox(children=(IntProgress(value=0, max=3274), HTML(value='')))"
      ]
     },
     "metadata": {},
     "output_type": "display_data"
    },
    {
     "name": "stdout",
     "output_type": "stream",
     "text": [
      "\n"
     ]
    }
   ],
   "source": [
    "v_train_cv_1 = text_score(corpora_train_1,X_train_w2v_1)\n",
    "v_train_cv_2 = text_score(corpora_train_2,X_train_w2v_2)\n",
    "v_train_cv_3 = text_score(corpora_train_3,X_train_w2v_3)\n",
    "v_train_cv_4 = text_score(corpora_train_4,X_train_w2v_4)\n",
    "v_train_cv_5 = text_score(corpora_train_5,X_train_w2v_5)"
   ]
  },
  {
   "cell_type": "code",
   "execution_count": 107,
   "metadata": {
    "scrolled": true
   },
   "outputs": [
    {
     "data": {
      "application/vnd.jupyter.widget-view+json": {
       "model_id": "8e901350da664a338870efc1ec17e65a",
       "version_major": 2,
       "version_minor": 0
      },
      "text/plain": [
       "HBox(children=(IntProgress(value=0, max=819), HTML(value='')))"
      ]
     },
     "metadata": {},
     "output_type": "display_data"
    },
    {
     "name": "stderr",
     "output_type": "stream",
     "text": [
      "C:\\Users\\Mafalda\\Anaconda3\\lib\\site-packages\\ipykernel_launcher.py:11: DeprecationWarning: Call to deprecated `__getitem__` (Method will be removed in 4.0.0, use self.wv.__getitem__() instead).\n",
      "  # This is added back by InteractiveShellApp.init_path()\n",
      "C:\\Users\\Mafalda\\Anaconda3\\lib\\site-packages\\ipykernel_launcher.py:10: DeprecationWarning: elementwise comparison failed; this will raise an error in the future.\n",
      "  # Remove the CWD from sys.path while we load stuff.\n",
      "C:\\Users\\Mafalda\\Anaconda3\\lib\\site-packages\\ipykernel_launcher.py:14: DeprecationWarning: Call to deprecated `__getitem__` (Method will be removed in 4.0.0, use self.wv.__getitem__() instead).\n",
      "  \n"
     ]
    },
    {
     "name": "stdout",
     "output_type": "stream",
     "text": [
      "\n"
     ]
    },
    {
     "data": {
      "application/vnd.jupyter.widget-view+json": {
       "model_id": "3acd1a3622554857b0a68275af1a7520",
       "version_major": 2,
       "version_minor": 0
      },
      "text/plain": [
       "HBox(children=(IntProgress(value=0, max=819), HTML(value='')))"
      ]
     },
     "metadata": {},
     "output_type": "display_data"
    },
    {
     "name": "stdout",
     "output_type": "stream",
     "text": [
      "\n"
     ]
    },
    {
     "data": {
      "application/vnd.jupyter.widget-view+json": {
       "model_id": "9e36c3e2f0874b4c8db3908acb5d2195",
       "version_major": 2,
       "version_minor": 0
      },
      "text/plain": [
       "HBox(children=(IntProgress(value=0, max=818), HTML(value='')))"
      ]
     },
     "metadata": {},
     "output_type": "display_data"
    },
    {
     "name": "stdout",
     "output_type": "stream",
     "text": [
      "\n"
     ]
    },
    {
     "data": {
      "application/vnd.jupyter.widget-view+json": {
       "model_id": "3fbbd4e12fa445579c2066841a010ecf",
       "version_major": 2,
       "version_minor": 0
      },
      "text/plain": [
       "HBox(children=(IntProgress(value=0, max=818), HTML(value='')))"
      ]
     },
     "metadata": {},
     "output_type": "display_data"
    },
    {
     "name": "stdout",
     "output_type": "stream",
     "text": [
      "\n"
     ]
    },
    {
     "data": {
      "application/vnd.jupyter.widget-view+json": {
       "model_id": "7d44497835ed49b9ad04c724f22db925",
       "version_major": 2,
       "version_minor": 0
      },
      "text/plain": [
       "HBox(children=(IntProgress(value=0, max=818), HTML(value='')))"
      ]
     },
     "metadata": {},
     "output_type": "display_data"
    },
    {
     "name": "stdout",
     "output_type": "stream",
     "text": [
      "\n"
     ]
    }
   ],
   "source": [
    "v_test_cv_1 = text_score(corpora_test_1,X_test_w2v_1)\n",
    "v_test_cv_2 = text_score(corpora_test_2,X_test_w2v_2)\n",
    "v_test_cv_3 = text_score(corpora_test_3,X_test_w2v_3)\n",
    "v_test_cv_4 = text_score(corpora_test_4,X_test_w2v_4)\n",
    "v_test_cv_5 = text_score(corpora_test_5,X_test_w2v_5)"
   ]
  },
  {
   "cell_type": "code",
   "execution_count": 108,
   "metadata": {},
   "outputs": [],
   "source": [
    "MLP_1 = MLPClassifier()\n",
    "MLP_2 = MLPClassifier()\n",
    "MLP_3 = MLPClassifier()\n",
    "MLP_4 = MLPClassifier()\n",
    "MLP_5 = MLPClassifier()"
   ]
  },
  {
   "cell_type": "code",
   "execution_count": 110,
   "metadata": {},
   "outputs": [
    {
     "name": "stderr",
     "output_type": "stream",
     "text": [
      "C:\\Users\\Mafalda\\Anaconda3\\lib\\site-packages\\sklearn\\neural_network\\_multilayer_perceptron.py:571: ConvergenceWarning: Stochastic Optimizer: Maximum iterations (200) reached and the optimization hasn't converged yet.\n",
      "  % self.max_iter, ConvergenceWarning)\n",
      "C:\\Users\\Mafalda\\Anaconda3\\lib\\site-packages\\sklearn\\neural_network\\_multilayer_perceptron.py:571: ConvergenceWarning: Stochastic Optimizer: Maximum iterations (200) reached and the optimization hasn't converged yet.\n",
      "  % self.max_iter, ConvergenceWarning)\n",
      "C:\\Users\\Mafalda\\Anaconda3\\lib\\site-packages\\sklearn\\neural_network\\_multilayer_perceptron.py:571: ConvergenceWarning: Stochastic Optimizer: Maximum iterations (200) reached and the optimization hasn't converged yet.\n",
      "  % self.max_iter, ConvergenceWarning)\n",
      "C:\\Users\\Mafalda\\Anaconda3\\lib\\site-packages\\sklearn\\neural_network\\_multilayer_perceptron.py:571: ConvergenceWarning: Stochastic Optimizer: Maximum iterations (200) reached and the optimization hasn't converged yet.\n",
      "  % self.max_iter, ConvergenceWarning)\n",
      "C:\\Users\\Mafalda\\Anaconda3\\lib\\site-packages\\sklearn\\neural_network\\_multilayer_perceptron.py:571: ConvergenceWarning: Stochastic Optimizer: Maximum iterations (200) reached and the optimization hasn't converged yet.\n",
      "  % self.max_iter, ConvergenceWarning)\n"
     ]
    },
    {
     "data": {
      "text/plain": [
       "MLPClassifier(activation='relu', alpha=0.0001, batch_size='auto', beta_1=0.9,\n",
       "              beta_2=0.999, early_stopping=False, epsilon=1e-08,\n",
       "              hidden_layer_sizes=(100,), learning_rate='constant',\n",
       "              learning_rate_init=0.001, max_fun=15000, max_iter=200,\n",
       "              momentum=0.9, n_iter_no_change=10, nesterovs_momentum=True,\n",
       "              power_t=0.5, random_state=None, shuffle=True, solver='adam',\n",
       "              tol=0.0001, validation_fraction=0.1, verbose=False,\n",
       "              warm_start=False)"
      ]
     },
     "execution_count": 110,
     "metadata": {},
     "output_type": "execute_result"
    }
   ],
   "source": [
    "MLP_1.fit(v_train_cv_1, Y_train_1)\n",
    "MLP_2.fit(v_train_cv_2, Y_train_2)\n",
    "MLP_3.fit(v_train_cv_3, Y_train_3)\n",
    "MLP_4.fit(v_train_cv_4, Y_train_4)\n",
    "MLP_5.fit(v_train_cv_5, Y_train_5)"
   ]
  },
  {
   "cell_type": "code",
   "execution_count": 111,
   "metadata": {},
   "outputs": [],
   "source": [
    "predictions_MLP_1 = MLP_1.predict(v_test_cv_1)\n",
    "predictions_MLP_2 = MLP_2.predict(v_test_cv_2)\n",
    "predictions_MLP_3 = MLP_3.predict(v_test_cv_3)\n",
    "predictions_MLP_4 = MLP_4.predict(v_test_cv_4)\n",
    "predictions_MLP_5 = MLP_5.predict(v_test_cv_5)"
   ]
  },
  {
   "cell_type": "code",
   "execution_count": 112,
   "metadata": {},
   "outputs": [],
   "source": [
    "accuracy_MLP_1 = accuracy_score(Y_test_1,predictions_MLP_1)*100\n",
    "accuracy_MLP_2 = accuracy_score(Y_test_2,predictions_MLP_2)*100\n",
    "accuracy_MLP_3 = accuracy_score(Y_test_3,predictions_MLP_3)*100\n",
    "accuracy_MLP_4 = accuracy_score(Y_test_4,predictions_MLP_4)*100\n",
    "accuracy_MLP_5 = accuracy_score(Y_test_5,predictions_MLP_5)*100"
   ]
  },
  {
   "cell_type": "code",
   "execution_count": 113,
   "metadata": {},
   "outputs": [
    {
     "data": {
      "text/plain": [
       "17.030578766520087"
      ]
     },
     "execution_count": 113,
     "metadata": {},
     "output_type": "execute_result"
    }
   ],
   "source": [
    "accuracy_MLP = (accuracy_MLP_1 + accuracy_MLP_2 + accuracy_MLP_3 + accuracy_MLP_4 + accuracy_MLP_5)/5\n",
    "accuracy_MLP"
   ]
  },
  {
   "cell_type": "markdown",
   "metadata": {},
   "source": [
    "## Dummy algorithm"
   ]
  },
  {
   "cell_type": "code",
   "execution_count": 122,
   "metadata": {},
   "outputs": [],
   "source": [
    "def dummy_algorithm(train, test, k):\n",
    "    authors = pd.Series(index = test.index)\n",
    "    for j in tqdm(test.index):\n",
    "        text = test['500 Word List'][j]\n",
    "        similarity = pd.Series(index = corpora.index) #similarity score\n",
    "\n",
    "        #for every text excerpt in the corpora\n",
    "        for i in tqdm(corpora.index):\n",
    "            sim = 0\n",
    "            #if the word in the corpora text is also in the text we want to classify then the corpora text gets a point\n",
    "            for word in text:\n",
    "                if word in corpora['500 Word List'][i]:\n",
    "                    sim += 1\n",
    "\n",
    "            similarity[i] = sim\n",
    "\n",
    "        #get top k scores\n",
    "        similarity.sort_values(ascending=False, inplace=True)\n",
    "\n",
    "        similarity = similarity[:k]\n",
    "\n",
    "        classification = []\n",
    "\n",
    "        #get the authors of the most similar texts\n",
    "        for i in similarity.index:\n",
    "            author = corpora['Author'][i]\n",
    "            classification.append(author)\n",
    "\n",
    "        knn = pd.DataFrame({'Similarity':similarity.values,'Author':classification})\n",
    "        knn.set_index(similarity.index, inplace=True)\n",
    "\n",
    "        #get the most frequent author in the top k\n",
    "        a = knn['Author'].mode()\n",
    "        print(a)\n",
    "\n",
    "        #if there's two or more authors with the biggest frequency get the one with the highest similarity score\n",
    "        if a.shape[0]>1:\n",
    "            a = knn.loc[knn['Author'].isin(a.values)].reset_index().loc[0,['Author']]\n",
    "            \n",
    "        #print(a)\n",
    "        #print(a.type)\n",
    "        authors[j] = a.values\n",
    "        \n",
    "    return authors"
   ]
  },
  {
   "cell_type": "code",
   "execution_count": 123,
   "metadata": {},
   "outputs": [
    {
     "data": {
      "application/vnd.jupyter.widget-view+json": {
       "model_id": "259c417a5dc54f85ad910436108de260",
       "version_major": 2,
       "version_minor": 0
      },
      "text/plain": [
       "HBox(children=(IntProgress(value=0, max=819), HTML(value='')))"
      ]
     },
     "metadata": {},
     "output_type": "display_data"
    },
    {
     "data": {
      "application/vnd.jupyter.widget-view+json": {
       "model_id": "29e5de1fb45845578470bc3c512f95a7",
       "version_major": 2,
       "version_minor": 0
      },
      "text/plain": [
       "HBox(children=(IntProgress(value=0, max=4092), HTML(value='')))"
      ]
     },
     "metadata": {},
     "output_type": "display_data"
    },
    {
     "name": "stdout",
     "output_type": "stream",
     "text": [
      "0    Almada Negreiros\n",
      "dtype: object\n"
     ]
    },
    {
     "data": {
      "application/vnd.jupyter.widget-view+json": {
       "model_id": "a0450c8d69234ec59b3322d98f05f4c2",
       "version_major": 2,
       "version_minor": 0
      },
      "text/plain": [
       "HBox(children=(IntProgress(value=0, max=4092), HTML(value='')))"
      ]
     },
     "metadata": {},
     "output_type": "display_data"
    },
    {
     "name": "stdout",
     "output_type": "stream",
     "text": [
      "0    Jose Saramago\n",
      "dtype: object\n"
     ]
    },
    {
     "data": {
      "application/vnd.jupyter.widget-view+json": {
       "model_id": "e8d2d26bede64ec99983f511dcad01c1",
       "version_major": 2,
       "version_minor": 0
      },
      "text/plain": [
       "HBox(children=(IntProgress(value=0, max=4092), HTML(value='')))"
      ]
     },
     "metadata": {},
     "output_type": "display_data"
    },
    {
     "name": "stdout",
     "output_type": "stream",
     "text": [
      "0         Almada Negreiros\n",
      "1    Camilo Castelo Branco\n",
      "dtype: object\n"
     ]
    },
    {
     "data": {
      "application/vnd.jupyter.widget-view+json": {
       "model_id": "7683ab834d1041c9989fc6871fa89608",
       "version_major": 2,
       "version_minor": 0
      },
      "text/plain": [
       "HBox(children=(IntProgress(value=0, max=4092), HTML(value='')))"
      ]
     },
     "metadata": {},
     "output_type": "display_data"
    },
    {
     "name": "stdout",
     "output_type": "stream",
     "text": [
      "0    Almada Negreiros\n",
      "dtype: object\n"
     ]
    },
    {
     "data": {
      "application/vnd.jupyter.widget-view+json": {
       "model_id": "bdcf2897490a4cc289d73c47b94273fa",
       "version_major": 2,
       "version_minor": 0
      },
      "text/plain": [
       "HBox(children=(IntProgress(value=0, max=4092), HTML(value='')))"
      ]
     },
     "metadata": {},
     "output_type": "display_data"
    },
    {
     "name": "stdout",
     "output_type": "stream",
     "text": [
      "0    Almada Negreiros\n",
      "dtype: object\n"
     ]
    },
    {
     "data": {
      "application/vnd.jupyter.widget-view+json": {
       "model_id": "bbb3bf4f57fa4cc192a5a084a9f7bac5",
       "version_major": 2,
       "version_minor": 0
      },
      "text/plain": [
       "HBox(children=(IntProgress(value=0, max=4092), HTML(value='')))"
      ]
     },
     "metadata": {},
     "output_type": "display_data"
    },
    {
     "name": "stdout",
     "output_type": "stream",
     "text": [
      "0    Almada Negreiros\n",
      "dtype: object\n"
     ]
    },
    {
     "data": {
      "application/vnd.jupyter.widget-view+json": {
       "model_id": "0952ac5a83be4825bd9a5ec1a0867964",
       "version_major": 2,
       "version_minor": 0
      },
      "text/plain": [
       "HBox(children=(IntProgress(value=0, max=4092), HTML(value='')))"
      ]
     },
     "metadata": {},
     "output_type": "display_data"
    },
    {
     "name": "stdout",
     "output_type": "stream",
     "text": [
      "0    Almada Negreiros\n",
      "dtype: object\n"
     ]
    },
    {
     "data": {
      "application/vnd.jupyter.widget-view+json": {
       "model_id": "d1875b1ed0d24a25a7e1ec772c1e185a",
       "version_major": 2,
       "version_minor": 0
      },
      "text/plain": [
       "HBox(children=(IntProgress(value=0, max=4092), HTML(value='')))"
      ]
     },
     "metadata": {},
     "output_type": "display_data"
    },
    {
     "name": "stdout",
     "output_type": "stream",
     "text": [
      "0    Almada Negreiros\n",
      "dtype: object\n"
     ]
    },
    {
     "data": {
      "application/vnd.jupyter.widget-view+json": {
       "model_id": "2c7d01e9a5db455a9bc698e58b6124ed",
       "version_major": 2,
       "version_minor": 0
      },
      "text/plain": [
       "HBox(children=(IntProgress(value=0, max=4092), HTML(value='')))"
      ]
     },
     "metadata": {},
     "output_type": "display_data"
    },
    {
     "name": "stdout",
     "output_type": "stream",
     "text": [
      "0    Almada Negreiros\n",
      "dtype: object\n"
     ]
    },
    {
     "data": {
      "application/vnd.jupyter.widget-view+json": {
       "model_id": "7cc8440c91cd4a5e8d87fab105497811",
       "version_major": 2,
       "version_minor": 0
      },
      "text/plain": [
       "HBox(children=(IntProgress(value=0, max=4092), HTML(value='')))"
      ]
     },
     "metadata": {},
     "output_type": "display_data"
    },
    {
     "name": "stdout",
     "output_type": "stream",
     "text": [
      "0    Jose Rodrigues dos Santos\n",
      "dtype: object\n"
     ]
    },
    {
     "data": {
      "application/vnd.jupyter.widget-view+json": {
       "model_id": "4d1aae56746341938dea6e097f99d671",
       "version_major": 2,
       "version_minor": 0
      },
      "text/plain": [
       "HBox(children=(IntProgress(value=0, max=4092), HTML(value='')))"
      ]
     },
     "metadata": {},
     "output_type": "display_data"
    },
    {
     "name": "stdout",
     "output_type": "stream",
     "text": [
      "0    Almada Negreiros\n",
      "dtype: object\n"
     ]
    },
    {
     "data": {
      "application/vnd.jupyter.widget-view+json": {
       "model_id": "9639a8db06d24fbeb68f3dd4ac8a49a6",
       "version_major": 2,
       "version_minor": 0
      },
      "text/plain": [
       "HBox(children=(IntProgress(value=0, max=4092), HTML(value='')))"
      ]
     },
     "metadata": {},
     "output_type": "display_data"
    },
    {
     "name": "stdout",
     "output_type": "stream",
     "text": [
      "0    Almada Negreiros\n",
      "1      Eca de Queiros\n",
      "dtype: object\n"
     ]
    },
    {
     "data": {
      "application/vnd.jupyter.widget-view+json": {
       "model_id": "5192b1c3730e4f60aed877781044ecd0",
       "version_major": 2,
       "version_minor": 0
      },
      "text/plain": [
       "HBox(children=(IntProgress(value=0, max=4092), HTML(value='')))"
      ]
     },
     "metadata": {},
     "output_type": "display_data"
    },
    {
     "name": "stdout",
     "output_type": "stream",
     "text": [
      "0    Camilo Castelo Branco\n",
      "dtype: object\n"
     ]
    },
    {
     "data": {
      "application/vnd.jupyter.widget-view+json": {
       "model_id": "3ad2ac9fff9749a4aee00db3d04859cb",
       "version_major": 2,
       "version_minor": 0
      },
      "text/plain": [
       "HBox(children=(IntProgress(value=0, max=4092), HTML(value='')))"
      ]
     },
     "metadata": {},
     "output_type": "display_data"
    },
    {
     "name": "stdout",
     "output_type": "stream",
     "text": [
      "0    Camilo Castelo Branco\n",
      "dtype: object\n"
     ]
    },
    {
     "data": {
      "application/vnd.jupyter.widget-view+json": {
       "model_id": "abf4155ef95d44cab9e328e2927c4eb1",
       "version_major": 2,
       "version_minor": 0
      },
      "text/plain": [
       "HBox(children=(IntProgress(value=0, max=4092), HTML(value='')))"
      ]
     },
     "metadata": {},
     "output_type": "display_data"
    },
    {
     "name": "stdout",
     "output_type": "stream",
     "text": [
      "0    Camilo Castelo Branco\n",
      "dtype: object\n"
     ]
    },
    {
     "data": {
      "application/vnd.jupyter.widget-view+json": {
       "model_id": "5c01f4670b7b43a98f9f5bdcaf2a706b",
       "version_major": 2,
       "version_minor": 0
      },
      "text/plain": [
       "HBox(children=(IntProgress(value=0, max=4092), HTML(value='')))"
      ]
     },
     "metadata": {},
     "output_type": "display_data"
    },
    {
     "name": "stdout",
     "output_type": "stream",
     "text": [
      "0    Camilo Castelo Branco\n",
      "dtype: object\n"
     ]
    },
    {
     "data": {
      "application/vnd.jupyter.widget-view+json": {
       "model_id": "766f2f3adf58490fa98784402d4b85cd",
       "version_major": 2,
       "version_minor": 0
      },
      "text/plain": [
       "HBox(children=(IntProgress(value=0, max=4092), HTML(value='')))"
      ]
     },
     "metadata": {},
     "output_type": "display_data"
    },
    {
     "name": "stdout",
     "output_type": "stream",
     "text": [
      "0    Camilo Castelo Branco\n",
      "dtype: object\n"
     ]
    },
    {
     "data": {
      "application/vnd.jupyter.widget-view+json": {
       "model_id": "1d72b96bdfd04092a0a804640e769b91",
       "version_major": 2,
       "version_minor": 0
      },
      "text/plain": [
       "HBox(children=(IntProgress(value=0, max=4092), HTML(value='')))"
      ]
     },
     "metadata": {},
     "output_type": "display_data"
    },
    {
     "name": "stdout",
     "output_type": "stream",
     "text": [
      "0    Camilo Castelo Branco\n",
      "dtype: object\n"
     ]
    },
    {
     "data": {
      "application/vnd.jupyter.widget-view+json": {
       "model_id": "cef34aaa882a45a6868a6a00a82ad520",
       "version_major": 2,
       "version_minor": 0
      },
      "text/plain": [
       "HBox(children=(IntProgress(value=0, max=4092), HTML(value='')))"
      ]
     },
     "metadata": {},
     "output_type": "display_data"
    },
    {
     "name": "stdout",
     "output_type": "stream",
     "text": [
      "0    Camilo Castelo Branco\n",
      "dtype: object\n"
     ]
    },
    {
     "data": {
      "application/vnd.jupyter.widget-view+json": {
       "model_id": "0948ab1dc3d94f7cafe1a84b7df172bf",
       "version_major": 2,
       "version_minor": 0
      },
      "text/plain": [
       "HBox(children=(IntProgress(value=0, max=4092), HTML(value='')))"
      ]
     },
     "metadata": {},
     "output_type": "display_data"
    },
    {
     "name": "stdout",
     "output_type": "stream",
     "text": [
      "0    Camilo Castelo Branco\n",
      "dtype: object\n"
     ]
    },
    {
     "data": {
      "application/vnd.jupyter.widget-view+json": {
       "model_id": "697ba75ae4ac4758a696b61257760c4b",
       "version_major": 2,
       "version_minor": 0
      },
      "text/plain": [
       "HBox(children=(IntProgress(value=0, max=4092), HTML(value='')))"
      ]
     },
     "metadata": {},
     "output_type": "display_data"
    },
    {
     "name": "stdout",
     "output_type": "stream",
     "text": [
      "0    Camilo Castelo Branco\n",
      "dtype: object\n"
     ]
    },
    {
     "data": {
      "application/vnd.jupyter.widget-view+json": {
       "model_id": "28c1161554b3429a94a813c262d5be45",
       "version_major": 2,
       "version_minor": 0
      },
      "text/plain": [
       "HBox(children=(IntProgress(value=0, max=4092), HTML(value='')))"
      ]
     },
     "metadata": {},
     "output_type": "display_data"
    },
    {
     "name": "stdout",
     "output_type": "stream",
     "text": [
      "0    Camilo Castelo Branco\n",
      "dtype: object\n"
     ]
    },
    {
     "data": {
      "application/vnd.jupyter.widget-view+json": {
       "model_id": "f9c6ad2e9c03460fb4b2aa0ba487b816",
       "version_major": 2,
       "version_minor": 0
      },
      "text/plain": [
       "HBox(children=(IntProgress(value=0, max=4092), HTML(value='')))"
      ]
     },
     "metadata": {},
     "output_type": "display_data"
    },
    {
     "name": "stdout",
     "output_type": "stream",
     "text": [
      "0    Camilo Castelo Branco\n",
      "dtype: object\n"
     ]
    },
    {
     "data": {
      "application/vnd.jupyter.widget-view+json": {
       "model_id": "12cbfba349904f9f880f6f871bd502f1",
       "version_major": 2,
       "version_minor": 0
      },
      "text/plain": [
       "HBox(children=(IntProgress(value=0, max=4092), HTML(value='')))"
      ]
     },
     "metadata": {},
     "output_type": "display_data"
    },
    {
     "name": "stdout",
     "output_type": "stream",
     "text": [
      "0    Camilo Castelo Branco\n",
      "dtype: object\n"
     ]
    },
    {
     "data": {
      "application/vnd.jupyter.widget-view+json": {
       "model_id": "ea8384e8c79c461098b226824d39468b",
       "version_major": 2,
       "version_minor": 0
      },
      "text/plain": [
       "HBox(children=(IntProgress(value=0, max=4092), HTML(value='')))"
      ]
     },
     "metadata": {},
     "output_type": "display_data"
    },
    {
     "name": "stdout",
     "output_type": "stream",
     "text": [
      "0    Camilo Castelo Branco\n",
      "dtype: object\n"
     ]
    },
    {
     "data": {
      "application/vnd.jupyter.widget-view+json": {
       "model_id": "f7de530350a84f9189bfd9e37f1cf5bc",
       "version_major": 2,
       "version_minor": 0
      },
      "text/plain": [
       "HBox(children=(IntProgress(value=0, max=4092), HTML(value='')))"
      ]
     },
     "metadata": {},
     "output_type": "display_data"
    },
    {
     "name": "stdout",
     "output_type": "stream",
     "text": [
      "0    Camilo Castelo Branco\n",
      "dtype: object\n"
     ]
    },
    {
     "data": {
      "application/vnd.jupyter.widget-view+json": {
       "model_id": "8671b8e32b4144b59dd78f7317159bd9",
       "version_major": 2,
       "version_minor": 0
      },
      "text/plain": [
       "HBox(children=(IntProgress(value=0, max=4092), HTML(value='')))"
      ]
     },
     "metadata": {},
     "output_type": "display_data"
    },
    {
     "name": "stdout",
     "output_type": "stream",
     "text": [
      "0    Camilo Castelo Branco\n",
      "dtype: object\n"
     ]
    },
    {
     "data": {
      "application/vnd.jupyter.widget-view+json": {
       "model_id": "926d18f0a8944686a1e3ed2b7ea06c3d",
       "version_major": 2,
       "version_minor": 0
      },
      "text/plain": [
       "HBox(children=(IntProgress(value=0, max=4092), HTML(value='')))"
      ]
     },
     "metadata": {},
     "output_type": "display_data"
    },
    {
     "name": "stdout",
     "output_type": "stream",
     "text": [
      "0    Camilo Castelo Branco\n",
      "dtype: object\n"
     ]
    },
    {
     "data": {
      "application/vnd.jupyter.widget-view+json": {
       "model_id": "4675ffdbf7f14ee7ae1729dd97e6a3b9",
       "version_major": 2,
       "version_minor": 0
      },
      "text/plain": [
       "HBox(children=(IntProgress(value=0, max=4092), HTML(value='')))"
      ]
     },
     "metadata": {},
     "output_type": "display_data"
    },
    {
     "name": "stdout",
     "output_type": "stream",
     "text": [
      "0    Camilo Castelo Branco\n",
      "dtype: object\n"
     ]
    },
    {
     "data": {
      "application/vnd.jupyter.widget-view+json": {
       "model_id": "1a3758c3bfce468ab0ed2fec180c8c53",
       "version_major": 2,
       "version_minor": 0
      },
      "text/plain": [
       "HBox(children=(IntProgress(value=0, max=4092), HTML(value='')))"
      ]
     },
     "metadata": {},
     "output_type": "display_data"
    },
    {
     "name": "stdout",
     "output_type": "stream",
     "text": [
      "0    Camilo Castelo Branco\n",
      "dtype: object\n"
     ]
    },
    {
     "data": {
      "application/vnd.jupyter.widget-view+json": {
       "model_id": "f6d920d1bdf2493ba5b5f5aed3d5a46b",
       "version_major": 2,
       "version_minor": 0
      },
      "text/plain": [
       "HBox(children=(IntProgress(value=0, max=4092), HTML(value='')))"
      ]
     },
     "metadata": {},
     "output_type": "display_data"
    },
    {
     "name": "stdout",
     "output_type": "stream",
     "text": [
      "0    Camilo Castelo Branco\n",
      "dtype: object\n"
     ]
    },
    {
     "data": {
      "application/vnd.jupyter.widget-view+json": {
       "model_id": "e370855c681c48f6bbc11aa3a891cad2",
       "version_major": 2,
       "version_minor": 0
      },
      "text/plain": [
       "HBox(children=(IntProgress(value=0, max=4092), HTML(value='')))"
      ]
     },
     "metadata": {},
     "output_type": "display_data"
    },
    {
     "name": "stdout",
     "output_type": "stream",
     "text": [
      "0    Camilo Castelo Branco\n",
      "dtype: object\n"
     ]
    },
    {
     "data": {
      "application/vnd.jupyter.widget-view+json": {
       "model_id": "f3de6bab9c2348fc9f4678adb205237c",
       "version_major": 2,
       "version_minor": 0
      },
      "text/plain": [
       "HBox(children=(IntProgress(value=0, max=4092), HTML(value='')))"
      ]
     },
     "metadata": {},
     "output_type": "display_data"
    },
    {
     "name": "stdout",
     "output_type": "stream",
     "text": [
      "0    Camilo Castelo Branco\n",
      "dtype: object\n"
     ]
    },
    {
     "data": {
      "application/vnd.jupyter.widget-view+json": {
       "model_id": "96b71bbc8a2246aa93939b662a2e94c2",
       "version_major": 2,
       "version_minor": 0
      },
      "text/plain": [
       "HBox(children=(IntProgress(value=0, max=4092), HTML(value='')))"
      ]
     },
     "metadata": {},
     "output_type": "display_data"
    },
    {
     "name": "stdout",
     "output_type": "stream",
     "text": [
      "0    Camilo Castelo Branco\n",
      "dtype: object\n"
     ]
    },
    {
     "data": {
      "application/vnd.jupyter.widget-view+json": {
       "model_id": "81832f7f509140aca4b839cef784a17d",
       "version_major": 2,
       "version_minor": 0
      },
      "text/plain": [
       "HBox(children=(IntProgress(value=0, max=4092), HTML(value='')))"
      ]
     },
     "metadata": {},
     "output_type": "display_data"
    },
    {
     "name": "stdout",
     "output_type": "stream",
     "text": [
      "0    Camilo Castelo Branco\n",
      "dtype: object\n"
     ]
    },
    {
     "data": {
      "application/vnd.jupyter.widget-view+json": {
       "model_id": "f0384f870c524b8ca7306213412d8c39",
       "version_major": 2,
       "version_minor": 0
      },
      "text/plain": [
       "HBox(children=(IntProgress(value=0, max=4092), HTML(value='')))"
      ]
     },
     "metadata": {},
     "output_type": "display_data"
    },
    {
     "name": "stdout",
     "output_type": "stream",
     "text": [
      "0    Camilo Castelo Branco\n",
      "dtype: object\n"
     ]
    },
    {
     "data": {
      "application/vnd.jupyter.widget-view+json": {
       "model_id": "c5c597c989a34f9c8f931c176c7b0b83",
       "version_major": 2,
       "version_minor": 0
      },
      "text/plain": [
       "HBox(children=(IntProgress(value=0, max=4092), HTML(value='')))"
      ]
     },
     "metadata": {},
     "output_type": "display_data"
    },
    {
     "name": "stdout",
     "output_type": "stream",
     "text": [
      "0    Camilo Castelo Branco\n",
      "dtype: object\n"
     ]
    },
    {
     "data": {
      "application/vnd.jupyter.widget-view+json": {
       "model_id": "10146ec95d244c50a491c4ce487f7a42",
       "version_major": 2,
       "version_minor": 0
      },
      "text/plain": [
       "HBox(children=(IntProgress(value=0, max=4092), HTML(value='')))"
      ]
     },
     "metadata": {},
     "output_type": "display_data"
    },
    {
     "name": "stdout",
     "output_type": "stream",
     "text": [
      "0    Camilo Castelo Branco\n",
      "dtype: object\n"
     ]
    },
    {
     "data": {
      "application/vnd.jupyter.widget-view+json": {
       "model_id": "dd07ac8d85914e9887bb1fcce97170d5",
       "version_major": 2,
       "version_minor": 0
      },
      "text/plain": [
       "HBox(children=(IntProgress(value=0, max=4092), HTML(value='')))"
      ]
     },
     "metadata": {},
     "output_type": "display_data"
    },
    {
     "name": "stdout",
     "output_type": "stream",
     "text": [
      "0    Camilo Castelo Branco\n",
      "dtype: object\n"
     ]
    },
    {
     "data": {
      "application/vnd.jupyter.widget-view+json": {
       "model_id": "096cc6fd824440cc8683e3e4f5d62929",
       "version_major": 2,
       "version_minor": 0
      },
      "text/plain": [
       "HBox(children=(IntProgress(value=0, max=4092), HTML(value='')))"
      ]
     },
     "metadata": {},
     "output_type": "display_data"
    },
    {
     "name": "stdout",
     "output_type": "stream",
     "text": [
      "0    Camilo Castelo Branco\n",
      "dtype: object\n"
     ]
    },
    {
     "data": {
      "application/vnd.jupyter.widget-view+json": {
       "model_id": "db9babad033544e7b6b0901479c0f300",
       "version_major": 2,
       "version_minor": 0
      },
      "text/plain": [
       "HBox(children=(IntProgress(value=0, max=4092), HTML(value='')))"
      ]
     },
     "metadata": {},
     "output_type": "display_data"
    },
    {
     "name": "stdout",
     "output_type": "stream",
     "text": [
      "0    Camilo Castelo Branco\n",
      "dtype: object\n"
     ]
    },
    {
     "data": {
      "application/vnd.jupyter.widget-view+json": {
       "model_id": "49d3503723d34fb29018b066c249ecff",
       "version_major": 2,
       "version_minor": 0
      },
      "text/plain": [
       "HBox(children=(IntProgress(value=0, max=4092), HTML(value='')))"
      ]
     },
     "metadata": {},
     "output_type": "display_data"
    },
    {
     "name": "stdout",
     "output_type": "stream",
     "text": [
      "0    Camilo Castelo Branco\n",
      "dtype: object\n"
     ]
    },
    {
     "data": {
      "application/vnd.jupyter.widget-view+json": {
       "model_id": "d3a36db5415f45ada5a7d20f616bf765",
       "version_major": 2,
       "version_minor": 0
      },
      "text/plain": [
       "HBox(children=(IntProgress(value=0, max=4092), HTML(value='')))"
      ]
     },
     "metadata": {},
     "output_type": "display_data"
    },
    {
     "name": "stdout",
     "output_type": "stream",
     "text": [
      "0    Camilo Castelo Branco\n",
      "dtype: object\n"
     ]
    },
    {
     "data": {
      "application/vnd.jupyter.widget-view+json": {
       "model_id": "335e425e39da469fb45a3744a8bd1855",
       "version_major": 2,
       "version_minor": 0
      },
      "text/plain": [
       "HBox(children=(IntProgress(value=0, max=4092), HTML(value='')))"
      ]
     },
     "metadata": {},
     "output_type": "display_data"
    },
    {
     "name": "stdout",
     "output_type": "stream",
     "text": [
      "0    Camilo Castelo Branco\n",
      "dtype: object\n"
     ]
    },
    {
     "data": {
      "application/vnd.jupyter.widget-view+json": {
       "model_id": "b6f768bf8751436880bacca7ad8c7eee",
       "version_major": 2,
       "version_minor": 0
      },
      "text/plain": [
       "HBox(children=(IntProgress(value=0, max=4092), HTML(value='')))"
      ]
     },
     "metadata": {},
     "output_type": "display_data"
    },
    {
     "name": "stdout",
     "output_type": "stream",
     "text": [
      "0    Camilo Castelo Branco\n",
      "dtype: object\n"
     ]
    },
    {
     "data": {
      "application/vnd.jupyter.widget-view+json": {
       "model_id": "c290a4dfa07044b9b9c089b44fb76ac8",
       "version_major": 2,
       "version_minor": 0
      },
      "text/plain": [
       "HBox(children=(IntProgress(value=0, max=4092), HTML(value='')))"
      ]
     },
     "metadata": {},
     "output_type": "display_data"
    },
    {
     "name": "stdout",
     "output_type": "stream",
     "text": [
      "0    Camilo Castelo Branco\n",
      "dtype: object\n"
     ]
    },
    {
     "data": {
      "application/vnd.jupyter.widget-view+json": {
       "model_id": "060a73b270484ccc98b3b90e076a41e2",
       "version_major": 2,
       "version_minor": 0
      },
      "text/plain": [
       "HBox(children=(IntProgress(value=0, max=4092), HTML(value='')))"
      ]
     },
     "metadata": {},
     "output_type": "display_data"
    },
    {
     "name": "stdout",
     "output_type": "stream",
     "text": [
      "0    Camilo Castelo Branco\n",
      "dtype: object\n"
     ]
    },
    {
     "data": {
      "application/vnd.jupyter.widget-view+json": {
       "model_id": "97d1b2413f9f44e3a6d153023cffd6ff",
       "version_major": 2,
       "version_minor": 0
      },
      "text/plain": [
       "HBox(children=(IntProgress(value=0, max=4092), HTML(value='')))"
      ]
     },
     "metadata": {},
     "output_type": "display_data"
    },
    {
     "name": "stdout",
     "output_type": "stream",
     "text": [
      "0    Camilo Castelo Branco\n",
      "dtype: object\n"
     ]
    },
    {
     "data": {
      "application/vnd.jupyter.widget-view+json": {
       "model_id": "d44e54c2eed54b2eaab61ab2c2cd8af6",
       "version_major": 2,
       "version_minor": 0
      },
      "text/plain": [
       "HBox(children=(IntProgress(value=0, max=4092), HTML(value='')))"
      ]
     },
     "metadata": {},
     "output_type": "display_data"
    },
    {
     "name": "stdout",
     "output_type": "stream",
     "text": [
      "0    Camilo Castelo Branco\n",
      "dtype: object\n"
     ]
    },
    {
     "data": {
      "application/vnd.jupyter.widget-view+json": {
       "model_id": "d808ca35e2dc4cd1b9d6152f93bf9b75",
       "version_major": 2,
       "version_minor": 0
      },
      "text/plain": [
       "HBox(children=(IntProgress(value=0, max=4092), HTML(value='')))"
      ]
     },
     "metadata": {},
     "output_type": "display_data"
    },
    {
     "name": "stdout",
     "output_type": "stream",
     "text": [
      "0    Camilo Castelo Branco\n",
      "dtype: object\n"
     ]
    },
    {
     "data": {
      "application/vnd.jupyter.widget-view+json": {
       "model_id": "c3fbc997566e4ae48f75474e68b83cf7",
       "version_major": 2,
       "version_minor": 0
      },
      "text/plain": [
       "HBox(children=(IntProgress(value=0, max=4092), HTML(value='')))"
      ]
     },
     "metadata": {},
     "output_type": "display_data"
    },
    {
     "name": "stdout",
     "output_type": "stream",
     "text": [
      "0    Camilo Castelo Branco\n",
      "dtype: object\n"
     ]
    },
    {
     "data": {
      "application/vnd.jupyter.widget-view+json": {
       "model_id": "44dfcb6328e8422f8b69538dde26d729",
       "version_major": 2,
       "version_minor": 0
      },
      "text/plain": [
       "HBox(children=(IntProgress(value=0, max=4092), HTML(value='')))"
      ]
     },
     "metadata": {},
     "output_type": "display_data"
    },
    {
     "name": "stdout",
     "output_type": "stream",
     "text": [
      "0    Camilo Castelo Branco\n",
      "dtype: object\n"
     ]
    },
    {
     "data": {
      "application/vnd.jupyter.widget-view+json": {
       "model_id": "f89414ea01af4e609dcd9ef6f5aed5d3",
       "version_major": 2,
       "version_minor": 0
      },
      "text/plain": [
       "HBox(children=(IntProgress(value=0, max=4092), HTML(value='')))"
      ]
     },
     "metadata": {},
     "output_type": "display_data"
    },
    {
     "name": "stdout",
     "output_type": "stream",
     "text": [
      "0    Camilo Castelo Branco\n",
      "dtype: object\n"
     ]
    },
    {
     "data": {
      "application/vnd.jupyter.widget-view+json": {
       "model_id": "79bfdf67a234481d94d479bf7ba803b0",
       "version_major": 2,
       "version_minor": 0
      },
      "text/plain": [
       "HBox(children=(IntProgress(value=0, max=4092), HTML(value='')))"
      ]
     },
     "metadata": {},
     "output_type": "display_data"
    },
    {
     "name": "stdout",
     "output_type": "stream",
     "text": [
      "0    Camilo Castelo Branco\n",
      "dtype: object\n"
     ]
    },
    {
     "data": {
      "application/vnd.jupyter.widget-view+json": {
       "model_id": "67e012bfb8774b2a864288694ede7fa3",
       "version_major": 2,
       "version_minor": 0
      },
      "text/plain": [
       "HBox(children=(IntProgress(value=0, max=4092), HTML(value='')))"
      ]
     },
     "metadata": {},
     "output_type": "display_data"
    },
    {
     "name": "stdout",
     "output_type": "stream",
     "text": [
      "0    Camilo Castelo Branco\n",
      "dtype: object\n"
     ]
    },
    {
     "data": {
      "application/vnd.jupyter.widget-view+json": {
       "model_id": "4a00faf8ed094e70a9663c11dde0ce20",
       "version_major": 2,
       "version_minor": 0
      },
      "text/plain": [
       "HBox(children=(IntProgress(value=0, max=4092), HTML(value='')))"
      ]
     },
     "metadata": {},
     "output_type": "display_data"
    },
    {
     "name": "stdout",
     "output_type": "stream",
     "text": [
      "0    Camilo Castelo Branco\n",
      "dtype: object\n"
     ]
    },
    {
     "data": {
      "application/vnd.jupyter.widget-view+json": {
       "model_id": "f640e4e233d84ae8872e1145b1ba4e72",
       "version_major": 2,
       "version_minor": 0
      },
      "text/plain": [
       "HBox(children=(IntProgress(value=0, max=4092), HTML(value='')))"
      ]
     },
     "metadata": {},
     "output_type": "display_data"
    },
    {
     "name": "stdout",
     "output_type": "stream",
     "text": [
      "0    Camilo Castelo Branco\n",
      "dtype: object\n"
     ]
    },
    {
     "data": {
      "application/vnd.jupyter.widget-view+json": {
       "model_id": "174d27e91b69455183673e099bdc997e",
       "version_major": 2,
       "version_minor": 0
      },
      "text/plain": [
       "HBox(children=(IntProgress(value=0, max=4092), HTML(value='')))"
      ]
     },
     "metadata": {},
     "output_type": "display_data"
    },
    {
     "name": "stdout",
     "output_type": "stream",
     "text": [
      "0    Camilo Castelo Branco\n",
      "dtype: object\n"
     ]
    },
    {
     "data": {
      "application/vnd.jupyter.widget-view+json": {
       "model_id": "73c081817b374f9a8ca2e0c16fe9d49c",
       "version_major": 2,
       "version_minor": 0
      },
      "text/plain": [
       "HBox(children=(IntProgress(value=0, max=4092), HTML(value='')))"
      ]
     },
     "metadata": {},
     "output_type": "display_data"
    },
    {
     "name": "stdout",
     "output_type": "stream",
     "text": [
      "0    Camilo Castelo Branco\n",
      "dtype: object\n"
     ]
    },
    {
     "data": {
      "application/vnd.jupyter.widget-view+json": {
       "model_id": "711321df1b0c4466911f571183157625",
       "version_major": 2,
       "version_minor": 0
      },
      "text/plain": [
       "HBox(children=(IntProgress(value=0, max=4092), HTML(value='')))"
      ]
     },
     "metadata": {},
     "output_type": "display_data"
    },
    {
     "name": "stdout",
     "output_type": "stream",
     "text": [
      "0    Camilo Castelo Branco\n",
      "dtype: object\n"
     ]
    },
    {
     "data": {
      "application/vnd.jupyter.widget-view+json": {
       "model_id": "b645a84d9a5748cd887851cf25d29839",
       "version_major": 2,
       "version_minor": 0
      },
      "text/plain": [
       "HBox(children=(IntProgress(value=0, max=4092), HTML(value='')))"
      ]
     },
     "metadata": {},
     "output_type": "display_data"
    },
    {
     "name": "stdout",
     "output_type": "stream",
     "text": [
      "0    Camilo Castelo Branco\n",
      "dtype: object\n"
     ]
    },
    {
     "data": {
      "application/vnd.jupyter.widget-view+json": {
       "model_id": "c040cc480dfa4013ac1f77eeb0781ba4",
       "version_major": 2,
       "version_minor": 0
      },
      "text/plain": [
       "HBox(children=(IntProgress(value=0, max=4092), HTML(value='')))"
      ]
     },
     "metadata": {},
     "output_type": "display_data"
    },
    {
     "name": "stdout",
     "output_type": "stream",
     "text": [
      "0    Camilo Castelo Branco\n",
      "dtype: object\n"
     ]
    },
    {
     "data": {
      "application/vnd.jupyter.widget-view+json": {
       "model_id": "7f86e549423b47a4841f2fef4d8019a1",
       "version_major": 2,
       "version_minor": 0
      },
      "text/plain": [
       "HBox(children=(IntProgress(value=0, max=4092), HTML(value='')))"
      ]
     },
     "metadata": {},
     "output_type": "display_data"
    },
    {
     "name": "stdout",
     "output_type": "stream",
     "text": [
      "0    Camilo Castelo Branco\n",
      "dtype: object\n"
     ]
    },
    {
     "data": {
      "application/vnd.jupyter.widget-view+json": {
       "model_id": "a06c7fc25c474d7cb6510cd23dd4f693",
       "version_major": 2,
       "version_minor": 0
      },
      "text/plain": [
       "HBox(children=(IntProgress(value=0, max=4092), HTML(value='')))"
      ]
     },
     "metadata": {},
     "output_type": "display_data"
    },
    {
     "name": "stdout",
     "output_type": "stream",
     "text": [
      "0    Camilo Castelo Branco\n",
      "dtype: object\n"
     ]
    },
    {
     "data": {
      "application/vnd.jupyter.widget-view+json": {
       "model_id": "9bac941ba3024d989f474db1cc30ec1d",
       "version_major": 2,
       "version_minor": 0
      },
      "text/plain": [
       "HBox(children=(IntProgress(value=0, max=4092), HTML(value='')))"
      ]
     },
     "metadata": {},
     "output_type": "display_data"
    },
    {
     "name": "stdout",
     "output_type": "stream",
     "text": [
      "0    Camilo Castelo Branco\n",
      "dtype: object\n"
     ]
    },
    {
     "data": {
      "application/vnd.jupyter.widget-view+json": {
       "model_id": "8786f1cff23b40d5964f1a05f751349c",
       "version_major": 2,
       "version_minor": 0
      },
      "text/plain": [
       "HBox(children=(IntProgress(value=0, max=4092), HTML(value='')))"
      ]
     },
     "metadata": {},
     "output_type": "display_data"
    },
    {
     "name": "stdout",
     "output_type": "stream",
     "text": [
      "0    Camilo Castelo Branco\n",
      "dtype: object\n"
     ]
    },
    {
     "data": {
      "application/vnd.jupyter.widget-view+json": {
       "model_id": "6defcda1d5304d119afa21c6db1093d9",
       "version_major": 2,
       "version_minor": 0
      },
      "text/plain": [
       "HBox(children=(IntProgress(value=0, max=4092), HTML(value='')))"
      ]
     },
     "metadata": {},
     "output_type": "display_data"
    },
    {
     "name": "stdout",
     "output_type": "stream",
     "text": [
      "0    Camilo Castelo Branco\n",
      "dtype: object\n"
     ]
    },
    {
     "data": {
      "application/vnd.jupyter.widget-view+json": {
       "model_id": "be39919e22d64387aa61c1e540e5a96b",
       "version_major": 2,
       "version_minor": 0
      },
      "text/plain": [
       "HBox(children=(IntProgress(value=0, max=4092), HTML(value='')))"
      ]
     },
     "metadata": {},
     "output_type": "display_data"
    },
    {
     "name": "stdout",
     "output_type": "stream",
     "text": [
      "0    Camilo Castelo Branco\n",
      "dtype: object\n"
     ]
    },
    {
     "data": {
      "application/vnd.jupyter.widget-view+json": {
       "model_id": "05cad383bc294051baafffd053dacaea",
       "version_major": 2,
       "version_minor": 0
      },
      "text/plain": [
       "HBox(children=(IntProgress(value=0, max=4092), HTML(value='')))"
      ]
     },
     "metadata": {},
     "output_type": "display_data"
    },
    {
     "name": "stdout",
     "output_type": "stream",
     "text": [
      "0    Camilo Castelo Branco\n",
      "dtype: object\n"
     ]
    },
    {
     "data": {
      "application/vnd.jupyter.widget-view+json": {
       "model_id": "cd5f0d73a8314722bea1951e99688f9d",
       "version_major": 2,
       "version_minor": 0
      },
      "text/plain": [
       "HBox(children=(IntProgress(value=0, max=4092), HTML(value='')))"
      ]
     },
     "metadata": {},
     "output_type": "display_data"
    },
    {
     "name": "stdout",
     "output_type": "stream",
     "text": [
      "0    Camilo Castelo Branco\n",
      "dtype: object\n"
     ]
    },
    {
     "data": {
      "application/vnd.jupyter.widget-view+json": {
       "model_id": "8965e1b772ba489aaffedba55a232944",
       "version_major": 2,
       "version_minor": 0
      },
      "text/plain": [
       "HBox(children=(IntProgress(value=0, max=4092), HTML(value='')))"
      ]
     },
     "metadata": {},
     "output_type": "display_data"
    },
    {
     "name": "stdout",
     "output_type": "stream",
     "text": [
      "0    Camilo Castelo Branco\n",
      "dtype: object\n"
     ]
    },
    {
     "data": {
      "application/vnd.jupyter.widget-view+json": {
       "model_id": "1b809b2606b1475099cf84fbcaf9081b",
       "version_major": 2,
       "version_minor": 0
      },
      "text/plain": [
       "HBox(children=(IntProgress(value=0, max=4092), HTML(value='')))"
      ]
     },
     "metadata": {},
     "output_type": "display_data"
    },
    {
     "name": "stdout",
     "output_type": "stream",
     "text": [
      "0    Camilo Castelo Branco\n",
      "dtype: object\n"
     ]
    },
    {
     "data": {
      "application/vnd.jupyter.widget-view+json": {
       "model_id": "e72f0a0aa2be4d4f8c7efe9c03930def",
       "version_major": 2,
       "version_minor": 0
      },
      "text/plain": [
       "HBox(children=(IntProgress(value=0, max=4092), HTML(value='')))"
      ]
     },
     "metadata": {},
     "output_type": "display_data"
    },
    {
     "name": "stdout",
     "output_type": "stream",
     "text": [
      "0    Camilo Castelo Branco\n",
      "dtype: object\n"
     ]
    },
    {
     "data": {
      "application/vnd.jupyter.widget-view+json": {
       "model_id": "acfbebbb92c842c2bd430fcffb40eb82",
       "version_major": 2,
       "version_minor": 0
      },
      "text/plain": [
       "HBox(children=(IntProgress(value=0, max=4092), HTML(value='')))"
      ]
     },
     "metadata": {},
     "output_type": "display_data"
    },
    {
     "name": "stdout",
     "output_type": "stream",
     "text": [
      "0    Camilo Castelo Branco\n",
      "dtype: object\n"
     ]
    },
    {
     "data": {
      "application/vnd.jupyter.widget-view+json": {
       "model_id": "4ed8c7cfd35d4872b15cf010fd0f6bbe",
       "version_major": 2,
       "version_minor": 0
      },
      "text/plain": [
       "HBox(children=(IntProgress(value=0, max=4092), HTML(value='')))"
      ]
     },
     "metadata": {},
     "output_type": "display_data"
    },
    {
     "name": "stdout",
     "output_type": "stream",
     "text": [
      "0    Camilo Castelo Branco\n",
      "dtype: object\n"
     ]
    },
    {
     "data": {
      "application/vnd.jupyter.widget-view+json": {
       "model_id": "9d2b255bb0974bb0a1aa325cb558824d",
       "version_major": 2,
       "version_minor": 0
      },
      "text/plain": [
       "HBox(children=(IntProgress(value=0, max=4092), HTML(value='')))"
      ]
     },
     "metadata": {},
     "output_type": "display_data"
    },
    {
     "name": "stdout",
     "output_type": "stream",
     "text": [
      "0    Camilo Castelo Branco\n",
      "dtype: object\n"
     ]
    },
    {
     "data": {
      "application/vnd.jupyter.widget-view+json": {
       "model_id": "fcd2bcf0af1a4ec6a932936ba84207b5",
       "version_major": 2,
       "version_minor": 0
      },
      "text/plain": [
       "HBox(children=(IntProgress(value=0, max=4092), HTML(value='')))"
      ]
     },
     "metadata": {},
     "output_type": "display_data"
    },
    {
     "name": "stdout",
     "output_type": "stream",
     "text": [
      "0    Camilo Castelo Branco\n",
      "dtype: object\n"
     ]
    },
    {
     "data": {
      "application/vnd.jupyter.widget-view+json": {
       "model_id": "8e5f3bcf1152485f9797c1a14ef23028",
       "version_major": 2,
       "version_minor": 0
      },
      "text/plain": [
       "HBox(children=(IntProgress(value=0, max=4092), HTML(value='')))"
      ]
     },
     "metadata": {},
     "output_type": "display_data"
    },
    {
     "name": "stdout",
     "output_type": "stream",
     "text": [
      "0    Camilo Castelo Branco\n",
      "dtype: object\n"
     ]
    },
    {
     "data": {
      "application/vnd.jupyter.widget-view+json": {
       "model_id": "4acb4d6b159549f7bd3c7ac373f11246",
       "version_major": 2,
       "version_minor": 0
      },
      "text/plain": [
       "HBox(children=(IntProgress(value=0, max=4092), HTML(value='')))"
      ]
     },
     "metadata": {},
     "output_type": "display_data"
    },
    {
     "name": "stdout",
     "output_type": "stream",
     "text": [
      "0    Camilo Castelo Branco\n",
      "dtype: object\n"
     ]
    },
    {
     "data": {
      "application/vnd.jupyter.widget-view+json": {
       "model_id": "307e71ac209e4743b80db11d38093483",
       "version_major": 2,
       "version_minor": 0
      },
      "text/plain": [
       "HBox(children=(IntProgress(value=0, max=4092), HTML(value='')))"
      ]
     },
     "metadata": {},
     "output_type": "display_data"
    },
    {
     "name": "stdout",
     "output_type": "stream",
     "text": [
      "0    Camilo Castelo Branco\n",
      "dtype: object\n"
     ]
    },
    {
     "data": {
      "application/vnd.jupyter.widget-view+json": {
       "model_id": "6487764f2a70459996a9ee0bf665ea43",
       "version_major": 2,
       "version_minor": 0
      },
      "text/plain": [
       "HBox(children=(IntProgress(value=0, max=4092), HTML(value='')))"
      ]
     },
     "metadata": {},
     "output_type": "display_data"
    },
    {
     "name": "stdout",
     "output_type": "stream",
     "text": [
      "0    Camilo Castelo Branco\n",
      "dtype: object\n"
     ]
    },
    {
     "data": {
      "application/vnd.jupyter.widget-view+json": {
       "model_id": "1ab3c1660d95493ca6dc620438e3500a",
       "version_major": 2,
       "version_minor": 0
      },
      "text/plain": [
       "HBox(children=(IntProgress(value=0, max=4092), HTML(value='')))"
      ]
     },
     "metadata": {},
     "output_type": "display_data"
    },
    {
     "name": "stdout",
     "output_type": "stream",
     "text": [
      "0    Camilo Castelo Branco\n",
      "dtype: object\n"
     ]
    },
    {
     "data": {
      "application/vnd.jupyter.widget-view+json": {
       "model_id": "c84744f6436d43bb80ea3cf244005fd3",
       "version_major": 2,
       "version_minor": 0
      },
      "text/plain": [
       "HBox(children=(IntProgress(value=0, max=4092), HTML(value='')))"
      ]
     },
     "metadata": {},
     "output_type": "display_data"
    },
    {
     "name": "stdout",
     "output_type": "stream",
     "text": [
      "0    Camilo Castelo Branco\n",
      "dtype: object\n"
     ]
    },
    {
     "data": {
      "application/vnd.jupyter.widget-view+json": {
       "model_id": "984378d028854363915312337951e502",
       "version_major": 2,
       "version_minor": 0
      },
      "text/plain": [
       "HBox(children=(IntProgress(value=0, max=4092), HTML(value='')))"
      ]
     },
     "metadata": {},
     "output_type": "display_data"
    },
    {
     "name": "stdout",
     "output_type": "stream",
     "text": [
      "0    Camilo Castelo Branco\n",
      "dtype: object\n"
     ]
    },
    {
     "data": {
      "application/vnd.jupyter.widget-view+json": {
       "model_id": "fc8574629713481fb3728a76ce428a17",
       "version_major": 2,
       "version_minor": 0
      },
      "text/plain": [
       "HBox(children=(IntProgress(value=0, max=4092), HTML(value='')))"
      ]
     },
     "metadata": {},
     "output_type": "display_data"
    },
    {
     "name": "stdout",
     "output_type": "stream",
     "text": [
      "0    Camilo Castelo Branco\n",
      "dtype: object\n"
     ]
    },
    {
     "data": {
      "application/vnd.jupyter.widget-view+json": {
       "model_id": "b81f61d03ca44929974ea41dc2e3aa00",
       "version_major": 2,
       "version_minor": 0
      },
      "text/plain": [
       "HBox(children=(IntProgress(value=0, max=4092), HTML(value='')))"
      ]
     },
     "metadata": {},
     "output_type": "display_data"
    },
    {
     "name": "stdout",
     "output_type": "stream",
     "text": [
      "0    Camilo Castelo Branco\n",
      "dtype: object\n"
     ]
    },
    {
     "data": {
      "application/vnd.jupyter.widget-view+json": {
       "model_id": "5f99cf5f90b8464b8496325bd70c8148",
       "version_major": 2,
       "version_minor": 0
      },
      "text/plain": [
       "HBox(children=(IntProgress(value=0, max=4092), HTML(value='')))"
      ]
     },
     "metadata": {},
     "output_type": "display_data"
    },
    {
     "name": "stdout",
     "output_type": "stream",
     "text": [
      "0    Camilo Castelo Branco\n",
      "dtype: object\n"
     ]
    },
    {
     "data": {
      "application/vnd.jupyter.widget-view+json": {
       "model_id": "e21f0d0d569a453eb9def8fd9f2b18ef",
       "version_major": 2,
       "version_minor": 0
      },
      "text/plain": [
       "HBox(children=(IntProgress(value=0, max=4092), HTML(value='')))"
      ]
     },
     "metadata": {},
     "output_type": "display_data"
    },
    {
     "name": "stdout",
     "output_type": "stream",
     "text": [
      "0    Camilo Castelo Branco\n",
      "dtype: object\n"
     ]
    },
    {
     "data": {
      "application/vnd.jupyter.widget-view+json": {
       "model_id": "9727424123a14744be5017c321b4649b",
       "version_major": 2,
       "version_minor": 0
      },
      "text/plain": [
       "HBox(children=(IntProgress(value=0, max=4092), HTML(value='')))"
      ]
     },
     "metadata": {},
     "output_type": "display_data"
    },
    {
     "name": "stdout",
     "output_type": "stream",
     "text": [
      "0    Camilo Castelo Branco\n",
      "dtype: object\n"
     ]
    },
    {
     "data": {
      "application/vnd.jupyter.widget-view+json": {
       "model_id": "5ec428bece694f5c8dd478e7f3d0ed9c",
       "version_major": 2,
       "version_minor": 0
      },
      "text/plain": [
       "HBox(children=(IntProgress(value=0, max=4092), HTML(value='')))"
      ]
     },
     "metadata": {},
     "output_type": "display_data"
    },
    {
     "name": "stdout",
     "output_type": "stream",
     "text": [
      "0    Camilo Castelo Branco\n",
      "dtype: object\n"
     ]
    },
    {
     "data": {
      "application/vnd.jupyter.widget-view+json": {
       "model_id": "e53e614a546e4cc9a16fd2bfd15d8130",
       "version_major": 2,
       "version_minor": 0
      },
      "text/plain": [
       "HBox(children=(IntProgress(value=0, max=4092), HTML(value='')))"
      ]
     },
     "metadata": {},
     "output_type": "display_data"
    },
    {
     "name": "stdout",
     "output_type": "stream",
     "text": [
      "0    Camilo Castelo Branco\n",
      "dtype: object\n"
     ]
    },
    {
     "data": {
      "application/vnd.jupyter.widget-view+json": {
       "model_id": "978b7859d68d48458cee61bd1e46063f",
       "version_major": 2,
       "version_minor": 0
      },
      "text/plain": [
       "HBox(children=(IntProgress(value=0, max=4092), HTML(value='')))"
      ]
     },
     "metadata": {},
     "output_type": "display_data"
    },
    {
     "name": "stdout",
     "output_type": "stream",
     "text": [
      "0    Camilo Castelo Branco\n",
      "dtype: object\n"
     ]
    },
    {
     "data": {
      "application/vnd.jupyter.widget-view+json": {
       "model_id": "bf0dc8ba880146c2a482aca71b004859",
       "version_major": 2,
       "version_minor": 0
      },
      "text/plain": [
       "HBox(children=(IntProgress(value=0, max=4092), HTML(value='')))"
      ]
     },
     "metadata": {},
     "output_type": "display_data"
    },
    {
     "name": "stdout",
     "output_type": "stream",
     "text": [
      "0    Camilo Castelo Branco\n",
      "dtype: object\n"
     ]
    },
    {
     "data": {
      "application/vnd.jupyter.widget-view+json": {
       "model_id": "e7eb7f4b251549e59a141507c90f5c81",
       "version_major": 2,
       "version_minor": 0
      },
      "text/plain": [
       "HBox(children=(IntProgress(value=0, max=4092), HTML(value='')))"
      ]
     },
     "metadata": {},
     "output_type": "display_data"
    },
    {
     "name": "stdout",
     "output_type": "stream",
     "text": [
      "0    Camilo Castelo Branco\n",
      "dtype: object\n"
     ]
    },
    {
     "data": {
      "application/vnd.jupyter.widget-view+json": {
       "model_id": "4e287be15ded410084d1d2e148c68486",
       "version_major": 2,
       "version_minor": 0
      },
      "text/plain": [
       "HBox(children=(IntProgress(value=0, max=4092), HTML(value='')))"
      ]
     },
     "metadata": {},
     "output_type": "display_data"
    },
    {
     "name": "stdout",
     "output_type": "stream",
     "text": [
      "0    Camilo Castelo Branco\n",
      "dtype: object\n"
     ]
    },
    {
     "data": {
      "application/vnd.jupyter.widget-view+json": {
       "model_id": "b2a71af7d335447098b789fdff2c60d1",
       "version_major": 2,
       "version_minor": 0
      },
      "text/plain": [
       "HBox(children=(IntProgress(value=0, max=4092), HTML(value='')))"
      ]
     },
     "metadata": {},
     "output_type": "display_data"
    },
    {
     "name": "stdout",
     "output_type": "stream",
     "text": [
      "0    Camilo Castelo Branco\n",
      "dtype: object\n"
     ]
    },
    {
     "data": {
      "application/vnd.jupyter.widget-view+json": {
       "model_id": "e8a9f7e5b109451dbaac6ad19865547c",
       "version_major": 2,
       "version_minor": 0
      },
      "text/plain": [
       "HBox(children=(IntProgress(value=0, max=4092), HTML(value='')))"
      ]
     },
     "metadata": {},
     "output_type": "display_data"
    },
    {
     "name": "stdout",
     "output_type": "stream",
     "text": [
      "0    Camilo Castelo Branco\n",
      "dtype: object\n"
     ]
    },
    {
     "data": {
      "application/vnd.jupyter.widget-view+json": {
       "model_id": "faa554f8801d4634b58712d4e265f2a6",
       "version_major": 2,
       "version_minor": 0
      },
      "text/plain": [
       "HBox(children=(IntProgress(value=0, max=4092), HTML(value='')))"
      ]
     },
     "metadata": {},
     "output_type": "display_data"
    },
    {
     "name": "stdout",
     "output_type": "stream",
     "text": [
      "0    Camilo Castelo Branco\n",
      "dtype: object\n"
     ]
    },
    {
     "data": {
      "application/vnd.jupyter.widget-view+json": {
       "model_id": "db0f277af8bd4e859f91c51d08a8b136",
       "version_major": 2,
       "version_minor": 0
      },
      "text/plain": [
       "HBox(children=(IntProgress(value=0, max=4092), HTML(value='')))"
      ]
     },
     "metadata": {},
     "output_type": "display_data"
    },
    {
     "name": "stdout",
     "output_type": "stream",
     "text": [
      "0    Camilo Castelo Branco\n",
      "dtype: object\n"
     ]
    },
    {
     "data": {
      "application/vnd.jupyter.widget-view+json": {
       "model_id": "91b2ec7965bd4eb193f72ca985637b64",
       "version_major": 2,
       "version_minor": 0
      },
      "text/plain": [
       "HBox(children=(IntProgress(value=0, max=4092), HTML(value='')))"
      ]
     },
     "metadata": {},
     "output_type": "display_data"
    },
    {
     "name": "stdout",
     "output_type": "stream",
     "text": [
      "0    Camilo Castelo Branco\n",
      "dtype: object\n"
     ]
    },
    {
     "data": {
      "application/vnd.jupyter.widget-view+json": {
       "model_id": "4b330f7ff87d466da22a9b92aaa80ac9",
       "version_major": 2,
       "version_minor": 0
      },
      "text/plain": [
       "HBox(children=(IntProgress(value=0, max=4092), HTML(value='')))"
      ]
     },
     "metadata": {},
     "output_type": "display_data"
    },
    {
     "name": "stdout",
     "output_type": "stream",
     "text": [
      "0    Camilo Castelo Branco\n",
      "dtype: object\n"
     ]
    },
    {
     "data": {
      "application/vnd.jupyter.widget-view+json": {
       "model_id": "cb709508e198414380e2efa2dc33a390",
       "version_major": 2,
       "version_minor": 0
      },
      "text/plain": [
       "HBox(children=(IntProgress(value=0, max=4092), HTML(value='')))"
      ]
     },
     "metadata": {},
     "output_type": "display_data"
    },
    {
     "name": "stdout",
     "output_type": "stream",
     "text": [
      "0    Camilo Castelo Branco\n",
      "dtype: object\n"
     ]
    },
    {
     "data": {
      "application/vnd.jupyter.widget-view+json": {
       "model_id": "3a7ed04edc2746b1871032f7d1bb3eaa",
       "version_major": 2,
       "version_minor": 0
      },
      "text/plain": [
       "HBox(children=(IntProgress(value=0, max=4092), HTML(value='')))"
      ]
     },
     "metadata": {},
     "output_type": "display_data"
    },
    {
     "name": "stdout",
     "output_type": "stream",
     "text": [
      "0    Camilo Castelo Branco\n",
      "dtype: object\n"
     ]
    },
    {
     "data": {
      "application/vnd.jupyter.widget-view+json": {
       "model_id": "049a1b02befb4691bdd4ccd174aaa757",
       "version_major": 2,
       "version_minor": 0
      },
      "text/plain": [
       "HBox(children=(IntProgress(value=0, max=4092), HTML(value='')))"
      ]
     },
     "metadata": {},
     "output_type": "display_data"
    },
    {
     "name": "stdout",
     "output_type": "stream",
     "text": [
      "0    Camilo Castelo Branco\n",
      "dtype: object\n"
     ]
    },
    {
     "data": {
      "application/vnd.jupyter.widget-view+json": {
       "model_id": "735b52786fcc4f179ffe85adac894083",
       "version_major": 2,
       "version_minor": 0
      },
      "text/plain": [
       "HBox(children=(IntProgress(value=0, max=4092), HTML(value='')))"
      ]
     },
     "metadata": {},
     "output_type": "display_data"
    },
    {
     "name": "stdout",
     "output_type": "stream",
     "text": [
      "0    Camilo Castelo Branco\n",
      "dtype: object\n"
     ]
    },
    {
     "data": {
      "application/vnd.jupyter.widget-view+json": {
       "model_id": "17ac3428c663457aa06c85b60ad28553",
       "version_major": 2,
       "version_minor": 0
      },
      "text/plain": [
       "HBox(children=(IntProgress(value=0, max=4092), HTML(value='')))"
      ]
     },
     "metadata": {},
     "output_type": "display_data"
    },
    {
     "name": "stdout",
     "output_type": "stream",
     "text": [
      "0    Camilo Castelo Branco\n",
      "dtype: object\n"
     ]
    },
    {
     "data": {
      "application/vnd.jupyter.widget-view+json": {
       "model_id": "58df3d2c38dc4dcd9fd56c5c5213d18d",
       "version_major": 2,
       "version_minor": 0
      },
      "text/plain": [
       "HBox(children=(IntProgress(value=0, max=4092), HTML(value='')))"
      ]
     },
     "metadata": {},
     "output_type": "display_data"
    },
    {
     "name": "stdout",
     "output_type": "stream",
     "text": [
      "0    Camilo Castelo Branco\n",
      "dtype: object\n"
     ]
    },
    {
     "data": {
      "application/vnd.jupyter.widget-view+json": {
       "model_id": "81e4622a222b40189cb93d0bde939bb9",
       "version_major": 2,
       "version_minor": 0
      },
      "text/plain": [
       "HBox(children=(IntProgress(value=0, max=4092), HTML(value='')))"
      ]
     },
     "metadata": {},
     "output_type": "display_data"
    },
    {
     "name": "stdout",
     "output_type": "stream",
     "text": [
      "0    Camilo Castelo Branco\n",
      "dtype: object\n"
     ]
    },
    {
     "data": {
      "application/vnd.jupyter.widget-view+json": {
       "model_id": "5717ceb2ff4140b4915c728e55e08957",
       "version_major": 2,
       "version_minor": 0
      },
      "text/plain": [
       "HBox(children=(IntProgress(value=0, max=4092), HTML(value='')))"
      ]
     },
     "metadata": {},
     "output_type": "display_data"
    },
    {
     "name": "stdout",
     "output_type": "stream",
     "text": [
      "0    Camilo Castelo Branco\n",
      "dtype: object\n"
     ]
    },
    {
     "data": {
      "application/vnd.jupyter.widget-view+json": {
       "model_id": "47bf8c76169c42f3950b1948f14489c6",
       "version_major": 2,
       "version_minor": 0
      },
      "text/plain": [
       "HBox(children=(IntProgress(value=0, max=4092), HTML(value='')))"
      ]
     },
     "metadata": {},
     "output_type": "display_data"
    },
    {
     "name": "stdout",
     "output_type": "stream",
     "text": [
      "0    Camilo Castelo Branco\n",
      "dtype: object\n"
     ]
    },
    {
     "data": {
      "application/vnd.jupyter.widget-view+json": {
       "model_id": "5fd48bf96a074c8bad2d8e7cc1e31050",
       "version_major": 2,
       "version_minor": 0
      },
      "text/plain": [
       "HBox(children=(IntProgress(value=0, max=4092), HTML(value='')))"
      ]
     },
     "metadata": {},
     "output_type": "display_data"
    },
    {
     "name": "stdout",
     "output_type": "stream",
     "text": [
      "0    Camilo Castelo Branco\n",
      "dtype: object\n"
     ]
    },
    {
     "data": {
      "application/vnd.jupyter.widget-view+json": {
       "model_id": "0c1768d64b344728a64ebe5b7941dd36",
       "version_major": 2,
       "version_minor": 0
      },
      "text/plain": [
       "HBox(children=(IntProgress(value=0, max=4092), HTML(value='')))"
      ]
     },
     "metadata": {},
     "output_type": "display_data"
    },
    {
     "name": "stdout",
     "output_type": "stream",
     "text": [
      "0    Camilo Castelo Branco\n",
      "dtype: object\n"
     ]
    },
    {
     "data": {
      "application/vnd.jupyter.widget-view+json": {
       "model_id": "b0c3c7d6799940fb9d0a9217dcc901b2",
       "version_major": 2,
       "version_minor": 0
      },
      "text/plain": [
       "HBox(children=(IntProgress(value=0, max=4092), HTML(value='')))"
      ]
     },
     "metadata": {},
     "output_type": "display_data"
    },
    {
     "name": "stdout",
     "output_type": "stream",
     "text": [
      "0    Camilo Castelo Branco\n",
      "dtype: object\n"
     ]
    },
    {
     "data": {
      "application/vnd.jupyter.widget-view+json": {
       "model_id": "c7b656496546440dba5748788dfbf25e",
       "version_major": 2,
       "version_minor": 0
      },
      "text/plain": [
       "HBox(children=(IntProgress(value=0, max=4092), HTML(value='')))"
      ]
     },
     "metadata": {},
     "output_type": "display_data"
    },
    {
     "name": "stdout",
     "output_type": "stream",
     "text": [
      "0    Camilo Castelo Branco\n",
      "dtype: object\n"
     ]
    },
    {
     "data": {
      "application/vnd.jupyter.widget-view+json": {
       "model_id": "e2a94db1921a47fdb8721f217ae4b1bc",
       "version_major": 2,
       "version_minor": 0
      },
      "text/plain": [
       "HBox(children=(IntProgress(value=0, max=4092), HTML(value='')))"
      ]
     },
     "metadata": {},
     "output_type": "display_data"
    },
    {
     "name": "stdout",
     "output_type": "stream",
     "text": [
      "0    Camilo Castelo Branco\n",
      "dtype: object\n"
     ]
    },
    {
     "data": {
      "application/vnd.jupyter.widget-view+json": {
       "model_id": "b041ee9b718743668d29440196d43fa1",
       "version_major": 2,
       "version_minor": 0
      },
      "text/plain": [
       "HBox(children=(IntProgress(value=0, max=4092), HTML(value='')))"
      ]
     },
     "metadata": {},
     "output_type": "display_data"
    },
    {
     "name": "stdout",
     "output_type": "stream",
     "text": [
      "0    Camilo Castelo Branco\n",
      "dtype: object\n"
     ]
    },
    {
     "data": {
      "application/vnd.jupyter.widget-view+json": {
       "model_id": "025666dc3b4c4cfea8fb778bc421fc6d",
       "version_major": 2,
       "version_minor": 0
      },
      "text/plain": [
       "HBox(children=(IntProgress(value=0, max=4092), HTML(value='')))"
      ]
     },
     "metadata": {},
     "output_type": "display_data"
    },
    {
     "name": "stdout",
     "output_type": "stream",
     "text": [
      "0    Camilo Castelo Branco\n",
      "dtype: object\n"
     ]
    },
    {
     "data": {
      "application/vnd.jupyter.widget-view+json": {
       "model_id": "c0f43617ce124b50a86851da83b10276",
       "version_major": 2,
       "version_minor": 0
      },
      "text/plain": [
       "HBox(children=(IntProgress(value=0, max=4092), HTML(value='')))"
      ]
     },
     "metadata": {},
     "output_type": "display_data"
    },
    {
     "name": "stdout",
     "output_type": "stream",
     "text": [
      "0    Camilo Castelo Branco\n",
      "dtype: object\n"
     ]
    },
    {
     "data": {
      "application/vnd.jupyter.widget-view+json": {
       "model_id": "ddaa05500fe3432b85ce1b6fc9ecb37c",
       "version_major": 2,
       "version_minor": 0
      },
      "text/plain": [
       "HBox(children=(IntProgress(value=0, max=4092), HTML(value='')))"
      ]
     },
     "metadata": {},
     "output_type": "display_data"
    },
    {
     "name": "stdout",
     "output_type": "stream",
     "text": [
      "0    Camilo Castelo Branco\n",
      "dtype: object\n"
     ]
    },
    {
     "data": {
      "application/vnd.jupyter.widget-view+json": {
       "model_id": "646c986bc105401f87645c9761d16054",
       "version_major": 2,
       "version_minor": 0
      },
      "text/plain": [
       "HBox(children=(IntProgress(value=0, max=4092), HTML(value='')))"
      ]
     },
     "metadata": {},
     "output_type": "display_data"
    },
    {
     "name": "stdout",
     "output_type": "stream",
     "text": [
      "0    Camilo Castelo Branco\n",
      "dtype: object\n"
     ]
    },
    {
     "data": {
      "application/vnd.jupyter.widget-view+json": {
       "model_id": "c79395606317490189b14e76f8372fba",
       "version_major": 2,
       "version_minor": 0
      },
      "text/plain": [
       "HBox(children=(IntProgress(value=0, max=4092), HTML(value='')))"
      ]
     },
     "metadata": {},
     "output_type": "display_data"
    },
    {
     "name": "stdout",
     "output_type": "stream",
     "text": [
      "0    Camilo Castelo Branco\n",
      "dtype: object\n"
     ]
    },
    {
     "data": {
      "application/vnd.jupyter.widget-view+json": {
       "model_id": "65b3e725e8c84645978a4e4695b7ab6b",
       "version_major": 2,
       "version_minor": 0
      },
      "text/plain": [
       "HBox(children=(IntProgress(value=0, max=4092), HTML(value='')))"
      ]
     },
     "metadata": {},
     "output_type": "display_data"
    },
    {
     "name": "stdout",
     "output_type": "stream",
     "text": [
      "0    Camilo Castelo Branco\n",
      "dtype: object\n"
     ]
    },
    {
     "data": {
      "application/vnd.jupyter.widget-view+json": {
       "model_id": "7e7720ec6de146b59362e2ad523a404c",
       "version_major": 2,
       "version_minor": 0
      },
      "text/plain": [
       "HBox(children=(IntProgress(value=0, max=4092), HTML(value='')))"
      ]
     },
     "metadata": {},
     "output_type": "display_data"
    },
    {
     "name": "stdout",
     "output_type": "stream",
     "text": [
      "0    Camilo Castelo Branco\n",
      "dtype: object\n"
     ]
    },
    {
     "data": {
      "application/vnd.jupyter.widget-view+json": {
       "model_id": "c43b65296d4447d2a0a8e5a626e1ff91",
       "version_major": 2,
       "version_minor": 0
      },
      "text/plain": [
       "HBox(children=(IntProgress(value=0, max=4092), HTML(value='')))"
      ]
     },
     "metadata": {},
     "output_type": "display_data"
    },
    {
     "name": "stdout",
     "output_type": "stream",
     "text": [
      "0    Camilo Castelo Branco\n",
      "dtype: object\n"
     ]
    },
    {
     "data": {
      "application/vnd.jupyter.widget-view+json": {
       "model_id": "90542b39670a4f14b328e20d9f6ee5a8",
       "version_major": 2,
       "version_minor": 0
      },
      "text/plain": [
       "HBox(children=(IntProgress(value=0, max=4092), HTML(value='')))"
      ]
     },
     "metadata": {},
     "output_type": "display_data"
    },
    {
     "name": "stdout",
     "output_type": "stream",
     "text": [
      "0    Camilo Castelo Branco\n",
      "dtype: object\n"
     ]
    },
    {
     "data": {
      "application/vnd.jupyter.widget-view+json": {
       "model_id": "d3b3da759eb34789966adf1d8f522e54",
       "version_major": 2,
       "version_minor": 0
      },
      "text/plain": [
       "HBox(children=(IntProgress(value=0, max=4092), HTML(value='')))"
      ]
     },
     "metadata": {},
     "output_type": "display_data"
    },
    {
     "name": "stdout",
     "output_type": "stream",
     "text": [
      "0    Camilo Castelo Branco\n",
      "dtype: object\n"
     ]
    },
    {
     "data": {
      "application/vnd.jupyter.widget-view+json": {
       "model_id": "197faadd31344dfa81fd0a2b93efe440",
       "version_major": 2,
       "version_minor": 0
      },
      "text/plain": [
       "HBox(children=(IntProgress(value=0, max=4092), HTML(value='')))"
      ]
     },
     "metadata": {},
     "output_type": "display_data"
    },
    {
     "name": "stdout",
     "output_type": "stream",
     "text": [
      "0    Camilo Castelo Branco\n",
      "dtype: object\n"
     ]
    },
    {
     "data": {
      "application/vnd.jupyter.widget-view+json": {
       "model_id": "ac348af682874e2aa9a076008d35896d",
       "version_major": 2,
       "version_minor": 0
      },
      "text/plain": [
       "HBox(children=(IntProgress(value=0, max=4092), HTML(value='')))"
      ]
     },
     "metadata": {},
     "output_type": "display_data"
    },
    {
     "name": "stdout",
     "output_type": "stream",
     "text": [
      "0    Camilo Castelo Branco\n",
      "dtype: object\n"
     ]
    },
    {
     "data": {
      "application/vnd.jupyter.widget-view+json": {
       "model_id": "f798434d9c484398857928b5d2becfac",
       "version_major": 2,
       "version_minor": 0
      },
      "text/plain": [
       "HBox(children=(IntProgress(value=0, max=4092), HTML(value='')))"
      ]
     },
     "metadata": {},
     "output_type": "display_data"
    },
    {
     "name": "stdout",
     "output_type": "stream",
     "text": [
      "0    Camilo Castelo Branco\n",
      "dtype: object\n"
     ]
    },
    {
     "data": {
      "application/vnd.jupyter.widget-view+json": {
       "model_id": "9e36f383a706427d9a877fd481cfda93",
       "version_major": 2,
       "version_minor": 0
      },
      "text/plain": [
       "HBox(children=(IntProgress(value=0, max=4092), HTML(value='')))"
      ]
     },
     "metadata": {},
     "output_type": "display_data"
    },
    {
     "name": "stdout",
     "output_type": "stream",
     "text": [
      "0    Camilo Castelo Branco\n",
      "dtype: object\n"
     ]
    },
    {
     "data": {
      "application/vnd.jupyter.widget-view+json": {
       "model_id": "b10cf8302301463dae480e4ccfeb8234",
       "version_major": 2,
       "version_minor": 0
      },
      "text/plain": [
       "HBox(children=(IntProgress(value=0, max=4092), HTML(value='')))"
      ]
     },
     "metadata": {},
     "output_type": "display_data"
    },
    {
     "name": "stdout",
     "output_type": "stream",
     "text": [
      "0    Camilo Castelo Branco\n",
      "dtype: object\n"
     ]
    },
    {
     "data": {
      "application/vnd.jupyter.widget-view+json": {
       "model_id": "a2044bfef05b4fc69c6c7b833405b75f",
       "version_major": 2,
       "version_minor": 0
      },
      "text/plain": [
       "HBox(children=(IntProgress(value=0, max=4092), HTML(value='')))"
      ]
     },
     "metadata": {},
     "output_type": "display_data"
    },
    {
     "name": "stdout",
     "output_type": "stream",
     "text": [
      "0    Camilo Castelo Branco\n",
      "dtype: object\n"
     ]
    },
    {
     "data": {
      "application/vnd.jupyter.widget-view+json": {
       "model_id": "cee7ebe33b5e41568c446174f9027e97",
       "version_major": 2,
       "version_minor": 0
      },
      "text/plain": [
       "HBox(children=(IntProgress(value=0, max=4092), HTML(value='')))"
      ]
     },
     "metadata": {},
     "output_type": "display_data"
    },
    {
     "name": "stdout",
     "output_type": "stream",
     "text": [
      "0    Camilo Castelo Branco\n",
      "dtype: object\n"
     ]
    },
    {
     "data": {
      "application/vnd.jupyter.widget-view+json": {
       "model_id": "ce40553f76bc4639a3fed2a5b7b9f547",
       "version_major": 2,
       "version_minor": 0
      },
      "text/plain": [
       "HBox(children=(IntProgress(value=0, max=4092), HTML(value='')))"
      ]
     },
     "metadata": {},
     "output_type": "display_data"
    },
    {
     "name": "stdout",
     "output_type": "stream",
     "text": [
      "0    Camilo Castelo Branco\n",
      "dtype: object\n"
     ]
    },
    {
     "data": {
      "application/vnd.jupyter.widget-view+json": {
       "model_id": "23c57ef656874e348ca7bb76dbb04498",
       "version_major": 2,
       "version_minor": 0
      },
      "text/plain": [
       "HBox(children=(IntProgress(value=0, max=4092), HTML(value='')))"
      ]
     },
     "metadata": {},
     "output_type": "display_data"
    },
    {
     "name": "stdout",
     "output_type": "stream",
     "text": [
      "0    Camilo Castelo Branco\n",
      "dtype: object\n"
     ]
    },
    {
     "data": {
      "application/vnd.jupyter.widget-view+json": {
       "model_id": "5c0ec4d648894ada9ddd8d674a4e899b",
       "version_major": 2,
       "version_minor": 0
      },
      "text/plain": [
       "HBox(children=(IntProgress(value=0, max=4092), HTML(value='')))"
      ]
     },
     "metadata": {},
     "output_type": "display_data"
    },
    {
     "name": "stdout",
     "output_type": "stream",
     "text": [
      "0    Camilo Castelo Branco\n",
      "dtype: object\n"
     ]
    },
    {
     "data": {
      "application/vnd.jupyter.widget-view+json": {
       "model_id": "f3613d6665714bc8be1a1d2423961256",
       "version_major": 2,
       "version_minor": 0
      },
      "text/plain": [
       "HBox(children=(IntProgress(value=0, max=4092), HTML(value='')))"
      ]
     },
     "metadata": {},
     "output_type": "display_data"
    },
    {
     "name": "stdout",
     "output_type": "stream",
     "text": [
      "0    Camilo Castelo Branco\n",
      "dtype: object\n"
     ]
    },
    {
     "data": {
      "application/vnd.jupyter.widget-view+json": {
       "model_id": "28097af4fb0a48a2bbcddebf12bb9672",
       "version_major": 2,
       "version_minor": 0
      },
      "text/plain": [
       "HBox(children=(IntProgress(value=0, max=4092), HTML(value='')))"
      ]
     },
     "metadata": {},
     "output_type": "display_data"
    },
    {
     "name": "stdout",
     "output_type": "stream",
     "text": [
      "0    Camilo Castelo Branco\n",
      "dtype: object\n"
     ]
    },
    {
     "data": {
      "application/vnd.jupyter.widget-view+json": {
       "model_id": "d26a79c2321140ad94f1b6906cc39f51",
       "version_major": 2,
       "version_minor": 0
      },
      "text/plain": [
       "HBox(children=(IntProgress(value=0, max=4092), HTML(value='')))"
      ]
     },
     "metadata": {},
     "output_type": "display_data"
    },
    {
     "name": "stdout",
     "output_type": "stream",
     "text": [
      "0    Camilo Castelo Branco\n",
      "dtype: object\n"
     ]
    },
    {
     "data": {
      "application/vnd.jupyter.widget-view+json": {
       "model_id": "423b7c77224a4f81a45f510dd10c82c1",
       "version_major": 2,
       "version_minor": 0
      },
      "text/plain": [
       "HBox(children=(IntProgress(value=0, max=4092), HTML(value='')))"
      ]
     },
     "metadata": {},
     "output_type": "display_data"
    },
    {
     "name": "stdout",
     "output_type": "stream",
     "text": [
      "0    Camilo Castelo Branco\n",
      "dtype: object\n"
     ]
    },
    {
     "data": {
      "application/vnd.jupyter.widget-view+json": {
       "model_id": "50cbe075416b4437a391ee15955733f9",
       "version_major": 2,
       "version_minor": 0
      },
      "text/plain": [
       "HBox(children=(IntProgress(value=0, max=4092), HTML(value='')))"
      ]
     },
     "metadata": {},
     "output_type": "display_data"
    },
    {
     "name": "stdout",
     "output_type": "stream",
     "text": [
      "0    Camilo Castelo Branco\n",
      "dtype: object\n"
     ]
    },
    {
     "data": {
      "application/vnd.jupyter.widget-view+json": {
       "model_id": "d5ebfde1a0ff4f73852257857a429e5a",
       "version_major": 2,
       "version_minor": 0
      },
      "text/plain": [
       "HBox(children=(IntProgress(value=0, max=4092), HTML(value='')))"
      ]
     },
     "metadata": {},
     "output_type": "display_data"
    },
    {
     "name": "stdout",
     "output_type": "stream",
     "text": [
      "0    Camilo Castelo Branco\n",
      "dtype: object\n"
     ]
    },
    {
     "data": {
      "application/vnd.jupyter.widget-view+json": {
       "model_id": "12c2712cefb749609dfc84571f6656d0",
       "version_major": 2,
       "version_minor": 0
      },
      "text/plain": [
       "HBox(children=(IntProgress(value=0, max=4092), HTML(value='')))"
      ]
     },
     "metadata": {},
     "output_type": "display_data"
    },
    {
     "name": "stdout",
     "output_type": "stream",
     "text": [
      "0    Camilo Castelo Branco\n",
      "dtype: object\n"
     ]
    },
    {
     "data": {
      "application/vnd.jupyter.widget-view+json": {
       "model_id": "c8894a62bb2a4c3c824e08a07c87aa6b",
       "version_major": 2,
       "version_minor": 0
      },
      "text/plain": [
       "HBox(children=(IntProgress(value=0, max=4092), HTML(value='')))"
      ]
     },
     "metadata": {},
     "output_type": "display_data"
    },
    {
     "name": "stdout",
     "output_type": "stream",
     "text": [
      "0    Camilo Castelo Branco\n",
      "dtype: object\n"
     ]
    },
    {
     "data": {
      "application/vnd.jupyter.widget-view+json": {
       "model_id": "b042d0386a7a4686a5b66ba1e4751eb6",
       "version_major": 2,
       "version_minor": 0
      },
      "text/plain": [
       "HBox(children=(IntProgress(value=0, max=4092), HTML(value='')))"
      ]
     },
     "metadata": {},
     "output_type": "display_data"
    },
    {
     "name": "stdout",
     "output_type": "stream",
     "text": [
      "0    Camilo Castelo Branco\n",
      "dtype: object\n"
     ]
    },
    {
     "data": {
      "application/vnd.jupyter.widget-view+json": {
       "model_id": "7a36d2187a9f4c83af68a84f039751c0",
       "version_major": 2,
       "version_minor": 0
      },
      "text/plain": [
       "HBox(children=(IntProgress(value=0, max=4092), HTML(value='')))"
      ]
     },
     "metadata": {},
     "output_type": "display_data"
    },
    {
     "name": "stdout",
     "output_type": "stream",
     "text": [
      "0    Camilo Castelo Branco\n",
      "dtype: object\n"
     ]
    },
    {
     "data": {
      "application/vnd.jupyter.widget-view+json": {
       "model_id": "142db8f74639455e85110b52ca56c22d",
       "version_major": 2,
       "version_minor": 0
      },
      "text/plain": [
       "HBox(children=(IntProgress(value=0, max=4092), HTML(value='')))"
      ]
     },
     "metadata": {},
     "output_type": "display_data"
    },
    {
     "name": "stdout",
     "output_type": "stream",
     "text": [
      "0    Camilo Castelo Branco\n",
      "dtype: object\n"
     ]
    },
    {
     "data": {
      "application/vnd.jupyter.widget-view+json": {
       "model_id": "0a6a885a483243ceb7e0d820382468ab",
       "version_major": 2,
       "version_minor": 0
      },
      "text/plain": [
       "HBox(children=(IntProgress(value=0, max=4092), HTML(value='')))"
      ]
     },
     "metadata": {},
     "output_type": "display_data"
    },
    {
     "name": "stdout",
     "output_type": "stream",
     "text": [
      "0    Camilo Castelo Branco\n",
      "dtype: object\n"
     ]
    },
    {
     "data": {
      "application/vnd.jupyter.widget-view+json": {
       "model_id": "bfba4d25c67342d683dd56861c2a3f30",
       "version_major": 2,
       "version_minor": 0
      },
      "text/plain": [
       "HBox(children=(IntProgress(value=0, max=4092), HTML(value='')))"
      ]
     },
     "metadata": {},
     "output_type": "display_data"
    },
    {
     "name": "stdout",
     "output_type": "stream",
     "text": [
      "0    Camilo Castelo Branco\n",
      "dtype: object\n"
     ]
    },
    {
     "data": {
      "application/vnd.jupyter.widget-view+json": {
       "model_id": "630fcf8e0524444587d33d3fc33b8053",
       "version_major": 2,
       "version_minor": 0
      },
      "text/plain": [
       "HBox(children=(IntProgress(value=0, max=4092), HTML(value='')))"
      ]
     },
     "metadata": {},
     "output_type": "display_data"
    },
    {
     "name": "stdout",
     "output_type": "stream",
     "text": [
      "0    Camilo Castelo Branco\n",
      "dtype: object\n"
     ]
    },
    {
     "data": {
      "application/vnd.jupyter.widget-view+json": {
       "model_id": "76facf1a044d411bab5fa978dee67939",
       "version_major": 2,
       "version_minor": 0
      },
      "text/plain": [
       "HBox(children=(IntProgress(value=0, max=4092), HTML(value='')))"
      ]
     },
     "metadata": {},
     "output_type": "display_data"
    },
    {
     "name": "stdout",
     "output_type": "stream",
     "text": [
      "0    Camilo Castelo Branco\n",
      "dtype: object\n"
     ]
    },
    {
     "data": {
      "application/vnd.jupyter.widget-view+json": {
       "model_id": "cef2489044dc41a09b0653523f95df59",
       "version_major": 2,
       "version_minor": 0
      },
      "text/plain": [
       "HBox(children=(IntProgress(value=0, max=4092), HTML(value='')))"
      ]
     },
     "metadata": {},
     "output_type": "display_data"
    },
    {
     "name": "stdout",
     "output_type": "stream",
     "text": [
      "0    Camilo Castelo Branco\n",
      "dtype: object\n"
     ]
    },
    {
     "data": {
      "application/vnd.jupyter.widget-view+json": {
       "model_id": "e1f5d22fcdd74ab098ced1a7cfa28eeb",
       "version_major": 2,
       "version_minor": 0
      },
      "text/plain": [
       "HBox(children=(IntProgress(value=0, max=4092), HTML(value='')))"
      ]
     },
     "metadata": {},
     "output_type": "display_data"
    },
    {
     "name": "stdout",
     "output_type": "stream",
     "text": [
      "0    Camilo Castelo Branco\n",
      "dtype: object\n"
     ]
    },
    {
     "data": {
      "application/vnd.jupyter.widget-view+json": {
       "model_id": "01edf98813794897817d5aca3c8bee6b",
       "version_major": 2,
       "version_minor": 0
      },
      "text/plain": [
       "HBox(children=(IntProgress(value=0, max=4092), HTML(value='')))"
      ]
     },
     "metadata": {},
     "output_type": "display_data"
    },
    {
     "name": "stdout",
     "output_type": "stream",
     "text": [
      "0    Camilo Castelo Branco\n",
      "dtype: object\n"
     ]
    },
    {
     "data": {
      "application/vnd.jupyter.widget-view+json": {
       "model_id": "65d8cfca902c4fd0aa1dfbd60cabfa1a",
       "version_major": 2,
       "version_minor": 0
      },
      "text/plain": [
       "HBox(children=(IntProgress(value=0, max=4092), HTML(value='')))"
      ]
     },
     "metadata": {},
     "output_type": "display_data"
    },
    {
     "name": "stdout",
     "output_type": "stream",
     "text": [
      "0    Camilo Castelo Branco\n",
      "dtype: object\n"
     ]
    },
    {
     "data": {
      "application/vnd.jupyter.widget-view+json": {
       "model_id": "8cf6a0d673b34f1db159c8410643f407",
       "version_major": 2,
       "version_minor": 0
      },
      "text/plain": [
       "HBox(children=(IntProgress(value=0, max=4092), HTML(value='')))"
      ]
     },
     "metadata": {},
     "output_type": "display_data"
    },
    {
     "name": "stdout",
     "output_type": "stream",
     "text": [
      "0    Camilo Castelo Branco\n",
      "dtype: object\n"
     ]
    },
    {
     "data": {
      "application/vnd.jupyter.widget-view+json": {
       "model_id": "cd30c266c955440fa59d82cb9ff676b9",
       "version_major": 2,
       "version_minor": 0
      },
      "text/plain": [
       "HBox(children=(IntProgress(value=0, max=4092), HTML(value='')))"
      ]
     },
     "metadata": {},
     "output_type": "display_data"
    },
    {
     "name": "stdout",
     "output_type": "stream",
     "text": [
      "0    Camilo Castelo Branco\n",
      "dtype: object\n"
     ]
    },
    {
     "data": {
      "application/vnd.jupyter.widget-view+json": {
       "model_id": "4f86e2b5ac4c466892e863f31c959c1b",
       "version_major": 2,
       "version_minor": 0
      },
      "text/plain": [
       "HBox(children=(IntProgress(value=0, max=4092), HTML(value='')))"
      ]
     },
     "metadata": {},
     "output_type": "display_data"
    },
    {
     "name": "stdout",
     "output_type": "stream",
     "text": [
      "0    Camilo Castelo Branco\n",
      "dtype: object\n"
     ]
    },
    {
     "data": {
      "application/vnd.jupyter.widget-view+json": {
       "model_id": "f16e73ff7fb14cbb94d8bc0cb077a295",
       "version_major": 2,
       "version_minor": 0
      },
      "text/plain": [
       "HBox(children=(IntProgress(value=0, max=4092), HTML(value='')))"
      ]
     },
     "metadata": {},
     "output_type": "display_data"
    },
    {
     "name": "stdout",
     "output_type": "stream",
     "text": [
      "0    Camilo Castelo Branco\n",
      "dtype: object\n"
     ]
    },
    {
     "data": {
      "application/vnd.jupyter.widget-view+json": {
       "model_id": "826810c794d9473282b5d24aada9481f",
       "version_major": 2,
       "version_minor": 0
      },
      "text/plain": [
       "HBox(children=(IntProgress(value=0, max=4092), HTML(value='')))"
      ]
     },
     "metadata": {},
     "output_type": "display_data"
    },
    {
     "name": "stdout",
     "output_type": "stream",
     "text": [
      "0    Camilo Castelo Branco\n",
      "dtype: object\n"
     ]
    },
    {
     "data": {
      "application/vnd.jupyter.widget-view+json": {
       "model_id": "738ea8a88d1d405590de5c89270f091a",
       "version_major": 2,
       "version_minor": 0
      },
      "text/plain": [
       "HBox(children=(IntProgress(value=0, max=4092), HTML(value='')))"
      ]
     },
     "metadata": {},
     "output_type": "display_data"
    },
    {
     "name": "stdout",
     "output_type": "stream",
     "text": [
      "0    Camilo Castelo Branco\n",
      "dtype: object\n"
     ]
    },
    {
     "data": {
      "application/vnd.jupyter.widget-view+json": {
       "model_id": "8bd47aaf00a242cfaf02cf0c8d9a1a43",
       "version_major": 2,
       "version_minor": 0
      },
      "text/plain": [
       "HBox(children=(IntProgress(value=0, max=4092), HTML(value='')))"
      ]
     },
     "metadata": {},
     "output_type": "display_data"
    },
    {
     "name": "stdout",
     "output_type": "stream",
     "text": [
      "0    Camilo Castelo Branco\n",
      "dtype: object\n"
     ]
    },
    {
     "data": {
      "application/vnd.jupyter.widget-view+json": {
       "model_id": "8c37186abbff425485bd464fd6d0a8ba",
       "version_major": 2,
       "version_minor": 0
      },
      "text/plain": [
       "HBox(children=(IntProgress(value=0, max=4092), HTML(value='')))"
      ]
     },
     "metadata": {},
     "output_type": "display_data"
    },
    {
     "name": "stdout",
     "output_type": "stream",
     "text": [
      "0    Camilo Castelo Branco\n",
      "dtype: object\n"
     ]
    },
    {
     "data": {
      "application/vnd.jupyter.widget-view+json": {
       "model_id": "d1268dc1004146de81fb89dc704204a6",
       "version_major": 2,
       "version_minor": 0
      },
      "text/plain": [
       "HBox(children=(IntProgress(value=0, max=4092), HTML(value='')))"
      ]
     },
     "metadata": {},
     "output_type": "display_data"
    },
    {
     "name": "stdout",
     "output_type": "stream",
     "text": [
      "0    Camilo Castelo Branco\n",
      "dtype: object\n"
     ]
    },
    {
     "data": {
      "application/vnd.jupyter.widget-view+json": {
       "model_id": "5ae8ed9491204061824e1e14f37ea831",
       "version_major": 2,
       "version_minor": 0
      },
      "text/plain": [
       "HBox(children=(IntProgress(value=0, max=4092), HTML(value='')))"
      ]
     },
     "metadata": {},
     "output_type": "display_data"
    },
    {
     "name": "stdout",
     "output_type": "stream",
     "text": [
      "0    Camilo Castelo Branco\n",
      "dtype: object\n"
     ]
    },
    {
     "data": {
      "application/vnd.jupyter.widget-view+json": {
       "model_id": "b057baabb94740c183cbfc2b37f1ec41",
       "version_major": 2,
       "version_minor": 0
      },
      "text/plain": [
       "HBox(children=(IntProgress(value=0, max=4092), HTML(value='')))"
      ]
     },
     "metadata": {},
     "output_type": "display_data"
    },
    {
     "name": "stdout",
     "output_type": "stream",
     "text": [
      "0    Camilo Castelo Branco\n",
      "dtype: object\n"
     ]
    },
    {
     "data": {
      "application/vnd.jupyter.widget-view+json": {
       "model_id": "3ce497781723417fa35ed21285d417fe",
       "version_major": 2,
       "version_minor": 0
      },
      "text/plain": [
       "HBox(children=(IntProgress(value=0, max=4092), HTML(value='')))"
      ]
     },
     "metadata": {},
     "output_type": "display_data"
    },
    {
     "name": "stdout",
     "output_type": "stream",
     "text": [
      "0    Camilo Castelo Branco\n",
      "dtype: object\n"
     ]
    },
    {
     "data": {
      "application/vnd.jupyter.widget-view+json": {
       "model_id": "12546cbaafb34f478d05a42881c9dfec",
       "version_major": 2,
       "version_minor": 0
      },
      "text/plain": [
       "HBox(children=(IntProgress(value=0, max=4092), HTML(value='')))"
      ]
     },
     "metadata": {},
     "output_type": "display_data"
    },
    {
     "name": "stdout",
     "output_type": "stream",
     "text": [
      "0    Camilo Castelo Branco\n",
      "dtype: object\n"
     ]
    },
    {
     "data": {
      "application/vnd.jupyter.widget-view+json": {
       "model_id": "564dfd7db20d46f3adcd4a3778d7c6c8",
       "version_major": 2,
       "version_minor": 0
      },
      "text/plain": [
       "HBox(children=(IntProgress(value=0, max=4092), HTML(value='')))"
      ]
     },
     "metadata": {},
     "output_type": "display_data"
    },
    {
     "name": "stdout",
     "output_type": "stream",
     "text": [
      "0    Camilo Castelo Branco\n",
      "dtype: object\n"
     ]
    },
    {
     "data": {
      "application/vnd.jupyter.widget-view+json": {
       "model_id": "4c19d019e5b6468d9bafee264f1f9490",
       "version_major": 2,
       "version_minor": 0
      },
      "text/plain": [
       "HBox(children=(IntProgress(value=0, max=4092), HTML(value='')))"
      ]
     },
     "metadata": {},
     "output_type": "display_data"
    },
    {
     "name": "stdout",
     "output_type": "stream",
     "text": [
      "0    Camilo Castelo Branco\n",
      "dtype: object\n"
     ]
    },
    {
     "data": {
      "application/vnd.jupyter.widget-view+json": {
       "model_id": "d53126eff94341b7bec98542b9fba6c6",
       "version_major": 2,
       "version_minor": 0
      },
      "text/plain": [
       "HBox(children=(IntProgress(value=0, max=4092), HTML(value='')))"
      ]
     },
     "metadata": {},
     "output_type": "display_data"
    },
    {
     "name": "stdout",
     "output_type": "stream",
     "text": [
      "0    Camilo Castelo Branco\n",
      "dtype: object\n"
     ]
    },
    {
     "data": {
      "application/vnd.jupyter.widget-view+json": {
       "model_id": "503fd671e66d4a8f88977e0906fe5529",
       "version_major": 2,
       "version_minor": 0
      },
      "text/plain": [
       "HBox(children=(IntProgress(value=0, max=4092), HTML(value='')))"
      ]
     },
     "metadata": {},
     "output_type": "display_data"
    },
    {
     "name": "stdout",
     "output_type": "stream",
     "text": [
      "0    Camilo Castelo Branco\n",
      "dtype: object\n"
     ]
    },
    {
     "data": {
      "application/vnd.jupyter.widget-view+json": {
       "model_id": "574ff2293c994b5ba8ad32fe83de48fe",
       "version_major": 2,
       "version_minor": 0
      },
      "text/plain": [
       "HBox(children=(IntProgress(value=0, max=4092), HTML(value='')))"
      ]
     },
     "metadata": {},
     "output_type": "display_data"
    },
    {
     "name": "stdout",
     "output_type": "stream",
     "text": [
      "0    Camilo Castelo Branco\n",
      "dtype: object\n"
     ]
    },
    {
     "data": {
      "application/vnd.jupyter.widget-view+json": {
       "model_id": "a4d08fdc47164fa985f68c0dd543424a",
       "version_major": 2,
       "version_minor": 0
      },
      "text/plain": [
       "HBox(children=(IntProgress(value=0, max=4092), HTML(value='')))"
      ]
     },
     "metadata": {},
     "output_type": "display_data"
    },
    {
     "name": "stdout",
     "output_type": "stream",
     "text": [
      "0    Camilo Castelo Branco\n",
      "dtype: object\n"
     ]
    },
    {
     "data": {
      "application/vnd.jupyter.widget-view+json": {
       "model_id": "559fa59f6ca74a03af93f4c99a797fbb",
       "version_major": 2,
       "version_minor": 0
      },
      "text/plain": [
       "HBox(children=(IntProgress(value=0, max=4092), HTML(value='')))"
      ]
     },
     "metadata": {},
     "output_type": "display_data"
    },
    {
     "name": "stdout",
     "output_type": "stream",
     "text": [
      "0    Camilo Castelo Branco\n",
      "dtype: object\n"
     ]
    },
    {
     "data": {
      "application/vnd.jupyter.widget-view+json": {
       "model_id": "c3da03a115ca40c1b885436ac7acf670",
       "version_major": 2,
       "version_minor": 0
      },
      "text/plain": [
       "HBox(children=(IntProgress(value=0, max=4092), HTML(value='')))"
      ]
     },
     "metadata": {},
     "output_type": "display_data"
    },
    {
     "name": "stdout",
     "output_type": "stream",
     "text": [
      "0    Camilo Castelo Branco\n",
      "dtype: object\n"
     ]
    },
    {
     "data": {
      "application/vnd.jupyter.widget-view+json": {
       "model_id": "46558f8eb2bc4dc788d26701576f9814",
       "version_major": 2,
       "version_minor": 0
      },
      "text/plain": [
       "HBox(children=(IntProgress(value=0, max=4092), HTML(value='')))"
      ]
     },
     "metadata": {},
     "output_type": "display_data"
    },
    {
     "name": "stdout",
     "output_type": "stream",
     "text": [
      "0    Camilo Castelo Branco\n",
      "dtype: object\n"
     ]
    },
    {
     "data": {
      "application/vnd.jupyter.widget-view+json": {
       "model_id": "f95cf489e3d147f394e1395a2d7e4155",
       "version_major": 2,
       "version_minor": 0
      },
      "text/plain": [
       "HBox(children=(IntProgress(value=0, max=4092), HTML(value='')))"
      ]
     },
     "metadata": {},
     "output_type": "display_data"
    },
    {
     "name": "stdout",
     "output_type": "stream",
     "text": [
      "0    Camilo Castelo Branco\n",
      "dtype: object\n"
     ]
    },
    {
     "data": {
      "application/vnd.jupyter.widget-view+json": {
       "model_id": "fcdd9b52645d43e8a39992e2c9ddf1d9",
       "version_major": 2,
       "version_minor": 0
      },
      "text/plain": [
       "HBox(children=(IntProgress(value=0, max=4092), HTML(value='')))"
      ]
     },
     "metadata": {},
     "output_type": "display_data"
    },
    {
     "name": "stdout",
     "output_type": "stream",
     "text": [
      "0    Camilo Castelo Branco\n",
      "dtype: object\n"
     ]
    },
    {
     "data": {
      "application/vnd.jupyter.widget-view+json": {
       "model_id": "b94bfd24eecb40eb910f475ad702dd47",
       "version_major": 2,
       "version_minor": 0
      },
      "text/plain": [
       "HBox(children=(IntProgress(value=0, max=4092), HTML(value='')))"
      ]
     },
     "metadata": {},
     "output_type": "display_data"
    },
    {
     "name": "stdout",
     "output_type": "stream",
     "text": [
      "0    Camilo Castelo Branco\n",
      "dtype: object\n"
     ]
    },
    {
     "data": {
      "application/vnd.jupyter.widget-view+json": {
       "model_id": "b0492219b0cf4c96803485c4211a4ad5",
       "version_major": 2,
       "version_minor": 0
      },
      "text/plain": [
       "HBox(children=(IntProgress(value=0, max=4092), HTML(value='')))"
      ]
     },
     "metadata": {},
     "output_type": "display_data"
    },
    {
     "name": "stdout",
     "output_type": "stream",
     "text": [
      "0    Camilo Castelo Branco\n",
      "dtype: object\n"
     ]
    },
    {
     "data": {
      "application/vnd.jupyter.widget-view+json": {
       "model_id": "d7c1ab675f3f4c35af9102100211f1c7",
       "version_major": 2,
       "version_minor": 0
      },
      "text/plain": [
       "HBox(children=(IntProgress(value=0, max=4092), HTML(value='')))"
      ]
     },
     "metadata": {},
     "output_type": "display_data"
    },
    {
     "name": "stdout",
     "output_type": "stream",
     "text": [
      "0    Camilo Castelo Branco\n",
      "dtype: object\n"
     ]
    },
    {
     "data": {
      "application/vnd.jupyter.widget-view+json": {
       "model_id": "0bfe6499dd1a42a19cfc44e44e14997d",
       "version_major": 2,
       "version_minor": 0
      },
      "text/plain": [
       "HBox(children=(IntProgress(value=0, max=4092), HTML(value='')))"
      ]
     },
     "metadata": {},
     "output_type": "display_data"
    },
    {
     "name": "stdout",
     "output_type": "stream",
     "text": [
      "0    Camilo Castelo Branco\n",
      "dtype: object\n"
     ]
    },
    {
     "data": {
      "application/vnd.jupyter.widget-view+json": {
       "model_id": "0a7234d79c4e4dbf89de6befccb792b1",
       "version_major": 2,
       "version_minor": 0
      },
      "text/plain": [
       "HBox(children=(IntProgress(value=0, max=4092), HTML(value='')))"
      ]
     },
     "metadata": {},
     "output_type": "display_data"
    },
    {
     "name": "stdout",
     "output_type": "stream",
     "text": [
      "0    Camilo Castelo Branco\n",
      "dtype: object\n"
     ]
    },
    {
     "data": {
      "application/vnd.jupyter.widget-view+json": {
       "model_id": "7f38dec8742541009d3778739f278751",
       "version_major": 2,
       "version_minor": 0
      },
      "text/plain": [
       "HBox(children=(IntProgress(value=0, max=4092), HTML(value='')))"
      ]
     },
     "metadata": {},
     "output_type": "display_data"
    },
    {
     "name": "stdout",
     "output_type": "stream",
     "text": [
      "0    Camilo Castelo Branco\n",
      "dtype: object\n"
     ]
    },
    {
     "data": {
      "application/vnd.jupyter.widget-view+json": {
       "model_id": "01be07e81aae441e993b8b4d092065cc",
       "version_major": 2,
       "version_minor": 0
      },
      "text/plain": [
       "HBox(children=(IntProgress(value=0, max=4092), HTML(value='')))"
      ]
     },
     "metadata": {},
     "output_type": "display_data"
    },
    {
     "name": "stdout",
     "output_type": "stream",
     "text": [
      "0    Camilo Castelo Branco\n",
      "dtype: object\n"
     ]
    },
    {
     "data": {
      "application/vnd.jupyter.widget-view+json": {
       "model_id": "81085186e842445fb56cdc63d3b51814",
       "version_major": 2,
       "version_minor": 0
      },
      "text/plain": [
       "HBox(children=(IntProgress(value=0, max=4092), HTML(value='')))"
      ]
     },
     "metadata": {},
     "output_type": "display_data"
    },
    {
     "name": "stdout",
     "output_type": "stream",
     "text": [
      "0    Camilo Castelo Branco\n",
      "dtype: object\n"
     ]
    },
    {
     "data": {
      "application/vnd.jupyter.widget-view+json": {
       "model_id": "b64ab073ae3b4b42b4b8a150d159de6e",
       "version_major": 2,
       "version_minor": 0
      },
      "text/plain": [
       "HBox(children=(IntProgress(value=0, max=4092), HTML(value='')))"
      ]
     },
     "metadata": {},
     "output_type": "display_data"
    },
    {
     "name": "stdout",
     "output_type": "stream",
     "text": [
      "0    Camilo Castelo Branco\n",
      "dtype: object\n"
     ]
    },
    {
     "data": {
      "application/vnd.jupyter.widget-view+json": {
       "model_id": "7a36351238e24ec2ac45521b4507d5da",
       "version_major": 2,
       "version_minor": 0
      },
      "text/plain": [
       "HBox(children=(IntProgress(value=0, max=4092), HTML(value='')))"
      ]
     },
     "metadata": {},
     "output_type": "display_data"
    },
    {
     "name": "stdout",
     "output_type": "stream",
     "text": [
      "0    Camilo Castelo Branco\n",
      "dtype: object\n"
     ]
    },
    {
     "data": {
      "application/vnd.jupyter.widget-view+json": {
       "model_id": "1c73934f53024e13a18a26bbd634abc1",
       "version_major": 2,
       "version_minor": 0
      },
      "text/plain": [
       "HBox(children=(IntProgress(value=0, max=4092), HTML(value='')))"
      ]
     },
     "metadata": {},
     "output_type": "display_data"
    },
    {
     "name": "stdout",
     "output_type": "stream",
     "text": [
      "0    Camilo Castelo Branco\n",
      "dtype: object\n"
     ]
    },
    {
     "data": {
      "application/vnd.jupyter.widget-view+json": {
       "model_id": "94fb40d69f1345168d5331a0a8414fcc",
       "version_major": 2,
       "version_minor": 0
      },
      "text/plain": [
       "HBox(children=(IntProgress(value=0, max=4092), HTML(value='')))"
      ]
     },
     "metadata": {},
     "output_type": "display_data"
    },
    {
     "name": "stdout",
     "output_type": "stream",
     "text": [
      "0    Camilo Castelo Branco\n",
      "dtype: object\n"
     ]
    },
    {
     "data": {
      "application/vnd.jupyter.widget-view+json": {
       "model_id": "c26d198572be4516af012a8616e8ff7d",
       "version_major": 2,
       "version_minor": 0
      },
      "text/plain": [
       "HBox(children=(IntProgress(value=0, max=4092), HTML(value='')))"
      ]
     },
     "metadata": {},
     "output_type": "display_data"
    },
    {
     "name": "stdout",
     "output_type": "stream",
     "text": [
      "0    Camilo Castelo Branco\n",
      "dtype: object\n"
     ]
    },
    {
     "data": {
      "application/vnd.jupyter.widget-view+json": {
       "model_id": "30b82738c9514034b69512ee16eb81ae",
       "version_major": 2,
       "version_minor": 0
      },
      "text/plain": [
       "HBox(children=(IntProgress(value=0, max=4092), HTML(value='')))"
      ]
     },
     "metadata": {},
     "output_type": "display_data"
    },
    {
     "name": "stdout",
     "output_type": "stream",
     "text": [
      "0    Camilo Castelo Branco\n",
      "dtype: object\n"
     ]
    },
    {
     "data": {
      "application/vnd.jupyter.widget-view+json": {
       "model_id": "3eb83c3f1a9c4059bae5e6213fd8b2b6",
       "version_major": 2,
       "version_minor": 0
      },
      "text/plain": [
       "HBox(children=(IntProgress(value=0, max=4092), HTML(value='')))"
      ]
     },
     "metadata": {},
     "output_type": "display_data"
    },
    {
     "name": "stdout",
     "output_type": "stream",
     "text": [
      "0    Camilo Castelo Branco\n",
      "dtype: object\n"
     ]
    },
    {
     "data": {
      "application/vnd.jupyter.widget-view+json": {
       "model_id": "622bc76f040b458e88d837fb1b46972e",
       "version_major": 2,
       "version_minor": 0
      },
      "text/plain": [
       "HBox(children=(IntProgress(value=0, max=4092), HTML(value='')))"
      ]
     },
     "metadata": {},
     "output_type": "display_data"
    },
    {
     "name": "stdout",
     "output_type": "stream",
     "text": [
      "0    Camilo Castelo Branco\n",
      "dtype: object\n"
     ]
    },
    {
     "data": {
      "application/vnd.jupyter.widget-view+json": {
       "model_id": "779bd6f961f54b88a0f0c31466d8717a",
       "version_major": 2,
       "version_minor": 0
      },
      "text/plain": [
       "HBox(children=(IntProgress(value=0, max=4092), HTML(value='')))"
      ]
     },
     "metadata": {},
     "output_type": "display_data"
    },
    {
     "name": "stdout",
     "output_type": "stream",
     "text": [
      "0    Camilo Castelo Branco\n",
      "dtype: object\n"
     ]
    },
    {
     "data": {
      "application/vnd.jupyter.widget-view+json": {
       "model_id": "733634397ba84903b4d793aab64f33c6",
       "version_major": 2,
       "version_minor": 0
      },
      "text/plain": [
       "HBox(children=(IntProgress(value=0, max=4092), HTML(value='')))"
      ]
     },
     "metadata": {},
     "output_type": "display_data"
    },
    {
     "name": "stdout",
     "output_type": "stream",
     "text": [
      "0    Eca de Queiros\n",
      "dtype: object\n"
     ]
    },
    {
     "data": {
      "application/vnd.jupyter.widget-view+json": {
       "model_id": "a9e4292379c74ba8987fd45bf4649ac6",
       "version_major": 2,
       "version_minor": 0
      },
      "text/plain": [
       "HBox(children=(IntProgress(value=0, max=4092), HTML(value='')))"
      ]
     },
     "metadata": {},
     "output_type": "display_data"
    },
    {
     "name": "stdout",
     "output_type": "stream",
     "text": [
      "0    Eca de Queiros\n",
      "dtype: object\n"
     ]
    },
    {
     "data": {
      "application/vnd.jupyter.widget-view+json": {
       "model_id": "320a5c331b1344bc929387706ad4a1b9",
       "version_major": 2,
       "version_minor": 0
      },
      "text/plain": [
       "HBox(children=(IntProgress(value=0, max=4092), HTML(value='')))"
      ]
     },
     "metadata": {},
     "output_type": "display_data"
    },
    {
     "name": "stdout",
     "output_type": "stream",
     "text": [
      "0    Eca de Queiros\n",
      "dtype: object\n"
     ]
    },
    {
     "data": {
      "application/vnd.jupyter.widget-view+json": {
       "model_id": "7e2606a9ba3042e1b0a4ae5fbf1de20f",
       "version_major": 2,
       "version_minor": 0
      },
      "text/plain": [
       "HBox(children=(IntProgress(value=0, max=4092), HTML(value='')))"
      ]
     },
     "metadata": {},
     "output_type": "display_data"
    },
    {
     "name": "stdout",
     "output_type": "stream",
     "text": [
      "0    Eca de Queiros\n",
      "dtype: object\n"
     ]
    },
    {
     "data": {
      "application/vnd.jupyter.widget-view+json": {
       "model_id": "0b67494d01fe436cb105287ba7419ddd",
       "version_major": 2,
       "version_minor": 0
      },
      "text/plain": [
       "HBox(children=(IntProgress(value=0, max=4092), HTML(value='')))"
      ]
     },
     "metadata": {},
     "output_type": "display_data"
    },
    {
     "name": "stdout",
     "output_type": "stream",
     "text": [
      "0    Eca de Queiros\n",
      "dtype: object\n"
     ]
    },
    {
     "data": {
      "application/vnd.jupyter.widget-view+json": {
       "model_id": "dae74887aa49423090c41a6b1fc51eef",
       "version_major": 2,
       "version_minor": 0
      },
      "text/plain": [
       "HBox(children=(IntProgress(value=0, max=4092), HTML(value='')))"
      ]
     },
     "metadata": {},
     "output_type": "display_data"
    },
    {
     "name": "stdout",
     "output_type": "stream",
     "text": [
      "0    Eca de Queiros\n",
      "dtype: object\n"
     ]
    },
    {
     "data": {
      "application/vnd.jupyter.widget-view+json": {
       "model_id": "c456f0e4f37948e0822fea624eb0e8e6",
       "version_major": 2,
       "version_minor": 0
      },
      "text/plain": [
       "HBox(children=(IntProgress(value=0, max=4092), HTML(value='')))"
      ]
     },
     "metadata": {},
     "output_type": "display_data"
    },
    {
     "name": "stdout",
     "output_type": "stream",
     "text": [
      "0    Eca de Queiros\n",
      "dtype: object\n"
     ]
    },
    {
     "data": {
      "application/vnd.jupyter.widget-view+json": {
       "model_id": "6e85d7f2b4014fdf8d3c5a50d707b679",
       "version_major": 2,
       "version_minor": 0
      },
      "text/plain": [
       "HBox(children=(IntProgress(value=0, max=4092), HTML(value='')))"
      ]
     },
     "metadata": {},
     "output_type": "display_data"
    },
    {
     "name": "stdout",
     "output_type": "stream",
     "text": [
      "0    Eca de Queiros\n",
      "dtype: object\n"
     ]
    },
    {
     "data": {
      "application/vnd.jupyter.widget-view+json": {
       "model_id": "da8d9b181852464da7f56e6677092c9d",
       "version_major": 2,
       "version_minor": 0
      },
      "text/plain": [
       "HBox(children=(IntProgress(value=0, max=4092), HTML(value='')))"
      ]
     },
     "metadata": {},
     "output_type": "display_data"
    },
    {
     "name": "stdout",
     "output_type": "stream",
     "text": [
      "0    Eca de Queiros\n",
      "dtype: object\n"
     ]
    },
    {
     "data": {
      "application/vnd.jupyter.widget-view+json": {
       "model_id": "1fdd1ba4da6f49da941617834f254128",
       "version_major": 2,
       "version_minor": 0
      },
      "text/plain": [
       "HBox(children=(IntProgress(value=0, max=4092), HTML(value='')))"
      ]
     },
     "metadata": {},
     "output_type": "display_data"
    },
    {
     "name": "stdout",
     "output_type": "stream",
     "text": [
      "0    Eca de Queiros\n",
      "dtype: object\n"
     ]
    },
    {
     "data": {
      "application/vnd.jupyter.widget-view+json": {
       "model_id": "9d46bbe7b45245ce835ff2e74ddcfe57",
       "version_major": 2,
       "version_minor": 0
      },
      "text/plain": [
       "HBox(children=(IntProgress(value=0, max=4092), HTML(value='')))"
      ]
     },
     "metadata": {},
     "output_type": "display_data"
    },
    {
     "name": "stdout",
     "output_type": "stream",
     "text": [
      "0    Eca de Queiros\n",
      "dtype: object\n"
     ]
    },
    {
     "data": {
      "application/vnd.jupyter.widget-view+json": {
       "model_id": "575b924d10da45979c565861ac877309",
       "version_major": 2,
       "version_minor": 0
      },
      "text/plain": [
       "HBox(children=(IntProgress(value=0, max=4092), HTML(value='')))"
      ]
     },
     "metadata": {},
     "output_type": "display_data"
    },
    {
     "name": "stdout",
     "output_type": "stream",
     "text": [
      "0    Eca de Queiros\n",
      "dtype: object\n"
     ]
    },
    {
     "data": {
      "application/vnd.jupyter.widget-view+json": {
       "model_id": "b941838cf1014c5d9a45dc5bb994148f",
       "version_major": 2,
       "version_minor": 0
      },
      "text/plain": [
       "HBox(children=(IntProgress(value=0, max=4092), HTML(value='')))"
      ]
     },
     "metadata": {},
     "output_type": "display_data"
    },
    {
     "name": "stdout",
     "output_type": "stream",
     "text": [
      "0    Eca de Queiros\n",
      "dtype: object\n"
     ]
    },
    {
     "data": {
      "application/vnd.jupyter.widget-view+json": {
       "model_id": "b9ac6583b8db4f7abe5189dc3a16a3d1",
       "version_major": 2,
       "version_minor": 0
      },
      "text/plain": [
       "HBox(children=(IntProgress(value=0, max=4092), HTML(value='')))"
      ]
     },
     "metadata": {},
     "output_type": "display_data"
    },
    {
     "name": "stdout",
     "output_type": "stream",
     "text": [
      "0    Eca de Queiros\n",
      "dtype: object\n"
     ]
    },
    {
     "data": {
      "application/vnd.jupyter.widget-view+json": {
       "model_id": "8924ee2a2b83429c910aeed8c7840de3",
       "version_major": 2,
       "version_minor": 0
      },
      "text/plain": [
       "HBox(children=(IntProgress(value=0, max=4092), HTML(value='')))"
      ]
     },
     "metadata": {},
     "output_type": "display_data"
    },
    {
     "name": "stdout",
     "output_type": "stream",
     "text": [
      "0    Eca de Queiros\n",
      "dtype: object\n"
     ]
    },
    {
     "data": {
      "application/vnd.jupyter.widget-view+json": {
       "model_id": "c86e6d7095f94acaaac9a473fe20168d",
       "version_major": 2,
       "version_minor": 0
      },
      "text/plain": [
       "HBox(children=(IntProgress(value=0, max=4092), HTML(value='')))"
      ]
     },
     "metadata": {},
     "output_type": "display_data"
    },
    {
     "ename": "KeyboardInterrupt",
     "evalue": "",
     "output_type": "error",
     "traceback": [
      "\u001b[1;31m---------------------------------------------------------------------------\u001b[0m",
      "\u001b[1;31mKeyboardInterrupt\u001b[0m                         Traceback (most recent call last)",
      "\u001b[1;32m<ipython-input-123-467a60249486>\u001b[0m in \u001b[0;36m<module>\u001b[1;34m\u001b[0m\n\u001b[1;32m----> 1\u001b[1;33m \u001b[0mdummy_algorithm\u001b[0m\u001b[1;33m(\u001b[0m\u001b[0mcorpora_train_1\u001b[0m\u001b[1;33m,\u001b[0m\u001b[0mcorpora_test_1\u001b[0m\u001b[1;33m,\u001b[0m\u001b[1;36m5\u001b[0m\u001b[1;33m)\u001b[0m\u001b[1;33m\u001b[0m\u001b[1;33m\u001b[0m\u001b[0m\n\u001b[0m",
      "\u001b[1;32m<ipython-input-122-975e84c74a58>\u001b[0m in \u001b[0;36mdummy_algorithm\u001b[1;34m(train, test, k)\u001b[0m\n\u001b[0;32m     10\u001b[0m             \u001b[1;31m#if the word in the corpora text is also in the text we want to classify then the corpora text gets a point\u001b[0m\u001b[1;33m\u001b[0m\u001b[1;33m\u001b[0m\u001b[1;33m\u001b[0m\u001b[0m\n\u001b[0;32m     11\u001b[0m             \u001b[1;32mfor\u001b[0m \u001b[0mword\u001b[0m \u001b[1;32min\u001b[0m \u001b[0mtext\u001b[0m\u001b[1;33m:\u001b[0m\u001b[1;33m\u001b[0m\u001b[1;33m\u001b[0m\u001b[0m\n\u001b[1;32m---> 12\u001b[1;33m                 \u001b[1;32mif\u001b[0m \u001b[0mword\u001b[0m \u001b[1;32min\u001b[0m \u001b[0mcorpora\u001b[0m\u001b[1;33m[\u001b[0m\u001b[1;34m'500 Word List'\u001b[0m\u001b[1;33m]\u001b[0m\u001b[1;33m[\u001b[0m\u001b[0mi\u001b[0m\u001b[1;33m]\u001b[0m\u001b[1;33m:\u001b[0m\u001b[1;33m\u001b[0m\u001b[1;33m\u001b[0m\u001b[0m\n\u001b[0m\u001b[0;32m     13\u001b[0m                     \u001b[0msim\u001b[0m \u001b[1;33m+=\u001b[0m \u001b[1;36m1\u001b[0m\u001b[1;33m\u001b[0m\u001b[1;33m\u001b[0m\u001b[0m\n\u001b[0;32m     14\u001b[0m \u001b[1;33m\u001b[0m\u001b[0m\n",
      "\u001b[1;32m~\\Anaconda3\\lib\\site-packages\\pandas\\core\\series.py\u001b[0m in \u001b[0;36m__getitem__\u001b[1;34m(self, key)\u001b[0m\n\u001b[0;32m    866\u001b[0m         \u001b[0mkey\u001b[0m \u001b[1;33m=\u001b[0m \u001b[0mcom\u001b[0m\u001b[1;33m.\u001b[0m\u001b[0mapply_if_callable\u001b[0m\u001b[1;33m(\u001b[0m\u001b[0mkey\u001b[0m\u001b[1;33m,\u001b[0m \u001b[0mself\u001b[0m\u001b[1;33m)\u001b[0m\u001b[1;33m\u001b[0m\u001b[1;33m\u001b[0m\u001b[0m\n\u001b[0;32m    867\u001b[0m         \u001b[1;32mtry\u001b[0m\u001b[1;33m:\u001b[0m\u001b[1;33m\u001b[0m\u001b[1;33m\u001b[0m\u001b[0m\n\u001b[1;32m--> 868\u001b[1;33m             \u001b[0mresult\u001b[0m \u001b[1;33m=\u001b[0m \u001b[0mself\u001b[0m\u001b[1;33m.\u001b[0m\u001b[0mindex\u001b[0m\u001b[1;33m.\u001b[0m\u001b[0mget_value\u001b[0m\u001b[1;33m(\u001b[0m\u001b[0mself\u001b[0m\u001b[1;33m,\u001b[0m \u001b[0mkey\u001b[0m\u001b[1;33m)\u001b[0m\u001b[1;33m\u001b[0m\u001b[1;33m\u001b[0m\u001b[0m\n\u001b[0m\u001b[0;32m    869\u001b[0m \u001b[1;33m\u001b[0m\u001b[0m\n\u001b[0;32m    870\u001b[0m             \u001b[1;32mif\u001b[0m \u001b[1;32mnot\u001b[0m \u001b[0mis_scalar\u001b[0m\u001b[1;33m(\u001b[0m\u001b[0mresult\u001b[0m\u001b[1;33m)\u001b[0m\u001b[1;33m:\u001b[0m\u001b[1;33m\u001b[0m\u001b[1;33m\u001b[0m\u001b[0m\n",
      "\u001b[1;32m~\\Anaconda3\\lib\\site-packages\\pandas\\core\\indexes\\base.py\u001b[0m in \u001b[0;36mget_value\u001b[1;34m(self, series, key)\u001b[0m\n\u001b[0;32m   4370\u001b[0m         \u001b[0mk\u001b[0m \u001b[1;33m=\u001b[0m \u001b[0mcom\u001b[0m\u001b[1;33m.\u001b[0m\u001b[0mvalues_from_object\u001b[0m\u001b[1;33m(\u001b[0m\u001b[0mkey\u001b[0m\u001b[1;33m)\u001b[0m\u001b[1;33m\u001b[0m\u001b[1;33m\u001b[0m\u001b[0m\n\u001b[0;32m   4371\u001b[0m \u001b[1;33m\u001b[0m\u001b[0m\n\u001b[1;32m-> 4372\u001b[1;33m         \u001b[0mk\u001b[0m \u001b[1;33m=\u001b[0m \u001b[0mself\u001b[0m\u001b[1;33m.\u001b[0m\u001b[0m_convert_scalar_indexer\u001b[0m\u001b[1;33m(\u001b[0m\u001b[0mk\u001b[0m\u001b[1;33m,\u001b[0m \u001b[0mkind\u001b[0m\u001b[1;33m=\u001b[0m\u001b[1;34m'getitem'\u001b[0m\u001b[1;33m)\u001b[0m\u001b[1;33m\u001b[0m\u001b[1;33m\u001b[0m\u001b[0m\n\u001b[0m\u001b[0;32m   4373\u001b[0m         \u001b[1;32mtry\u001b[0m\u001b[1;33m:\u001b[0m\u001b[1;33m\u001b[0m\u001b[1;33m\u001b[0m\u001b[0m\n\u001b[0;32m   4374\u001b[0m             return self._engine.get_value(s, k,\n",
      "\u001b[1;32m~\\Anaconda3\\lib\\site-packages\\pandas\\core\\indexes\\numeric.py\u001b[0m in \u001b[0;36m_convert_scalar_indexer\u001b[1;34m(self, key, kind)\u001b[0m\n\u001b[0;32m    209\u001b[0m             \u001b[0mkey\u001b[0m \u001b[1;33m=\u001b[0m \u001b[0mself\u001b[0m\u001b[1;33m.\u001b[0m\u001b[0m_maybe_cast_indexer\u001b[0m\u001b[1;33m(\u001b[0m\u001b[0mkey\u001b[0m\u001b[1;33m)\u001b[0m\u001b[1;33m\u001b[0m\u001b[1;33m\u001b[0m\u001b[0m\n\u001b[0;32m    210\u001b[0m         return (super(Int64Index, self)\n\u001b[1;32m--> 211\u001b[1;33m                 ._convert_scalar_indexer(key, kind=kind))\n\u001b[0m\u001b[0;32m    212\u001b[0m \u001b[1;33m\u001b[0m\u001b[0m\n\u001b[0;32m    213\u001b[0m     \u001b[1;32mdef\u001b[0m \u001b[0m_wrap_joined_index\u001b[0m\u001b[1;33m(\u001b[0m\u001b[0mself\u001b[0m\u001b[1;33m,\u001b[0m \u001b[0mjoined\u001b[0m\u001b[1;33m,\u001b[0m \u001b[0mother\u001b[0m\u001b[1;33m)\u001b[0m\u001b[1;33m:\u001b[0m\u001b[1;33m\u001b[0m\u001b[1;33m\u001b[0m\u001b[0m\n",
      "\u001b[1;31mKeyboardInterrupt\u001b[0m: "
     ]
    }
   ],
   "source": [
    "dummy_algorithm(corpora_train_1,corpora_test_1,5)"
   ]
  }
 ],
 "metadata": {
  "kernelspec": {
   "display_name": "Python 3",
   "language": "python",
   "name": "python3"
  },
  "language_info": {
   "codemirror_mode": {
    "name": "ipython",
    "version": 3
   },
   "file_extension": ".py",
   "mimetype": "text/x-python",
   "name": "python",
   "nbconvert_exporter": "python",
   "pygments_lexer": "ipython3",
   "version": "3.7.3"
  }
 },
 "nbformat": 4,
 "nbformat_minor": 2
}
