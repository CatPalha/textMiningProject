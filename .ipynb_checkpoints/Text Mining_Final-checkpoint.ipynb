{
 "cells": [
  {
   "cell_type": "markdown",
   "metadata": {},
   "source": [
    "# Text Mining"
   ]
  },
  {
   "cell_type": "markdown",
   "metadata": {},
   "source": [
    "## Load necessary packages"
   ]
  },
  {
   "cell_type": "code",
   "execution_count": 1,
   "metadata": {},
   "outputs": [],
   "source": [
    "from pathlib import Path\n",
    "import pandas as pd\n",
    "import numpy as np\n",
    "import nltk\n",
    "import matplotlib.pyplot as plt\n",
    "from tqdm import tqdm_notebook as tqdm\n",
    "from math import ceil\n",
    "\n",
    "#preprocessing\n",
    "from unidecode import unidecode\n",
    "import re\n",
    "from nltk.corpus import stopwords\n",
    "from bs4 import BeautifulSoup\n",
    "from nltk.stem import SnowballStemmer\n",
    "from nltk.stem import RSLPStemmer\n",
    "\n",
    "#train/test split\n",
    "from sklearn.model_selection import StratifiedKFold\n",
    "\n",
    "#vectorization\n",
    "from sklearn.feature_extraction.text import CountVectorizer\n",
    "from sklearn.feature_extraction.text import TfidfVectorizer\n",
    "\n",
    "#ML models\n",
    "from sklearn.neighbors import KNeighborsClassifier\n",
    "from sklearn.naive_bayes import MultinomialNB\n",
    "from sklearn.svm import SVC\n",
    "from sklearn.tree import DecisionTreeClassifier\n",
    "from sklearn.linear_model import LogisticRegression\n",
    "\n",
    "#performance metrics\n",
    "from sklearn.metrics import accuracy_score\n",
    "from sklearn.metrics import recall_score\n",
    "from sklearn.metrics import confusion_matrix\n",
    "from sklearn.metrics import classification_report, confusion_matrix"
   ]
  },
  {
   "cell_type": "code",
   "execution_count": 2,
   "metadata": {},
   "outputs": [],
   "source": [
    "import warnings\n",
    "warnings.filterwarnings(\"ignore\")"
   ]
  },
  {
   "cell_type": "code",
   "execution_count": 3,
   "metadata": {},
   "outputs": [
    {
     "name": "stderr",
     "output_type": "stream",
     "text": [
      "[nltk_data] Downloading package rslp to\n",
      "[nltk_data]     C:\\Users\\Mafalda\\AppData\\Roaming\\nltk_data...\n",
      "[nltk_data]   Package rslp is already up-to-date!\n"
     ]
    },
    {
     "data": {
      "text/plain": [
       "True"
      ]
     },
     "execution_count": 3,
     "metadata": {},
     "output_type": "execute_result"
    }
   ],
   "source": [
    "nltk.download('rslp')"
   ]
  },
  {
   "cell_type": "markdown",
   "metadata": {},
   "source": [
    "## Load corpora"
   ]
  },
  {
   "cell_type": "code",
   "execution_count": 4,
   "metadata": {},
   "outputs": [],
   "source": [
    "def load_corpora(filelist,author=None):\n",
    "    \"\"\"\n",
    "    Function that receives a list of document locations (filelist) and extracts\n",
    "        and saves them in a Pandas DataFrame with the corresponding author.\n",
    "        \n",
    "    :param filelist: list of document locations (strings)\n",
    "    :param author: str with the author of the texts in filelist (default: None)\n",
    "             \n",
    "    :return: Returns a Pandas DataFrame in which the first column contains\n",
    "        the extracted text and the second column contains the respective author\n",
    "    \"\"\"\n",
    "    files = []\n",
    "    \n",
    "    for file in filelist:\n",
    "        location = \"Corpora/\"+file\n",
    "        # save the document as a string\n",
    "        corpus = Path(location).read_text(encoding=\"utf8\")\n",
    "        # get all strings on a list\n",
    "        files.append(corpus)\n",
    "    \n",
    "    # create a Pandas DataFrame with the text and the respective author\n",
    "    df = pd.DataFrame(files, columns=['Text'])\n",
    "    df['Author'] = pd.Series([author for x in range(len(df.index))], index=df.index)\n",
    "    return df"
   ]
  },
  {
   "cell_type": "code",
   "execution_count": 5,
   "metadata": {},
   "outputs": [],
   "source": [
    "almada = [\n",
    "    'train/AlmadaNegreiros/pg22615.txt',\n",
    "    'train/AlmadaNegreiros/pg22730.txt',\n",
    "    'train/AlmadaNegreiros/pg22801.txt',\n",
    "    'train/AlmadaNegreiros/pg22802.txt',\n",
    "    'train/AlmadaNegreiros/pg22969.txt',\n",
    "    'train/AlmadaNegreiros/pg23133.txt',\n",
    "    'train/AlmadaNegreiros/pg23620.txt',\n",
    "    'train/AlmadaNegreiros/pg23879.txt',\n",
    "    'train/AlmadaNegreiros/pg23961.txt'\n",
    "]\n",
    "\n",
    "corpora_almada = load_corpora(almada, 'Almada Negreiros')"
   ]
  },
  {
   "cell_type": "code",
   "execution_count": 6,
   "metadata": {},
   "outputs": [],
   "source": [
    "camilo = [\n",
    "    'train/CamiloCasteloBranco/24691-0.txt',\n",
    "    'train/CamiloCasteloBranco/34756-0.txt',\n",
    "    'train/CamiloCasteloBranco/pg16425.txt',\n",
    "    'train/CamiloCasteloBranco/pg17927.txt',\n",
    "    'train/CamiloCasteloBranco/pg19375.txt',\n",
    "    'train/CamiloCasteloBranco/pg21406.txt',\n",
    "    'train/CamiloCasteloBranco/pg23203.txt',\n",
    "    'train/CamiloCasteloBranco/pg23345.txt',\n",
    "    'train/CamiloCasteloBranco/pg23346.txt',\n",
    "    'train/CamiloCasteloBranco/pg24339.txt',\n",
    "    'train/CamiloCasteloBranco/pg25844.txt',\n",
    "    'train/CamiloCasteloBranco/pg26017.txt',\n",
    "    'train/CamiloCasteloBranco/pg26103.txt',\n",
    "    'train/CamiloCasteloBranco/pg26110.txt',\n",
    "    'train/CamiloCasteloBranco/pg26988.txt',\n",
    "    'train/CamiloCasteloBranco/pg27364.txt',\n",
    "    'train/CamiloCasteloBranco/pg27541.txt',\n",
    "    'train/CamiloCasteloBranco/pg28310.txt',\n",
    "    'train/CamiloCasteloBranco/pg31694.txt',\n",
    "    'train/CamiloCasteloBranco/pg33788.txt',\n",
    "]\n",
    "\n",
    "corpora_camilo = load_corpora(camilo, 'Camilo Castelo Branco')"
   ]
  },
  {
   "cell_type": "code",
   "execution_count": 7,
   "metadata": {},
   "outputs": [],
   "source": [
    "eca = [\n",
    "    'train/EcaDeQueiros/pg18220.txt',\n",
    "    'train/EcaDeQueiros/pg25641.txt',\n",
    "    'train/EcaDeQueiros/pg27637.txt',\n",
    "    'train/EcaDeQueiros/pg31347.txt',\n",
    "    'train/EcaDeQueiros/pg40409.txt'\n",
    "]\n",
    "\n",
    "corpora_eca = load_corpora(eca, 'Eca de Queiros')"
   ]
  },
  {
   "cell_type": "code",
   "execution_count": 8,
   "metadata": {},
   "outputs": [],
   "source": [
    "rodrigues_santos = [\n",
    "    'train/JoseRodriguesSantos/A Filha Do Capitao - Jose Rodrigues dos Santos.txt',\n",
    "    'train/JoseRodriguesSantos/A Formula De Deus - Jose Rodrigues dos Santos.txt',\n",
    "    'train/JoseRodriguesSantos/A Mao do Diabo - Jose Rodrigues dos Santos.txt',\n",
    "    'train/JoseRodriguesSantos/A Vida Num Sopro - Jose Rodrigues dos Santos.txt',\n",
    "    'train/JoseRodriguesSantos/Furia Divina - Jose Rodrigues dos Santos.txt',\n",
    "    'train/JoseRodriguesSantos/O Anjo Branco - Jose Rodrigues dos Santos.txt',\n",
    "    'train/JoseRodriguesSantos/O Setimo Selo - Jose Rodrigues dos Santos.txt',\n",
    "    'train/JoseRodriguesSantos/O ultimo Segredo - Jose Rodrigues dos Santos.txt'\n",
    "]\n",
    "\n",
    "corpora_rodrigues_santos = load_corpora(rodrigues_santos, 'Jose Rodrigues dos Santos')"
   ]
  },
  {
   "cell_type": "code",
   "execution_count": 9,
   "metadata": {},
   "outputs": [],
   "source": [
    "saramago = [\n",
    "    'train/JoseSaramago/A Caverna - Jose Saramago.txt',\n",
    "    'train/JoseSaramago/As Intermitencias da Morte - Jose Saramago.txt',\n",
    "    'train/JoseSaramago/Caim - Jose Saramago.txt',\n",
    "    'train/JoseSaramago/Claraboia - Jose Saramago.txt',\n",
    "    'train/JoseSaramago/Ensaio Sobre a Cegueira - Jose Saramago.txt',\n",
    "    'train/JoseSaramago/Historia Do Cerco De Lisboa - Jose Saramago.txt',\n",
    "    'train/JoseSaramago/Memorial Do Convento - Jose Saramago.txt',\n",
    "    'train/JoseSaramago/O Ano Da Morte De Ricardo Reis - Jose Saramago.txt',\n",
    "    'train/JoseSaramago/O Conto Da Ilha Desconhecida - Jose Saramago.txt',\n",
    "    'train/JoseSaramago/O Homem Duplicado - Jose Saramago.txt',\n",
    "    'train/JoseSaramago/Terra Do Pecado - Jose Saramago.txt',\n",
    "    'train/JoseSaramago/Viagem Do Elefante - Jose Saramago.txt'\n",
    "]\n",
    "\n",
    "corpora_saramago = load_corpora(saramago, 'Jose Saramago')"
   ]
  },
  {
   "cell_type": "code",
   "execution_count": 10,
   "metadata": {},
   "outputs": [],
   "source": [
    "luisa = [\n",
    "    'train/LuisaMarquesSilva/ABelaHistoria.txt',\n",
    "    'train/LuisaMarquesSilva/acabouSe.txt',\n",
    "    'train/LuisaMarquesSilva/Botão.txt',\n",
    "    'train/LuisaMarquesSilva/controlz.txt',\n",
    "    'train/LuisaMarquesSilva/emedo.txt',\n",
    "    'train/LuisaMarquesSilva/Lisboa2050.txt',\n",
    "    'train/LuisaMarquesSilva/passeioInferno.txt',\n",
    "    'train/LuisaMarquesSilva/rapsodiasemdo.txt',\n",
    "    'train/LuisaMarquesSilva/UltimaHistoria.txt'\n",
    "]\n",
    "\n",
    "corpora_luisa = load_corpora(luisa, 'Luisa Marques Silva')"
   ]
  },
  {
   "cell_type": "code",
   "execution_count": 11,
   "metadata": {},
   "outputs": [
    {
     "data": {
      "text/html": [
       "<div>\n",
       "<style scoped>\n",
       "    .dataframe tbody tr th:only-of-type {\n",
       "        vertical-align: middle;\n",
       "    }\n",
       "\n",
       "    .dataframe tbody tr th {\n",
       "        vertical-align: top;\n",
       "    }\n",
       "\n",
       "    .dataframe thead th {\n",
       "        text-align: right;\n",
       "    }\n",
       "</style>\n",
       "<table border=\"1\" class=\"dataframe\">\n",
       "  <thead>\n",
       "    <tr style=\"text-align: right;\">\n",
       "      <th></th>\n",
       "      <th>Text</th>\n",
       "      <th>Author</th>\n",
       "    </tr>\n",
       "  </thead>\n",
       "  <tbody>\n",
       "    <tr>\n",
       "      <th>0</th>\n",
       "      <td>Title: A Scena do Odio\\n\\nAuthor: José de Alma...</td>\n",
       "      <td>Almada Negreiros</td>\n",
       "    </tr>\n",
       "    <tr>\n",
       "      <th>1</th>\n",
       "      <td>Title: O Jardim da Pierrette\\n\\nAuthor: José d...</td>\n",
       "      <td>Almada Negreiros</td>\n",
       "    </tr>\n",
       "    <tr>\n",
       "      <th>2</th>\n",
       "      <td>\\n\\nTitle: A Invenção do Dia Claro\\n\\nAuthor: ...</td>\n",
       "      <td>Almada Negreiros</td>\n",
       "    </tr>\n",
       "    <tr>\n",
       "      <th>3</th>\n",
       "      <td>\\nTitle: Litoral\\n       A Amadeo de Souza Car...</td>\n",
       "      <td>Almada Negreiros</td>\n",
       "    </tr>\n",
       "    <tr>\n",
       "      <th>4</th>\n",
       "      <td>\\n\\n\\nEXPOSIÇÃO\\n\\n+amadeo\\nde souza\\ncardoso+...</td>\n",
       "      <td>Almada Negreiros</td>\n",
       "    </tr>\n",
       "  </tbody>\n",
       "</table>\n",
       "</div>"
      ],
      "text/plain": [
       "                                                Text            Author\n",
       "0  Title: A Scena do Odio\\n\\nAuthor: José de Alma...  Almada Negreiros\n",
       "1  Title: O Jardim da Pierrette\\n\\nAuthor: José d...  Almada Negreiros\n",
       "2  \\n\\nTitle: A Invenção do Dia Claro\\n\\nAuthor: ...  Almada Negreiros\n",
       "3  \\nTitle: Litoral\\n       A Amadeo de Souza Car...  Almada Negreiros\n",
       "4  \\n\\n\\nEXPOSIÇÃO\\n\\n+amadeo\\nde souza\\ncardoso+...  Almada Negreiros"
      ]
     },
     "execution_count": 11,
     "metadata": {},
     "output_type": "execute_result"
    }
   ],
   "source": [
    "corpora = pd.concat([corpora_almada, corpora_camilo, corpora_eca, corpora_rodrigues_santos, corpora_saramago, corpora_luisa]).reset_index(drop = True)\n",
    "corpora.head()"
   ]
  },
  {
   "cell_type": "code",
   "execution_count": 12,
   "metadata": {},
   "outputs": [
    {
     "data": {
      "text/html": [
       "<div>\n",
       "<style scoped>\n",
       "    .dataframe tbody tr th:only-of-type {\n",
       "        vertical-align: middle;\n",
       "    }\n",
       "\n",
       "    .dataframe tbody tr th {\n",
       "        vertical-align: top;\n",
       "    }\n",
       "\n",
       "    .dataframe thead th {\n",
       "        text-align: right;\n",
       "    }\n",
       "</style>\n",
       "<table border=\"1\" class=\"dataframe\">\n",
       "  <thead>\n",
       "    <tr style=\"text-align: right;\">\n",
       "      <th></th>\n",
       "      <th>Text</th>\n",
       "      <th>Author</th>\n",
       "      <th>Word Count</th>\n",
       "    </tr>\n",
       "  </thead>\n",
       "  <tbody>\n",
       "    <tr>\n",
       "      <th>0</th>\n",
       "      <td>Title: A Scena do Odio\\n\\nAuthor: José de Alma...</td>\n",
       "      <td>Almada Negreiros</td>\n",
       "      <td>1456</td>\n",
       "    </tr>\n",
       "    <tr>\n",
       "      <th>1</th>\n",
       "      <td>Title: O Jardim da Pierrette\\n\\nAuthor: José d...</td>\n",
       "      <td>Almada Negreiros</td>\n",
       "      <td>280</td>\n",
       "    </tr>\n",
       "    <tr>\n",
       "      <th>2</th>\n",
       "      <td>\\n\\nTitle: A Invenção do Dia Claro\\n\\nAuthor: ...</td>\n",
       "      <td>Almada Negreiros</td>\n",
       "      <td>6212</td>\n",
       "    </tr>\n",
       "    <tr>\n",
       "      <th>3</th>\n",
       "      <td>\\nTitle: Litoral\\n       A Amadeo de Souza Car...</td>\n",
       "      <td>Almada Negreiros</td>\n",
       "      <td>1225</td>\n",
       "    </tr>\n",
       "    <tr>\n",
       "      <th>4</th>\n",
       "      <td>\\n\\n\\nEXPOSIÇÃO\\n\\n+amadeo\\nde souza\\ncardoso+...</td>\n",
       "      <td>Almada Negreiros</td>\n",
       "      <td>521</td>\n",
       "    </tr>\n",
       "  </tbody>\n",
       "</table>\n",
       "</div>"
      ],
      "text/plain": [
       "                                                Text            Author  \\\n",
       "0  Title: A Scena do Odio\\n\\nAuthor: José de Alma...  Almada Negreiros   \n",
       "1  Title: O Jardim da Pierrette\\n\\nAuthor: José d...  Almada Negreiros   \n",
       "2  \\n\\nTitle: A Invenção do Dia Claro\\n\\nAuthor: ...  Almada Negreiros   \n",
       "3  \\nTitle: Litoral\\n       A Amadeo de Souza Car...  Almada Negreiros   \n",
       "4  \\n\\n\\nEXPOSIÇÃO\\n\\n+amadeo\\nde souza\\ncardoso+...  Almada Negreiros   \n",
       "\n",
       "   Word Count  \n",
       "0        1456  \n",
       "1         280  \n",
       "2        6212  \n",
       "3        1225  \n",
       "4         521  "
      ]
     },
     "execution_count": 12,
     "metadata": {},
     "output_type": "execute_result"
    }
   ],
   "source": [
    "# get the word count for all the documents\n",
    "word_count = corpora['Text'].apply(lambda x: len(str(x).split(\" \")))\n",
    "corpora['Word Count'] = word_count\n",
    "\n",
    "corpora.head()"
   ]
  },
  {
   "cell_type": "markdown",
   "metadata": {},
   "source": [
    "It can be seen that the size of the documents is not homogenous"
   ]
  },
  {
   "cell_type": "markdown",
   "metadata": {},
   "source": [
    "## Data Exploration"
   ]
  },
  {
   "cell_type": "code",
   "execution_count": 13,
   "metadata": {},
   "outputs": [
    {
     "data": {
      "text/plain": [
       "count        63.000000\n",
       "mean      54152.460317\n",
       "std       52898.399211\n",
       "min         280.000000\n",
       "25%        6017.000000\n",
       "50%       46862.000000\n",
       "75%       77193.500000\n",
       "max      206090.000000\n",
       "Name: Word Count, dtype: float64"
      ]
     },
     "execution_count": 13,
     "metadata": {},
     "output_type": "execute_result"
    }
   ],
   "source": [
    "corpora['Word Count'].describe()"
   ]
  },
  {
   "cell_type": "code",
   "execution_count": 14,
   "metadata": {},
   "outputs": [
    {
     "data": {
      "text/html": [
       "<div>\n",
       "<style scoped>\n",
       "    .dataframe tbody tr th:only-of-type {\n",
       "        vertical-align: middle;\n",
       "    }\n",
       "\n",
       "    .dataframe tbody tr th {\n",
       "        vertical-align: top;\n",
       "    }\n",
       "\n",
       "    .dataframe thead th {\n",
       "        text-align: right;\n",
       "    }\n",
       "</style>\n",
       "<table border=\"1\" class=\"dataframe\">\n",
       "  <thead>\n",
       "    <tr style=\"text-align: right;\">\n",
       "      <th></th>\n",
       "      <th>Word Count</th>\n",
       "    </tr>\n",
       "    <tr>\n",
       "      <th>Author</th>\n",
       "      <th></th>\n",
       "    </tr>\n",
       "  </thead>\n",
       "  <tbody>\n",
       "    <tr>\n",
       "      <th>Almada Negreiros</th>\n",
       "      <td>43610</td>\n",
       "    </tr>\n",
       "    <tr>\n",
       "      <th>Camilo Castelo Branco</th>\n",
       "      <td>749872</td>\n",
       "    </tr>\n",
       "    <tr>\n",
       "      <th>Eca de Queiros</th>\n",
       "      <td>438367</td>\n",
       "    </tr>\n",
       "    <tr>\n",
       "      <th>Jose Rodrigues dos Santos</th>\n",
       "      <td>1131971</td>\n",
       "    </tr>\n",
       "    <tr>\n",
       "      <th>Jose Saramago</th>\n",
       "      <td>1006571</td>\n",
       "    </tr>\n",
       "    <tr>\n",
       "      <th>Luisa Marques Silva</th>\n",
       "      <td>41214</td>\n",
       "    </tr>\n",
       "  </tbody>\n",
       "</table>\n",
       "</div>"
      ],
      "text/plain": [
       "                           Word Count\n",
       "Author                               \n",
       "Almada Negreiros                43610\n",
       "Camilo Castelo Branco          749872\n",
       "Eca de Queiros                 438367\n",
       "Jose Rodrigues dos Santos     1131971\n",
       "Jose Saramago                 1006571\n",
       "Luisa Marques Silva             41214"
      ]
     },
     "execution_count": 14,
     "metadata": {},
     "output_type": "execute_result"
    }
   ],
   "source": [
    "corpora.groupby(['Author']).sum()"
   ]
  },
  {
   "cell_type": "markdown",
   "metadata": {},
   "source": [
    "It can be seen that some authors are undersampled"
   ]
  },
  {
   "cell_type": "code",
   "execution_count": 15,
   "metadata": {},
   "outputs": [],
   "source": [
    "all_words = ' '.join(corpora['Text']).split()"
   ]
  },
  {
   "cell_type": "code",
   "execution_count": 16,
   "metadata": {},
   "outputs": [],
   "source": [
    "# get the frequency of the words all over the corpora\n",
    "freq = pd.Series(all_words).value_counts()"
   ]
  },
  {
   "cell_type": "code",
   "execution_count": 17,
   "metadata": {},
   "outputs": [
    {
     "data": {
      "text/plain": [
       "a       127846\n",
       "de      120149\n",
       "que     113863\n",
       "o       103194\n",
       "e        88505\n",
       "do       42188\n",
       "não      40512\n",
       "da       37763\n",
       "um       36083\n",
       "se       35485\n",
       "os       33511\n",
       "com      33468\n",
       "para     32661\n",
       "em       27668\n",
       "uma      27231\n",
       "as       24655\n",
       "é        22983\n",
       "no       19842\n",
       "por      19786\n",
       "na       17721\n",
       "dtype: int64"
      ]
     },
     "execution_count": 17,
     "metadata": {},
     "output_type": "execute_result"
    }
   ],
   "source": [
    "freq[:20]"
   ]
  },
  {
   "cell_type": "code",
   "execution_count": 18,
   "metadata": {},
   "outputs": [
    {
     "data": {
      "text/plain": [
       "20"
      ]
     },
     "execution_count": 18,
     "metadata": {},
     "output_type": "execute_result"
    }
   ],
   "source": [
    "stop_words = set(stopwords.words(\"portuguese\"))\n",
    "count = 0\n",
    "\n",
    "# count the frequent words which are also stop words\n",
    "for word in freq.index[:20]:\n",
    "    if word in stop_words:\n",
    "        count += 1\n",
    "count"
   ]
  },
  {
   "cell_type": "markdown",
   "metadata": {},
   "source": [
    "The most common words are also stop words"
   ]
  },
  {
   "cell_type": "code",
   "execution_count": 19,
   "metadata": {},
   "outputs": [],
   "source": [
    "def get_top_n_grams(corpus, top_k, n):\n",
    "    \"\"\"\n",
    "    Function that receives a list of documents (corpus) and extracts\n",
    "        the top k most frequent n-grams for that corpus.\n",
    "        \n",
    "    :param corpus: list of texts\n",
    "    :param top_k: int with the number of n-grams that we want to extract\n",
    "    :param n: n gram type to be considered \n",
    "             (if n=1 extracts unigrams, if n=2 extracts bigrams, ...)\n",
    "             \n",
    "    :return: Returns a sorted Pandas DataFrame in which the first column \n",
    "        contains the extracted ngrams and the second column contains\n",
    "        the respective counts\n",
    "    \"\"\"\n",
    "    # get the top 2000 n-grams\n",
    "    vec = CountVectorizer(ngram_range=(n, n), max_features=2000).fit(corpus)\n",
    "    \n",
    "    bag_of_words = vec.transform(corpus)\n",
    "    \n",
    "    # count how many times a word appears in the corpora\n",
    "    sum_words = bag_of_words.sum(axis=0) \n",
    "    \n",
    "    words_freq = []\n",
    "    for word, idx in vec.vocabulary_.items():\n",
    "        words_freq.append((word, sum_words[0, idx]))\n",
    "        \n",
    "    # save the frequencies in a Pandas DataFrame\n",
    "    words_freq = sorted(words_freq, key=lambda x: x[1], reverse=True)\n",
    "    top_df = pd.DataFrame(words_freq[:top_k])\n",
    "    top_df.columns = [\"Ngram\", \"Freq\"]\n",
    "    return top_df"
   ]
  },
  {
   "cell_type": "code",
   "execution_count": 20,
   "metadata": {},
   "outputs": [],
   "source": [
    "def plot_frequencies(top_df):\n",
    "    \"\"\"\n",
    "    Function that receives a Pandas DataFrame from the \"get_top_n_grams\" function\n",
    "        and plots the frequencies in a bar plot.\n",
    "        \n",
    "    :param top_df: a sorted Pandas DataFrame in which the first column \n",
    "        contains the top k ngrams and the second column contains\n",
    "        the respective counts\n",
    "    \"\"\"\n",
    "    x_labels = top_df[\"Ngram\"][:30]\n",
    "    y_pos = np.arange(len(x_labels))\n",
    "    values = top_df[\"Freq\"][:30]\n",
    "    plt.bar(y_pos, values, align='center', alpha=0.5)\n",
    "    plt.xticks(y_pos, x_labels)\n",
    "    plt.ylabel('Frequencies')\n",
    "    plt.title('Words')\n",
    "    plt.xticks(rotation=90)\n",
    "    plt.show()"
   ]
  },
  {
   "cell_type": "code",
   "execution_count": 21,
   "metadata": {},
   "outputs": [
    {
     "data": {
      "image/png": "[encoded data removed]",
      "text/plain": [
       "<Figure size 432x288 with 1 Axes>"
      ]
     },
     "metadata": {
      "needs_background": "light"
     },
     "output_type": "display_data"
    },
    {
     "data": {
      "image/png": "[encoded data removed]",
      "text/plain": [
       "<Figure size 432x288 with 1 Axes>"
      ]
     },
     "metadata": {
      "needs_background": "light"
     },
     "output_type": "display_data"
    },
    {
     "data": {
      "image/png": "[encoded data removed]",
      "text/plain": [
       "<Figure size 432x288 with 1 Axes>"
      ]
     },
     "metadata": {
      "needs_background": "light"
     },
     "output_type": "display_data"
    },
    {
     "data": {
      "image/png": "[encoded data removed]",
      "text/plain": [
       "<Figure size 432x288 with 1 Axes>"
      ]
     },
     "metadata": {
      "needs_background": "light"
     },
     "output_type": "display_data"
    },
    {
     "data": {
      "image/png": "[encoded data removed]",
      "text/plain": [
       "<Figure size 432x288 with 1 Axes>"
      ]
     },
     "metadata": {
      "needs_background": "light"
     },
     "output_type": "display_data"
    }
   ],
   "source": [
    "# plot the distribution of the top 20 n-grams with n up to 5\n",
    "for i in range(1,6):\n",
    "    top = get_top_n_grams(corpora[\"Text\"], top_k=20, n=i)\n",
    "    plot_frequencies(top)"
   ]
  },
  {
   "cell_type": "markdown",
   "metadata": {},
   "source": [
    "## Preprocessing"
   ]
  },
  {
   "cell_type": "code",
   "execution_count": 22,
   "metadata": {},
   "outputs": [],
   "source": [
    "def preprocessing(dataframe,punctuation=False,tags=False,stemming=False,stemmer='snowball'):\n",
    "    \"\"\"\n",
    "    Function that receives a Pandas DataFrame with the texts and applies\n",
    "        the chosen preprocessing techiniques.\n",
    "        \n",
    "    :param dataframe: a Pandas DataFrame in which the first column \n",
    "        contains the estracted texts the second column contains the\n",
    "        respective authors\n",
    "    :param punctuation: bool determining whether or remove punctuation\n",
    "        and numbers or not (default: False)\n",
    "    :param tags: bool determining whether to remove tags or not\n",
    "        (default: False)\n",
    "    :param stemming: bool determining whether to perform stemming or not\n",
    "        (default: False)\n",
    "    :param stemmer: str specifying which stemmer to use (default: 'snowball')\n",
    "    \n",
    "             \n",
    "    :return: Returns a list of strings which correspond to each text after\n",
    "        preprocessing\n",
    "    \"\"\"\n",
    "    \n",
    "    processed_corpus = []\n",
    "    \n",
    "    stop_words_pt = set(stopwords.words(\"portuguese\"))\n",
    "    \n",
    "    # for each text in the Pandas DataFrame\n",
    "    for i in tqdm(range(len(dataframe))):\n",
    "        text = dataframe['Text'][i]\n",
    "                \n",
    "        # remove punctuation\n",
    "        if punctuation:\n",
    "            text = re.sub('[^a-zA-Z]', ' ', text)\n",
    "\n",
    "        # remove tags\n",
    "        if tags:\n",
    "            text = BeautifulSoup(text).get_text()\n",
    "        \n",
    "        # convert to list from str\n",
    "        text = text.split()\n",
    "\n",
    "        # stemming\n",
    "        if stemming:\n",
    "            # choose the stemmer\n",
    "            if stemmer == 'snowball':\n",
    "                stemmer_pt = SnowballStemmer('portuguese')\n",
    "            elif stemmer == 'rslp':\n",
    "                stemmer_pt = RSLPStemmer()\n",
    "            \n",
    "            # don't stem stop words so that they can still be detected\n",
    "            text = [stemmer_pt.stem(word) for word in text if not word in stop_words_pt]\n",
    "        \n",
    "        # convert to str from list\n",
    "        text = \" \".join(text)\n",
    "\n",
    "        # save the preprocessed text on a list\n",
    "        processed_corpus.append(text)\n",
    "    return processed_corpus"
   ]
  },
  {
   "cell_type": "markdown",
   "metadata": {},
   "source": [
    "## Tests"
   ]
  },
  {
   "cell_type": "code",
   "execution_count": 23,
   "metadata": {
    "scrolled": true
   },
   "outputs": [
    {
     "data": {
      "application/vnd.jupyter.widget-view+json": {
       "model_id": "358e3ed4a8ae47ee8b059c221dd96126",
       "version_major": 2,
       "version_minor": 0
      },
      "text/plain": [
       "HBox(children=(IntProgress(value=0, max=63), HTML(value='')))"
      ]
     },
     "metadata": {},
     "output_type": "display_data"
    },
    {
     "name": "stdout",
     "output_type": "stream",
     "text": [
      "\n"
     ]
    }
   ],
   "source": [
    "# preprocess the text and save it in a Pandas Series\n",
    "cleaned_corpora = preprocessing(\n",
    "    corpora,\n",
    "    #punctuation=True,\n",
    "    #tags=True,\n",
    "    stemming=True,\n",
    "    stemmer='rslp'\n",
    ")\n",
    "corpora['Clean Text'] = pd.Series(cleaned_corpora, index = corpora.index)"
   ]
  },
  {
   "cell_type": "code",
   "execution_count": 24,
   "metadata": {
    "scrolled": true
   },
   "outputs": [
    {
     "data": {
      "text/html": [
       "<div>\n",
       "<style scoped>\n",
       "    .dataframe tbody tr th:only-of-type {\n",
       "        vertical-align: middle;\n",
       "    }\n",
       "\n",
       "    .dataframe tbody tr th {\n",
       "        vertical-align: top;\n",
       "    }\n",
       "\n",
       "    .dataframe thead th {\n",
       "        text-align: right;\n",
       "    }\n",
       "</style>\n",
       "<table border=\"1\" class=\"dataframe\">\n",
       "  <thead>\n",
       "    <tr style=\"text-align: right;\">\n",
       "      <th></th>\n",
       "      <th>Text</th>\n",
       "      <th>Author</th>\n",
       "      <th>Word Count</th>\n",
       "      <th>Clean Text</th>\n",
       "    </tr>\n",
       "  </thead>\n",
       "  <tbody>\n",
       "    <tr>\n",
       "      <th>0</th>\n",
       "      <td>Title: A Scena do Odio\\n\\nAuthor: José de Alma...</td>\n",
       "      <td>Almada Negreiros</td>\n",
       "      <td>1456</td>\n",
       "      <td>title: a scen odi author: josé alm negr releas...</td>\n",
       "    </tr>\n",
       "    <tr>\n",
       "      <th>1</th>\n",
       "      <td>Title: O Jardim da Pierrette\\n\\nAuthor: José d...</td>\n",
       "      <td>Almada Negreiros</td>\n",
       "      <td>280</td>\n",
       "      <td>title: o jardim pierrett author: josé alm negr...</td>\n",
       "    </tr>\n",
       "    <tr>\n",
       "      <th>2</th>\n",
       "      <td>\\n\\nTitle: A Invenção do Dia Claro\\n\\nAuthor: ...</td>\n",
       "      <td>Almada Negreiros</td>\n",
       "      <td>6212</td>\n",
       "      <td>title: a invenç dia clar author: josé alm negr...</td>\n",
       "    </tr>\n",
       "    <tr>\n",
       "      <th>3</th>\n",
       "      <td>\\nTitle: Litoral\\n       A Amadeo de Souza Car...</td>\n",
       "      <td>Almada Negreiros</td>\n",
       "      <td>1225</td>\n",
       "      <td>title: litor a amade souz cardoz author: josé ...</td>\n",
       "    </tr>\n",
       "    <tr>\n",
       "      <th>4</th>\n",
       "      <td>\\n\\n\\nEXPOSIÇÃO\\n\\n+amadeo\\nde souza\\ncardoso+...</td>\n",
       "      <td>Almada Negreiros</td>\n",
       "      <td>521</td>\n",
       "      <td>expos +amade souz cardoso+ lig naval de lisbo ...</td>\n",
       "    </tr>\n",
       "  </tbody>\n",
       "</table>\n",
       "</div>"
      ],
      "text/plain": [
       "                                                Text            Author  \\\n",
       "0  Title: A Scena do Odio\\n\\nAuthor: José de Alma...  Almada Negreiros   \n",
       "1  Title: O Jardim da Pierrette\\n\\nAuthor: José d...  Almada Negreiros   \n",
       "2  \\n\\nTitle: A Invenção do Dia Claro\\n\\nAuthor: ...  Almada Negreiros   \n",
       "3  \\nTitle: Litoral\\n       A Amadeo de Souza Car...  Almada Negreiros   \n",
       "4  \\n\\n\\nEXPOSIÇÃO\\n\\n+amadeo\\nde souza\\ncardoso+...  Almada Negreiros   \n",
       "\n",
       "   Word Count                                         Clean Text  \n",
       "0        1456  title: a scen odi author: josé alm negr releas...  \n",
       "1         280  title: o jardim pierrett author: josé alm negr...  \n",
       "2        6212  title: a invenç dia clar author: josé alm negr...  \n",
       "3        1225  title: litor a amade souz cardoz author: josé ...  \n",
       "4         521  expos +amade souz cardoso+ lig naval de lisbo ...  "
      ]
     },
     "execution_count": 24,
     "metadata": {},
     "output_type": "execute_result"
    }
   ],
   "source": [
    "corpora.head()"
   ]
  },
  {
   "cell_type": "code",
   "execution_count": 25,
   "metadata": {},
   "outputs": [
    {
     "data": {
      "application/vnd.jupyter.widget-view+json": {
       "model_id": "caebc8804d1f44aeaf3f6bb57663c549",
       "version_major": 2,
       "version_minor": 0
      },
      "text/plain": [
       "HBox(children=(IntProgress(value=0, max=63), HTML(value='')))"
      ]
     },
     "metadata": {},
     "output_type": "display_data"
    },
    {
     "name": "stdout",
     "output_type": "stream",
     "text": [
      "\n"
     ]
    },
    {
     "data": {
      "text/html": [
       "<div>\n",
       "<style scoped>\n",
       "    .dataframe tbody tr th:only-of-type {\n",
       "        vertical-align: middle;\n",
       "    }\n",
       "\n",
       "    .dataframe tbody tr th {\n",
       "        vertical-align: top;\n",
       "    }\n",
       "\n",
       "    .dataframe thead th {\n",
       "        text-align: right;\n",
       "    }\n",
       "</style>\n",
       "<table border=\"1\" class=\"dataframe\">\n",
       "  <thead>\n",
       "    <tr style=\"text-align: right;\">\n",
       "      <th></th>\n",
       "      <th>Text</th>\n",
       "      <th>Author</th>\n",
       "      <th>Word Count</th>\n",
       "      <th>Clean Text</th>\n",
       "      <th>Word List</th>\n",
       "    </tr>\n",
       "  </thead>\n",
       "  <tbody>\n",
       "    <tr>\n",
       "      <th>0</th>\n",
       "      <td>Title: A Scena do Odio\\n\\nAuthor: José de Alma...</td>\n",
       "      <td>Almada Negreiros</td>\n",
       "      <td>1456</td>\n",
       "      <td>title: a scen odi author: josé alm negr releas...</td>\n",
       "      <td>[title:, a, scen, odi, author:, josé, alm, neg...</td>\n",
       "    </tr>\n",
       "    <tr>\n",
       "      <th>1</th>\n",
       "      <td>Title: O Jardim da Pierrette\\n\\nAuthor: José d...</td>\n",
       "      <td>Almada Negreiros</td>\n",
       "      <td>280</td>\n",
       "      <td>title: o jardim pierrett author: josé alm negr...</td>\n",
       "      <td>[title:, o, jardim, pierrett, author:, josé, a...</td>\n",
       "    </tr>\n",
       "    <tr>\n",
       "      <th>2</th>\n",
       "      <td>\\n\\nTitle: A Invenção do Dia Claro\\n\\nAuthor: ...</td>\n",
       "      <td>Almada Negreiros</td>\n",
       "      <td>6212</td>\n",
       "      <td>title: a invenç dia clar author: josé alm negr...</td>\n",
       "      <td>[title:, a, invenç, dia, clar, author:, josé, ...</td>\n",
       "    </tr>\n",
       "    <tr>\n",
       "      <th>3</th>\n",
       "      <td>\\nTitle: Litoral\\n       A Amadeo de Souza Car...</td>\n",
       "      <td>Almada Negreiros</td>\n",
       "      <td>1225</td>\n",
       "      <td>title: litor a amade souz cardoz author: josé ...</td>\n",
       "      <td>[title:, litor, a, amade, souz, cardoz, author...</td>\n",
       "    </tr>\n",
       "    <tr>\n",
       "      <th>4</th>\n",
       "      <td>\\n\\n\\nEXPOSIÇÃO\\n\\n+amadeo\\nde souza\\ncardoso+...</td>\n",
       "      <td>Almada Negreiros</td>\n",
       "      <td>521</td>\n",
       "      <td>expos +amade souz cardoso+ lig naval de lisbo ...</td>\n",
       "      <td>[expos, +amade, souz, cardoso+, lig, naval, de...</td>\n",
       "    </tr>\n",
       "  </tbody>\n",
       "</table>\n",
       "</div>"
      ],
      "text/plain": [
       "                                                Text            Author  \\\n",
       "0  Title: A Scena do Odio\\n\\nAuthor: José de Alma...  Almada Negreiros   \n",
       "1  Title: O Jardim da Pierrette\\n\\nAuthor: José d...  Almada Negreiros   \n",
       "2  \\n\\nTitle: A Invenção do Dia Claro\\n\\nAuthor: ...  Almada Negreiros   \n",
       "3  \\nTitle: Litoral\\n       A Amadeo de Souza Car...  Almada Negreiros   \n",
       "4  \\n\\n\\nEXPOSIÇÃO\\n\\n+amadeo\\nde souza\\ncardoso+...  Almada Negreiros   \n",
       "\n",
       "   Word Count                                         Clean Text  \\\n",
       "0        1456  title: a scen odi author: josé alm negr releas...   \n",
       "1         280  title: o jardim pierrett author: josé alm negr...   \n",
       "2        6212  title: a invenç dia clar author: josé alm negr...   \n",
       "3        1225  title: litor a amade souz cardoz author: josé ...   \n",
       "4         521  expos +amade souz cardoso+ lig naval de lisbo ...   \n",
       "\n",
       "                                           Word List  \n",
       "0  [title:, a, scen, odi, author:, josé, alm, neg...  \n",
       "1  [title:, o, jardim, pierrett, author:, josé, a...  \n",
       "2  [title:, a, invenç, dia, clar, author:, josé, ...  \n",
       "3  [title:, litor, a, amade, souz, cardoz, author...  \n",
       "4  [expos, +amade, souz, cardoso+, lig, naval, de...  "
      ]
     },
     "execution_count": 25,
     "metadata": {},
     "output_type": "execute_result"
    }
   ],
   "source": [
    "# convert each clean text into a list of strnigs\n",
    "corpora['Word List'] = corpora['Clean Text']\n",
    "\n",
    "# for each test in the corpora\n",
    "for i in tqdm(range(len(corpora))):\n",
    "    mystr = corpora['Clean Text'][i]\n",
    "    wordList = mystr.split()\n",
    "    \n",
    "    corpora['Word List'][i] = wordList\n",
    "    \n",
    "corpora.head()"
   ]
  },
  {
   "cell_type": "code",
   "execution_count": 26,
   "metadata": {},
   "outputs": [
    {
     "data": {
      "application/vnd.jupyter.widget-view+json": {
       "model_id": "6f589b0d763e46afaca59c186ce1cff0",
       "version_major": 2,
       "version_minor": 0
      },
      "text/plain": [
       "HBox(children=(IntProgress(value=0, max=63), HTML(value='')))"
      ]
     },
     "metadata": {},
     "output_type": "display_data"
    },
    {
     "name": "stdout",
     "output_type": "stream",
     "text": [
      "\n"
     ]
    },
    {
     "data": {
      "text/html": [
       "<div>\n",
       "<style scoped>\n",
       "    .dataframe tbody tr th:only-of-type {\n",
       "        vertical-align: middle;\n",
       "    }\n",
       "\n",
       "    .dataframe tbody tr th {\n",
       "        vertical-align: top;\n",
       "    }\n",
       "\n",
       "    .dataframe thead th {\n",
       "        text-align: right;\n",
       "    }\n",
       "</style>\n",
       "<table border=\"1\" class=\"dataframe\">\n",
       "  <thead>\n",
       "    <tr style=\"text-align: right;\">\n",
       "      <th></th>\n",
       "      <th>Author</th>\n",
       "      <th>500 Word List</th>\n",
       "      <th>500 Clean Text</th>\n",
       "    </tr>\n",
       "  </thead>\n",
       "  <tbody>\n",
       "    <tr>\n",
       "      <th>0</th>\n",
       "      <td>Almada Negreiros</td>\n",
       "      <td>[title:, a, scen, odi, author:, josé, alm, neg...</td>\n",
       "      <td>title: a scen odi author: josé alm negr releas...</td>\n",
       "    </tr>\n",
       "    <tr>\n",
       "      <th>1</th>\n",
       "      <td>Almada Negreiros</td>\n",
       "      <td>[branc, par, vict, torneios-lot, donzellas-glo...</td>\n",
       "      <td>branc par vict torneios-lot donzellas-glorias!...</td>\n",
       "    </tr>\n",
       "    <tr>\n",
       "      <th>2</th>\n",
       "      <td>Almada Negreiros</td>\n",
       "      <td>[lua, enxovalh, vir, lavadeira!, larg, cidad, ...</td>\n",
       "      <td>lua enxovalh vir lavadeira! larg cidad foge! l...</td>\n",
       "    </tr>\n",
       "    <tr>\n",
       "      <th>3</th>\n",
       "      <td>Almada Negreiros</td>\n",
       "      <td>[title:, o, jardim, pierrett, author:, josé, a...</td>\n",
       "      <td>title: o jardim pierrett author: josé alm negr...</td>\n",
       "    </tr>\n",
       "    <tr>\n",
       "      <th>4</th>\n",
       "      <td>Almada Negreiros</td>\n",
       "      <td>[title:, a, invenç, dia, clar, author:, josé, ...</td>\n",
       "      <td>title: a invenç dia clar author: josé alm negr...</td>\n",
       "    </tr>\n",
       "  </tbody>\n",
       "</table>\n",
       "</div>"
      ],
      "text/plain": [
       "             Author                                      500 Word List  \\\n",
       "0  Almada Negreiros  [title:, a, scen, odi, author:, josé, alm, neg...   \n",
       "1  Almada Negreiros  [branc, par, vict, torneios-lot, donzellas-glo...   \n",
       "2  Almada Negreiros  [lua, enxovalh, vir, lavadeira!, larg, cidad, ...   \n",
       "3  Almada Negreiros  [title:, o, jardim, pierrett, author:, josé, a...   \n",
       "4  Almada Negreiros  [title:, a, invenç, dia, clar, author:, josé, ...   \n",
       "\n",
       "                                      500 Clean Text  \n",
       "0  title: a scen odi author: josé alm negr releas...  \n",
       "1  branc par vict torneios-lot donzellas-glorias!...  \n",
       "2  lua enxovalh vir lavadeira! larg cidad foge! l...  \n",
       "3  title: o jardim pierrett author: josé alm negr...  \n",
       "4  title: a invenç dia clar author: josé alm negr...  "
      ]
     },
     "execution_count": 26,
     "metadata": {},
     "output_type": "execute_result"
    }
   ],
   "source": [
    "# divide the texts into sections of up to 500 words\n",
    "corpora_500 = pd.DataFrame(columns=['Author','500 Word List','500 Clean Text'])\n",
    "\n",
    "# for each text in the corpora\n",
    "for i in tqdm(range(len(corpora))):\n",
    "    text = corpora['Word List'][i]\n",
    "    # get a list of lists with up to 500 words\n",
    "    list_500 = [text[i:i+500] for i in range(0, len(text), 500)]\n",
    "    # convert the lists to strings\n",
    "    text_500 = [\" \".join(list) for list in list_500]\n",
    "    \n",
    "    # save the list of lists and the list of string on a Pandas DataFrame\n",
    "    d_500 = pd.DataFrame({'Author':corpora['Author'][i],'500 Word List':list_500,'500 Clean Text':text_500})\n",
    "    corpora_500 = corpora_500.append(d_500,ignore_index=True)\n",
    "    \n",
    "corpora_500.head()"
   ]
  },
  {
   "cell_type": "code",
   "execution_count": 27,
   "metadata": {},
   "outputs": [
    {
     "data": {
      "text/plain": [
       "(4237, 3)"
      ]
     },
     "execution_count": 27,
     "metadata": {},
     "output_type": "execute_result"
    }
   ],
   "source": [
    "corpora = corpora_500\n",
    "corpora.shape"
   ]
  },
  {
   "cell_type": "code",
   "execution_count": 28,
   "metadata": {},
   "outputs": [],
   "source": [
    "# create a stratified 5-fold division for cross validation\n",
    "kf = StratifiedKFold(n_splits=5,shuffle=True,random_state=42)"
   ]
  },
  {
   "cell_type": "markdown",
   "metadata": {},
   "source": [
    "The 5-fold division was chosen as it creates train/test splits with an 80/20 split"
   ]
  },
  {
   "cell_type": "code",
   "execution_count": 29,
   "metadata": {},
   "outputs": [],
   "source": [
    "# test with either of these classifiers\n",
    "\n",
    "#classifier = KNeighborsClassifier()\n",
    "#classifier = MultinomialNB()\n",
    "#classifier = SVC()\n",
    "#classifier = DecisionTreeClassifier()\n",
    "classifier = LogisticRegression()"
   ]
  },
  {
   "cell_type": "code",
   "execution_count": 30,
   "metadata": {},
   "outputs": [],
   "source": [
    "# test with either of these feature extractors\n",
    "\n",
    "vectorizer = CountVectorizer(\n",
    "    #max_df=0.7,\n",
    "    #strip_accents='unicode',\n",
    "    lowercase=False,\n",
    "    #stop_words=stop_words,\n",
    "    max_features=50000,\n",
    "    #ngram_range=(1,3)\n",
    ")\n",
    "#vectorizer = TfidfVectorizer(\n",
    "#    lowercase=False,\n",
    "#    max_features=50000\n",
    "#)"
   ]
  },
  {
   "cell_type": "code",
   "execution_count": 31,
   "metadata": {
    "scrolled": true
   },
   "outputs": [
    {
     "name": "stdout",
     "output_type": "stream",
     "text": [
      "                           precision    recall  f1-score   support\n",
      "\n",
      "         Almada Negreiros       1.00      0.77      0.87        13\n",
      "    Camilo Castelo Branco       0.99      0.98      0.99       189\n",
      "           Eca de Queiros       0.97      0.99      0.98       114\n",
      "Jose Rodrigues dos Santos       1.00      1.00      1.00       285\n",
      "            Jose Saramago       1.00      1.00      1.00       235\n",
      "      Luisa Marques Silva       0.69      0.92      0.79        12\n",
      "\n",
      "                 accuracy                           0.99       848\n",
      "                macro avg       0.94      0.94      0.94       848\n",
      "             weighted avg       0.99      0.99      0.99       848\n",
      "\n",
      "[[ 10   0   2   0   0   1]\n",
      " [  0 186   1   0   0   2]\n",
      " [  0   1 113   0   0   0]\n",
      " [  0   0   0 284   0   1]\n",
      " [  0   0   0   0 234   1]\n",
      " [  0   0   0   1   0  11]]\n",
      "                           precision    recall  f1-score   support\n",
      "\n",
      "         Almada Negreiros       1.00      0.92      0.96        13\n",
      "    Camilo Castelo Branco       1.00      1.00      1.00       189\n",
      "           Eca de Queiros       0.99      0.98      0.99       114\n",
      "Jose Rodrigues dos Santos       1.00      1.00      1.00       284\n",
      "            Jose Saramago       0.99      1.00      1.00       236\n",
      "      Luisa Marques Silva       0.92      1.00      0.96        12\n",
      "\n",
      "                 accuracy                           1.00       848\n",
      "                macro avg       0.98      0.98      0.98       848\n",
      "             weighted avg       1.00      1.00      1.00       848\n",
      "\n",
      "[[ 12   0   1   0   0   0]\n",
      " [  0 189   0   0   0   0]\n",
      " [  0   0 112   0   1   1]\n",
      " [  0   0   0 283   1   0]\n",
      " [  0   0   0   0 236   0]\n",
      " [  0   0   0   0   0  12]]\n",
      "                           precision    recall  f1-score   support\n",
      "\n",
      "         Almada Negreiros       1.00      0.85      0.92        13\n",
      "    Camilo Castelo Branco       0.99      1.00      0.99       189\n",
      "           Eca de Queiros       1.00      0.99      1.00       114\n",
      "Jose Rodrigues dos Santos       1.00      1.00      1.00       284\n",
      "            Jose Saramago       1.00      1.00      1.00       236\n",
      "      Luisa Marques Silva       1.00      1.00      1.00        11\n",
      "\n",
      "                 accuracy                           1.00       847\n",
      "                macro avg       1.00      0.97      0.98       847\n",
      "             weighted avg       1.00      1.00      1.00       847\n",
      "\n",
      "[[ 11   1   0   0   1   0]\n",
      " [  0 189   0   0   0   0]\n",
      " [  0   1 113   0   0   0]\n",
      " [  0   0   0 284   0   0]\n",
      " [  0   0   0   0 236   0]\n",
      " [  0   0   0   0   0  11]]\n",
      "                           precision    recall  f1-score   support\n",
      "\n",
      "         Almada Negreiros       1.00      0.85      0.92        13\n",
      "    Camilo Castelo Branco       1.00      1.00      1.00       189\n",
      "           Eca de Queiros       0.98      1.00      0.99       114\n",
      "Jose Rodrigues dos Santos       1.00      1.00      1.00       284\n",
      "            Jose Saramago       1.00      1.00      1.00       236\n",
      "      Luisa Marques Silva       1.00      0.82      0.90        11\n",
      "\n",
      "                 accuracy                           1.00       847\n",
      "                macro avg       1.00      0.94      0.97       847\n",
      "             weighted avg       1.00      1.00      1.00       847\n",
      "\n",
      "[[ 11   0   2   0   0   0]\n",
      " [  0 189   0   0   0   0]\n",
      " [  0   0 114   0   0   0]\n",
      " [  0   0   0 284   0   0]\n",
      " [  0   0   0   0 236   0]\n",
      " [  0   0   0   1   1   9]]\n",
      "                           precision    recall  f1-score   support\n",
      "\n",
      "         Almada Negreiros       1.00      0.83      0.91        12\n",
      "    Camilo Castelo Branco       0.99      1.00      0.99       190\n",
      "           Eca de Queiros       0.99      1.00      1.00       113\n",
      "Jose Rodrigues dos Santos       1.00      1.00      1.00       285\n",
      "            Jose Saramago       1.00      1.00      1.00       235\n",
      "      Luisa Marques Silva       1.00      0.92      0.96        12\n",
      "\n",
      "                 accuracy                           0.99       847\n",
      "                macro avg       1.00      0.96      0.97       847\n",
      "             weighted avg       0.99      0.99      0.99       847\n",
      "\n",
      "[[ 10   0   0   1   1   0]\n",
      " [  0 190   0   0   0   0]\n",
      " [  0   0 113   0   0   0]\n",
      " [  0   1   0 284   0   0]\n",
      " [  0   0   1   0 234   0]\n",
      " [  0   1   0   0   0  11]]\n",
      "99.38645831012897\n",
      "[84.35897436 99.68253968 99.29824561 99.78922659 99.82978723 93.03030303]\n"
     ]
    }
   ],
   "source": [
    "accuracy = 0\n",
    "recall = 0\n",
    "\n",
    "# for each of the 5-fold splits\n",
    "for (train, test) in kf.split(corpora['500 Clean Text'],corpora['Author']):\n",
    "    # vectorize the train and test sets\n",
    "    X_train = vectorizer.fit_transform(corpora['500 Clean Text'][train])\n",
    "    X_test = vectorizer.transform(corpora['500 Clean Text'][test])\n",
    "    y = corpora['Author']\n",
    "    \n",
    "    # fit the classifier to the train sets\n",
    "    classifier.fit(X_train,y[train])\n",
    "    \n",
    "    # predict the labels of the test set\n",
    "    prediction = classifier.predict(X_test)\n",
    "    \n",
    "    #find the accuracy and recall of this classifier on this split\n",
    "    accuracy += accuracy_score(y[test],prediction)*100\n",
    "    recall += recall_score(y[test],prediction,average=None)*100\n",
    "    \n",
    "    # print a classification report and confusion matrix\n",
    "    print(classification_report(y_true = y[test], y_pred = prediction))\n",
    "    print(confusion_matrix(y_true = y[test], y_pred = prediction))\n",
    "\n",
    "# print the average accuracy and recall for the classifier\n",
    "print(accuracy/5)\n",
    "print(recall/5)"
   ]
  },
  {
   "cell_type": "markdown",
   "metadata": {},
   "source": [
    "## Load new corpora"
   ]
  },
  {
   "cell_type": "code",
   "execution_count": 32,
   "metadata": {},
   "outputs": [],
   "source": [
    "files = [\n",
    "    'test/500Palavras/text1.txt',\n",
    "    'test/500Palavras/text2.txt',\n",
    "    'test/500Palavras/text3.txt',\n",
    "    'test/500Palavras/text4.txt',\n",
    "    'test/500Palavras/text5.txt',\n",
    "    'test/500Palavras/text6.txt',\n",
    "    'test/1000Palavras/text1.txt',\n",
    "    'test/1000Palavras/text2.txt',\n",
    "    'test/1000Palavras/text3.txt',\n",
    "    'test/1000Palavras/text4.txt',\n",
    "    'test/1000Palavras/text5.txt',\n",
    "    'test/1000Palavras/text6.txt',\n",
    "]\n",
    "\n",
    "new_corpora = load_corpora(files)"
   ]
  },
  {
   "cell_type": "code",
   "execution_count": 33,
   "metadata": {},
   "outputs": [
    {
     "data": {
      "text/html": [
       "<div>\n",
       "<style scoped>\n",
       "    .dataframe tbody tr th:only-of-type {\n",
       "        vertical-align: middle;\n",
       "    }\n",
       "\n",
       "    .dataframe tbody tr th {\n",
       "        vertical-align: top;\n",
       "    }\n",
       "\n",
       "    .dataframe thead th {\n",
       "        text-align: right;\n",
       "    }\n",
       "</style>\n",
       "<table border=\"1\" class=\"dataframe\">\n",
       "  <thead>\n",
       "    <tr style=\"text-align: right;\">\n",
       "      <th></th>\n",
       "      <th>Text</th>\n",
       "      <th>Author</th>\n",
       "    </tr>\n",
       "  </thead>\n",
       "  <tbody>\n",
       "    <tr>\n",
       "      <th>0</th>\n",
       "      <td>Depois, pouco a pouco, a tranquilidade regress...</td>\n",
       "      <td>None</td>\n",
       "    </tr>\n",
       "    <tr>\n",
       "      <th>1</th>\n",
       "      <td>Justamente como se eu tivesse tido a ideia de ...</td>\n",
       "      <td>None</td>\n",
       "    </tr>\n",
       "    <tr>\n",
       "      <th>2</th>\n",
       "      <td>Quase um mês depois, a época de exames aproxim...</td>\n",
       "      <td>None</td>\n",
       "    </tr>\n",
       "    <tr>\n",
       "      <th>3</th>\n",
       "      <td>Agora, porém, era sem fervor, arrastadamente, ...</td>\n",
       "      <td>None</td>\n",
       "    </tr>\n",
       "    <tr>\n",
       "      <th>4</th>\n",
       "      <td>O cahos de cima a descer, a descer com a morta...</td>\n",
       "      <td>None</td>\n",
       "    </tr>\n",
       "    <tr>\n",
       "      <th>5</th>\n",
       "      <td>\"O Senhor ensina pela pena o que o homem não s...</td>\n",
       "      <td>None</td>\n",
       "    </tr>\n",
       "    <tr>\n",
       "      <th>6</th>\n",
       "      <td>Depois, pouco a pouco, a tranquilidade regress...</td>\n",
       "      <td>None</td>\n",
       "    </tr>\n",
       "    <tr>\n",
       "      <th>7</th>\n",
       "      <td>Justamente como se eu tivesse tido a ideia de ...</td>\n",
       "      <td>None</td>\n",
       "    </tr>\n",
       "    <tr>\n",
       "      <th>8</th>\n",
       "      <td>Quase um mês depois, a época de exames aproxim...</td>\n",
       "      <td>None</td>\n",
       "    </tr>\n",
       "    <tr>\n",
       "      <th>9</th>\n",
       "      <td>Agora, porém, era sem fervor, arrastadamente, ...</td>\n",
       "      <td>None</td>\n",
       "    </tr>\n",
       "    <tr>\n",
       "      <th>10</th>\n",
       "      <td>O cahos de cima a descer, a descer com a morta...</td>\n",
       "      <td>None</td>\n",
       "    </tr>\n",
       "    <tr>\n",
       "      <th>11</th>\n",
       "      <td>\"O Senhor ensina pela pena o que o homem não s...</td>\n",
       "      <td>None</td>\n",
       "    </tr>\n",
       "  </tbody>\n",
       "</table>\n",
       "</div>"
      ],
      "text/plain": [
       "                                                 Text Author\n",
       "0   Depois, pouco a pouco, a tranquilidade regress...   None\n",
       "1   Justamente como se eu tivesse tido a ideia de ...   None\n",
       "2   Quase um mês depois, a época de exames aproxim...   None\n",
       "3   Agora, porém, era sem fervor, arrastadamente, ...   None\n",
       "4   O cahos de cima a descer, a descer com a morta...   None\n",
       "5   \"O Senhor ensina pela pena o que o homem não s...   None\n",
       "6   Depois, pouco a pouco, a tranquilidade regress...   None\n",
       "7   Justamente como se eu tivesse tido a ideia de ...   None\n",
       "8   Quase um mês depois, a época de exames aproxim...   None\n",
       "9   Agora, porém, era sem fervor, arrastadamente, ...   None\n",
       "10  O cahos de cima a descer, a descer com a morta...   None\n",
       "11  \"O Senhor ensina pela pena o que o homem não s...   None"
      ]
     },
     "execution_count": 33,
     "metadata": {},
     "output_type": "execute_result"
    }
   ],
   "source": [
    "new_corpora"
   ]
  },
  {
   "cell_type": "markdown",
   "metadata": {},
   "source": [
    "## Train the chosen model"
   ]
  },
  {
   "cell_type": "code",
   "execution_count": 34,
   "metadata": {},
   "outputs": [
    {
     "data": {
      "text/plain": [
       "LogisticRegression(C=1.0, class_weight=None, dual=False, fit_intercept=True,\n",
       "                   intercept_scaling=1, l1_ratio=None, max_iter=100,\n",
       "                   multi_class='auto', n_jobs=None, penalty='l2',\n",
       "                   random_state=None, solver='lbfgs', tol=0.0001, verbose=0,\n",
       "                   warm_start=False)"
      ]
     },
     "execution_count": 34,
     "metadata": {},
     "output_type": "execute_result"
    }
   ],
   "source": [
    "X = corpora['500 Clean Text']\n",
    "y = corpora['Author']\n",
    "\n",
    "X_cv = vectorizer.fit_transform(X)\n",
    "classifier.fit(X_cv,y)"
   ]
  },
  {
   "cell_type": "markdown",
   "metadata": {},
   "source": [
    "## Classify the new text"
   ]
  },
  {
   "cell_type": "code",
   "execution_count": 35,
   "metadata": {},
   "outputs": [
    {
     "data": {
      "application/vnd.jupyter.widget-view+json": {
       "model_id": "5ea63ffa4aed412cabdd0006418eb874",
       "version_major": 2,
       "version_minor": 0
      },
      "text/plain": [
       "HBox(children=(IntProgress(value=0, max=12), HTML(value='')))"
      ]
     },
     "metadata": {},
     "output_type": "display_data"
    },
    {
     "name": "stdout",
     "output_type": "stream",
     "text": [
      "\n"
     ]
    }
   ],
   "source": [
    "cleaned_corpora = preprocessing(new_corpora,stemming=True,stemmer='rslp')"
   ]
  },
  {
   "cell_type": "code",
   "execution_count": 36,
   "metadata": {},
   "outputs": [],
   "source": [
    "new_corpora['Clean Text'] = pd.Series(cleaned_corpora, index = new_corpora.index)"
   ]
  },
  {
   "cell_type": "code",
   "execution_count": 37,
   "metadata": {},
   "outputs": [],
   "source": [
    "new_cv = vectorizer.transform(new_corpora['Clean Text'])\n",
    "prediction = classifier.predict(new_cv)"
   ]
  },
  {
   "cell_type": "code",
   "execution_count": 38,
   "metadata": {},
   "outputs": [
    {
     "data": {
      "text/plain": [
       "array(['Jose Saramago', 'Almada Negreiros', 'Jose Rodrigues dos Santos',\n",
       "       'Eca de Queiros', 'Camilo Castelo Branco',\n",
       "       'Jose Rodrigues dos Santos', 'Jose Saramago', 'Almada Negreiros',\n",
       "       'Jose Rodrigues dos Santos', 'Eca de Queiros',\n",
       "       'Camilo Castelo Branco', 'Jose Rodrigues dos Santos'], dtype=object)"
      ]
     },
     "execution_count": 38,
     "metadata": {},
     "output_type": "execute_result"
    }
   ],
   "source": [
    "prediction"
   ]
  },
  {
   "cell_type": "markdown",
   "metadata": {},
   "source": [
    "## Extra: Neural networks"
   ]
  },
  {
   "cell_type": "code",
   "execution_count": 39,
   "metadata": {},
   "outputs": [],
   "source": [
    "from gensim.models import Word2Vec\n",
    "from sklearn.neural_network import MLPClassifier"
   ]
  },
  {
   "cell_type": "code",
   "execution_count": 40,
   "metadata": {},
   "outputs": [],
   "source": [
    "def text_score(corpora,w2v):\n",
    "    \"\"\"\n",
    "    Function that receives a Pandas DataFrame with the texts and the word\n",
    "        embeddings of a sample of texts and finds the average score of each\n",
    "        score.\n",
    "        \n",
    "    :param corpora: a Pandas DataFrame with texts that have been saved as\n",
    "        lists of strings\n",
    "    :param w2v: the Word2Vec embeddings of a sample of texts\n",
    "               \n",
    "    :return: Returns a list of ints which are the average of the word\n",
    "        embeddings of each text\n",
    "    \"\"\"\n",
    "    \n",
    "    text_scores = []\n",
    "    \n",
    "    # for each text in the corpora\n",
    "    for i in tqdm(corpora.index):\n",
    "        text = corpora['500 Word List'].loc[i]\n",
    "        n = len(text)\n",
    "        text_vect = []\n",
    "        \n",
    "        # for each word in the text\n",
    "        for word in text:\n",
    "            # find the score for that word and add it to\n",
    "            # the score of the text\n",
    "            if text_vect == []:\n",
    "                text_vect = w2v[word]\n",
    "\n",
    "            else:\n",
    "                text_vect = np.add(text_vect,w2v[word])\n",
    "\n",
    "        # calculate the average score of the sentence\n",
    "        score = list(np.asarray(text_vect) / n)\n",
    "\n",
    "        text_scores.append(score)\n",
    "    \n",
    "    return text_scores"
   ]
  },
  {
   "cell_type": "code",
   "execution_count": 41,
   "metadata": {},
   "outputs": [],
   "source": [
    "classifier = MLPClassifier()"
   ]
  },
  {
   "cell_type": "code",
   "execution_count": 43,
   "metadata": {},
   "outputs": [
    {
     "data": {
      "application/vnd.jupyter.widget-view+json": {
       "model_id": "c3c50f60b3a049f2b40a84703e81b341",
       "version_major": 2,
       "version_minor": 0
      },
      "text/plain": [
       "HBox(children=(IntProgress(value=0, max=3389), HTML(value='')))"
      ]
     },
     "metadata": {},
     "output_type": "display_data"
    },
    {
     "name": "stdout",
     "output_type": "stream",
     "text": [
      "\n"
     ]
    },
    {
     "data": {
      "application/vnd.jupyter.widget-view+json": {
       "model_id": "fc4a275a0faf45a0bd102673572abe71",
       "version_major": 2,
       "version_minor": 0
      },
      "text/plain": [
       "HBox(children=(IntProgress(value=0, max=848), HTML(value='')))"
      ]
     },
     "metadata": {},
     "output_type": "display_data"
    },
    {
     "name": "stdout",
     "output_type": "stream",
     "text": [
      "\n",
      "                           precision    recall  f1-score   support\n",
      "\n",
      "         Almada Negreiros       1.00      0.08      0.14        13\n",
      "    Camilo Castelo Branco       0.93      0.89      0.91       189\n",
      "           Eca de Queiros       0.81      0.88      0.84       114\n",
      "Jose Rodrigues dos Santos       0.95      0.96      0.95       285\n",
      "            Jose Saramago       0.89      0.97      0.93       235\n",
      "      Luisa Marques Silva       1.00      0.08      0.15        12\n",
      "\n",
      "                 accuracy                           0.91       848\n",
      "                macro avg       0.93      0.64      0.66       848\n",
      "             weighted avg       0.91      0.91      0.90       848\n",
      "\n",
      "[[  1   1   7   1   3   0]\n",
      " [  0 168  14   2   5   0]\n",
      " [  0   8 100   2   4   0]\n",
      " [  0   1   1 273  10   0]\n",
      " [  0   2   0   5 228   0]\n",
      " [  0   1   1   4   5   1]]\n"
     ]
    },
    {
     "data": {
      "application/vnd.jupyter.widget-view+json": {
       "model_id": "c11a3fe8cf2640499790ea7d77084e14",
       "version_major": 2,
       "version_minor": 0
      },
      "text/plain": [
       "HBox(children=(IntProgress(value=0, max=3389), HTML(value='')))"
      ]
     },
     "metadata": {},
     "output_type": "display_data"
    },
    {
     "name": "stdout",
     "output_type": "stream",
     "text": [
      "\n"
     ]
    },
    {
     "data": {
      "application/vnd.jupyter.widget-view+json": {
       "model_id": "e094e57c0421444db4daf21039bb2f75",
       "version_major": 2,
       "version_minor": 0
      },
      "text/plain": [
       "HBox(children=(IntProgress(value=0, max=848), HTML(value='')))"
      ]
     },
     "metadata": {},
     "output_type": "display_data"
    },
    {
     "name": "stdout",
     "output_type": "stream",
     "text": [
      "\n",
      "                           precision    recall  f1-score   support\n",
      "\n",
      "         Almada Negreiros       0.50      0.15      0.24        13\n",
      "    Camilo Castelo Branco       0.90      0.93      0.91       189\n",
      "           Eca de Queiros       0.88      0.87      0.87       114\n",
      "Jose Rodrigues dos Santos       0.91      0.96      0.94       284\n",
      "            Jose Saramago       0.91      0.91      0.91       236\n",
      "      Luisa Marques Silva       1.00      0.08      0.15        12\n",
      "\n",
      "                 accuracy                           0.90       848\n",
      "                macro avg       0.85      0.65      0.67       848\n",
      "             weighted avg       0.90      0.90      0.89       848\n",
      "\n",
      "[[  2   4   3   0   4   0]\n",
      " [  0 175  10   2   2   0]\n",
      " [  1   9  99   3   2   0]\n",
      " [  0   3   0 274   7   0]\n",
      " [  1   4   1  15 215   0]\n",
      " [  0   0   0   6   5   1]]\n"
     ]
    },
    {
     "data": {
      "application/vnd.jupyter.widget-view+json": {
       "model_id": "ab6d8076e1984858910e0d62e2f61362",
       "version_major": 2,
       "version_minor": 0
      },
      "text/plain": [
       "HBox(children=(IntProgress(value=0, max=3390), HTML(value='')))"
      ]
     },
     "metadata": {},
     "output_type": "display_data"
    },
    {
     "name": "stdout",
     "output_type": "stream",
     "text": [
      "\n"
     ]
    },
    {
     "data": {
      "application/vnd.jupyter.widget-view+json": {
       "model_id": "29bc1d23a76d4427864272a47aff956b",
       "version_major": 2,
       "version_minor": 0
      },
      "text/plain": [
       "HBox(children=(IntProgress(value=0, max=847), HTML(value='')))"
      ]
     },
     "metadata": {},
     "output_type": "display_data"
    },
    {
     "name": "stdout",
     "output_type": "stream",
     "text": [
      "\n",
      "                           precision    recall  f1-score   support\n",
      "\n",
      "         Almada Negreiros       0.80      0.31      0.44        13\n",
      "    Camilo Castelo Branco       0.86      0.98      0.92       189\n",
      "           Eca de Queiros       0.88      0.75      0.81       114\n",
      "Jose Rodrigues dos Santos       0.96      0.93      0.94       284\n",
      "            Jose Saramago       0.89      0.97      0.93       236\n",
      "      Luisa Marques Silva       0.00      0.00      0.00        11\n",
      "\n",
      "                 accuracy                           0.90       847\n",
      "                macro avg       0.73      0.65      0.67       847\n",
      "             weighted avg       0.89      0.90      0.90       847\n",
      "\n",
      "[[  4   1   6   0   2   0]\n",
      " [  0 185   2   1   1   0]\n",
      " [  0  25  85   2   2   0]\n",
      " [  1   2   3 263  15   0]\n",
      " [  0   1   1   5 229   0]\n",
      " [  0   0   0   2   9   0]]\n"
     ]
    },
    {
     "data": {
      "application/vnd.jupyter.widget-view+json": {
       "model_id": "67534661e9c14bbeb88080907bccbf1c",
       "version_major": 2,
       "version_minor": 0
      },
      "text/plain": [
       "HBox(children=(IntProgress(value=0, max=3390), HTML(value='')))"
      ]
     },
     "metadata": {},
     "output_type": "display_data"
    },
    {
     "name": "stdout",
     "output_type": "stream",
     "text": [
      "\n"
     ]
    },
    {
     "data": {
      "application/vnd.jupyter.widget-view+json": {
       "model_id": "72aa7a7d743d4b83bb20c655f4cf5786",
       "version_major": 2,
       "version_minor": 0
      },
      "text/plain": [
       "HBox(children=(IntProgress(value=0, max=847), HTML(value='')))"
      ]
     },
     "metadata": {},
     "output_type": "display_data"
    },
    {
     "name": "stdout",
     "output_type": "stream",
     "text": [
      "\n",
      "                           precision    recall  f1-score   support\n",
      "\n",
      "         Almada Negreiros       0.75      0.23      0.35        13\n",
      "    Camilo Castelo Branco       0.96      0.90      0.93       189\n",
      "           Eca de Queiros       0.83      0.89      0.86       114\n",
      "Jose Rodrigues dos Santos       0.93      0.96      0.95       284\n",
      "            Jose Saramago       0.92      0.96      0.94       236\n",
      "      Luisa Marques Silva       0.00      0.00      0.00        11\n",
      "\n",
      "                 accuracy                           0.92       847\n",
      "                macro avg       0.73      0.66      0.67       847\n",
      "             weighted avg       0.90      0.92      0.91       847\n",
      "\n",
      "[[  3   1   5   2   2   0]\n",
      " [  0 171  15   1   2   0]\n",
      " [  0   7 102   5   0   0]\n",
      " [  0   0   0 273  11   0]\n",
      " [  1   0   1   7 227   0]\n",
      " [  0   0   0   5   6   0]]\n"
     ]
    },
    {
     "data": {
      "application/vnd.jupyter.widget-view+json": {
       "model_id": "c4a1224dc8e6449f80ef4d943ed13ecd",
       "version_major": 2,
       "version_minor": 0
      },
      "text/plain": [
       "HBox(children=(IntProgress(value=0, max=3390), HTML(value='')))"
      ]
     },
     "metadata": {},
     "output_type": "display_data"
    },
    {
     "name": "stdout",
     "output_type": "stream",
     "text": [
      "\n"
     ]
    },
    {
     "data": {
      "application/vnd.jupyter.widget-view+json": {
       "model_id": "5e3965b8cd7b4ef3938d993ea7e0c1a3",
       "version_major": 2,
       "version_minor": 0
      },
      "text/plain": [
       "HBox(children=(IntProgress(value=0, max=847), HTML(value='')))"
      ]
     },
     "metadata": {},
     "output_type": "display_data"
    },
    {
     "name": "stdout",
     "output_type": "stream",
     "text": [
      "\n",
      "                           precision    recall  f1-score   support\n",
      "\n",
      "         Almada Negreiros       1.00      0.17      0.29        12\n",
      "    Camilo Castelo Branco       0.94      0.95      0.94       190\n",
      "           Eca de Queiros       0.88      0.90      0.89       113\n",
      "Jose Rodrigues dos Santos       0.92      0.96      0.94       285\n",
      "            Jose Saramago       0.91      0.94      0.92       235\n",
      "      Luisa Marques Silva       0.00      0.00      0.00        12\n",
      "\n",
      "                 accuracy                           0.92       847\n",
      "                macro avg       0.78      0.65      0.66       847\n",
      "             weighted avg       0.91      0.92      0.91       847\n",
      "\n",
      "[[  2   1   4   0   5   0]\n",
      " [  0 180   4   3   3   0]\n",
      " [  0   7 102   3   1   0]\n",
      " [  0   2   4 273   6   0]\n",
      " [  0   1   2  12 220   0]\n",
      " [  0   0   0   6   6   0]]\n",
      "91.00796930342385\n",
      "[18.71794872 92.91562239 85.77239559 95.35804299 94.99206635  3.33333333]\n"
     ]
    }
   ],
   "source": [
    "accuracy = 0\n",
    "recall = 0\n",
    "\n",
    "# find the word embeddings for the words in the corpora\n",
    "word_embeddings = Word2Vec(corpora['500 Word List'],min_count=0,workers=4)\n",
    "\n",
    "# for each of the 5-fold splits\n",
    "for (train, test) in kf.split(corpora,corpora['Author']):\n",
    "    # get the text scores for the texts in the train and test set\n",
    "    X_train = text_score(corpora.iloc[train],word_embeddings)\n",
    "    X_test = text_score(corpora.iloc[test],word_embeddings)\n",
    "    y = corpora['Author']\n",
    "    \n",
    "    # fit the classifier to the train sets\n",
    "    classifier.fit(X_train,y[train])\n",
    "    \n",
    "    # predict the labels of the test set\n",
    "    prediction = classifier.predict(X_test)\n",
    "    \n",
    "    #find the accuracy and recall of this classifier on this split\n",
    "    accuracy += accuracy_score(y[test],prediction)*100\n",
    "    recall += recall_score(y[test],prediction,average=None)*100\n",
    "    \n",
    "    # print a classification report and confusion matrix\n",
    "    print(classification_report(y_true = y[test], y_pred = prediction))\n",
    "    print(confusion_matrix(y_true = y[test], y_pred = prediction))\n",
    "    \n",
    "# print the average accuracy and recall for the classifier\n",
    "print(accuracy/5)\n",
    "print(recall/5)"
   ]
  },
  {
   "cell_type": "code",
   "execution_count": 44,
   "metadata": {},
   "outputs": [
    {
     "data": {
      "application/vnd.jupyter.widget-view+json": {
       "model_id": "cfbc6442f6ff441c8eebdda62be3cedc",
       "version_major": 2,
       "version_minor": 0
      },
      "text/plain": [
       "HBox(children=(IntProgress(value=0, max=12), HTML(value='')))"
      ]
     },
     "metadata": {},
     "output_type": "display_data"
    },
    {
     "name": "stdout",
     "output_type": "stream",
     "text": [
      "\n"
     ]
    }
   ],
   "source": [
    "# get the list of words for the new texts\n",
    "new_corpora['Word List'] = new_corpora['Clean Text']\n",
    "\n",
    "for i in tqdm(range(len(new_corpora))):\n",
    "    text = new_corpora['Clean Text'][i]\n",
    "    \n",
    "    new_corpora['Word List'][i] = text.split()"
   ]
  },
  {
   "cell_type": "code",
   "execution_count": 45,
   "metadata": {
    "scrolled": true
   },
   "outputs": [
    {
     "data": {
      "text/html": [
       "<div>\n",
       "<style scoped>\n",
       "    .dataframe tbody tr th:only-of-type {\n",
       "        vertical-align: middle;\n",
       "    }\n",
       "\n",
       "    .dataframe tbody tr th {\n",
       "        vertical-align: top;\n",
       "    }\n",
       "\n",
       "    .dataframe thead th {\n",
       "        text-align: right;\n",
       "    }\n",
       "</style>\n",
       "<table border=\"1\" class=\"dataframe\">\n",
       "  <thead>\n",
       "    <tr style=\"text-align: right;\">\n",
       "      <th></th>\n",
       "      <th>500 Clean Text</th>\n",
       "      <th>500 Word List</th>\n",
       "      <th>Author</th>\n",
       "    </tr>\n",
       "  </thead>\n",
       "  <tbody>\n",
       "    <tr>\n",
       "      <th>0</th>\n",
       "      <td>title: a scen odi author: josé alm negr releas...</td>\n",
       "      <td>[title:, a, scen, odi, author:, josé, alm, neg...</td>\n",
       "      <td>Almada Negreiros</td>\n",
       "    </tr>\n",
       "    <tr>\n",
       "      <th>1</th>\n",
       "      <td>branc par vict torneios-lot donzellas-glorias!...</td>\n",
       "      <td>[branc, par, vict, torneios-lot, donzellas-glo...</td>\n",
       "      <td>Almada Negreiros</td>\n",
       "    </tr>\n",
       "    <tr>\n",
       "      <th>2</th>\n",
       "      <td>lua enxovalh vir lavadeira! larg cidad foge! l...</td>\n",
       "      <td>[lua, enxovalh, vir, lavadeira!, larg, cidad, ...</td>\n",
       "      <td>Almada Negreiros</td>\n",
       "    </tr>\n",
       "    <tr>\n",
       "      <th>3</th>\n",
       "      <td>title: o jardim pierrett author: josé alm negr...</td>\n",
       "      <td>[title:, o, jardim, pierrett, author:, josé, a...</td>\n",
       "      <td>Almada Negreiros</td>\n",
       "    </tr>\n",
       "    <tr>\n",
       "      <th>4</th>\n",
       "      <td>title: a invenç dia clar author: josé alm negr...</td>\n",
       "      <td>[title:, a, invenç, dia, clar, author:, josé, ...</td>\n",
       "      <td>Almada Negreiros</td>\n",
       "    </tr>\n",
       "    <tr>\n",
       "      <th>5</th>\n",
       "      <td>compunh palavras; arranc arvor prens ond apert...</td>\n",
       "      <td>[compunh, palavras;, arranc, arvor, prens, ond...</td>\n",
       "      <td>Almada Negreiros</td>\n",
       "    </tr>\n",
       "    <tr>\n",
       "      <th>6</th>\n",
       "      <td>est hom sós raça-- phenicio! cad vint doi sign...</td>\n",
       "      <td>[est, hom, sós, raça--, phenicio!, cad, vint, ...</td>\n",
       "      <td>Almada Negreiros</td>\n",
       "    </tr>\n",
       "    <tr>\n",
       "      <th>7</th>\n",
       "      <td>ajuda- ir á loucura. vae tamb pessoalmente, co...</td>\n",
       "      <td>[ajuda-, ir, á, loucura., vae, tamb, pessoalme...</td>\n",
       "      <td>Almada Negreiros</td>\n",
       "    </tr>\n",
       "    <tr>\n",
       "      <th>8</th>\n",
       "      <td>cant succed ás tangerin rol pró mar: tam tam-t...</td>\n",
       "      <td>[cant, succed, ás, tangerin, rol, pró, mar:, t...</td>\n",
       "      <td>Almada Negreiros</td>\n",
       "    </tr>\n",
       "    <tr>\n",
       "      <th>9</th>\n",
       "      <td>eu ia tão contente! ia pens ti verb sab verb g...</td>\n",
       "      <td>[eu, ia, tão, contente!, ia, pens, ti, verb, s...</td>\n",
       "      <td>Almada Negreiros</td>\n",
       "    </tr>\n",
       "    <tr>\n",
       "      <th>10</th>\n",
       "      <td>desd univers peit quotidiano. vim long fic den...</td>\n",
       "      <td>[desd, univers, peit, quotidiano., vim, long, ...</td>\n",
       "      <td>Almada Negreiros</td>\n",
       "    </tr>\n",
       "    <tr>\n",
       "      <th>11</th>\n",
       "      <td>invenção. foi-n complet impossi inclu pres edi...</td>\n",
       "      <td>[invenção., foi-n, complet, impossi, inclu, pr...</td>\n",
       "      <td>Almada Negreiros</td>\n",
       "    </tr>\n",
       "    <tr>\n",
       "      <th>12</th>\n",
       "      <td>title: litor a amade souz cardoz author: josé ...</td>\n",
       "      <td>[title:, litor, a, amade, souz, cardoz, author...</td>\n",
       "      <td>Almada Negreiros</td>\n",
       "    </tr>\n",
       "    <tr>\n",
       "      <th>13</th>\n",
       "      <td>expos +amade souz cardoso+ lig naval de lisbo ...</td>\n",
       "      <td>[expos, +amade, souz, cardoso+, lig, naval, de...</td>\n",
       "      <td>Almada Negreiros</td>\n",
       "    </tr>\n",
       "    <tr>\n",
       "      <th>14</th>\n",
       "      <td>*josé de almada-negreiros* *k4 quadr azul* aca...</td>\n",
       "      <td>[*josé, de, almada-negreiros*, *k4, quadr, azu...</td>\n",
       "      <td>Almada Negreiros</td>\n",
       "    </tr>\n",
       "    <tr>\n",
       "      <th>15</th>\n",
       "      <td>expontane excentr transcrever-m desloc abstrat...</td>\n",
       "      <td>[expontane, excentr, transcrever-m, desloc, ab...</td>\n",
       "      <td>Almada Negreiros</td>\n",
       "    </tr>\n",
       "    <tr>\n",
       "      <th>16</th>\n",
       "      <td>sienn brulée*. as parêd desab sobr chã atapet ...</td>\n",
       "      <td>[sienn, brulée*., as, parêd, desab, sobr, chã,...</td>\n",
       "      <td>Almada Negreiros</td>\n",
       "    </tr>\n",
       "    <tr>\n",
       "      <th>17</th>\n",
       "      <td>arranc impotenc suic arrast diz exact desviand...</td>\n",
       "      <td>[arranc, impotenc, suic, arrast, diz, exact, d...</td>\n",
       "      <td>Almada Negreiros</td>\n",
       "    </tr>\n",
       "    <tr>\n",
       "      <th>18</th>\n",
       "      <td>esforç desenvencilhar-s atilh proclam independ...</td>\n",
       "      <td>[esforç, desenvencilhar-s, atilh, proclam, ind...</td>\n",
       "      <td>Almada Negreiros</td>\n",
       "    </tr>\n",
       "    <tr>\n",
       "      <th>19</th>\n",
       "      <td>valores, interess form geral resolve-s exced q...</td>\n",
       "      <td>[valores,, interess, form, geral, resolve-s, e...</td>\n",
       "      <td>Almada Negreiros</td>\n",
       "    </tr>\n",
       "    <tr>\n",
       "      <th>20</th>\n",
       "      <td>igual mim aind sab quadr azul. se és deu porqu...</td>\n",
       "      <td>[igual, mim, aind, sab, quadr, azul., se, és, ...</td>\n",
       "      <td>Almada Negreiros</td>\n",
       "    </tr>\n",
       "    <tr>\n",
       "      <th>21</th>\n",
       "      <td>desord plo contin sec morte! que form lêsm seg...</td>\n",
       "      <td>[desord, plo, contin, sec, morte!, que, form, ...</td>\n",
       "      <td>Almada Negreiros</td>\n",
       "    </tr>\n",
       "    <tr>\n",
       "      <th>22</th>\n",
       "      <td>viv k4 brav salv mort terr estamp rach mart fu...</td>\n",
       "      <td>[viv, k4, brav, salv, mort, terr, estamp, rach...</td>\n",
       "      <td>Almada Negreiros</td>\n",
       "    </tr>\n",
       "    <tr>\n",
       "      <th>23</th>\n",
       "      <td>*\"orpheu\"* revist trimestr de literat portug e...</td>\n",
       "      <td>[*\"orpheu\"*, revist, trimestr, de, literat, po...</td>\n",
       "      <td>Almada Negreiros</td>\n",
       "    </tr>\n",
       "    <tr>\n",
       "      <th>24</th>\n",
       "      <td>de_ orpheu_. ist explic ansiedad essencia! est...</td>\n",
       "      <td>[de_, orpheu_., ist, explic, ansiedad, essenci...</td>\n",
       "      <td>Almada Negreiros</td>\n",
       "    </tr>\n",
       "    <tr>\n",
       "      <th>25</th>\n",
       "      <td>intermédias, e segu crist inquietação, a retin...</td>\n",
       "      <td>[intermédias,, e, segu, crist, inquietação,, a...</td>\n",
       "      <td>Almada Negreiros</td>\n",
       "    </tr>\n",
       "    <tr>\n",
       "      <th>26</th>\n",
       "      <td>mar á beira... --p sôbr eu ha grand pont que o...</td>\n",
       "      <td>[mar, á, beira..., --p, sôbr, eu, ha, grand, p...</td>\n",
       "      <td>Almada Negreiros</td>\n",
       "    </tr>\n",
       "    <tr>\n",
       "      <th>27</th>\n",
       "      <td>volup outr ros só ser unic levant sorris pedr ...</td>\n",
       "      <td>[volup, outr, ros, só, ser, unic, levant, sorr...</td>\n",
       "      <td>Almada Negreiros</td>\n",
       "    </tr>\n",
       "    <tr>\n",
       "      <th>28</th>\n",
       "      <td>viv outr' menos triste. ao entardec fiava, sen...</td>\n",
       "      <td>[viv, outr', menos, triste., ao, entardec, fia...</td>\n",
       "      <td>Almada Negreiros</td>\n",
       "    </tr>\n",
       "    <tr>\n",
       "      <th>29</th>\n",
       "      <td>d'est janella, debruçando-me, pud deix ver mon...</td>\n",
       "      <td>[d'est, janella,, debruçando-me,, pud, deix, v...</td>\n",
       "      <td>Almada Negreiros</td>\n",
       "    </tr>\n",
       "    <tr>\n",
       "      <th>...</th>\n",
       "      <td>...</td>\n",
       "      <td>...</td>\n",
       "      <td>...</td>\n",
       "    </tr>\n",
       "    <tr>\n",
       "      <th>4219</th>\n",
       "      <td>guichet. − sou eu, − levant atordo − parec vez...</td>\n",
       "      <td>[guichet., −, sou, eu,, −, levant, atordo, −, ...</td>\n",
       "      <td>Luisa Marques Silva</td>\n",
       "    </tr>\n",
       "    <tr>\n",
       "      <th>4220</th>\n",
       "      <td>títul um passei infern autor luís marqu silv t...</td>\n",
       "      <td>[títul, um, passei, infern, autor, luís, marqu...</td>\n",
       "      <td>Luisa Marques Silva</td>\n",
       "    </tr>\n",
       "    <tr>\n",
       "      <th>4221</th>\n",
       "      <td>quente. apavorada, sent cord esmag ossos. grit...</td>\n",
       "      <td>[quente., apavorada,, sent, cord, esmag, ossos...</td>\n",
       "      <td>Luisa Marques Silva</td>\n",
       "    </tr>\n",
       "    <tr>\n",
       "      <th>4222</th>\n",
       "      <td>títul rapsód dó (maior) autor luís marqu silv ...</td>\n",
       "      <td>[títul, rapsód, dó, (maior), autor, luís, marq...</td>\n",
       "      <td>Luisa Marques Silva</td>\n",
       "    </tr>\n",
       "    <tr>\n",
       "      <th>4223</th>\n",
       "      <td>mas céu continu cinzento. cinzent escuro. nem ...</td>\n",
       "      <td>[mas, céu, continu, cinzento., cinzent, escuro...</td>\n",
       "      <td>Luisa Marques Silva</td>\n",
       "    </tr>\n",
       "    <tr>\n",
       "      <th>4224</th>\n",
       "      <td>conduz-nos, decidido, arrecadação, tras café, ...</td>\n",
       "      <td>[conduz-nos,, decidido,, arrecadação,, tras, c...</td>\n",
       "      <td>Luisa Marques Silva</td>\n",
       "    </tr>\n",
       "    <tr>\n",
       "      <th>4225</th>\n",
       "      <td>empurrou-m mim orc trá caixotes, ond escond ta...</td>\n",
       "      <td>[empurrou-m, mim, orc, trá, caixotes,, ond, es...</td>\n",
       "      <td>Luisa Marques Silva</td>\n",
       "    </tr>\n",
       "    <tr>\n",
       "      <th>4226</th>\n",
       "      <td>no europ 2000. dei-lh melhor pontapé. a cabeç ...</td>\n",
       "      <td>[no, europ, 2000., dei-lh, melhor, pontapé., a...</td>\n",
       "      <td>Luisa Marques Silva</td>\n",
       "    </tr>\n",
       "    <tr>\n",
       "      <th>4227</th>\n",
       "      <td>descrev permitiram-m conclu crianç abert nov e...</td>\n",
       "      <td>[descrev, permitiram-m, conclu, crianç, abert,...</td>\n",
       "      <td>Luisa Marques Silva</td>\n",
       "    </tr>\n",
       "    <tr>\n",
       "      <th>4228</th>\n",
       "      <td>títul a últ histór autor (próx nobel) luís mar...</td>\n",
       "      <td>[títul, a, últ, histór, autor, (próx, nobel), ...</td>\n",
       "      <td>Luisa Marques Silva</td>\n",
       "    </tr>\n",
       "    <tr>\n",
       "      <th>4229</th>\n",
       "      <td>− ras porc − vivia. por volt dez trint organ f...</td>\n",
       "      <td>[−, ras, porc, −, vivia., por, volt, dez, trin...</td>\n",
       "      <td>Luisa Marques Silva</td>\n",
       "    </tr>\n",
       "    <tr>\n",
       "      <th>4230</th>\n",
       "      <td>avent final felizes. “se autóps revel pint cab...</td>\n",
       "      <td>[avent, final, felizes., “se, autóps, revel, p...</td>\n",
       "      <td>Luisa Marques Silva</td>\n",
       "    </tr>\n",
       "    <tr>\n",
       "      <th>4231</th>\n",
       "      <td>pod cas lo custódia. assim, heró deix ser josé...</td>\n",
       "      <td>[pod, cas, lo, custódia., assim,, heró, deix, ...</td>\n",
       "      <td>Luisa Marques Silva</td>\n",
       "    </tr>\n",
       "    <tr>\n",
       "      <th>4232</th>\n",
       "      <td>josé carl cham atenç pres gem horrendo: − cúmp...</td>\n",
       "      <td>[josé, carl, cham, atenç, pres, gem, horrendo:...</td>\n",
       "      <td>Luisa Marques Silva</td>\n",
       "    </tr>\n",
       "    <tr>\n",
       "      <th>4233</th>\n",
       "      <td>herói. aind cima, sempr pod aproveit acrescent...</td>\n",
       "      <td>[herói., aind, cima,, sempr, pod, aproveit, ac...</td>\n",
       "      <td>Luisa Marques Silva</td>\n",
       "    </tr>\n",
       "    <tr>\n",
       "      <th>4234</th>\n",
       "      <td>ruiv fabíola, guinch horrorizada. o queix insp...</td>\n",
       "      <td>[ruiv, fabíola,, guinch, horrorizada., o, quei...</td>\n",
       "      <td>Luisa Marques Silva</td>\n",
       "    </tr>\n",
       "    <tr>\n",
       "      <th>4235</th>\n",
       "      <td>ric trabalhado, ouro, muit pérol muit jóias. a...</td>\n",
       "      <td>[ric, trabalhado,, ouro,, muit, pérol, muit, j...</td>\n",
       "      <td>Luisa Marques Silva</td>\n",
       "    </tr>\n",
       "    <tr>\n",
       "      <th>4236</th>\n",
       "      <td>corpo. dor. o corp cai.</td>\n",
       "      <td>[corpo., dor., o, corp, cai.]</td>\n",
       "      <td>Luisa Marques Silva</td>\n",
       "    </tr>\n",
       "    <tr>\n",
       "      <th>0</th>\n",
       "      <td>depois, pouc pouco, tranquil regressa, agor lí...</td>\n",
       "      <td>[depois,, pouc, pouco,, tranquil, regressa,, a...</td>\n",
       "      <td>None</td>\n",
       "    </tr>\n",
       "    <tr>\n",
       "      <th>1</th>\n",
       "      <td>just tid ide faz cabeç christ christ inteiro. ...</td>\n",
       "      <td>[just, tid, ide, faz, cabeç, christ, christ, i...</td>\n",
       "      <td>None</td>\n",
       "    </tr>\n",
       "    <tr>\n",
       "      <th>2</th>\n",
       "      <td>quas mê depois, époc exam aproximava-s vertigi...</td>\n",
       "      <td>[quas, mê, depois,, époc, exam, aproximava-s, ...</td>\n",
       "      <td>None</td>\n",
       "    </tr>\n",
       "    <tr>\n",
       "      <th>3</th>\n",
       "      <td>agora, porém, fervor, arrastadamente, ell lev ...</td>\n",
       "      <td>[agora,, porém,, fervor,, arrastadamente,, ell...</td>\n",
       "      <td>None</td>\n",
       "    </tr>\n",
       "    <tr>\n",
       "      <th>4</th>\n",
       "      <td>o cah cim descer, desc mortalh trev sobr abysm...</td>\n",
       "      <td>[o, cah, cim, descer,, desc, mortalh, trev, so...</td>\n",
       "      <td>None</td>\n",
       "    </tr>\n",
       "    <tr>\n",
       "      <th>5</th>\n",
       "      <td>\"o senh ensin pen hom sabe. ou seja, alá fal d...</td>\n",
       "      <td>[\"o, senh, ensin, pen, hom, sabe., ou, seja,, ...</td>\n",
       "      <td>None</td>\n",
       "    </tr>\n",
       "    <tr>\n",
       "      <th>6</th>\n",
       "      <td>depois, pouc pouco, tranquil regressa, agor lí...</td>\n",
       "      <td>[depois,, pouc, pouco,, tranquil, regressa,, a...</td>\n",
       "      <td>None</td>\n",
       "    </tr>\n",
       "    <tr>\n",
       "      <th>7</th>\n",
       "      <td>just tid ide faz cabeç christ christ inteiro. ...</td>\n",
       "      <td>[just, tid, ide, faz, cabeç, christ, christ, i...</td>\n",
       "      <td>None</td>\n",
       "    </tr>\n",
       "    <tr>\n",
       "      <th>8</th>\n",
       "      <td>quas mê depois, époc exam aproximava-s vertigi...</td>\n",
       "      <td>[quas, mê, depois,, époc, exam, aproximava-s, ...</td>\n",
       "      <td>None</td>\n",
       "    </tr>\n",
       "    <tr>\n",
       "      <th>9</th>\n",
       "      <td>agora, porém, fervor, arrastadamente, ell lev ...</td>\n",
       "      <td>[agora,, porém,, fervor,, arrastadamente,, ell...</td>\n",
       "      <td>None</td>\n",
       "    </tr>\n",
       "    <tr>\n",
       "      <th>10</th>\n",
       "      <td>o cah cim descer, desc mortalh trev sobr abysm...</td>\n",
       "      <td>[o, cah, cim, descer,, desc, mortalh, trev, so...</td>\n",
       "      <td>None</td>\n",
       "    </tr>\n",
       "    <tr>\n",
       "      <th>11</th>\n",
       "      <td>\"o senh ensin pen hom sabe. ou seja, alá fal d...</td>\n",
       "      <td>[\"o, senh, ensin, pen, hom, sabe., ou, seja,, ...</td>\n",
       "      <td>None</td>\n",
       "    </tr>\n",
       "  </tbody>\n",
       "</table>\n",
       "<p>4249 rows × 3 columns</p>\n",
       "</div>"
      ],
      "text/plain": [
       "                                         500 Clean Text  \\\n",
       "0     title: a scen odi author: josé alm negr releas...   \n",
       "1     branc par vict torneios-lot donzellas-glorias!...   \n",
       "2     lua enxovalh vir lavadeira! larg cidad foge! l...   \n",
       "3     title: o jardim pierrett author: josé alm negr...   \n",
       "4     title: a invenç dia clar author: josé alm negr...   \n",
       "5     compunh palavras; arranc arvor prens ond apert...   \n",
       "6     est hom sós raça-- phenicio! cad vint doi sign...   \n",
       "7     ajuda- ir á loucura. vae tamb pessoalmente, co...   \n",
       "8     cant succed ás tangerin rol pró mar: tam tam-t...   \n",
       "9     eu ia tão contente! ia pens ti verb sab verb g...   \n",
       "10    desd univers peit quotidiano. vim long fic den...   \n",
       "11    invenção. foi-n complet impossi inclu pres edi...   \n",
       "12    title: litor a amade souz cardoz author: josé ...   \n",
       "13    expos +amade souz cardoso+ lig naval de lisbo ...   \n",
       "14    *josé de almada-negreiros* *k4 quadr azul* aca...   \n",
       "15    expontane excentr transcrever-m desloc abstrat...   \n",
       "16    sienn brulée*. as parêd desab sobr chã atapet ...   \n",
       "17    arranc impotenc suic arrast diz exact desviand...   \n",
       "18    esforç desenvencilhar-s atilh proclam independ...   \n",
       "19    valores, interess form geral resolve-s exced q...   \n",
       "20    igual mim aind sab quadr azul. se és deu porqu...   \n",
       "21    desord plo contin sec morte! que form lêsm seg...   \n",
       "22    viv k4 brav salv mort terr estamp rach mart fu...   \n",
       "23    *\"orpheu\"* revist trimestr de literat portug e...   \n",
       "24    de_ orpheu_. ist explic ansiedad essencia! est...   \n",
       "25    intermédias, e segu crist inquietação, a retin...   \n",
       "26    mar á beira... --p sôbr eu ha grand pont que o...   \n",
       "27    volup outr ros só ser unic levant sorris pedr ...   \n",
       "28    viv outr' menos triste. ao entardec fiava, sen...   \n",
       "29    d'est janella, debruçando-me, pud deix ver mon...   \n",
       "...                                                 ...   \n",
       "4219  guichet. − sou eu, − levant atordo − parec vez...   \n",
       "4220  títul um passei infern autor luís marqu silv t...   \n",
       "4221  quente. apavorada, sent cord esmag ossos. grit...   \n",
       "4222  títul rapsód dó (maior) autor luís marqu silv ...   \n",
       "4223  mas céu continu cinzento. cinzent escuro. nem ...   \n",
       "4224  conduz-nos, decidido, arrecadação, tras café, ...   \n",
       "4225  empurrou-m mim orc trá caixotes, ond escond ta...   \n",
       "4226  no europ 2000. dei-lh melhor pontapé. a cabeç ...   \n",
       "4227  descrev permitiram-m conclu crianç abert nov e...   \n",
       "4228  títul a últ histór autor (próx nobel) luís mar...   \n",
       "4229  − ras porc − vivia. por volt dez trint organ f...   \n",
       "4230  avent final felizes. “se autóps revel pint cab...   \n",
       "4231  pod cas lo custódia. assim, heró deix ser josé...   \n",
       "4232  josé carl cham atenç pres gem horrendo: − cúmp...   \n",
       "4233  herói. aind cima, sempr pod aproveit acrescent...   \n",
       "4234  ruiv fabíola, guinch horrorizada. o queix insp...   \n",
       "4235  ric trabalhado, ouro, muit pérol muit jóias. a...   \n",
       "4236                            corpo. dor. o corp cai.   \n",
       "0     depois, pouc pouco, tranquil regressa, agor lí...   \n",
       "1     just tid ide faz cabeç christ christ inteiro. ...   \n",
       "2     quas mê depois, époc exam aproximava-s vertigi...   \n",
       "3     agora, porém, fervor, arrastadamente, ell lev ...   \n",
       "4     o cah cim descer, desc mortalh trev sobr abysm...   \n",
       "5     \"o senh ensin pen hom sabe. ou seja, alá fal d...   \n",
       "6     depois, pouc pouco, tranquil regressa, agor lí...   \n",
       "7     just tid ide faz cabeç christ christ inteiro. ...   \n",
       "8     quas mê depois, époc exam aproximava-s vertigi...   \n",
       "9     agora, porém, fervor, arrastadamente, ell lev ...   \n",
       "10    o cah cim descer, desc mortalh trev sobr abysm...   \n",
       "11    \"o senh ensin pen hom sabe. ou seja, alá fal d...   \n",
       "\n",
       "                                          500 Word List               Author  \n",
       "0     [title:, a, scen, odi, author:, josé, alm, neg...     Almada Negreiros  \n",
       "1     [branc, par, vict, torneios-lot, donzellas-glo...     Almada Negreiros  \n",
       "2     [lua, enxovalh, vir, lavadeira!, larg, cidad, ...     Almada Negreiros  \n",
       "3     [title:, o, jardim, pierrett, author:, josé, a...     Almada Negreiros  \n",
       "4     [title:, a, invenç, dia, clar, author:, josé, ...     Almada Negreiros  \n",
       "5     [compunh, palavras;, arranc, arvor, prens, ond...     Almada Negreiros  \n",
       "6     [est, hom, sós, raça--, phenicio!, cad, vint, ...     Almada Negreiros  \n",
       "7     [ajuda-, ir, á, loucura., vae, tamb, pessoalme...     Almada Negreiros  \n",
       "8     [cant, succed, ás, tangerin, rol, pró, mar:, t...     Almada Negreiros  \n",
       "9     [eu, ia, tão, contente!, ia, pens, ti, verb, s...     Almada Negreiros  \n",
       "10    [desd, univers, peit, quotidiano., vim, long, ...     Almada Negreiros  \n",
       "11    [invenção., foi-n, complet, impossi, inclu, pr...     Almada Negreiros  \n",
       "12    [title:, litor, a, amade, souz, cardoz, author...     Almada Negreiros  \n",
       "13    [expos, +amade, souz, cardoso+, lig, naval, de...     Almada Negreiros  \n",
       "14    [*josé, de, almada-negreiros*, *k4, quadr, azu...     Almada Negreiros  \n",
       "15    [expontane, excentr, transcrever-m, desloc, ab...     Almada Negreiros  \n",
       "16    [sienn, brulée*., as, parêd, desab, sobr, chã,...     Almada Negreiros  \n",
       "17    [arranc, impotenc, suic, arrast, diz, exact, d...     Almada Negreiros  \n",
       "18    [esforç, desenvencilhar-s, atilh, proclam, ind...     Almada Negreiros  \n",
       "19    [valores,, interess, form, geral, resolve-s, e...     Almada Negreiros  \n",
       "20    [igual, mim, aind, sab, quadr, azul., se, és, ...     Almada Negreiros  \n",
       "21    [desord, plo, contin, sec, morte!, que, form, ...     Almada Negreiros  \n",
       "22    [viv, k4, brav, salv, mort, terr, estamp, rach...     Almada Negreiros  \n",
       "23    [*\"orpheu\"*, revist, trimestr, de, literat, po...     Almada Negreiros  \n",
       "24    [de_, orpheu_., ist, explic, ansiedad, essenci...     Almada Negreiros  \n",
       "25    [intermédias,, e, segu, crist, inquietação,, a...     Almada Negreiros  \n",
       "26    [mar, á, beira..., --p, sôbr, eu, ha, grand, p...     Almada Negreiros  \n",
       "27    [volup, outr, ros, só, ser, unic, levant, sorr...     Almada Negreiros  \n",
       "28    [viv, outr', menos, triste., ao, entardec, fia...     Almada Negreiros  \n",
       "29    [d'est, janella,, debruçando-me,, pud, deix, v...     Almada Negreiros  \n",
       "...                                                 ...                  ...  \n",
       "4219  [guichet., −, sou, eu,, −, levant, atordo, −, ...  Luisa Marques Silva  \n",
       "4220  [títul, um, passei, infern, autor, luís, marqu...  Luisa Marques Silva  \n",
       "4221  [quente., apavorada,, sent, cord, esmag, ossos...  Luisa Marques Silva  \n",
       "4222  [títul, rapsód, dó, (maior), autor, luís, marq...  Luisa Marques Silva  \n",
       "4223  [mas, céu, continu, cinzento., cinzent, escuro...  Luisa Marques Silva  \n",
       "4224  [conduz-nos,, decidido,, arrecadação,, tras, c...  Luisa Marques Silva  \n",
       "4225  [empurrou-m, mim, orc, trá, caixotes,, ond, es...  Luisa Marques Silva  \n",
       "4226  [no, europ, 2000., dei-lh, melhor, pontapé., a...  Luisa Marques Silva  \n",
       "4227  [descrev, permitiram-m, conclu, crianç, abert,...  Luisa Marques Silva  \n",
       "4228  [títul, a, últ, histór, autor, (próx, nobel), ...  Luisa Marques Silva  \n",
       "4229  [−, ras, porc, −, vivia., por, volt, dez, trin...  Luisa Marques Silva  \n",
       "4230  [avent, final, felizes., “se, autóps, revel, p...  Luisa Marques Silva  \n",
       "4231  [pod, cas, lo, custódia., assim,, heró, deix, ...  Luisa Marques Silva  \n",
       "4232  [josé, carl, cham, atenç, pres, gem, horrendo:...  Luisa Marques Silva  \n",
       "4233  [herói., aind, cima,, sempr, pod, aproveit, ac...  Luisa Marques Silva  \n",
       "4234  [ruiv, fabíola,, guinch, horrorizada., o, quei...  Luisa Marques Silva  \n",
       "4235  [ric, trabalhado,, ouro,, muit, pérol, muit, j...  Luisa Marques Silva  \n",
       "4236                      [corpo., dor., o, corp, cai.]  Luisa Marques Silva  \n",
       "0     [depois,, pouc, pouco,, tranquil, regressa,, a...                 None  \n",
       "1     [just, tid, ide, faz, cabeç, christ, christ, i...                 None  \n",
       "2     [quas, mê, depois,, époc, exam, aproximava-s, ...                 None  \n",
       "3     [agora,, porém,, fervor,, arrastadamente,, ell...                 None  \n",
       "4     [o, cah, cim, descer,, desc, mortalh, trev, so...                 None  \n",
       "5     [\"o, senh, ensin, pen, hom, sabe., ou, seja,, ...                 None  \n",
       "6     [depois,, pouc, pouco,, tranquil, regressa,, a...                 None  \n",
       "7     [just, tid, ide, faz, cabeç, christ, christ, i...                 None  \n",
       "8     [quas, mê, depois,, époc, exam, aproximava-s, ...                 None  \n",
       "9     [agora,, porém,, fervor,, arrastadamente,, ell...                 None  \n",
       "10    [o, cah, cim, descer,, desc, mortalh, trev, so...                 None  \n",
       "11    [\"o, senh, ensin, pen, hom, sabe., ou, seja,, ...                 None  \n",
       "\n",
       "[4249 rows x 3 columns]"
      ]
     },
     "execution_count": 45,
     "metadata": {},
     "output_type": "execute_result"
    }
   ],
   "source": [
    "# rename the columns in the new corpora so that they're the same as the ones in the train corpora\n",
    "new_corpora = new_corpora.rename(columns={'Word List':'500 Word List','Clean Text':'500 Clean Text'})\n",
    "# drop the 'Text' column as it's not common to both DataFrames\n",
    "new_corpora = new_corpora.drop(columns=['Text'])\n",
    "# concat both DataFrames\n",
    "all_corpora = pd.concat([corpora,new_corpora])\n",
    "all_corpora"
   ]
  },
  {
   "cell_type": "code",
   "execution_count": 46,
   "metadata": {},
   "outputs": [],
   "source": [
    "# find the word embeddings for the words in the corpora\n",
    "word_embeddings = Word2Vec(all_corpora['500 Word List'],min_count=0,workers=4)"
   ]
  },
  {
   "cell_type": "code",
   "execution_count": 47,
   "metadata": {},
   "outputs": [
    {
     "data": {
      "application/vnd.jupyter.widget-view+json": {
       "model_id": "c67fbec1d07646359790cd0599cf2e49",
       "version_major": 2,
       "version_minor": 0
      },
      "text/plain": [
       "HBox(children=(IntProgress(value=0, max=4237), HTML(value='')))"
      ]
     },
     "metadata": {},
     "output_type": "display_data"
    },
    {
     "name": "stdout",
     "output_type": "stream",
     "text": [
      "\n"
     ]
    }
   ],
   "source": [
    "# get the text scores for the texts in the train set\n",
    "X_train = text_score(corpora,word_embeddings)\n",
    "y_train = corpora['Author']"
   ]
  },
  {
   "cell_type": "code",
   "execution_count": 48,
   "metadata": {},
   "outputs": [
    {
     "data": {
      "text/plain": [
       "MLPClassifier(activation='relu', alpha=0.0001, batch_size='auto', beta_1=0.9,\n",
       "              beta_2=0.999, early_stopping=False, epsilon=1e-08,\n",
       "              hidden_layer_sizes=(100,), learning_rate='constant',\n",
       "              learning_rate_init=0.001, max_fun=15000, max_iter=200,\n",
       "              momentum=0.9, n_iter_no_change=10, nesterovs_momentum=True,\n",
       "              power_t=0.5, random_state=None, shuffle=True, solver='adam',\n",
       "              tol=0.0001, validation_fraction=0.1, verbose=False,\n",
       "              warm_start=False)"
      ]
     },
     "execution_count": 48,
     "metadata": {},
     "output_type": "execute_result"
    }
   ],
   "source": [
    "# predict the labels of the test set\n",
    "classifier.fit(X_train,y_train)"
   ]
  },
  {
   "cell_type": "code",
   "execution_count": 49,
   "metadata": {},
   "outputs": [
    {
     "data": {
      "application/vnd.jupyter.widget-view+json": {
       "model_id": "6bdd3e6c46b6479687f2dc91536839ca",
       "version_major": 2,
       "version_minor": 0
      },
      "text/plain": [
       "HBox(children=(IntProgress(value=0, max=12), HTML(value='')))"
      ]
     },
     "metadata": {},
     "output_type": "display_data"
    },
    {
     "name": "stdout",
     "output_type": "stream",
     "text": [
      "\n"
     ]
    }
   ],
   "source": [
    "# get the text scores for the texts in the test set\n",
    "X_test = text_score(new_corpora,word_embeddings)\n",
    "\n",
    "# predict the labels of the test set\n",
    "prediction = classifier.predict(X_test)"
   ]
  },
  {
   "cell_type": "code",
   "execution_count": 50,
   "metadata": {},
   "outputs": [
    {
     "data": {
      "text/plain": [
       "array(['Jose Saramago', 'Eca de Queiros', 'Jose Saramago',\n",
       "       'Eca de Queiros', 'Camilo Castelo Branco',\n",
       "       'Jose Rodrigues dos Santos', 'Jose Saramago', 'Eca de Queiros',\n",
       "       'Jose Saramago', 'Eca de Queiros', 'Camilo Castelo Branco',\n",
       "       'Jose Rodrigues dos Santos'], dtype='<U25')"
      ]
     },
     "execution_count": 50,
     "metadata": {},
     "output_type": "execute_result"
    }
   ],
   "source": [
    "prediction"
   ]
  }
 ],
 "metadata": {
  "kernelspec": {
   "display_name": "Python 3",
   "language": "python",
   "name": "python3"
  },
  "language_info": {
   "codemirror_mode": {
    "name": "ipython",
    "version": 3
   },
   "file_extension": ".py",
   "mimetype": "text/x-python",
   "name": "python",
   "nbconvert_exporter": "python",
   "pygments_lexer": "ipython3",
   "version": "3.7.3"
  }
 },
 "nbformat": 4,
 "nbformat_minor": 2
}
