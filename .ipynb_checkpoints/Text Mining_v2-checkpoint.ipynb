{
 "cells": [
  {
   "cell_type": "markdown",
   "metadata": {},
   "source": [
    "# Text Mining"
   ]
  },
  {
   "cell_type": "markdown",
   "metadata": {},
   "source": [
    "## Load necessary packages"
   ]
  },
  {
   "cell_type": "code",
   "execution_count": 1,
   "metadata": {},
   "outputs": [],
   "source": [
    "from pathlib import Path\n",
    "import pandas as pd\n",
    "import re\n",
    "import nltk\n",
    "from nltk.corpus import stopwords\n",
    "from nltk.stem.wordnet import WordNetLemmatizer\n",
    "from nltk.stem import SnowballStemmer\n",
    "from bs4 import BeautifulSoup\n",
    "from unidecode import unidecode\n",
    "from tqdm import tqdm_notebook as tqdm\n",
    "from sklearn.model_selection import KFold\n",
    "import string\n",
    "import collections as ct\n",
    "from sklearn.feature_extraction.text import CountVectorizer\n",
    "from sklearn.feature_extraction.text import TfidfVectorizer\n",
    "import numpy as np\n",
    "import matplotlib.pyplot as plt\n",
    "from nltk.stem import SnowballStemmer\n",
    "from nltk.stem import RSLPStemmer\n",
    "from nltk.corpus import stopwords\n",
    "from sklearn.naive_bayes import MultinomialNB\n",
    "from sklearn.model_selection import GridSearchCV\n",
    "from sklearn.preprocessing import LabelEncoder\n",
    "from sklearn.metrics import accuracy_score\n",
    "from sklearn.svm import SVC\n",
    "from sklearn.tree import DecisionTreeClassifier\n",
    "import gensim\n",
    "from sklearn.neural_network import MLPClassifier"
   ]
  },
  {
   "cell_type": "markdown",
   "metadata": {},
   "source": [
    "## Load corpora"
   ]
  },
  {
   "cell_type": "code",
   "execution_count": 2,
   "metadata": {},
   "outputs": [],
   "source": [
    "def load_corpus(filename):\n",
    "    corpus = Path(filename).read_text(encoding=\"utf8\")\n",
    "    return corpus"
   ]
  },
  {
   "cell_type": "code",
   "execution_count": 3,
   "metadata": {},
   "outputs": [],
   "source": [
    "def load_corpora(filelist,author):\n",
    "    files = []\n",
    "    for file in filelist:\n",
    "        location = \"Corpora/train/\"+file\n",
    "        corpus = load_corpus(location)\n",
    "        files.append(corpus)\n",
    "    df = pd.DataFrame(files, columns=['Text'])\n",
    "    df['Author'] = pd.Series([author for x in range(len(df.index))], index=df.index)\n",
    "    return df"
   ]
  },
  {
   "cell_type": "code",
   "execution_count": 4,
   "metadata": {},
   "outputs": [],
   "source": [
    "almada = [\n",
    "    'AlmadaNegreiros/pg22615.txt',\n",
    "    'AlmadaNegreiros/pg22730.txt',\n",
    "    'AlmadaNegreiros/pg22801.txt',\n",
    "    'AlmadaNegreiros/pg22802.txt',\n",
    "    'AlmadaNegreiros/pg22969.txt',\n",
    "    'AlmadaNegreiros/pg23133.txt',\n",
    "    'AlmadaNegreiros/pg23620.txt',\n",
    "    'AlmadaNegreiros/pg23879.txt',\n",
    "    'AlmadaNegreiros/pg23961.txt'\n",
    "]"
   ]
  },
  {
   "cell_type": "code",
   "execution_count": 5,
   "metadata": {},
   "outputs": [
    {
     "data": {
      "text/plain": [
       "(9, 2)"
      ]
     },
     "execution_count": 5,
     "metadata": {},
     "output_type": "execute_result"
    }
   ],
   "source": [
    "corpora_almada = load_corpora(almada, 'Almada Negreiros')\n",
    "corpora_almada.shape"
   ]
  },
  {
   "cell_type": "code",
   "execution_count": 6,
   "metadata": {},
   "outputs": [
    {
     "data": {
      "text/plain": [
       "(20, 2)"
      ]
     },
     "execution_count": 6,
     "metadata": {},
     "output_type": "execute_result"
    }
   ],
   "source": [
    "camilo = [\n",
    "    'CamiloCasteloBranco/24691-0.txt',\n",
    "    'CamiloCasteloBranco/34756-0.txt',\n",
    "    'CamiloCasteloBranco/pg16425.txt',\n",
    "    'CamiloCasteloBranco/pg17927.txt',\n",
    "    'CamiloCasteloBranco/pg19375.txt',\n",
    "    'CamiloCasteloBranco/pg21406.txt',\n",
    "    'CamiloCasteloBranco/pg23203.txt',\n",
    "    'CamiloCasteloBranco/pg23345.txt',\n",
    "    'CamiloCasteloBranco/pg23346.txt',\n",
    "    'CamiloCasteloBranco/pg24339.txt',\n",
    "    'CamiloCasteloBranco/pg25844.txt',\n",
    "    'CamiloCasteloBranco/pg26017.txt',\n",
    "    'CamiloCasteloBranco/pg26103.txt',\n",
    "    'CamiloCasteloBranco/pg26110.txt',\n",
    "    'CamiloCasteloBranco/pg26988.txt',\n",
    "    'CamiloCasteloBranco/pg27364.txt',\n",
    "    'CamiloCasteloBranco/pg27541.txt',\n",
    "    'CamiloCasteloBranco/pg28310.txt',\n",
    "    'CamiloCasteloBranco/pg31694.txt',\n",
    "    'CamiloCasteloBranco/pg33788.txt',\n",
    "]\n",
    "\n",
    "corpora_camilo = load_corpora(camilo, 'Camilo Castelo Branco')\n",
    "corpora_camilo.shape"
   ]
  },
  {
   "cell_type": "code",
   "execution_count": 7,
   "metadata": {},
   "outputs": [
    {
     "data": {
      "text/plain": [
       "(5, 2)"
      ]
     },
     "execution_count": 7,
     "metadata": {},
     "output_type": "execute_result"
    }
   ],
   "source": [
    "eca = [\n",
    "    'EcaDeQueiros/pg18220.txt',\n",
    "    'EcaDeQueiros/pg25641.txt',\n",
    "    'EcaDeQueiros/pg27637.txt',\n",
    "    'EcaDeQueiros/pg31347.txt',\n",
    "    'EcaDeQueiros/pg40409.txt'\n",
    "]\n",
    "\n",
    "corpora_eca = load_corpora(eca, 'Eca de Queiros')\n",
    "corpora_eca.shape"
   ]
  },
  {
   "cell_type": "code",
   "execution_count": 8,
   "metadata": {},
   "outputs": [
    {
     "data": {
      "text/plain": [
       "(8, 2)"
      ]
     },
     "execution_count": 8,
     "metadata": {},
     "output_type": "execute_result"
    }
   ],
   "source": [
    "rodrigues_santos = [\n",
    "    'JoseRodriguesSantos/A Filha Do Capitao - Jose Rodrigues dos Santos.txt',\n",
    "    'JoseRodriguesSantos/A Formula De Deus - Jose Rodrigues dos Santos.txt',\n",
    "    'JoseRodriguesSantos/A Mao do Diabo - Jose Rodrigues dos Santos.txt',\n",
    "    'JoseRodriguesSantos/A Vida Num Sopro - Jose Rodrigues dos Santos.txt',\n",
    "    'JoseRodriguesSantos/Furia Divina - Jose Rodrigues dos Santos.txt',\n",
    "    'JoseRodriguesSantos/O Anjo Branco - Jose Rodrigues dos Santos.txt',\n",
    "    'JoseRodriguesSantos/O Setimo Selo - Jose Rodrigues dos Santos.txt',\n",
    "    'JoseRodriguesSantos/O ultimo Segredo - Jose Rodrigues dos Santos.txt'\n",
    "]\n",
    "\n",
    "corpora_rodrigues_santos = load_corpora(rodrigues_santos, 'Jose Rodrigues dos Santos')\n",
    "corpora_rodrigues_santos.shape"
   ]
  },
  {
   "cell_type": "code",
   "execution_count": 9,
   "metadata": {},
   "outputs": [
    {
     "data": {
      "text/plain": [
       "(12, 2)"
      ]
     },
     "execution_count": 9,
     "metadata": {},
     "output_type": "execute_result"
    }
   ],
   "source": [
    "saramago = [\n",
    "    'JoseSaramago/A Caverna - Jose Saramago.txt',\n",
    "    'JoseSaramago/As Intermitencias da Morte - Jose Saramago.txt',\n",
    "    'JoseSaramago/Caim - Jose Saramago.txt',\n",
    "    'JoseSaramago/Claraboia - Jose Saramago.txt',\n",
    "    'JoseSaramago/Ensaio Sobre a Cegueira - Jose Saramago.txt',\n",
    "    'JoseSaramago/Historia Do Cerco De Lisboa - Jose Saramago.txt',\n",
    "    'JoseSaramago/Memorial Do Convento - Jose Saramago.txt',\n",
    "    'JoseSaramago/O Ano Da Morte De Ricardo Reis - Jose Saramago.txt',\n",
    "    'JoseSaramago/O Conto Da Ilha Desconhecida - Jose Saramago.txt',\n",
    "    'JoseSaramago/O Homem Duplicado - Jose Saramago.txt',\n",
    "    'JoseSaramago/Terra Do Pecado - Jose Saramago.txt',\n",
    "    'JoseSaramago/Viagem Do Elefante - Jose Saramago.txt'\n",
    "]\n",
    "\n",
    "corpora_saramago = load_corpora(saramago, 'Jose Saramago')\n",
    "corpora_saramago.shape"
   ]
  },
  {
   "cell_type": "code",
   "execution_count": 10,
   "metadata": {},
   "outputs": [
    {
     "data": {
      "text/plain": [
       "(9, 2)"
      ]
     },
     "execution_count": 10,
     "metadata": {},
     "output_type": "execute_result"
    }
   ],
   "source": [
    "luisa = [\n",
    "    'LuisaMarquesSilva/ABelaHistoria.txt',\n",
    "    'LuisaMarquesSilva/acabouSe.txt',\n",
    "    'LuisaMarquesSilva/Botão.txt',\n",
    "    'LuisaMarquesSilva/controlz.txt',\n",
    "    'LuisaMarquesSilva/emedo.txt',\n",
    "    'LuisaMarquesSilva/Lisboa2050.txt',\n",
    "    'LuisaMarquesSilva/passeioInferno.txt',\n",
    "    'LuisaMarquesSilva/rapsodiasemdo.txt',\n",
    "    'LuisaMarquesSilva/UltimaHistoria.txt'\n",
    "]\n",
    "\n",
    "corpora_luisa = load_corpora(luisa, 'Luisa Marques Silva')\n",
    "corpora_luisa.shape"
   ]
  },
  {
   "cell_type": "code",
   "execution_count": 11,
   "metadata": {},
   "outputs": [
    {
     "data": {
      "text/plain": [
       "(63, 2)"
      ]
     },
     "execution_count": 11,
     "metadata": {},
     "output_type": "execute_result"
    }
   ],
   "source": [
    "corpora = pd.concat([corpora_almada, corpora_camilo, corpora_eca, corpora_rodrigues_santos, corpora_saramago, corpora_luisa]).reset_index(drop = True)\n",
    "corpora.shape"
   ]
  },
  {
   "cell_type": "markdown",
   "metadata": {},
   "source": [
    "## Cross validation sets"
   ]
  },
  {
   "cell_type": "code",
   "execution_count": 12,
   "metadata": {},
   "outputs": [
    {
     "data": {
      "text/plain": [
       "[(array([ 0,  1,  2,  3,  4,  5,  6,  7,  8,  9, 10, 11, 12, 13, 14, 16, 18,\n",
       "         19, 20, 21, 22, 24, 25, 29, 30, 31, 32, 33, 36, 37, 38, 39, 40, 42,\n",
       "         43, 44, 46, 47, 48, 49, 50, 51, 53, 54, 55, 57, 58, 59, 60, 62]),\n",
       "  array([15, 17, 23, 26, 27, 28, 34, 35, 41, 45, 52, 56, 61])),\n",
       " (array([ 0,  1,  2,  3,  4,  5,  6,  7,  8,  9, 10, 11, 12, 13, 15, 16, 17,\n",
       "         18, 19, 20, 21, 22, 23, 26, 27, 28, 29, 31, 32, 33, 34, 35, 37, 39,\n",
       "         41, 42, 43, 44, 45, 46, 48, 49, 50, 51, 52, 54, 55, 56, 59, 61]),\n",
       "  array([14, 24, 25, 30, 36, 38, 40, 47, 53, 57, 58, 60, 62])),\n",
       " (array([ 2,  3,  4,  5,  6,  7,  8,  9, 10, 11, 12, 13, 14, 15, 17, 19, 20,\n",
       "         21, 22, 23, 24, 25, 26, 27, 28, 29, 30, 32, 34, 35, 36, 38, 40, 41,\n",
       "         42, 44, 45, 47, 49, 50, 52, 53, 54, 55, 56, 57, 58, 60, 61, 62]),\n",
       "  array([ 0,  1, 16, 18, 31, 33, 37, 39, 43, 46, 48, 51, 59])),\n",
       " (array([ 0,  1,  5,  6, 11, 12, 13, 14, 15, 16, 17, 18, 20, 22, 23, 24, 25,\n",
       "         26, 27, 28, 29, 30, 31, 32, 33, 34, 35, 36, 37, 38, 39, 40, 41, 43,\n",
       "         45, 46, 47, 48, 49, 51, 52, 53, 54, 55, 56, 57, 58, 59, 60, 61, 62]),\n",
       "  array([ 2,  3,  4,  7,  8,  9, 10, 19, 21, 42, 44, 50])),\n",
       " (array([ 0,  1,  2,  3,  4,  7,  8,  9, 10, 14, 15, 16, 17, 18, 19, 21, 23,\n",
       "         24, 25, 26, 27, 28, 30, 31, 33, 34, 35, 36, 37, 38, 39, 40, 41, 42,\n",
       "         43, 44, 45, 46, 47, 48, 50, 51, 52, 53, 56, 57, 58, 59, 60, 61, 62]),\n",
       "  array([ 5,  6, 11, 12, 13, 20, 22, 29, 32, 49, 54, 55]))]"
      ]
     },
     "execution_count": 12,
     "metadata": {},
     "output_type": "execute_result"
    }
   ],
   "source": [
    "kf = KFold(n_splits=5,shuffle=True) #chose 5 because this means that the train-test split is approximately 80%-20%\n",
    "train_test_splits = []\n",
    "\n",
    "for train_index, test_index in kf.split(corpora):\n",
    "    #print(\"TRAIN:\", train_index, \"TEST:\", test_index)\n",
    "    train_test_splits.append((train_index,test_index))\n",
    "    \n",
    "train_test_splits"
   ]
  },
  {
   "cell_type": "code",
   "execution_count": 13,
   "metadata": {
    "scrolled": true
   },
   "outputs": [
    {
     "data": {
      "text/html": [
       "<div>\n",
       "<style scoped>\n",
       "    .dataframe tbody tr th:only-of-type {\n",
       "        vertical-align: middle;\n",
       "    }\n",
       "\n",
       "    .dataframe tbody tr th {\n",
       "        vertical-align: top;\n",
       "    }\n",
       "\n",
       "    .dataframe thead th {\n",
       "        text-align: right;\n",
       "    }\n",
       "</style>\n",
       "<table border=\"1\" class=\"dataframe\">\n",
       "  <thead>\n",
       "    <tr style=\"text-align: right;\">\n",
       "      <th></th>\n",
       "      <th>Text</th>\n",
       "      <th>Author</th>\n",
       "    </tr>\n",
       "  </thead>\n",
       "  <tbody>\n",
       "    <tr>\n",
       "      <th>0</th>\n",
       "      <td>Title: A Scena do Odio\\n\\nAuthor: José de Alma...</td>\n",
       "      <td>Almada Negreiros</td>\n",
       "    </tr>\n",
       "    <tr>\n",
       "      <th>1</th>\n",
       "      <td>Title: O Jardim da Pierrette\\n\\nAuthor: José d...</td>\n",
       "      <td>Almada Negreiros</td>\n",
       "    </tr>\n",
       "    <tr>\n",
       "      <th>2</th>\n",
       "      <td>\\n\\nTitle: A Invenção do Dia Claro\\n\\nAuthor: ...</td>\n",
       "      <td>Almada Negreiros</td>\n",
       "    </tr>\n",
       "    <tr>\n",
       "      <th>3</th>\n",
       "      <td>\\nTitle: Litoral\\n       A Amadeo de Souza Car...</td>\n",
       "      <td>Almada Negreiros</td>\n",
       "    </tr>\n",
       "    <tr>\n",
       "      <th>4</th>\n",
       "      <td>\\n\\n\\nEXPOSIÇÃO\\n\\n+amadeo\\nde souza\\ncardoso+...</td>\n",
       "      <td>Almada Negreiros</td>\n",
       "    </tr>\n",
       "    <tr>\n",
       "      <th>5</th>\n",
       "      <td>\\n\\n*JOSÉ DE ALMADA-NEGREIROS*\\n\\n\\n*K4\\n\\no q...</td>\n",
       "      <td>Almada Negreiros</td>\n",
       "    </tr>\n",
       "    <tr>\n",
       "      <th>6</th>\n",
       "      <td>\\n\\n*\"ORPHEU\"*\\n\\nREVISTA TRIMESTRAL DE LITERA...</td>\n",
       "      <td>Almada Negreiros</td>\n",
       "    </tr>\n",
       "    <tr>\n",
       "      <th>7</th>\n",
       "      <td>\\n\\n+a ENGOMADEIRA+\\n\\nNOVELA VULGAR LISBOETA\\...</td>\n",
       "      <td>Almada Negreiros</td>\n",
       "    </tr>\n",
       "    <tr>\n",
       "      <th>8</th>\n",
       "      <td>\\n+MANIFESTO+\\n\\n+ANTI-DANTAS+\\n\\nE\\n\\nPOR EXT...</td>\n",
       "      <td>Almada Negreiros</td>\n",
       "    </tr>\n",
       "    <tr>\n",
       "      <th>9</th>\n",
       "      <td>O vinho do Porto\\n\\nPROCESSO D'UMA BESTIALIDAD...</td>\n",
       "      <td>Camilo Castelo Branco</td>\n",
       "    </tr>\n",
       "    <tr>\n",
       "      <th>10</th>\n",
       "      <td>\\nLIVRO DE CONSOLAÇÃO\\n\\nROMANCE\\n\\nPOR\\n\\nCAM...</td>\n",
       "      <td>Camilo Castelo Branco</td>\n",
       "    </tr>\n",
       "    <tr>\n",
       "      <th>11</th>\n",
       "      <td>AMOR DE PERDIÇÃO\\n\\n\\n(MEMORIAS D'UMA FAMILIA)...</td>\n",
       "      <td>Camilo Castelo Branco</td>\n",
       "    </tr>\n",
       "    <tr>\n",
       "      <th>12</th>\n",
       "      <td>A QUEDA D'UM ANJO\\n\\nROMANCE\\n\\nPOR\\n\\nCAMILLO...</td>\n",
       "      <td>Camilo Castelo Branco</td>\n",
       "    </tr>\n",
       "    <tr>\n",
       "      <th>13</th>\n",
       "      <td>\\n\\nA SENHORA RATTAZZI\\n\\nPOR\\n\\nCAMILLO CASTE...</td>\n",
       "      <td>Camilo Castelo Branco</td>\n",
       "    </tr>\n",
       "    <tr>\n",
       "      <th>14</th>\n",
       "      <td>\\nOBRAS DE CAMILLO CASTELLO BRANCO\\n\\n_Novella...</td>\n",
       "      <td>Camilo Castelo Branco</td>\n",
       "    </tr>\n",
       "    <tr>\n",
       "      <th>15</th>\n",
       "      <td>A GRATIDÃO.\\n\\nROMANCE.\\n\\n\\nI.\\n\\nEstavamos n...</td>\n",
       "      <td>Camilo Castelo Branco</td>\n",
       "    </tr>\n",
       "    <tr>\n",
       "      <th>16</th>\n",
       "      <td>SUICIDA\\n\\n\\nPORTO Typographia de A. J. da Sil...</td>\n",
       "      <td>Camilo Castelo Branco</td>\n",
       "    </tr>\n",
       "    <tr>\n",
       "      <th>17</th>\n",
       "      <td>VOLTAREIS Ó CHRISTO?\\n\\n\\n\\n\\nPorto Imprensa P...</td>\n",
       "      <td>Camilo Castelo Branco</td>\n",
       "    </tr>\n",
       "    <tr>\n",
       "      <th>18</th>\n",
       "      <td>\\nROMANCES NACIONAES\\n\\n\\nO REGICIDA\\n\\nRomanc...</td>\n",
       "      <td>Camilo Castelo Branco</td>\n",
       "    </tr>\n",
       "    <tr>\n",
       "      <th>19</th>\n",
       "      <td>ANNOS DE PROSA\\n\\nRomance\\n\\npor\\n\\nCAMILLO CA...</td>\n",
       "      <td>Camilo Castelo Branco</td>\n",
       "    </tr>\n",
       "    <tr>\n",
       "      <th>20</th>\n",
       "      <td>OBRAS\\n\\nDE\\n\\nCAMILLO CASTELLO BRANCO\\n\\nEDIÇ...</td>\n",
       "      <td>Camilo Castelo Branco</td>\n",
       "    </tr>\n",
       "    <tr>\n",
       "      <th>21</th>\n",
       "      <td>A FILHA DO ARCEDIAGO\\n\\nFILHA DO ARCEDIAGO\\n\\n...</td>\n",
       "      <td>Camilo Castelo Branco</td>\n",
       "    </tr>\n",
       "    <tr>\n",
       "      <th>22</th>\n",
       "      <td>Obras\\n\\nde\\n\\nCamillo Castello Branco\\n\\nEdiç...</td>\n",
       "      <td>Camilo Castelo Branco</td>\n",
       "    </tr>\n",
       "    <tr>\n",
       "      <th>23</th>\n",
       "      <td>\\nA CIDADE E AS SERRAS\\n\\n\\n\\n\\nA CIDADE E AS ...</td>\n",
       "      <td>Eca de Queiros</td>\n",
       "    </tr>\n",
       "    <tr>\n",
       "      <th>24</th>\n",
       "      <td>Cartas de Inglaterra\\n\\n\\nPorto LIVRARIA CHARD...</td>\n",
       "      <td>Eca de Queiros</td>\n",
       "    </tr>\n",
       "    <tr>\n",
       "      <th>25</th>\n",
       "      <td>\\nA CORRESPONDENCIA\\n\\nDE\\n\\nFRADIQUE MENDES\\n...</td>\n",
       "      <td>Eca de Queiros</td>\n",
       "    </tr>\n",
       "    <tr>\n",
       "      <th>26</th>\n",
       "      <td>\\nEÇA DE QUEIROZ\\n\\nCONTOS\\n\\n\\nTERCEIRA EDIÇÃ...</td>\n",
       "      <td>Eca de Queiros</td>\n",
       "    </tr>\n",
       "    <tr>\n",
       "      <th>27</th>\n",
       "      <td>\\nEÇA DE QUEIROZ\\n\\nOS MAIAS\\n\\nEPISODIOS DA V...</td>\n",
       "      <td>Eca de Queiros</td>\n",
       "    </tr>\n",
       "    <tr>\n",
       "      <th>28</th>\n",
       "      <td>A MÃO DO D I A B O r o m a n c e\\n\\n\\n\\nNós so...</td>\n",
       "      <td>Jose Rodrigues dos Santos</td>\n",
       "    </tr>\n",
       "    <tr>\n",
       "      <th>29</th>\n",
       "      <td>I\\nO sol jorrava por todas as janelas em casca...</td>\n",
       "      <td>Jose Rodrigues dos Santos</td>\n",
       "    </tr>\n",
       "    <tr>\n",
       "      <th>30</th>\n",
       "      <td>Prólogo\\n\\nAs luzes dos faróis rasgaram a noit...</td>\n",
       "      <td>Jose Rodrigues dos Santos</td>\n",
       "    </tr>\n",
       "    <tr>\n",
       "      <th>31</th>\n",
       "      <td>JOSÉ RODRIGUES DOS SANTOS\\n\\nO ANJO BRANCO\\n\\n...</td>\n",
       "      <td>Jose Rodrigues dos Santos</td>\n",
       "    </tr>\n",
       "    <tr>\n",
       "      <th>32</th>\n",
       "      <td>O SÉTIMO SELO romance\\n\\n\\n © José Rodrigues d...</td>\n",
       "      <td>Jose Rodrigues dos Santos</td>\n",
       "    </tr>\n",
       "    <tr>\n",
       "      <th>33</th>\n",
       "      <td>José Saramago\\n\\nA caverna\\n\\n\\nRomance Novemb...</td>\n",
       "      <td>Jose Saramago</td>\n",
       "    </tr>\n",
       "    <tr>\n",
       "      <th>34</th>\n",
       "      <td>José Saramago As intermitências da morte\\nComp...</td>\n",
       "      <td>Jose Saramago</td>\n",
       "    </tr>\n",
       "    <tr>\n",
       "      <th>35</th>\n",
       "      <td>JOSÉ SARAMAGO\\n\\nCAIM\\n\\nCAMINHO\\n\\nBadana da ...</td>\n",
       "      <td>Jose Saramago</td>\n",
       "    </tr>\n",
       "    <tr>\n",
       "      <th>36</th>\n",
       "      <td>Livro dos Conselhos\\n\\n\\n\\nO disco amarelo ilu...</td>\n",
       "      <td>Jose Saramago</td>\n",
       "    </tr>\n",
       "    <tr>\n",
       "      <th>37</th>\n",
       "      <td>José Saramago\\n\\nHistória do cerco de Lisboa h...</td>\n",
       "      <td>Jose Saramago</td>\n",
       "    </tr>\n",
       "    <tr>\n",
       "      <th>38</th>\n",
       "      <td>MEMORIAL DO CONVENTO José Saramago JOSÉ SARAMA...</td>\n",
       "      <td>Jose Saramago</td>\n",
       "    </tr>\n",
       "    <tr>\n",
       "      <th>39</th>\n",
       "      <td>José Saramago\\n\\nO ano da morte de Ricardo Rei...</td>\n",
       "      <td>Jose Saramago</td>\n",
       "    </tr>\n",
       "    <tr>\n",
       "      <th>40</th>\n",
       "      <td>José Saramago\\n\\nO conto da ilha desconhecida\\...</td>\n",
       "      <td>Jose Saramago</td>\n",
       "    </tr>\n",
       "    <tr>\n",
       "      <th>41</th>\n",
       "      <td>O HOMEM DUPLICADO\\n\\nJosé Saramago\\n\\n***\\n\\nO...</td>\n",
       "      <td>Jose Saramago</td>\n",
       "    </tr>\n",
       "    <tr>\n",
       "      <th>42</th>\n",
       "      <td>\\n a viagem do elefante obras do autor publica...</td>\n",
       "      <td>Jose Saramago</td>\n",
       "    </tr>\n",
       "    <tr>\n",
       "      <th>43</th>\n",
       "      <td>A BELA HISTÓRIA DE DINIS E BEATRIZ OU REQUIEM ...</td>\n",
       "      <td>Luisa Marques Silva</td>\n",
       "    </tr>\n",
       "    <tr>\n",
       "      <th>44</th>\n",
       "      <td>\\n\\n\\nAcabou-se!\\nLuísa Marques da Silva\\n\\nTí...</td>\n",
       "      <td>Luisa Marques Silva</td>\n",
       "    </tr>\n",
       "    <tr>\n",
       "      <th>45</th>\n",
       "      <td>CONTROL Z\\nChegou a hora de vos contar. Chegou...</td>\n",
       "      <td>Luisa Marques Silva</td>\n",
       "    </tr>\n",
       "    <tr>\n",
       "      <th>46</th>\n",
       "      <td>Título\\ne-medo\\n\\nAutora (inspiradíssima)\\nLuí...</td>\n",
       "      <td>Luisa Marques Silva</td>\n",
       "    </tr>\n",
       "    <tr>\n",
       "      <th>47</th>\n",
       "      <td>LISBOA 2050\\nLisboa, ano de 2050. Um Agosto tã...</td>\n",
       "      <td>Luisa Marques Silva</td>\n",
       "    </tr>\n",
       "    <tr>\n",
       "      <th>48</th>\n",
       "      <td>Título\\nUm passeio pelo inferno\\n\\nAutora\\nLuí...</td>\n",
       "      <td>Luisa Marques Silva</td>\n",
       "    </tr>\n",
       "    <tr>\n",
       "      <th>49</th>\n",
       "      <td>Título\\nA última história\\n\\nAutora (próximo N...</td>\n",
       "      <td>Luisa Marques Silva</td>\n",
       "    </tr>\n",
       "  </tbody>\n",
       "</table>\n",
       "</div>"
      ],
      "text/plain": [
       "                                                 Text  \\\n",
       "0   Title: A Scena do Odio\\n\\nAuthor: José de Alma...   \n",
       "1   Title: O Jardim da Pierrette\\n\\nAuthor: José d...   \n",
       "2   \\n\\nTitle: A Invenção do Dia Claro\\n\\nAuthor: ...   \n",
       "3   \\nTitle: Litoral\\n       A Amadeo de Souza Car...   \n",
       "4   \\n\\n\\nEXPOSIÇÃO\\n\\n+amadeo\\nde souza\\ncardoso+...   \n",
       "5   \\n\\n*JOSÉ DE ALMADA-NEGREIROS*\\n\\n\\n*K4\\n\\no q...   \n",
       "6   \\n\\n*\"ORPHEU\"*\\n\\nREVISTA TRIMESTRAL DE LITERA...   \n",
       "7   \\n\\n+a ENGOMADEIRA+\\n\\nNOVELA VULGAR LISBOETA\\...   \n",
       "8   \\n+MANIFESTO+\\n\\n+ANTI-DANTAS+\\n\\nE\\n\\nPOR EXT...   \n",
       "9   O vinho do Porto\\n\\nPROCESSO D'UMA BESTIALIDAD...   \n",
       "10  \\nLIVRO DE CONSOLAÇÃO\\n\\nROMANCE\\n\\nPOR\\n\\nCAM...   \n",
       "11  AMOR DE PERDIÇÃO\\n\\n\\n(MEMORIAS D'UMA FAMILIA)...   \n",
       "12  A QUEDA D'UM ANJO\\n\\nROMANCE\\n\\nPOR\\n\\nCAMILLO...   \n",
       "13  \\n\\nA SENHORA RATTAZZI\\n\\nPOR\\n\\nCAMILLO CASTE...   \n",
       "14  \\nOBRAS DE CAMILLO CASTELLO BRANCO\\n\\n_Novella...   \n",
       "15  A GRATIDÃO.\\n\\nROMANCE.\\n\\n\\nI.\\n\\nEstavamos n...   \n",
       "16  SUICIDA\\n\\n\\nPORTO Typographia de A. J. da Sil...   \n",
       "17  VOLTAREIS Ó CHRISTO?\\n\\n\\n\\n\\nPorto Imprensa P...   \n",
       "18  \\nROMANCES NACIONAES\\n\\n\\nO REGICIDA\\n\\nRomanc...   \n",
       "19  ANNOS DE PROSA\\n\\nRomance\\n\\npor\\n\\nCAMILLO CA...   \n",
       "20  OBRAS\\n\\nDE\\n\\nCAMILLO CASTELLO BRANCO\\n\\nEDIÇ...   \n",
       "21  A FILHA DO ARCEDIAGO\\n\\nFILHA DO ARCEDIAGO\\n\\n...   \n",
       "22  Obras\\n\\nde\\n\\nCamillo Castello Branco\\n\\nEdiç...   \n",
       "23  \\nA CIDADE E AS SERRAS\\n\\n\\n\\n\\nA CIDADE E AS ...   \n",
       "24  Cartas de Inglaterra\\n\\n\\nPorto LIVRARIA CHARD...   \n",
       "25  \\nA CORRESPONDENCIA\\n\\nDE\\n\\nFRADIQUE MENDES\\n...   \n",
       "26  \\nEÇA DE QUEIROZ\\n\\nCONTOS\\n\\n\\nTERCEIRA EDIÇÃ...   \n",
       "27  \\nEÇA DE QUEIROZ\\n\\nOS MAIAS\\n\\nEPISODIOS DA V...   \n",
       "28  A MÃO DO D I A B O r o m a n c e\\n\\n\\n\\nNós so...   \n",
       "29  I\\nO sol jorrava por todas as janelas em casca...   \n",
       "30  Prólogo\\n\\nAs luzes dos faróis rasgaram a noit...   \n",
       "31  JOSÉ RODRIGUES DOS SANTOS\\n\\nO ANJO BRANCO\\n\\n...   \n",
       "32  O SÉTIMO SELO romance\\n\\n\\n © José Rodrigues d...   \n",
       "33  José Saramago\\n\\nA caverna\\n\\n\\nRomance Novemb...   \n",
       "34  José Saramago As intermitências da morte\\nComp...   \n",
       "35  JOSÉ SARAMAGO\\n\\nCAIM\\n\\nCAMINHO\\n\\nBadana da ...   \n",
       "36  Livro dos Conselhos\\n\\n\\n\\nO disco amarelo ilu...   \n",
       "37  José Saramago\\n\\nHistória do cerco de Lisboa h...   \n",
       "38  MEMORIAL DO CONVENTO José Saramago JOSÉ SARAMA...   \n",
       "39  José Saramago\\n\\nO ano da morte de Ricardo Rei...   \n",
       "40  José Saramago\\n\\nO conto da ilha desconhecida\\...   \n",
       "41  O HOMEM DUPLICADO\\n\\nJosé Saramago\\n\\n***\\n\\nO...   \n",
       "42  \\n a viagem do elefante obras do autor publica...   \n",
       "43  A BELA HISTÓRIA DE DINIS E BEATRIZ OU REQUIEM ...   \n",
       "44  \\n\\n\\nAcabou-se!\\nLuísa Marques da Silva\\n\\nTí...   \n",
       "45  CONTROL Z\\nChegou a hora de vos contar. Chegou...   \n",
       "46  Título\\ne-medo\\n\\nAutora (inspiradíssima)\\nLuí...   \n",
       "47  LISBOA 2050\\nLisboa, ano de 2050. Um Agosto tã...   \n",
       "48  Título\\nUm passeio pelo inferno\\n\\nAutora\\nLuí...   \n",
       "49  Título\\nA última história\\n\\nAutora (próximo N...   \n",
       "\n",
       "                       Author  \n",
       "0            Almada Negreiros  \n",
       "1            Almada Negreiros  \n",
       "2            Almada Negreiros  \n",
       "3            Almada Negreiros  \n",
       "4            Almada Negreiros  \n",
       "5            Almada Negreiros  \n",
       "6            Almada Negreiros  \n",
       "7            Almada Negreiros  \n",
       "8            Almada Negreiros  \n",
       "9       Camilo Castelo Branco  \n",
       "10      Camilo Castelo Branco  \n",
       "11      Camilo Castelo Branco  \n",
       "12      Camilo Castelo Branco  \n",
       "13      Camilo Castelo Branco  \n",
       "14      Camilo Castelo Branco  \n",
       "15      Camilo Castelo Branco  \n",
       "16      Camilo Castelo Branco  \n",
       "17      Camilo Castelo Branco  \n",
       "18      Camilo Castelo Branco  \n",
       "19      Camilo Castelo Branco  \n",
       "20      Camilo Castelo Branco  \n",
       "21      Camilo Castelo Branco  \n",
       "22      Camilo Castelo Branco  \n",
       "23             Eca de Queiros  \n",
       "24             Eca de Queiros  \n",
       "25             Eca de Queiros  \n",
       "26             Eca de Queiros  \n",
       "27             Eca de Queiros  \n",
       "28  Jose Rodrigues dos Santos  \n",
       "29  Jose Rodrigues dos Santos  \n",
       "30  Jose Rodrigues dos Santos  \n",
       "31  Jose Rodrigues dos Santos  \n",
       "32  Jose Rodrigues dos Santos  \n",
       "33              Jose Saramago  \n",
       "34              Jose Saramago  \n",
       "35              Jose Saramago  \n",
       "36              Jose Saramago  \n",
       "37              Jose Saramago  \n",
       "38              Jose Saramago  \n",
       "39              Jose Saramago  \n",
       "40              Jose Saramago  \n",
       "41              Jose Saramago  \n",
       "42              Jose Saramago  \n",
       "43        Luisa Marques Silva  \n",
       "44        Luisa Marques Silva  \n",
       "45        Luisa Marques Silva  \n",
       "46        Luisa Marques Silva  \n",
       "47        Luisa Marques Silva  \n",
       "48        Luisa Marques Silva  \n",
       "49        Luisa Marques Silva  "
      ]
     },
     "execution_count": 13,
     "metadata": {},
     "output_type": "execute_result"
    }
   ],
   "source": [
    "corpora_train_1 = corpora.iloc[train_test_splits[0][0]].reset_index().drop('index',1)\n",
    "corpora_test_1 = corpora.iloc[train_test_splits[0][1]].reset_index().drop('index',1)\n",
    "\n",
    "corpora_train_2 = corpora.iloc[train_test_splits[1][0]].reset_index().drop('index',1)\n",
    "corpora_test_2 = corpora.iloc[train_test_splits[1][1]].reset_index().drop('index',1)\n",
    "\n",
    "corpora_train_3 = corpora.iloc[train_test_splits[2][0]].reset_index().drop('index',1)\n",
    "corpora_test_3 = corpora.iloc[train_test_splits[2][1]].reset_index().drop('index',1)\n",
    "\n",
    "corpora_train_4 = corpora.iloc[train_test_splits[3][0]].reset_index().drop('index',1)\n",
    "corpora_test_4 = corpora.iloc[train_test_splits[3][1]].reset_index().drop('index',1)\n",
    "\n",
    "corpora_train_5 = corpora.iloc[train_test_splits[4][0]].reset_index().drop('index',1)\n",
    "corpora_test_5 = corpora.iloc[train_test_splits[4][1]].reset_index().drop('index',1)\n",
    "\n",
    "corpora_train_1"
   ]
  },
  {
   "cell_type": "markdown",
   "metadata": {},
   "source": [
    "## Preprocessing"
   ]
  },
  {
   "cell_type": "code",
   "execution_count": 14,
   "metadata": {},
   "outputs": [],
   "source": [
    "def preprocessing(dataframe,stemmer):\n",
    "    processed_corpus = []\n",
    "    \n",
    "    stop_words_pt = set(stopwords.words(\"portuguese\", \"english\"))\n",
    "    \n",
    "    for i in tqdm(range(len(dataframe))):\n",
    "        text = dataframe['Text'][i]\n",
    "        \n",
    "        #Remove accents\n",
    "        text = unidecode(text)\n",
    "        \n",
    "        #remove punctuation\n",
    "        text = re.sub('[^a-zA-Z]', ' ', text)\n",
    "        \n",
    "        #Convert to lowercase\n",
    "        text = text.lower()\n",
    "\n",
    "        #remove tags\n",
    "        text = BeautifulSoup(text).get_text()\n",
    "        \n",
    "        # Convert to list from string\n",
    "        text = text.split()\n",
    "\n",
    "        #Stemming\n",
    "        if stemmer == 'snowball':\n",
    "            stemmer_pt = SnowballStemmer('portuguese')\n",
    "        elif stemmer == 'rslp':\n",
    "            stemmer_pt = RSLPStemmer()\n",
    "            \n",
    "        text = [stemmer_pt.stem(word) for word in text if not word in stop_words_pt]\n",
    "        \n",
    "        text = \" \".join(text)\n",
    "\n",
    "        processed_corpus.append(text)\n",
    "    return processed_corpus"
   ]
  },
  {
   "cell_type": "code",
   "execution_count": 15,
   "metadata": {
    "scrolled": true
   },
   "outputs": [
    {
     "data": {
      "application/vnd.jupyter.widget-view+json": {
       "model_id": "c42c4a17c7ee4c57ae886b8dbc1c45bd",
       "version_major": 2,
       "version_minor": 0
      },
      "text/plain": [
       "HBox(children=(IntProgress(value=0, max=50), HTML(value='')))"
      ]
     },
     "metadata": {},
     "output_type": "display_data"
    },
    {
     "name": "stdout",
     "output_type": "stream",
     "text": [
      "\n"
     ]
    },
    {
     "data": {
      "application/vnd.jupyter.widget-view+json": {
       "model_id": "c70412ac7d4441ce9788d30642474592",
       "version_major": 2,
       "version_minor": 0
      },
      "text/plain": [
       "HBox(children=(IntProgress(value=0, max=50), HTML(value='')))"
      ]
     },
     "metadata": {},
     "output_type": "display_data"
    },
    {
     "name": "stdout",
     "output_type": "stream",
     "text": [
      "\n"
     ]
    },
    {
     "data": {
      "application/vnd.jupyter.widget-view+json": {
       "model_id": "58711c0421944ba5a287e3d099cb0b68",
       "version_major": 2,
       "version_minor": 0
      },
      "text/plain": [
       "HBox(children=(IntProgress(value=0, max=50), HTML(value='')))"
      ]
     },
     "metadata": {},
     "output_type": "display_data"
    },
    {
     "name": "stdout",
     "output_type": "stream",
     "text": [
      "\n"
     ]
    },
    {
     "data": {
      "application/vnd.jupyter.widget-view+json": {
       "model_id": "ebf1f6b5f34d49b9a666f26fb7372f47",
       "version_major": 2,
       "version_minor": 0
      },
      "text/plain": [
       "HBox(children=(IntProgress(value=0, max=51), HTML(value='')))"
      ]
     },
     "metadata": {},
     "output_type": "display_data"
    },
    {
     "name": "stdout",
     "output_type": "stream",
     "text": [
      "\n"
     ]
    },
    {
     "data": {
      "application/vnd.jupyter.widget-view+json": {
       "model_id": "58202dd4e84944df805b5ca7cd24227b",
       "version_major": 2,
       "version_minor": 0
      },
      "text/plain": [
       "HBox(children=(IntProgress(value=0, max=51), HTML(value='')))"
      ]
     },
     "metadata": {},
     "output_type": "display_data"
    },
    {
     "name": "stdout",
     "output_type": "stream",
     "text": [
      "\n"
     ]
    }
   ],
   "source": [
    "cleaned_corpora_1 = preprocessing(corpora_train_1,'snowball')\n",
    "cleaned_corpora_2 = preprocessing(corpora_train_2,'snowball')\n",
    "cleaned_corpora_3 = preprocessing(corpora_train_3,'snowball')\n",
    "cleaned_corpora_4 = preprocessing(corpora_train_4,'snowball')\n",
    "cleaned_corpora_5 = preprocessing(corpora_train_5,'snowball')"
   ]
  },
  {
   "cell_type": "code",
   "execution_count": 16,
   "metadata": {},
   "outputs": [
    {
     "data": {
      "application/vnd.jupyter.widget-view+json": {
       "model_id": "5a5b24aa9985487fbfaeac3f81d34ed3",
       "version_major": 2,
       "version_minor": 0
      },
      "text/plain": [
       "HBox(children=(IntProgress(value=0, max=13), HTML(value='')))"
      ]
     },
     "metadata": {},
     "output_type": "display_data"
    },
    {
     "name": "stdout",
     "output_type": "stream",
     "text": [
      "\n"
     ]
    },
    {
     "data": {
      "application/vnd.jupyter.widget-view+json": {
       "model_id": "e325583467f74b87978671d75ad908b1",
       "version_major": 2,
       "version_minor": 0
      },
      "text/plain": [
       "HBox(children=(IntProgress(value=0, max=13), HTML(value='')))"
      ]
     },
     "metadata": {},
     "output_type": "display_data"
    },
    {
     "name": "stdout",
     "output_type": "stream",
     "text": [
      "\n"
     ]
    },
    {
     "data": {
      "application/vnd.jupyter.widget-view+json": {
       "model_id": "7f6288401e434c0aaa8d35423cedc239",
       "version_major": 2,
       "version_minor": 0
      },
      "text/plain": [
       "HBox(children=(IntProgress(value=0, max=13), HTML(value='')))"
      ]
     },
     "metadata": {},
     "output_type": "display_data"
    },
    {
     "name": "stdout",
     "output_type": "stream",
     "text": [
      "\n"
     ]
    },
    {
     "data": {
      "application/vnd.jupyter.widget-view+json": {
       "model_id": "ce5c3ba35ad2412089cc2e773cffb3d7",
       "version_major": 2,
       "version_minor": 0
      },
      "text/plain": [
       "HBox(children=(IntProgress(value=0, max=12), HTML(value='')))"
      ]
     },
     "metadata": {},
     "output_type": "display_data"
    },
    {
     "name": "stdout",
     "output_type": "stream",
     "text": [
      "\n"
     ]
    },
    {
     "data": {
      "application/vnd.jupyter.widget-view+json": {
       "model_id": "6b7de0a7fd404e5dbe2c7e5c4308dd8a",
       "version_major": 2,
       "version_minor": 0
      },
      "text/plain": [
       "HBox(children=(IntProgress(value=0, max=12), HTML(value='')))"
      ]
     },
     "metadata": {},
     "output_type": "display_data"
    },
    {
     "name": "stdout",
     "output_type": "stream",
     "text": [
      "\n"
     ]
    }
   ],
   "source": [
    "cleaned_test_corpora_1 = preprocessing(corpora_test_1,'snowball')\n",
    "cleaned_test_corpora_2 = preprocessing(corpora_test_2,'snowball')\n",
    "cleaned_test_corpora_3 = preprocessing(corpora_test_3,'snowball')\n",
    "cleaned_test_corpora_4 = preprocessing(corpora_test_4,'snowball')\n",
    "cleaned_test_corpora_5 = preprocessing(corpora_test_5,'snowball')"
   ]
  },
  {
   "cell_type": "code",
   "execution_count": 17,
   "metadata": {
    "scrolled": true
   },
   "outputs": [
    {
     "data": {
      "text/plain": [
       "'title a scena do odio author jose de almada negreiros release date september ebook language portuguese a alvaro de campos excerptos de um poema desbaratado que foi escripto durante os tres dias e as tres noites que durou a revolucao de de maio de satanizo me tara na vara de moyses o castigo das serpentes e me riso nos dentes inferno a arder o meu cantar sou vermelho niagara dos sexos escancarados nos chicotes dos cossacos sou pan demonio trifauce enfermico de gula sou genio de zarathustra em tacas de mare alta sou raiva de medusa e damnacao do sol ladram me a vida por vive la e so me deram uma hao de lati la por sina agora quero vive la hei de poeta canta la em gala sonora e dina hei de gloria desannuvia la hei de guindaste ica la esfinge da valla commum onde me querem rir hei de trovao clarim leva la luz as almas noites do jardim das lagrymas hei de bombo rufa la pompa de pompeia nos funeraes de mim hei de alfange mahoma cantar sodoma na voz de nero hei de ser fuas sem virgem do milagre hei de ser galope opiado e doido opiado e doido hei de ser attila hei de nero hei de eu cantar attila cantar nero cantar eu sou throno de abandono mal fadado nas iras dos barbaros meus avos oico ainda da berlinda d eu ser sina gemidos vencidos de fracos ruidos famintos de saque ais distantes de maldicao eterna em voz antiga sou ruinas razas innocentes como as azas de rapinas afogadas sou reliquias de martyres impotentes sequestradas em antros do vicio e da virtude sou clausura de sancta professa mae exilada do mal hostia d angustia no claustro freira demente e donzella virtude sosinha da cella em penitencia do sexo sou rasto espesinhado d invasores que cruzaram o meu sangue desvirgando o sou a raiva atavica dos tavoras o sangue bastardo de nero o odio do ultimo instante do condemnado innocente a podenga do limbo mordeu raivosa as pernas nuas da minh alma sem baptismo ah que eu sinto claramente que nasci de uma praga de ciumes eu sou as sete pragas sobre o nylo e a alma dos borgias a penar e eu vivo aqui desterrado e job da vida gemea d eu ser feliz e eu vivo aqui sepultado vivo na verdade de nunca ser eu sou apenas o mendigo de mim proprio orphao da virgem do meu sentir pezam kilos no meu querer as salas de espera de mim tu chegas sempre primeiro eu volto sempre amanha agora vou esperar que morras mas tu es tantos que nao morres vou deixar d esp rar que morras vou deixar d esp rar por mim ah que eu sinto claramente que nasci de uma praga de ciumes eu sou as sete pragas sobre o nylo e a alma dos borgias a penar hei de entretanto gastar a garganta a insultar te o besta hei de morder te a ponta do rabo e por te as maos no chao no seu logar ahi saltimbanco bando de bandoleiros nefastos quadrilheiros contrabandistas da imbecilidade ahi espelho aleijao do sentimento macaco intruja do alma realejo ahi maquerelle da ignorancia silenceur do genio tempestade spleen da indigestao ahi meia tijella travao das ascensoes ahi povo judeu dos christos mais que christo o burguezia o ideal com i pequeno o ideal rococo dos mendes e possidonios o cofre d indigentes cuja personalidade e a moral de todos o geral da mediocridade o claque ignobil do vulgar protagonista do normal o catitismo das lindezas d estalo ahi lucro do facil cartilha cabotina dos limitados dos restringidos ahi dique impecilho do canal da luz o coito d impotentes a corar ao sol no riacho da estupidez ahi zero barometro da conviccao bitola dos chega dos basta dos nao quero mais ahi plebeismo aristocratisado no preco do panama erudicao de calca de xadrez competencia de relogio d oiro e corrente com suores do brazil e berloques de cornos de buffalo zutt bruto parvo nada que me roubaste tudo te me roubaste a vida e nao me deixaste nada nem me deixaste a morte zutt poeira pingo microbio que gemes pequenissimo gemidos gigantes gravido de uma dor profeta colossal zutt elefante berloque parasita do nao presta zutt bugiganga celluloide bagatella zutt besta zutt bacoro zutt merda e tu tambem vieille roche castello medieval fechado por dentro das tuas ruinas fiel epitaphio das cronicas aduladoras e tu tambem o sangue azul antigo que ja nasceste co a biographia feita o pagem loiro das cortezias avozinhas o pergaminho amarello mumia das grandes galas brancas das paradas e das victorias dos torneios loterias com donzellas glorias o resto de sceptros fumo de cinzas o lavas frias do vulcao pyrotechnico com chuvas d oiros e cabeleiras prateadas o estilhacos heraldicos de vitraes despegados lentamente sobre o tanque do silencio o cedro secular debrucado no muro da quinta sobre a estrada a estorvar o caminho da mala posta e vos tambem o gentes de pensamento o personalidades o homens artistas de todas as partes cristaos sem patria christos vencidos por serem so um e vos o genios da expressao e vos tambem o genios sem voz o alem infinito sem regressos sem nostalgias espectadores gratuitos do drama imenso de vos mesmos prophetas cladestinos do naufragio de vossos destinos e vos tambem theoricos irmaos gemeos do meu sentir internacional o escravos da independencia e tu tambem belleza canalha co a sensibilidade manchada de vinho o lyrio bravo da floresta ardida a meia porta da tua miseria o fado da ma sina com illustracoes a giz e lettra da maldicao o fera vadia das viellas acaimada na lei o chale e lenco a resguardar a tysica o franzinas do fanico co a syphilis ao collo por essas esquinas o nu d aluguer na meia luz dos cortinados corridos o oratorio da meretriz a mendigar gorgetas pr a sua senhora da boa sorte o gentes tatuadas do calao o carro vendado da penitenciaria e tu tambem o humilde o simples enjaulados na vossa ignorancia o pe descalco a callejar o cerebro o musculos da saude de ter fechada a casa de pensar o alguidar de assorda fria na ceia fadiga da dor candeia o esteiras duras pr a dormir e fazer filhos o carretas da voz do operario com gente de preto a pe e philarmonica atraz o campas razas engrinaldadas com chapoes de ferro e baloes de vidro o bota rota de mendingo abandonada no po do caminho o metamorphose selvagem das feras da cidade o geracao de bons ladroes crucificados na estupidez o sanfona saloia do fandango dos campinos o pampilho das lezirias innundadas de cidade e vos varinas que sabeis a sal e que trazeis o mar no vosso avental e vos tambem o mocas da provincia que trazeis o verde dos campos no vermelho das faces pintadas e tu tambem o mau gosto co a saia de baixo a ver se e a falta d educacao o oiro de pechisbegue esperteza dos ciganos a luzir no vermelho verdadeiro da blusa de chita o tedio do domingo com botas novas e musica n avenida o sancta virgindade a garantir a falta de lindeza o bilhete postal illustrado com apparicoes de beijos ao lado o arsenal fadista de ganga azul e coco socialista o sahidas por do sol das fabricas d agonia e vos tambem nojentos da politica que exploraes eleitos o patriotismo maquereaux da patria que vos pariu e vos tambem pindericos jornalistas que fazeis cocegas e outras coisas a opiniao publica e tu tambem roberto fardado futrica te espantalho engalonado apeia te das patas de barro larga a espada de matar e poe o penacho no rabo ralha te mercenario asceta da crueldade espuma te no chumbo da tua valentia agoniza te rilhafolles armado desuniversidadiza te da doutoranca da chacina da sciencia da matanca groom fardado da negra paria da velha encaveira te nas esporas luzidias de seres fera despe te da farda desenfia te da impostura e poe te nu ao leu que ficas desempregado acouraca te de senso vomita de vez o morticinio enche o pote de raciocinio aprende a ler coracoes que ha muito mais que fazer do que fazer revolucoes rebusca no seres selvagem no teu cofre do exterminio o teu calibre maximo acaba de vez com este planeta faze te deus do mundo em dar lhe fim ha tanta coisa que fazer meu deus e esta gente distrahida em guerras olha os que nao sao nada por te cantarem a ti tantos mundos tantos genios que nao fizeram nada que deixaram este mundo tal qual olha os grandes o que sao estragados por ti e de que serve o livro e a sciencia se a experiencia da vida e que faz comprehender a sciencia e o livro antes nao ter sciencias antes nao ter livros larga a cidade masturbadora febril rabo decepado de lagartixa labyrintho cego de toupeiras raca de ignobeis myopes tysicos tarados anemicos cancerosos e arseniados larga a cidade larga a infamia das ruas e dos boulevards esse vae vem cynico de bandidos mudos esse mexer esponjoso de carne viva esse ser lesma nojento e macabro essess zig zag de chicote auto fustigante esse ar expirado e espiritista esse inferno de dante por cantar esse ruido de sol prostituido impotente e velho esse silencio pneumonico de lua enxovalhada sem vir a lavadeira larga a cidade e foge larga a cidade mas larga tudo primeiro ouviste larga tudo os outros os sentimentos os instinctos e larga te a ti tambem a ti principalmente larga tudo e vae para o campo e larga o campo tambem poe te a nascer outra vez nao queiras ter pae nem mae nao queiras ter outros nem intelligencia e ja houve intelligencia a mais pode parar por aqui depois poe te a viver sem cabeca ve so o que os olhos virem cheira os cheiros da terra come o que a terra der bebe dos rios e dos mares poe te na natureza mas tu nem vives nem deixas viver os mais crapula do egoismo cartola d espanta pardaes mas has de pagar me a febre rodopio novello emmaranhado da minha dor mas has de pagar me a febre calafrio abysmo descida de eu nao querer descer has de pagar me o absyntho e a morfina hei de ser cigana da tua sina hei de ser a bruxa do teu remorso hei de desforra dor cantar te a buena dicha em aguas fortes de goya e no cavallo de troya e nos poemas de poe hei de feiticeira a gallope na vassoira largar te os meus lagartos e a peconha hei de vara magica encantar te arte de ganir hei de reconstruir em ti a escravatura negra hei de despir te a pelle a pouco e pouco e depois na carne viva deitar fel e depois na carne viva semear vidros semear gumes lumes e tiros hei de gosar em ti as poses diabolicas dos theatraes venenos tragicos da persa zoroastro hei de rasgar te as vrilhas com forquilhas e croques e desfraldar te nas canellas mirradas o negro pendao dos piratas hei de corvo marinho beber te os olhos vesgos hei de boia do destino ser em braza e tu naufrago das gales sem horizontes verdes ah que eu sinto claramente que nasci de uma praga de ciumes eu sou as sete pragas sobre o nylo e a alma dos borgias a penar'"
      ]
     },
     "execution_count": 17,
     "metadata": {},
     "output_type": "execute_result"
    }
   ],
   "source": [
    "corpora_train_1['Clean Text'] = pd.Series(cleaned_corpora_1, index = corpora_train_1.index)\n",
    "corpora_train_2['Clean Text'] = pd.Series(cleaned_corpora_2, index = corpora_train_2.index)\n",
    "corpora_train_3['Clean Text'] = pd.Series(cleaned_corpora_3, index = corpora_train_3.index)\n",
    "corpora_train_4['Clean Text'] = pd.Series(cleaned_corpora_4, index = corpora_train_4.index)\n",
    "corpora_train_5['Clean Text'] = pd.Series(cleaned_corpora_5, index = corpora_train_5.index)\n",
    "corpora_train_1['Clean Text'][0]"
   ]
  },
  {
   "cell_type": "code",
   "execution_count": 18,
   "metadata": {},
   "outputs": [],
   "source": [
    "corpora_test_1['Clean Text'] = pd.Series(cleaned_test_corpora_1, index = corpora_test_1.index)\n",
    "corpora_test_2['Clean Text'] = pd.Series(cleaned_test_corpora_2, index = corpora_test_2.index)\n",
    "corpora_test_3['Clean Text'] = pd.Series(cleaned_test_corpora_3, index = corpora_test_3.index)\n",
    "corpora_test_4['Clean Text'] = pd.Series(cleaned_test_corpora_4, index = corpora_test_4.index)\n",
    "corpora_test_5['Clean Text'] = pd.Series(cleaned_test_corpora_5, index = corpora_test_5.index)"
   ]
  },
  {
   "cell_type": "code",
   "execution_count": 19,
   "metadata": {},
   "outputs": [],
   "source": [
    "def word_count(corpora):\n",
    "    word_count = corpora['Clean Text'].apply(lambda x: len(str(x).split(\" \")))\n",
    "    word_count_2 = corpora['Text'].apply(lambda x: len(str(x).split(\" \")))\n",
    "    corpora['word_count_text'] = word_count_2\n",
    "    corpora['word_count_clean'] = word_count\n",
    "    \n",
    "    return corpora"
   ]
  },
  {
   "cell_type": "code",
   "execution_count": 20,
   "metadata": {},
   "outputs": [],
   "source": [
    "corpora_train_1 = word_count(corpora_train_1)\n",
    "corpora_train_2 = word_count(corpora_train_2)\n",
    "corpora_train_3 = word_count(corpora_train_3)\n",
    "corpora_train_4 = word_count(corpora_train_4)\n",
    "corpora_train_5 = word_count(corpora_train_5)"
   ]
  },
  {
   "cell_type": "code",
   "execution_count": 21,
   "metadata": {},
   "outputs": [
    {
     "data": {
      "text/html": [
       "<div>\n",
       "<style scoped>\n",
       "    .dataframe tbody tr th:only-of-type {\n",
       "        vertical-align: middle;\n",
       "    }\n",
       "\n",
       "    .dataframe tbody tr th {\n",
       "        vertical-align: top;\n",
       "    }\n",
       "\n",
       "    .dataframe thead th {\n",
       "        text-align: right;\n",
       "    }\n",
       "</style>\n",
       "<table border=\"1\" class=\"dataframe\">\n",
       "  <thead>\n",
       "    <tr style=\"text-align: right;\">\n",
       "      <th></th>\n",
       "      <th>Text</th>\n",
       "      <th>Author</th>\n",
       "      <th>Clean Text</th>\n",
       "      <th>word_count_text</th>\n",
       "      <th>word_count_clean</th>\n",
       "    </tr>\n",
       "  </thead>\n",
       "  <tbody>\n",
       "    <tr>\n",
       "      <th>0</th>\n",
       "      <td>Title: A Scena do Odio\\n\\nAuthor: José de Alma...</td>\n",
       "      <td>Almada Negreiros</td>\n",
       "      <td>title a scena do odio author jose de almada ne...</td>\n",
       "      <td>1456</td>\n",
       "      <td>1927</td>\n",
       "    </tr>\n",
       "    <tr>\n",
       "      <th>1</th>\n",
       "      <td>Title: O Jardim da Pierrette\\n\\nAuthor: José d...</td>\n",
       "      <td>Almada Negreiros</td>\n",
       "      <td>title o jardim da pierrette author jose de alm...</td>\n",
       "      <td>280</td>\n",
       "      <td>330</td>\n",
       "    </tr>\n",
       "    <tr>\n",
       "      <th>2</th>\n",
       "      <td>\\n\\nTitle: A Invenção do Dia Claro\\n\\nAuthor: ...</td>\n",
       "      <td>Almada Negreiros</td>\n",
       "      <td>title a invencao do dia claro author jose de a...</td>\n",
       "      <td>6212</td>\n",
       "      <td>6124</td>\n",
       "    </tr>\n",
       "    <tr>\n",
       "      <th>3</th>\n",
       "      <td>\\nTitle: Litoral\\n       A Amadeo de Souza Car...</td>\n",
       "      <td>Almada Negreiros</td>\n",
       "      <td>title litoral a amadeo de souza cardozo author...</td>\n",
       "      <td>1225</td>\n",
       "      <td>679</td>\n",
       "    </tr>\n",
       "    <tr>\n",
       "      <th>4</th>\n",
       "      <td>\\n\\n\\nEXPOSIÇÃO\\n\\n+amadeo\\nde souza\\ncardoso+...</td>\n",
       "      <td>Almada Negreiros</td>\n",
       "      <td>exposicao amadeo de souza cardoso liga naval d...</td>\n",
       "      <td>521</td>\n",
       "      <td>594</td>\n",
       "    </tr>\n",
       "    <tr>\n",
       "      <th>5</th>\n",
       "      <td>\\n\\n*JOSÉ DE ALMADA-NEGREIROS*\\n\\n\\n*K4\\n\\no q...</td>\n",
       "      <td>Almada Negreiros</td>\n",
       "      <td>jose de almada negreiros k o quadrado azul aca...</td>\n",
       "      <td>5876</td>\n",
       "      <td>6681</td>\n",
       "    </tr>\n",
       "    <tr>\n",
       "      <th>6</th>\n",
       "      <td>\\n\\n*\"ORPHEU\"*\\n\\nREVISTA TRIMESTRAL DE LITERA...</td>\n",
       "      <td>Almada Negreiros</td>\n",
       "      <td>orpheu revista trimestral de literatura portug...</td>\n",
       "      <td>14191</td>\n",
       "      <td>16271</td>\n",
       "    </tr>\n",
       "    <tr>\n",
       "      <th>7</th>\n",
       "      <td>\\n\\n+a ENGOMADEIRA+\\n\\nNOVELA VULGAR LISBOETA\\...</td>\n",
       "      <td>Almada Negreiros</td>\n",
       "      <td>a engomadeira novela vulgar lisboeta engomadei...</td>\n",
       "      <td>11408</td>\n",
       "      <td>12914</td>\n",
       "    </tr>\n",
       "    <tr>\n",
       "      <th>8</th>\n",
       "      <td>\\n+MANIFESTO+\\n\\n+ANTI-DANTAS+\\n\\nE\\n\\nPOR EXT...</td>\n",
       "      <td>Almada Negreiros</td>\n",
       "      <td>manifesto anti dantas e por extenso por jose d...</td>\n",
       "      <td>2441</td>\n",
       "      <td>2814</td>\n",
       "    </tr>\n",
       "    <tr>\n",
       "      <th>9</th>\n",
       "      <td>O vinho do Porto\\n\\nPROCESSO D'UMA BESTIALIDAD...</td>\n",
       "      <td>Camilo Castelo Branco</td>\n",
       "      <td>o vinho do porto processo d uma bestialidade i...</td>\n",
       "      <td>10154</td>\n",
       "      <td>10195</td>\n",
       "    </tr>\n",
       "    <tr>\n",
       "      <th>10</th>\n",
       "      <td>\\nLIVRO DE CONSOLAÇÃO\\n\\nROMANCE\\n\\nPOR\\n\\nCAM...</td>\n",
       "      <td>Camilo Castelo Branco</td>\n",
       "      <td>livro de consolacao romance por camillo castel...</td>\n",
       "      <td>54109</td>\n",
       "      <td>58071</td>\n",
       "    </tr>\n",
       "    <tr>\n",
       "      <th>11</th>\n",
       "      <td>AMOR DE PERDIÇÃO\\n\\n\\n(MEMORIAS D'UMA FAMILIA)...</td>\n",
       "      <td>Camilo Castelo Branco</td>\n",
       "      <td>amor de perdicao memorias d uma familia romanc...</td>\n",
       "      <td>46862</td>\n",
       "      <td>50568</td>\n",
       "    </tr>\n",
       "    <tr>\n",
       "      <th>12</th>\n",
       "      <td>A QUEDA D'UM ANJO\\n\\nROMANCE\\n\\nPOR\\n\\nCAMILLO...</td>\n",
       "      <td>Camilo Castelo Branco</td>\n",
       "      <td>a queda d um anjo romance por camillo castello...</td>\n",
       "      <td>48509</td>\n",
       "      <td>51889</td>\n",
       "    </tr>\n",
       "    <tr>\n",
       "      <th>13</th>\n",
       "      <td>\\n\\nA SENHORA RATTAZZI\\n\\nPOR\\n\\nCAMILLO CASTE...</td>\n",
       "      <td>Camilo Castelo Branco</td>\n",
       "      <td>a senhora rattazzi por camillo castello branco...</td>\n",
       "      <td>6158</td>\n",
       "      <td>6479</td>\n",
       "    </tr>\n",
       "    <tr>\n",
       "      <th>14</th>\n",
       "      <td>\\nOBRAS DE CAMILLO CASTELLO BRANCO\\n\\n_Novella...</td>\n",
       "      <td>Camilo Castelo Branco</td>\n",
       "      <td>obras de camillo castello branco novellas do m...</td>\n",
       "      <td>45098</td>\n",
       "      <td>47307</td>\n",
       "    </tr>\n",
       "    <tr>\n",
       "      <th>15</th>\n",
       "      <td>A GRATIDÃO.\\n\\nROMANCE.\\n\\n\\nI.\\n\\nEstavamos n...</td>\n",
       "      <td>Camilo Castelo Branco</td>\n",
       "      <td>a gratidao romance i estavamos nos ultimos dia...</td>\n",
       "      <td>13684</td>\n",
       "      <td>14732</td>\n",
       "    </tr>\n",
       "    <tr>\n",
       "      <th>16</th>\n",
       "      <td>SUICIDA\\n\\n\\nPORTO Typographia de A. J. da Sil...</td>\n",
       "      <td>Camilo Castelo Branco</td>\n",
       "      <td>suicida porto typographia de a j da silva teix...</td>\n",
       "      <td>5254</td>\n",
       "      <td>5271</td>\n",
       "    </tr>\n",
       "    <tr>\n",
       "      <th>17</th>\n",
       "      <td>VOLTAREIS Ó CHRISTO?\\n\\n\\n\\n\\nPorto Imprensa P...</td>\n",
       "      <td>Camilo Castelo Branco</td>\n",
       "      <td>voltareis o christo porto imprensa portugueza ...</td>\n",
       "      <td>4865</td>\n",
       "      <td>5284</td>\n",
       "    </tr>\n",
       "    <tr>\n",
       "      <th>18</th>\n",
       "      <td>\\nROMANCES NACIONAES\\n\\n\\nO REGICIDA\\n\\nRomanc...</td>\n",
       "      <td>Camilo Castelo Branco</td>\n",
       "      <td>romances nacionaes o regicida romance historic...</td>\n",
       "      <td>51027</td>\n",
       "      <td>54392</td>\n",
       "    </tr>\n",
       "    <tr>\n",
       "      <th>19</th>\n",
       "      <td>ANNOS DE PROSA\\n\\nRomance\\n\\npor\\n\\nCAMILLO CA...</td>\n",
       "      <td>Camilo Castelo Branco</td>\n",
       "      <td>annos de prosa romance por camillo castello br...</td>\n",
       "      <td>62702</td>\n",
       "      <td>67165</td>\n",
       "    </tr>\n",
       "    <tr>\n",
       "      <th>20</th>\n",
       "      <td>OBRAS\\n\\nDE\\n\\nCAMILLO CASTELLO BRANCO\\n\\nEDIÇ...</td>\n",
       "      <td>Camilo Castelo Branco</td>\n",
       "      <td>obras de camillo castello branco edicao popula...</td>\n",
       "      <td>44966</td>\n",
       "      <td>46772</td>\n",
       "    </tr>\n",
       "    <tr>\n",
       "      <th>21</th>\n",
       "      <td>A FILHA DO ARCEDIAGO\\n\\nFILHA DO ARCEDIAGO\\n\\n...</td>\n",
       "      <td>Camilo Castelo Branco</td>\n",
       "      <td>a filha do arcediago filha do arcediago por ca...</td>\n",
       "      <td>72583</td>\n",
       "      <td>78187</td>\n",
       "    </tr>\n",
       "    <tr>\n",
       "      <th>22</th>\n",
       "      <td>Obras\\n\\nde\\n\\nCamillo Castello Branco\\n\\nEdiç...</td>\n",
       "      <td>Camilo Castelo Branco</td>\n",
       "      <td>obras de camillo castello branco edicao popula...</td>\n",
       "      <td>42679</td>\n",
       "      <td>45590</td>\n",
       "    </tr>\n",
       "    <tr>\n",
       "      <th>23</th>\n",
       "      <td>\\nA CIDADE E AS SERRAS\\n\\n\\n\\n\\nA CIDADE E AS ...</td>\n",
       "      <td>Eca de Queiros</td>\n",
       "      <td>a cidade e as serras a cidade e as serras i o ...</td>\n",
       "      <td>65627</td>\n",
       "      <td>68432</td>\n",
       "    </tr>\n",
       "    <tr>\n",
       "      <th>24</th>\n",
       "      <td>Cartas de Inglaterra\\n\\n\\nPorto LIVRARIA CHARD...</td>\n",
       "      <td>Eca de Queiros</td>\n",
       "      <td>cartas de inglaterra porto livraria chardron d...</td>\n",
       "      <td>44824</td>\n",
       "      <td>47089</td>\n",
       "    </tr>\n",
       "    <tr>\n",
       "      <th>25</th>\n",
       "      <td>\\nA CORRESPONDENCIA\\n\\nDE\\n\\nFRADIQUE MENDES\\n...</td>\n",
       "      <td>Eca de Queiros</td>\n",
       "      <td>a correspondencia de fradique mendes memorias ...</td>\n",
       "      <td>53260</td>\n",
       "      <td>55608</td>\n",
       "    </tr>\n",
       "    <tr>\n",
       "      <th>26</th>\n",
       "      <td>\\nEÇA DE QUEIROZ\\n\\nCONTOS\\n\\n\\nTERCEIRA EDIÇÃ...</td>\n",
       "      <td>Eca de Queiros</td>\n",
       "      <td>eca de queiroz contos terceira edicao porto li...</td>\n",
       "      <td>68566</td>\n",
       "      <td>70369</td>\n",
       "    </tr>\n",
       "    <tr>\n",
       "      <th>27</th>\n",
       "      <td>\\nEÇA DE QUEIROZ\\n\\nOS MAIAS\\n\\nEPISODIOS DA V...</td>\n",
       "      <td>Eca de Queiros</td>\n",
       "      <td>eca de queiroz os maias episodios da vida roma...</td>\n",
       "      <td>206090</td>\n",
       "      <td>221120</td>\n",
       "    </tr>\n",
       "    <tr>\n",
       "      <th>28</th>\n",
       "      <td>A MÃO DO D I A B O r o m a n c e\\n\\n\\n\\nNós so...</td>\n",
       "      <td>Jose Rodrigues dos Santos</td>\n",
       "      <td>a mao do d i a b o r o m a n c e nos somos o n...</td>\n",
       "      <td>132913</td>\n",
       "      <td>137849</td>\n",
       "    </tr>\n",
       "    <tr>\n",
       "      <th>29</th>\n",
       "      <td>I\\nO sol jorrava por todas as janelas em casca...</td>\n",
       "      <td>Jose Rodrigues dos Santos</td>\n",
       "      <td>i o sol jorrava por todas as janelas em cascat...</td>\n",
       "      <td>133702</td>\n",
       "      <td>140269</td>\n",
       "    </tr>\n",
       "    <tr>\n",
       "      <th>30</th>\n",
       "      <td>Prólogo\\n\\nAs luzes dos faróis rasgaram a noit...</td>\n",
       "      <td>Jose Rodrigues dos Santos</td>\n",
       "      <td>prologo as luzes dos farois rasgaram a noite g...</td>\n",
       "      <td>127573</td>\n",
       "      <td>133247</td>\n",
       "    </tr>\n",
       "    <tr>\n",
       "      <th>31</th>\n",
       "      <td>JOSÉ RODRIGUES DOS SANTOS\\n\\nO ANJO BRANCO\\n\\n...</td>\n",
       "      <td>Jose Rodrigues dos Santos</td>\n",
       "      <td>jose rodrigues dos santos o anjo branco parte ...</td>\n",
       "      <td>172808</td>\n",
       "      <td>180181</td>\n",
       "    </tr>\n",
       "    <tr>\n",
       "      <th>32</th>\n",
       "      <td>O SÉTIMO SELO romance\\n\\n\\n © José Rodrigues d...</td>\n",
       "      <td>Jose Rodrigues dos Santos</td>\n",
       "      <td>o setimo selo romance c jose rodrigues dos san...</td>\n",
       "      <td>108425</td>\n",
       "      <td>112692</td>\n",
       "    </tr>\n",
       "    <tr>\n",
       "      <th>33</th>\n",
       "      <td>José Saramago\\n\\nA caverna\\n\\n\\nRomance Novemb...</td>\n",
       "      <td>Jose Saramago</td>\n",
       "      <td>jose saramago a caverna romance novembro de ed...</td>\n",
       "      <td>110666</td>\n",
       "      <td>112909</td>\n",
       "    </tr>\n",
       "    <tr>\n",
       "      <th>34</th>\n",
       "      <td>José Saramago As intermitências da morte\\nComp...</td>\n",
       "      <td>Jose Saramago</td>\n",
       "      <td>jose saramago as intermitencias da morte compa...</td>\n",
       "      <td>65221</td>\n",
       "      <td>66554</td>\n",
       "    </tr>\n",
       "    <tr>\n",
       "      <th>35</th>\n",
       "      <td>JOSÉ SARAMAGO\\n\\nCAIM\\n\\nCAMINHO\\n\\nBadana da ...</td>\n",
       "      <td>Jose Saramago</td>\n",
       "      <td>jose saramago caim caminho badana da capa jose...</td>\n",
       "      <td>41791</td>\n",
       "      <td>42647</td>\n",
       "    </tr>\n",
       "    <tr>\n",
       "      <th>36</th>\n",
       "      <td>Livro dos Conselhos\\n\\n\\n\\nO disco amarelo ilu...</td>\n",
       "      <td>Jose Saramago</td>\n",
       "      <td>livro dos conselhos o disco amarelo iluminou s...</td>\n",
       "      <td>103421</td>\n",
       "      <td>105779</td>\n",
       "    </tr>\n",
       "    <tr>\n",
       "      <th>37</th>\n",
       "      <td>José Saramago\\n\\nHistória do cerco de Lisboa h...</td>\n",
       "      <td>Jose Saramago</td>\n",
       "      <td>jose saramago historia do cerco de lisboa http...</td>\n",
       "      <td>108908</td>\n",
       "      <td>111189</td>\n",
       "    </tr>\n",
       "    <tr>\n",
       "      <th>38</th>\n",
       "      <td>MEMORIAL DO CONVENTO José Saramago JOSÉ SARAMA...</td>\n",
       "      <td>Jose Saramago</td>\n",
       "      <td>memorial do convento jose saramago jose sarama...</td>\n",
       "      <td>118462</td>\n",
       "      <td>121229</td>\n",
       "    </tr>\n",
       "    <tr>\n",
       "      <th>39</th>\n",
       "      <td>José Saramago\\n\\nO ano da morte de Ricardo Rei...</td>\n",
       "      <td>Jose Saramago</td>\n",
       "      <td>jose saramago o ano da morte de ricardo reis a...</td>\n",
       "      <td>137556</td>\n",
       "      <td>140704</td>\n",
       "    </tr>\n",
       "    <tr>\n",
       "      <th>40</th>\n",
       "      <td>José Saramago\\n\\nO conto da ilha desconhecida\\...</td>\n",
       "      <td>Jose Saramago</td>\n",
       "      <td>jose saramago o conto da ilha desconhecida um ...</td>\n",
       "      <td>5796</td>\n",
       "      <td>5918</td>\n",
       "    </tr>\n",
       "    <tr>\n",
       "      <th>41</th>\n",
       "      <td>O HOMEM DUPLICADO\\n\\nJosé Saramago\\n\\n***\\n\\nO...</td>\n",
       "      <td>Jose Saramago</td>\n",
       "      <td>o homem duplicado jose saramago o homem que ac...</td>\n",
       "      <td>100843</td>\n",
       "      <td>103079</td>\n",
       "    </tr>\n",
       "    <tr>\n",
       "      <th>42</th>\n",
       "      <td>\\n a viagem do elefante obras do autor publica...</td>\n",
       "      <td>Jose Saramago</td>\n",
       "      <td>a viagem do elefante obras do autor publicadas...</td>\n",
       "      <td>59520</td>\n",
       "      <td>60985</td>\n",
       "    </tr>\n",
       "    <tr>\n",
       "      <th>43</th>\n",
       "      <td>A BELA HISTÓRIA DE DINIS E BEATRIZ OU REQUIEM ...</td>\n",
       "      <td>Luisa Marques Silva</td>\n",
       "      <td>a bela historia de dinis e beatriz ou requiem ...</td>\n",
       "      <td>3123</td>\n",
       "      <td>3109</td>\n",
       "    </tr>\n",
       "    <tr>\n",
       "      <th>44</th>\n",
       "      <td>\\n\\n\\nAcabou-se!\\nLuísa Marques da Silva\\n\\nTí...</td>\n",
       "      <td>Luisa Marques Silva</td>\n",
       "      <td>acabou se luisa marques da silva titulo acabou...</td>\n",
       "      <td>5446</td>\n",
       "      <td>5624</td>\n",
       "    </tr>\n",
       "    <tr>\n",
       "      <th>45</th>\n",
       "      <td>CONTROL Z\\nChegou a hora de vos contar. Chegou...</td>\n",
       "      <td>Luisa Marques Silva</td>\n",
       "      <td>control z chegou a hora de vos contar chegou a...</td>\n",
       "      <td>1954</td>\n",
       "      <td>1977</td>\n",
       "    </tr>\n",
       "    <tr>\n",
       "      <th>46</th>\n",
       "      <td>Título\\ne-medo\\n\\nAutora (inspiradíssima)\\nLuí...</td>\n",
       "      <td>Luisa Marques Silva</td>\n",
       "      <td>titulo e medo autora inspiradissima luisa marq...</td>\n",
       "      <td>8696</td>\n",
       "      <td>9306</td>\n",
       "    </tr>\n",
       "    <tr>\n",
       "      <th>47</th>\n",
       "      <td>LISBOA 2050\\nLisboa, ano de 2050. Um Agosto tã...</td>\n",
       "      <td>Luisa Marques Silva</td>\n",
       "      <td>lisboa lisboa ano de um agosto tao gelado como...</td>\n",
       "      <td>3443</td>\n",
       "      <td>3451</td>\n",
       "    </tr>\n",
       "    <tr>\n",
       "      <th>48</th>\n",
       "      <td>Título\\nUm passeio pelo inferno\\n\\nAutora\\nLuí...</td>\n",
       "      <td>Luisa Marques Silva</td>\n",
       "      <td>titulo um passeio pelo inferno autora luisa ma...</td>\n",
       "      <td>1040</td>\n",
       "      <td>1071</td>\n",
       "    </tr>\n",
       "    <tr>\n",
       "      <th>49</th>\n",
       "      <td>Título\\nA última história\\n\\nAutora (próximo N...</td>\n",
       "      <td>Luisa Marques Silva</td>\n",
       "      <td>titulo a ultima historia autora proximo nobel ...</td>\n",
       "      <td>6593</td>\n",
       "      <td>6611</td>\n",
       "    </tr>\n",
       "  </tbody>\n",
       "</table>\n",
       "</div>"
      ],
      "text/plain": [
       "                                                 Text  \\\n",
       "0   Title: A Scena do Odio\\n\\nAuthor: José de Alma...   \n",
       "1   Title: O Jardim da Pierrette\\n\\nAuthor: José d...   \n",
       "2   \\n\\nTitle: A Invenção do Dia Claro\\n\\nAuthor: ...   \n",
       "3   \\nTitle: Litoral\\n       A Amadeo de Souza Car...   \n",
       "4   \\n\\n\\nEXPOSIÇÃO\\n\\n+amadeo\\nde souza\\ncardoso+...   \n",
       "5   \\n\\n*JOSÉ DE ALMADA-NEGREIROS*\\n\\n\\n*K4\\n\\no q...   \n",
       "6   \\n\\n*\"ORPHEU\"*\\n\\nREVISTA TRIMESTRAL DE LITERA...   \n",
       "7   \\n\\n+a ENGOMADEIRA+\\n\\nNOVELA VULGAR LISBOETA\\...   \n",
       "8   \\n+MANIFESTO+\\n\\n+ANTI-DANTAS+\\n\\nE\\n\\nPOR EXT...   \n",
       "9   O vinho do Porto\\n\\nPROCESSO D'UMA BESTIALIDAD...   \n",
       "10  \\nLIVRO DE CONSOLAÇÃO\\n\\nROMANCE\\n\\nPOR\\n\\nCAM...   \n",
       "11  AMOR DE PERDIÇÃO\\n\\n\\n(MEMORIAS D'UMA FAMILIA)...   \n",
       "12  A QUEDA D'UM ANJO\\n\\nROMANCE\\n\\nPOR\\n\\nCAMILLO...   \n",
       "13  \\n\\nA SENHORA RATTAZZI\\n\\nPOR\\n\\nCAMILLO CASTE...   \n",
       "14  \\nOBRAS DE CAMILLO CASTELLO BRANCO\\n\\n_Novella...   \n",
       "15  A GRATIDÃO.\\n\\nROMANCE.\\n\\n\\nI.\\n\\nEstavamos n...   \n",
       "16  SUICIDA\\n\\n\\nPORTO Typographia de A. J. da Sil...   \n",
       "17  VOLTAREIS Ó CHRISTO?\\n\\n\\n\\n\\nPorto Imprensa P...   \n",
       "18  \\nROMANCES NACIONAES\\n\\n\\nO REGICIDA\\n\\nRomanc...   \n",
       "19  ANNOS DE PROSA\\n\\nRomance\\n\\npor\\n\\nCAMILLO CA...   \n",
       "20  OBRAS\\n\\nDE\\n\\nCAMILLO CASTELLO BRANCO\\n\\nEDIÇ...   \n",
       "21  A FILHA DO ARCEDIAGO\\n\\nFILHA DO ARCEDIAGO\\n\\n...   \n",
       "22  Obras\\n\\nde\\n\\nCamillo Castello Branco\\n\\nEdiç...   \n",
       "23  \\nA CIDADE E AS SERRAS\\n\\n\\n\\n\\nA CIDADE E AS ...   \n",
       "24  Cartas de Inglaterra\\n\\n\\nPorto LIVRARIA CHARD...   \n",
       "25  \\nA CORRESPONDENCIA\\n\\nDE\\n\\nFRADIQUE MENDES\\n...   \n",
       "26  \\nEÇA DE QUEIROZ\\n\\nCONTOS\\n\\n\\nTERCEIRA EDIÇÃ...   \n",
       "27  \\nEÇA DE QUEIROZ\\n\\nOS MAIAS\\n\\nEPISODIOS DA V...   \n",
       "28  A MÃO DO D I A B O r o m a n c e\\n\\n\\n\\nNós so...   \n",
       "29  I\\nO sol jorrava por todas as janelas em casca...   \n",
       "30  Prólogo\\n\\nAs luzes dos faróis rasgaram a noit...   \n",
       "31  JOSÉ RODRIGUES DOS SANTOS\\n\\nO ANJO BRANCO\\n\\n...   \n",
       "32  O SÉTIMO SELO romance\\n\\n\\n © José Rodrigues d...   \n",
       "33  José Saramago\\n\\nA caverna\\n\\n\\nRomance Novemb...   \n",
       "34  José Saramago As intermitências da morte\\nComp...   \n",
       "35  JOSÉ SARAMAGO\\n\\nCAIM\\n\\nCAMINHO\\n\\nBadana da ...   \n",
       "36  Livro dos Conselhos\\n\\n\\n\\nO disco amarelo ilu...   \n",
       "37  José Saramago\\n\\nHistória do cerco de Lisboa h...   \n",
       "38  MEMORIAL DO CONVENTO José Saramago JOSÉ SARAMA...   \n",
       "39  José Saramago\\n\\nO ano da morte de Ricardo Rei...   \n",
       "40  José Saramago\\n\\nO conto da ilha desconhecida\\...   \n",
       "41  O HOMEM DUPLICADO\\n\\nJosé Saramago\\n\\n***\\n\\nO...   \n",
       "42  \\n a viagem do elefante obras do autor publica...   \n",
       "43  A BELA HISTÓRIA DE DINIS E BEATRIZ OU REQUIEM ...   \n",
       "44  \\n\\n\\nAcabou-se!\\nLuísa Marques da Silva\\n\\nTí...   \n",
       "45  CONTROL Z\\nChegou a hora de vos contar. Chegou...   \n",
       "46  Título\\ne-medo\\n\\nAutora (inspiradíssima)\\nLuí...   \n",
       "47  LISBOA 2050\\nLisboa, ano de 2050. Um Agosto tã...   \n",
       "48  Título\\nUm passeio pelo inferno\\n\\nAutora\\nLuí...   \n",
       "49  Título\\nA última história\\n\\nAutora (próximo N...   \n",
       "\n",
       "                       Author  \\\n",
       "0            Almada Negreiros   \n",
       "1            Almada Negreiros   \n",
       "2            Almada Negreiros   \n",
       "3            Almada Negreiros   \n",
       "4            Almada Negreiros   \n",
       "5            Almada Negreiros   \n",
       "6            Almada Negreiros   \n",
       "7            Almada Negreiros   \n",
       "8            Almada Negreiros   \n",
       "9       Camilo Castelo Branco   \n",
       "10      Camilo Castelo Branco   \n",
       "11      Camilo Castelo Branco   \n",
       "12      Camilo Castelo Branco   \n",
       "13      Camilo Castelo Branco   \n",
       "14      Camilo Castelo Branco   \n",
       "15      Camilo Castelo Branco   \n",
       "16      Camilo Castelo Branco   \n",
       "17      Camilo Castelo Branco   \n",
       "18      Camilo Castelo Branco   \n",
       "19      Camilo Castelo Branco   \n",
       "20      Camilo Castelo Branco   \n",
       "21      Camilo Castelo Branco   \n",
       "22      Camilo Castelo Branco   \n",
       "23             Eca de Queiros   \n",
       "24             Eca de Queiros   \n",
       "25             Eca de Queiros   \n",
       "26             Eca de Queiros   \n",
       "27             Eca de Queiros   \n",
       "28  Jose Rodrigues dos Santos   \n",
       "29  Jose Rodrigues dos Santos   \n",
       "30  Jose Rodrigues dos Santos   \n",
       "31  Jose Rodrigues dos Santos   \n",
       "32  Jose Rodrigues dos Santos   \n",
       "33              Jose Saramago   \n",
       "34              Jose Saramago   \n",
       "35              Jose Saramago   \n",
       "36              Jose Saramago   \n",
       "37              Jose Saramago   \n",
       "38              Jose Saramago   \n",
       "39              Jose Saramago   \n",
       "40              Jose Saramago   \n",
       "41              Jose Saramago   \n",
       "42              Jose Saramago   \n",
       "43        Luisa Marques Silva   \n",
       "44        Luisa Marques Silva   \n",
       "45        Luisa Marques Silva   \n",
       "46        Luisa Marques Silva   \n",
       "47        Luisa Marques Silva   \n",
       "48        Luisa Marques Silva   \n",
       "49        Luisa Marques Silva   \n",
       "\n",
       "                                           Clean Text  word_count_text  \\\n",
       "0   title a scena do odio author jose de almada ne...             1456   \n",
       "1   title o jardim da pierrette author jose de alm...              280   \n",
       "2   title a invencao do dia claro author jose de a...             6212   \n",
       "3   title litoral a amadeo de souza cardozo author...             1225   \n",
       "4   exposicao amadeo de souza cardoso liga naval d...              521   \n",
       "5   jose de almada negreiros k o quadrado azul aca...             5876   \n",
       "6   orpheu revista trimestral de literatura portug...            14191   \n",
       "7   a engomadeira novela vulgar lisboeta engomadei...            11408   \n",
       "8   manifesto anti dantas e por extenso por jose d...             2441   \n",
       "9   o vinho do porto processo d uma bestialidade i...            10154   \n",
       "10  livro de consolacao romance por camillo castel...            54109   \n",
       "11  amor de perdicao memorias d uma familia romanc...            46862   \n",
       "12  a queda d um anjo romance por camillo castello...            48509   \n",
       "13  a senhora rattazzi por camillo castello branco...             6158   \n",
       "14  obras de camillo castello branco novellas do m...            45098   \n",
       "15  a gratidao romance i estavamos nos ultimos dia...            13684   \n",
       "16  suicida porto typographia de a j da silva teix...             5254   \n",
       "17  voltareis o christo porto imprensa portugueza ...             4865   \n",
       "18  romances nacionaes o regicida romance historic...            51027   \n",
       "19  annos de prosa romance por camillo castello br...            62702   \n",
       "20  obras de camillo castello branco edicao popula...            44966   \n",
       "21  a filha do arcediago filha do arcediago por ca...            72583   \n",
       "22  obras de camillo castello branco edicao popula...            42679   \n",
       "23  a cidade e as serras a cidade e as serras i o ...            65627   \n",
       "24  cartas de inglaterra porto livraria chardron d...            44824   \n",
       "25  a correspondencia de fradique mendes memorias ...            53260   \n",
       "26  eca de queiroz contos terceira edicao porto li...            68566   \n",
       "27  eca de queiroz os maias episodios da vida roma...           206090   \n",
       "28  a mao do d i a b o r o m a n c e nos somos o n...           132913   \n",
       "29  i o sol jorrava por todas as janelas em cascat...           133702   \n",
       "30  prologo as luzes dos farois rasgaram a noite g...           127573   \n",
       "31  jose rodrigues dos santos o anjo branco parte ...           172808   \n",
       "32  o setimo selo romance c jose rodrigues dos san...           108425   \n",
       "33  jose saramago a caverna romance novembro de ed...           110666   \n",
       "34  jose saramago as intermitencias da morte compa...            65221   \n",
       "35  jose saramago caim caminho badana da capa jose...            41791   \n",
       "36  livro dos conselhos o disco amarelo iluminou s...           103421   \n",
       "37  jose saramago historia do cerco de lisboa http...           108908   \n",
       "38  memorial do convento jose saramago jose sarama...           118462   \n",
       "39  jose saramago o ano da morte de ricardo reis a...           137556   \n",
       "40  jose saramago o conto da ilha desconhecida um ...             5796   \n",
       "41  o homem duplicado jose saramago o homem que ac...           100843   \n",
       "42  a viagem do elefante obras do autor publicadas...            59520   \n",
       "43  a bela historia de dinis e beatriz ou requiem ...             3123   \n",
       "44  acabou se luisa marques da silva titulo acabou...             5446   \n",
       "45  control z chegou a hora de vos contar chegou a...             1954   \n",
       "46  titulo e medo autora inspiradissima luisa marq...             8696   \n",
       "47  lisboa lisboa ano de um agosto tao gelado como...             3443   \n",
       "48  titulo um passeio pelo inferno autora luisa ma...             1040   \n",
       "49  titulo a ultima historia autora proximo nobel ...             6593   \n",
       "\n",
       "    word_count_clean  \n",
       "0               1927  \n",
       "1                330  \n",
       "2               6124  \n",
       "3                679  \n",
       "4                594  \n",
       "5               6681  \n",
       "6              16271  \n",
       "7              12914  \n",
       "8               2814  \n",
       "9              10195  \n",
       "10             58071  \n",
       "11             50568  \n",
       "12             51889  \n",
       "13              6479  \n",
       "14             47307  \n",
       "15             14732  \n",
       "16              5271  \n",
       "17              5284  \n",
       "18             54392  \n",
       "19             67165  \n",
       "20             46772  \n",
       "21             78187  \n",
       "22             45590  \n",
       "23             68432  \n",
       "24             47089  \n",
       "25             55608  \n",
       "26             70369  \n",
       "27            221120  \n",
       "28            137849  \n",
       "29            140269  \n",
       "30            133247  \n",
       "31            180181  \n",
       "32            112692  \n",
       "33            112909  \n",
       "34             66554  \n",
       "35             42647  \n",
       "36            105779  \n",
       "37            111189  \n",
       "38            121229  \n",
       "39            140704  \n",
       "40              5918  \n",
       "41            103079  \n",
       "42             60985  \n",
       "43              3109  \n",
       "44              5624  \n",
       "45              1977  \n",
       "46              9306  \n",
       "47              3451  \n",
       "48              1071  \n",
       "49              6611  "
      ]
     },
     "execution_count": 21,
     "metadata": {},
     "output_type": "execute_result"
    }
   ],
   "source": [
    "corpora_train_1"
   ]
  },
  {
   "cell_type": "code",
   "execution_count": 22,
   "metadata": {
    "scrolled": true
   },
   "outputs": [
    {
     "data": {
      "text/html": [
       "<div>\n",
       "<style scoped>\n",
       "    .dataframe tbody tr th:only-of-type {\n",
       "        vertical-align: middle;\n",
       "    }\n",
       "\n",
       "    .dataframe tbody tr th {\n",
       "        vertical-align: top;\n",
       "    }\n",
       "\n",
       "    .dataframe thead th {\n",
       "        text-align: right;\n",
       "    }\n",
       "</style>\n",
       "<table border=\"1\" class=\"dataframe\">\n",
       "  <thead>\n",
       "    <tr style=\"text-align: right;\">\n",
       "      <th></th>\n",
       "      <th>word_count_text</th>\n",
       "      <th>word_count_clean</th>\n",
       "    </tr>\n",
       "    <tr>\n",
       "      <th>Author</th>\n",
       "      <th></th>\n",
       "      <th></th>\n",
       "    </tr>\n",
       "  </thead>\n",
       "  <tbody>\n",
       "    <tr>\n",
       "      <th>Almada Negreiros</th>\n",
       "      <td>43610</td>\n",
       "      <td>48334</td>\n",
       "    </tr>\n",
       "    <tr>\n",
       "      <th>Camilo Castelo Branco</th>\n",
       "      <td>508650</td>\n",
       "      <td>541902</td>\n",
       "    </tr>\n",
       "    <tr>\n",
       "      <th>Eca de Queiros</th>\n",
       "      <td>438367</td>\n",
       "      <td>462618</td>\n",
       "    </tr>\n",
       "    <tr>\n",
       "      <th>Jose Rodrigues dos Santos</th>\n",
       "      <td>675421</td>\n",
       "      <td>704238</td>\n",
       "    </tr>\n",
       "    <tr>\n",
       "      <th>Jose Saramago</th>\n",
       "      <td>852184</td>\n",
       "      <td>870993</td>\n",
       "    </tr>\n",
       "    <tr>\n",
       "      <th>Luisa Marques Silva</th>\n",
       "      <td>30295</td>\n",
       "      <td>31149</td>\n",
       "    </tr>\n",
       "  </tbody>\n",
       "</table>\n",
       "</div>"
      ],
      "text/plain": [
       "                           word_count_text  word_count_clean\n",
       "Author                                                      \n",
       "Almada Negreiros                     43610             48334\n",
       "Camilo Castelo Branco               508650            541902\n",
       "Eca de Queiros                      438367            462618\n",
       "Jose Rodrigues dos Santos           675421            704238\n",
       "Jose Saramago                       852184            870993\n",
       "Luisa Marques Silva                  30295             31149"
      ]
     },
     "execution_count": 22,
     "metadata": {},
     "output_type": "execute_result"
    }
   ],
   "source": [
    "corpora_train_1.groupby(['Author']).sum()"
   ]
  },
  {
   "cell_type": "markdown",
   "metadata": {},
   "source": [
    "##  Data exploration"
   ]
  },
  {
   "cell_type": "code",
   "execution_count": 23,
   "metadata": {},
   "outputs": [
    {
     "data": {
      "text/plain": [
       "count        50.000000\n",
       "mean      53184.680000\n",
       "std       54448.926503\n",
       "min         330.000000\n",
       "25%        5969.500000\n",
       "50%       46930.500000\n",
       "75%       76232.500000\n",
       "max      221120.000000\n",
       "Name: word_count_clean, dtype: float64"
      ]
     },
     "execution_count": 23,
     "metadata": {},
     "output_type": "execute_result"
    }
   ],
   "source": [
    "corpora_train_1.word_count_clean.describe()"
   ]
  },
  {
   "cell_type": "code",
   "execution_count": 24,
   "metadata": {},
   "outputs": [],
   "source": [
    "all_words_1 = ' '.join(corpora_train_1['Clean Text']).split()\n",
    "all_words_2 = ' '.join(corpora_train_2['Clean Text']).split()\n",
    "all_words_3 = ' '.join(corpora_train_3['Clean Text']).split()\n",
    "all_words_4 = ' '.join(corpora_train_4['Clean Text']).split()\n",
    "all_words_5 = ' '.join(corpora_train_5['Clean Text']).split()"
   ]
  },
  {
   "cell_type": "code",
   "execution_count": 25,
   "metadata": {},
   "outputs": [],
   "source": [
    "# Count all words\n",
    "freq_1 = pd.Series(all_words_1).value_counts()\n",
    "freq_2 = pd.Series(all_words_2).value_counts()\n",
    "freq_3 = pd.Series(all_words_3).value_counts()\n",
    "freq_4 = pd.Series(all_words_4).value_counts()\n",
    "freq_5 = pd.Series(all_words_5).value_counts()"
   ]
  },
  {
   "cell_type": "code",
   "execution_count": 26,
   "metadata": {
    "scrolled": true
   },
   "outputs": [
    {
     "data": {
      "text/plain": [
       "a       118926\n",
       "e        98306\n",
       "o        94291\n",
       "de       93058\n",
       "que      92210\n",
       "se       49677\n",
       "nao      39765\n",
       "do       32117\n",
       "um       29998\n",
       "da       29090\n",
       "os       28264\n",
       "com      25924\n",
       "para     25353\n",
       "as       23057\n",
       "uma      22638\n",
       "em       21839\n",
       "por      16974\n",
       "no       16027\n",
       "como     15067\n",
       "lhe      14369\n",
       "na       14010\n",
       "ao       13753\n",
       "mas      12767\n",
       "mais     12245\n",
       "me       10539\n",
       "dtype: int64"
      ]
     },
     "execution_count": 26,
     "metadata": {},
     "output_type": "execute_result"
    }
   ],
   "source": [
    "freq_1[:25]"
   ]
  },
  {
   "cell_type": "code",
   "execution_count": 27,
   "metadata": {},
   "outputs": [],
   "source": [
    "def get_top_n_grams(corpus, top_k, n):\n",
    "    \"\"\"\n",
    "    Function that receives a list of documents (corpus) and extracts\n",
    "        the top k most frequent n-grams for that corpus.\n",
    "        \n",
    "    :param corpus: list of texts\n",
    "    :param top_k: int with the number of n-grams that we want to extract\n",
    "    :param n: n gram type to be considered \n",
    "             (if n=1 extracts unigrams, if n=2 extracts bigrams, ...)\n",
    "             \n",
    "    :return: Returns a sorted dataframe in which the first column \n",
    "        contains the extracted ngrams and the second column contains\n",
    "        the respective counts\n",
    "    \"\"\"\n",
    "    vec = CountVectorizer(ngram_range=(n, n), max_features=2000).fit(corpus)\n",
    "    \n",
    "    bag_of_words = vec.transform(corpus)\n",
    "    \n",
    "    sum_words = bag_of_words.sum(axis=0) \n",
    "    \n",
    "    words_freq = []\n",
    "    for word, idx in vec.vocabulary_.items():\n",
    "        words_freq.append((word, sum_words[0, idx]))\n",
    "        \n",
    "    words_freq = sorted(words_freq, key=lambda x: x[1], reverse=True)\n",
    "    top_df = pd.DataFrame(words_freq[:top_k])\n",
    "    top_df.columns = [\"Ngram\", \"Freq\"]\n",
    "    return top_df"
   ]
  },
  {
   "cell_type": "code",
   "execution_count": 28,
   "metadata": {},
   "outputs": [],
   "source": [
    "top_df_1 = get_top_n_grams(corpora_train_1[\"Clean Text\"], top_k=20, n=1)\n",
    "top_df_2 = get_top_n_grams(corpora_train_2[\"Clean Text\"], top_k=20, n=1)\n",
    "top_df_3 = get_top_n_grams(corpora_train_3[\"Clean Text\"], top_k=20, n=1)\n",
    "top_df_4 = get_top_n_grams(corpora_train_4[\"Clean Text\"], top_k=20, n=1)\n",
    "top_df_5 = get_top_n_grams(corpora_train_5[\"Clean Text\"], top_k=20, n=1)"
   ]
  },
  {
   "cell_type": "code",
   "execution_count": 29,
   "metadata": {},
   "outputs": [
    {
     "data": {
      "text/html": [
       "<div>\n",
       "<style scoped>\n",
       "    .dataframe tbody tr th:only-of-type {\n",
       "        vertical-align: middle;\n",
       "    }\n",
       "\n",
       "    .dataframe tbody tr th {\n",
       "        vertical-align: top;\n",
       "    }\n",
       "\n",
       "    .dataframe thead th {\n",
       "        text-align: right;\n",
       "    }\n",
       "</style>\n",
       "<table border=\"1\" class=\"dataframe\">\n",
       "  <thead>\n",
       "    <tr style=\"text-align: right;\">\n",
       "      <th></th>\n",
       "      <th>Ngram</th>\n",
       "      <th>Freq</th>\n",
       "    </tr>\n",
       "  </thead>\n",
       "  <tbody>\n",
       "    <tr>\n",
       "      <th>0</th>\n",
       "      <td>de</td>\n",
       "      <td>93058</td>\n",
       "    </tr>\n",
       "    <tr>\n",
       "      <th>1</th>\n",
       "      <td>que</td>\n",
       "      <td>92210</td>\n",
       "    </tr>\n",
       "    <tr>\n",
       "      <th>2</th>\n",
       "      <td>se</td>\n",
       "      <td>49677</td>\n",
       "    </tr>\n",
       "    <tr>\n",
       "      <th>3</th>\n",
       "      <td>nao</td>\n",
       "      <td>39765</td>\n",
       "    </tr>\n",
       "    <tr>\n",
       "      <th>4</th>\n",
       "      <td>do</td>\n",
       "      <td>32117</td>\n",
       "    </tr>\n",
       "    <tr>\n",
       "      <th>5</th>\n",
       "      <td>um</td>\n",
       "      <td>29998</td>\n",
       "    </tr>\n",
       "    <tr>\n",
       "      <th>6</th>\n",
       "      <td>da</td>\n",
       "      <td>29090</td>\n",
       "    </tr>\n",
       "    <tr>\n",
       "      <th>7</th>\n",
       "      <td>os</td>\n",
       "      <td>28264</td>\n",
       "    </tr>\n",
       "    <tr>\n",
       "      <th>8</th>\n",
       "      <td>com</td>\n",
       "      <td>25924</td>\n",
       "    </tr>\n",
       "    <tr>\n",
       "      <th>9</th>\n",
       "      <td>para</td>\n",
       "      <td>25353</td>\n",
       "    </tr>\n",
       "  </tbody>\n",
       "</table>\n",
       "</div>"
      ],
      "text/plain": [
       "  Ngram   Freq\n",
       "0    de  93058\n",
       "1   que  92210\n",
       "2    se  49677\n",
       "3   nao  39765\n",
       "4    do  32117\n",
       "5    um  29998\n",
       "6    da  29090\n",
       "7    os  28264\n",
       "8   com  25924\n",
       "9  para  25353"
      ]
     },
     "execution_count": 29,
     "metadata": {},
     "output_type": "execute_result"
    }
   ],
   "source": [
    "top_df_1.head(10)"
   ]
  },
  {
   "cell_type": "code",
   "execution_count": 30,
   "metadata": {},
   "outputs": [],
   "source": [
    "def plot_frequencies(top_df):\n",
    "    \"\"\"\n",
    "    Function that receives a dataframe from the \"get_top_n_grams\" function\n",
    "    and plots the frequencies in a bar plot.\n",
    "    \"\"\"\n",
    "    x_labels = top_df[\"Ngram\"][:30]\n",
    "    y_pos = np.arange(len(x_labels))\n",
    "    values = top_df[\"Freq\"][:30]\n",
    "    plt.bar(y_pos, values, align='center', alpha=0.5)\n",
    "    plt.xticks(y_pos, x_labels)\n",
    "    plt.ylabel('Frequencies')\n",
    "    plt.title('Words')\n",
    "    plt.xticks(rotation=90)\n",
    "    plt.show()"
   ]
  },
  {
   "cell_type": "code",
   "execution_count": 31,
   "metadata": {
    "scrolled": true
   },
   "outputs": [
    {
     "data": {
      "image/png": "[encoded data removed]",
      "text/plain": [
       "<Figure size 432x288 with 1 Axes>"
      ]
     },
     "metadata": {
      "needs_background": "light"
     },
     "output_type": "display_data"
    },
    {
     "data": {
      "image/png": "[encoded data removed]",
      "text/plain": [
       "<Figure size 432x288 with 1 Axes>"
      ]
     },
     "metadata": {
      "needs_background": "light"
     },
     "output_type": "display_data"
    },
    {
     "data": {
      "image/png": "[encoded data removed]",
      "text/plain": [
       "<Figure size 432x288 with 1 Axes>"
      ]
     },
     "metadata": {
      "needs_background": "light"
     },
     "output_type": "display_data"
    },
    {
     "data": {
      "image/png": "[encoded data removed]",
      "text/plain": [
       "<Figure size 432x288 with 1 Axes>"
      ]
     },
     "metadata": {
      "needs_background": "light"
     },
     "output_type": "display_data"
    },
    {
     "data": {
      "image/png": "[encoded data removed]",
      "text/plain": [
       "<Figure size 432x288 with 1 Axes>"
      ]
     },
     "metadata": {
      "needs_background": "light"
     },
     "output_type": "display_data"
    }
   ],
   "source": [
    "for i in range(1,6):\n",
    "    top = get_top_n_grams(corpora_train_1[\"Clean Text\"], top_k=20, n=i)\n",
    "    plot_frequencies(top)"
   ]
  },
  {
   "cell_type": "markdown",
   "metadata": {},
   "source": [
    "## Convert text into vectors"
   ]
  },
  {
   "cell_type": "code",
   "execution_count": 32,
   "metadata": {},
   "outputs": [],
   "source": [
    "stopwords = set(stopwords.words(\"portuguese\"))\n",
    "stop_words = []\n",
    "for word in stopwords:\n",
    "    word = unidecode(word)\n",
    "    stop_words.append(word)"
   ]
  },
  {
   "cell_type": "code",
   "execution_count": 33,
   "metadata": {},
   "outputs": [],
   "source": [
    "cv = CountVectorizer(\n",
    "    max_df=0.8,\n",
    "    stop_words=stop_words, \n",
    "    max_features=10000, \n",
    "    ngram_range=(1,3) # all inclusive from {1,2,3}, if only bigrams use (2,2)\n",
    ")"
   ]
  },
  {
   "cell_type": "code",
   "execution_count": 34,
   "metadata": {},
   "outputs": [],
   "source": [
    "X_train_cv_1 = cv.fit_transform(corpora_train_1['Clean Text'])\n",
    "X_train_cv_2 = cv.fit_transform(corpora_train_2['Clean Text'])\n",
    "X_train_cv_3 = cv.fit_transform(corpora_train_3['Clean Text'])\n",
    "X_train_cv_4 = cv.fit_transform(corpora_train_4['Clean Text'])\n",
    "X_train_cv_5 = cv.fit_transform(corpora_train_5['Clean Text'])"
   ]
  },
  {
   "cell_type": "code",
   "execution_count": 35,
   "metadata": {},
   "outputs": [],
   "source": [
    "X_test_cv_1 = cv.fit_transform(corpora_test_1['Clean Text'])\n",
    "X_test_cv_2 = cv.fit_transform(corpora_test_2['Clean Text'])\n",
    "X_test_cv_3 = cv.fit_transform(corpora_test_3['Clean Text'])\n",
    "X_test_cv_4 = cv.fit_transform(corpora_test_4['Clean Text'])\n",
    "X_test_cv_5 = cv.fit_transform(corpora_test_5['Clean Text'])"
   ]
  },
  {
   "cell_type": "code",
   "execution_count": 36,
   "metadata": {},
   "outputs": [],
   "source": [
    "tf_idf = TfidfVectorizer(\n",
    "    max_df=0.8,\n",
    "    stop_words=stop_words, \n",
    "    max_features=10000, \n",
    "    ngram_range=(1,3)\n",
    ")"
   ]
  },
  {
   "cell_type": "code",
   "execution_count": 37,
   "metadata": {},
   "outputs": [],
   "source": [
    "X_train_tf_idf_1 = tf_idf.fit_transform(corpora_train_1['Clean Text'])\n",
    "X_train_tf_idf_2 = tf_idf.fit_transform(corpora_train_2['Clean Text'])\n",
    "X_train_tf_idf_3 = tf_idf.fit_transform(corpora_train_3['Clean Text'])\n",
    "X_train_tf_idf_4 = tf_idf.fit_transform(corpora_train_4['Clean Text'])\n",
    "X_train_tf_idf_5 = tf_idf.fit_transform(corpora_train_5['Clean Text'])"
   ]
  },
  {
   "cell_type": "code",
   "execution_count": 38,
   "metadata": {},
   "outputs": [],
   "source": [
    "X_test_tf_idf_1 = tf_idf.fit_transform(corpora_test_1['Clean Text'])\n",
    "X_test_tf_idf_2 = tf_idf.fit_transform(corpora_test_2['Clean Text'])\n",
    "X_test_tf_idf_3 = tf_idf.fit_transform(corpora_test_3['Clean Text'])\n",
    "X_test_tf_idf_4 = tf_idf.fit_transform(corpora_test_4['Clean Text'])\n",
    "X_test_tf_idf_5 = tf_idf.fit_transform(corpora_test_5['Clean Text'])"
   ]
  },
  {
   "cell_type": "code",
   "execution_count": 39,
   "metadata": {},
   "outputs": [],
   "source": [
    "corpora_train_1['Word List'] = corpora_train_1['Clean Text']\n",
    "corpora_train_2['Word List'] = corpora_train_2['Clean Text']\n",
    "corpora_train_3['Word List'] = corpora_train_3['Clean Text']\n",
    "corpora_train_4['Word List'] = corpora_train_4['Clean Text']\n",
    "corpora_train_5['Word List'] = corpora_train_5['Clean Text']"
   ]
  },
  {
   "cell_type": "code",
   "execution_count": 40,
   "metadata": {},
   "outputs": [],
   "source": [
    "corpora_test_1['Word List'] = corpora_test_1['Clean Text']\n",
    "corpora_test_2['Word List'] = corpora_test_2['Clean Text']\n",
    "corpora_test_3['Word List'] = corpora_test_3['Clean Text']\n",
    "corpora_test_4['Word List'] = corpora_test_4['Clean Text']\n",
    "corpora_test_5['Word List'] = corpora_test_5['Clean Text']"
   ]
  },
  {
   "cell_type": "code",
   "execution_count": 41,
   "metadata": {},
   "outputs": [
    {
     "name": "stderr",
     "output_type": "stream",
     "text": [
      "C:\\Users\\Mafalda\\Anaconda3\\lib\\site-packages\\ipykernel_launcher.py:5: SettingWithCopyWarning: \n",
      "A value is trying to be set on a copy of a slice from a DataFrame\n",
      "\n",
      "See the caveats in the documentation: http://pandas.pydata.org/pandas-docs/stable/indexing.html#indexing-view-versus-copy\n",
      "  \"\"\"\n",
      "C:\\Users\\Mafalda\\Anaconda3\\lib\\site-packages\\ipykernel_launcher.py:11: SettingWithCopyWarning: \n",
      "A value is trying to be set on a copy of a slice from a DataFrame\n",
      "\n",
      "See the caveats in the documentation: http://pandas.pydata.org/pandas-docs/stable/indexing.html#indexing-view-versus-copy\n",
      "  # This is added back by InteractiveShellApp.init_path()\n",
      "C:\\Users\\Mafalda\\Anaconda3\\lib\\site-packages\\ipykernel_launcher.py:17: SettingWithCopyWarning: \n",
      "A value is trying to be set on a copy of a slice from a DataFrame\n",
      "\n",
      "See the caveats in the documentation: http://pandas.pydata.org/pandas-docs/stable/indexing.html#indexing-view-versus-copy\n",
      "C:\\Users\\Mafalda\\Anaconda3\\lib\\site-packages\\ipykernel_launcher.py:23: SettingWithCopyWarning: \n",
      "A value is trying to be set on a copy of a slice from a DataFrame\n",
      "\n",
      "See the caveats in the documentation: http://pandas.pydata.org/pandas-docs/stable/indexing.html#indexing-view-versus-copy\n",
      "C:\\Users\\Mafalda\\Anaconda3\\lib\\site-packages\\ipykernel_launcher.py:29: SettingWithCopyWarning: \n",
      "A value is trying to be set on a copy of a slice from a DataFrame\n",
      "\n",
      "See the caveats in the documentation: http://pandas.pydata.org/pandas-docs/stable/indexing.html#indexing-view-versus-copy\n"
     ]
    }
   ],
   "source": [
    "for i in corpora_train_1.index:\n",
    "    mystr = corpora_train_1['Clean Text'][i]\n",
    "    wordList = re.sub(\"[^\\w]\", \" \",  mystr).split()\n",
    "    \n",
    "    corpora_train_1['Word List'][i] = wordList\n",
    "    \n",
    "for i in corpora_train_2.index:\n",
    "    mystr = corpora_train_2['Clean Text'][i]\n",
    "    wordList = re.sub(\"[^\\w]\", \" \",  mystr).split()\n",
    "    \n",
    "    corpora_train_2['Word List'][i] = wordList\n",
    "    \n",
    "for i in corpora_train_3.index:\n",
    "    mystr = corpora_train_3['Clean Text'][i]\n",
    "    wordList = re.sub(\"[^\\w]\", \" \",  mystr).split()\n",
    "    \n",
    "    corpora_train_3['Word List'][i] = wordList\n",
    "    \n",
    "for i in corpora_train_4.index:\n",
    "    mystr = corpora_train_4['Clean Text'][i]\n",
    "    wordList = re.sub(\"[^\\w]\", \" \",  mystr).split()\n",
    "    \n",
    "    corpora_train_4['Word List'][i] = wordList\n",
    "    \n",
    "for i in corpora_train_5.index:\n",
    "    mystr = corpora_train_5['Clean Text'][i]\n",
    "    wordList = re.sub(\"[^\\w]\", \" \",  mystr).split()\n",
    "    \n",
    "    corpora_train_5['Word List'][i] = wordList"
   ]
  },
  {
   "cell_type": "code",
   "execution_count": 42,
   "metadata": {},
   "outputs": [],
   "source": [
    "for i in corpora_test_1.index:\n",
    "    mystr = corpora_test_1['Clean Text'][i]\n",
    "    wordList = re.sub(\"[^\\w]\", \" \",  mystr).split()\n",
    "    \n",
    "    corpora_test_1['Word List'][i] = wordList\n",
    "    \n",
    "for i in corpora_test_2.index:\n",
    "    mystr = corpora_test_2['Clean Text'][i]\n",
    "    wordList = re.sub(\"[^\\w]\", \" \",  mystr).split()\n",
    "    \n",
    "    corpora_test_2['Word List'][i] = wordList\n",
    "    \n",
    "for i in corpora_test_3.index:\n",
    "    mystr = corpora_test_3['Clean Text'][i]\n",
    "    wordList = re.sub(\"[^\\w]\", \" \",  mystr).split()\n",
    "    \n",
    "    corpora_test_3['Word List'][i] = wordList\n",
    "    \n",
    "for i in corpora_test_4.index:\n",
    "    mystr = corpora_test_4['Clean Text'][i]\n",
    "    wordList = re.sub(\"[^\\w]\", \" \",  mystr).split()\n",
    "    \n",
    "    corpora_test_4['Word List'][i] = wordList\n",
    "    \n",
    "for i in corpora_test_5.index:\n",
    "    mystr = corpora_test_5['Clean Text'][i]\n",
    "    wordList = re.sub(\"[^\\w]\", \" \",  mystr).split()\n",
    "    \n",
    "    corpora_test_5['Word List'][i] = wordList"
   ]
  },
  {
   "cell_type": "code",
   "execution_count": 43,
   "metadata": {},
   "outputs": [],
   "source": [
    "X_train_w2v_1 = corpora_train_1['Word List']\n",
    "X_train_w2v_2 = corpora_train_2['Word List']\n",
    "X_train_w2v_3 = corpora_train_3['Word List']\n",
    "X_train_w2v_4 = corpora_train_4['Word List']\n",
    "X_train_w2v_5 = corpora_train_5['Word List']"
   ]
  },
  {
   "cell_type": "code",
   "execution_count": 44,
   "metadata": {},
   "outputs": [],
   "source": [
    "w2v_train_1 = gensim.models.Word2Vec(X_train_w2v_1,min_count=0,workers=4)\n",
    "w2v_train_2 = gensim.models.Word2Vec(X_train_w2v_2,min_count=0,workers=4)\n",
    "w2v_train_3 = gensim.models.Word2Vec(X_train_w2v_3,min_count=0,workers=4)\n",
    "w2v_train_4 = gensim.models.Word2Vec(X_train_w2v_4,min_count=0,workers=4)\n",
    "w2v_train_5 = gensim.models.Word2Vec(X_train_w2v_5,min_count=0,workers=4)"
   ]
  },
  {
   "cell_type": "code",
   "execution_count": 45,
   "metadata": {},
   "outputs": [],
   "source": [
    "X_test_w2v_1 = corpora_test_1['Word List']\n",
    "X_test_w2v_2 = corpora_test_2['Word List']\n",
    "X_test_w2v_3 = corpora_test_3['Word List']\n",
    "X_test_w2v_4 = corpora_test_4['Word List']\n",
    "X_test_w2v_5 = corpora_test_5['Word List']"
   ]
  },
  {
   "cell_type": "code",
   "execution_count": 46,
   "metadata": {},
   "outputs": [],
   "source": [
    "w2v_test_1 = gensim.models.Word2Vec(X_test_w2v_1,min_count=0,workers=4)\n",
    "w2v_test_2 = gensim.models.Word2Vec(X_test_w2v_2,min_count=0,workers=4)\n",
    "w2v_test_3 = gensim.models.Word2Vec(X_test_w2v_3,min_count=0,workers=4)\n",
    "w2v_test_4 = gensim.models.Word2Vec(X_test_w2v_4,min_count=0,workers=4)\n",
    "w2v_test_5 = gensim.models.Word2Vec(X_test_w2v_5,min_count=0,workers=4)"
   ]
  },
  {
   "cell_type": "code",
   "execution_count": 47,
   "metadata": {},
   "outputs": [
    {
     "data": {
      "text/plain": [
       "array(['Almada Negreiros', 'Camilo Castelo Branco', 'Eca de Queiros',\n",
       "       'Jose Rodrigues dos Santos', 'Jose Saramago',\n",
       "       'Luisa Marques Silva'], dtype=object)"
      ]
     },
     "execution_count": 47,
     "metadata": {},
     "output_type": "execute_result"
    }
   ],
   "source": [
    "Encoder = LabelEncoder()\n",
    "\n",
    "le_1 = Encoder.fit(corpora_train_1['Author'])\n",
    "le_2 = Encoder.fit(corpora_train_2['Author'])\n",
    "le_3 = Encoder.fit(corpora_train_3['Author'])\n",
    "le_4 = Encoder.fit(corpora_train_4['Author'])\n",
    "le_5 = Encoder.fit(corpora_train_5['Author'])\n",
    "\n",
    "le_1.classes_"
   ]
  },
  {
   "cell_type": "code",
   "execution_count": 48,
   "metadata": {},
   "outputs": [],
   "source": [
    "Y_train_1 = pd.Series(le_1.transform(corpora_train_1['Author']),index=corpora_train_1.index)\n",
    "Y_train_2 = pd.Series(le_2.transform(corpora_train_2['Author']),index=corpora_train_2.index)\n",
    "Y_train_3 = pd.Series(le_3.transform(corpora_train_3['Author']),index=corpora_train_3.index)\n",
    "Y_train_4 = pd.Series(le_4.transform(corpora_train_4['Author']),index=corpora_train_4.index)\n",
    "Y_train_5 = pd.Series(le_4.transform(corpora_train_5['Author']),index=corpora_train_5.index)"
   ]
  },
  {
   "cell_type": "code",
   "execution_count": 49,
   "metadata": {},
   "outputs": [],
   "source": [
    "Y_test_1 = pd.Series(le_1.transform(corpora_test_1['Author']),index=corpora_test_1.index)\n",
    "Y_test_2 = pd.Series(le_2.transform(corpora_test_2['Author']),index=corpora_test_2.index)\n",
    "Y_test_3 = pd.Series(le_3.transform(corpora_test_3['Author']),index=corpora_test_3.index)\n",
    "Y_test_4 = pd.Series(le_4.transform(corpora_test_4['Author']),index=corpora_test_4.index)\n",
    "Y_test_5 = pd.Series(le_5.transform(corpora_test_5['Author']),index=corpora_test_5.index)"
   ]
  },
  {
   "cell_type": "markdown",
   "metadata": {},
   "source": [
    "## Classification Models"
   ]
  },
  {
   "cell_type": "markdown",
   "metadata": {},
   "source": [
    "### Naive Bayes"
   ]
  },
  {
   "cell_type": "code",
   "execution_count": 50,
   "metadata": {},
   "outputs": [],
   "source": [
    "NB = MultinomialNB()\n",
    "\n",
    "parameters = {\n",
    "    'alpha':[0.0,1.0],\n",
    "    'fit_prior':[True,False]\n",
    "}\n",
    "\n",
    "clf = GridSearchCV(NB, parameters)"
   ]
  },
  {
   "cell_type": "code",
   "execution_count": 51,
   "metadata": {},
   "outputs": [
    {
     "name": "stderr",
     "output_type": "stream",
     "text": [
      "C:\\Users\\Mafalda\\Anaconda3\\lib\\site-packages\\sklearn\\model_selection\\_split.py:1978: FutureWarning: The default value of cv will change from 3 to 5 in version 0.22. Specify it explicitly to silence this warning.\n",
      "  warnings.warn(CV_WARNING, FutureWarning)\n",
      "C:\\Users\\Mafalda\\Anaconda3\\lib\\site-packages\\sklearn\\naive_bayes.py:485: UserWarning: alpha too small will result in numeric errors, setting alpha = 1.0e-10\n",
      "  'setting alpha = %.1e' % _ALPHA_MIN)\n",
      "C:\\Users\\Mafalda\\Anaconda3\\lib\\site-packages\\sklearn\\naive_bayes.py:485: UserWarning: alpha too small will result in numeric errors, setting alpha = 1.0e-10\n",
      "  'setting alpha = %.1e' % _ALPHA_MIN)\n",
      "C:\\Users\\Mafalda\\Anaconda3\\lib\\site-packages\\sklearn\\naive_bayes.py:485: UserWarning: alpha too small will result in numeric errors, setting alpha = 1.0e-10\n",
      "  'setting alpha = %.1e' % _ALPHA_MIN)\n",
      "C:\\Users\\Mafalda\\Anaconda3\\lib\\site-packages\\sklearn\\naive_bayes.py:485: UserWarning: alpha too small will result in numeric errors, setting alpha = 1.0e-10\n",
      "  'setting alpha = %.1e' % _ALPHA_MIN)\n",
      "C:\\Users\\Mafalda\\Anaconda3\\lib\\site-packages\\sklearn\\naive_bayes.py:485: UserWarning: alpha too small will result in numeric errors, setting alpha = 1.0e-10\n",
      "  'setting alpha = %.1e' % _ALPHA_MIN)\n",
      "C:\\Users\\Mafalda\\Anaconda3\\lib\\site-packages\\sklearn\\naive_bayes.py:485: UserWarning: alpha too small will result in numeric errors, setting alpha = 1.0e-10\n",
      "  'setting alpha = %.1e' % _ALPHA_MIN)\n",
      "C:\\Users\\Mafalda\\Anaconda3\\lib\\site-packages\\sklearn\\model_selection\\_search.py:813: DeprecationWarning: The default of the `iid` parameter will change from True to False in version 0.22 and will be removed in 0.24. This will change numeric results when test-set sizes are unequal.\n",
      "  DeprecationWarning)\n",
      "C:\\Users\\Mafalda\\Anaconda3\\lib\\site-packages\\sklearn\\model_selection\\_split.py:1978: FutureWarning: The default value of cv will change from 3 to 5 in version 0.22. Specify it explicitly to silence this warning.\n",
      "  warnings.warn(CV_WARNING, FutureWarning)\n",
      "C:\\Users\\Mafalda\\Anaconda3\\lib\\site-packages\\sklearn\\naive_bayes.py:485: UserWarning: alpha too small will result in numeric errors, setting alpha = 1.0e-10\n",
      "  'setting alpha = %.1e' % _ALPHA_MIN)\n",
      "C:\\Users\\Mafalda\\Anaconda3\\lib\\site-packages\\sklearn\\naive_bayes.py:485: UserWarning: alpha too small will result in numeric errors, setting alpha = 1.0e-10\n",
      "  'setting alpha = %.1e' % _ALPHA_MIN)\n",
      "C:\\Users\\Mafalda\\Anaconda3\\lib\\site-packages\\sklearn\\naive_bayes.py:485: UserWarning: alpha too small will result in numeric errors, setting alpha = 1.0e-10\n",
      "  'setting alpha = %.1e' % _ALPHA_MIN)\n",
      "C:\\Users\\Mafalda\\Anaconda3\\lib\\site-packages\\sklearn\\naive_bayes.py:485: UserWarning: alpha too small will result in numeric errors, setting alpha = 1.0e-10\n",
      "  'setting alpha = %.1e' % _ALPHA_MIN)\n",
      "C:\\Users\\Mafalda\\Anaconda3\\lib\\site-packages\\sklearn\\naive_bayes.py:485: UserWarning: alpha too small will result in numeric errors, setting alpha = 1.0e-10\n",
      "  'setting alpha = %.1e' % _ALPHA_MIN)\n",
      "C:\\Users\\Mafalda\\Anaconda3\\lib\\site-packages\\sklearn\\naive_bayes.py:485: UserWarning: alpha too small will result in numeric errors, setting alpha = 1.0e-10\n",
      "  'setting alpha = %.1e' % _ALPHA_MIN)\n",
      "C:\\Users\\Mafalda\\Anaconda3\\lib\\site-packages\\sklearn\\model_selection\\_search.py:813: DeprecationWarning: The default of the `iid` parameter will change from True to False in version 0.22 and will be removed in 0.24. This will change numeric results when test-set sizes are unequal.\n",
      "  DeprecationWarning)\n",
      "C:\\Users\\Mafalda\\Anaconda3\\lib\\site-packages\\sklearn\\model_selection\\_split.py:1978: FutureWarning: The default value of cv will change from 3 to 5 in version 0.22. Specify it explicitly to silence this warning.\n",
      "  warnings.warn(CV_WARNING, FutureWarning)\n",
      "C:\\Users\\Mafalda\\Anaconda3\\lib\\site-packages\\sklearn\\naive_bayes.py:485: UserWarning: alpha too small will result in numeric errors, setting alpha = 1.0e-10\n",
      "  'setting alpha = %.1e' % _ALPHA_MIN)\n",
      "C:\\Users\\Mafalda\\Anaconda3\\lib\\site-packages\\sklearn\\naive_bayes.py:485: UserWarning: alpha too small will result in numeric errors, setting alpha = 1.0e-10\n",
      "  'setting alpha = %.1e' % _ALPHA_MIN)\n",
      "C:\\Users\\Mafalda\\Anaconda3\\lib\\site-packages\\sklearn\\naive_bayes.py:485: UserWarning: alpha too small will result in numeric errors, setting alpha = 1.0e-10\n",
      "  'setting alpha = %.1e' % _ALPHA_MIN)\n",
      "C:\\Users\\Mafalda\\Anaconda3\\lib\\site-packages\\sklearn\\naive_bayes.py:485: UserWarning: alpha too small will result in numeric errors, setting alpha = 1.0e-10\n",
      "  'setting alpha = %.1e' % _ALPHA_MIN)\n",
      "C:\\Users\\Mafalda\\Anaconda3\\lib\\site-packages\\sklearn\\naive_bayes.py:485: UserWarning: alpha too small will result in numeric errors, setting alpha = 1.0e-10\n",
      "  'setting alpha = %.1e' % _ALPHA_MIN)\n",
      "C:\\Users\\Mafalda\\Anaconda3\\lib\\site-packages\\sklearn\\naive_bayes.py:485: UserWarning: alpha too small will result in numeric errors, setting alpha = 1.0e-10\n",
      "  'setting alpha = %.1e' % _ALPHA_MIN)\n",
      "C:\\Users\\Mafalda\\Anaconda3\\lib\\site-packages\\sklearn\\model_selection\\_search.py:813: DeprecationWarning: The default of the `iid` parameter will change from True to False in version 0.22 and will be removed in 0.24. This will change numeric results when test-set sizes are unequal.\n",
      "  DeprecationWarning)\n",
      "C:\\Users\\Mafalda\\Anaconda3\\lib\\site-packages\\sklearn\\model_selection\\_split.py:1978: FutureWarning: The default value of cv will change from 3 to 5 in version 0.22. Specify it explicitly to silence this warning.\n",
      "  warnings.warn(CV_WARNING, FutureWarning)\n",
      "C:\\Users\\Mafalda\\Anaconda3\\lib\\site-packages\\sklearn\\naive_bayes.py:485: UserWarning: alpha too small will result in numeric errors, setting alpha = 1.0e-10\n",
      "  'setting alpha = %.1e' % _ALPHA_MIN)\n",
      "C:\\Users\\Mafalda\\Anaconda3\\lib\\site-packages\\sklearn\\naive_bayes.py:485: UserWarning: alpha too small will result in numeric errors, setting alpha = 1.0e-10\n",
      "  'setting alpha = %.1e' % _ALPHA_MIN)\n",
      "C:\\Users\\Mafalda\\Anaconda3\\lib\\site-packages\\sklearn\\naive_bayes.py:485: UserWarning: alpha too small will result in numeric errors, setting alpha = 1.0e-10\n",
      "  'setting alpha = %.1e' % _ALPHA_MIN)\n",
      "C:\\Users\\Mafalda\\Anaconda3\\lib\\site-packages\\sklearn\\naive_bayes.py:485: UserWarning: alpha too small will result in numeric errors, setting alpha = 1.0e-10\n",
      "  'setting alpha = %.1e' % _ALPHA_MIN)\n",
      "C:\\Users\\Mafalda\\Anaconda3\\lib\\site-packages\\sklearn\\naive_bayes.py:485: UserWarning: alpha too small will result in numeric errors, setting alpha = 1.0e-10\n",
      "  'setting alpha = %.1e' % _ALPHA_MIN)\n",
      "C:\\Users\\Mafalda\\Anaconda3\\lib\\site-packages\\sklearn\\naive_bayes.py:485: UserWarning: alpha too small will result in numeric errors, setting alpha = 1.0e-10\n",
      "  'setting alpha = %.1e' % _ALPHA_MIN)\n",
      "C:\\Users\\Mafalda\\Anaconda3\\lib\\site-packages\\sklearn\\model_selection\\_search.py:813: DeprecationWarning: The default of the `iid` parameter will change from True to False in version 0.22 and will be removed in 0.24. This will change numeric results when test-set sizes are unequal.\n",
      "  DeprecationWarning)\n",
      "C:\\Users\\Mafalda\\Anaconda3\\lib\\site-packages\\sklearn\\model_selection\\_split.py:1978: FutureWarning: The default value of cv will change from 3 to 5 in version 0.22. Specify it explicitly to silence this warning.\n",
      "  warnings.warn(CV_WARNING, FutureWarning)\n",
      "C:\\Users\\Mafalda\\Anaconda3\\lib\\site-packages\\sklearn\\naive_bayes.py:485: UserWarning: alpha too small will result in numeric errors, setting alpha = 1.0e-10\n",
      "  'setting alpha = %.1e' % _ALPHA_MIN)\n",
      "C:\\Users\\Mafalda\\Anaconda3\\lib\\site-packages\\sklearn\\naive_bayes.py:485: UserWarning: alpha too small will result in numeric errors, setting alpha = 1.0e-10\n",
      "  'setting alpha = %.1e' % _ALPHA_MIN)\n",
      "C:\\Users\\Mafalda\\Anaconda3\\lib\\site-packages\\sklearn\\naive_bayes.py:485: UserWarning: alpha too small will result in numeric errors, setting alpha = 1.0e-10\n",
      "  'setting alpha = %.1e' % _ALPHA_MIN)\n",
      "C:\\Users\\Mafalda\\Anaconda3\\lib\\site-packages\\sklearn\\naive_bayes.py:485: UserWarning: alpha too small will result in numeric errors, setting alpha = 1.0e-10\n",
      "  'setting alpha = %.1e' % _ALPHA_MIN)\n",
      "C:\\Users\\Mafalda\\Anaconda3\\lib\\site-packages\\sklearn\\naive_bayes.py:485: UserWarning: alpha too small will result in numeric errors, setting alpha = 1.0e-10\n",
      "  'setting alpha = %.1e' % _ALPHA_MIN)\n",
      "C:\\Users\\Mafalda\\Anaconda3\\lib\\site-packages\\sklearn\\naive_bayes.py:485: UserWarning: alpha too small will result in numeric errors, setting alpha = 1.0e-10\n",
      "  'setting alpha = %.1e' % _ALPHA_MIN)\n"
     ]
    },
    {
     "name": "stderr",
     "output_type": "stream",
     "text": [
      "C:\\Users\\Mafalda\\Anaconda3\\lib\\site-packages\\sklearn\\model_selection\\_search.py:813: DeprecationWarning: The default of the `iid` parameter will change from True to False in version 0.22 and will be removed in 0.24. This will change numeric results when test-set sizes are unequal.\n",
      "  DeprecationWarning)\n"
     ]
    }
   ],
   "source": [
    "clf_NB_cv_1 = clf.fit(X_train_cv_1,Y_train_1)\n",
    "clf_NB_cv_2 = clf.fit(X_train_cv_2,Y_train_2)\n",
    "clf_NB_cv_3 = clf.fit(X_train_cv_3,Y_train_3)\n",
    "clf_NB_cv_4 = clf.fit(X_train_cv_4,Y_train_4)\n",
    "clf_NB_cv_5 = clf.fit(X_train_cv_5,Y_train_5)"
   ]
  },
  {
   "cell_type": "code",
   "execution_count": 52,
   "metadata": {},
   "outputs": [],
   "source": [
    "NB_cv_1 = clf_NB_cv_1.best_estimator_\n",
    "NB_cv_2 = clf_NB_cv_2.best_estimator_\n",
    "NB_cv_3 = clf_NB_cv_3.best_estimator_\n",
    "NB_cv_4 = clf_NB_cv_4.best_estimator_\n",
    "NB_cv_5 = clf_NB_cv_5.best_estimator_"
   ]
  },
  {
   "cell_type": "code",
   "execution_count": 53,
   "metadata": {},
   "outputs": [
    {
     "data": {
      "text/plain": [
       "MultinomialNB(alpha=1.0, class_prior=None, fit_prior=True)"
      ]
     },
     "execution_count": 53,
     "metadata": {},
     "output_type": "execute_result"
    }
   ],
   "source": [
    "NB_cv_1.fit(X_train_cv_1,Y_train_1)\n",
    "NB_cv_2.fit(X_train_cv_2,Y_train_2)\n",
    "NB_cv_3.fit(X_train_cv_3,Y_train_3)\n",
    "NB_cv_4.fit(X_train_cv_4,Y_train_4)\n",
    "NB_cv_5.fit(X_train_cv_5,Y_train_5)"
   ]
  },
  {
   "cell_type": "code",
   "execution_count": 54,
   "metadata": {},
   "outputs": [],
   "source": [
    "predictions_NB_cv_1 = NB_cv_1.predict(X_test_cv_1)\n",
    "predictions_NB_cv_2 = NB_cv_2.predict(X_test_cv_2)\n",
    "predictions_NB_cv_3 = NB_cv_3.predict(X_test_cv_3)\n",
    "predictions_NB_cv_4 = NB_cv_4.predict(X_test_cv_4)\n",
    "predictions_NB_cv_5 = NB_cv_5.predict(X_test_cv_5)"
   ]
  },
  {
   "cell_type": "code",
   "execution_count": 55,
   "metadata": {},
   "outputs": [
    {
     "data": {
      "text/plain": [
       "16.28205128205128"
      ]
     },
     "execution_count": 55,
     "metadata": {},
     "output_type": "execute_result"
    }
   ],
   "source": [
    "accuracy_NB_cv_1 = accuracy_score(predictions_NB_cv_1, Y_test_1)*100\n",
    "accuracy_NB_cv_2 = accuracy_score(predictions_NB_cv_2, Y_test_2)*100\n",
    "accuracy_NB_cv_3 = accuracy_score(predictions_NB_cv_3, Y_test_3)*100\n",
    "accuracy_NB_cv_4 = accuracy_score(predictions_NB_cv_4, Y_test_4)*100\n",
    "accuracy_NB_cv_5 = accuracy_score(predictions_NB_cv_5, Y_test_5)*100\n",
    "\n",
    "accuracy_NB_cv = (accuracy_NB_cv_1 + accuracy_NB_cv_2 + accuracy_NB_cv_3 + accuracy_NB_cv_4 + accuracy_NB_cv_5)/5\n",
    "accuracy_NB_cv"
   ]
  },
  {
   "cell_type": "code",
   "execution_count": 56,
   "metadata": {},
   "outputs": [
    {
     "name": "stderr",
     "output_type": "stream",
     "text": [
      "C:\\Users\\Mafalda\\Anaconda3\\lib\\site-packages\\sklearn\\model_selection\\_split.py:1978: FutureWarning: The default value of cv will change from 3 to 5 in version 0.22. Specify it explicitly to silence this warning.\n",
      "  warnings.warn(CV_WARNING, FutureWarning)\n",
      "C:\\Users\\Mafalda\\Anaconda3\\lib\\site-packages\\sklearn\\naive_bayes.py:485: UserWarning: alpha too small will result in numeric errors, setting alpha = 1.0e-10\n",
      "  'setting alpha = %.1e' % _ALPHA_MIN)\n",
      "C:\\Users\\Mafalda\\Anaconda3\\lib\\site-packages\\sklearn\\naive_bayes.py:485: UserWarning: alpha too small will result in numeric errors, setting alpha = 1.0e-10\n",
      "  'setting alpha = %.1e' % _ALPHA_MIN)\n",
      "C:\\Users\\Mafalda\\Anaconda3\\lib\\site-packages\\sklearn\\naive_bayes.py:485: UserWarning: alpha too small will result in numeric errors, setting alpha = 1.0e-10\n",
      "  'setting alpha = %.1e' % _ALPHA_MIN)\n",
      "C:\\Users\\Mafalda\\Anaconda3\\lib\\site-packages\\sklearn\\naive_bayes.py:485: UserWarning: alpha too small will result in numeric errors, setting alpha = 1.0e-10\n",
      "  'setting alpha = %.1e' % _ALPHA_MIN)\n",
      "C:\\Users\\Mafalda\\Anaconda3\\lib\\site-packages\\sklearn\\naive_bayes.py:485: UserWarning: alpha too small will result in numeric errors, setting alpha = 1.0e-10\n",
      "  'setting alpha = %.1e' % _ALPHA_MIN)\n",
      "C:\\Users\\Mafalda\\Anaconda3\\lib\\site-packages\\sklearn\\naive_bayes.py:485: UserWarning: alpha too small will result in numeric errors, setting alpha = 1.0e-10\n",
      "  'setting alpha = %.1e' % _ALPHA_MIN)\n",
      "C:\\Users\\Mafalda\\Anaconda3\\lib\\site-packages\\sklearn\\model_selection\\_search.py:813: DeprecationWarning: The default of the `iid` parameter will change from True to False in version 0.22 and will be removed in 0.24. This will change numeric results when test-set sizes are unequal.\n",
      "  DeprecationWarning)\n",
      "C:\\Users\\Mafalda\\Anaconda3\\lib\\site-packages\\sklearn\\naive_bayes.py:485: UserWarning: alpha too small will result in numeric errors, setting alpha = 1.0e-10\n",
      "  'setting alpha = %.1e' % _ALPHA_MIN)\n",
      "C:\\Users\\Mafalda\\Anaconda3\\lib\\site-packages\\sklearn\\model_selection\\_split.py:1978: FutureWarning: The default value of cv will change from 3 to 5 in version 0.22. Specify it explicitly to silence this warning.\n",
      "  warnings.warn(CV_WARNING, FutureWarning)\n",
      "C:\\Users\\Mafalda\\Anaconda3\\lib\\site-packages\\sklearn\\naive_bayes.py:485: UserWarning: alpha too small will result in numeric errors, setting alpha = 1.0e-10\n",
      "  'setting alpha = %.1e' % _ALPHA_MIN)\n",
      "C:\\Users\\Mafalda\\Anaconda3\\lib\\site-packages\\sklearn\\naive_bayes.py:485: UserWarning: alpha too small will result in numeric errors, setting alpha = 1.0e-10\n",
      "  'setting alpha = %.1e' % _ALPHA_MIN)\n",
      "C:\\Users\\Mafalda\\Anaconda3\\lib\\site-packages\\sklearn\\naive_bayes.py:485: UserWarning: alpha too small will result in numeric errors, setting alpha = 1.0e-10\n",
      "  'setting alpha = %.1e' % _ALPHA_MIN)\n",
      "C:\\Users\\Mafalda\\Anaconda3\\lib\\site-packages\\sklearn\\naive_bayes.py:485: UserWarning: alpha too small will result in numeric errors, setting alpha = 1.0e-10\n",
      "  'setting alpha = %.1e' % _ALPHA_MIN)\n",
      "C:\\Users\\Mafalda\\Anaconda3\\lib\\site-packages\\sklearn\\naive_bayes.py:485: UserWarning: alpha too small will result in numeric errors, setting alpha = 1.0e-10\n",
      "  'setting alpha = %.1e' % _ALPHA_MIN)\n",
      "C:\\Users\\Mafalda\\Anaconda3\\lib\\site-packages\\sklearn\\naive_bayes.py:485: UserWarning: alpha too small will result in numeric errors, setting alpha = 1.0e-10\n",
      "  'setting alpha = %.1e' % _ALPHA_MIN)\n",
      "C:\\Users\\Mafalda\\Anaconda3\\lib\\site-packages\\sklearn\\model_selection\\_search.py:813: DeprecationWarning: The default of the `iid` parameter will change from True to False in version 0.22 and will be removed in 0.24. This will change numeric results when test-set sizes are unequal.\n",
      "  DeprecationWarning)\n",
      "C:\\Users\\Mafalda\\Anaconda3\\lib\\site-packages\\sklearn\\naive_bayes.py:485: UserWarning: alpha too small will result in numeric errors, setting alpha = 1.0e-10\n",
      "  'setting alpha = %.1e' % _ALPHA_MIN)\n",
      "C:\\Users\\Mafalda\\Anaconda3\\lib\\site-packages\\sklearn\\model_selection\\_split.py:1978: FutureWarning: The default value of cv will change from 3 to 5 in version 0.22. Specify it explicitly to silence this warning.\n",
      "  warnings.warn(CV_WARNING, FutureWarning)\n",
      "C:\\Users\\Mafalda\\Anaconda3\\lib\\site-packages\\sklearn\\naive_bayes.py:485: UserWarning: alpha too small will result in numeric errors, setting alpha = 1.0e-10\n",
      "  'setting alpha = %.1e' % _ALPHA_MIN)\n",
      "C:\\Users\\Mafalda\\Anaconda3\\lib\\site-packages\\sklearn\\naive_bayes.py:485: UserWarning: alpha too small will result in numeric errors, setting alpha = 1.0e-10\n",
      "  'setting alpha = %.1e' % _ALPHA_MIN)\n",
      "C:\\Users\\Mafalda\\Anaconda3\\lib\\site-packages\\sklearn\\naive_bayes.py:485: UserWarning: alpha too small will result in numeric errors, setting alpha = 1.0e-10\n",
      "  'setting alpha = %.1e' % _ALPHA_MIN)\n",
      "C:\\Users\\Mafalda\\Anaconda3\\lib\\site-packages\\sklearn\\naive_bayes.py:485: UserWarning: alpha too small will result in numeric errors, setting alpha = 1.0e-10\n",
      "  'setting alpha = %.1e' % _ALPHA_MIN)\n",
      "C:\\Users\\Mafalda\\Anaconda3\\lib\\site-packages\\sklearn\\naive_bayes.py:485: UserWarning: alpha too small will result in numeric errors, setting alpha = 1.0e-10\n",
      "  'setting alpha = %.1e' % _ALPHA_MIN)\n",
      "C:\\Users\\Mafalda\\Anaconda3\\lib\\site-packages\\sklearn\\naive_bayes.py:485: UserWarning: alpha too small will result in numeric errors, setting alpha = 1.0e-10\n",
      "  'setting alpha = %.1e' % _ALPHA_MIN)\n",
      "C:\\Users\\Mafalda\\Anaconda3\\lib\\site-packages\\sklearn\\model_selection\\_search.py:813: DeprecationWarning: The default of the `iid` parameter will change from True to False in version 0.22 and will be removed in 0.24. This will change numeric results when test-set sizes are unequal.\n",
      "  DeprecationWarning)\n",
      "C:\\Users\\Mafalda\\Anaconda3\\lib\\site-packages\\sklearn\\model_selection\\_split.py:1978: FutureWarning: The default value of cv will change from 3 to 5 in version 0.22. Specify it explicitly to silence this warning.\n",
      "  warnings.warn(CV_WARNING, FutureWarning)\n",
      "C:\\Users\\Mafalda\\Anaconda3\\lib\\site-packages\\sklearn\\naive_bayes.py:485: UserWarning: alpha too small will result in numeric errors, setting alpha = 1.0e-10\n",
      "  'setting alpha = %.1e' % _ALPHA_MIN)\n",
      "C:\\Users\\Mafalda\\Anaconda3\\lib\\site-packages\\sklearn\\naive_bayes.py:485: UserWarning: alpha too small will result in numeric errors, setting alpha = 1.0e-10\n",
      "  'setting alpha = %.1e' % _ALPHA_MIN)\n",
      "C:\\Users\\Mafalda\\Anaconda3\\lib\\site-packages\\sklearn\\naive_bayes.py:485: UserWarning: alpha too small will result in numeric errors, setting alpha = 1.0e-10\n",
      "  'setting alpha = %.1e' % _ALPHA_MIN)\n",
      "C:\\Users\\Mafalda\\Anaconda3\\lib\\site-packages\\sklearn\\naive_bayes.py:485: UserWarning: alpha too small will result in numeric errors, setting alpha = 1.0e-10\n",
      "  'setting alpha = %.1e' % _ALPHA_MIN)\n",
      "C:\\Users\\Mafalda\\Anaconda3\\lib\\site-packages\\sklearn\\naive_bayes.py:485: UserWarning: alpha too small will result in numeric errors, setting alpha = 1.0e-10\n",
      "  'setting alpha = %.1e' % _ALPHA_MIN)\n",
      "C:\\Users\\Mafalda\\Anaconda3\\lib\\site-packages\\sklearn\\naive_bayes.py:485: UserWarning: alpha too small will result in numeric errors, setting alpha = 1.0e-10\n",
      "  'setting alpha = %.1e' % _ALPHA_MIN)\n",
      "C:\\Users\\Mafalda\\Anaconda3\\lib\\site-packages\\sklearn\\model_selection\\_search.py:813: DeprecationWarning: The default of the `iid` parameter will change from True to False in version 0.22 and will be removed in 0.24. This will change numeric results when test-set sizes are unequal.\n",
      "  DeprecationWarning)\n",
      "C:\\Users\\Mafalda\\Anaconda3\\lib\\site-packages\\sklearn\\model_selection\\_split.py:1978: FutureWarning: The default value of cv will change from 3 to 5 in version 0.22. Specify it explicitly to silence this warning.\n",
      "  warnings.warn(CV_WARNING, FutureWarning)\n",
      "C:\\Users\\Mafalda\\Anaconda3\\lib\\site-packages\\sklearn\\naive_bayes.py:485: UserWarning: alpha too small will result in numeric errors, setting alpha = 1.0e-10\n",
      "  'setting alpha = %.1e' % _ALPHA_MIN)\n",
      "C:\\Users\\Mafalda\\Anaconda3\\lib\\site-packages\\sklearn\\naive_bayes.py:485: UserWarning: alpha too small will result in numeric errors, setting alpha = 1.0e-10\n",
      "  'setting alpha = %.1e' % _ALPHA_MIN)\n",
      "C:\\Users\\Mafalda\\Anaconda3\\lib\\site-packages\\sklearn\\naive_bayes.py:485: UserWarning: alpha too small will result in numeric errors, setting alpha = 1.0e-10\n",
      "  'setting alpha = %.1e' % _ALPHA_MIN)\n",
      "C:\\Users\\Mafalda\\Anaconda3\\lib\\site-packages\\sklearn\\naive_bayes.py:485: UserWarning: alpha too small will result in numeric errors, setting alpha = 1.0e-10\n",
      "  'setting alpha = %.1e' % _ALPHA_MIN)\n"
     ]
    },
    {
     "name": "stderr",
     "output_type": "stream",
     "text": [
      "C:\\Users\\Mafalda\\Anaconda3\\lib\\site-packages\\sklearn\\naive_bayes.py:485: UserWarning: alpha too small will result in numeric errors, setting alpha = 1.0e-10\n",
      "  'setting alpha = %.1e' % _ALPHA_MIN)\n",
      "C:\\Users\\Mafalda\\Anaconda3\\lib\\site-packages\\sklearn\\naive_bayes.py:485: UserWarning: alpha too small will result in numeric errors, setting alpha = 1.0e-10\n",
      "  'setting alpha = %.1e' % _ALPHA_MIN)\n",
      "C:\\Users\\Mafalda\\Anaconda3\\lib\\site-packages\\sklearn\\model_selection\\_search.py:813: DeprecationWarning: The default of the `iid` parameter will change from True to False in version 0.22 and will be removed in 0.24. This will change numeric results when test-set sizes are unequal.\n",
      "  DeprecationWarning)\n",
      "C:\\Users\\Mafalda\\Anaconda3\\lib\\site-packages\\sklearn\\naive_bayes.py:485: UserWarning: alpha too small will result in numeric errors, setting alpha = 1.0e-10\n",
      "  'setting alpha = %.1e' % _ALPHA_MIN)\n"
     ]
    }
   ],
   "source": [
    "clf_NB_tf_idf_1 = clf.fit(X_train_tf_idf_1,Y_train_1)\n",
    "clf_NB_tf_idf_2 = clf.fit(X_train_tf_idf_2,Y_train_2)\n",
    "clf_NB_tf_idf_3 = clf.fit(X_train_tf_idf_3,Y_train_3)\n",
    "clf_NB_tf_idf_4 = clf.fit(X_train_tf_idf_4,Y_train_4)\n",
    "clf_NB_tf_idf_5 = clf.fit(X_train_tf_idf_5,Y_train_5)"
   ]
  },
  {
   "cell_type": "code",
   "execution_count": 57,
   "metadata": {},
   "outputs": [],
   "source": [
    "NB_tf_idf_1 = clf_NB_tf_idf_1.best_estimator_\n",
    "NB_tf_idf_2 = clf_NB_tf_idf_2.best_estimator_\n",
    "NB_tf_idf_3 = clf_NB_tf_idf_3.best_estimator_\n",
    "NB_tf_idf_4 = clf_NB_tf_idf_4.best_estimator_\n",
    "NB_tf_idf_5 = clf_NB_tf_idf_5.best_estimator_"
   ]
  },
  {
   "cell_type": "code",
   "execution_count": 58,
   "metadata": {},
   "outputs": [
    {
     "name": "stderr",
     "output_type": "stream",
     "text": [
      "C:\\Users\\Mafalda\\Anaconda3\\lib\\site-packages\\sklearn\\naive_bayes.py:485: UserWarning: alpha too small will result in numeric errors, setting alpha = 1.0e-10\n",
      "  'setting alpha = %.1e' % _ALPHA_MIN)\n",
      "C:\\Users\\Mafalda\\Anaconda3\\lib\\site-packages\\sklearn\\naive_bayes.py:485: UserWarning: alpha too small will result in numeric errors, setting alpha = 1.0e-10\n",
      "  'setting alpha = %.1e' % _ALPHA_MIN)\n",
      "C:\\Users\\Mafalda\\Anaconda3\\lib\\site-packages\\sklearn\\naive_bayes.py:485: UserWarning: alpha too small will result in numeric errors, setting alpha = 1.0e-10\n",
      "  'setting alpha = %.1e' % _ALPHA_MIN)\n",
      "C:\\Users\\Mafalda\\Anaconda3\\lib\\site-packages\\sklearn\\naive_bayes.py:485: UserWarning: alpha too small will result in numeric errors, setting alpha = 1.0e-10\n",
      "  'setting alpha = %.1e' % _ALPHA_MIN)\n",
      "C:\\Users\\Mafalda\\Anaconda3\\lib\\site-packages\\sklearn\\naive_bayes.py:485: UserWarning: alpha too small will result in numeric errors, setting alpha = 1.0e-10\n",
      "  'setting alpha = %.1e' % _ALPHA_MIN)\n"
     ]
    },
    {
     "data": {
      "text/plain": [
       "MultinomialNB(alpha=0.0, class_prior=None, fit_prior=True)"
      ]
     },
     "execution_count": 58,
     "metadata": {},
     "output_type": "execute_result"
    }
   ],
   "source": [
    "NB_tf_idf_1.fit(X_train_tf_idf_1,Y_train_1)\n",
    "NB_tf_idf_2.fit(X_train_tf_idf_2,Y_train_2)\n",
    "NB_tf_idf_3.fit(X_train_tf_idf_3,Y_train_3)\n",
    "NB_tf_idf_4.fit(X_train_tf_idf_4,Y_train_4)\n",
    "NB_tf_idf_5.fit(X_train_tf_idf_5,Y_train_5)"
   ]
  },
  {
   "cell_type": "code",
   "execution_count": 59,
   "metadata": {},
   "outputs": [],
   "source": [
    "predictions_NB_tf_idf_1 = NB_tf_idf_1.predict(X_test_tf_idf_1)\n",
    "predictions_NB_tf_idf_2 = NB_tf_idf_2.predict(X_test_tf_idf_2)\n",
    "predictions_NB_tf_idf_3 = NB_tf_idf_3.predict(X_test_tf_idf_3)\n",
    "predictions_NB_tf_idf_4 = NB_tf_idf_4.predict(X_test_tf_idf_4)\n",
    "predictions_NB_tf_idf_5 = NB_tf_idf_5.predict(X_test_tf_idf_5)"
   ]
  },
  {
   "cell_type": "code",
   "execution_count": 60,
   "metadata": {},
   "outputs": [
    {
     "data": {
      "text/plain": [
       "12.307692307692308"
      ]
     },
     "execution_count": 60,
     "metadata": {},
     "output_type": "execute_result"
    }
   ],
   "source": [
    "accuracy_NB_tf_idf_1 = accuracy_score(predictions_NB_tf_idf_1, Y_test_1)*100\n",
    "accuracy_NB_tf_idf_2 = accuracy_score(predictions_NB_tf_idf_2, Y_test_2)*100\n",
    "accuracy_NB_tf_idf_3 = accuracy_score(predictions_NB_tf_idf_3, Y_test_3)*100\n",
    "accuracy_NB_tf_idf_4 = accuracy_score(predictions_NB_tf_idf_4, Y_test_4)*100\n",
    "accuracy_NB_tf_idf_5 = accuracy_score(predictions_NB_tf_idf_5, Y_test_5)*100\n",
    "\n",
    "accuracy_NB_tf_idf = (accuracy_NB_tf_idf_1 + accuracy_NB_tf_idf_2 + accuracy_NB_tf_idf_3 + accuracy_NB_tf_idf_4 + accuracy_NB_tf_idf_5)/5\n",
    "accuracy_NB_tf_idf"
   ]
  },
  {
   "cell_type": "markdown",
   "metadata": {},
   "source": [
    "### SVM"
   ]
  },
  {
   "cell_type": "code",
   "execution_count": 61,
   "metadata": {},
   "outputs": [],
   "source": [
    "SVM = SVC()\n",
    "\n",
    "parameters = {\n",
    "    'C':[1,2,3,4,5],\n",
    "    'degree':[1,2,3,4,5],\n",
    "    'gamma':['scale','auto'],\n",
    "    'shrinking':[True,False],\n",
    "    'probability':[True,False],\n",
    "    'decision_function_shape':['ovo','ovr'],\n",
    "}\n",
    "\n",
    "clf = GridSearchCV(SVM, parameters)"
   ]
  },
  {
   "cell_type": "code",
   "execution_count": 62,
   "metadata": {},
   "outputs": [
    {
     "name": "stderr",
     "output_type": "stream",
     "text": [
      "C:\\Users\\Mafalda\\Anaconda3\\lib\\site-packages\\sklearn\\model_selection\\_split.py:1978: FutureWarning: The default value of cv will change from 3 to 5 in version 0.22. Specify it explicitly to silence this warning.\n",
      "  warnings.warn(CV_WARNING, FutureWarning)\n",
      "C:\\Users\\Mafalda\\Anaconda3\\lib\\site-packages\\sklearn\\model_selection\\_search.py:813: DeprecationWarning: The default of the `iid` parameter will change from True to False in version 0.22 and will be removed in 0.24. This will change numeric results when test-set sizes are unequal.\n",
      "  DeprecationWarning)\n",
      "C:\\Users\\Mafalda\\Anaconda3\\lib\\site-packages\\sklearn\\model_selection\\_split.py:1978: FutureWarning: The default value of cv will change from 3 to 5 in version 0.22. Specify it explicitly to silence this warning.\n",
      "  warnings.warn(CV_WARNING, FutureWarning)\n",
      "C:\\Users\\Mafalda\\Anaconda3\\lib\\site-packages\\sklearn\\model_selection\\_search.py:813: DeprecationWarning: The default of the `iid` parameter will change from True to False in version 0.22 and will be removed in 0.24. This will change numeric results when test-set sizes are unequal.\n",
      "  DeprecationWarning)\n",
      "C:\\Users\\Mafalda\\Anaconda3\\lib\\site-packages\\sklearn\\model_selection\\_split.py:1978: FutureWarning: The default value of cv will change from 3 to 5 in version 0.22. Specify it explicitly to silence this warning.\n",
      "  warnings.warn(CV_WARNING, FutureWarning)\n",
      "C:\\Users\\Mafalda\\Anaconda3\\lib\\site-packages\\sklearn\\model_selection\\_search.py:813: DeprecationWarning: The default of the `iid` parameter will change from True to False in version 0.22 and will be removed in 0.24. This will change numeric results when test-set sizes are unequal.\n",
      "  DeprecationWarning)\n",
      "C:\\Users\\Mafalda\\Anaconda3\\lib\\site-packages\\sklearn\\model_selection\\_split.py:1978: FutureWarning: The default value of cv will change from 3 to 5 in version 0.22. Specify it explicitly to silence this warning.\n",
      "  warnings.warn(CV_WARNING, FutureWarning)\n",
      "C:\\Users\\Mafalda\\Anaconda3\\lib\\site-packages\\sklearn\\model_selection\\_search.py:813: DeprecationWarning: The default of the `iid` parameter will change from True to False in version 0.22 and will be removed in 0.24. This will change numeric results when test-set sizes are unequal.\n",
      "  DeprecationWarning)\n",
      "C:\\Users\\Mafalda\\Anaconda3\\lib\\site-packages\\sklearn\\model_selection\\_split.py:1978: FutureWarning: The default value of cv will change from 3 to 5 in version 0.22. Specify it explicitly to silence this warning.\n",
      "  warnings.warn(CV_WARNING, FutureWarning)\n",
      "C:\\Users\\Mafalda\\Anaconda3\\lib\\site-packages\\sklearn\\model_selection\\_search.py:813: DeprecationWarning: The default of the `iid` parameter will change from True to False in version 0.22 and will be removed in 0.24. This will change numeric results when test-set sizes are unequal.\n",
      "  DeprecationWarning)\n"
     ]
    }
   ],
   "source": [
    "clf_SVM_cv_1 = clf.fit(X_train_cv_1,Y_train_1)\n",
    "clf_SVM_cv_2 = clf.fit(X_train_cv_2,Y_train_2)\n",
    "clf_SVM_cv_3 = clf.fit(X_train_cv_3,Y_train_3)\n",
    "clf_SVM_cv_4 = clf.fit(X_train_cv_4,Y_train_4)\n",
    "clf_SVM_cv_5 = clf.fit(X_train_cv_5,Y_train_5)"
   ]
  },
  {
   "cell_type": "code",
   "execution_count": 63,
   "metadata": {},
   "outputs": [],
   "source": [
    "SVM_cv_1 = clf_SVM_cv_1.best_estimator_\n",
    "SVM_cv_2 = clf_SVM_cv_2.best_estimator_\n",
    "SVM_cv_3 = clf_SVM_cv_3.best_estimator_\n",
    "SVM_cv_4 = clf_SVM_cv_4.best_estimator_\n",
    "SVM_cv_5 = clf_SVM_cv_5.best_estimator_"
   ]
  },
  {
   "cell_type": "code",
   "execution_count": 64,
   "metadata": {},
   "outputs": [
    {
     "data": {
      "text/plain": [
       "SVC(C=3, cache_size=200, class_weight=None, coef0=0.0,\n",
       "    decision_function_shape='ovo', degree=1, gamma='scale', kernel='rbf',\n",
       "    max_iter=-1, probability=True, random_state=None, shrinking=True, tol=0.001,\n",
       "    verbose=False)"
      ]
     },
     "execution_count": 64,
     "metadata": {},
     "output_type": "execute_result"
    }
   ],
   "source": [
    "SVM_cv_1.fit(X_train_cv_1,Y_train_1)\n",
    "SVM_cv_2.fit(X_train_cv_2,Y_train_2)\n",
    "SVM_cv_3.fit(X_train_cv_3,Y_train_3)\n",
    "SVM_cv_4.fit(X_train_cv_4,Y_train_4)\n",
    "SVM_cv_5.fit(X_train_cv_5,Y_train_5)"
   ]
  },
  {
   "cell_type": "code",
   "execution_count": 65,
   "metadata": {},
   "outputs": [],
   "source": [
    "predictions_SVM_cv_1 = SVM_cv_1.predict(X_test_cv_1)\n",
    "predictions_SVM_cv_2 = SVM_cv_2.predict(X_test_cv_2)\n",
    "predictions_SVM_cv_3 = SVM_cv_3.predict(X_test_cv_3)\n",
    "predictions_SVM_cv_4 = SVM_cv_4.predict(X_test_cv_4)\n",
    "predictions_SVM_cv_5 = SVM_cv_5.predict(X_test_cv_5)"
   ]
  },
  {
   "cell_type": "code",
   "execution_count": 66,
   "metadata": {},
   "outputs": [
    {
     "data": {
      "text/plain": [
       "32.17948717948718"
      ]
     },
     "execution_count": 66,
     "metadata": {},
     "output_type": "execute_result"
    }
   ],
   "source": [
    "accuracy_SVM_cv_1 = accuracy_score(predictions_SVM_cv_1, Y_test_1)*100\n",
    "accuracy_SVM_cv_2 = accuracy_score(predictions_SVM_cv_2, Y_test_2)*100\n",
    "accuracy_SVM_cv_3 = accuracy_score(predictions_SVM_cv_3, Y_test_3)*100\n",
    "accuracy_SVM_cv_4 = accuracy_score(predictions_SVM_cv_4, Y_test_4)*100\n",
    "accuracy_SVM_cv_5 = accuracy_score(predictions_SVM_cv_5, Y_test_5)*100\n",
    "\n",
    "accuracy_SVM_cv = (accuracy_SVM_cv_1 + accuracy_SVM_cv_2 + accuracy_SVM_cv_3 + accuracy_SVM_cv_4 + accuracy_SVM_cv_5)/5\n",
    "accuracy_SVM_cv"
   ]
  },
  {
   "cell_type": "code",
   "execution_count": 67,
   "metadata": {},
   "outputs": [
    {
     "name": "stderr",
     "output_type": "stream",
     "text": [
      "C:\\Users\\Mafalda\\Anaconda3\\lib\\site-packages\\sklearn\\model_selection\\_split.py:1978: FutureWarning: The default value of cv will change from 3 to 5 in version 0.22. Specify it explicitly to silence this warning.\n",
      "  warnings.warn(CV_WARNING, FutureWarning)\n",
      "C:\\Users\\Mafalda\\Anaconda3\\lib\\site-packages\\sklearn\\model_selection\\_search.py:813: DeprecationWarning: The default of the `iid` parameter will change from True to False in version 0.22 and will be removed in 0.24. This will change numeric results when test-set sizes are unequal.\n",
      "  DeprecationWarning)\n",
      "C:\\Users\\Mafalda\\Anaconda3\\lib\\site-packages\\sklearn\\model_selection\\_split.py:1978: FutureWarning: The default value of cv will change from 3 to 5 in version 0.22. Specify it explicitly to silence this warning.\n",
      "  warnings.warn(CV_WARNING, FutureWarning)\n",
      "C:\\Users\\Mafalda\\Anaconda3\\lib\\site-packages\\sklearn\\model_selection\\_search.py:813: DeprecationWarning: The default of the `iid` parameter will change from True to False in version 0.22 and will be removed in 0.24. This will change numeric results when test-set sizes are unequal.\n",
      "  DeprecationWarning)\n",
      "C:\\Users\\Mafalda\\Anaconda3\\lib\\site-packages\\sklearn\\model_selection\\_split.py:1978: FutureWarning: The default value of cv will change from 3 to 5 in version 0.22. Specify it explicitly to silence this warning.\n",
      "  warnings.warn(CV_WARNING, FutureWarning)\n",
      "C:\\Users\\Mafalda\\Anaconda3\\lib\\site-packages\\sklearn\\model_selection\\_search.py:813: DeprecationWarning: The default of the `iid` parameter will change from True to False in version 0.22 and will be removed in 0.24. This will change numeric results when test-set sizes are unequal.\n",
      "  DeprecationWarning)\n",
      "C:\\Users\\Mafalda\\Anaconda3\\lib\\site-packages\\sklearn\\model_selection\\_split.py:1978: FutureWarning: The default value of cv will change from 3 to 5 in version 0.22. Specify it explicitly to silence this warning.\n",
      "  warnings.warn(CV_WARNING, FutureWarning)\n",
      "C:\\Users\\Mafalda\\Anaconda3\\lib\\site-packages\\sklearn\\model_selection\\_search.py:813: DeprecationWarning: The default of the `iid` parameter will change from True to False in version 0.22 and will be removed in 0.24. This will change numeric results when test-set sizes are unequal.\n",
      "  DeprecationWarning)\n",
      "C:\\Users\\Mafalda\\Anaconda3\\lib\\site-packages\\sklearn\\model_selection\\_split.py:1978: FutureWarning: The default value of cv will change from 3 to 5 in version 0.22. Specify it explicitly to silence this warning.\n",
      "  warnings.warn(CV_WARNING, FutureWarning)\n",
      "C:\\Users\\Mafalda\\Anaconda3\\lib\\site-packages\\sklearn\\model_selection\\_search.py:813: DeprecationWarning: The default of the `iid` parameter will change from True to False in version 0.22 and will be removed in 0.24. This will change numeric results when test-set sizes are unequal.\n",
      "  DeprecationWarning)\n"
     ]
    }
   ],
   "source": [
    "clf_SVM_tf_idf_1 = clf.fit(X_train_tf_idf_1,Y_train_1)\n",
    "clf_SVM_tf_idf_2 = clf.fit(X_train_tf_idf_2,Y_train_2)\n",
    "clf_SVM_tf_idf_3 = clf.fit(X_train_tf_idf_3,Y_train_3)\n",
    "clf_SVM_tf_idf_4 = clf.fit(X_train_tf_idf_4,Y_train_4)\n",
    "clf_SVM_tf_idf_5 = clf.fit(X_train_tf_idf_5,Y_train_5)"
   ]
  },
  {
   "cell_type": "code",
   "execution_count": 68,
   "metadata": {},
   "outputs": [],
   "source": [
    "SVM_tf_idf_1 = clf_SVM_tf_idf_1.best_estimator_\n",
    "SVM_tf_idf_2 = clf_SVM_tf_idf_2.best_estimator_\n",
    "SVM_tf_idf_3 = clf_SVM_tf_idf_3.best_estimator_\n",
    "SVM_tf_idf_4 = clf_SVM_tf_idf_4.best_estimator_\n",
    "SVM_tf_idf_5 = clf_SVM_tf_idf_5.best_estimator_"
   ]
  },
  {
   "cell_type": "code",
   "execution_count": 69,
   "metadata": {},
   "outputs": [
    {
     "data": {
      "text/plain": [
       "SVC(C=2, cache_size=200, class_weight=None, coef0=0.0,\n",
       "    decision_function_shape='ovo', degree=1, gamma='scale', kernel='rbf',\n",
       "    max_iter=-1, probability=True, random_state=None, shrinking=True, tol=0.001,\n",
       "    verbose=False)"
      ]
     },
     "execution_count": 69,
     "metadata": {},
     "output_type": "execute_result"
    }
   ],
   "source": [
    "SVM_tf_idf_1.fit(X_train_tf_idf_1,Y_train_1)\n",
    "SVM_tf_idf_2.fit(X_train_tf_idf_2,Y_train_2)\n",
    "SVM_tf_idf_3.fit(X_train_tf_idf_3,Y_train_3)\n",
    "SVM_tf_idf_4.fit(X_train_tf_idf_4,Y_train_4)\n",
    "SVM_tf_idf_5.fit(X_train_tf_idf_5,Y_train_5)"
   ]
  },
  {
   "cell_type": "code",
   "execution_count": 70,
   "metadata": {},
   "outputs": [],
   "source": [
    "predictions_SVM_tf_idf_1 = SVM_tf_idf_1.predict(X_test_tf_idf_1)\n",
    "predictions_SVM_tf_idf_2 = SVM_tf_idf_2.predict(X_test_tf_idf_2)\n",
    "predictions_SVM_tf_idf_3 = SVM_tf_idf_3.predict(X_test_tf_idf_3)\n",
    "predictions_SVM_tf_idf_4 = SVM_tf_idf_4.predict(X_test_tf_idf_4)\n",
    "predictions_SVM_tf_idf_5 = SVM_tf_idf_5.predict(X_test_tf_idf_5)"
   ]
  },
  {
   "cell_type": "code",
   "execution_count": 71,
   "metadata": {},
   "outputs": [
    {
     "data": {
      "text/plain": [
       "22.30769230769231"
      ]
     },
     "execution_count": 71,
     "metadata": {},
     "output_type": "execute_result"
    }
   ],
   "source": [
    "accuracy_SVM_tf_idf_1 = accuracy_score(predictions_SVM_tf_idf_1, Y_test_1)*100\n",
    "accuracy_SVM_tf_idf_2 = accuracy_score(predictions_SVM_tf_idf_2, Y_test_2)*100\n",
    "accuracy_SVM_tf_idf_3 = accuracy_score(predictions_SVM_tf_idf_3, Y_test_3)*100\n",
    "accuracy_SVM_tf_idf_4 = accuracy_score(predictions_SVM_tf_idf_4, Y_test_4)*100\n",
    "accuracy_SVM_tf_idf_5 = accuracy_score(predictions_SVM_tf_idf_5, Y_test_5)*100\n",
    "\n",
    "accuracy_SVM_tf_idf = (accuracy_SVM_tf_idf_1 + accuracy_SVM_tf_idf_2 + accuracy_SVM_tf_idf_3 + accuracy_SVM_tf_idf_4 + accuracy_SVM_tf_idf_5)/5\n",
    "accuracy_SVM_tf_idf"
   ]
  },
  {
   "cell_type": "markdown",
   "metadata": {},
   "source": [
    "### Decision Tree"
   ]
  },
  {
   "cell_type": "code",
   "execution_count": 72,
   "metadata": {},
   "outputs": [],
   "source": [
    "DT = DecisionTreeClassifier()\n",
    "\n",
    "parameters = {\n",
    "    'criterion':['gini','entropy'],\n",
    "    'splitter':['best','random'],\n",
    "}\n",
    "\n",
    "clf = GridSearchCV(DT, parameters)"
   ]
  },
  {
   "cell_type": "code",
   "execution_count": 73,
   "metadata": {},
   "outputs": [
    {
     "name": "stderr",
     "output_type": "stream",
     "text": [
      "C:\\Users\\Mafalda\\Anaconda3\\lib\\site-packages\\sklearn\\model_selection\\_split.py:1978: FutureWarning: The default value of cv will change from 3 to 5 in version 0.22. Specify it explicitly to silence this warning.\n",
      "  warnings.warn(CV_WARNING, FutureWarning)\n",
      "C:\\Users\\Mafalda\\Anaconda3\\lib\\site-packages\\sklearn\\model_selection\\_search.py:813: DeprecationWarning: The default of the `iid` parameter will change from True to False in version 0.22 and will be removed in 0.24. This will change numeric results when test-set sizes are unequal.\n",
      "  DeprecationWarning)\n",
      "C:\\Users\\Mafalda\\Anaconda3\\lib\\site-packages\\sklearn\\model_selection\\_split.py:1978: FutureWarning: The default value of cv will change from 3 to 5 in version 0.22. Specify it explicitly to silence this warning.\n",
      "  warnings.warn(CV_WARNING, FutureWarning)\n",
      "C:\\Users\\Mafalda\\Anaconda3\\lib\\site-packages\\sklearn\\model_selection\\_search.py:813: DeprecationWarning: The default of the `iid` parameter will change from True to False in version 0.22 and will be removed in 0.24. This will change numeric results when test-set sizes are unequal.\n",
      "  DeprecationWarning)\n",
      "C:\\Users\\Mafalda\\Anaconda3\\lib\\site-packages\\sklearn\\model_selection\\_split.py:1978: FutureWarning: The default value of cv will change from 3 to 5 in version 0.22. Specify it explicitly to silence this warning.\n",
      "  warnings.warn(CV_WARNING, FutureWarning)\n",
      "C:\\Users\\Mafalda\\Anaconda3\\lib\\site-packages\\sklearn\\model_selection\\_search.py:813: DeprecationWarning: The default of the `iid` parameter will change from True to False in version 0.22 and will be removed in 0.24. This will change numeric results when test-set sizes are unequal.\n",
      "  DeprecationWarning)\n",
      "C:\\Users\\Mafalda\\Anaconda3\\lib\\site-packages\\sklearn\\model_selection\\_split.py:1978: FutureWarning: The default value of cv will change from 3 to 5 in version 0.22. Specify it explicitly to silence this warning.\n",
      "  warnings.warn(CV_WARNING, FutureWarning)\n",
      "C:\\Users\\Mafalda\\Anaconda3\\lib\\site-packages\\sklearn\\model_selection\\_search.py:813: DeprecationWarning: The default of the `iid` parameter will change from True to False in version 0.22 and will be removed in 0.24. This will change numeric results when test-set sizes are unequal.\n",
      "  DeprecationWarning)\n",
      "C:\\Users\\Mafalda\\Anaconda3\\lib\\site-packages\\sklearn\\model_selection\\_split.py:1978: FutureWarning: The default value of cv will change from 3 to 5 in version 0.22. Specify it explicitly to silence this warning.\n",
      "  warnings.warn(CV_WARNING, FutureWarning)\n",
      "C:\\Users\\Mafalda\\Anaconda3\\lib\\site-packages\\sklearn\\model_selection\\_search.py:813: DeprecationWarning: The default of the `iid` parameter will change from True to False in version 0.22 and will be removed in 0.24. This will change numeric results when test-set sizes are unequal.\n",
      "  DeprecationWarning)\n"
     ]
    }
   ],
   "source": [
    "clf_DT_cv_1 = clf.fit(X_train_cv_1,Y_train_1)\n",
    "clf_DT_cv_2 = clf.fit(X_train_cv_2,Y_train_2)\n",
    "clf_DT_cv_3 = clf.fit(X_train_cv_3,Y_train_3)\n",
    "clf_DT_cv_4 = clf.fit(X_train_cv_4,Y_train_4)\n",
    "clf_DT_cv_5 = clf.fit(X_train_cv_5,Y_train_5)"
   ]
  },
  {
   "cell_type": "code",
   "execution_count": 74,
   "metadata": {},
   "outputs": [],
   "source": [
    "DT_cv_1 = clf_DT_cv_1.best_estimator_\n",
    "DT_cv_2 = clf_DT_cv_2.best_estimator_\n",
    "DT_cv_3 = clf_DT_cv_3.best_estimator_\n",
    "DT_cv_4 = clf_DT_cv_4.best_estimator_\n",
    "DT_cv_5 = clf_DT_cv_5.best_estimator_"
   ]
  },
  {
   "cell_type": "code",
   "execution_count": 75,
   "metadata": {},
   "outputs": [
    {
     "data": {
      "text/plain": [
       "DecisionTreeClassifier(class_weight=None, criterion='entropy', max_depth=None,\n",
       "                       max_features=None, max_leaf_nodes=None,\n",
       "                       min_impurity_decrease=0.0, min_impurity_split=None,\n",
       "                       min_samples_leaf=1, min_samples_split=2,\n",
       "                       min_weight_fraction_leaf=0.0, presort=False,\n",
       "                       random_state=None, splitter='random')"
      ]
     },
     "execution_count": 75,
     "metadata": {},
     "output_type": "execute_result"
    }
   ],
   "source": [
    "DT_cv_1.fit(X_train_cv_1,Y_train_1)\n",
    "DT_cv_2.fit(X_train_cv_2,Y_train_2)\n",
    "DT_cv_3.fit(X_train_cv_3,Y_train_3)\n",
    "DT_cv_4.fit(X_train_cv_4,Y_train_4)\n",
    "DT_cv_5.fit(X_train_cv_5,Y_train_5)"
   ]
  },
  {
   "cell_type": "code",
   "execution_count": 76,
   "metadata": {},
   "outputs": [],
   "source": [
    "predictions_DT_cv_1 = DT_cv_1.predict(X_test_cv_1)\n",
    "predictions_DT_cv_2 = DT_cv_2.predict(X_test_cv_2)\n",
    "predictions_DT_cv_3 = DT_cv_3.predict(X_test_cv_3)\n",
    "predictions_DT_cv_4 = DT_cv_4.predict(X_test_cv_4)\n",
    "predictions_DT_cv_5 = DT_cv_5.predict(X_test_cv_5)"
   ]
  },
  {
   "cell_type": "code",
   "execution_count": 77,
   "metadata": {},
   "outputs": [
    {
     "data": {
      "text/plain": [
       "18.846153846153847"
      ]
     },
     "execution_count": 77,
     "metadata": {},
     "output_type": "execute_result"
    }
   ],
   "source": [
    "accuracy_DT_cv_1 = accuracy_score(predictions_DT_cv_1, Y_test_1)*100\n",
    "accuracy_DT_cv_2 = accuracy_score(predictions_DT_cv_2, Y_test_2)*100\n",
    "accuracy_DT_cv_3 = accuracy_score(predictions_DT_cv_3, Y_test_3)*100\n",
    "accuracy_DT_cv_4 = accuracy_score(predictions_DT_cv_4, Y_test_4)*100\n",
    "accuracy_DT_cv_5 = accuracy_score(predictions_DT_cv_5, Y_test_5)*100\n",
    "\n",
    "accuracy_DT_cv = (accuracy_DT_cv_1 + accuracy_DT_cv_2 + accuracy_DT_cv_3 + accuracy_DT_cv_4 + accuracy_DT_cv_5)/5\n",
    "accuracy_DT_cv"
   ]
  },
  {
   "cell_type": "code",
   "execution_count": 78,
   "metadata": {},
   "outputs": [
    {
     "name": "stderr",
     "output_type": "stream",
     "text": [
      "C:\\Users\\Mafalda\\Anaconda3\\lib\\site-packages\\sklearn\\model_selection\\_split.py:1978: FutureWarning: The default value of cv will change from 3 to 5 in version 0.22. Specify it explicitly to silence this warning.\n",
      "  warnings.warn(CV_WARNING, FutureWarning)\n",
      "C:\\Users\\Mafalda\\Anaconda3\\lib\\site-packages\\sklearn\\model_selection\\_search.py:813: DeprecationWarning: The default of the `iid` parameter will change from True to False in version 0.22 and will be removed in 0.24. This will change numeric results when test-set sizes are unequal.\n",
      "  DeprecationWarning)\n",
      "C:\\Users\\Mafalda\\Anaconda3\\lib\\site-packages\\sklearn\\model_selection\\_split.py:1978: FutureWarning: The default value of cv will change from 3 to 5 in version 0.22. Specify it explicitly to silence this warning.\n",
      "  warnings.warn(CV_WARNING, FutureWarning)\n",
      "C:\\Users\\Mafalda\\Anaconda3\\lib\\site-packages\\sklearn\\model_selection\\_search.py:813: DeprecationWarning: The default of the `iid` parameter will change from True to False in version 0.22 and will be removed in 0.24. This will change numeric results when test-set sizes are unequal.\n",
      "  DeprecationWarning)\n",
      "C:\\Users\\Mafalda\\Anaconda3\\lib\\site-packages\\sklearn\\model_selection\\_split.py:1978: FutureWarning: The default value of cv will change from 3 to 5 in version 0.22. Specify it explicitly to silence this warning.\n",
      "  warnings.warn(CV_WARNING, FutureWarning)\n",
      "C:\\Users\\Mafalda\\Anaconda3\\lib\\site-packages\\sklearn\\model_selection\\_search.py:813: DeprecationWarning: The default of the `iid` parameter will change from True to False in version 0.22 and will be removed in 0.24. This will change numeric results when test-set sizes are unequal.\n",
      "  DeprecationWarning)\n",
      "C:\\Users\\Mafalda\\Anaconda3\\lib\\site-packages\\sklearn\\model_selection\\_split.py:1978: FutureWarning: The default value of cv will change from 3 to 5 in version 0.22. Specify it explicitly to silence this warning.\n",
      "  warnings.warn(CV_WARNING, FutureWarning)\n",
      "C:\\Users\\Mafalda\\Anaconda3\\lib\\site-packages\\sklearn\\model_selection\\_search.py:813: DeprecationWarning: The default of the `iid` parameter will change from True to False in version 0.22 and will be removed in 0.24. This will change numeric results when test-set sizes are unequal.\n",
      "  DeprecationWarning)\n",
      "C:\\Users\\Mafalda\\Anaconda3\\lib\\site-packages\\sklearn\\model_selection\\_split.py:1978: FutureWarning: The default value of cv will change from 3 to 5 in version 0.22. Specify it explicitly to silence this warning.\n",
      "  warnings.warn(CV_WARNING, FutureWarning)\n",
      "C:\\Users\\Mafalda\\Anaconda3\\lib\\site-packages\\sklearn\\model_selection\\_search.py:813: DeprecationWarning: The default of the `iid` parameter will change from True to False in version 0.22 and will be removed in 0.24. This will change numeric results when test-set sizes are unequal.\n",
      "  DeprecationWarning)\n"
     ]
    }
   ],
   "source": [
    "clf_DT_tf_idf_1 = clf.fit(X_train_tf_idf_1,Y_train_1)\n",
    "clf_DT_tf_idf_2 = clf.fit(X_train_tf_idf_2,Y_train_2)\n",
    "clf_DT_tf_idf_3 = clf.fit(X_train_tf_idf_3,Y_train_3)\n",
    "clf_DT_tf_idf_4 = clf.fit(X_train_tf_idf_4,Y_train_4)\n",
    "clf_DT_tf_idf_5 = clf.fit(X_train_tf_idf_5,Y_train_5)"
   ]
  },
  {
   "cell_type": "code",
   "execution_count": 79,
   "metadata": {},
   "outputs": [],
   "source": [
    "DT_tf_idf_1 = clf_DT_tf_idf_1.best_estimator_\n",
    "DT_tf_idf_2 = clf_DT_tf_idf_2.best_estimator_\n",
    "DT_tf_idf_3 = clf_DT_tf_idf_3.best_estimator_\n",
    "DT_tf_idf_4 = clf_DT_tf_idf_4.best_estimator_\n",
    "DT_tf_idf_5 = clf_DT_tf_idf_5.best_estimator_"
   ]
  },
  {
   "cell_type": "code",
   "execution_count": 80,
   "metadata": {},
   "outputs": [
    {
     "data": {
      "text/plain": [
       "DecisionTreeClassifier(class_weight=None, criterion='gini', max_depth=None,\n",
       "                       max_features=None, max_leaf_nodes=None,\n",
       "                       min_impurity_decrease=0.0, min_impurity_split=None,\n",
       "                       min_samples_leaf=1, min_samples_split=2,\n",
       "                       min_weight_fraction_leaf=0.0, presort=False,\n",
       "                       random_state=None, splitter='best')"
      ]
     },
     "execution_count": 80,
     "metadata": {},
     "output_type": "execute_result"
    }
   ],
   "source": [
    "DT_tf_idf_1.fit(X_train_tf_idf_1,Y_train_1)\n",
    "DT_tf_idf_2.fit(X_train_tf_idf_2,Y_train_2)\n",
    "DT_tf_idf_3.fit(X_train_tf_idf_3,Y_train_3)\n",
    "DT_tf_idf_4.fit(X_train_tf_idf_4,Y_train_4)\n",
    "DT_tf_idf_5.fit(X_train_tf_idf_5,Y_train_5)"
   ]
  },
  {
   "cell_type": "code",
   "execution_count": 81,
   "metadata": {},
   "outputs": [],
   "source": [
    "predictions_DT_tf_idf_1 = DT_tf_idf_1.predict(X_test_tf_idf_1)\n",
    "predictions_DT_tf_idf_2 = DT_tf_idf_2.predict(X_test_tf_idf_2)\n",
    "predictions_DT_tf_idf_3 = DT_tf_idf_3.predict(X_test_tf_idf_3)\n",
    "predictions_DT_tf_idf_4 = DT_tf_idf_4.predict(X_test_tf_idf_4)\n",
    "predictions_DT_tf_idf_5 = DT_tf_idf_5.predict(X_test_tf_idf_5)"
   ]
  },
  {
   "cell_type": "code",
   "execution_count": 82,
   "metadata": {},
   "outputs": [
    {
     "data": {
      "text/plain": [
       "28.461538461538463"
      ]
     },
     "execution_count": 82,
     "metadata": {},
     "output_type": "execute_result"
    }
   ],
   "source": [
    "accuracy_DT_tf_idf_1 = accuracy_score(predictions_DT_tf_idf_1, Y_test_1)*100\n",
    "accuracy_DT_tf_idf_2 = accuracy_score(predictions_DT_tf_idf_2, Y_test_2)*100\n",
    "accuracy_DT_tf_idf_3 = accuracy_score(predictions_DT_tf_idf_3, Y_test_3)*100\n",
    "accuracy_DT_tf_idf_4 = accuracy_score(predictions_DT_tf_idf_4, Y_test_4)*100\n",
    "accuracy_DT_tf_idf_5 = accuracy_score(predictions_DT_tf_idf_5, Y_test_5)*100\n",
    "\n",
    "accuracy_DT_tf_idf = (accuracy_DT_tf_idf_1 + accuracy_DT_tf_idf_2 + accuracy_DT_tf_idf_3 + accuracy_DT_tf_idf_4 + accuracy_DT_tf_idf_5)/5\n",
    "accuracy_DT_tf_idf"
   ]
  },
  {
   "cell_type": "markdown",
   "metadata": {},
   "source": [
    "### Word2Vec"
   ]
  },
  {
   "cell_type": "code",
   "execution_count": 83,
   "metadata": {},
   "outputs": [
    {
     "data": {
      "application/vnd.jupyter.widget-view+json": {
       "model_id": "089f2f0a04514622b9076ce332fa08e4",
       "version_major": 2,
       "version_minor": 0
      },
      "text/plain": [
       "HBox(children=(IntProgress(value=0, max=50), HTML(value='')))"
      ]
     },
     "metadata": {},
     "output_type": "display_data"
    },
    {
     "name": "stderr",
     "output_type": "stream",
     "text": [
      "C:\\Users\\Mafalda\\Anaconda3\\lib\\site-packages\\ipykernel_launcher.py:14: DeprecationWarning: Call to deprecated `__getitem__` (Method will be removed in 4.0.0, use self.wv.__getitem__() instead).\n",
      "  \n",
      "C:\\Users\\Mafalda\\Anaconda3\\lib\\site-packages\\ipykernel_launcher.py:13: DeprecationWarning: elementwise comparison failed; this will raise an error in the future.\n",
      "  del sys.path[0]\n",
      "C:\\Users\\Mafalda\\Anaconda3\\lib\\site-packages\\ipykernel_launcher.py:17: DeprecationWarning: Call to deprecated `__getitem__` (Method will be removed in 4.0.0, use self.wv.__getitem__() instead).\n"
     ]
    },
    {
     "name": "stdout",
     "output_type": "stream",
     "text": [
      "\n"
     ]
    },
    {
     "data": {
      "application/vnd.jupyter.widget-view+json": {
       "model_id": "a0dee5beab9d4d2dba596be06ad65b3e",
       "version_major": 2,
       "version_minor": 0
      },
      "text/plain": [
       "HBox(children=(IntProgress(value=0, max=50), HTML(value='')))"
      ]
     },
     "metadata": {},
     "output_type": "display_data"
    },
    {
     "name": "stderr",
     "output_type": "stream",
     "text": [
      "C:\\Users\\Mafalda\\Anaconda3\\lib\\site-packages\\ipykernel_launcher.py:30: DeprecationWarning: Call to deprecated `__getitem__` (Method will be removed in 4.0.0, use self.wv.__getitem__() instead).\n",
      "C:\\Users\\Mafalda\\Anaconda3\\lib\\site-packages\\ipykernel_launcher.py:29: DeprecationWarning: elementwise comparison failed; this will raise an error in the future.\n",
      "C:\\Users\\Mafalda\\Anaconda3\\lib\\site-packages\\ipykernel_launcher.py:33: DeprecationWarning: Call to deprecated `__getitem__` (Method will be removed in 4.0.0, use self.wv.__getitem__() instead).\n"
     ]
    },
    {
     "name": "stdout",
     "output_type": "stream",
     "text": [
      "\n"
     ]
    },
    {
     "data": {
      "application/vnd.jupyter.widget-view+json": {
       "model_id": "a55d8878363c4e98b0079d9a056033cb",
       "version_major": 2,
       "version_minor": 0
      },
      "text/plain": [
       "HBox(children=(IntProgress(value=0, max=50), HTML(value='')))"
      ]
     },
     "metadata": {},
     "output_type": "display_data"
    },
    {
     "name": "stderr",
     "output_type": "stream",
     "text": [
      "C:\\Users\\Mafalda\\Anaconda3\\lib\\site-packages\\ipykernel_launcher.py:46: DeprecationWarning: Call to deprecated `__getitem__` (Method will be removed in 4.0.0, use self.wv.__getitem__() instead).\n",
      "C:\\Users\\Mafalda\\Anaconda3\\lib\\site-packages\\ipykernel_launcher.py:45: DeprecationWarning: elementwise comparison failed; this will raise an error in the future.\n",
      "C:\\Users\\Mafalda\\Anaconda3\\lib\\site-packages\\ipykernel_launcher.py:49: DeprecationWarning: Call to deprecated `__getitem__` (Method will be removed in 4.0.0, use self.wv.__getitem__() instead).\n"
     ]
    },
    {
     "name": "stdout",
     "output_type": "stream",
     "text": [
      "\n"
     ]
    },
    {
     "data": {
      "application/vnd.jupyter.widget-view+json": {
       "model_id": "b9256f34060b438eb1ae1ed85e12ebc2",
       "version_major": 2,
       "version_minor": 0
      },
      "text/plain": [
       "HBox(children=(IntProgress(value=0, max=51), HTML(value='')))"
      ]
     },
     "metadata": {},
     "output_type": "display_data"
    },
    {
     "name": "stderr",
     "output_type": "stream",
     "text": [
      "C:\\Users\\Mafalda\\Anaconda3\\lib\\site-packages\\ipykernel_launcher.py:62: DeprecationWarning: Call to deprecated `__getitem__` (Method will be removed in 4.0.0, use self.wv.__getitem__() instead).\n",
      "C:\\Users\\Mafalda\\Anaconda3\\lib\\site-packages\\ipykernel_launcher.py:61: DeprecationWarning: elementwise comparison failed; this will raise an error in the future.\n",
      "C:\\Users\\Mafalda\\Anaconda3\\lib\\site-packages\\ipykernel_launcher.py:65: DeprecationWarning: Call to deprecated `__getitem__` (Method will be removed in 4.0.0, use self.wv.__getitem__() instead).\n"
     ]
    },
    {
     "name": "stdout",
     "output_type": "stream",
     "text": [
      "\n"
     ]
    },
    {
     "data": {
      "application/vnd.jupyter.widget-view+json": {
       "model_id": "cd7d2ca98e8543d7a2ee9bf001fc40b2",
       "version_major": 2,
       "version_minor": 0
      },
      "text/plain": [
       "HBox(children=(IntProgress(value=0, max=51), HTML(value='')))"
      ]
     },
     "metadata": {},
     "output_type": "display_data"
    },
    {
     "name": "stderr",
     "output_type": "stream",
     "text": [
      "C:\\Users\\Mafalda\\Anaconda3\\lib\\site-packages\\ipykernel_launcher.py:78: DeprecationWarning: Call to deprecated `__getitem__` (Method will be removed in 4.0.0, use self.wv.__getitem__() instead).\n",
      "C:\\Users\\Mafalda\\Anaconda3\\lib\\site-packages\\ipykernel_launcher.py:77: DeprecationWarning: elementwise comparison failed; this will raise an error in the future.\n",
      "C:\\Users\\Mafalda\\Anaconda3\\lib\\site-packages\\ipykernel_launcher.py:81: DeprecationWarning: Call to deprecated `__getitem__` (Method will be removed in 4.0.0, use self.wv.__getitem__() instead).\n"
     ]
    },
    {
     "name": "stdout",
     "output_type": "stream",
     "text": [
      "\n"
     ]
    }
   ],
   "source": [
    "text_scores_1 = []\n",
    "text_scores_2 = []\n",
    "text_scores_3 = []\n",
    "text_scores_4 = []\n",
    "text_scores_5 = []\n",
    "\n",
    "for i in tqdm(X_train_w2v_1.index):\n",
    "    text = X_train_w2v_1[i]\n",
    "    n = len(text)\n",
    "    text_vect = []\n",
    "    \n",
    "    for word in text:\n",
    "        if text_vect == []:\n",
    "            text_vect = w2v_train_1[word]\n",
    "            \n",
    "        else:\n",
    "            text_vect = np.add(text_vect,w2v_train_1[word])\n",
    "        \n",
    "    score = list(np.asarray(text_vect) / n)\n",
    "    \n",
    "    text_scores_1.append(score)\n",
    "    \n",
    "for i in tqdm(X_train_w2v_2.index):\n",
    "    text = X_train_w2v_2[i]\n",
    "    n = len(text)\n",
    "    text_vect = []\n",
    "    \n",
    "    for word in text:\n",
    "        if text_vect == []:\n",
    "            text_vect = w2v_train_2[word]\n",
    "            \n",
    "        else:\n",
    "            text_vect = np.add(text_vect,w2v_train_2[word])\n",
    "        \n",
    "    score = list(np.asarray(text_vect) / n)\n",
    "    \n",
    "    text_scores_2.append(score)\n",
    "    \n",
    "for i in tqdm(X_train_w2v_3.index):\n",
    "    text = X_train_w2v_3[i]\n",
    "    n = len(text)\n",
    "    text_vect = []\n",
    "    \n",
    "    for word in text:\n",
    "        if text_vect == []:\n",
    "            text_vect = w2v_train_3[word]\n",
    "            \n",
    "        else:\n",
    "            text_vect = np.add(text_vect,w2v_train_3[word])\n",
    "        \n",
    "    score = list(np.asarray(text_vect) / n)\n",
    "    \n",
    "    text_scores_3.append(score)\n",
    "    \n",
    "for i in tqdm(X_train_w2v_4.index):\n",
    "    text = X_train_w2v_4[i]\n",
    "    n = len(text)\n",
    "    text_vect = []\n",
    "    \n",
    "    for word in text:\n",
    "        if text_vect == []:\n",
    "            text_vect = w2v_train_4[word]\n",
    "            \n",
    "        else:\n",
    "            text_vect = np.add(text_vect,w2v_train_4[word])\n",
    "        \n",
    "    score = list(np.asarray(text_vect) / n)\n",
    "    \n",
    "    text_scores_4.append(score)\n",
    "    \n",
    "for i in tqdm(X_train_w2v_5.index):\n",
    "    text = X_train_w2v_5[i]\n",
    "    n = len(text)\n",
    "    text_vect = []\n",
    "    \n",
    "    for word in text:\n",
    "        if text_vect == []:\n",
    "            text_vect = w2v_train_5[word]\n",
    "            \n",
    "        else:\n",
    "            text_vect = np.add(text_vect,w2v_train_5[word])\n",
    "        \n",
    "    score = list(np.asarray(text_vect) / n)\n",
    "    \n",
    "    text_scores_5.append(score)"
   ]
  },
  {
   "cell_type": "code",
   "execution_count": 84,
   "metadata": {},
   "outputs": [
    {
     "data": {
      "application/vnd.jupyter.widget-view+json": {
       "model_id": "f757d88724664a2e97f511089cdc6999",
       "version_major": 2,
       "version_minor": 0
      },
      "text/plain": [
       "HBox(children=(IntProgress(value=0, max=13), HTML(value='')))"
      ]
     },
     "metadata": {},
     "output_type": "display_data"
    },
    {
     "name": "stderr",
     "output_type": "stream",
     "text": [
      "C:\\Users\\Mafalda\\Anaconda3\\lib\\site-packages\\ipykernel_launcher.py:14: DeprecationWarning: Call to deprecated `__getitem__` (Method will be removed in 4.0.0, use self.wv.__getitem__() instead).\n",
      "  \n",
      "C:\\Users\\Mafalda\\Anaconda3\\lib\\site-packages\\ipykernel_launcher.py:13: DeprecationWarning: elementwise comparison failed; this will raise an error in the future.\n",
      "  del sys.path[0]\n",
      "C:\\Users\\Mafalda\\Anaconda3\\lib\\site-packages\\ipykernel_launcher.py:17: DeprecationWarning: Call to deprecated `__getitem__` (Method will be removed in 4.0.0, use self.wv.__getitem__() instead).\n"
     ]
    },
    {
     "name": "stdout",
     "output_type": "stream",
     "text": [
      "\n"
     ]
    },
    {
     "data": {
      "application/vnd.jupyter.widget-view+json": {
       "model_id": "caf1a4c893db4ce48a3ad09456cd1f48",
       "version_major": 2,
       "version_minor": 0
      },
      "text/plain": [
       "HBox(children=(IntProgress(value=0, max=13), HTML(value='')))"
      ]
     },
     "metadata": {},
     "output_type": "display_data"
    },
    {
     "name": "stderr",
     "output_type": "stream",
     "text": [
      "C:\\Users\\Mafalda\\Anaconda3\\lib\\site-packages\\ipykernel_launcher.py:30: DeprecationWarning: Call to deprecated `__getitem__` (Method will be removed in 4.0.0, use self.wv.__getitem__() instead).\n",
      "C:\\Users\\Mafalda\\Anaconda3\\lib\\site-packages\\ipykernel_launcher.py:29: DeprecationWarning: elementwise comparison failed; this will raise an error in the future.\n",
      "C:\\Users\\Mafalda\\Anaconda3\\lib\\site-packages\\ipykernel_launcher.py:33: DeprecationWarning: Call to deprecated `__getitem__` (Method will be removed in 4.0.0, use self.wv.__getitem__() instead).\n"
     ]
    },
    {
     "name": "stdout",
     "output_type": "stream",
     "text": [
      "\n"
     ]
    },
    {
     "data": {
      "application/vnd.jupyter.widget-view+json": {
       "model_id": "1015f865ac95461baf5d21c0e5b62473",
       "version_major": 2,
       "version_minor": 0
      },
      "text/plain": [
       "HBox(children=(IntProgress(value=0, max=13), HTML(value='')))"
      ]
     },
     "metadata": {},
     "output_type": "display_data"
    },
    {
     "name": "stderr",
     "output_type": "stream",
     "text": [
      "C:\\Users\\Mafalda\\Anaconda3\\lib\\site-packages\\ipykernel_launcher.py:46: DeprecationWarning: Call to deprecated `__getitem__` (Method will be removed in 4.0.0, use self.wv.__getitem__() instead).\n",
      "C:\\Users\\Mafalda\\Anaconda3\\lib\\site-packages\\ipykernel_launcher.py:45: DeprecationWarning: elementwise comparison failed; this will raise an error in the future.\n",
      "C:\\Users\\Mafalda\\Anaconda3\\lib\\site-packages\\ipykernel_launcher.py:49: DeprecationWarning: Call to deprecated `__getitem__` (Method will be removed in 4.0.0, use self.wv.__getitem__() instead).\n"
     ]
    },
    {
     "name": "stdout",
     "output_type": "stream",
     "text": [
      "\n"
     ]
    },
    {
     "data": {
      "application/vnd.jupyter.widget-view+json": {
       "model_id": "44fd5d2e46d54398a3547ba68a45e8da",
       "version_major": 2,
       "version_minor": 0
      },
      "text/plain": [
       "HBox(children=(IntProgress(value=0, max=12), HTML(value='')))"
      ]
     },
     "metadata": {},
     "output_type": "display_data"
    },
    {
     "name": "stderr",
     "output_type": "stream",
     "text": [
      "C:\\Users\\Mafalda\\Anaconda3\\lib\\site-packages\\ipykernel_launcher.py:62: DeprecationWarning: Call to deprecated `__getitem__` (Method will be removed in 4.0.0, use self.wv.__getitem__() instead).\n",
      "C:\\Users\\Mafalda\\Anaconda3\\lib\\site-packages\\ipykernel_launcher.py:61: DeprecationWarning: elementwise comparison failed; this will raise an error in the future.\n",
      "C:\\Users\\Mafalda\\Anaconda3\\lib\\site-packages\\ipykernel_launcher.py:65: DeprecationWarning: Call to deprecated `__getitem__` (Method will be removed in 4.0.0, use self.wv.__getitem__() instead).\n"
     ]
    },
    {
     "name": "stdout",
     "output_type": "stream",
     "text": [
      "\n"
     ]
    },
    {
     "data": {
      "application/vnd.jupyter.widget-view+json": {
       "model_id": "1a598f8d9ce54d6a9b581c9e5d302b07",
       "version_major": 2,
       "version_minor": 0
      },
      "text/plain": [
       "HBox(children=(IntProgress(value=0, max=12), HTML(value='')))"
      ]
     },
     "metadata": {},
     "output_type": "display_data"
    },
    {
     "name": "stderr",
     "output_type": "stream",
     "text": [
      "C:\\Users\\Mafalda\\Anaconda3\\lib\\site-packages\\ipykernel_launcher.py:78: DeprecationWarning: Call to deprecated `__getitem__` (Method will be removed in 4.0.0, use self.wv.__getitem__() instead).\n",
      "C:\\Users\\Mafalda\\Anaconda3\\lib\\site-packages\\ipykernel_launcher.py:77: DeprecationWarning: elementwise comparison failed; this will raise an error in the future.\n",
      "C:\\Users\\Mafalda\\Anaconda3\\lib\\site-packages\\ipykernel_launcher.py:81: DeprecationWarning: Call to deprecated `__getitem__` (Method will be removed in 4.0.0, use self.wv.__getitem__() instead).\n"
     ]
    },
    {
     "name": "stdout",
     "output_type": "stream",
     "text": [
      "\n"
     ]
    }
   ],
   "source": [
    "test_scores_1 = []\n",
    "test_scores_2 = []\n",
    "test_scores_3 = []\n",
    "test_scores_4 = []\n",
    "test_scores_5 = []\n",
    "\n",
    "for i in tqdm(X_test_w2v_1.index):\n",
    "    text = X_test_w2v_1[i]\n",
    "    n = len(text)\n",
    "    text_vect = []\n",
    "    \n",
    "    for word in text:\n",
    "        if text_vect == []:\n",
    "            text_vect = w2v_test_1[word]\n",
    "            \n",
    "        else:\n",
    "            text_vect = np.add(text_vect,w2v_test_1[word])\n",
    "        \n",
    "    score = list(np.asarray(text_vect) / n)\n",
    "    \n",
    "    test_scores_1.append(score)\n",
    "    \n",
    "for i in tqdm(X_test_w2v_2.index):\n",
    "    text = X_test_w2v_2[i]\n",
    "    n = len(text)\n",
    "    text_vect = []\n",
    "    \n",
    "    for word in text:\n",
    "        if text_vect == []:\n",
    "            text_vect = w2v_test_2[word]\n",
    "            \n",
    "        else:\n",
    "            text_vect = np.add(text_vect,w2v_test_2[word])\n",
    "        \n",
    "    score = list(np.asarray(text_vect) / n)\n",
    "    \n",
    "    test_scores_2.append(score)\n",
    "    \n",
    "for i in tqdm(X_test_w2v_3.index):\n",
    "    text = X_test_w2v_3[i]\n",
    "    n = len(text)\n",
    "    text_vect = []\n",
    "    \n",
    "    for word in text:\n",
    "        if text_vect == []:\n",
    "            text_vect = w2v_test_3[word]\n",
    "            \n",
    "        else:\n",
    "            text_vect = np.add(text_vect,w2v_test_3[word])\n",
    "        \n",
    "    score = list(np.asarray(text_vect) / n)\n",
    "    \n",
    "    test_scores_3.append(score)\n",
    "    \n",
    "for i in tqdm(X_test_w2v_4.index):\n",
    "    text = X_test_w2v_4[i]\n",
    "    n = len(text)\n",
    "    text_vect = []\n",
    "    \n",
    "    for word in text:\n",
    "        if text_vect == []:\n",
    "            text_vect = w2v_test_4[word]\n",
    "            \n",
    "        else:\n",
    "            text_vect = np.add(text_vect,w2v_test_4[word])\n",
    "        \n",
    "    score = list(np.asarray(text_vect) / n)\n",
    "    \n",
    "    test_scores_4.append(score)\n",
    "    \n",
    "for i in tqdm(X_test_w2v_5.index):\n",
    "    text = X_test_w2v_5[i]\n",
    "    n = len(text)\n",
    "    text_vect = []\n",
    "    \n",
    "    for word in text:\n",
    "        if text_vect == []:\n",
    "            text_vect = w2v_test_5[word]\n",
    "            \n",
    "        else:\n",
    "            text_vect = np.add(text_vect,w2v_test_5[word])\n",
    "        \n",
    "    score = list(np.asarray(text_vect) / n)\n",
    "    \n",
    "    test_scores_5.append(score)"
   ]
  },
  {
   "cell_type": "code",
   "execution_count": 85,
   "metadata": {},
   "outputs": [
    {
     "name": "stderr",
     "output_type": "stream",
     "text": [
      "C:\\Users\\Mafalda\\Anaconda3\\lib\\site-packages\\sklearn\\neural_network\\multilayer_perceptron.py:566: ConvergenceWarning: Stochastic Optimizer: Maximum iterations (400) reached and the optimization hasn't converged yet.\n",
      "  % self.max_iter, ConvergenceWarning)\n",
      "C:\\Users\\Mafalda\\Anaconda3\\lib\\site-packages\\sklearn\\neural_network\\multilayer_perceptron.py:566: ConvergenceWarning: Stochastic Optimizer: Maximum iterations (400) reached and the optimization hasn't converged yet.\n",
      "  % self.max_iter, ConvergenceWarning)\n",
      "C:\\Users\\Mafalda\\Anaconda3\\lib\\site-packages\\sklearn\\neural_network\\multilayer_perceptron.py:566: ConvergenceWarning: Stochastic Optimizer: Maximum iterations (400) reached and the optimization hasn't converged yet.\n",
      "  % self.max_iter, ConvergenceWarning)\n",
      "C:\\Users\\Mafalda\\Anaconda3\\lib\\site-packages\\sklearn\\neural_network\\multilayer_perceptron.py:566: ConvergenceWarning: Stochastic Optimizer: Maximum iterations (400) reached and the optimization hasn't converged yet.\n",
      "  % self.max_iter, ConvergenceWarning)\n",
      "C:\\Users\\Mafalda\\Anaconda3\\lib\\site-packages\\sklearn\\neural_network\\multilayer_perceptron.py:566: ConvergenceWarning: Stochastic Optimizer: Maximum iterations (400) reached and the optimization hasn't converged yet.\n",
      "  % self.max_iter, ConvergenceWarning)\n"
     ]
    }
   ],
   "source": [
    "MLP = MLPClassifier(alpha = 0.7, max_iter=400) \n",
    "\n",
    "MLP_1 = MLP.fit(text_scores_1, Y_train_1)\n",
    "MLP_2 = MLP.fit(text_scores_2, Y_train_2)\n",
    "MLP_3 = MLP.fit(text_scores_3, Y_train_3)\n",
    "MLP_4 = MLP.fit(text_scores_4, Y_train_4)\n",
    "MLP_5 = MLP.fit(text_scores_5, Y_train_5)"
   ]
  },
  {
   "cell_type": "code",
   "execution_count": 86,
   "metadata": {},
   "outputs": [],
   "source": [
    "predictions_MLP_1 = MLP.predict(test_scores_1)\n",
    "predictions_MLP_2 = MLP.predict(test_scores_2)\n",
    "predictions_MLP_3 = MLP.predict(test_scores_3)\n",
    "predictions_MLP_4 = MLP.predict(test_scores_4)\n",
    "predictions_MLP_5 = MLP.predict(test_scores_5)"
   ]
  },
  {
   "cell_type": "code",
   "execution_count": 87,
   "metadata": {},
   "outputs": [
    {
     "data": {
      "text/plain": [
       "22.564102564102566"
      ]
     },
     "execution_count": 87,
     "metadata": {},
     "output_type": "execute_result"
    }
   ],
   "source": [
    "accuracy_MLP_1 = accuracy_score(predictions_MLP_1, Y_test_1)*100\n",
    "accuracy_MLP_2 = accuracy_score(predictions_MLP_2, Y_test_2)*100\n",
    "accuracy_MLP_3 = accuracy_score(predictions_MLP_3, Y_test_3)*100\n",
    "accuracy_MLP_4 = accuracy_score(predictions_MLP_4, Y_test_4)*100\n",
    "accuracy_MLP_5 = accuracy_score(predictions_MLP_5, Y_test_5)*100\n",
    "\n",
    "accuracy_MLP = (accuracy_MLP_1 + accuracy_MLP_2 + accuracy_MLP_3 + accuracy_MLP_4 + accuracy_MLP_5)/5\n",
    "accuracy_MLP"
   ]
  }
 ],
 "metadata": {
  "kernelspec": {
   "display_name": "Python 3",
   "language": "python",
   "name": "python3"
  },
  "language_info": {
   "codemirror_mode": {
    "name": "ipython",
    "version": 3
   },
   "file_extension": ".py",
   "mimetype": "text/x-python",
   "name": "python",
   "nbconvert_exporter": "python",
   "pygments_lexer": "ipython3",
   "version": "3.7.3"
  }
 },
 "nbformat": 4,
 "nbformat_minor": 2
}
