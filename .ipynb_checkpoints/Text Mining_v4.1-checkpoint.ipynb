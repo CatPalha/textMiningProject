{
 "cells": [
  {
   "cell_type": "markdown",
   "metadata": {},
   "source": [
    "# Text Mining"
   ]
  },
  {
   "cell_type": "markdown",
   "metadata": {},
   "source": [
    "## Load necessary packages"
   ]
  },
  {
   "cell_type": "code",
   "execution_count": 1,
   "metadata": {},
   "outputs": [],
   "source": [
    "from pathlib import Path\n",
    "import pandas as pd\n",
    "import re\n",
    "import nltk\n",
    "from nltk.corpus import stopwords\n",
    "from nltk.stem.wordnet import WordNetLemmatizer\n",
    "from nltk.stem import SnowballStemmer\n",
    "from bs4 import BeautifulSoup\n",
    "from unidecode import unidecode\n",
    "from tqdm import tqdm_notebook as tqdm\n",
    "from sklearn.model_selection import KFold\n",
    "from sklearn.model_selection import StratifiedKFold\n",
    "import string\n",
    "import collections as ct\n",
    "from sklearn.feature_extraction.text import CountVectorizer\n",
    "from sklearn.feature_extraction.text import TfidfVectorizer\n",
    "import numpy as np\n",
    "import matplotlib.pyplot as plt\n",
    "from nltk.stem import RSLPStemmer\n",
    "from sklearn.naive_bayes import MultinomialNB\n",
    "from sklearn.model_selection import GridSearchCV\n",
    "from sklearn.preprocessing import LabelEncoder\n",
    "from sklearn.metrics import accuracy_score\n",
    "from sklearn.neighbors import KNeighborsClassifier\n",
    "from sklearn.svm import SVC\n",
    "from sklearn.tree import DecisionTreeClassifier\n",
    "from sklearn.linear_model import LogisticRegression\n",
    "import gensim\n",
    "from sklearn.neural_network import MLPClassifier\n",
    "from sklearn.metrics import confusion_matrix\n",
    "from math import ceil\n",
    "from sklearn.metrics import classification_report, confusion_matrix"
   ]
  },
  {
   "cell_type": "code",
   "execution_count": 2,
   "metadata": {},
   "outputs": [],
   "source": [
    "import warnings\n",
    "warnings.filterwarnings(\"ignore\")"
   ]
  },
  {
   "cell_type": "code",
   "execution_count": 3,
   "metadata": {},
   "outputs": [
    {
     "name": "stderr",
     "output_type": "stream",
     "text": [
      "[nltk_data] Downloading package rslp to /Users/ricardorei/nltk_data...\n",
      "[nltk_data]   Package rslp is already up-to-date!\n"
     ]
    },
    {
     "data": {
      "text/plain": [
       "True"
      ]
     },
     "execution_count": 3,
     "metadata": {},
     "output_type": "execute_result"
    }
   ],
   "source": [
    "import nltk\n",
    "nltk.download('rslp')"
   ]
  },
  {
   "cell_type": "markdown",
   "metadata": {},
   "source": [
    "## Load corpora"
   ]
  },
  {
   "cell_type": "code",
   "execution_count": 4,
   "metadata": {},
   "outputs": [],
   "source": [
    "def load_corpus(filename):\n",
    "    corpus = Path(filename).read_text(encoding=\"utf8\")\n",
    "    return corpus"
   ]
  },
  {
   "cell_type": "code",
   "execution_count": 5,
   "metadata": {},
   "outputs": [],
   "source": [
    "def load_corpora(filelist,author):\n",
    "    files = []\n",
    "    for file in filelist:\n",
    "        location = \"Clean Corpora/train/\"+file\n",
    "        corpus = load_corpus(location)\n",
    "        files.append(corpus)\n",
    "    df = pd.DataFrame(files, columns=['Text'])\n",
    "    df['Author'] = pd.Series([author for x in range(len(df.index))], index=df.index)\n",
    "    return df"
   ]
  },
  {
   "cell_type": "code",
   "execution_count": 6,
   "metadata": {},
   "outputs": [],
   "source": [
    "almada = [\n",
    "    'AlmadaNegreiros/pg22615.txt',\n",
    "    'AlmadaNegreiros/pg22730.txt',\n",
    "    'AlmadaNegreiros/pg22801.txt',\n",
    "    'AlmadaNegreiros/pg22802.txt',\n",
    "    'AlmadaNegreiros/pg22969.txt',\n",
    "    'AlmadaNegreiros/pg23133.txt',\n",
    "    'AlmadaNegreiros/pg23620.txt',\n",
    "    'AlmadaNegreiros/pg23879.txt',\n",
    "    'AlmadaNegreiros/pg23961.txt'\n",
    "]\n",
    "\n",
    "corpora_almada = load_corpora(almada, 'Almada Negreiros')"
   ]
  },
  {
   "cell_type": "code",
   "execution_count": 7,
   "metadata": {},
   "outputs": [],
   "source": [
    "camilo = [\n",
    "    'CamiloCasteloBranco/24691-0.txt',\n",
    "    'CamiloCasteloBranco/34756-0.txt',\n",
    "    'CamiloCasteloBranco/pg16425.txt',\n",
    "    'CamiloCasteloBranco/pg17927.txt',\n",
    "    'CamiloCasteloBranco/pg19375.txt',\n",
    "    'CamiloCasteloBranco/pg21406.txt',\n",
    "    'CamiloCasteloBranco/pg23203.txt',\n",
    "    'CamiloCasteloBranco/pg23345.txt',\n",
    "    'CamiloCasteloBranco/pg23346.txt',\n",
    "    'CamiloCasteloBranco/pg24339.txt',\n",
    "    'CamiloCasteloBranco/pg25844.txt',\n",
    "    'CamiloCasteloBranco/pg26017.txt',\n",
    "    'CamiloCasteloBranco/pg26103.txt',\n",
    "    'CamiloCasteloBranco/pg26110.txt',\n",
    "    'CamiloCasteloBranco/pg26988.txt',\n",
    "    'CamiloCasteloBranco/pg27364.txt',\n",
    "    'CamiloCasteloBranco/pg27541.txt',\n",
    "    'CamiloCasteloBranco/pg28310.txt',\n",
    "    'CamiloCasteloBranco/pg31694.txt',\n",
    "    'CamiloCasteloBranco/pg33788.txt',\n",
    "]\n",
    "\n",
    "corpora_camilo = load_corpora(camilo, 'Camilo Castelo Branco')"
   ]
  },
  {
   "cell_type": "code",
   "execution_count": 8,
   "metadata": {},
   "outputs": [],
   "source": [
    "eca = [\n",
    "    'EcaDeQueiros/pg18220.txt',\n",
    "    'EcaDeQueiros/pg25641.txt',\n",
    "    'EcaDeQueiros/pg27637.txt',\n",
    "    'EcaDeQueiros/pg31347.txt',\n",
    "    'EcaDeQueiros/pg40409.txt'\n",
    "]\n",
    "\n",
    "corpora_eca = load_corpora(eca, 'Eca de Queiros')"
   ]
  },
  {
   "cell_type": "code",
   "execution_count": 9,
   "metadata": {},
   "outputs": [],
   "source": [
    "rodrigues_santos = [\n",
    "    'JoseRodriguesSantos/A Filha Do Capitao - Jose Rodrigues dos Santos.txt',\n",
    "    'JoseRodriguesSantos/A Formula De Deus - Jose Rodrigues dos Santos.txt',\n",
    "    'JoseRodriguesSantos/A Mao do Diabo - Jose Rodrigues dos Santos.txt',\n",
    "    'JoseRodriguesSantos/A Vida Num Sopro - Jose Rodrigues dos Santos.txt',\n",
    "    'JoseRodriguesSantos/Furia Divina - Jose Rodrigues dos Santos.txt',\n",
    "    'JoseRodriguesSantos/O Anjo Branco - Jose Rodrigues dos Santos.txt',\n",
    "    'JoseRodriguesSantos/O Setimo Selo - Jose Rodrigues dos Santos.txt',\n",
    "    'JoseRodriguesSantos/O ultimo Segredo - Jose Rodrigues dos Santos.txt'\n",
    "]\n",
    "\n",
    "corpora_rodrigues_santos = load_corpora(rodrigues_santos, 'Jose Rodrigues dos Santos')"
   ]
  },
  {
   "cell_type": "code",
   "execution_count": 10,
   "metadata": {},
   "outputs": [],
   "source": [
    "saramago = [\n",
    "    'JoseSaramago/A Caverna - Jose Saramago.txt',\n",
    "    'JoseSaramago/As Intermitencias da Morte - Jose Saramago.txt',\n",
    "    'JoseSaramago/Caim - Jose Saramago.txt',\n",
    "    'JoseSaramago/Claraboia - Jose Saramago.txt',\n",
    "    'JoseSaramago/Ensaio Sobre a Cegueira - Jose Saramago.txt',\n",
    "    'JoseSaramago/Historia Do Cerco De Lisboa - Jose Saramago.txt',\n",
    "    'JoseSaramago/Memorial Do Convento - Jose Saramago.txt',\n",
    "    'JoseSaramago/O Ano Da Morte De Ricardo Reis - Jose Saramago.txt',\n",
    "    'JoseSaramago/O Conto Da Ilha Desconhecida - Jose Saramago.txt',\n",
    "    'JoseSaramago/O Homem Duplicado - Jose Saramago.txt',\n",
    "    'JoseSaramago/Terra Do Pecado - Jose Saramago.txt',\n",
    "    'JoseSaramago/Viagem Do Elefante - Jose Saramago.txt'\n",
    "]\n",
    "\n",
    "corpora_saramago = load_corpora(saramago, 'Jose Saramago')"
   ]
  },
  {
   "cell_type": "code",
   "execution_count": 11,
   "metadata": {},
   "outputs": [],
   "source": [
    "luisa = [\n",
    "    'LuisaMarquesSilva/ABelaHistoria.txt',\n",
    "    'LuisaMarquesSilva/acabouSe.txt',\n",
    "    'LuisaMarquesSilva/Botão.txt',\n",
    "    'LuisaMarquesSilva/controlz.txt',\n",
    "    'LuisaMarquesSilva/emedo.txt',\n",
    "    'LuisaMarquesSilva/Lisboa2050.txt',\n",
    "    'LuisaMarquesSilva/passeioInferno.txt',\n",
    "    'LuisaMarquesSilva/rapsodiasemdo.txt',\n",
    "    'LuisaMarquesSilva/UltimaHistoria.txt'\n",
    "]\n",
    "\n",
    "corpora_luisa = load_corpora(luisa, 'Luisa Marques Silva')"
   ]
  },
  {
   "cell_type": "code",
   "execution_count": 12,
   "metadata": {
    "scrolled": true
   },
   "outputs": [
    {
     "data": {
      "text/html": [
       "<div>\n",
       "<style scoped>\n",
       "    .dataframe tbody tr th:only-of-type {\n",
       "        vertical-align: middle;\n",
       "    }\n",
       "\n",
       "    .dataframe tbody tr th {\n",
       "        vertical-align: top;\n",
       "    }\n",
       "\n",
       "    .dataframe thead th {\n",
       "        text-align: right;\n",
       "    }\n",
       "</style>\n",
       "<table border=\"1\" class=\"dataframe\">\n",
       "  <thead>\n",
       "    <tr style=\"text-align: right;\">\n",
       "      <th></th>\n",
       "      <th>Text</th>\n",
       "      <th>Author</th>\n",
       "    </tr>\n",
       "  </thead>\n",
       "  <tbody>\n",
       "    <tr>\n",
       "      <th>0</th>\n",
       "      <td>﻿\\nSatanizo-Me Tara na Vara de Moysés!\\nO cast...</td>\n",
       "      <td>Almada Negreiros</td>\n",
       "    </tr>\n",
       "    <tr>\n",
       "      <th>1</th>\n",
       "      <td>﻿Pierrot n'aquella noite depois de muito pensa...</td>\n",
       "      <td>Almada Negreiros</td>\n",
       "    </tr>\n",
       "    <tr>\n",
       "      <th>2</th>\n",
       "      <td>﻿Entrei numa livraria. Puz-me a contar os livr...</td>\n",
       "      <td>Almada Negreiros</td>\n",
       "    </tr>\n",
       "    <tr>\n",
       "      <th>3</th>\n",
       "      <td>﻿espasmos de praiamar transbordam invasão\\na a...</td>\n",
       "      <td>Almada Negreiros</td>\n",
       "    </tr>\n",
       "    <tr>\n",
       "      <th>4</th>\n",
       "      <td>﻿Em Portugal existe uma unica opinião sobre Ar...</td>\n",
       "      <td>Almada Negreiros</td>\n",
       "    </tr>\n",
       "  </tbody>\n",
       "</table>\n",
       "</div>"
      ],
      "text/plain": [
       "                                                Text            Author\n",
       "0  ﻿\\nSatanizo-Me Tara na Vara de Moysés!\\nO cast...  Almada Negreiros\n",
       "1  ﻿Pierrot n'aquella noite depois de muito pensa...  Almada Negreiros\n",
       "2  ﻿Entrei numa livraria. Puz-me a contar os livr...  Almada Negreiros\n",
       "3  ﻿espasmos de praiamar transbordam invasão\\na a...  Almada Negreiros\n",
       "4  ﻿Em Portugal existe uma unica opinião sobre Ar...  Almada Negreiros"
      ]
     },
     "execution_count": 12,
     "metadata": {},
     "output_type": "execute_result"
    }
   ],
   "source": [
    "corpora = pd.concat([corpora_almada, corpora_camilo, corpora_eca, corpora_rodrigues_santos, corpora_saramago, corpora_luisa]).reset_index(drop = True)\n",
    "corpora.head()"
   ]
  },
  {
   "cell_type": "code",
   "execution_count": 13,
   "metadata": {},
   "outputs": [
    {
     "data": {
      "text/plain": [
       "\"\\ufeff\\nSatanizo-Me Tara na Vara de Moysés!\\nO castigo das serpentes é-Me riso nos dentes,\\nInferno a arder o Meu cantar!\\nSou Vermelho-Niagára dos sexos escancarados nos chicotes dos cossacos!\\nSou Pan-Demonio-Trifauce enfermiço de Gula!\\nSou Genio de Zarathustra em Taças de Maré-Alta!\\nSou Raiva de Medusa e Damnação do Sol!\\n\\nLadram-Me a Vida por vivê-La\\ne só me deram Uma!\\nHão-de lati-La por sina!\\nagora quero vivê-La!\\nHei-de Poeta cantá-La em Gala sonora e dina!\\nHei-de Gloria desannuviá-La!\\nHei-de Guindaste içá-La Esfinge\\nda Valla commum onde Me querem rir!\\nHei-de trovão-clarim levá-La Luz\\nás Almas-Noites do Jardim das Lagrymas!\\nHei-de bombo rufá-La pompa de Pompeia\\nnos Funeraes de Mim!\\nHei-de Alfange-Mahoma\\ncantar Sodoma na Voz de Nero!\\nHei-de ser Fuas sem Virgem do Milagre,\\nhei-de ser galope opiado e doido, opiado e doido...,\\nhei-de ser Attila, hei-de Nero, hei-de Eu,\\ncantar Attila, cantar Nero, cantar Eu!\\n\\nSou throno de Abandono, mal-fadado,\\nnas iras dos barbaros, meus Avós.\\nOiço ainda da Berlinda d'Eu ser sina\\ngemidos vencidos de fracos,\\nruidos famintos de saque,\\nais distantes de Maldição eterna em Voz antiga!\\nSou ruinas razas, innocentes\\ncomo as azas de rapinas afogadas.\\nSou reliquias de martyres impotentes\\nsequestradas em antros do Vicio e da Virtude.\\nSou clausura de Sancta professa,\\nMãe exilada do Mal,\\nHostia d'Angustia no Claustro,\\nfreira demente e donzella,\\nvirtude sosinha da cella\\nem penitencia do sexo!\\nSou rasto espesinhado d'Invasores\\nque cruzaram o meu sangue, desvirgando-o.\\nSou a Raiva atavica dos Tavoras,\\no sangue bastardo de Nero,\\no odio do ultimo instante\\ndo condemnado innocente!\\nA podenga do Limbo mordeu raivosa\\nas pernas nuas da minh'Alma sem baptismo...\\nAh! que eu sinto, claramente, que nasci\\nde uma praga de ciumes!\\nEu sou as sete pragas sobre o Nylo\\ne a Alma dos Borgias a penar!\\n\\nE eu vivo aqui desterrado e Job\\nda Vida-gemea d'Eu ser feliz!\\nE eu vivo aqui sepultado vivo\\nna Verdade de nunca ser Eu!\\nSou apenas o Mendigo de Mim-Proprio,\\norphão da Virgem do meu sentir.\\n\\n(Pezam kilos no Meu querer\\nas salas-de-espera de Mim.\\nTu chegas sempre primeiro...\\nEu volto sempre amanhã...\\nAgora vou esperar que morras.\\nMas tu és tantos que não morres...\\nVou deixar d'esp'rar que morras\\n--Vou deixar d'esp'rar por Mim?!...)\\n\\nAh! que eu sinto, claramente, que nasci\\nde uma praga de ciumes!\\nEu sou as sete pragas sobre o Nylo\\ne a Alma dos Borgias a penar!\\n\\nHei-de, entretanto, gastar a garganta\\na insultar-te, ó bêsta!\\nHei-de morder-te a ponta do rabo\\ne pôr-te as mãos no chão, no seu logar!\\nAhi! Saltímbanco-bando de bandoleiros nefastos!\\nQuadrilheiros contrabandistas da Imbecilidade!\\nAhi! Espelho-aleijão do Sentimento,\\nmacaco-intruja do Alma-realejo!\\nAhi! maquerelle da Ignorancia!\\nSilenceur do Genio-Tempestade!\\nSpleen da Indigestão!\\nAhi! meia-tijella, travão das Ascensões!\\nAhi! povo judeu dos Christos mais que Christo!\\nÓ burguezia! ó ideal com i pequeno!\\nÓ ideal rocócó dos Mendes e Possidonios!\\nÓ cofre d'indigentes\\ncuja personalidade é a moral de todos!\\nÓ geral da mediocridade!\\nÓ claque ignobil do vulgar, protagonista do normal!\\nÓ catitismo das lindezas d'estalo!\\nAhi! lucro do facil,\\ncartilha-cabotina dos limitados, dos restringidos!\\nAhi! dique impecilho do Canal da Luz!\\nÓ coito d'impotentes\\na corar ao sol no riacho da Estupidez!\\nAhi! Zero-barometro da Convicção!\\nbitola dos chega, dos basta, dos não quero mais!\\nAhi! plebeismo aristocratisado no preço do panamá!\\nerudição de calça de xadrez!\\ncompetencia de relogio d'oiro\\ne corrente com suores do Brazil\\ne berloques de cornos de buffalo!\\n\\nZutt! bruto-parvo-nada\\nque Me roubaste tudo:\\n'té Me roubaste a Vida\\ne não Me deixaste nada!\\nnem Me deixaste a Morte!\\nZutt! poeira-pingo-microbio\\nque gemes pequenissimo gemidos gigantes,\\ngravido de uma dôr profeta colossal!\\nZutt! elefante-berloque parasita do não presta!\\nZutt! bugiganga-celluloide-bagatella!\\nZutt! bêsta!\\nZutt! bácoro!!\\nZutt! merda!!!\\n\\nE tu, tambem, vieille-roche, castello medieval\\nfechado por dentro das tuas ruinas!\\nFiel epitaphio das cronicas aduladoras!\\nE tu tambem, ó sangue azul antigo\\nque já nasceste co'a biographia feita!\\nÓ pagem loiro das cortezias-avozinhas!\\nÓ pergaminho amarello-mumia\\ndas grandes galas brancas das paradas\\ne das victorias dos torneios-loterias\\ncom donzellas-glorias!\\nÓ resto de sceptros, fumo de cinzas!\\nÓ lavas frias do vulcão pyrotechnico\\ncom chuvas d'oiros e cabeleiras prateadas!\\nÓ estilhaços heraldicos de vitraes\\ndespegados lentamente sobre o tanque do silencio!\\nÓ cedro secular\\ndebruçado no muro da Quinta sobre a estrada\\na estorvar o caminho da Mala-posta!\\n\\nE vós tambem, ó Gentes de Pensamento,\\nó Personalidades, ó Homens!\\nArtistas de todas as partes, cristãos sem patria,\\nChristos vencidos por serem só Um!\\nE vós, ó Genios da Expressão,\\ne vós tambem, ó Genios sem Voz!\\nÓ alem-infinito sem regressos, sem nostalgias,\\nEspectadores gratuitos do Drama-Imenso de Vós-Mesmos!\\nProphetas cladestinos\\ndo Naufragio de Vossos Destinos!\\n\\nE vos tambem, theoricos-irmãos-gemeos\\ndo meu sentir internacional!\\nÓ escravos da Independencia!\\n\\nE tu tambem, Belleza Canalha\\nco'a sensibilidade manchada de vinho!\\nO lyrio bravo da Floresta-Ardida\\ná meia-porta da tua Miseria!\\nÓ Fado da Má-Sina\\ncom illustrações a giz\\ne lettra da Maldição!\\nÓ féra vadia das viellas açaimada na Lei!\\nO chale e lenço a resguardar a tysica!\\nÓ franzinas do fanico\\nco'a syphilis ao collo por essas esquinas!\\nÓ nu d'aluguer\\nna meia-luz dos cortinados corridos!\\nÓ oratorio da meretriz a mendigar gorgetas\\npr'á sua Senhora da Boa-Sorte!\\nÓ gentes tatuadas do calão!\\nÓ carro vendado da Penitenciaria!\\n\\nE tu tambem, ó Humilde, ó Símples!\\nenjaulados na vossa Ignorancia!\\nÓ pé descalço a callejar o cerebro!\\nÓ musculos da saude de ter fechada a casa de pensar!\\nÓ alguidar de assôrda fria\\nna ceia-fadiga da dôr-candeia!\\nÓ esteiras duras pr'a dormir e fazer filhos!\\nÓ carretas da Voz do Operario\\ncom gente de preto a pé e philarmonica atraz!\\nÓ campas razas engrinaldadas,\\ncom chapões de ferro e balões de vidro!\\nÓ bota rôta de mendingo abandonada no pó do caminho!\\nÓ metamorphose-selvagem das feras da cidade!\\nÓ geração de bons ladrões crucificados na Estupidez!\\n\\nÓ sanfona-saloia do fandango dos campinos!\\nÓ pampilho das Lezirias innundadas de Cidade!\\n\\nE vós varinas que sabeis a sal\\ne que trazeis o Mar no vosso avental!\\n\\nE vós tambem, ó moças da Provincia\\nque trazeis o verde dos campos\\nno vermelho das faces pintadas.\\n\\nE tu tambem ó mau gosto\\nco'a saia de baixo a vêr-se\\ne a falta d'educação!\\nÓ oiro de pechisbegue (esperteza dos ciganos)\\na luzir no vermelho verdadeiro da blusa de chita!\\nÓ tedio do domingo com botas novas\\ne musica n'Avenida!\\nÓ sancta Virgindade\\na garantir a falta de lindeza!\\nÓ bilhete postal illustrado\\ncom apparições de beijos ao lado!\\n\\nÓ Arsenal-fadista de ganga azul e côco socialista!\\nÓ sahidas pôr-do-sol das Fabricas d'Agonia!\\n\\nE vós tambem, nojentos da Politica\\nque exploraes eleitos o Patriotismo!\\nMaquereaux da Patria que vos pariu...\\n\\nE vós tambem, pindericos jornalistas\\nque fazeis cocegas e outras coisas\\ná opinião publica!\\n\\nE tu tambem, roberto fardado:\\nFutrica-te espantalho engalonado,\\napeia-te das patas de barro,\\nlarga a espada de matar\\ne põe o penacho no rabo!\\nRálha-te mercenario, asceta da Crueldade!\\nEspuma-te no chumbo da tua Valentia!\\nAgoniza-te Rilhafolles armado!\\nDesuniversidadiza-te da doutorança da chacina,\\nda sciencia da matança!\\nGroom fardado da Nêgra,\\npária da Velha!\\nEncaveira-te nas espóras luzidias de sêres fera!\\nDespe-te da farda,\\ndesenfia-te da Impostura, e põe te nu, ao léu\\nque ficas desempregado!\\nAcouraça-te de Senso,\\nvomita de vez o morticinio,\\nenche o pote de raciocinio,\\naprende a lêr corações,\\nque ha muito mais que fazer\\ndo que fazer revoluções!\\nRebusca no sêres selvagem,\\nno teu cofre do exterminio\\no teu calibre maximo!\\nacaba de vez com este planeta,\\nfaze-te Deus do Mundo em dar-lhe fim!\\n(Ha tanta coisa que fazer, Meu Deus!\\ne esta gente distrahida em guerras!)\\n\\nOlha os que não são nada por te cantarem a ti!\\ntantos mundos!\\ntantos genios\\nque não fizeram nada,\\nque deixaram este mundo tal qual!\\nOlha os grandes o que são, estragados por ti!\\nE de que serve o livro e a sciencia\\nse a experiencia da vida\\né que faz comprehender a sciencia e o livro?\\nAntes não ter sciencias!\\nAntes não ter livros!\\n\\nLarga a cidade masturbadora, febril,\\nrabo decepado de lagartixa,\\nlabyrintho cego de toupeiras,\\nraça de ignobeis myopes, tysicos, tarados,\\nanemicos, cancerosos e arseniados!\\nLarga a cidade!\\nLarga a infamia das ruas e dos boulevards,\\nesse vae-vem cynico de bandidos mudos,\\nesse mexer esponjoso de carne viva,\\nesse sêr-lêsma nojento e macabro,\\nessess zig-zag de chicote auto-fustigante,\\nesse ar expirado e espiritista,\\nesse Inferno de Dante por cantar,\\nesse ruido de sol prostituido, impotente e velho,\\nesse silencio pneumonico\\nde lua enxovalhada sem vir a lavadeira!\\n\\nLarga a cidade e foge!\\nLarga a cidade!\\nMas larga tudo primeiro, ouviste?\\nLarga tudo!\\n--Os outros, os sentimentos, os instinctos,\\ne larga-te a ti tambem, a ti principalmente!\\nLarga tudo e vae para o campo\\ne larga o campo tambem!\\n--Põe-te a nascer outra vez!\\nNão queiras ter pae nem mãe,\\nnão queiras ter outros, nem Intelligencia!\\nE já houve Intelligencia a mais: pode parar por aqui!\\nDepois põe-te a viver sem cabeça,\\nvê só o que os olhos virem,\\ncheira os cheiros da Terra,\\ncome o que a Terra dér,\\nbebe dos rios e dos mares,\\n--põe-te na Natureza!\\n\\nMas tu nem vives, nem deixas viver os mais,\\nCrápula do Egoismo, cartola d'espanta-pardaes!\\nMas has-de pagar-Me a febre-rodopio\\nnovêllo emmaranhado da minha dôr!\\nMas has-de pagar-Me a febre-calafrio\\nabysmo descida de Eu não querer descer!\\nHas-de pagar-Me o Absyntho e a Morfina!\\nHei-de ser cigana da tua sina!\\nHei-de ser a bruxa do teu remorso!\\nHei-de desforra-dôr cantar-te a buena-dicha\\nem aguas-fortes de Goya\\ne no cavallo de Troya\\ne nos poemas de Poë!\\nHei-de feiticeira a gallope na vassoira\\nlargar-te os meus lagartos e a Peçônha!\\nHei-de vara magica encantar-te arte de ganir!\\nHei-de reconstruir em ti a escravatura nêgra!\\nHei-de despir-te a pelle a pouco e pouco\\ne depois na carne viva deitar fel,\\ne depois na carne viva semear vidros,\\nsemear gúmes,\\nlúmes,\\ne tiros!\\nHei-de gosar em ti as póses diabolicas\\ndos theatraes venenos tragicos da persa Zoroastro!\\nHei-de rasgar-te as vrilhas com forquilhas e croques,\\ne desfraldar-te nas canellas mirradas\\no nêgro pendão dos piratas!\\nHei-de corvo marinho beber-te os olhos vêsgos!\\nHei-de boia do Destino ser em braza\\ne tu naufrago das galés sem horizontes verdes!\\n\\nAh que eu sinto claramente que nasci\\nde uma praga de ciumes!\\nEu sou as sete pragas sobre o Nylo\\ne a alma dos Borgias a penar!\\n\\n\\n\""
      ]
     },
     "execution_count": 13,
     "metadata": {},
     "output_type": "execute_result"
    }
   ],
   "source": [
    "corpora[\"Text\"][0]"
   ]
  },
  {
   "cell_type": "markdown",
   "metadata": {},
   "source": [
    "## Preprocessing"
   ]
  },
  {
   "cell_type": "code",
   "execution_count": 14,
   "metadata": {},
   "outputs": [],
   "source": [
    "def preprocessing(dataframe,accents=False,punctuation=False,lowercase=False,tags=False,stemming=False,stemmer='snowball'):\n",
    "    processed_corpus = []\n",
    "    \n",
    "    stop_words_pt = set(stopwords.words(\"portuguese\", \"english\"))\n",
    "    \n",
    "    for i in tqdm(range(len(dataframe))):\n",
    "        text = dataframe['Text'][i]\n",
    "        \n",
    "        #Remove accents\n",
    "        if accents:\n",
    "            text = unidecode(text)\n",
    "        \n",
    "        #remove punctuation\n",
    "        if punctuation:\n",
    "            text = re.sub('[^a-zA-Z]', ' ', text)\n",
    "        \n",
    "        #Convert to lowercase\n",
    "        if lowercase:\n",
    "            text = text.lower()\n",
    "\n",
    "        #remove tags\n",
    "        if tags:\n",
    "            text = BeautifulSoup(text).get_text()\n",
    "        \n",
    "        #Convert to list from string\n",
    "        text = text.split()\n",
    "\n",
    "        #Stemming\n",
    "        if stemming:\n",
    "            if stemmer == 'snowball':\n",
    "                stemmer_pt = SnowballStemmer('portuguese')\n",
    "            elif stemmer == 'rslp':\n",
    "                stemmer_pt = RSLPStemmer()\n",
    "            \n",
    "            text = [stemmer_pt.stem(word) for word in text if not word in stop_words_pt]\n",
    "        \n",
    "        text = \" \".join(text)\n",
    "\n",
    "        processed_corpus.append(text)\n",
    "    return processed_corpus"
   ]
  },
  {
   "cell_type": "code",
   "execution_count": 15,
   "metadata": {},
   "outputs": [
    {
     "data": {
      "application/vnd.jupyter.widget-view+json": {
       "model_id": "e3e83a30ff61451d824864a82f940268",
       "version_major": 2,
       "version_minor": 0
      },
      "text/plain": [
       "HBox(children=(FloatProgress(value=0.0, max=63.0), HTML(value='')))"
      ]
     },
     "metadata": {},
     "output_type": "display_data"
    },
    {
     "name": "stdout",
     "output_type": "stream",
     "text": [
      "\n"
     ]
    }
   ],
   "source": [
    "cleaned_corpora = preprocessing(corpora)"
   ]
  },
  {
   "cell_type": "code",
   "execution_count": 16,
   "metadata": {},
   "outputs": [],
   "source": [
    "corpora['Clean Text'] = pd.Series(cleaned_corpora, index = corpora.index)"
   ]
  },
  {
   "cell_type": "code",
   "execution_count": 17,
   "metadata": {},
   "outputs": [
    {
     "data": {
      "application/vnd.jupyter.widget-view+json": {
       "model_id": "6e58dfe4d4034d699f697c483a70585c",
       "version_major": 2,
       "version_minor": 0
      },
      "text/plain": [
       "HBox(children=(FloatProgress(value=0.0, max=63.0), HTML(value='')))"
      ]
     },
     "metadata": {},
     "output_type": "display_data"
    },
    {
     "name": "stdout",
     "output_type": "stream",
     "text": [
      "\n"
     ]
    }
   ],
   "source": [
    "corpora['Word List'] = corpora['Clean Text']\n",
    "\n",
    "for i in tqdm(range(len(corpora))):\n",
    "    mystr = corpora['Clean Text'][i]\n",
    "    wordList = mystr.split()\n",
    "    \n",
    "    corpora['Word List'][i] = wordList"
   ]
  },
  {
   "cell_type": "code",
   "execution_count": 18,
   "metadata": {},
   "outputs": [
    {
     "data": {
      "text/html": [
       "<div>\n",
       "<style scoped>\n",
       "    .dataframe tbody tr th:only-of-type {\n",
       "        vertical-align: middle;\n",
       "    }\n",
       "\n",
       "    .dataframe tbody tr th {\n",
       "        vertical-align: top;\n",
       "    }\n",
       "\n",
       "    .dataframe thead th {\n",
       "        text-align: right;\n",
       "    }\n",
       "</style>\n",
       "<table border=\"1\" class=\"dataframe\">\n",
       "  <thead>\n",
       "    <tr style=\"text-align: right;\">\n",
       "      <th></th>\n",
       "      <th>Text</th>\n",
       "      <th>Author</th>\n",
       "      <th>Clean Text</th>\n",
       "      <th>Word List</th>\n",
       "    </tr>\n",
       "  </thead>\n",
       "  <tbody>\n",
       "    <tr>\n",
       "      <th>0</th>\n",
       "      <td>﻿\\nSatanizo-Me Tara na Vara de Moysés!\\nO cast...</td>\n",
       "      <td>Almada Negreiros</td>\n",
       "      <td>﻿ Satanizo-Me Tara na Vara de Moysés! O castig...</td>\n",
       "      <td>[﻿, Satanizo-Me, Tara, na, Vara, de, Moysés!, ...</td>\n",
       "    </tr>\n",
       "    <tr>\n",
       "      <th>1</th>\n",
       "      <td>﻿Pierrot n'aquella noite depois de muito pensa...</td>\n",
       "      <td>Almada Negreiros</td>\n",
       "      <td>﻿Pierrot n'aquella noite depois de muito pensa...</td>\n",
       "      <td>[﻿Pierrot, n'aquella, noite, depois, de, muito...</td>\n",
       "    </tr>\n",
       "    <tr>\n",
       "      <th>2</th>\n",
       "      <td>﻿Entrei numa livraria. Puz-me a contar os livr...</td>\n",
       "      <td>Almada Negreiros</td>\n",
       "      <td>﻿Entrei numa livraria. Puz-me a contar os livr...</td>\n",
       "      <td>[﻿Entrei, numa, livraria., Puz-me, a, contar, ...</td>\n",
       "    </tr>\n",
       "    <tr>\n",
       "      <th>3</th>\n",
       "      <td>﻿espasmos de praiamar transbordam invasão\\na a...</td>\n",
       "      <td>Almada Negreiros</td>\n",
       "      <td>﻿espasmos de praiamar transbordam invasão a ar...</td>\n",
       "      <td>[﻿espasmos, de, praiamar, transbordam, invasão...</td>\n",
       "    </tr>\n",
       "    <tr>\n",
       "      <th>4</th>\n",
       "      <td>﻿Em Portugal existe uma unica opinião sobre Ar...</td>\n",
       "      <td>Almada Negreiros</td>\n",
       "      <td>﻿Em Portugal existe uma unica opinião sobre Ar...</td>\n",
       "      <td>[﻿Em, Portugal, existe, uma, unica, opinião, s...</td>\n",
       "    </tr>\n",
       "    <tr>\n",
       "      <th>...</th>\n",
       "      <td>...</td>\n",
       "      <td>...</td>\n",
       "      <td>...</td>\n",
       "      <td>...</td>\n",
       "    </tr>\n",
       "    <tr>\n",
       "      <th>58</th>\n",
       "      <td>As mensagens que se seguem foram enviadas da c...</td>\n",
       "      <td>Luisa Marques Silva</td>\n",
       "      <td>As mensagens que se seguem foram enviadas da c...</td>\n",
       "      <td>[As, mensagens, que, se, seguem, foram, enviad...</td>\n",
       "    </tr>\n",
       "    <tr>\n",
       "      <th>59</th>\n",
       "      <td>LISBOA 2050\\nLisboa, ano de 2050. Um Agosto tã...</td>\n",
       "      <td>Luisa Marques Silva</td>\n",
       "      <td>LISBOA 2050 Lisboa, ano de 2050. Um Agosto tão...</td>\n",
       "      <td>[LISBOA, 2050, Lisboa,, ano, de, 2050., Um, Ag...</td>\n",
       "    </tr>\n",
       "    <tr>\n",
       "      <th>60</th>\n",
       "      <td>Imaginem uma planície cujos limites se perdem....</td>\n",
       "      <td>Luisa Marques Silva</td>\n",
       "      <td>Imaginem uma planície cujos limites se perdem....</td>\n",
       "      <td>[Imaginem, uma, planície, cujos, limites, se, ...</td>\n",
       "    </tr>\n",
       "    <tr>\n",
       "      <th>61</th>\n",
       "      <td>Gravação número 1 de Mia Torres:\\nDoravante, a...</td>\n",
       "      <td>Luisa Marques Silva</td>\n",
       "      <td>Gravação número 1 de Mia Torres: Doravante, as...</td>\n",
       "      <td>[Gravação, número, 1, de, Mia, Torres:, Dorava...</td>\n",
       "    </tr>\n",
       "    <tr>\n",
       "      <th>62</th>\n",
       "      <td>A ÚLTIMA HISTÓRIA\\nO PEQUENO ALMOÇO\\nNo dia em...</td>\n",
       "      <td>Luisa Marques Silva</td>\n",
       "      <td>A ÚLTIMA HISTÓRIA O PEQUENO ALMOÇO No dia em q...</td>\n",
       "      <td>[A, ÚLTIMA, HISTÓRIA, O, PEQUENO, ALMOÇO, No, ...</td>\n",
       "    </tr>\n",
       "  </tbody>\n",
       "</table>\n",
       "<p>63 rows × 4 columns</p>\n",
       "</div>"
      ],
      "text/plain": [
       "                                                 Text               Author  \\\n",
       "0   ﻿\\nSatanizo-Me Tara na Vara de Moysés!\\nO cast...     Almada Negreiros   \n",
       "1   ﻿Pierrot n'aquella noite depois de muito pensa...     Almada Negreiros   \n",
       "2   ﻿Entrei numa livraria. Puz-me a contar os livr...     Almada Negreiros   \n",
       "3   ﻿espasmos de praiamar transbordam invasão\\na a...     Almada Negreiros   \n",
       "4   ﻿Em Portugal existe uma unica opinião sobre Ar...     Almada Negreiros   \n",
       "..                                                ...                  ...   \n",
       "58  As mensagens que se seguem foram enviadas da c...  Luisa Marques Silva   \n",
       "59  LISBOA 2050\\nLisboa, ano de 2050. Um Agosto tã...  Luisa Marques Silva   \n",
       "60  Imaginem uma planície cujos limites se perdem....  Luisa Marques Silva   \n",
       "61  Gravação número 1 de Mia Torres:\\nDoravante, a...  Luisa Marques Silva   \n",
       "62  A ÚLTIMA HISTÓRIA\\nO PEQUENO ALMOÇO\\nNo dia em...  Luisa Marques Silva   \n",
       "\n",
       "                                           Clean Text  \\\n",
       "0   ﻿ Satanizo-Me Tara na Vara de Moysés! O castig...   \n",
       "1   ﻿Pierrot n'aquella noite depois de muito pensa...   \n",
       "2   ﻿Entrei numa livraria. Puz-me a contar os livr...   \n",
       "3   ﻿espasmos de praiamar transbordam invasão a ar...   \n",
       "4   ﻿Em Portugal existe uma unica opinião sobre Ar...   \n",
       "..                                                ...   \n",
       "58  As mensagens que se seguem foram enviadas da c...   \n",
       "59  LISBOA 2050 Lisboa, ano de 2050. Um Agosto tão...   \n",
       "60  Imaginem uma planície cujos limites se perdem....   \n",
       "61  Gravação número 1 de Mia Torres: Doravante, as...   \n",
       "62  A ÚLTIMA HISTÓRIA O PEQUENO ALMOÇO No dia em q...   \n",
       "\n",
       "                                            Word List  \n",
       "0   [﻿, Satanizo-Me, Tara, na, Vara, de, Moysés!, ...  \n",
       "1   [﻿Pierrot, n'aquella, noite, depois, de, muito...  \n",
       "2   [﻿Entrei, numa, livraria., Puz-me, a, contar, ...  \n",
       "3   [﻿espasmos, de, praiamar, transbordam, invasão...  \n",
       "4   [﻿Em, Portugal, existe, uma, unica, opinião, s...  \n",
       "..                                                ...  \n",
       "58  [As, mensagens, que, se, seguem, foram, enviad...  \n",
       "59  [LISBOA, 2050, Lisboa,, ano, de, 2050., Um, Ag...  \n",
       "60  [Imaginem, uma, planície, cujos, limites, se, ...  \n",
       "61  [Gravação, número, 1, de, Mia, Torres:, Dorava...  \n",
       "62  [A, ÚLTIMA, HISTÓRIA, O, PEQUENO, ALMOÇO, No, ...  \n",
       "\n",
       "[63 rows x 4 columns]"
      ]
     },
     "execution_count": 18,
     "metadata": {},
     "output_type": "execute_result"
    }
   ],
   "source": [
    "corpora"
   ]
  },
  {
   "cell_type": "code",
   "execution_count": null,
   "metadata": {},
   "outputs": [],
   "source": []
  },
  {
   "cell_type": "code",
   "execution_count": 23,
   "metadata": {},
   "outputs": [
    {
     "data": {
      "application/vnd.jupyter.widget-view+json": {
       "model_id": "42b7c2a390f944dca7124a940f5762fb",
       "version_major": 2,
       "version_minor": 0
      },
      "text/plain": [
       "HBox(children=(FloatProgress(value=0.0, max=63.0), HTML(value='')))"
      ]
     },
     "metadata": {},
     "output_type": "display_data"
    },
    {
     "name": "stdout",
     "output_type": "stream",
     "text": [
      "\n"
     ]
    },
    {
     "data": {
      "text/html": [
       "<div>\n",
       "<style scoped>\n",
       "    .dataframe tbody tr th:only-of-type {\n",
       "        vertical-align: middle;\n",
       "    }\n",
       "\n",
       "    .dataframe tbody tr th {\n",
       "        vertical-align: top;\n",
       "    }\n",
       "\n",
       "    .dataframe thead th {\n",
       "        text-align: right;\n",
       "    }\n",
       "</style>\n",
       "<table border=\"1\" class=\"dataframe\">\n",
       "  <thead>\n",
       "    <tr style=\"text-align: right;\">\n",
       "      <th></th>\n",
       "      <th>label</th>\n",
       "      <th>500 Word List</th>\n",
       "      <th>500 Clean Text</th>\n",
       "    </tr>\n",
       "  </thead>\n",
       "  <tbody>\n",
       "    <tr>\n",
       "      <th>0</th>\n",
       "      <td>Almada Negreiros</td>\n",
       "      <td>[﻿, Satanizo-Me, Tara, na, Vara, de, Moysés!, ...</td>\n",
       "      <td>﻿ Satanizo-Me Tara na Vara de Moysés! O castig...</td>\n",
       "    </tr>\n",
       "    <tr>\n",
       "      <th>1</th>\n",
       "      <td>Almada Negreiros</td>\n",
       "      <td>[catitismo, das, lindezas, d'estalo!, Ahi!, lu...</td>\n",
       "      <td>catitismo das lindezas d'estalo! Ahi! lucro do...</td>\n",
       "    </tr>\n",
       "    <tr>\n",
       "      <th>2</th>\n",
       "      <td>Almada Negreiros</td>\n",
       "      <td>[vosso, avental!, E, vós, tambem,, ó, moças, d...</td>\n",
       "      <td>vosso avental! E vós tambem, ó moças da Provin...</td>\n",
       "    </tr>\n",
       "    <tr>\n",
       "      <th>3</th>\n",
       "      <td>Almada Negreiros</td>\n",
       "      <td>[os, cheiros, da, Terra,, come, o, que, a, Ter...</td>\n",
       "      <td>os cheiros da Terra, come o que a Terra dér, b...</td>\n",
       "    </tr>\n",
       "    <tr>\n",
       "      <th>4</th>\n",
       "      <td>Almada Negreiros</td>\n",
       "      <td>[﻿Pierrot, n'aquella, noite, depois, de, muito...</td>\n",
       "      <td>﻿Pierrot n'aquella noite depois de muito pensa...</td>\n",
       "    </tr>\n",
       "    <tr>\n",
       "      <th>...</th>\n",
       "      <td>...</td>\n",
       "      <td>...</td>\n",
       "      <td>...</td>\n",
       "    </tr>\n",
       "    <tr>\n",
       "      <th>6936</th>\n",
       "      <td>Luisa Marques Silva</td>\n",
       "      <td>[e, espalhar, pelas, vizinhas, que, o, marido,...</td>\n",
       "      <td>e espalhar pelas vizinhas que o marido lhe bat...</td>\n",
       "    </tr>\n",
       "    <tr>\n",
       "      <th>6937</th>\n",
       "      <td>Luisa Marques Silva</td>\n",
       "      <td>[Agora, só, falta, incriminar, o, médico,, dar...</td>\n",
       "      <td>Agora só falta incriminar o médico, dar cabo d...</td>\n",
       "    </tr>\n",
       "    <tr>\n",
       "      <th>6938</th>\n",
       "      <td>Luisa Marques Silva</td>\n",
       "      <td>[mais, umas, palmadas, no, rabo, do, que, uma,...</td>\n",
       "      <td>mais umas palmadas no rabo do que uma morte vi...</td>\n",
       "    </tr>\n",
       "    <tr>\n",
       "      <th>6939</th>\n",
       "      <td>Luisa Marques Silva</td>\n",
       "      <td>[o, imundo, doutor, depois, do, jantar”., E, l...</td>\n",
       "      <td>o imundo doutor depois do jantar”. E lá foi el...</td>\n",
       "    </tr>\n",
       "    <tr>\n",
       "      <th>6940</th>\n",
       "      <td>Luisa Marques Silva</td>\n",
       "      <td>[aterrorizada, a, querer, abandonar, a, realid...</td>\n",
       "      <td>aterrorizada a querer abandonar a realidade. E...</td>\n",
       "    </tr>\n",
       "  </tbody>\n",
       "</table>\n",
       "<p>6941 rows × 3 columns</p>\n",
       "</div>"
      ],
      "text/plain": [
       "                    label                                      500 Word List  \\\n",
       "0        Almada Negreiros  [﻿, Satanizo-Me, Tara, na, Vara, de, Moysés!, ...   \n",
       "1        Almada Negreiros  [catitismo, das, lindezas, d'estalo!, Ahi!, lu...   \n",
       "2        Almada Negreiros  [vosso, avental!, E, vós, tambem,, ó, moças, d...   \n",
       "3        Almada Negreiros  [os, cheiros, da, Terra,, come, o, que, a, Ter...   \n",
       "4        Almada Negreiros  [﻿Pierrot, n'aquella, noite, depois, de, muito...   \n",
       "...                   ...                                                ...   \n",
       "6936  Luisa Marques Silva  [e, espalhar, pelas, vizinhas, que, o, marido,...   \n",
       "6937  Luisa Marques Silva  [Agora, só, falta, incriminar, o, médico,, dar...   \n",
       "6938  Luisa Marques Silva  [mais, umas, palmadas, no, rabo, do, que, uma,...   \n",
       "6939  Luisa Marques Silva  [o, imundo, doutor, depois, do, jantar”., E, l...   \n",
       "6940  Luisa Marques Silva  [aterrorizada, a, querer, abandonar, a, realid...   \n",
       "\n",
       "                                         500 Clean Text  \n",
       "0     ﻿ Satanizo-Me Tara na Vara de Moysés! O castig...  \n",
       "1     catitismo das lindezas d'estalo! Ahi! lucro do...  \n",
       "2     vosso avental! E vós tambem, ó moças da Provin...  \n",
       "3     os cheiros da Terra, come o que a Terra dér, b...  \n",
       "4     ﻿Pierrot n'aquella noite depois de muito pensa...  \n",
       "...                                                 ...  \n",
       "6936  e espalhar pelas vizinhas que o marido lhe bat...  \n",
       "6937  Agora só falta incriminar o médico, dar cabo d...  \n",
       "6938  mais umas palmadas no rabo do que uma morte vi...  \n",
       "6939  o imundo doutor depois do jantar”. E lá foi el...  \n",
       "6940  aterrorizada a querer abandonar a realidade. E...  \n",
       "\n",
       "[6941 rows x 3 columns]"
      ]
     },
     "execution_count": 23,
     "metadata": {},
     "output_type": "execute_result"
    }
   ],
   "source": [
    "corpora_500 = pd.DataFrame(columns=['label','500 Word List','500 Clean Text'])\n",
    "\n",
    "for i in tqdm(range(len(corpora))):\n",
    "    text = corpora['Word List'][i]\n",
    "    list_500 = [text[i:i+500] for i in range(0, len(text), 500)]\n",
    "    text_500 = [\" \".join(list) for list in list_500]\n",
    "    \n",
    "    d_500 = pd.DataFrame({'label': corpora['Author'][i],'500 Word List':list_500,'500 Clean Text':text_500})\n",
    "    corpora_500 = corpora_500.append(d_500,ignore_index=True)\n",
    "    \n",
    "corpora_500"
   ]
  },
  {
   "cell_type": "code",
   "execution_count": 24,
   "metadata": {},
   "outputs": [],
   "source": [
    "corpora = corpora_500"
   ]
  },
  {
   "cell_type": "code",
   "execution_count": 19,
   "metadata": {},
   "outputs": [
    {
     "data": {
      "text/html": [
       "<div>\n",
       "<style scoped>\n",
       "    .dataframe tbody tr th:only-of-type {\n",
       "        vertical-align: middle;\n",
       "    }\n",
       "\n",
       "    .dataframe tbody tr th {\n",
       "        vertical-align: top;\n",
       "    }\n",
       "\n",
       "    .dataframe thead th {\n",
       "        text-align: right;\n",
       "    }\n",
       "</style>\n",
       "<table border=\"1\" class=\"dataframe\">\n",
       "  <thead>\n",
       "    <tr style=\"text-align: right;\">\n",
       "      <th></th>\n",
       "      <th>Text</th>\n",
       "      <th>Author</th>\n",
       "      <th>Clean Text</th>\n",
       "      <th>Word List</th>\n",
       "      <th>OG Index</th>\n",
       "      <th>500 Word List</th>\n",
       "      <th>500 Clean Text</th>\n",
       "    </tr>\n",
       "  </thead>\n",
       "  <tbody>\n",
       "    <tr>\n",
       "      <th>0</th>\n",
       "      <td>﻿\\nSatanizo-Me Tara na Vara de Moysés!\\nO cast...</td>\n",
       "      <td>Almada Negreiros</td>\n",
       "      <td>﻿ Satanizo-Me Tara na Vara de Moysés! O castig...</td>\n",
       "      <td>[﻿, Satanizo-Me, Tara, na, Vara, de, Moysés!, ...</td>\n",
       "      <td>0</td>\n",
       "      <td>[﻿, Satanizo-Me, Tara, na, Vara, de, Moysés!, ...</td>\n",
       "      <td>﻿ Satanizo-Me Tara na Vara de Moysés! O castig...</td>\n",
       "    </tr>\n",
       "    <tr>\n",
       "      <th>1</th>\n",
       "      <td>﻿\\nSatanizo-Me Tara na Vara de Moysés!\\nO cast...</td>\n",
       "      <td>Almada Negreiros</td>\n",
       "      <td>﻿ Satanizo-Me Tara na Vara de Moysés! O castig...</td>\n",
       "      <td>[﻿, Satanizo-Me, Tara, na, Vara, de, Moysés!, ...</td>\n",
       "      <td>0</td>\n",
       "      <td>[catitismo, das, lindezas, d'estalo!, Ahi!, lu...</td>\n",
       "      <td>catitismo das lindezas d'estalo! Ahi! lucro do...</td>\n",
       "    </tr>\n",
       "    <tr>\n",
       "      <th>2</th>\n",
       "      <td>﻿\\nSatanizo-Me Tara na Vara de Moysés!\\nO cast...</td>\n",
       "      <td>Almada Negreiros</td>\n",
       "      <td>﻿ Satanizo-Me Tara na Vara de Moysés! O castig...</td>\n",
       "      <td>[﻿, Satanizo-Me, Tara, na, Vara, de, Moysés!, ...</td>\n",
       "      <td>0</td>\n",
       "      <td>[vosso, avental!, E, vós, tambem,, ó, moças, d...</td>\n",
       "      <td>vosso avental! E vós tambem, ó moças da Provin...</td>\n",
       "    </tr>\n",
       "    <tr>\n",
       "      <th>3</th>\n",
       "      <td>﻿\\nSatanizo-Me Tara na Vara de Moysés!\\nO cast...</td>\n",
       "      <td>Almada Negreiros</td>\n",
       "      <td>﻿ Satanizo-Me Tara na Vara de Moysés! O castig...</td>\n",
       "      <td>[﻿, Satanizo-Me, Tara, na, Vara, de, Moysés!, ...</td>\n",
       "      <td>0</td>\n",
       "      <td>[os, cheiros, da, Terra,, come, o, que, a, Ter...</td>\n",
       "      <td>os cheiros da Terra, come o que a Terra dér, b...</td>\n",
       "    </tr>\n",
       "    <tr>\n",
       "      <th>4</th>\n",
       "      <td>﻿Pierrot n'aquella noite depois de muito pensa...</td>\n",
       "      <td>Almada Negreiros</td>\n",
       "      <td>﻿Pierrot n'aquella noite depois de muito pensa...</td>\n",
       "      <td>[﻿Pierrot, n'aquella, noite, depois, de, muito...</td>\n",
       "      <td>1</td>\n",
       "      <td>[﻿Pierrot, n'aquella, noite, depois, de, muito...</td>\n",
       "      <td>﻿Pierrot n'aquella noite depois de muito pensa...</td>\n",
       "    </tr>\n",
       "    <tr>\n",
       "      <th>5</th>\n",
       "      <td>﻿Entrei numa livraria. Puz-me a contar os livr...</td>\n",
       "      <td>Almada Negreiros</td>\n",
       "      <td>﻿Entrei numa livraria. Puz-me a contar os livr...</td>\n",
       "      <td>[﻿Entrei, numa, livraria., Puz-me, a, contar, ...</td>\n",
       "      <td>2</td>\n",
       "      <td>[﻿Entrei, numa, livraria., Puz-me, a, contar, ...</td>\n",
       "      <td>﻿Entrei numa livraria. Puz-me a contar os livr...</td>\n",
       "    </tr>\n",
       "    <tr>\n",
       "      <th>6</th>\n",
       "      <td>﻿Entrei numa livraria. Puz-me a contar os livr...</td>\n",
       "      <td>Almada Negreiros</td>\n",
       "      <td>﻿Entrei numa livraria. Puz-me a contar os livr...</td>\n",
       "      <td>[﻿Entrei, numa, livraria., Puz-me, a, contar, ...</td>\n",
       "      <td>2</td>\n",
       "      <td>[que, eu, seja, Mestre!, Eu, acho, que, todos,...</td>\n",
       "      <td>que eu seja Mestre! Eu acho que todos os livro...</td>\n",
       "    </tr>\n",
       "    <tr>\n",
       "      <th>7</th>\n",
       "      <td>﻿Entrei numa livraria. Puz-me a contar os livr...</td>\n",
       "      <td>Almada Negreiros</td>\n",
       "      <td>﻿Entrei numa livraria. Puz-me a contar os livr...</td>\n",
       "      <td>[﻿Entrei, numa, livraria., Puz-me, a, contar, ...</td>\n",
       "      <td>2</td>\n",
       "      <td>[e, como, se, deve, ser, homem., As, senhoras,...</td>\n",
       "      <td>e como se deve ser homem. As senhoras como a m...</td>\n",
       "    </tr>\n",
       "    <tr>\n",
       "      <th>8</th>\n",
       "      <td>﻿Entrei numa livraria. Puz-me a contar os livr...</td>\n",
       "      <td>Almada Negreiros</td>\n",
       "      <td>﻿Entrei numa livraria. Puz-me a contar os livr...</td>\n",
       "      <td>[﻿Entrei, numa, livraria., Puz-me, a, contar, ...</td>\n",
       "      <td>2</td>\n",
       "      <td>[os, logares, e, as, posições, das, palavras.,...</td>\n",
       "      <td>os logares e as posições das palavras. Segundo...</td>\n",
       "    </tr>\n",
       "    <tr>\n",
       "      <th>9</th>\n",
       "      <td>﻿Entrei numa livraria. Puz-me a contar os livr...</td>\n",
       "      <td>Almada Negreiros</td>\n",
       "      <td>﻿Entrei numa livraria. Puz-me a contar os livr...</td>\n",
       "      <td>[﻿Entrei, numa, livraria., Puz-me, a, contar, ...</td>\n",
       "      <td>2</td>\n",
       "      <td>[dos, teus, olhos, rasgados., «Tudo, quanto, e...</td>\n",
       "      <td>dos teus olhos rasgados. «Tudo quanto eu te di...</td>\n",
       "    </tr>\n",
       "    <tr>\n",
       "      <th>10</th>\n",
       "      <td>﻿Entrei numa livraria. Puz-me a contar os livr...</td>\n",
       "      <td>Almada Negreiros</td>\n",
       "      <td>﻿Entrei numa livraria. Puz-me a contar os livr...</td>\n",
       "      <td>[﻿Entrei, numa, livraria., Puz-me, a, contar, ...</td>\n",
       "      <td>2</td>\n",
       "      <td>[havia, um, chafariz, para, matar, a, sêde., E...</td>\n",
       "      <td>havia um chafariz para matar a sêde. Eu não sa...</td>\n",
       "    </tr>\n",
       "    <tr>\n",
       "      <th>11</th>\n",
       "      <td>﻿Entrei numa livraria. Puz-me a contar os livr...</td>\n",
       "      <td>Almada Negreiros</td>\n",
       "      <td>﻿Entrei numa livraria. Puz-me a contar os livr...</td>\n",
       "      <td>[﻿Entrei, numa, livraria., Puz-me, a, contar, ...</td>\n",
       "      <td>2</td>\n",
       "      <td>[tu, davas, de, mamar!, Eu, já, estive, comtig...</td>\n",
       "      <td>tu davas de mamar! Eu já estive comtigo na ter...</td>\n",
       "    </tr>\n",
       "    <tr>\n",
       "      <th>12</th>\n",
       "      <td>﻿Entrei numa livraria. Puz-me a contar os livr...</td>\n",
       "      <td>Almada Negreiros</td>\n",
       "      <td>﻿Entrei numa livraria. Puz-me a contar os livr...</td>\n",
       "      <td>[﻿Entrei, numa, livraria., Puz-me, a, contar, ...</td>\n",
       "      <td>2</td>\n",
       "      <td>[feita, de, rocha,, é, feita, de, domingos, e,...</td>\n",
       "      <td>feita de rocha, é feita de domingos e dos outr...</td>\n",
       "    </tr>\n",
       "    <tr>\n",
       "      <th>13</th>\n",
       "      <td>﻿Entrei numa livraria. Puz-me a contar os livr...</td>\n",
       "      <td>Almada Negreiros</td>\n",
       "      <td>﻿Entrei numa livraria. Puz-me a contar os livr...</td>\n",
       "      <td>[﻿Entrei, numa, livraria., Puz-me, a, contar, ...</td>\n",
       "      <td>2</td>\n",
       "      <td>[que, tu, sabes, do, que, é, necessario, saber...</td>\n",
       "      <td>que tu sabes do que é necessario saber, dize e...</td>\n",
       "    </tr>\n",
       "    <tr>\n",
       "      <th>14</th>\n",
       "      <td>﻿Entrei numa livraria. Puz-me a contar os livr...</td>\n",
       "      <td>Almada Negreiros</td>\n",
       "      <td>﻿Entrei numa livraria. Puz-me a contar os livr...</td>\n",
       "      <td>[﻿Entrei, numa, livraria., Puz-me, a, contar, ...</td>\n",
       "      <td>2</td>\n",
       "      <td>[chove, ponho­me, a, pensar, que, não, sou, eu...</td>\n",
       "      <td>chove ponho­me a pensar que não sou eu só que ...</td>\n",
       "    </tr>\n",
       "    <tr>\n",
       "      <th>15</th>\n",
       "      <td>﻿Entrei numa livraria. Puz-me a contar os livr...</td>\n",
       "      <td>Almada Negreiros</td>\n",
       "      <td>﻿Entrei numa livraria. Puz-me a contar os livr...</td>\n",
       "      <td>[﻿Entrei, numa, livraria., Puz-me, a, contar, ...</td>\n",
       "      <td>2</td>\n",
       "      <td>[plo, gigante,, quem, poderia,, Mãe,, ter-me, ...</td>\n",
       "      <td>plo gigante, quem poderia, Mãe, ter-me convenc...</td>\n",
       "    </tr>\n",
       "    <tr>\n",
       "      <th>16</th>\n",
       "      <td>﻿Entrei numa livraria. Puz-me a contar os livr...</td>\n",
       "      <td>Almada Negreiros</td>\n",
       "      <td>﻿Entrei numa livraria. Puz-me a contar os livr...</td>\n",
       "      <td>[﻿Entrei, numa, livraria., Puz-me, a, contar, ...</td>\n",
       "      <td>2</td>\n",
       "      <td>[a, que, alturas, pertence., A, frase, é, esta...</td>\n",
       "      <td>a que alturas pertence. A frase é esta: Ha sys...</td>\n",
       "    </tr>\n",
       "    <tr>\n",
       "      <th>17</th>\n",
       "      <td>﻿espasmos de praiamar transbordam invasão\\na a...</td>\n",
       "      <td>Almada Negreiros</td>\n",
       "      <td>﻿espasmos de praiamar transbordam invasão a ar...</td>\n",
       "      <td>[﻿espasmos, de, praiamar, transbordam, invasão...</td>\n",
       "      <td>3</td>\n",
       "      <td>[﻿espasmos, de, praiamar, transbordam, invasão...</td>\n",
       "      <td>﻿espasmos de praiamar transbordam invasão a ar...</td>\n",
       "    </tr>\n",
       "    <tr>\n",
       "      <th>18</th>\n",
       "      <td>﻿espasmos de praiamar transbordam invasão\\na a...</td>\n",
       "      <td>Almada Negreiros</td>\n",
       "      <td>﻿espasmos de praiamar transbordam invasão a ar...</td>\n",
       "      <td>[﻿espasmos, de, praiamar, transbordam, invasão...</td>\n",
       "      <td>3</td>\n",
       "      <td>[regimento, com, ferrúgem, de, tambôres, dedal...</td>\n",
       "      <td>regimento com ferrúgem de tambôres dedal de pr...</td>\n",
       "    </tr>\n",
       "    <tr>\n",
       "      <th>19</th>\n",
       "      <td>﻿Em Portugal existe uma unica opinião sobre Ar...</td>\n",
       "      <td>Almada Negreiros</td>\n",
       "      <td>﻿Em Portugal existe uma unica opinião sobre Ar...</td>\n",
       "      <td>[﻿Em, Portugal, existe, uma, unica, opinião, s...</td>\n",
       "      <td>4</td>\n",
       "      <td>[﻿Em, Portugal, existe, uma, unica, opinião, s...</td>\n",
       "      <td>﻿Em Portugal existe uma unica opinião sobre Ar...</td>\n",
       "    </tr>\n",
       "    <tr>\n",
       "      <th>20</th>\n",
       "      <td>﻿Em Portugal existe uma unica opinião sobre Ar...</td>\n",
       "      <td>Almada Negreiros</td>\n",
       "      <td>﻿Em Portugal existe uma unica opinião sobre Ar...</td>\n",
       "      <td>[﻿Em, Portugal, existe, uma, unica, opinião, s...</td>\n",
       "      <td>4</td>\n",
       "      <td>[olhos, e, diz, lá, que, a, Vida, não, é, assi...</td>\n",
       "      <td>olhos e diz lá que a Vida não é assim? Não esp...</td>\n",
       "    </tr>\n",
       "    <tr>\n",
       "      <th>21</th>\n",
       "      <td>﻿\\n\\n\\nO perfume penetrante da sua alma raffin...</td>\n",
       "      <td>Almada Negreiros</td>\n",
       "      <td>﻿ O perfume penetrante da sua alma raffinée nã...</td>\n",
       "      <td>[﻿, O, perfume, penetrante, da, sua, alma, raf...</td>\n",
       "      <td>5</td>\n",
       "      <td>[﻿, O, perfume, penetrante, da, sua, alma, raf...</td>\n",
       "      <td>﻿ O perfume penetrante da sua alma raffinée nã...</td>\n",
       "    </tr>\n",
       "    <tr>\n",
       "      <th>22</th>\n",
       "      <td>﻿\\n\\n\\nO perfume penetrante da sua alma raffin...</td>\n",
       "      <td>Almada Negreiros</td>\n",
       "      <td>﻿ O perfume penetrante da sua alma raffinée nã...</td>\n",
       "      <td>[﻿, O, perfume, penetrante, da, sua, alma, raf...</td>\n",
       "      <td>5</td>\n",
       "      <td>[prova, d'esta, compreensão, amarrecou-se, n'u...</td>\n",
       "      <td>prova d'esta compreensão amarrecou-se n'um des...</td>\n",
       "    </tr>\n",
       "    <tr>\n",
       "      <th>23</th>\n",
       "      <td>﻿\\n\\n\\nO perfume penetrante da sua alma raffin...</td>\n",
       "      <td>Almada Negreiros</td>\n",
       "      <td>﻿ O perfume penetrante da sua alma raffinée nã...</td>\n",
       "      <td>[﻿, O, perfume, penetrante, da, sua, alma, raf...</td>\n",
       "      <td>5</td>\n",
       "      <td>[pertences, de, machina, sem, intensão, e, log...</td>\n",
       "      <td>pertences de machina sem intensão e logo atraí...</td>\n",
       "    </tr>\n",
       "    <tr>\n",
       "      <th>24</th>\n",
       "      <td>﻿\\n\\n\\nO perfume penetrante da sua alma raffin...</td>\n",
       "      <td>Almada Negreiros</td>\n",
       "      <td>﻿ O perfume penetrante da sua alma raffinée nã...</td>\n",
       "      <td>[﻿, O, perfume, penetrante, da, sua, alma, raf...</td>\n",
       "      <td>5</td>\n",
       "      <td>[espiral, de, caixa, de, surprêzas, relativame...</td>\n",
       "      <td>espiral de caixa de surprêzas relativamente ao...</td>\n",
       "    </tr>\n",
       "    <tr>\n",
       "      <th>25</th>\n",
       "      <td>﻿\\n\\n\\nO perfume penetrante da sua alma raffin...</td>\n",
       "      <td>Almada Negreiros</td>\n",
       "      <td>﻿ O perfume penetrante da sua alma raffinée nã...</td>\n",
       "      <td>[﻿, O, perfume, penetrante, da, sua, alma, raf...</td>\n",
       "      <td>5</td>\n",
       "      <td>[vibração, thoráxica, de, digestão, translucid...</td>\n",
       "      <td>vibração thoráxica de digestão translucida. A ...</td>\n",
       "    </tr>\n",
       "    <tr>\n",
       "      <th>26</th>\n",
       "      <td>﻿\\n\\n\\nO perfume penetrante da sua alma raffin...</td>\n",
       "      <td>Almada Negreiros</td>\n",
       "      <td>﻿ O perfume penetrante da sua alma raffinée nã...</td>\n",
       "      <td>[﻿, O, perfume, penetrante, da, sua, alma, raf...</td>\n",
       "      <td>5</td>\n",
       "      <td>[dentro, de, mim, fui, mais, um, grão, de, are...</td>\n",
       "      <td>dentro de mim fui mais um grão de areia a tapa...</td>\n",
       "    </tr>\n",
       "    <tr>\n",
       "      <th>27</th>\n",
       "      <td>﻿\\n\\n\\nO perfume penetrante da sua alma raffin...</td>\n",
       "      <td>Almada Negreiros</td>\n",
       "      <td>﻿ O perfume penetrante da sua alma raffinée nã...</td>\n",
       "      <td>[﻿, O, perfume, penetrante, da, sua, alma, raf...</td>\n",
       "      <td>5</td>\n",
       "      <td>[azul, n'uma, impaciencia, de, côr, á, espera,...</td>\n",
       "      <td>azul n'uma impaciencia de côr á espera do que ...</td>\n",
       "    </tr>\n",
       "    <tr>\n",
       "      <th>28</th>\n",
       "      <td>﻿\\n\\n\\nO perfume penetrante da sua alma raffin...</td>\n",
       "      <td>Almada Negreiros</td>\n",
       "      <td>﻿ O perfume penetrante da sua alma raffinée nã...</td>\n",
       "      <td>[﻿, O, perfume, penetrante, da, sua, alma, raf...</td>\n",
       "      <td>5</td>\n",
       "      <td>[a, minha, intelligencia, a, materia, córante,...</td>\n",
       "      <td>a minha intelligencia a materia córante das po...</td>\n",
       "    </tr>\n",
       "    <tr>\n",
       "      <th>29</th>\n",
       "      <td>﻿\\n\\n\\nO perfume penetrante da sua alma raffin...</td>\n",
       "      <td>Almada Negreiros</td>\n",
       "      <td>﻿ O perfume penetrante da sua alma raffinée nã...</td>\n",
       "      <td>[﻿, O, perfume, penetrante, da, sua, alma, raf...</td>\n",
       "      <td>5</td>\n",
       "      <td>[decorativo, pró, meu, apetite, os, cristaes,,...</td>\n",
       "      <td>decorativo pró meu apetite os cristaes, os ref...</td>\n",
       "    </tr>\n",
       "    <tr>\n",
       "      <th>...</th>\n",
       "      <td>...</td>\n",
       "      <td>...</td>\n",
       "      <td>...</td>\n",
       "      <td>...</td>\n",
       "      <td>...</td>\n",
       "      <td>...</td>\n",
       "      <td>...</td>\n",
       "    </tr>\n",
       "    <tr>\n",
       "      <th>6911</th>\n",
       "      <td>LISBOA 2050\\nLisboa, ano de 2050. Um Agosto tã...</td>\n",
       "      <td>Luisa Marques Silva</td>\n",
       "      <td>LISBOA 2050 Lisboa, ano de 2050. Um Agosto tão...</td>\n",
       "      <td>[LISBOA, 2050, Lisboa,, ano, de, 2050., Um, Ag...</td>\n",
       "      <td>59</td>\n",
       "      <td>[a, gozar, mesmo…, −, Não, me, aldrabes,, pai....</td>\n",
       "      <td>a gozar mesmo… − Não me aldrabes, pai. Sei que...</td>\n",
       "    </tr>\n",
       "    <tr>\n",
       "      <th>6912</th>\n",
       "      <td>LISBOA 2050\\nLisboa, ano de 2050. Um Agosto tã...</td>\n",
       "      <td>Luisa Marques Silva</td>\n",
       "      <td>LISBOA 2050 Lisboa, ano de 2050. Um Agosto tão...</td>\n",
       "      <td>[LISBOA, 2050, Lisboa,, ano, de, 2050., Um, Ag...</td>\n",
       "      <td>59</td>\n",
       "      <td>[sem, olhar, Jaime,, despediu, se, e, subiu., ...</td>\n",
       "      <td>sem olhar Jaime, despediu se e subiu. Estava a...</td>\n",
       "    </tr>\n",
       "    <tr>\n",
       "      <th>6913</th>\n",
       "      <td>LISBOA 2050\\nLisboa, ano de 2050. Um Agosto tã...</td>\n",
       "      <td>Luisa Marques Silva</td>\n",
       "      <td>LISBOA 2050 Lisboa, ano de 2050. Um Agosto tão...</td>\n",
       "      <td>[LISBOA, 2050, Lisboa,, ano, de, 2050., Um, Ag...</td>\n",
       "      <td>59</td>\n",
       "      <td>[identificação, a, uma, mulher, que, aguardava...</td>\n",
       "      <td>identificação a uma mulher que aguardava num g...</td>\n",
       "    </tr>\n",
       "    <tr>\n",
       "      <th>6914</th>\n",
       "      <td>LISBOA 2050\\nLisboa, ano de 2050. Um Agosto tã...</td>\n",
       "      <td>Luisa Marques Silva</td>\n",
       "      <td>LISBOA 2050 Lisboa, ano de 2050. Um Agosto tão...</td>\n",
       "      <td>[LISBOA, 2050, Lisboa,, ano, de, 2050., Um, Ag...</td>\n",
       "      <td>59</td>\n",
       "      <td>[desiludido, um, cliente., Pode, ir, deitar, s...</td>\n",
       "      <td>desiludido um cliente. Pode ir deitar se naque...</td>\n",
       "    </tr>\n",
       "    <tr>\n",
       "      <th>6915</th>\n",
       "      <td>Imaginem uma planície cujos limites se perdem....</td>\n",
       "      <td>Luisa Marques Silva</td>\n",
       "      <td>Imaginem uma planície cujos limites se perdem....</td>\n",
       "      <td>[Imaginem, uma, planície, cujos, limites, se, ...</td>\n",
       "      <td>60</td>\n",
       "      <td>[Imaginem, uma, planície, cujos, limites, se, ...</td>\n",
       "      <td>Imaginem uma planície cujos limites se perdem....</td>\n",
       "    </tr>\n",
       "    <tr>\n",
       "      <th>6916</th>\n",
       "      <td>Imaginem uma planície cujos limites se perdem....</td>\n",
       "      <td>Luisa Marques Silva</td>\n",
       "      <td>Imaginem uma planície cujos limites se perdem....</td>\n",
       "      <td>[Imaginem, uma, planície, cujos, limites, se, ...</td>\n",
       "      <td>60</td>\n",
       "      <td>[pasta, preta,, verde,, vermelha, e, azul,, qu...</td>\n",
       "      <td>pasta preta, verde, vermelha e azul, que lhe e...</td>\n",
       "    </tr>\n",
       "    <tr>\n",
       "      <th>6917</th>\n",
       "      <td>Imaginem uma planície cujos limites se perdem....</td>\n",
       "      <td>Luisa Marques Silva</td>\n",
       "      <td>Imaginem uma planície cujos limites se perdem....</td>\n",
       "      <td>[Imaginem, uma, planície, cujos, limites, se, ...</td>\n",
       "      <td>60</td>\n",
       "      <td>[que, se, vão, poder, banquetear, com, o, sucu...</td>\n",
       "      <td>que se vão poder banquetear com o suculento co...</td>\n",
       "    </tr>\n",
       "    <tr>\n",
       "      <th>6918</th>\n",
       "      <td>Gravação número 1 de Mia Torres:\\nDoravante, a...</td>\n",
       "      <td>Luisa Marques Silva</td>\n",
       "      <td>Gravação número 1 de Mia Torres: Doravante, as...</td>\n",
       "      <td>[Gravação, número, 1, de, Mia, Torres:, Dorava...</td>\n",
       "      <td>61</td>\n",
       "      <td>[Gravação, número, 1, de, Mia, Torres:, Dorava...</td>\n",
       "      <td>Gravação número 1 de Mia Torres: Doravante, as...</td>\n",
       "    </tr>\n",
       "    <tr>\n",
       "      <th>6919</th>\n",
       "      <td>Gravação número 1 de Mia Torres:\\nDoravante, a...</td>\n",
       "      <td>Luisa Marques Silva</td>\n",
       "      <td>Gravação número 1 de Mia Torres: Doravante, as...</td>\n",
       "      <td>[Gravação, número, 1, de, Mia, Torres:, Dorava...</td>\n",
       "      <td>61</td>\n",
       "      <td>[para, a, troca?, O, meu, irmão, Miguel, enjoa...</td>\n",
       "      <td>para a troca? O meu irmão Miguel enjoa quando ...</td>\n",
       "    </tr>\n",
       "    <tr>\n",
       "      <th>6920</th>\n",
       "      <td>Gravação número 1 de Mia Torres:\\nDoravante, a...</td>\n",
       "      <td>Luisa Marques Silva</td>\n",
       "      <td>Gravação número 1 de Mia Torres: Doravante, as...</td>\n",
       "      <td>[Gravação, número, 1, de, Mia, Torres:, Dorava...</td>\n",
       "      <td>61</td>\n",
       "      <td>[poucos, metros, do, sítio, onde, nos, encontr...</td>\n",
       "      <td>poucos metros do sítio onde nos encontrávamos....</td>\n",
       "    </tr>\n",
       "    <tr>\n",
       "      <th>6921</th>\n",
       "      <td>Gravação número 1 de Mia Torres:\\nDoravante, a...</td>\n",
       "      <td>Luisa Marques Silva</td>\n",
       "      <td>Gravação número 1 de Mia Torres: Doravante, as...</td>\n",
       "      <td>[Gravação, número, 1, de, Mia, Torres:, Dorava...</td>\n",
       "      <td>61</td>\n",
       "      <td>[com, um, grande, balcão,, uma, dúzia, de, mes...</td>\n",
       "      <td>com um grande balcão, uma dúzia de mesas e cad...</td>\n",
       "    </tr>\n",
       "    <tr>\n",
       "      <th>6922</th>\n",
       "      <td>Gravação número 1 de Mia Torres:\\nDoravante, a...</td>\n",
       "      <td>Luisa Marques Silva</td>\n",
       "      <td>Gravação número 1 de Mia Torres: Doravante, as...</td>\n",
       "      <td>[Gravação, número, 1, de, Mia, Torres:, Dorava...</td>\n",
       "      <td>61</td>\n",
       "      <td>[rebentada., Entraram., Baptizei-os, de, Gafas...</td>\n",
       "      <td>rebentada. Entraram. Baptizei-os de Gafas. Exc...</td>\n",
       "    </tr>\n",
       "    <tr>\n",
       "      <th>6923</th>\n",
       "      <td>Gravação número 1 de Mia Torres:\\nDoravante, a...</td>\n",
       "      <td>Luisa Marques Silva</td>\n",
       "      <td>Gravação número 1 de Mia Torres: Doravante, as...</td>\n",
       "      <td>[Gravação, número, 1, de, Mia, Torres:, Dorava...</td>\n",
       "      <td>61</td>\n",
       "      <td>[as, costas, e, preparou-se, para, partir., Fo...</td>\n",
       "      <td>as costas e preparou-se para partir. Foi quand...</td>\n",
       "    </tr>\n",
       "    <tr>\n",
       "      <th>6924</th>\n",
       "      <td>Gravação número 1 de Mia Torres:\\nDoravante, a...</td>\n",
       "      <td>Luisa Marques Silva</td>\n",
       "      <td>Gravação número 1 de Mia Torres: Doravante, as...</td>\n",
       "      <td>[Gravação, número, 1, de, Mia, Torres:, Dorava...</td>\n",
       "      <td>61</td>\n",
       "      <td>[dar, um, mortal, para, trás., Subindo, uma, p...</td>\n",
       "      <td>dar um mortal para trás. Subindo uma parede. C...</td>\n",
       "    </tr>\n",
       "    <tr>\n",
       "      <th>6925</th>\n",
       "      <td>Gravação número 1 de Mia Torres:\\nDoravante, a...</td>\n",
       "      <td>Luisa Marques Silva</td>\n",
       "      <td>Gravação número 1 de Mia Torres: Doravante, as...</td>\n",
       "      <td>[Gravação, número, 1, de, Mia, Torres:, Dorava...</td>\n",
       "      <td>61</td>\n",
       "      <td>[Norte, da, Europa,, estas, coisas, nunca, aco...</td>\n",
       "      <td>Norte da Europa, estas coisas nunca aconteciam...</td>\n",
       "    </tr>\n",
       "    <tr>\n",
       "      <th>6926</th>\n",
       "      <td>Gravação número 1 de Mia Torres:\\nDoravante, a...</td>\n",
       "      <td>Luisa Marques Silva</td>\n",
       "      <td>Gravação número 1 de Mia Torres: Doravante, as...</td>\n",
       "      <td>[Gravação, número, 1, de, Mia, Torres:, Dorava...</td>\n",
       "      <td>61</td>\n",
       "      <td>[carinha, do, bebé, que, tenho, nos, braços., ...</td>\n",
       "      <td>carinha do bebé que tenho nos braços. - ORC co...</td>\n",
       "    </tr>\n",
       "    <tr>\n",
       "      <th>6927</th>\n",
       "      <td>A ÚLTIMA HISTÓRIA\\nO PEQUENO ALMOÇO\\nNo dia em...</td>\n",
       "      <td>Luisa Marques Silva</td>\n",
       "      <td>A ÚLTIMA HISTÓRIA O PEQUENO ALMOÇO No dia em q...</td>\n",
       "      <td>[A, ÚLTIMA, HISTÓRIA, O, PEQUENO, ALMOÇO, No, ...</td>\n",
       "      <td>62</td>\n",
       "      <td>[A, ÚLTIMA, HISTÓRIA, O, PEQUENO, ALMOÇO, No, ...</td>\n",
       "      <td>A ÚLTIMA HISTÓRIA O PEQUENO ALMOÇO No dia em q...</td>\n",
       "    </tr>\n",
       "    <tr>\n",
       "      <th>6928</th>\n",
       "      <td>A ÚLTIMA HISTÓRIA\\nO PEQUENO ALMOÇO\\nNo dia em...</td>\n",
       "      <td>Luisa Marques Silva</td>\n",
       "      <td>A ÚLTIMA HISTÓRIA O PEQUENO ALMOÇO No dia em q...</td>\n",
       "      <td>[A, ÚLTIMA, HISTÓRIA, O, PEQUENO, ALMOÇO, No, ...</td>\n",
       "      <td>62</td>\n",
       "      <td>[de, leite, cheio, de, natas,, encaminhou, sof...</td>\n",
       "      <td>de leite cheio de natas, encaminhou sofregamen...</td>\n",
       "    </tr>\n",
       "    <tr>\n",
       "      <th>6929</th>\n",
       "      <td>A ÚLTIMA HISTÓRIA\\nO PEQUENO ALMOÇO\\nNo dia em...</td>\n",
       "      <td>Luisa Marques Silva</td>\n",
       "      <td>A ÚLTIMA HISTÓRIA O PEQUENO ALMOÇO No dia em q...</td>\n",
       "      <td>[A, ÚLTIMA, HISTÓRIA, O, PEQUENO, ALMOÇO, No, ...</td>\n",
       "      <td>62</td>\n",
       "      <td>[e, pele, de, pêssego;, uma, rapariga, tão, fi...</td>\n",
       "      <td>e pele de pêssego; uma rapariga tão fina, tão ...</td>\n",
       "    </tr>\n",
       "    <tr>\n",
       "      <th>6930</th>\n",
       "      <td>A ÚLTIMA HISTÓRIA\\nO PEQUENO ALMOÇO\\nNo dia em...</td>\n",
       "      <td>Luisa Marques Silva</td>\n",
       "      <td>A ÚLTIMA HISTÓRIA O PEQUENO ALMOÇO No dia em q...</td>\n",
       "      <td>[A, ÚLTIMA, HISTÓRIA, O, PEQUENO, ALMOÇO, No, ...</td>\n",
       "      <td>62</td>\n",
       "      <td>[José, Carlos, surgisse, na, sua, vida., Aliás...</td>\n",
       "      <td>José Carlos surgisse na sua vida. Aliás, segun...</td>\n",
       "    </tr>\n",
       "    <tr>\n",
       "      <th>6931</th>\n",
       "      <td>A ÚLTIMA HISTÓRIA\\nO PEQUENO ALMOÇO\\nNo dia em...</td>\n",
       "      <td>Luisa Marques Silva</td>\n",
       "      <td>A ÚLTIMA HISTÓRIA O PEQUENO ALMOÇO No dia em q...</td>\n",
       "      <td>[A, ÚLTIMA, HISTÓRIA, O, PEQUENO, ALMOÇO, No, ...</td>\n",
       "      <td>62</td>\n",
       "      <td>[melhores!!!”, E, foi, então, que, o, senhor, ...</td>\n",
       "      <td>melhores!!!” E foi então que o senhor Dias foi...</td>\n",
       "    </tr>\n",
       "    <tr>\n",
       "      <th>6932</th>\n",
       "      <td>A ÚLTIMA HISTÓRIA\\nO PEQUENO ALMOÇO\\nNo dia em...</td>\n",
       "      <td>Luisa Marques Silva</td>\n",
       "      <td>A ÚLTIMA HISTÓRIA O PEQUENO ALMOÇO No dia em q...</td>\n",
       "      <td>[A, ÚLTIMA, HISTÓRIA, O, PEQUENO, ALMOÇO, No, ...</td>\n",
       "      <td>62</td>\n",
       "      <td>[ser, o, José, Carlos, e, passava, a, ser, o, ...</td>\n",
       "      <td>ser o José Carlos e passava a ser o José Emanu...</td>\n",
       "    </tr>\n",
       "    <tr>\n",
       "      <th>6933</th>\n",
       "      <td>A ÚLTIMA HISTÓRIA\\nO PEQUENO ALMOÇO\\nNo dia em...</td>\n",
       "      <td>Luisa Marques Silva</td>\n",
       "      <td>A ÚLTIMA HISTÓRIA O PEQUENO ALMOÇO No dia em q...</td>\n",
       "      <td>[A, ÚLTIMA, HISTÓRIA, O, PEQUENO, ALMOÇO, No, ...</td>\n",
       "      <td>62</td>\n",
       "      <td>[A, confusão, é, total,, os, doentes, surgem, ...</td>\n",
       "      <td>A confusão é total, os doentes surgem nas sole...</td>\n",
       "    </tr>\n",
       "    <tr>\n",
       "      <th>6934</th>\n",
       "      <td>A ÚLTIMA HISTÓRIA\\nO PEQUENO ALMOÇO\\nNo dia em...</td>\n",
       "      <td>Luisa Marques Silva</td>\n",
       "      <td>A ÚLTIMA HISTÓRIA O PEQUENO ALMOÇO No dia em q...</td>\n",
       "      <td>[A, ÚLTIMA, HISTÓRIA, O, PEQUENO, ALMOÇO, No, ...</td>\n",
       "      <td>62</td>\n",
       "      <td>[surpreendido., −, Acho., −, Ora,, que, pergun...</td>\n",
       "      <td>surpreendido. − Acho. − Ora, que pergunta, só ...</td>\n",
       "    </tr>\n",
       "    <tr>\n",
       "      <th>6935</th>\n",
       "      <td>A ÚLTIMA HISTÓRIA\\nO PEQUENO ALMOÇO\\nNo dia em...</td>\n",
       "      <td>Luisa Marques Silva</td>\n",
       "      <td>A ÚLTIMA HISTÓRIA O PEQUENO ALMOÇO No dia em q...</td>\n",
       "      <td>[A, ÚLTIMA, HISTÓRIA, O, PEQUENO, ALMOÇO, No, ...</td>\n",
       "      <td>62</td>\n",
       "      <td>[o, doutor, José, Luís, e, o, inspector, José,...</td>\n",
       "      <td>o doutor José Luís e o inspector José David. O...</td>\n",
       "    </tr>\n",
       "    <tr>\n",
       "      <th>6936</th>\n",
       "      <td>A ÚLTIMA HISTÓRIA\\nO PEQUENO ALMOÇO\\nNo dia em...</td>\n",
       "      <td>Luisa Marques Silva</td>\n",
       "      <td>A ÚLTIMA HISTÓRIA O PEQUENO ALMOÇO No dia em q...</td>\n",
       "      <td>[A, ÚLTIMA, HISTÓRIA, O, PEQUENO, ALMOÇO, No, ...</td>\n",
       "      <td>62</td>\n",
       "      <td>[e, espalhar, pelas, vizinhas, que, o, marido,...</td>\n",
       "      <td>e espalhar pelas vizinhas que o marido lhe bat...</td>\n",
       "    </tr>\n",
       "    <tr>\n",
       "      <th>6937</th>\n",
       "      <td>A ÚLTIMA HISTÓRIA\\nO PEQUENO ALMOÇO\\nNo dia em...</td>\n",
       "      <td>Luisa Marques Silva</td>\n",
       "      <td>A ÚLTIMA HISTÓRIA O PEQUENO ALMOÇO No dia em q...</td>\n",
       "      <td>[A, ÚLTIMA, HISTÓRIA, O, PEQUENO, ALMOÇO, No, ...</td>\n",
       "      <td>62</td>\n",
       "      <td>[Agora, só, falta, incriminar, o, médico,, dar...</td>\n",
       "      <td>Agora só falta incriminar o médico, dar cabo d...</td>\n",
       "    </tr>\n",
       "    <tr>\n",
       "      <th>6938</th>\n",
       "      <td>A ÚLTIMA HISTÓRIA\\nO PEQUENO ALMOÇO\\nNo dia em...</td>\n",
       "      <td>Luisa Marques Silva</td>\n",
       "      <td>A ÚLTIMA HISTÓRIA O PEQUENO ALMOÇO No dia em q...</td>\n",
       "      <td>[A, ÚLTIMA, HISTÓRIA, O, PEQUENO, ALMOÇO, No, ...</td>\n",
       "      <td>62</td>\n",
       "      <td>[mais, umas, palmadas, no, rabo, do, que, uma,...</td>\n",
       "      <td>mais umas palmadas no rabo do que uma morte vi...</td>\n",
       "    </tr>\n",
       "    <tr>\n",
       "      <th>6939</th>\n",
       "      <td>A ÚLTIMA HISTÓRIA\\nO PEQUENO ALMOÇO\\nNo dia em...</td>\n",
       "      <td>Luisa Marques Silva</td>\n",
       "      <td>A ÚLTIMA HISTÓRIA O PEQUENO ALMOÇO No dia em q...</td>\n",
       "      <td>[A, ÚLTIMA, HISTÓRIA, O, PEQUENO, ALMOÇO, No, ...</td>\n",
       "      <td>62</td>\n",
       "      <td>[o, imundo, doutor, depois, do, jantar”., E, l...</td>\n",
       "      <td>o imundo doutor depois do jantar”. E lá foi el...</td>\n",
       "    </tr>\n",
       "    <tr>\n",
       "      <th>6940</th>\n",
       "      <td>A ÚLTIMA HISTÓRIA\\nO PEQUENO ALMOÇO\\nNo dia em...</td>\n",
       "      <td>Luisa Marques Silva</td>\n",
       "      <td>A ÚLTIMA HISTÓRIA O PEQUENO ALMOÇO No dia em q...</td>\n",
       "      <td>[A, ÚLTIMA, HISTÓRIA, O, PEQUENO, ALMOÇO, No, ...</td>\n",
       "      <td>62</td>\n",
       "      <td>[aterrorizada, a, querer, abandonar, a, realid...</td>\n",
       "      <td>aterrorizada a querer abandonar a realidade. E...</td>\n",
       "    </tr>\n",
       "  </tbody>\n",
       "</table>\n",
       "<p>6941 rows × 7 columns</p>\n",
       "</div>"
      ],
      "text/plain": [
       "                                                   Text               Author  \\\n",
       "0     ﻿\\nSatanizo-Me Tara na Vara de Moysés!\\nO cast...     Almada Negreiros   \n",
       "1     ﻿\\nSatanizo-Me Tara na Vara de Moysés!\\nO cast...     Almada Negreiros   \n",
       "2     ﻿\\nSatanizo-Me Tara na Vara de Moysés!\\nO cast...     Almada Negreiros   \n",
       "3     ﻿\\nSatanizo-Me Tara na Vara de Moysés!\\nO cast...     Almada Negreiros   \n",
       "4     ﻿Pierrot n'aquella noite depois de muito pensa...     Almada Negreiros   \n",
       "5     ﻿Entrei numa livraria. Puz-me a contar os livr...     Almada Negreiros   \n",
       "6     ﻿Entrei numa livraria. Puz-me a contar os livr...     Almada Negreiros   \n",
       "7     ﻿Entrei numa livraria. Puz-me a contar os livr...     Almada Negreiros   \n",
       "8     ﻿Entrei numa livraria. Puz-me a contar os livr...     Almada Negreiros   \n",
       "9     ﻿Entrei numa livraria. Puz-me a contar os livr...     Almada Negreiros   \n",
       "10    ﻿Entrei numa livraria. Puz-me a contar os livr...     Almada Negreiros   \n",
       "11    ﻿Entrei numa livraria. Puz-me a contar os livr...     Almada Negreiros   \n",
       "12    ﻿Entrei numa livraria. Puz-me a contar os livr...     Almada Negreiros   \n",
       "13    ﻿Entrei numa livraria. Puz-me a contar os livr...     Almada Negreiros   \n",
       "14    ﻿Entrei numa livraria. Puz-me a contar os livr...     Almada Negreiros   \n",
       "15    ﻿Entrei numa livraria. Puz-me a contar os livr...     Almada Negreiros   \n",
       "16    ﻿Entrei numa livraria. Puz-me a contar os livr...     Almada Negreiros   \n",
       "17    ﻿espasmos de praiamar transbordam invasão\\na a...     Almada Negreiros   \n",
       "18    ﻿espasmos de praiamar transbordam invasão\\na a...     Almada Negreiros   \n",
       "19    ﻿Em Portugal existe uma unica opinião sobre Ar...     Almada Negreiros   \n",
       "20    ﻿Em Portugal existe uma unica opinião sobre Ar...     Almada Negreiros   \n",
       "21    ﻿\\n\\n\\nO perfume penetrante da sua alma raffin...     Almada Negreiros   \n",
       "22    ﻿\\n\\n\\nO perfume penetrante da sua alma raffin...     Almada Negreiros   \n",
       "23    ﻿\\n\\n\\nO perfume penetrante da sua alma raffin...     Almada Negreiros   \n",
       "24    ﻿\\n\\n\\nO perfume penetrante da sua alma raffin...     Almada Negreiros   \n",
       "25    ﻿\\n\\n\\nO perfume penetrante da sua alma raffin...     Almada Negreiros   \n",
       "26    ﻿\\n\\n\\nO perfume penetrante da sua alma raffin...     Almada Negreiros   \n",
       "27    ﻿\\n\\n\\nO perfume penetrante da sua alma raffin...     Almada Negreiros   \n",
       "28    ﻿\\n\\n\\nO perfume penetrante da sua alma raffin...     Almada Negreiros   \n",
       "29    ﻿\\n\\n\\nO perfume penetrante da sua alma raffin...     Almada Negreiros   \n",
       "...                                                 ...                  ...   \n",
       "6911  LISBOA 2050\\nLisboa, ano de 2050. Um Agosto tã...  Luisa Marques Silva   \n",
       "6912  LISBOA 2050\\nLisboa, ano de 2050. Um Agosto tã...  Luisa Marques Silva   \n",
       "6913  LISBOA 2050\\nLisboa, ano de 2050. Um Agosto tã...  Luisa Marques Silva   \n",
       "6914  LISBOA 2050\\nLisboa, ano de 2050. Um Agosto tã...  Luisa Marques Silva   \n",
       "6915  Imaginem uma planície cujos limites se perdem....  Luisa Marques Silva   \n",
       "6916  Imaginem uma planície cujos limites se perdem....  Luisa Marques Silva   \n",
       "6917  Imaginem uma planície cujos limites se perdem....  Luisa Marques Silva   \n",
       "6918  Gravação número 1 de Mia Torres:\\nDoravante, a...  Luisa Marques Silva   \n",
       "6919  Gravação número 1 de Mia Torres:\\nDoravante, a...  Luisa Marques Silva   \n",
       "6920  Gravação número 1 de Mia Torres:\\nDoravante, a...  Luisa Marques Silva   \n",
       "6921  Gravação número 1 de Mia Torres:\\nDoravante, a...  Luisa Marques Silva   \n",
       "6922  Gravação número 1 de Mia Torres:\\nDoravante, a...  Luisa Marques Silva   \n",
       "6923  Gravação número 1 de Mia Torres:\\nDoravante, a...  Luisa Marques Silva   \n",
       "6924  Gravação número 1 de Mia Torres:\\nDoravante, a...  Luisa Marques Silva   \n",
       "6925  Gravação número 1 de Mia Torres:\\nDoravante, a...  Luisa Marques Silva   \n",
       "6926  Gravação número 1 de Mia Torres:\\nDoravante, a...  Luisa Marques Silva   \n",
       "6927  A ÚLTIMA HISTÓRIA\\nO PEQUENO ALMOÇO\\nNo dia em...  Luisa Marques Silva   \n",
       "6928  A ÚLTIMA HISTÓRIA\\nO PEQUENO ALMOÇO\\nNo dia em...  Luisa Marques Silva   \n",
       "6929  A ÚLTIMA HISTÓRIA\\nO PEQUENO ALMOÇO\\nNo dia em...  Luisa Marques Silva   \n",
       "6930  A ÚLTIMA HISTÓRIA\\nO PEQUENO ALMOÇO\\nNo dia em...  Luisa Marques Silva   \n",
       "6931  A ÚLTIMA HISTÓRIA\\nO PEQUENO ALMOÇO\\nNo dia em...  Luisa Marques Silva   \n",
       "6932  A ÚLTIMA HISTÓRIA\\nO PEQUENO ALMOÇO\\nNo dia em...  Luisa Marques Silva   \n",
       "6933  A ÚLTIMA HISTÓRIA\\nO PEQUENO ALMOÇO\\nNo dia em...  Luisa Marques Silva   \n",
       "6934  A ÚLTIMA HISTÓRIA\\nO PEQUENO ALMOÇO\\nNo dia em...  Luisa Marques Silva   \n",
       "6935  A ÚLTIMA HISTÓRIA\\nO PEQUENO ALMOÇO\\nNo dia em...  Luisa Marques Silva   \n",
       "6936  A ÚLTIMA HISTÓRIA\\nO PEQUENO ALMOÇO\\nNo dia em...  Luisa Marques Silva   \n",
       "6937  A ÚLTIMA HISTÓRIA\\nO PEQUENO ALMOÇO\\nNo dia em...  Luisa Marques Silva   \n",
       "6938  A ÚLTIMA HISTÓRIA\\nO PEQUENO ALMOÇO\\nNo dia em...  Luisa Marques Silva   \n",
       "6939  A ÚLTIMA HISTÓRIA\\nO PEQUENO ALMOÇO\\nNo dia em...  Luisa Marques Silva   \n",
       "6940  A ÚLTIMA HISTÓRIA\\nO PEQUENO ALMOÇO\\nNo dia em...  Luisa Marques Silva   \n",
       "\n",
       "                                             Clean Text  \\\n",
       "0     ﻿ Satanizo-Me Tara na Vara de Moysés! O castig...   \n",
       "1     ﻿ Satanizo-Me Tara na Vara de Moysés! O castig...   \n",
       "2     ﻿ Satanizo-Me Tara na Vara de Moysés! O castig...   \n",
       "3     ﻿ Satanizo-Me Tara na Vara de Moysés! O castig...   \n",
       "4     ﻿Pierrot n'aquella noite depois de muito pensa...   \n",
       "5     ﻿Entrei numa livraria. Puz-me a contar os livr...   \n",
       "6     ﻿Entrei numa livraria. Puz-me a contar os livr...   \n",
       "7     ﻿Entrei numa livraria. Puz-me a contar os livr...   \n",
       "8     ﻿Entrei numa livraria. Puz-me a contar os livr...   \n",
       "9     ﻿Entrei numa livraria. Puz-me a contar os livr...   \n",
       "10    ﻿Entrei numa livraria. Puz-me a contar os livr...   \n",
       "11    ﻿Entrei numa livraria. Puz-me a contar os livr...   \n",
       "12    ﻿Entrei numa livraria. Puz-me a contar os livr...   \n",
       "13    ﻿Entrei numa livraria. Puz-me a contar os livr...   \n",
       "14    ﻿Entrei numa livraria. Puz-me a contar os livr...   \n",
       "15    ﻿Entrei numa livraria. Puz-me a contar os livr...   \n",
       "16    ﻿Entrei numa livraria. Puz-me a contar os livr...   \n",
       "17    ﻿espasmos de praiamar transbordam invasão a ar...   \n",
       "18    ﻿espasmos de praiamar transbordam invasão a ar...   \n",
       "19    ﻿Em Portugal existe uma unica opinião sobre Ar...   \n",
       "20    ﻿Em Portugal existe uma unica opinião sobre Ar...   \n",
       "21    ﻿ O perfume penetrante da sua alma raffinée nã...   \n",
       "22    ﻿ O perfume penetrante da sua alma raffinée nã...   \n",
       "23    ﻿ O perfume penetrante da sua alma raffinée nã...   \n",
       "24    ﻿ O perfume penetrante da sua alma raffinée nã...   \n",
       "25    ﻿ O perfume penetrante da sua alma raffinée nã...   \n",
       "26    ﻿ O perfume penetrante da sua alma raffinée nã...   \n",
       "27    ﻿ O perfume penetrante da sua alma raffinée nã...   \n",
       "28    ﻿ O perfume penetrante da sua alma raffinée nã...   \n",
       "29    ﻿ O perfume penetrante da sua alma raffinée nã...   \n",
       "...                                                 ...   \n",
       "6911  LISBOA 2050 Lisboa, ano de 2050. Um Agosto tão...   \n",
       "6912  LISBOA 2050 Lisboa, ano de 2050. Um Agosto tão...   \n",
       "6913  LISBOA 2050 Lisboa, ano de 2050. Um Agosto tão...   \n",
       "6914  LISBOA 2050 Lisboa, ano de 2050. Um Agosto tão...   \n",
       "6915  Imaginem uma planície cujos limites se perdem....   \n",
       "6916  Imaginem uma planície cujos limites se perdem....   \n",
       "6917  Imaginem uma planície cujos limites se perdem....   \n",
       "6918  Gravação número 1 de Mia Torres: Doravante, as...   \n",
       "6919  Gravação número 1 de Mia Torres: Doravante, as...   \n",
       "6920  Gravação número 1 de Mia Torres: Doravante, as...   \n",
       "6921  Gravação número 1 de Mia Torres: Doravante, as...   \n",
       "6922  Gravação número 1 de Mia Torres: Doravante, as...   \n",
       "6923  Gravação número 1 de Mia Torres: Doravante, as...   \n",
       "6924  Gravação número 1 de Mia Torres: Doravante, as...   \n",
       "6925  Gravação número 1 de Mia Torres: Doravante, as...   \n",
       "6926  Gravação número 1 de Mia Torres: Doravante, as...   \n",
       "6927  A ÚLTIMA HISTÓRIA O PEQUENO ALMOÇO No dia em q...   \n",
       "6928  A ÚLTIMA HISTÓRIA O PEQUENO ALMOÇO No dia em q...   \n",
       "6929  A ÚLTIMA HISTÓRIA O PEQUENO ALMOÇO No dia em q...   \n",
       "6930  A ÚLTIMA HISTÓRIA O PEQUENO ALMOÇO No dia em q...   \n",
       "6931  A ÚLTIMA HISTÓRIA O PEQUENO ALMOÇO No dia em q...   \n",
       "6932  A ÚLTIMA HISTÓRIA O PEQUENO ALMOÇO No dia em q...   \n",
       "6933  A ÚLTIMA HISTÓRIA O PEQUENO ALMOÇO No dia em q...   \n",
       "6934  A ÚLTIMA HISTÓRIA O PEQUENO ALMOÇO No dia em q...   \n",
       "6935  A ÚLTIMA HISTÓRIA O PEQUENO ALMOÇO No dia em q...   \n",
       "6936  A ÚLTIMA HISTÓRIA O PEQUENO ALMOÇO No dia em q...   \n",
       "6937  A ÚLTIMA HISTÓRIA O PEQUENO ALMOÇO No dia em q...   \n",
       "6938  A ÚLTIMA HISTÓRIA O PEQUENO ALMOÇO No dia em q...   \n",
       "6939  A ÚLTIMA HISTÓRIA O PEQUENO ALMOÇO No dia em q...   \n",
       "6940  A ÚLTIMA HISTÓRIA O PEQUENO ALMOÇO No dia em q...   \n",
       "\n",
       "                                              Word List OG Index  \\\n",
       "0     [﻿, Satanizo-Me, Tara, na, Vara, de, Moysés!, ...        0   \n",
       "1     [﻿, Satanizo-Me, Tara, na, Vara, de, Moysés!, ...        0   \n",
       "2     [﻿, Satanizo-Me, Tara, na, Vara, de, Moysés!, ...        0   \n",
       "3     [﻿, Satanizo-Me, Tara, na, Vara, de, Moysés!, ...        0   \n",
       "4     [﻿Pierrot, n'aquella, noite, depois, de, muito...        1   \n",
       "5     [﻿Entrei, numa, livraria., Puz-me, a, contar, ...        2   \n",
       "6     [﻿Entrei, numa, livraria., Puz-me, a, contar, ...        2   \n",
       "7     [﻿Entrei, numa, livraria., Puz-me, a, contar, ...        2   \n",
       "8     [﻿Entrei, numa, livraria., Puz-me, a, contar, ...        2   \n",
       "9     [﻿Entrei, numa, livraria., Puz-me, a, contar, ...        2   \n",
       "10    [﻿Entrei, numa, livraria., Puz-me, a, contar, ...        2   \n",
       "11    [﻿Entrei, numa, livraria., Puz-me, a, contar, ...        2   \n",
       "12    [﻿Entrei, numa, livraria., Puz-me, a, contar, ...        2   \n",
       "13    [﻿Entrei, numa, livraria., Puz-me, a, contar, ...        2   \n",
       "14    [﻿Entrei, numa, livraria., Puz-me, a, contar, ...        2   \n",
       "15    [﻿Entrei, numa, livraria., Puz-me, a, contar, ...        2   \n",
       "16    [﻿Entrei, numa, livraria., Puz-me, a, contar, ...        2   \n",
       "17    [﻿espasmos, de, praiamar, transbordam, invasão...        3   \n",
       "18    [﻿espasmos, de, praiamar, transbordam, invasão...        3   \n",
       "19    [﻿Em, Portugal, existe, uma, unica, opinião, s...        4   \n",
       "20    [﻿Em, Portugal, existe, uma, unica, opinião, s...        4   \n",
       "21    [﻿, O, perfume, penetrante, da, sua, alma, raf...        5   \n",
       "22    [﻿, O, perfume, penetrante, da, sua, alma, raf...        5   \n",
       "23    [﻿, O, perfume, penetrante, da, sua, alma, raf...        5   \n",
       "24    [﻿, O, perfume, penetrante, da, sua, alma, raf...        5   \n",
       "25    [﻿, O, perfume, penetrante, da, sua, alma, raf...        5   \n",
       "26    [﻿, O, perfume, penetrante, da, sua, alma, raf...        5   \n",
       "27    [﻿, O, perfume, penetrante, da, sua, alma, raf...        5   \n",
       "28    [﻿, O, perfume, penetrante, da, sua, alma, raf...        5   \n",
       "29    [﻿, O, perfume, penetrante, da, sua, alma, raf...        5   \n",
       "...                                                 ...      ...   \n",
       "6911  [LISBOA, 2050, Lisboa,, ano, de, 2050., Um, Ag...       59   \n",
       "6912  [LISBOA, 2050, Lisboa,, ano, de, 2050., Um, Ag...       59   \n",
       "6913  [LISBOA, 2050, Lisboa,, ano, de, 2050., Um, Ag...       59   \n",
       "6914  [LISBOA, 2050, Lisboa,, ano, de, 2050., Um, Ag...       59   \n",
       "6915  [Imaginem, uma, planície, cujos, limites, se, ...       60   \n",
       "6916  [Imaginem, uma, planície, cujos, limites, se, ...       60   \n",
       "6917  [Imaginem, uma, planície, cujos, limites, se, ...       60   \n",
       "6918  [Gravação, número, 1, de, Mia, Torres:, Dorava...       61   \n",
       "6919  [Gravação, número, 1, de, Mia, Torres:, Dorava...       61   \n",
       "6920  [Gravação, número, 1, de, Mia, Torres:, Dorava...       61   \n",
       "6921  [Gravação, número, 1, de, Mia, Torres:, Dorava...       61   \n",
       "6922  [Gravação, número, 1, de, Mia, Torres:, Dorava...       61   \n",
       "6923  [Gravação, número, 1, de, Mia, Torres:, Dorava...       61   \n",
       "6924  [Gravação, número, 1, de, Mia, Torres:, Dorava...       61   \n",
       "6925  [Gravação, número, 1, de, Mia, Torres:, Dorava...       61   \n",
       "6926  [Gravação, número, 1, de, Mia, Torres:, Dorava...       61   \n",
       "6927  [A, ÚLTIMA, HISTÓRIA, O, PEQUENO, ALMOÇO, No, ...       62   \n",
       "6928  [A, ÚLTIMA, HISTÓRIA, O, PEQUENO, ALMOÇO, No, ...       62   \n",
       "6929  [A, ÚLTIMA, HISTÓRIA, O, PEQUENO, ALMOÇO, No, ...       62   \n",
       "6930  [A, ÚLTIMA, HISTÓRIA, O, PEQUENO, ALMOÇO, No, ...       62   \n",
       "6931  [A, ÚLTIMA, HISTÓRIA, O, PEQUENO, ALMOÇO, No, ...       62   \n",
       "6932  [A, ÚLTIMA, HISTÓRIA, O, PEQUENO, ALMOÇO, No, ...       62   \n",
       "6933  [A, ÚLTIMA, HISTÓRIA, O, PEQUENO, ALMOÇO, No, ...       62   \n",
       "6934  [A, ÚLTIMA, HISTÓRIA, O, PEQUENO, ALMOÇO, No, ...       62   \n",
       "6935  [A, ÚLTIMA, HISTÓRIA, O, PEQUENO, ALMOÇO, No, ...       62   \n",
       "6936  [A, ÚLTIMA, HISTÓRIA, O, PEQUENO, ALMOÇO, No, ...       62   \n",
       "6937  [A, ÚLTIMA, HISTÓRIA, O, PEQUENO, ALMOÇO, No, ...       62   \n",
       "6938  [A, ÚLTIMA, HISTÓRIA, O, PEQUENO, ALMOÇO, No, ...       62   \n",
       "6939  [A, ÚLTIMA, HISTÓRIA, O, PEQUENO, ALMOÇO, No, ...       62   \n",
       "6940  [A, ÚLTIMA, HISTÓRIA, O, PEQUENO, ALMOÇO, No, ...       62   \n",
       "\n",
       "                                          500 Word List  \\\n",
       "0     [﻿, Satanizo-Me, Tara, na, Vara, de, Moysés!, ...   \n",
       "1     [catitismo, das, lindezas, d'estalo!, Ahi!, lu...   \n",
       "2     [vosso, avental!, E, vós, tambem,, ó, moças, d...   \n",
       "3     [os, cheiros, da, Terra,, come, o, que, a, Ter...   \n",
       "4     [﻿Pierrot, n'aquella, noite, depois, de, muito...   \n",
       "5     [﻿Entrei, numa, livraria., Puz-me, a, contar, ...   \n",
       "6     [que, eu, seja, Mestre!, Eu, acho, que, todos,...   \n",
       "7     [e, como, se, deve, ser, homem., As, senhoras,...   \n",
       "8     [os, logares, e, as, posições, das, palavras.,...   \n",
       "9     [dos, teus, olhos, rasgados., «Tudo, quanto, e...   \n",
       "10    [havia, um, chafariz, para, matar, a, sêde., E...   \n",
       "11    [tu, davas, de, mamar!, Eu, já, estive, comtig...   \n",
       "12    [feita, de, rocha,, é, feita, de, domingos, e,...   \n",
       "13    [que, tu, sabes, do, que, é, necessario, saber...   \n",
       "14    [chove, ponho­me, a, pensar, que, não, sou, eu...   \n",
       "15    [plo, gigante,, quem, poderia,, Mãe,, ter-me, ...   \n",
       "16    [a, que, alturas, pertence., A, frase, é, esta...   \n",
       "17    [﻿espasmos, de, praiamar, transbordam, invasão...   \n",
       "18    [regimento, com, ferrúgem, de, tambôres, dedal...   \n",
       "19    [﻿Em, Portugal, existe, uma, unica, opinião, s...   \n",
       "20    [olhos, e, diz, lá, que, a, Vida, não, é, assi...   \n",
       "21    [﻿, O, perfume, penetrante, da, sua, alma, raf...   \n",
       "22    [prova, d'esta, compreensão, amarrecou-se, n'u...   \n",
       "23    [pertences, de, machina, sem, intensão, e, log...   \n",
       "24    [espiral, de, caixa, de, surprêzas, relativame...   \n",
       "25    [vibração, thoráxica, de, digestão, translucid...   \n",
       "26    [dentro, de, mim, fui, mais, um, grão, de, are...   \n",
       "27    [azul, n'uma, impaciencia, de, côr, á, espera,...   \n",
       "28    [a, minha, intelligencia, a, materia, córante,...   \n",
       "29    [decorativo, pró, meu, apetite, os, cristaes,,...   \n",
       "...                                                 ...   \n",
       "6911  [a, gozar, mesmo…, −, Não, me, aldrabes,, pai....   \n",
       "6912  [sem, olhar, Jaime,, despediu, se, e, subiu., ...   \n",
       "6913  [identificação, a, uma, mulher, que, aguardava...   \n",
       "6914  [desiludido, um, cliente., Pode, ir, deitar, s...   \n",
       "6915  [Imaginem, uma, planície, cujos, limites, se, ...   \n",
       "6916  [pasta, preta,, verde,, vermelha, e, azul,, qu...   \n",
       "6917  [que, se, vão, poder, banquetear, com, o, sucu...   \n",
       "6918  [Gravação, número, 1, de, Mia, Torres:, Dorava...   \n",
       "6919  [para, a, troca?, O, meu, irmão, Miguel, enjoa...   \n",
       "6920  [poucos, metros, do, sítio, onde, nos, encontr...   \n",
       "6921  [com, um, grande, balcão,, uma, dúzia, de, mes...   \n",
       "6922  [rebentada., Entraram., Baptizei-os, de, Gafas...   \n",
       "6923  [as, costas, e, preparou-se, para, partir., Fo...   \n",
       "6924  [dar, um, mortal, para, trás., Subindo, uma, p...   \n",
       "6925  [Norte, da, Europa,, estas, coisas, nunca, aco...   \n",
       "6926  [carinha, do, bebé, que, tenho, nos, braços., ...   \n",
       "6927  [A, ÚLTIMA, HISTÓRIA, O, PEQUENO, ALMOÇO, No, ...   \n",
       "6928  [de, leite, cheio, de, natas,, encaminhou, sof...   \n",
       "6929  [e, pele, de, pêssego;, uma, rapariga, tão, fi...   \n",
       "6930  [José, Carlos, surgisse, na, sua, vida., Aliás...   \n",
       "6931  [melhores!!!”, E, foi, então, que, o, senhor, ...   \n",
       "6932  [ser, o, José, Carlos, e, passava, a, ser, o, ...   \n",
       "6933  [A, confusão, é, total,, os, doentes, surgem, ...   \n",
       "6934  [surpreendido., −, Acho., −, Ora,, que, pergun...   \n",
       "6935  [o, doutor, José, Luís, e, o, inspector, José,...   \n",
       "6936  [e, espalhar, pelas, vizinhas, que, o, marido,...   \n",
       "6937  [Agora, só, falta, incriminar, o, médico,, dar...   \n",
       "6938  [mais, umas, palmadas, no, rabo, do, que, uma,...   \n",
       "6939  [o, imundo, doutor, depois, do, jantar”., E, l...   \n",
       "6940  [aterrorizada, a, querer, abandonar, a, realid...   \n",
       "\n",
       "                                         500 Clean Text  \n",
       "0     ﻿ Satanizo-Me Tara na Vara de Moysés! O castig...  \n",
       "1     catitismo das lindezas d'estalo! Ahi! lucro do...  \n",
       "2     vosso avental! E vós tambem, ó moças da Provin...  \n",
       "3     os cheiros da Terra, come o que a Terra dér, b...  \n",
       "4     ﻿Pierrot n'aquella noite depois de muito pensa...  \n",
       "5     ﻿Entrei numa livraria. Puz-me a contar os livr...  \n",
       "6     que eu seja Mestre! Eu acho que todos os livro...  \n",
       "7     e como se deve ser homem. As senhoras como a m...  \n",
       "8     os logares e as posições das palavras. Segundo...  \n",
       "9     dos teus olhos rasgados. «Tudo quanto eu te di...  \n",
       "10    havia um chafariz para matar a sêde. Eu não sa...  \n",
       "11    tu davas de mamar! Eu já estive comtigo na ter...  \n",
       "12    feita de rocha, é feita de domingos e dos outr...  \n",
       "13    que tu sabes do que é necessario saber, dize e...  \n",
       "14    chove ponho­me a pensar que não sou eu só que ...  \n",
       "15    plo gigante, quem poderia, Mãe, ter-me convenc...  \n",
       "16    a que alturas pertence. A frase é esta: Ha sys...  \n",
       "17    ﻿espasmos de praiamar transbordam invasão a ar...  \n",
       "18    regimento com ferrúgem de tambôres dedal de pr...  \n",
       "19    ﻿Em Portugal existe uma unica opinião sobre Ar...  \n",
       "20    olhos e diz lá que a Vida não é assim? Não esp...  \n",
       "21    ﻿ O perfume penetrante da sua alma raffinée nã...  \n",
       "22    prova d'esta compreensão amarrecou-se n'um des...  \n",
       "23    pertences de machina sem intensão e logo atraí...  \n",
       "24    espiral de caixa de surprêzas relativamente ao...  \n",
       "25    vibração thoráxica de digestão translucida. A ...  \n",
       "26    dentro de mim fui mais um grão de areia a tapa...  \n",
       "27    azul n'uma impaciencia de côr á espera do que ...  \n",
       "28    a minha intelligencia a materia córante das po...  \n",
       "29    decorativo pró meu apetite os cristaes, os ref...  \n",
       "...                                                 ...  \n",
       "6911  a gozar mesmo… − Não me aldrabes, pai. Sei que...  \n",
       "6912  sem olhar Jaime, despediu se e subiu. Estava a...  \n",
       "6913  identificação a uma mulher que aguardava num g...  \n",
       "6914  desiludido um cliente. Pode ir deitar se naque...  \n",
       "6915  Imaginem uma planície cujos limites se perdem....  \n",
       "6916  pasta preta, verde, vermelha e azul, que lhe e...  \n",
       "6917  que se vão poder banquetear com o suculento co...  \n",
       "6918  Gravação número 1 de Mia Torres: Doravante, as...  \n",
       "6919  para a troca? O meu irmão Miguel enjoa quando ...  \n",
       "6920  poucos metros do sítio onde nos encontrávamos....  \n",
       "6921  com um grande balcão, uma dúzia de mesas e cad...  \n",
       "6922  rebentada. Entraram. Baptizei-os de Gafas. Exc...  \n",
       "6923  as costas e preparou-se para partir. Foi quand...  \n",
       "6924  dar um mortal para trás. Subindo uma parede. C...  \n",
       "6925  Norte da Europa, estas coisas nunca aconteciam...  \n",
       "6926  carinha do bebé que tenho nos braços. - ORC co...  \n",
       "6927  A ÚLTIMA HISTÓRIA O PEQUENO ALMOÇO No dia em q...  \n",
       "6928  de leite cheio de natas, encaminhou sofregamen...  \n",
       "6929  e pele de pêssego; uma rapariga tão fina, tão ...  \n",
       "6930  José Carlos surgisse na sua vida. Aliás, segun...  \n",
       "6931  melhores!!!” E foi então que o senhor Dias foi...  \n",
       "6932  ser o José Carlos e passava a ser o José Emanu...  \n",
       "6933  A confusão é total, os doentes surgem nas sole...  \n",
       "6934  surpreendido. − Acho. − Ora, que pergunta, só ...  \n",
       "6935  o doutor José Luís e o inspector José David. O...  \n",
       "6936  e espalhar pelas vizinhas que o marido lhe bat...  \n",
       "6937  Agora só falta incriminar o médico, dar cabo d...  \n",
       "6938  mais umas palmadas no rabo do que uma morte vi...  \n",
       "6939  o imundo doutor depois do jantar”. E lá foi el...  \n",
       "6940  aterrorizada a querer abandonar a realidade. E...  \n",
       "\n",
       "[6941 rows x 7 columns]"
      ]
     },
     "execution_count": 19,
     "metadata": {},
     "output_type": "execute_result"
    }
   ],
   "source": [
    "#corpora = pd.merge(corpora,corpora_500,how='left',left_on=corpora.index,right_on='OG Index')\n",
    "#corpora"
   ]
  },
  {
   "cell_type": "code",
   "execution_count": 25,
   "metadata": {},
   "outputs": [
    {
     "data": {
      "text/html": [
       "<div>\n",
       "<style scoped>\n",
       "    .dataframe tbody tr th:only-of-type {\n",
       "        vertical-align: middle;\n",
       "    }\n",
       "\n",
       "    .dataframe tbody tr th {\n",
       "        vertical-align: top;\n",
       "    }\n",
       "\n",
       "    .dataframe thead th {\n",
       "        text-align: right;\n",
       "    }\n",
       "</style>\n",
       "<table border=\"1\" class=\"dataframe\">\n",
       "  <thead>\n",
       "    <tr style=\"text-align: right;\">\n",
       "      <th></th>\n",
       "      <th>label</th>\n",
       "      <th>500 Word List</th>\n",
       "      <th>500 Clean Text</th>\n",
       "      <th>word_count_clean</th>\n",
       "    </tr>\n",
       "  </thead>\n",
       "  <tbody>\n",
       "    <tr>\n",
       "      <th>0</th>\n",
       "      <td>Almada Negreiros</td>\n",
       "      <td>[﻿, Satanizo-Me, Tara, na, Vara, de, Moysés!, ...</td>\n",
       "      <td>﻿ Satanizo-Me Tara na Vara de Moysés! O castig...</td>\n",
       "      <td>500</td>\n",
       "    </tr>\n",
       "    <tr>\n",
       "      <th>1</th>\n",
       "      <td>Almada Negreiros</td>\n",
       "      <td>[catitismo, das, lindezas, d'estalo!, Ahi!, lu...</td>\n",
       "      <td>catitismo das lindezas d'estalo! Ahi! lucro do...</td>\n",
       "      <td>500</td>\n",
       "    </tr>\n",
       "    <tr>\n",
       "      <th>2</th>\n",
       "      <td>Almada Negreiros</td>\n",
       "      <td>[vosso, avental!, E, vós, tambem,, ó, moças, d...</td>\n",
       "      <td>vosso avental! E vós tambem, ó moças da Provin...</td>\n",
       "      <td>500</td>\n",
       "    </tr>\n",
       "    <tr>\n",
       "      <th>3</th>\n",
       "      <td>Almada Negreiros</td>\n",
       "      <td>[os, cheiros, da, Terra,, come, o, que, a, Ter...</td>\n",
       "      <td>os cheiros da Terra, come o que a Terra dér, b...</td>\n",
       "      <td>229</td>\n",
       "    </tr>\n",
       "    <tr>\n",
       "      <th>4</th>\n",
       "      <td>Almada Negreiros</td>\n",
       "      <td>[﻿Pierrot, n'aquella, noite, depois, de, muito...</td>\n",
       "      <td>﻿Pierrot n'aquella noite depois de muito pensa...</td>\n",
       "      <td>296</td>\n",
       "    </tr>\n",
       "    <tr>\n",
       "      <th>...</th>\n",
       "      <td>...</td>\n",
       "      <td>...</td>\n",
       "      <td>...</td>\n",
       "      <td>...</td>\n",
       "    </tr>\n",
       "    <tr>\n",
       "      <th>6936</th>\n",
       "      <td>Luisa Marques Silva</td>\n",
       "      <td>[e, espalhar, pelas, vizinhas, que, o, marido,...</td>\n",
       "      <td>e espalhar pelas vizinhas que o marido lhe bat...</td>\n",
       "      <td>500</td>\n",
       "    </tr>\n",
       "    <tr>\n",
       "      <th>6937</th>\n",
       "      <td>Luisa Marques Silva</td>\n",
       "      <td>[Agora, só, falta, incriminar, o, médico,, dar...</td>\n",
       "      <td>Agora só falta incriminar o médico, dar cabo d...</td>\n",
       "      <td>500</td>\n",
       "    </tr>\n",
       "    <tr>\n",
       "      <th>6938</th>\n",
       "      <td>Luisa Marques Silva</td>\n",
       "      <td>[mais, umas, palmadas, no, rabo, do, que, uma,...</td>\n",
       "      <td>mais umas palmadas no rabo do que uma morte vi...</td>\n",
       "      <td>500</td>\n",
       "    </tr>\n",
       "    <tr>\n",
       "      <th>6939</th>\n",
       "      <td>Luisa Marques Silva</td>\n",
       "      <td>[o, imundo, doutor, depois, do, jantar”., E, l...</td>\n",
       "      <td>o imundo doutor depois do jantar”. E lá foi el...</td>\n",
       "      <td>500</td>\n",
       "    </tr>\n",
       "    <tr>\n",
       "      <th>6940</th>\n",
       "      <td>Luisa Marques Silva</td>\n",
       "      <td>[aterrorizada, a, querer, abandonar, a, realid...</td>\n",
       "      <td>aterrorizada a querer abandonar a realidade. E...</td>\n",
       "      <td>101</td>\n",
       "    </tr>\n",
       "  </tbody>\n",
       "</table>\n",
       "<p>6941 rows × 4 columns</p>\n",
       "</div>"
      ],
      "text/plain": [
       "                    label                                      500 Word List  \\\n",
       "0        Almada Negreiros  [﻿, Satanizo-Me, Tara, na, Vara, de, Moysés!, ...   \n",
       "1        Almada Negreiros  [catitismo, das, lindezas, d'estalo!, Ahi!, lu...   \n",
       "2        Almada Negreiros  [vosso, avental!, E, vós, tambem,, ó, moças, d...   \n",
       "3        Almada Negreiros  [os, cheiros, da, Terra,, come, o, que, a, Ter...   \n",
       "4        Almada Negreiros  [﻿Pierrot, n'aquella, noite, depois, de, muito...   \n",
       "...                   ...                                                ...   \n",
       "6936  Luisa Marques Silva  [e, espalhar, pelas, vizinhas, que, o, marido,...   \n",
       "6937  Luisa Marques Silva  [Agora, só, falta, incriminar, o, médico,, dar...   \n",
       "6938  Luisa Marques Silva  [mais, umas, palmadas, no, rabo, do, que, uma,...   \n",
       "6939  Luisa Marques Silva  [o, imundo, doutor, depois, do, jantar”., E, l...   \n",
       "6940  Luisa Marques Silva  [aterrorizada, a, querer, abandonar, a, realid...   \n",
       "\n",
       "                                         500 Clean Text  word_count_clean  \n",
       "0     ﻿ Satanizo-Me Tara na Vara de Moysés! O castig...               500  \n",
       "1     catitismo das lindezas d'estalo! Ahi! lucro do...               500  \n",
       "2     vosso avental! E vós tambem, ó moças da Provin...               500  \n",
       "3     os cheiros da Terra, come o que a Terra dér, b...               229  \n",
       "4     ﻿Pierrot n'aquella noite depois de muito pensa...               296  \n",
       "...                                                 ...               ...  \n",
       "6936  e espalhar pelas vizinhas que o marido lhe bat...               500  \n",
       "6937  Agora só falta incriminar o médico, dar cabo d...               500  \n",
       "6938  mais umas palmadas no rabo do que uma morte vi...               500  \n",
       "6939  o imundo doutor depois do jantar”. E lá foi el...               500  \n",
       "6940  aterrorizada a querer abandonar a realidade. E...               101  \n",
       "\n",
       "[6941 rows x 4 columns]"
      ]
     },
     "execution_count": 25,
     "metadata": {},
     "output_type": "execute_result"
    }
   ],
   "source": [
    "word_count = corpora['500 Clean Text'].apply(lambda x: len(str(x).split(\" \")))\n",
    "corpora['word_count_clean'] = word_count\n",
    "\n",
    "corpora"
   ]
  },
  {
   "cell_type": "code",
   "execution_count": 26,
   "metadata": {},
   "outputs": [
    {
     "data": {
      "text/html": [
       "<div>\n",
       "<style scoped>\n",
       "    .dataframe tbody tr th:only-of-type {\n",
       "        vertical-align: middle;\n",
       "    }\n",
       "\n",
       "    .dataframe tbody tr th {\n",
       "        vertical-align: top;\n",
       "    }\n",
       "\n",
       "    .dataframe thead th {\n",
       "        text-align: right;\n",
       "    }\n",
       "</style>\n",
       "<table border=\"1\" class=\"dataframe\">\n",
       "  <thead>\n",
       "    <tr style=\"text-align: right;\">\n",
       "      <th></th>\n",
       "      <th>word_count_clean</th>\n",
       "    </tr>\n",
       "    <tr>\n",
       "      <th>label</th>\n",
       "      <th></th>\n",
       "    </tr>\n",
       "  </thead>\n",
       "  <tbody>\n",
       "    <tr>\n",
       "      <th>Almada Negreiros</th>\n",
       "      <td>32987</td>\n",
       "    </tr>\n",
       "    <tr>\n",
       "      <th>Camilo Castelo Branco</th>\n",
       "      <td>765719</td>\n",
       "    </tr>\n",
       "    <tr>\n",
       "      <th>Eca de Queiros</th>\n",
       "      <td>446489</td>\n",
       "    </tr>\n",
       "    <tr>\n",
       "      <th>Jose Rodrigues dos Santos</th>\n",
       "      <td>1154908</td>\n",
       "    </tr>\n",
       "    <tr>\n",
       "      <th>Jose Saramago</th>\n",
       "      <td>1012743</td>\n",
       "    </tr>\n",
       "    <tr>\n",
       "      <th>Luisa Marques Silva</th>\n",
       "      <td>42322</td>\n",
       "    </tr>\n",
       "  </tbody>\n",
       "</table>\n",
       "</div>"
      ],
      "text/plain": [
       "                           word_count_clean\n",
       "label                                      \n",
       "Almada Negreiros                      32987\n",
       "Camilo Castelo Branco                765719\n",
       "Eca de Queiros                       446489\n",
       "Jose Rodrigues dos Santos           1154908\n",
       "Jose Saramago                       1012743\n",
       "Luisa Marques Silva                   42322"
      ]
     },
     "execution_count": 26,
     "metadata": {},
     "output_type": "execute_result"
    }
   ],
   "source": [
    "corpora.groupby(['label']).sum()"
   ]
  },
  {
   "cell_type": "markdown",
   "metadata": {},
   "source": [
    "## Cross validation sets"
   ]
  },
  {
   "cell_type": "markdown",
   "metadata": {},
   "source": [
    "Using a 5-fold split gives us a 80/20 split"
   ]
  },
  {
   "cell_type": "code",
   "execution_count": 27,
   "metadata": {},
   "outputs": [],
   "source": [
    "from sklearn.model_selection import train_test_split"
   ]
  },
  {
   "cell_type": "code",
   "execution_count": 28,
   "metadata": {},
   "outputs": [],
   "source": [
    "train, test = train_test_split(corpora, test_size=0.2, random_state=42)"
   ]
  },
  {
   "cell_type": "code",
   "execution_count": 30,
   "metadata": {
    "scrolled": true
   },
   "outputs": [
    {
     "data": {
      "text/html": [
       "<div>\n",
       "<style scoped>\n",
       "    .dataframe tbody tr th:only-of-type {\n",
       "        vertical-align: middle;\n",
       "    }\n",
       "\n",
       "    .dataframe tbody tr th {\n",
       "        vertical-align: top;\n",
       "    }\n",
       "\n",
       "    .dataframe thead th {\n",
       "        text-align: right;\n",
       "    }\n",
       "</style>\n",
       "<table border=\"1\" class=\"dataframe\">\n",
       "  <thead>\n",
       "    <tr style=\"text-align: right;\">\n",
       "      <th></th>\n",
       "      <th>label</th>\n",
       "      <th>500 Word List</th>\n",
       "      <th>500 Clean Text</th>\n",
       "      <th>word_count_clean</th>\n",
       "    </tr>\n",
       "  </thead>\n",
       "  <tbody>\n",
       "    <tr>\n",
       "      <th>964</th>\n",
       "      <td>Camilo Castelo Branco</td>\n",
       "      <td>[e, os, filhos, de, pae., O, medico, referiu, ...</td>\n",
       "      <td>e os filhos de pae. O medico referiu a sua his...</td>\n",
       "      <td>500</td>\n",
       "    </tr>\n",
       "    <tr>\n",
       "      <th>1544</th>\n",
       "      <td>Camilo Castelo Branco</td>\n",
       "      <td>[da, casa, dos, marquezes, de, Villa-Real,, po...</td>\n",
       "      <td>da casa dos marquezes de Villa-Real, por onde ...</td>\n",
       "      <td>500</td>\n",
       "    </tr>\n",
       "    <tr>\n",
       "      <th>3950</th>\n",
       "      <td>Jose Rodrigues dos Santos</td>\n",
       "      <td>[Ibn, Taymiyyah,, inclinando, o, corpo, em, si...</td>\n",
       "      <td>Ibn Taymiyyah, inclinando o corpo em sinal de ...</td>\n",
       "      <td>500</td>\n",
       "    </tr>\n",
       "    <tr>\n",
       "      <th>6112</th>\n",
       "      <td>Jose Saramago</td>\n",
       "      <td>[o, não, forem, ler,, apaga-se,, aquece,, não,...</td>\n",
       "      <td>o não forem ler, apaga-se, aquece, não está cá...</td>\n",
       "      <td>500</td>\n",
       "    </tr>\n",
       "    <tr>\n",
       "      <th>4608</th>\n",
       "      <td>Jose Rodrigues dos Santos</td>\n",
       "      <td>[seca,, o, mundo, em, redor, a, andar, à, roda...</td>\n",
       "      <td>seca, o mundo em redor a andar à roda. Porém, ...</td>\n",
       "      <td>500</td>\n",
       "    </tr>\n",
       "    <tr>\n",
       "      <th>...</th>\n",
       "      <td>...</td>\n",
       "      <td>...</td>\n",
       "      <td>...</td>\n",
       "      <td>...</td>\n",
       "    </tr>\n",
       "    <tr>\n",
       "      <th>3772</th>\n",
       "      <td>Jose Rodrigues dos Santos</td>\n",
       "      <td>[e, de, Maomé,, acreditando, que,, através, da...</td>\n",
       "      <td>e de Maomé, acreditando que, através da obediê...</td>\n",
       "      <td>500</td>\n",
       "    </tr>\n",
       "    <tr>\n",
       "      <th>5191</th>\n",
       "      <td>Jose Saramago</td>\n",
       "      <td>[possuir, ainda,, reiniciou, a, caminhada., O,...</td>\n",
       "      <td>possuir ainda, reiniciou a caminhada. O sol ap...</td>\n",
       "      <td>500</td>\n",
       "    </tr>\n",
       "    <tr>\n",
       "      <th>5226</th>\n",
       "      <td>Jose Saramago</td>\n",
       "      <td>[perseguidos, pelos, habitantes, da, cidade,, ...</td>\n",
       "      <td>perseguidos pelos habitantes da cidade, se vir...</td>\n",
       "      <td>500</td>\n",
       "    </tr>\n",
       "    <tr>\n",
       "      <th>5390</th>\n",
       "      <td>Jose Saramago</td>\n",
       "      <td>[e, filha, fitaram-na, com, pontos, de, interr...</td>\n",
       "      <td>e filha fitaram-na com pontos de interrogação ...</td>\n",
       "      <td>500</td>\n",
       "    </tr>\n",
       "    <tr>\n",
       "      <th>860</th>\n",
       "      <td>Camilo Castelo Branco</td>\n",
       "      <td>[o, anjo, da, piedade,, tinha, em, si, um, san...</td>\n",
       "      <td>o anjo da piedade, tinha em si um santo e myst...</td>\n",
       "      <td>500</td>\n",
       "    </tr>\n",
       "  </tbody>\n",
       "</table>\n",
       "<p>5552 rows × 4 columns</p>\n",
       "</div>"
      ],
      "text/plain": [
       "                          label  \\\n",
       "964       Camilo Castelo Branco   \n",
       "1544      Camilo Castelo Branco   \n",
       "3950  Jose Rodrigues dos Santos   \n",
       "6112              Jose Saramago   \n",
       "4608  Jose Rodrigues dos Santos   \n",
       "...                         ...   \n",
       "3772  Jose Rodrigues dos Santos   \n",
       "5191              Jose Saramago   \n",
       "5226              Jose Saramago   \n",
       "5390              Jose Saramago   \n",
       "860       Camilo Castelo Branco   \n",
       "\n",
       "                                          500 Word List  \\\n",
       "964   [e, os, filhos, de, pae., O, medico, referiu, ...   \n",
       "1544  [da, casa, dos, marquezes, de, Villa-Real,, po...   \n",
       "3950  [Ibn, Taymiyyah,, inclinando, o, corpo, em, si...   \n",
       "6112  [o, não, forem, ler,, apaga-se,, aquece,, não,...   \n",
       "4608  [seca,, o, mundo, em, redor, a, andar, à, roda...   \n",
       "...                                                 ...   \n",
       "3772  [e, de, Maomé,, acreditando, que,, através, da...   \n",
       "5191  [possuir, ainda,, reiniciou, a, caminhada., O,...   \n",
       "5226  [perseguidos, pelos, habitantes, da, cidade,, ...   \n",
       "5390  [e, filha, fitaram-na, com, pontos, de, interr...   \n",
       "860   [o, anjo, da, piedade,, tinha, em, si, um, san...   \n",
       "\n",
       "                                         500 Clean Text  word_count_clean  \n",
       "964   e os filhos de pae. O medico referiu a sua his...               500  \n",
       "1544  da casa dos marquezes de Villa-Real, por onde ...               500  \n",
       "3950  Ibn Taymiyyah, inclinando o corpo em sinal de ...               500  \n",
       "6112  o não forem ler, apaga-se, aquece, não está cá...               500  \n",
       "4608  seca, o mundo em redor a andar à roda. Porém, ...               500  \n",
       "...                                                 ...               ...  \n",
       "3772  e de Maomé, acreditando que, através da obediê...               500  \n",
       "5191  possuir ainda, reiniciou a caminhada. O sol ap...               500  \n",
       "5226  perseguidos pelos habitantes da cidade, se vir...               500  \n",
       "5390  e filha fitaram-na com pontos de interrogação ...               500  \n",
       "860   o anjo da piedade, tinha em si um santo e myst...               500  \n",
       "\n",
       "[5552 rows x 4 columns]"
      ]
     },
     "execution_count": 30,
     "metadata": {},
     "output_type": "execute_result"
    }
   ],
   "source": [
    "train"
   ]
  },
  {
   "cell_type": "code",
   "execution_count": 31,
   "metadata": {},
   "outputs": [
    {
     "data": {
      "text/html": [
       "<div>\n",
       "<style scoped>\n",
       "    .dataframe tbody tr th:only-of-type {\n",
       "        vertical-align: middle;\n",
       "    }\n",
       "\n",
       "    .dataframe tbody tr th {\n",
       "        vertical-align: top;\n",
       "    }\n",
       "\n",
       "    .dataframe thead th {\n",
       "        text-align: right;\n",
       "    }\n",
       "</style>\n",
       "<table border=\"1\" class=\"dataframe\">\n",
       "  <thead>\n",
       "    <tr style=\"text-align: right;\">\n",
       "      <th></th>\n",
       "      <th>label</th>\n",
       "      <th>500 Word List</th>\n",
       "      <th>500 Clean Text</th>\n",
       "      <th>word_count_clean</th>\n",
       "    </tr>\n",
       "  </thead>\n",
       "  <tbody>\n",
       "    <tr>\n",
       "      <th>4332</th>\n",
       "      <td>Jose Rodrigues dos Santos</td>\n",
       "      <td>[paz!\", Mas, Diogo, corria, atrás, dela., \"Esp...</td>\n",
       "      <td>paz!\" Mas Diogo corria atrás dela. \"Espera!\", ...</td>\n",
       "      <td>500</td>\n",
       "    </tr>\n",
       "    <tr>\n",
       "      <th>6720</th>\n",
       "      <td>Jose Saramago</td>\n",
       "      <td>[de, cima?, Com, um, resmungo, sufocado, de, p...</td>\n",
       "      <td>de cima? Com um resmungo sufocado de protesto,...</td>\n",
       "      <td>500</td>\n",
       "    </tr>\n",
       "    <tr>\n",
       "      <th>6780</th>\n",
       "      <td>Jose Saramago</td>\n",
       "      <td>[ainda, tardará., nervoso,, excitado,, o, coma...</td>\n",
       "      <td>ainda tardará. nervoso, excitado, o comandante...</td>\n",
       "      <td>500</td>\n",
       "    </tr>\n",
       "    <tr>\n",
       "      <th>6589</th>\n",
       "      <td>Jose Saramago</td>\n",
       "      <td>[não, pôde, deixar, de, sorrir, por, entre, as...</td>\n",
       "      <td>não pôde deixar de sorrir por entre as lágrima...</td>\n",
       "      <td>500</td>\n",
       "    </tr>\n",
       "    <tr>\n",
       "      <th>6566</th>\n",
       "      <td>Jose Saramago</td>\n",
       "      <td>[de, cinema,, a, promessa, que, ele, fizera, d...</td>\n",
       "      <td>de cinema, a promessa que ele fizera de que um...</td>\n",
       "      <td>500</td>\n",
       "    </tr>\n",
       "    <tr>\n",
       "      <th>...</th>\n",
       "      <td>...</td>\n",
       "      <td>...</td>\n",
       "      <td>...</td>\n",
       "      <td>...</td>\n",
       "    </tr>\n",
       "    <tr>\n",
       "      <th>33</th>\n",
       "      <td>Almada Negreiros</td>\n",
       "      <td>[Eu,, portanto,, o, poeta, José, de, Almada-Ne...</td>\n",
       "      <td>Eu, portanto, o poeta José de Almada-Negreiros...</td>\n",
       "      <td>306</td>\n",
       "    </tr>\n",
       "    <tr>\n",
       "      <th>4990</th>\n",
       "      <td>Jose Saramago</td>\n",
       "      <td>[do, que, vais, ouvir,, Prometo,, Nem, uma, só...</td>\n",
       "      <td>do que vais ouvir, Prometo, Nem uma só palavra...</td>\n",
       "      <td>500</td>\n",
       "    </tr>\n",
       "    <tr>\n",
       "      <th>44</th>\n",
       "      <td>Almada Negreiros</td>\n",
       "      <td>[por, causa, dos, pinhões, que, ficaram, na, m...</td>\n",
       "      <td>por causa dos pinhões que ficaram na mão d'ell...</td>\n",
       "      <td>500</td>\n",
       "    </tr>\n",
       "    <tr>\n",
       "      <th>3307</th>\n",
       "      <td>Jose Rodrigues dos Santos</td>\n",
       "      <td>[que, correra, mal, e, tomaram, consciência, d...</td>\n",
       "      <td>que correra mal e tomaram consciência de que, ...</td>\n",
       "      <td>500</td>\n",
       "    </tr>\n",
       "    <tr>\n",
       "      <th>3043</th>\n",
       "      <td>Jose Rodrigues dos Santos</td>\n",
       "      <td>[interessava., \"Ouça,, pode, ajudar-me, ou, nã...</td>\n",
       "      <td>interessava. \"Ouça, pode ajudar-me ou não?\" \"C...</td>\n",
       "      <td>500</td>\n",
       "    </tr>\n",
       "  </tbody>\n",
       "</table>\n",
       "<p>1389 rows × 4 columns</p>\n",
       "</div>"
      ],
      "text/plain": [
       "                          label  \\\n",
       "4332  Jose Rodrigues dos Santos   \n",
       "6720              Jose Saramago   \n",
       "6780              Jose Saramago   \n",
       "6589              Jose Saramago   \n",
       "6566              Jose Saramago   \n",
       "...                         ...   \n",
       "33             Almada Negreiros   \n",
       "4990              Jose Saramago   \n",
       "44             Almada Negreiros   \n",
       "3307  Jose Rodrigues dos Santos   \n",
       "3043  Jose Rodrigues dos Santos   \n",
       "\n",
       "                                          500 Word List  \\\n",
       "4332  [paz!\", Mas, Diogo, corria, atrás, dela., \"Esp...   \n",
       "6720  [de, cima?, Com, um, resmungo, sufocado, de, p...   \n",
       "6780  [ainda, tardará., nervoso,, excitado,, o, coma...   \n",
       "6589  [não, pôde, deixar, de, sorrir, por, entre, as...   \n",
       "6566  [de, cinema,, a, promessa, que, ele, fizera, d...   \n",
       "...                                                 ...   \n",
       "33    [Eu,, portanto,, o, poeta, José, de, Almada-Ne...   \n",
       "4990  [do, que, vais, ouvir,, Prometo,, Nem, uma, só...   \n",
       "44    [por, causa, dos, pinhões, que, ficaram, na, m...   \n",
       "3307  [que, correra, mal, e, tomaram, consciência, d...   \n",
       "3043  [interessava., \"Ouça,, pode, ajudar-me, ou, nã...   \n",
       "\n",
       "                                         500 Clean Text  word_count_clean  \n",
       "4332  paz!\" Mas Diogo corria atrás dela. \"Espera!\", ...               500  \n",
       "6720  de cima? Com um resmungo sufocado de protesto,...               500  \n",
       "6780  ainda tardará. nervoso, excitado, o comandante...               500  \n",
       "6589  não pôde deixar de sorrir por entre as lágrima...               500  \n",
       "6566  de cinema, a promessa que ele fizera de que um...               500  \n",
       "...                                                 ...               ...  \n",
       "33    Eu, portanto, o poeta José de Almada-Negreiros...               306  \n",
       "4990  do que vais ouvir, Prometo, Nem uma só palavra...               500  \n",
       "44    por causa dos pinhões que ficaram na mão d'ell...               500  \n",
       "3307  que correra mal e tomaram consciência de que, ...               500  \n",
       "3043  interessava. \"Ouça, pode ajudar-me ou não?\" \"C...               500  \n",
       "\n",
       "[1389 rows x 4 columns]"
      ]
     },
     "execution_count": 31,
     "metadata": {},
     "output_type": "execute_result"
    }
   ],
   "source": [
    "test"
   ]
  },
  {
   "cell_type": "code",
   "execution_count": 45,
   "metadata": {},
   "outputs": [],
   "source": [
    "tf_idf = TfidfVectorizer(\n",
    "    lowercase=False,\n",
    "    max_df=0.9,\n",
    "    stop_words=None,\n",
    "    max_features=10000, \n",
    "    ngram_range=(1,2)\n",
    ")"
   ]
  },
  {
   "cell_type": "code",
   "execution_count": 46,
   "metadata": {},
   "outputs": [],
   "source": [
    "train_features = tf_idf.fit_transform(list(train[\"500 Clean Text\"]))"
   ]
  },
  {
   "cell_type": "code",
   "execution_count": 47,
   "metadata": {},
   "outputs": [
    {
     "data": {
      "text/plain": [
       "(5552, 10000)"
      ]
     },
     "execution_count": 47,
     "metadata": {},
     "output_type": "execute_result"
    }
   ],
   "source": [
    "train_features.shape"
   ]
  },
  {
   "cell_type": "code",
   "execution_count": 48,
   "metadata": {},
   "outputs": [],
   "source": [
    "MultinomialNB?"
   ]
  },
  {
   "cell_type": "code",
   "execution_count": 49,
   "metadata": {},
   "outputs": [],
   "source": [
    "nb = MultinomialNB()"
   ]
  },
  {
   "cell_type": "code",
   "execution_count": 50,
   "metadata": {},
   "outputs": [
    {
     "data": {
      "text/plain": [
       "MultinomialNB(alpha=1.0, class_prior=None, fit_prior=True)"
      ]
     },
     "execution_count": 50,
     "metadata": {},
     "output_type": "execute_result"
    }
   ],
   "source": [
    "nb.fit(train_features, list(train['label']))"
   ]
  },
  {
   "cell_type": "code",
   "execution_count": 51,
   "metadata": {},
   "outputs": [],
   "source": [
    "test_features = tf_idf.transform(list(test[\"500 Clean Text\"]))\n",
    "y_pred = nb.predict(test_features)"
   ]
  },
  {
   "cell_type": "code",
   "execution_count": 52,
   "metadata": {},
   "outputs": [
    {
     "data": {
      "text/plain": [
       "array(['Jose Rodrigues dos Santos', 'Jose Saramago', 'Jose Saramago', ...,\n",
       "       'Eca de Queiros', 'Jose Rodrigues dos Santos',\n",
       "       'Jose Rodrigues dos Santos'], dtype='<U25')"
      ]
     },
     "execution_count": 52,
     "metadata": {},
     "output_type": "execute_result"
    }
   ],
   "source": [
    "y_pred"
   ]
  },
  {
   "cell_type": "code",
   "execution_count": 53,
   "metadata": {},
   "outputs": [
    {
     "data": {
      "text/plain": [
       "0.9676025917926566"
      ]
     },
     "execution_count": 53,
     "metadata": {},
     "output_type": "execute_result"
    }
   ],
   "source": [
    "accuracy_score(list(test[\"label\"]), y_pred)"
   ]
  },
  {
   "cell_type": "code",
   "execution_count": null,
   "metadata": {},
   "outputs": [],
   "source": []
  },
  {
   "cell_type": "code",
   "execution_count": null,
   "metadata": {},
   "outputs": [],
   "source": []
  },
  {
   "cell_type": "code",
   "execution_count": null,
   "metadata": {},
   "outputs": [],
   "source": []
  },
  {
   "cell_type": "code",
   "execution_count": null,
   "metadata": {},
   "outputs": [],
   "source": []
  },
  {
   "cell_type": "code",
   "execution_count": null,
   "metadata": {},
   "outputs": [],
   "source": []
  },
  {
   "cell_type": "code",
   "execution_count": 22,
   "metadata": {
    "scrolled": true
   },
   "outputs": [
    {
     "data": {
      "text/plain": [
       "[(array([   1,    3,    4, ..., 6938, 6939, 6940]),\n",
       "  array([   0,    2,    8, ..., 6932, 6933, 6934])),\n",
       " (array([   0,    2,    3, ..., 6936, 6939, 6940]),\n",
       "  array([   1,    6,   10, ..., 6922, 6937, 6938])),\n",
       " (array([   0,    1,    2, ..., 6937, 6938, 6940]),\n",
       "  array([   3,   14,   16, ..., 6935, 6936, 6939])),\n",
       " (array([   0,    1,    2, ..., 6938, 6939, 6940]),\n",
       "  array([   4,    7,   13, ..., 6929, 6930, 6931])),\n",
       " (array([   0,    1,    2, ..., 6937, 6938, 6939]),\n",
       "  array([   5,    9,   11, ..., 6924, 6927, 6940]))]"
      ]
     },
     "execution_count": 22,
     "metadata": {},
     "output_type": "execute_result"
    }
   ],
   "source": [
    "kf = StratifiedKFold(n_splits=5,shuffle=True)\n",
    "train_test_splits = []\n",
    "\n",
    "for train_index, test_index in kf.split(corpora.drop('Author',1),corpora['Author']):\n",
    "    train_test_splits.append((train_index,test_index))\n",
    "    \n",
    "train_test_splits"
   ]
  },
  {
   "cell_type": "code",
   "execution_count": 23,
   "metadata": {},
   "outputs": [],
   "source": [
    "corpora_train_1 = corpora.iloc[train_test_splits[0][0]].reset_index().drop('index',1)\n",
    "corpora_test_1 = corpora.iloc[train_test_splits[0][1]].reset_index().drop('index',1)\n",
    "\n",
    "corpora_train_2 = corpora.iloc[train_test_splits[1][0]].reset_index().drop('index',1)\n",
    "corpora_test_2 = corpora.iloc[train_test_splits[1][1]].reset_index().drop('index',1)\n",
    "\n",
    "corpora_train_3 = corpora.iloc[train_test_splits[2][0]].reset_index().drop('index',1)\n",
    "corpora_test_3 = corpora.iloc[train_test_splits[2][1]].reset_index().drop('index',1)\n",
    "\n",
    "corpora_train_4 = corpora.iloc[train_test_splits[3][0]].reset_index().drop('index',1)\n",
    "corpora_test_4 = corpora.iloc[train_test_splits[3][1]].reset_index().drop('index',1)\n",
    "\n",
    "corpora_train_5 = corpora.iloc[train_test_splits[4][0]].reset_index().drop('index',1)\n",
    "corpora_test_5 = corpora.iloc[train_test_splits[4][1]].reset_index().drop('index',1)"
   ]
  },
  {
   "cell_type": "markdown",
   "metadata": {},
   "source": [
    "## Data exploration"
   ]
  },
  {
   "cell_type": "code",
   "execution_count": 24,
   "metadata": {},
   "outputs": [
    {
     "data": {
      "text/plain": [
       "count    6941.000000\n",
       "mean      497.791096\n",
       "std        26.539278\n",
       "min        10.000000\n",
       "25%       500.000000\n",
       "50%       500.000000\n",
       "75%       500.000000\n",
       "max       500.000000\n",
       "Name: word_count_clean, dtype: float64"
      ]
     },
     "execution_count": 24,
     "metadata": {},
     "output_type": "execute_result"
    }
   ],
   "source": [
    "corpora.word_count_clean.describe()"
   ]
  },
  {
   "cell_type": "code",
   "execution_count": 25,
   "metadata": {},
   "outputs": [],
   "source": [
    "all_words = ' '.join(corpora['500 Clean Text']).split()"
   ]
  },
  {
   "cell_type": "code",
   "execution_count": 26,
   "metadata": {},
   "outputs": [],
   "source": [
    "freq = pd.Series(all_words).value_counts()"
   ]
  },
  {
   "cell_type": "code",
   "execution_count": 27,
   "metadata": {},
   "outputs": [
    {
     "data": {
      "text/plain": [
       "a       127400\n",
       "de      119391\n",
       "que     113389\n",
       "o       102892\n",
       "e        88052\n",
       "do       41993\n",
       "não      40360\n",
       "da       37595\n",
       "um       35953\n",
       "se       35381\n",
       "com      33404\n",
       "os       33379\n",
       "para     32552\n",
       "em       27467\n",
       "uma      27140\n",
       "as       24542\n",
       "é        22835\n",
       "no       19772\n",
       "por      19713\n",
       "na       17643\n",
       "dtype: int64"
      ]
     },
     "execution_count": 27,
     "metadata": {},
     "output_type": "execute_result"
    }
   ],
   "source": [
    "freq[:20]"
   ]
  },
  {
   "cell_type": "code",
   "execution_count": 28,
   "metadata": {},
   "outputs": [],
   "source": [
    "stopwords = set(stopwords.words(\"portuguese\"))\n",
    "stop_words = []\n",
    "for word in stopwords:\n",
    "    word = unidecode(word)\n",
    "    stop_words.append(word)"
   ]
  },
  {
   "cell_type": "code",
   "execution_count": 29,
   "metadata": {},
   "outputs": [
    {
     "data": {
      "text/plain": [
       "18"
      ]
     },
     "execution_count": 29,
     "metadata": {},
     "output_type": "execute_result"
    }
   ],
   "source": [
    "count = 0\n",
    "\n",
    "for word in freq.index[:20]:\n",
    "    if word in stop_words:\n",
    "        count += 1\n",
    "count"
   ]
  },
  {
   "cell_type": "markdown",
   "metadata": {},
   "source": [
    "The 20 most common words in the corpora are stop words."
   ]
  },
  {
   "cell_type": "code",
   "execution_count": 30,
   "metadata": {},
   "outputs": [],
   "source": [
    "def get_top_n_grams(corpus, top_k, n):\n",
    "    \"\"\"\n",
    "    Function that receives a list of documents (corpus) and extracts\n",
    "        the top k most frequent n-grams for that corpus.\n",
    "        \n",
    "    :param corpus: list of texts\n",
    "    :param top_k: int with the number of n-grams that we want to extract\n",
    "    :param n: n gram type to be considered \n",
    "             (if n=1 extracts unigrams, if n=2 extracts bigrams, ...)\n",
    "             \n",
    "    :return: Returns a sorted dataframe in which the first column \n",
    "        contains the extracted ngrams and the second column contains\n",
    "        the respective counts\n",
    "    \"\"\"\n",
    "    vec = CountVectorizer(ngram_range=(n, n), max_features=2000).fit(corpus)\n",
    "    \n",
    "    bag_of_words = vec.transform(corpus)\n",
    "    \n",
    "    sum_words = bag_of_words.sum(axis=0) \n",
    "    \n",
    "    words_freq = []\n",
    "    for word, idx in vec.vocabulary_.items():\n",
    "        words_freq.append((word, sum_words[0, idx]))\n",
    "        \n",
    "    words_freq = sorted(words_freq, key=lambda x: x[1], reverse=True)\n",
    "    top_df = pd.DataFrame(words_freq[:top_k])\n",
    "    top_df.columns = [\"Ngram\", \"Freq\"]\n",
    "    return top_df"
   ]
  },
  {
   "cell_type": "code",
   "execution_count": 31,
   "metadata": {},
   "outputs": [],
   "source": [
    "def plot_frequencies(top_df):\n",
    "    \"\"\"\n",
    "    Function that receives a dataframe from the \"get_top_n_grams\" function\n",
    "    and plots the frequencies in a bar plot.\n",
    "    \"\"\"\n",
    "    x_labels = top_df[\"Ngram\"][:30]\n",
    "    y_pos = np.arange(len(x_labels))\n",
    "    values = top_df[\"Freq\"][:30]\n",
    "    plt.bar(y_pos, values, align='center', alpha=0.5)\n",
    "    plt.xticks(y_pos, x_labels)\n",
    "    plt.ylabel('Frequencies')\n",
    "    plt.title('Words')\n",
    "    plt.xticks(rotation=90)\n",
    "    plt.show()"
   ]
  },
  {
   "cell_type": "code",
   "execution_count": 32,
   "metadata": {
    "scrolled": true
   },
   "outputs": [
    {
     "data": {
      "image/png": "[encoded data removed]",
      "text/plain": [
       "<Figure size 432x288 with 1 Axes>"
      ]
     },
     "metadata": {
      "needs_background": "light"
     },
     "output_type": "display_data"
    },
    {
     "data": {
      "image/png": "[encoded data removed]",
      "text/plain": [
       "<Figure size 432x288 with 1 Axes>"
      ]
     },
     "metadata": {
      "needs_background": "light"
     },
     "output_type": "display_data"
    },
    {
     "data": {
      "image/png": "[encoded data removed]",
      "text/plain": [
       "<Figure size 432x288 with 1 Axes>"
      ]
     },
     "metadata": {
      "needs_background": "light"
     },
     "output_type": "display_data"
    },
    {
     "data": {
      "image/png": "[encoded data removed]",
      "text/plain": [
       "<Figure size 432x288 with 1 Axes>"
      ]
     },
     "metadata": {
      "needs_background": "light"
     },
     "output_type": "display_data"
    },
    {
     "data": {
      "image/png": "[encoded data removed]",
      "text/plain": [
       "<Figure size 432x288 with 1 Axes>"
      ]
     },
     "metadata": {
      "needs_background": "light"
     },
     "output_type": "display_data"
    }
   ],
   "source": [
    "for i in range(1,6):\n",
    "    top = get_top_n_grams(corpora[\"500 Clean Text\"], top_k=20, n=i)\n",
    "    plot_frequencies(top)"
   ]
  },
  {
   "cell_type": "markdown",
   "metadata": {},
   "source": [
    "From these graphics we can see that up to 2-grams we are catching expressions, but from 3-grams onwards we are just finding parts of sentences that are common but are not actual expressions that would be relevant. This is relevant because when we vectorize the texts to a Bag-of-Words or TF-IDf model we will want to catch the 2-grams but not the 3-grams."
   ]
  },
  {
   "cell_type": "markdown",
   "metadata": {},
   "source": [
    "## Convert text into vectors"
   ]
  },
  {
   "cell_type": "markdown",
   "metadata": {},
   "source": [
    "### Bag-of-words"
   ]
  },
  {
   "cell_type": "code",
   "execution_count": 33,
   "metadata": {},
   "outputs": [
    {
     "data": {
      "text/plain": [
       "'\\ncv = CountVectorizer(\\n    max_df=0.8,\\n    stop_words=stop_words, \\n    max_features=10000, \\n    ngram_range=(1,2)\\n)\\n'"
      ]
     },
     "execution_count": 33,
     "metadata": {},
     "output_type": "execute_result"
    }
   ],
   "source": [
    "\"\"\"\n",
    "cv = CountVectorizer(\n",
    "    max_df=0.8,\n",
    "    stop_words=stop_words, \n",
    "    max_features=10000, \n",
    "    ngram_range=(1,2)\n",
    ")\n",
    "\"\"\""
   ]
  },
  {
   "cell_type": "code",
   "execution_count": 34,
   "metadata": {},
   "outputs": [
    {
     "data": {
      "text/plain": [
       "\"\\nX_train_cv_1 = cv.fit_transform(corpora_train_1['500 Clean Text'])\\nX_train_cv_2 = cv.fit_transform(corpora_train_2['500 Clean Text'])\\nX_train_cv_3 = cv.fit_transform(corpora_train_3['500 Clean Text'])\\nX_train_cv_4 = cv.fit_transform(corpora_train_4['500 Clean Text'])\\nX_train_cv_5 = cv.fit_transform(corpora_train_5['500 Clean Text'])\\n\""
      ]
     },
     "execution_count": 34,
     "metadata": {},
     "output_type": "execute_result"
    }
   ],
   "source": [
    "\"\"\"\n",
    "X_train_cv_1 = cv.fit_transform(corpora_train_1['500 Clean Text'])\n",
    "X_train_cv_2 = cv.fit_transform(corpora_train_2['500 Clean Text'])\n",
    "X_train_cv_3 = cv.fit_transform(corpora_train_3['500 Clean Text'])\n",
    "X_train_cv_4 = cv.fit_transform(corpora_train_4['500 Clean Text'])\n",
    "X_train_cv_5 = cv.fit_transform(corpora_train_5['500 Clean Text'])\n",
    "\"\"\""
   ]
  },
  {
   "cell_type": "code",
   "execution_count": 35,
   "metadata": {},
   "outputs": [
    {
     "data": {
      "text/plain": [
       "\"\\nX_test_cv_1 = cv.fit_transform(corpora_test_1['500 Clean Text'])\\nX_test_cv_2 = cv.fit_transform(corpora_test_2['500 Clean Text'])\\nX_test_cv_3 = cv.fit_transform(corpora_test_3['500 Clean Text'])\\nX_test_cv_4 = cv.fit_transform(corpora_test_4['500 Clean Text'])\\nX_test_cv_5 = cv.fit_transform(corpora_test_5['500 Clean Text'])\\n\""
      ]
     },
     "execution_count": 35,
     "metadata": {},
     "output_type": "execute_result"
    }
   ],
   "source": [
    "\"\"\"\n",
    "X_test_cv_1 = cv.fit_transform(corpora_test_1['500 Clean Text'])\n",
    "X_test_cv_2 = cv.fit_transform(corpora_test_2['500 Clean Text'])\n",
    "X_test_cv_3 = cv.fit_transform(corpora_test_3['500 Clean Text'])\n",
    "X_test_cv_4 = cv.fit_transform(corpora_test_4['500 Clean Text'])\n",
    "X_test_cv_5 = cv.fit_transform(corpora_test_5['500 Clean Text'])\n",
    "\"\"\""
   ]
  },
  {
   "cell_type": "markdown",
   "metadata": {},
   "source": [
    "### TF-IDF"
   ]
  },
  {
   "cell_type": "code",
   "execution_count": 36,
   "metadata": {},
   "outputs": [],
   "source": [
    "tf_idf = TfidfVectorizer(\n",
    "    lowercase=False,\n",
    "    max_df=0.8,\n",
    "    stop_words=stop_words,\n",
    "    max_features=10000, \n",
    "    ngram_range=(1,2)\n",
    ")"
   ]
  },
  {
   "cell_type": "code",
   "execution_count": 37,
   "metadata": {},
   "outputs": [],
   "source": [
    "X_train_tf_idf_1 = tf_idf.fit_transform(corpora_train_1['500 Clean Text'])\n",
    "X_train_tf_idf_2 = tf_idf.fit_transform(corpora_train_2['500 Clean Text'])\n",
    "X_train_tf_idf_3 = tf_idf.fit_transform(corpora_train_3['500 Clean Text'])\n",
    "X_train_tf_idf_4 = tf_idf.fit_transform(corpora_train_4['500 Clean Text'])\n",
    "X_train_tf_idf_5 = tf_idf.fit_transform(corpora_train_5['500 Clean Text'])"
   ]
  },
  {
   "cell_type": "code",
   "execution_count": 38,
   "metadata": {},
   "outputs": [],
   "source": [
    "X_test_tf_idf_1 = tf_idf.fit_transform(corpora_test_1['500 Clean Text'])\n",
    "X_test_tf_idf_2 = tf_idf.fit_transform(corpora_test_2['500 Clean Text'])\n",
    "X_test_tf_idf_3 = tf_idf.fit_transform(corpora_test_3['500 Clean Text'])\n",
    "X_test_tf_idf_4 = tf_idf.fit_transform(corpora_test_4['500 Clean Text'])\n",
    "X_test_tf_idf_5 = tf_idf.fit_transform(corpora_test_5['500 Clean Text'])"
   ]
  },
  {
   "cell_type": "markdown",
   "metadata": {},
   "source": [
    "### Word2Vec"
   ]
  },
  {
   "cell_type": "code",
   "execution_count": 39,
   "metadata": {},
   "outputs": [
    {
     "data": {
      "text/plain": [
       "\"\\nX_train_w2v_1 = gensim.models.Word2Vec(corpora_train_1['500 Word List'],min_count=0,workers=4)\\nX_train_w2v_2 = gensim.models.Word2Vec(corpora_train_2['500 Word List'],min_count=0,workers=4)\\nX_train_w2v_3 = gensim.models.Word2Vec(corpora_train_3['500 Word List'],min_count=0,workers=4)\\nX_train_w2v_4 = gensim.models.Word2Vec(corpora_train_4['500 Word List'],min_count=0,workers=4)\\nX_train_w2v_5 = gensim.models.Word2Vec(corpora_train_5['500 Word List'],min_count=0,workers=4)\\n\""
      ]
     },
     "execution_count": 39,
     "metadata": {},
     "output_type": "execute_result"
    }
   ],
   "source": [
    "\"\"\"\n",
    "X_train_w2v_1 = gensim.models.Word2Vec(corpora_train_1['500 Word List'],min_count=0,workers=4)\n",
    "X_train_w2v_2 = gensim.models.Word2Vec(corpora_train_2['500 Word List'],min_count=0,workers=4)\n",
    "X_train_w2v_3 = gensim.models.Word2Vec(corpora_train_3['500 Word List'],min_count=0,workers=4)\n",
    "X_train_w2v_4 = gensim.models.Word2Vec(corpora_train_4['500 Word List'],min_count=0,workers=4)\n",
    "X_train_w2v_5 = gensim.models.Word2Vec(corpora_train_5['500 Word List'],min_count=0,workers=4)\n",
    "\"\"\""
   ]
  },
  {
   "cell_type": "code",
   "execution_count": 40,
   "metadata": {},
   "outputs": [
    {
     "data": {
      "text/plain": [
       "\"\\nX_test_w2v_1 = gensim.models.Word2Vec(corpora_test_1['500 Word List'],min_count=0,workers=4)\\nX_test_w2v_2 = gensim.models.Word2Vec(corpora_test_2['500 Word List'],min_count=0,workers=4)\\nX_test_w2v_3 = gensim.models.Word2Vec(corpora_test_3['500 Word List'],min_count=0,workers=4)\\nX_test_w2v_4 = gensim.models.Word2Vec(corpora_test_4['500 Word List'],min_count=0,workers=4)\\nX_test_w2v_5 = gensim.models.Word2Vec(corpora_test_5['500 Word List'],min_count=0,workers=4)\\n\""
      ]
     },
     "execution_count": 40,
     "metadata": {},
     "output_type": "execute_result"
    }
   ],
   "source": [
    "\"\"\"\n",
    "X_test_w2v_1 = gensim.models.Word2Vec(corpora_test_1['500 Word List'],min_count=0,workers=4)\n",
    "X_test_w2v_2 = gensim.models.Word2Vec(corpora_test_2['500 Word List'],min_count=0,workers=4)\n",
    "X_test_w2v_3 = gensim.models.Word2Vec(corpora_test_3['500 Word List'],min_count=0,workers=4)\n",
    "X_test_w2v_4 = gensim.models.Word2Vec(corpora_test_4['500 Word List'],min_count=0,workers=4)\n",
    "X_test_w2v_5 = gensim.models.Word2Vec(corpora_test_5['500 Word List'],min_count=0,workers=4)\n",
    "\"\"\""
   ]
  },
  {
   "cell_type": "markdown",
   "metadata": {},
   "source": [
    "### Class Encoding"
   ]
  },
  {
   "cell_type": "code",
   "execution_count": 41,
   "metadata": {},
   "outputs": [
    {
     "data": {
      "text/plain": [
       "\"\\nEncoder = LabelEncoder()\\n\\nle_1 = Encoder.fit(corpora_train_1['Author'])\\nle_2 = Encoder.fit(corpora_train_2['Author'])\\nle_3 = Encoder.fit(corpora_train_3['Author'])\\nle_4 = Encoder.fit(corpora_train_4['Author'])\\nle_5 = Encoder.fit(corpora_train_5['Author'])\\n\""
      ]
     },
     "execution_count": 41,
     "metadata": {},
     "output_type": "execute_result"
    }
   ],
   "source": [
    "\"\"\"\n",
    "Encoder = LabelEncoder()\n",
    "\n",
    "le_1 = Encoder.fit(corpora_train_1['Author'])\n",
    "le_2 = Encoder.fit(corpora_train_2['Author'])\n",
    "le_3 = Encoder.fit(corpora_train_3['Author'])\n",
    "le_4 = Encoder.fit(corpora_train_4['Author'])\n",
    "le_5 = Encoder.fit(corpora_train_5['Author'])\n",
    "\"\"\""
   ]
  },
  {
   "cell_type": "code",
   "execution_count": 42,
   "metadata": {},
   "outputs": [
    {
     "data": {
      "text/plain": [
       "\"\\nY_train_1 = pd.Series(le_1.transform(corpora_train_1['Author']),index=corpora_train_1.index)\\nY_train_2 = pd.Series(le_2.transform(corpora_train_2['Author']),index=corpora_train_2.index)\\nY_train_3 = pd.Series(le_3.transform(corpora_train_3['Author']),index=corpora_train_3.index)\\nY_train_4 = pd.Series(le_4.transform(corpora_train_4['Author']),index=corpora_train_4.index)\\nY_train_5 = pd.Series(le_4.transform(corpora_train_5['Author']),index=corpora_train_5.index)\\n\""
      ]
     },
     "execution_count": 42,
     "metadata": {},
     "output_type": "execute_result"
    }
   ],
   "source": [
    "\"\"\"\n",
    "Y_train_1 = pd.Series(le_1.transform(corpora_train_1['Author']),index=corpora_train_1.index)\n",
    "Y_train_2 = pd.Series(le_2.transform(corpora_train_2['Author']),index=corpora_train_2.index)\n",
    "Y_train_3 = pd.Series(le_3.transform(corpora_train_3['Author']),index=corpora_train_3.index)\n",
    "Y_train_4 = pd.Series(le_4.transform(corpora_train_4['Author']),index=corpora_train_4.index)\n",
    "Y_train_5 = pd.Series(le_4.transform(corpora_train_5['Author']),index=corpora_train_5.index)\n",
    "\"\"\""
   ]
  },
  {
   "cell_type": "code",
   "execution_count": 43,
   "metadata": {},
   "outputs": [],
   "source": [
    "Y_train_1 = corpora_train_1['Author']\n",
    "Y_train_2 = corpora_train_2['Author']\n",
    "Y_train_3 = corpora_train_3['Author']\n",
    "Y_train_4 = corpora_train_4['Author']\n",
    "Y_train_5 = corpora_train_5['Author']"
   ]
  },
  {
   "cell_type": "code",
   "execution_count": 44,
   "metadata": {},
   "outputs": [
    {
     "data": {
      "text/plain": [
       "\"\\nY_test_1 = pd.Series(le_1.transform(corpora_test_1['Author']),index=corpora_test_1.index)\\nY_test_2 = pd.Series(le_2.transform(corpora_test_2['Author']),index=corpora_test_2.index)\\nY_test_3 = pd.Series(le_3.transform(corpora_test_3['Author']),index=corpora_test_3.index)\\nY_test_4 = pd.Series(le_4.transform(corpora_test_4['Author']),index=corpora_test_4.index)\\nY_test_5 = pd.Series(le_5.transform(corpora_test_5['Author']),index=corpora_test_5.index)\\n\""
      ]
     },
     "execution_count": 44,
     "metadata": {},
     "output_type": "execute_result"
    }
   ],
   "source": [
    "\"\"\"\n",
    "Y_test_1 = pd.Series(le_1.transform(corpora_test_1['Author']),index=corpora_test_1.index)\n",
    "Y_test_2 = pd.Series(le_2.transform(corpora_test_2['Author']),index=corpora_test_2.index)\n",
    "Y_test_3 = pd.Series(le_3.transform(corpora_test_3['Author']),index=corpora_test_3.index)\n",
    "Y_test_4 = pd.Series(le_4.transform(corpora_test_4['Author']),index=corpora_test_4.index)\n",
    "Y_test_5 = pd.Series(le_5.transform(corpora_test_5['Author']),index=corpora_test_5.index)\n",
    "\"\"\""
   ]
  },
  {
   "cell_type": "code",
   "execution_count": 45,
   "metadata": {},
   "outputs": [],
   "source": [
    "Y_test_1 = corpora_test_1['Author']\n",
    "Y_test_2 = corpora_test_2['Author']\n",
    "Y_test_3 = corpora_test_3['Author']\n",
    "Y_test_4 = corpora_test_4['Author']\n",
    "Y_test_5 = corpora_test_5['Author']"
   ]
  },
  {
   "cell_type": "markdown",
   "metadata": {},
   "source": [
    "## Classification Models"
   ]
  },
  {
   "cell_type": "markdown",
   "metadata": {},
   "source": [
    "### k-nearest neighbors"
   ]
  },
  {
   "cell_type": "code",
   "execution_count": 46,
   "metadata": {},
   "outputs": [],
   "source": [
    "from sklearn.model_selection import RandomizedSearchCV\n",
    "\n",
    "NB = MultinomialNB()\n",
    "\n",
    "parameters = {\n",
    "    'alpha':[1.0],\n",
    "    'fit_prior':[True]\n",
    "}\n",
    "\n",
    "clf = RandomizedSearchCV(NB, parameters)"
   ]
  },
  {
   "cell_type": "code",
   "execution_count": 47,
   "metadata": {},
   "outputs": [
    {
     "data": {
      "text/plain": [
       "'\\nclf_NB_cv_2 = clf.fit(X_train_cv_2,Y_train_2)\\nclf_NB_cv_3 = clf.fit(X_train_cv_3,Y_train_3)\\nclf_NB_cv_4 = clf.fit(X_train_cv_4,Y_train_4)\\nclf_NB_cv_5 = clf.fit(X_train_cv_5,Y_train_5)\\n'"
      ]
     },
     "execution_count": 47,
     "metadata": {},
     "output_type": "execute_result"
    }
   ],
   "source": [
    "clf_NB_tf_idf = clf.fit(X_train_tf_idf_1,Y_train_1)\n",
    "\"\"\"\n",
    "clf_NB_cv_2 = clf.fit(X_train_cv_2,Y_train_2)\n",
    "clf_NB_cv_3 = clf.fit(X_train_cv_3,Y_train_3)\n",
    "clf_NB_cv_4 = clf.fit(X_train_cv_4,Y_train_4)\n",
    "clf_NB_cv_5 = clf.fit(X_train_cv_5,Y_train_5)\n",
    "\"\"\""
   ]
  },
  {
   "cell_type": "code",
   "execution_count": 48,
   "metadata": {},
   "outputs": [],
   "source": [
    "NB_tf_idf_1 = clf_NB_tf_idf.best_estimator_\n",
    "NB_tf_idf_2 = clf_NB_tf_idf.best_estimator_\n",
    "NB_tf_idf_3 = clf_NB_tf_idf.best_estimator_\n",
    "NB_tf_idf_4 = clf_NB_tf_idf.best_estimator_\n",
    "NB_tf_idf_5 = clf_NB_tf_idf.best_estimator_"
   ]
  },
  {
   "cell_type": "code",
   "execution_count": 49,
   "metadata": {},
   "outputs": [
    {
     "data": {
      "text/plain": [
       "{'fit_prior': True, 'alpha': 1.0}"
      ]
     },
     "execution_count": 49,
     "metadata": {},
     "output_type": "execute_result"
    }
   ],
   "source": [
    "clf_NB_tf_idf.best_params_"
   ]
  },
  {
   "cell_type": "code",
   "execution_count": 50,
   "metadata": {},
   "outputs": [
    {
     "data": {
      "text/plain": [
       "{'mean_fit_time': array([0.0552031]),\n",
       " 'std_fit_time': array([0.01135662]),\n",
       " 'mean_score_time': array([0.00760045]),\n",
       " 'std_score_time': array([0.0024167]),\n",
       " 'param_fit_prior': masked_array(data=[True],\n",
       "              mask=[False],\n",
       "        fill_value='?',\n",
       "             dtype=object),\n",
       " 'param_alpha': masked_array(data=[1.0],\n",
       "              mask=[False],\n",
       "        fill_value='?',\n",
       "             dtype=object),\n",
       " 'params': [{'fit_prior': True, 'alpha': 1.0}],\n",
       " 'split0_test_score': array([0.91989199]),\n",
       " 'split1_test_score': array([0.91539154]),\n",
       " 'split2_test_score': array([0.96396396]),\n",
       " 'split3_test_score': array([0.97117117]),\n",
       " 'split4_test_score': array([0.95045045]),\n",
       " 'mean_test_score': array([0.94417382]),\n",
       " 'std_test_score': array([0.02270652]),\n",
       " 'rank_test_score': array([1])}"
      ]
     },
     "execution_count": 50,
     "metadata": {},
     "output_type": "execute_result"
    }
   ],
   "source": [
    "clf_NB_tf_idf.cv_results_"
   ]
  },
  {
   "cell_type": "code",
   "execution_count": 51,
   "metadata": {},
   "outputs": [
    {
     "data": {
      "text/plain": [
       "MultinomialNB(alpha=1.0, class_prior=None, fit_prior=True)"
      ]
     },
     "execution_count": 51,
     "metadata": {},
     "output_type": "execute_result"
    }
   ],
   "source": [
    "NB_tf_idf_1.fit(X_train_tf_idf_1,Y_train_1)\n",
    "NB_tf_idf_2.fit(X_train_tf_idf_2,Y_train_2)\n",
    "NB_tf_idf_3.fit(X_train_tf_idf_3,Y_train_3)\n",
    "NB_tf_idf_4.fit(X_train_tf_idf_4,Y_train_4)\n",
    "NB_tf_idf_5.fit(X_train_tf_idf_5,Y_train_5)"
   ]
  },
  {
   "cell_type": "code",
   "execution_count": 52,
   "metadata": {},
   "outputs": [],
   "source": [
    "predictions_NB_tf_idf_1 = NB_tf_idf_1.predict(X_test_tf_idf_1)\n",
    "predictions_NB_tf_idf_2 = NB_tf_idf_2.predict(X_test_tf_idf_2)\n",
    "predictions_NB_tf_idf_3 = NB_tf_idf_3.predict(X_test_tf_idf_3)\n",
    "predictions_NB_tf_idf_4 = NB_tf_idf_4.predict(X_test_tf_idf_4)\n",
    "predictions_NB_tf_idf_5 = NB_tf_idf_5.predict(X_test_tf_idf_5)"
   ]
  },
  {
   "cell_type": "code",
   "execution_count": 53,
   "metadata": {
    "scrolled": true
   },
   "outputs": [
    {
     "name": "stdout",
     "output_type": "stream",
     "text": [
      "Results on the test set:\n",
      "                           precision    recall  f1-score   support\n",
      "\n",
      "         Almada Negreiros       0.00      0.00      0.00        15\n",
      "    Camilo Castelo Branco       0.41      0.14      0.21       308\n",
      "           Eca de Queiros       0.17      0.68      0.27       179\n",
      "Jose Rodrigues dos Santos       0.46      0.29      0.36       463\n",
      "            Jose Saramago       0.44      0.19      0.27       406\n",
      "      Luisa Marques Silva       0.02      0.11      0.04        18\n",
      "\n",
      "                 accuracy                           0.27      1389\n",
      "                macro avg       0.25      0.24      0.19      1389\n",
      "             weighted avg       0.40      0.27      0.28      1389\n",
      "\n",
      "                           precision    recall  f1-score   support\n",
      "\n",
      "         Almada Negreiros       0.00      0.00      0.00        14\n",
      "    Camilo Castelo Branco       0.35      0.29      0.32       309\n",
      "           Eca de Queiros       0.16      0.52      0.25       179\n",
      "Jose Rodrigues dos Santos       0.41      0.34      0.37       462\n",
      "            Jose Saramago       0.45      0.13      0.20       406\n",
      "      Luisa Marques Silva       0.02      0.06      0.03        18\n",
      "\n",
      "                 accuracy                           0.28      1388\n",
      "                macro avg       0.23      0.22      0.19      1388\n",
      "             weighted avg       0.37      0.28      0.28      1388\n",
      "\n",
      "                           precision    recall  f1-score   support\n",
      "\n",
      "         Almada Negreiros       0.00      0.00      0.00        14\n",
      "    Camilo Castelo Branco       0.56      0.42      0.48       309\n",
      "           Eca de Queiros       0.18      0.67      0.28       179\n",
      "Jose Rodrigues dos Santos       0.56      0.39      0.46       462\n",
      "            Jose Saramago       0.62      0.19      0.29       406\n",
      "      Luisa Marques Silva       0.03      0.06      0.04        18\n",
      "\n",
      "                 accuracy                           0.36      1388\n",
      "                macro avg       0.33      0.29      0.26      1388\n",
      "             weighted avg       0.52      0.36      0.38      1388\n",
      "\n",
      "                           precision    recall  f1-score   support\n",
      "\n",
      "         Almada Negreiros       0.00      0.00      0.00        14\n",
      "    Camilo Castelo Branco       0.72      0.48      0.58       308\n",
      "           Eca de Queiros       0.24      0.81      0.37       179\n",
      "Jose Rodrigues dos Santos       0.73      0.55      0.63       463\n",
      "            Jose Saramago       0.65      0.31      0.42       406\n",
      "      Luisa Marques Silva       0.02      0.06      0.03        18\n",
      "\n",
      "                 accuracy                           0.48      1388\n",
      "                macro avg       0.39      0.37      0.34      1388\n",
      "             weighted avg       0.63      0.48      0.51      1388\n",
      "\n",
      "                           precision    recall  f1-score   support\n",
      "\n",
      "         Almada Negreiros       0.00      0.00      0.00        14\n",
      "    Camilo Castelo Branco       0.64      0.25      0.36       308\n",
      "           Eca de Queiros       0.25      0.69      0.36       179\n",
      "Jose Rodrigues dos Santos       0.57      0.52      0.54       463\n",
      "            Jose Saramago       0.68      0.50      0.58       406\n",
      "      Luisa Marques Silva       0.03      0.06      0.04        18\n",
      "\n",
      "                 accuracy                           0.47      1388\n",
      "                macro avg       0.36      0.34      0.31      1388\n",
      "             weighted avg       0.56      0.47      0.48      1388\n",
      "\n"
     ]
    }
   ],
   "source": [
    "print('Results on the test set:')\n",
    "print(classification_report(y_true = Y_test_1, y_pred = predictions_NB_tf_idf_1))\n",
    "print(classification_report(y_true = Y_test_2, y_pred = predictions_NB_tf_idf_2))\n",
    "print(classification_report(y_true = Y_test_3, y_pred = predictions_NB_tf_idf_3))\n",
    "print(classification_report(y_true = Y_test_4, y_pred = predictions_NB_tf_idf_4))\n",
    "print(classification_report(y_true = Y_test_5, y_pred = predictions_NB_tf_idf_5))"
   ]
  },
  {
   "cell_type": "code",
   "execution_count": 54,
   "metadata": {
    "scrolled": false
   },
   "outputs": [
    {
     "name": "stdout",
     "output_type": "stream",
     "text": [
      "Confusion matrix of the test set:\n",
      "[[  0   1   8   4   2   0]\n",
      " [  0  44 132  78  39  15]\n",
      " [  0   9 122  29   9  10]\n",
      " [  0  29 227 135  47  25]\n",
      " [  0  20 228  44  77  37]\n",
      " [  0   4  10   1   1   2]]\n",
      "[[  0   1   7   3   2   1]\n",
      " [  2  90 121  63  22  11]\n",
      " [  0  14  93  55   9   8]\n",
      " [  2  75 185 155  29  16]\n",
      " [  2  77 163  93  52  19]\n",
      " [  0   2   8   6   1   1]]\n",
      "[[  0   0   8   3   3   0]\n",
      " [  0 129 122  42  13   3]\n",
      " [  0  27 120  26   6   0]\n",
      " [  0  29 218 179  22  14]\n",
      " [  1  44 205  64  76  16]\n",
      " [  0   1  11   3   2   1]]\n",
      "[[  0   1   6   2   5   0]\n",
      " [  0 147 139  16   4   2]\n",
      " [  0  10 145  17   6   1]\n",
      " [  0  11 129 253  49  21]\n",
      " [  0  34 169  53 125  25]\n",
      " [  0   0   9   5   3   1]]\n",
      "[[  0   1   3   8   2   0]\n",
      " [  0  76 133  62  33   4]\n",
      " [  0   8 124  34  13   0]\n",
      " [  3  18 138 242  45  17]\n",
      " [  0  15 101  71 205  14]\n",
      " [  0   0   4  11   2   1]]\n"
     ]
    }
   ],
   "source": [
    "print('Confusion matrix of the test set:')\n",
    "print(confusion_matrix(y_true = Y_test_1, y_pred = predictions_NB_tf_idf_1))\n",
    "print(confusion_matrix(y_true = Y_test_2, y_pred = predictions_NB_tf_idf_2))\n",
    "print(confusion_matrix(y_true = Y_test_3, y_pred = predictions_NB_tf_idf_3))\n",
    "print(confusion_matrix(y_true = Y_test_4, y_pred = predictions_NB_tf_idf_4))\n",
    "print(confusion_matrix(y_true = Y_test_5, y_pred = predictions_NB_tf_idf_5))"
   ]
  },
  {
   "cell_type": "code",
   "execution_count": 55,
   "metadata": {},
   "outputs": [],
   "source": [
    "accuracy_NB_tf_idf_1 = accuracy_score(Y_test_1,predictions_NB_tf_idf_1)*100\n",
    "accuracy_NB_tf_idf_2 = accuracy_score(Y_test_2,predictions_NB_tf_idf_2)*100\n",
    "accuracy_NB_tf_idf_3 = accuracy_score(Y_test_3,predictions_NB_tf_idf_3)*100\n",
    "accuracy_NB_tf_idf_4 = accuracy_score(Y_test_4,predictions_NB_tf_idf_4)*100\n",
    "accuracy_NB_tf_idf_5 = accuracy_score(Y_test_5,predictions_NB_tf_idf_5)*100"
   ]
  },
  {
   "cell_type": "code",
   "execution_count": 56,
   "metadata": {},
   "outputs": [
    {
     "data": {
      "text/plain": [
       "37.387988787986295"
      ]
     },
     "execution_count": 56,
     "metadata": {},
     "output_type": "execute_result"
    }
   ],
   "source": [
    "accuracy_NB_tf_idf = (accuracy_NB_tf_idf_1 + accuracy_NB_tf_idf_2 + accuracy_NB_tf_idf_3 + accuracy_NB_tf_idf_4 + accuracy_NB_tf_idf_5)/5\n",
    "accuracy_NB_tf_idf"
   ]
  }
 ],
 "metadata": {
  "kernelspec": {
   "display_name": "Python 3",
   "language": "python",
   "name": "python3"
  },
  "language_info": {
   "codemirror_mode": {
    "name": "ipython",
    "version": 3
   },
   "file_extension": ".py",
   "mimetype": "text/x-python",
   "name": "python",
   "nbconvert_exporter": "python",
   "pygments_lexer": "ipython3",
   "version": "3.7.3"
  }
 },
 "nbformat": 4,
 "nbformat_minor": 2
}
